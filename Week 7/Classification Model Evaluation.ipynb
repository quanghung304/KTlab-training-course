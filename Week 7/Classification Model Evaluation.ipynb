{
 "cells": [
  {
   "cell_type": "code",
   "execution_count": 1,
   "id": "9f8d5f32",
   "metadata": {},
   "outputs": [
    {
     "data": {
      "text/html": [
       "<div>\n",
       "<style scoped>\n",
       "    .dataframe tbody tr th:only-of-type {\n",
       "        vertical-align: middle;\n",
       "    }\n",
       "\n",
       "    .dataframe tbody tr th {\n",
       "        vertical-align: top;\n",
       "    }\n",
       "\n",
       "    .dataframe thead th {\n",
       "        text-align: right;\n",
       "    }\n",
       "</style>\n",
       "<table border=\"1\" class=\"dataframe\">\n",
       "  <thead>\n",
       "    <tr style=\"text-align: right;\">\n",
       "      <th></th>\n",
       "      <th>Pregnancies</th>\n",
       "      <th>Glucose</th>\n",
       "      <th>BloodPressure</th>\n",
       "      <th>SkinThickness</th>\n",
       "      <th>Insulin</th>\n",
       "      <th>BMI</th>\n",
       "      <th>DiabetesPedigreeFunction</th>\n",
       "      <th>Age</th>\n",
       "      <th>Outcome</th>\n",
       "    </tr>\n",
       "  </thead>\n",
       "  <tbody>\n",
       "    <tr>\n",
       "      <th>0</th>\n",
       "      <td>6</td>\n",
       "      <td>148</td>\n",
       "      <td>72</td>\n",
       "      <td>35</td>\n",
       "      <td>0</td>\n",
       "      <td>33.6</td>\n",
       "      <td>0.627</td>\n",
       "      <td>50</td>\n",
       "      <td>1</td>\n",
       "    </tr>\n",
       "    <tr>\n",
       "      <th>1</th>\n",
       "      <td>1</td>\n",
       "      <td>85</td>\n",
       "      <td>66</td>\n",
       "      <td>29</td>\n",
       "      <td>0</td>\n",
       "      <td>26.6</td>\n",
       "      <td>0.351</td>\n",
       "      <td>31</td>\n",
       "      <td>0</td>\n",
       "    </tr>\n",
       "    <tr>\n",
       "      <th>2</th>\n",
       "      <td>8</td>\n",
       "      <td>183</td>\n",
       "      <td>64</td>\n",
       "      <td>0</td>\n",
       "      <td>0</td>\n",
       "      <td>23.3</td>\n",
       "      <td>0.672</td>\n",
       "      <td>32</td>\n",
       "      <td>1</td>\n",
       "    </tr>\n",
       "    <tr>\n",
       "      <th>3</th>\n",
       "      <td>1</td>\n",
       "      <td>89</td>\n",
       "      <td>66</td>\n",
       "      <td>23</td>\n",
       "      <td>94</td>\n",
       "      <td>28.1</td>\n",
       "      <td>0.167</td>\n",
       "      <td>21</td>\n",
       "      <td>0</td>\n",
       "    </tr>\n",
       "    <tr>\n",
       "      <th>4</th>\n",
       "      <td>0</td>\n",
       "      <td>137</td>\n",
       "      <td>40</td>\n",
       "      <td>35</td>\n",
       "      <td>168</td>\n",
       "      <td>43.1</td>\n",
       "      <td>2.288</td>\n",
       "      <td>33</td>\n",
       "      <td>1</td>\n",
       "    </tr>\n",
       "    <tr>\n",
       "      <th>...</th>\n",
       "      <td>...</td>\n",
       "      <td>...</td>\n",
       "      <td>...</td>\n",
       "      <td>...</td>\n",
       "      <td>...</td>\n",
       "      <td>...</td>\n",
       "      <td>...</td>\n",
       "      <td>...</td>\n",
       "      <td>...</td>\n",
       "    </tr>\n",
       "    <tr>\n",
       "      <th>763</th>\n",
       "      <td>10</td>\n",
       "      <td>101</td>\n",
       "      <td>76</td>\n",
       "      <td>48</td>\n",
       "      <td>180</td>\n",
       "      <td>32.9</td>\n",
       "      <td>0.171</td>\n",
       "      <td>63</td>\n",
       "      <td>0</td>\n",
       "    </tr>\n",
       "    <tr>\n",
       "      <th>764</th>\n",
       "      <td>2</td>\n",
       "      <td>122</td>\n",
       "      <td>70</td>\n",
       "      <td>27</td>\n",
       "      <td>0</td>\n",
       "      <td>36.8</td>\n",
       "      <td>0.340</td>\n",
       "      <td>27</td>\n",
       "      <td>0</td>\n",
       "    </tr>\n",
       "    <tr>\n",
       "      <th>765</th>\n",
       "      <td>5</td>\n",
       "      <td>121</td>\n",
       "      <td>72</td>\n",
       "      <td>23</td>\n",
       "      <td>112</td>\n",
       "      <td>26.2</td>\n",
       "      <td>0.245</td>\n",
       "      <td>30</td>\n",
       "      <td>0</td>\n",
       "    </tr>\n",
       "    <tr>\n",
       "      <th>766</th>\n",
       "      <td>1</td>\n",
       "      <td>126</td>\n",
       "      <td>60</td>\n",
       "      <td>0</td>\n",
       "      <td>0</td>\n",
       "      <td>30.1</td>\n",
       "      <td>0.349</td>\n",
       "      <td>47</td>\n",
       "      <td>1</td>\n",
       "    </tr>\n",
       "    <tr>\n",
       "      <th>767</th>\n",
       "      <td>1</td>\n",
       "      <td>93</td>\n",
       "      <td>70</td>\n",
       "      <td>31</td>\n",
       "      <td>0</td>\n",
       "      <td>30.4</td>\n",
       "      <td>0.315</td>\n",
       "      <td>23</td>\n",
       "      <td>0</td>\n",
       "    </tr>\n",
       "  </tbody>\n",
       "</table>\n",
       "<p>768 rows × 9 columns</p>\n",
       "</div>"
      ],
      "text/plain": [
       "     Pregnancies  Glucose  BloodPressure  SkinThickness  Insulin   BMI  \\\n",
       "0              6      148             72             35        0  33.6   \n",
       "1              1       85             66             29        0  26.6   \n",
       "2              8      183             64              0        0  23.3   \n",
       "3              1       89             66             23       94  28.1   \n",
       "4              0      137             40             35      168  43.1   \n",
       "..           ...      ...            ...            ...      ...   ...   \n",
       "763           10      101             76             48      180  32.9   \n",
       "764            2      122             70             27        0  36.8   \n",
       "765            5      121             72             23      112  26.2   \n",
       "766            1      126             60              0        0  30.1   \n",
       "767            1       93             70             31        0  30.4   \n",
       "\n",
       "     DiabetesPedigreeFunction  Age  Outcome  \n",
       "0                       0.627   50        1  \n",
       "1                       0.351   31        0  \n",
       "2                       0.672   32        1  \n",
       "3                       0.167   21        0  \n",
       "4                       2.288   33        1  \n",
       "..                        ...  ...      ...  \n",
       "763                     0.171   63        0  \n",
       "764                     0.340   27        0  \n",
       "765                     0.245   30        0  \n",
       "766                     0.349   47        1  \n",
       "767                     0.315   23        0  \n",
       "\n",
       "[768 rows x 9 columns]"
      ]
     },
     "execution_count": 1,
     "metadata": {},
     "output_type": "execute_result"
    }
   ],
   "source": [
    "import pandas as pd\n",
    "\n",
    "diabetes = pd.read_csv('diabetes.csv')\n",
    "diabetes"
   ]
  },
  {
   "cell_type": "code",
   "execution_count": 2,
   "id": "439d861d",
   "metadata": {},
   "outputs": [
    {
     "data": {
      "text/plain": [
       "(724, 9)"
      ]
     },
     "execution_count": 2,
     "metadata": {},
     "output_type": "execute_result"
    }
   ],
   "source": [
    "# Remove unusual rows of data\n",
    "diabetes_mod = diabetes[(diabetes.BloodPressure != 0) & (diabetes.BMI != 0) & \n",
    "                        (diabetes.Glucose != 0)]\n",
    "diabetes_mod.shape"
   ]
  },
  {
   "cell_type": "code",
   "execution_count": 3,
   "id": "f6f4b6c2",
   "metadata": {
    "scrolled": true
   },
   "outputs": [
    {
     "data": {
      "text/html": [
       "<div>\n",
       "<style scoped>\n",
       "    .dataframe tbody tr th:only-of-type {\n",
       "        vertical-align: middle;\n",
       "    }\n",
       "\n",
       "    .dataframe tbody tr th {\n",
       "        vertical-align: top;\n",
       "    }\n",
       "\n",
       "    .dataframe thead th {\n",
       "        text-align: right;\n",
       "    }\n",
       "</style>\n",
       "<table border=\"1\" class=\"dataframe\">\n",
       "  <thead>\n",
       "    <tr style=\"text-align: right;\">\n",
       "      <th></th>\n",
       "      <th>Pregnancies</th>\n",
       "      <th>Glucose</th>\n",
       "      <th>BMI</th>\n",
       "      <th>DiabetesPedigreeFunction</th>\n",
       "    </tr>\n",
       "  </thead>\n",
       "  <tbody>\n",
       "    <tr>\n",
       "      <th>0</th>\n",
       "      <td>6</td>\n",
       "      <td>148</td>\n",
       "      <td>33.6</td>\n",
       "      <td>0.627</td>\n",
       "    </tr>\n",
       "    <tr>\n",
       "      <th>1</th>\n",
       "      <td>1</td>\n",
       "      <td>85</td>\n",
       "      <td>26.6</td>\n",
       "      <td>0.351</td>\n",
       "    </tr>\n",
       "    <tr>\n",
       "      <th>2</th>\n",
       "      <td>8</td>\n",
       "      <td>183</td>\n",
       "      <td>23.3</td>\n",
       "      <td>0.672</td>\n",
       "    </tr>\n",
       "    <tr>\n",
       "      <th>3</th>\n",
       "      <td>1</td>\n",
       "      <td>89</td>\n",
       "      <td>28.1</td>\n",
       "      <td>0.167</td>\n",
       "    </tr>\n",
       "    <tr>\n",
       "      <th>4</th>\n",
       "      <td>0</td>\n",
       "      <td>137</td>\n",
       "      <td>43.1</td>\n",
       "      <td>2.288</td>\n",
       "    </tr>\n",
       "    <tr>\n",
       "      <th>...</th>\n",
       "      <td>...</td>\n",
       "      <td>...</td>\n",
       "      <td>...</td>\n",
       "      <td>...</td>\n",
       "    </tr>\n",
       "    <tr>\n",
       "      <th>763</th>\n",
       "      <td>10</td>\n",
       "      <td>101</td>\n",
       "      <td>32.9</td>\n",
       "      <td>0.171</td>\n",
       "    </tr>\n",
       "    <tr>\n",
       "      <th>764</th>\n",
       "      <td>2</td>\n",
       "      <td>122</td>\n",
       "      <td>36.8</td>\n",
       "      <td>0.340</td>\n",
       "    </tr>\n",
       "    <tr>\n",
       "      <th>765</th>\n",
       "      <td>5</td>\n",
       "      <td>121</td>\n",
       "      <td>26.2</td>\n",
       "      <td>0.245</td>\n",
       "    </tr>\n",
       "    <tr>\n",
       "      <th>766</th>\n",
       "      <td>1</td>\n",
       "      <td>126</td>\n",
       "      <td>30.1</td>\n",
       "      <td>0.349</td>\n",
       "    </tr>\n",
       "    <tr>\n",
       "      <th>767</th>\n",
       "      <td>1</td>\n",
       "      <td>93</td>\n",
       "      <td>30.4</td>\n",
       "      <td>0.315</td>\n",
       "    </tr>\n",
       "  </tbody>\n",
       "</table>\n",
       "<p>724 rows × 4 columns</p>\n",
       "</div>"
      ],
      "text/plain": [
       "     Pregnancies  Glucose   BMI  DiabetesPedigreeFunction\n",
       "0              6      148  33.6                     0.627\n",
       "1              1       85  26.6                     0.351\n",
       "2              8      183  23.3                     0.672\n",
       "3              1       89  28.1                     0.167\n",
       "4              0      137  43.1                     2.288\n",
       "..           ...      ...   ...                       ...\n",
       "763           10      101  32.9                     0.171\n",
       "764            2      122  36.8                     0.340\n",
       "765            5      121  26.2                     0.245\n",
       "766            1      126  30.1                     0.349\n",
       "767            1       93  30.4                     0.315\n",
       "\n",
       "[724 rows x 4 columns]"
      ]
     },
     "execution_count": 3,
     "metadata": {},
     "output_type": "execute_result"
    }
   ],
   "source": [
    "# Features/Response\n",
    "feature_names = ['Pregnancies', 'Glucose', 'BMI', 'DiabetesPedigreeFunction']\n",
    "X = diabetes_mod[feature_names]\n",
    "y = diabetes_mod.Outcome\n",
    "X"
   ]
  },
  {
   "cell_type": "code",
   "execution_count": 71,
   "id": "c0392a63",
   "metadata": {},
   "outputs": [],
   "source": [
    "#after the hyper-parameter tuning phase, we’ve selected the logistic regression model with the given hyper-parameters.\n",
    "\n",
    "from sklearn.linear_model import LogisticRegression\n",
    "logreg = LogisticRegression(C=1, multi_class='ovr', penalty='l2', \n",
    "                            solver='liblinear')"
   ]
  },
  {
   "cell_type": "code",
   "execution_count": 72,
   "id": "6e645221",
   "metadata": {},
   "outputs": [
    {
     "name": "stdout",
     "output_type": "stream",
     "text": [
      "Accuracy 0.7955801104972375\n"
     ]
    }
   ],
   "source": [
    "#I. Model Evaluation Procedures\n",
    "#1 Train/Test Split\n",
    "from sklearn import model_selection #to import train_test_split and cross_val_score\n",
    "from sklearn import metrics #to import accuracy_score\n",
    "X_train, X_test, y_train, y_test = train_test_split(X, y, stratify = y, \n",
    "                                                    random_state = 0)\n",
    "logreg.fit(X_train, y_train)\n",
    "y_pred = logreg.predict(X_test)\n",
    "\n",
    "accuracy = accuracy_score(y_test, y_pred)\n",
    "print(\"Accuracy {}\".format(accuracy))"
   ]
  },
  {
   "cell_type": "code",
   "execution_count": 14,
   "id": "fa02bca0",
   "metadata": {},
   "outputs": [
    {
     "name": "stdout",
     "output_type": "stream",
     "text": [
      "Accuracy 0.7790525114155251\n"
     ]
    }
   ],
   "source": [
    "#2 K-Fold Cross Validation\n",
    "accuracy = cross_val_score(logreg, X, y, cv = 10, scoring='accuracy').mean()\n",
    "print(\"Accuracy {}\".format(accuracy))"
   ]
  },
  {
   "cell_type": "code",
   "execution_count": 63,
   "id": "8b176737",
   "metadata": {},
   "outputs": [
    {
     "name": "stdout",
     "output_type": "stream",
     "text": [
      "[[108  11]\n",
      " [ 26  36]]\n"
     ]
    }
   ],
   "source": [
    "#II. Model Evaluation Metrics\n",
    "#Confusion Matrix\n",
    "#confusion_matrix from sklearn.metrics\n",
    "confusion = confusion_matrix(y_test, y_pred)\n",
    "print(confusion)"
   ]
  },
  {
   "cell_type": "code",
   "execution_count": 46,
   "id": "bfe5f5b1",
   "metadata": {},
   "outputs": [
    {
     "data": {
      "text/plain": [
       "<sklearn.metrics._plot.confusion_matrix.ConfusionMatrixDisplay at 0x21193c10160>"
      ]
     },
     "execution_count": 46,
     "metadata": {},
     "output_type": "execute_result"
    },
    {
     "data": {
      "image/png": "[encoded data removed]",
      "text/plain": [
       "<Figure size 432x288 with 2 Axes>"
      ]
     },
     "metadata": {
      "needs_background": "light"
     },
     "output_type": "display_data"
    }
   ],
   "source": [
    "#plot_confusion_matrix from sklearn.metrics\n",
    "plot_confusion_matrix(logreg, X_test, y_test, display_labels=['Non Diabetic', \n",
    "                                                              'Diabetic'])"
   ]
  },
  {
   "cell_type": "code",
   "execution_count": 73,
   "id": "c5d4a3c8",
   "metadata": {},
   "outputs": [
    {
     "data": {
      "text/plain": [
       "36"
      ]
     },
     "execution_count": 73,
     "metadata": {},
     "output_type": "execute_result"
    }
   ],
   "source": [
    "#Metrics computed from the confusion matrix\n",
    "\"\"\"\n",
    "NOTE : Choosing which metric to use depends on the business objective or thenature of the problem.\n",
    "First we’ll parse the obtained confusion matrix\n",
    "\"\"\"\n",
    "# True Positives\n",
    "TP = confusion[1, 1]\n",
    "# True Negatives\n",
    "TN = confusion[0, 0]\n",
    "# False Positives\n",
    "FP = confusion[0, 1]\n",
    "# False Negatives\n",
    "FN = confusion[1, 0]\n",
    "TP"
   ]
  },
  {
   "cell_type": "code",
   "execution_count": 36,
   "id": "37be6d23",
   "metadata": {},
   "outputs": [
    {
     "name": "stdout",
     "output_type": "stream",
     "text": [
      "0.7955801104972375\n",
      "0.7955801104972375\n"
     ]
    }
   ],
   "source": [
    "#1 Classification accuracy\n",
    "#the ratio of correct predictions to the total no. of predictions. Method: accuracy_score\n",
    "\n",
    "print((TP + TN) / (TP + TN + FP + FN))\n",
    "print(accuracy_score(y_test, y_pred))"
   ]
  },
  {
   "cell_type": "code",
   "execution_count": 57,
   "id": "9335d622",
   "metadata": {},
   "outputs": [
    {
     "name": "stdout",
     "output_type": "stream",
     "text": [
      "0.5806451612903226\n",
      "0.5806451612903226\n"
     ]
    }
   ],
   "source": [
    "#2 Sensitivity/Recall\n",
    "#the ratio of correct positive predictions to the total no. of positive predictions. Method: recall_score \n",
    "\n",
    "from sklearn import metrics\n",
    "print(TP / (TP + FN))\n",
    "print(recall_score(y_test, y_pred))"
   ]
  },
  {
   "cell_type": "code",
   "execution_count": 53,
   "id": "d89c7701",
   "metadata": {},
   "outputs": [
    {
     "name": "stdout",
     "output_type": "stream",
     "text": [
      "0.907563025210084\n"
     ]
    }
   ],
   "source": [
    "#3 Specificity\n",
    "#the ratio of correct negative predictions to the total no. of negative predictions. No method available\n",
    "\n",
    "print(TN / (TN + FP))"
   ]
  },
  {
   "cell_type": "code",
   "execution_count": 54,
   "id": "5490c367",
   "metadata": {},
   "outputs": [
    {
     "name": "stdout",
     "output_type": "stream",
     "text": [
      "0.09243697478991597\n"
     ]
    }
   ],
   "source": [
    "#4 False Positive Rate\n",
    "#the ratio of negative predictions that were determined to be positive to the total number of negative predictions. No method available\n",
    "\n",
    "print(FP / (TN + FP))"
   ]
  },
  {
   "cell_type": "code",
   "execution_count": 61,
   "id": "bbaed16b",
   "metadata": {},
   "outputs": [
    {
     "name": "stdout",
     "output_type": "stream",
     "text": [
      "0.7659574468085106\n",
      "0.7659574468085106\n"
     ]
    }
   ],
   "source": [
    "#5 Precision\n",
    "#the ratio of correct predictions to the total no. of predicted correct predictions. Method: precision_score \n",
    "\n",
    "from sklearn.metrics import precision_score\n",
    "print(TP / float(TP + FP))\n",
    "print(precision_score(y_test, y_pred))"
   ]
  },
  {
   "cell_type": "code",
   "execution_count": 87,
   "id": "12e710ad",
   "metadata": {},
   "outputs": [
    {
     "data": {
      "text/plain": [
       "array([0.19914623, 0.29549937, 0.18234743, 0.54417052, 0.67377075,\n",
       "       0.20325281, 0.25247278, 0.35561517, 0.37169327, 0.30296055,\n",
       "       0.16669085, 0.41850214, 0.30877612, 0.10389585, 0.20290703,\n",
       "       0.26936255, 0.46170705, 0.34179316, 0.16210376, 0.21874344,\n",
       "       0.40230935, 0.15988596, 0.39404616, 0.20598894, 0.65190188,\n",
       "       0.22479851, 0.38431086, 0.30742568, 0.30108719, 0.64808321,\n",
       "       0.59854289, 0.2429454 , 0.16441841, 0.25453001, 0.18930141,\n",
       "       0.44223239, 0.43385549, 0.38264081, 0.22298549, 0.29023489,\n",
       "       0.4418927 , 0.24341196, 0.21232859, 0.48108705, 0.08501817,\n",
       "       0.6382392 , 0.5997264 , 0.16403078, 0.31044002, 0.50162331,\n",
       "       0.20503099, 0.24109771, 0.87318122, 0.1734658 , 0.18207412,\n",
       "       0.16717741, 0.5982045 , 0.1887179 , 0.94110857, 0.51989603,\n",
       "       0.4919069 , 0.5377017 , 0.71804099, 0.51598475, 0.47676375,\n",
       "       0.22421376, 0.53995645, 0.12966959, 0.11849266, 0.28350987,\n",
       "       0.64704309, 0.15681629, 0.11311328, 0.21661192, 0.49551188,\n",
       "       0.24762101, 0.87308996, 0.59092047, 0.12583702, 0.56775007,\n",
       "       0.34030009, 0.08512998, 0.26463618, 0.27592097, 0.1083455 ,\n",
       "       0.46519569, 0.24682561, 0.17948203, 0.17825763, 0.10752968,\n",
       "       0.49665127, 0.59160499, 0.14079657, 0.09634079, 0.38487785,\n",
       "       0.25510556, 0.06136381, 0.12383979, 0.10480351, 0.64918648,\n",
       "       0.13204024, 0.1228488 , 0.74247768, 0.36395628, 0.33199714,\n",
       "       0.1493997 , 0.45555382, 0.63580342, 0.33884862, 0.1690368 ,\n",
       "       0.53816138, 0.52338002, 0.45472543, 0.65587162, 0.24294403,\n",
       "       0.20568805, 0.59047124, 0.77698876, 0.19580938, 0.6027458 ,\n",
       "       0.15988542, 0.35777834, 0.24935897, 0.64324602, 0.76800814,\n",
       "       0.8341648 , 0.63141196, 0.40738575, 0.2336384 , 0.19425419,\n",
       "       0.20629139, 0.21623031, 0.43489053, 0.87051055, 0.14582035,\n",
       "       0.25230787, 0.37144885, 0.712856  , 0.47061663, 0.55003967,\n",
       "       0.35805942, 0.49172494, 0.77493453, 0.38649201, 0.1527282 ,\n",
       "       0.87109357, 0.27360951, 0.77995767, 0.69358741, 0.16348789,\n",
       "       0.29986333, 0.25352662, 0.16364944, 0.28525441, 0.83562692,\n",
       "       0.26510366, 0.35532411, 0.3707388 , 0.12812167, 0.28059006,\n",
       "       0.10236329, 0.34589989, 0.11017391, 0.80938614, 0.19946279,\n",
       "       0.88018121, 0.29523701, 0.61098506, 0.2650771 , 0.2510918 ,\n",
       "       0.19662451, 0.38323265, 0.3166635 , 0.18537696, 0.71326527,\n",
       "       0.24938617, 0.80326486, 0.1375804 , 0.37857178, 0.27103685,\n",
       "       0.14891614])"
      ]
     },
     "execution_count": 87,
     "metadata": {},
     "output_type": "execute_result"
    }
   ],
   "source": [
    "#III. Adjusting Classification Threshold\n",
    "\"\"\"\n",
    "We adjust the threshold of a classifier in order to suit the problem we’re trying to solve.After training, the model exposes an \n",
    "attribute called predict_proba, which returns the probability of the test data being in a particular response class\n",
    "\"\"\"\n",
    "# store the predicted probabilities for class 1 (diabetic)\n",
    "y_pred_prob = logreg.predict_proba(X_test)[:, 1]\n",
    "y_pred_prob"
   ]
  },
  {
   "cell_type": "code",
   "execution_count": 70,
   "id": "bafd2bf0",
   "metadata": {},
   "outputs": [
    {
     "data": {
      "text/plain": [
       "Text(0, 0.5, 'Frequency')"
      ]
     },
     "execution_count": 70,
     "metadata": {},
     "output_type": "execute_result"
    },
    {
     "data": {
      "image/png": "[encoded data removed]",
      "text/plain": [
       "<Figure size 432x288 with 1 Axes>"
      ]
     },
     "metadata": {
      "needs_background": "light"
     },
     "output_type": "display_data"
    }
   ],
   "source": [
    "#we’ll plot the probability of becoming diabetic in a histogram.\n",
    "plt.hist(y_pred_prob, bins=8, linewidth=1.2)\n",
    "plt.xlim(0, 1)\n",
    "plt.title('Histogram of predicted probabilities')\n",
    "plt.xlabel('Predicted probability of diabetes')\n",
    "plt.ylabel('Frequency')"
   ]
  },
  {
   "cell_type": "code",
   "execution_count": 75,
   "id": "8b5c0761",
   "metadata": {},
   "outputs": [
    {
     "name": "stderr",
     "output_type": "stream",
     "text": [
      "D:\\anaconda3\\lib\\site-packages\\sklearn\\utils\\validation.py:70: FutureWarning: Pass threshold=0.3 as keyword args. From version 1.0 (renaming of 0.25) passing these as positional arguments will result in an error\n",
      "  warnings.warn(f\"Pass {args_msg} as keyword args. From version \"\n"
     ]
    },
    {
     "data": {
      "text/plain": [
       "array([0., 0., 0., 1., 1., 0., 0., 1., 1., 1., 0., 1., 1., 0., 0., 0., 1.,\n",
       "       1., 0., 0., 1., 0., 1., 0., 1., 0., 1., 1., 1., 1., 1., 0., 0., 0.,\n",
       "       0., 1., 1., 1., 0., 0., 1., 0., 0., 1., 0., 1., 1., 0., 1., 1., 0.,\n",
       "       0., 1., 0., 0., 0., 1., 0., 1., 1., 1., 1., 1., 1., 1., 0., 1., 0.,\n",
       "       0., 0., 1., 0., 0., 0., 1., 0., 1., 1., 0., 1., 1., 0., 0., 0., 0.,\n",
       "       1., 0., 0., 0., 0., 1., 1., 0., 0., 1., 0., 0., 0., 0., 1., 0., 0.,\n",
       "       1., 1., 1., 0., 1., 1., 1., 0., 1., 1., 1., 1., 0., 0., 1., 1., 0.,\n",
       "       1., 0., 1., 0., 1., 1., 1., 1., 1., 0., 0., 0., 0., 1., 1., 0., 0.,\n",
       "       1., 1., 1., 1., 1., 1., 1., 1., 0., 1., 0., 1., 1., 0., 0., 0., 0.,\n",
       "       0., 1., 0., 1., 1., 0., 0., 0., 1., 0., 1., 0., 1., 0., 1., 0., 0.,\n",
       "       0., 1., 1., 0., 1., 0., 1., 0., 1., 0., 0.])"
      ]
     },
     "execution_count": 75,
     "metadata": {},
     "output_type": "execute_result"
    }
   ],
   "source": [
    "\"\"\"\n",
    "Since it’s a binary classification problem, the classification probability threshold is 0.5, which means if the probability is\n",
    "less than 0.5, it’s classified as “0 (non-diabetic)”. If the probability is more than 0.5, it’s classified as “1 (diabetic)”.\n",
    "We can use the Scikit-learn’s binarize method to set the threshold to 0.3, which will classify as ‘0 (non-diabetic)’ if the \n",
    "probability is less than 0.3, and if it’s greater it will be classified as ‘1 (diabetic)’.\n",
    "\"\"\"\n",
    "# predict diabetes if the predicted probability is greater than 0.3\n",
    "from sklearn.preprocessing import binarize\n",
    "y_pred_class = binarize([y_pred_prob], 0.3)[0]\n",
    "y_pred_class"
   ]
  },
  {
   "cell_type": "code",
   "execution_count": 76,
   "id": "74bd4df8",
   "metadata": {},
   "outputs": [
    {
     "name": "stdout",
     "output_type": "stream",
     "text": [
      "[[82 37]\n",
      " [ 8 54]]\n"
     ]
    }
   ],
   "source": [
    "# new confusion matrix (threshold of 0.3)\n",
    "confusion_new = confusion_matrix(y_test, y_pred_class)\n",
    "print(confusion_new)"
   ]
  },
  {
   "cell_type": "code",
   "execution_count": 79,
   "id": "9c9a7935",
   "metadata": {
    "scrolled": true
   },
   "outputs": [
    {
     "name": "stdout",
     "output_type": "stream",
     "text": [
      "0.8709677419354839\n",
      "0.8709677419354839\n"
     ]
    }
   ],
   "source": [
    "\"\"\"\n",
    "Next we’ll calculate sensitivity and specificity to observe the changes from the previous confusion matrix calculations. \n",
    "Previously the sensitivity calculated was 0.58.\n",
    "\"\"\"\n",
    "TP = confusion_new[1, 1]\n",
    "TN = confusion_new[0, 0]\n",
    "FP = confusion_new[0, 1]\n",
    "FN = confusion_new[1, 0]\n",
    "#the sensitivity has increased, which means it’s more sensitive to predict “positive (diabetic)” instances.\n",
    "print(TP / (TP + FN))\n",
    "print(recall_score(y_test, y_pred_class))"
   ]
  },
  {
   "cell_type": "code",
   "execution_count": 80,
   "id": "6746caba",
   "metadata": {},
   "outputs": [
    {
     "name": "stdout",
     "output_type": "stream",
     "text": [
      "0.6890756302521008\n"
     ]
    }
   ],
   "source": [
    "\"\"\"Using the same process, we can calculate the specificity for the new confusion matrix. Previously it was 0.90. We observe\n",
    "that it has decreased.\"\"\"\n",
    "print(TN / (TN + FP))"
   ]
  },
  {
   "cell_type": "code",
   "execution_count": 89,
   "id": "0a1eeae1",
   "metadata": {},
   "outputs": [
    {
     "data": {
      "image/png": "[encoded data removed]",
      "text/plain": [
       "<Figure size 432x288 with 1 Axes>"
      ]
     },
     "metadata": {
      "needs_background": "light"
     },
     "output_type": "display_data"
    }
   ],
   "source": [
    "#IV. ROC curve\n",
    "\"\"\"\n",
    "An ROC curve is a commonly used way to visualize the performance of a binary classifier. The curve plots the True Positive Rate \n",
    "(Recall) against the False Positive Rate (also interpreted as 1-Specificity).\n",
    "\"\"\"\n",
    "from sklearn.metrics import roc_curve\n",
    "fpr, tpr, thresholds = roc_curve(y_test, y_pred_prob)\n",
    "plt.plot(fpr, tpr)\n",
    "plt.xlim([0.0, 1.0])\n",
    "plt.ylim([0.0, 1.0])\n",
    "plt.title('ROC curve for diabetes classifier')\n",
    "plt.xlabel('False Positive Rate (1 — Specificity)')\n",
    "plt.ylabel('True Positive Rate (Sensitivity)')\n",
    "plt.grid(True)"
   ]
  },
  {
   "cell_type": "code",
   "execution_count": 98,
   "id": "9e535049",
   "metadata": {},
   "outputs": [
    {
     "name": "stdout",
     "output_type": "stream",
     "text": [
      "Sensitivity: 0.8709677419354839\n",
      "Specificity: 0.7058823529411764\n",
      "Sensitivity: 0.5806451612903226\n",
      "Specificity: 0.907563025210084\n"
     ]
    }
   ],
   "source": [
    "\"\"\"\n",
    "we can use the following method to find the specificity and sensitivity across various thresholds. The following is an example\n",
    "to show how the sensitivity and specificity behave with several thresholds.\n",
    "\"\"\"\n",
    "def evaluate_threshold(threshold):\n",
    "    print('Sensitivity:', tpr[thresholds > threshold][-1])\n",
    "    print('Specificity:', 1 - fpr[thresholds > threshold][-1])\n",
    "evaluate_threshold(0.3)\n",
    "evaluate_threshold(0.5)\n"
   ]
  },
  {
   "cell_type": "code",
   "execution_count": 101,
   "id": "cc2d6a89",
   "metadata": {},
   "outputs": [
    {
     "name": "stdout",
     "output_type": "stream",
     "text": [
      "0.8587693141772839\n"
     ]
    }
   ],
   "source": [
    "#V. AUC (Area Under the Curve)\n",
    "#AUC or Area Under the Curve is the percentage of the ROC plot that is underneath the curve. \n",
    "\n",
    "from sklearn.metrics import roc_auc_score\n",
    "print(roc_auc_score(y_test, y_pred_prob))"
   ]
  },
  {
   "cell_type": "code",
   "execution_count": 103,
   "id": "79e4f478",
   "metadata": {},
   "outputs": [
    {
     "data": {
      "text/plain": [
       "0.8374390514184398"
      ]
     },
     "execution_count": 103,
     "metadata": {},
     "output_type": "execute_result"
    }
   ],
   "source": [
    "\"\"\"\n",
    "Also, the cross_val_score method, which is used to perform the K-fold cross validation method, comes with the option to pass \n",
    "roc_auc as the scoring parameter. \n",
    "\"\"\"\n",
    "cross_val_score(logreg, X, y, cv=10, scoring='roc_auc').mean()"
   ]
  },
  {
   "cell_type": "code",
   "execution_count": null,
   "id": "b0fde1b3",
   "metadata": {},
   "outputs": [],
   "source": []
  }
 ],
 "metadata": {
  "kernelspec": {
   "display_name": "Python 3",
   "language": "python",
   "name": "python3"
  },
  "language_info": {
   "codemirror_mode": {
    "name": "ipython",
    "version": 3
   },
   "file_extension": ".py",
   "mimetype": "text/x-python",
   "name": "python",
   "nbconvert_exporter": "python",
   "pygments_lexer": "ipython3",
   "version": "3.8.8"
  }
 },
 "nbformat": 4,
 "nbformat_minor": 5
}
