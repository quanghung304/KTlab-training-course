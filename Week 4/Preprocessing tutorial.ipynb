{
 "cells": [
  {
   "cell_type": "code",
   "execution_count": 4,
   "id": "e0fc5d0e",
   "metadata": {},
   "outputs": [
    {
     "data": {
      "text/html": [
       "<div>\n",
       "<style scoped>\n",
       "    .dataframe tbody tr th:only-of-type {\n",
       "        vertical-align: middle;\n",
       "    }\n",
       "\n",
       "    .dataframe tbody tr th {\n",
       "        vertical-align: top;\n",
       "    }\n",
       "\n",
       "    .dataframe thead th {\n",
       "        text-align: right;\n",
       "    }\n",
       "</style>\n",
       "<table border=\"1\" class=\"dataframe\">\n",
       "  <thead>\n",
       "    <tr style=\"text-align: right;\">\n",
       "      <th></th>\n",
       "      <th>age</th>\n",
       "      <th>salary</th>\n",
       "    </tr>\n",
       "  </thead>\n",
       "  <tbody>\n",
       "    <tr>\n",
       "      <th>0</th>\n",
       "      <td>25.0</td>\n",
       "      <td>35000.0</td>\n",
       "    </tr>\n",
       "    <tr>\n",
       "      <th>1</th>\n",
       "      <td>27.0</td>\n",
       "      <td>40000.0</td>\n",
       "    </tr>\n",
       "    <tr>\n",
       "      <th>2</th>\n",
       "      <td>50.0</td>\n",
       "      <td>54000.0</td>\n",
       "    </tr>\n",
       "    <tr>\n",
       "      <th>3</th>\n",
       "      <td>35.0</td>\n",
       "      <td>NaN</td>\n",
       "    </tr>\n",
       "    <tr>\n",
       "      <th>4</th>\n",
       "      <td>40.0</td>\n",
       "      <td>60000.0</td>\n",
       "    </tr>\n",
       "    <tr>\n",
       "      <th>5</th>\n",
       "      <td>35.0</td>\n",
       "      <td>58000.0</td>\n",
       "    </tr>\n",
       "    <tr>\n",
       "      <th>6</th>\n",
       "      <td>NaN</td>\n",
       "      <td>52000.0</td>\n",
       "    </tr>\n",
       "    <tr>\n",
       "      <th>7</th>\n",
       "      <td>48.0</td>\n",
       "      <td>79000.0</td>\n",
       "    </tr>\n",
       "    <tr>\n",
       "      <th>8</th>\n",
       "      <td>50.0</td>\n",
       "      <td>83000.0</td>\n",
       "    </tr>\n",
       "    <tr>\n",
       "      <th>9</th>\n",
       "      <td>37.0</td>\n",
       "      <td>NaN</td>\n",
       "    </tr>\n",
       "    <tr>\n",
       "      <th>10</th>\n",
       "      <td>21.0</td>\n",
       "      <td>24000.0</td>\n",
       "    </tr>\n",
       "    <tr>\n",
       "      <th>11</th>\n",
       "      <td>NaN</td>\n",
       "      <td>60000.0</td>\n",
       "    </tr>\n",
       "    <tr>\n",
       "      <th>12</th>\n",
       "      <td>63.0</td>\n",
       "      <td>70000.0</td>\n",
       "    </tr>\n",
       "  </tbody>\n",
       "</table>\n",
       "</div>"
      ],
      "text/plain": [
       "     age   salary\n",
       "0   25.0  35000.0\n",
       "1   27.0  40000.0\n",
       "2   50.0  54000.0\n",
       "3   35.0      NaN\n",
       "4   40.0  60000.0\n",
       "5   35.0  58000.0\n",
       "6    NaN  52000.0\n",
       "7   48.0  79000.0\n",
       "8   50.0  83000.0\n",
       "9   37.0      NaN\n",
       "10  21.0  24000.0\n",
       "11   NaN  60000.0\n",
       "12  63.0  70000.0"
      ]
     },
     "execution_count": 4,
     "metadata": {},
     "output_type": "execute_result"
    }
   ],
   "source": [
    "#Step 1: Loading the dataset\n",
    "import pandas as pd\n",
    "dataset = pd.read_excel('age_salary.xlsx')\n",
    "dataset"
   ]
  },
  {
   "cell_type": "code",
   "execution_count": 24,
   "id": "561a1dc2",
   "metadata": {},
   "outputs": [
    {
     "data": {
      "text/plain": [
       "array([35000., 40000., 54000.,    nan, 60000., 58000., 52000., 79000.,\n",
       "       83000.,    nan, 24000., 60000., 70000.])"
      ]
     },
     "execution_count": 24,
     "metadata": {},
     "output_type": "execute_result"
    }
   ],
   "source": [
    "#S2: Classifying the dependent and Independent Variables\n",
    "#X : independent variable set\n",
    "X = dataset.iloc[:,:-1].values #Takes all rows of all columns except the last column\n",
    "#Y : dependent variable set\n",
    "Y = dataset.iloc[:,-1].values # Takes all rows of the last column\n",
    "Y"
   ]
  },
  {
   "cell_type": "code",
   "execution_count": 25,
   "id": "4dc08759",
   "metadata": {},
   "outputs": [
    {
     "data": {
      "text/plain": [
       "array([[25.        ],\n",
       "       [27.        ],\n",
       "       [50.        ],\n",
       "       [35.        ],\n",
       "       [40.        ],\n",
       "       [35.        ],\n",
       "       [39.18181818],\n",
       "       [48.        ],\n",
       "       [50.        ],\n",
       "       [37.        ],\n",
       "       [21.        ],\n",
       "       [39.18181818],\n",
       "       [63.        ]])"
      ]
     },
     "execution_count": 25,
     "metadata": {},
     "output_type": "execute_result"
    }
   ],
   "source": [
    "#S3: Dealing with Missing Data\n",
    "from sklearn.impute import SimpleImputer\n",
    "import numpy as np\n",
    "#use the default strategy for filling missing values which is the mean\n",
    "imp = SimpleImputer(missing_values=np.nan, strategy=\"mean\")\n",
    "#The fit_transform() method will fit the imputer object and then transforms the arrays.\n",
    "X = imp.fit_transform(X)\n",
    "#The imputer can not be applied on 1D arrays and since Y is a 1D array, it needs to be converted to a compatible shape.\n",
    "Y = Y.reshape(-1,1)\n",
    "Y = imp.fit_transform(Y)\n",
    "Y = Y.reshape(-1)\n",
    "X"
   ]
  },
  {
   "cell_type": "code",
   "execution_count": 26,
   "id": "c97b7039",
   "metadata": {},
   "outputs": [
    {
     "data": {
      "text/html": [
       "<div>\n",
       "<style scoped>\n",
       "    .dataframe tbody tr th:only-of-type {\n",
       "        vertical-align: middle;\n",
       "    }\n",
       "\n",
       "    .dataframe tbody tr th {\n",
       "        vertical-align: top;\n",
       "    }\n",
       "\n",
       "    .dataframe thead th {\n",
       "        text-align: right;\n",
       "    }\n",
       "</style>\n",
       "<table border=\"1\" class=\"dataframe\">\n",
       "  <thead>\n",
       "    <tr style=\"text-align: right;\">\n",
       "      <th></th>\n",
       "      <th>nation</th>\n",
       "      <th>purchased_item</th>\n",
       "      <th>age</th>\n",
       "      <th>salary</th>\n",
       "    </tr>\n",
       "  </thead>\n",
       "  <tbody>\n",
       "    <tr>\n",
       "      <th>0</th>\n",
       "      <td>India</td>\n",
       "      <td>No</td>\n",
       "      <td>25.0</td>\n",
       "      <td>35000.0</td>\n",
       "    </tr>\n",
       "    <tr>\n",
       "      <th>1</th>\n",
       "      <td>Russia</td>\n",
       "      <td>Yes</td>\n",
       "      <td>27.0</td>\n",
       "      <td>40000.0</td>\n",
       "    </tr>\n",
       "    <tr>\n",
       "      <th>2</th>\n",
       "      <td>Germany</td>\n",
       "      <td>No</td>\n",
       "      <td>50.0</td>\n",
       "      <td>54000.0</td>\n",
       "    </tr>\n",
       "    <tr>\n",
       "      <th>3</th>\n",
       "      <td>Russia</td>\n",
       "      <td>No</td>\n",
       "      <td>35.0</td>\n",
       "      <td>NaN</td>\n",
       "    </tr>\n",
       "    <tr>\n",
       "      <th>4</th>\n",
       "      <td>Germany</td>\n",
       "      <td>Yes</td>\n",
       "      <td>40.0</td>\n",
       "      <td>60000.0</td>\n",
       "    </tr>\n",
       "    <tr>\n",
       "      <th>5</th>\n",
       "      <td>India</td>\n",
       "      <td>Yes</td>\n",
       "      <td>35.0</td>\n",
       "      <td>58000.0</td>\n",
       "    </tr>\n",
       "    <tr>\n",
       "      <th>6</th>\n",
       "      <td>Russia</td>\n",
       "      <td>No</td>\n",
       "      <td>NaN</td>\n",
       "      <td>52000.0</td>\n",
       "    </tr>\n",
       "    <tr>\n",
       "      <th>7</th>\n",
       "      <td>India</td>\n",
       "      <td>Yes</td>\n",
       "      <td>48.0</td>\n",
       "      <td>79000.0</td>\n",
       "    </tr>\n",
       "    <tr>\n",
       "      <th>8</th>\n",
       "      <td>Germany</td>\n",
       "      <td>No</td>\n",
       "      <td>50.0</td>\n",
       "      <td>83000.0</td>\n",
       "    </tr>\n",
       "    <tr>\n",
       "      <th>9</th>\n",
       "      <td>India</td>\n",
       "      <td>Yes</td>\n",
       "      <td>37.0</td>\n",
       "      <td>NaN</td>\n",
       "    </tr>\n",
       "    <tr>\n",
       "      <th>10</th>\n",
       "      <td>Germany</td>\n",
       "      <td>No</td>\n",
       "      <td>21.0</td>\n",
       "      <td>24000.0</td>\n",
       "    </tr>\n",
       "    <tr>\n",
       "      <th>11</th>\n",
       "      <td>India</td>\n",
       "      <td>Yes</td>\n",
       "      <td>NaN</td>\n",
       "      <td>60000.0</td>\n",
       "    </tr>\n",
       "    <tr>\n",
       "      <th>12</th>\n",
       "      <td>Russia</td>\n",
       "      <td>No</td>\n",
       "      <td>63.0</td>\n",
       "      <td>70000.0</td>\n",
       "    </tr>\n",
       "  </tbody>\n",
       "</table>\n",
       "</div>"
      ],
      "text/plain": [
       "     nation purchased_item   age   salary\n",
       "0     India             No  25.0  35000.0\n",
       "1    Russia            Yes  27.0  40000.0\n",
       "2   Germany             No  50.0  54000.0\n",
       "3    Russia             No  35.0      NaN\n",
       "4   Germany            Yes  40.0  60000.0\n",
       "5     India            Yes  35.0  58000.0\n",
       "6    Russia             No   NaN  52000.0\n",
       "7     India            Yes  48.0  79000.0\n",
       "8   Germany             No  50.0  83000.0\n",
       "9     India            Yes  37.0      NaN\n",
       "10  Germany             No  21.0  24000.0\n",
       "11    India            Yes   NaN  60000.0\n",
       "12   Russia             No  63.0  70000.0"
      ]
     },
     "execution_count": 26,
     "metadata": {},
     "output_type": "execute_result"
    }
   ],
   "source": [
    "#S4: Dealing with Categorical Data\n",
    "dataset = pd.read_excel(\"dataset.xlsx\")\n",
    "dataset"
   ]
  },
  {
   "cell_type": "code",
   "execution_count": 31,
   "id": "556206e8",
   "metadata": {},
   "outputs": [
    {
     "data": {
      "text/plain": [
       "array([['India', 25.0, 35000.0],\n",
       "       ['Russia', 27.0, 40000.0],\n",
       "       ['Germany', 50.0, 54000.0],\n",
       "       ['Russia', 35.0, nan],\n",
       "       ['Germany', 40.0, 60000.0],\n",
       "       ['India', 35.0, 58000.0],\n",
       "       ['Russia', nan, 52000.0],\n",
       "       ['India', 48.0, 79000.0],\n",
       "       ['Germany', 50.0, 83000.0],\n",
       "       ['India', 37.0, nan],\n",
       "       ['Germany', 21.0, 24000.0],\n",
       "       ['India', nan, 60000.0],\n",
       "       ['Russia', 63.0, 70000.0]], dtype=object)"
      ]
     },
     "execution_count": 31,
     "metadata": {},
     "output_type": "execute_result"
    }
   ],
   "source": [
    "X = dataset.iloc[:,[0,2,3]].values\n",
    "Y = dataset.iloc[:,1].values\n",
    "X"
   ]
  },
  {
   "cell_type": "code",
   "execution_count": 44,
   "id": "798efa36",
   "metadata": {},
   "outputs": [
    {
     "data": {
      "text/plain": [
       "array([[1., 0., 0., ..., 1., 1., 0.],\n",
       "       [1., 0., 0., ..., 1., 1., 0.],\n",
       "       [0., 1., 1., ..., 1., 1., 0.],\n",
       "       ...,\n",
       "       [0., 1., 1., ..., 1., 1., 0.],\n",
       "       [1., 0., 0., ..., 1., 1., 0.],\n",
       "       [1., 0., 0., ..., 1., 1., 0.]])"
      ]
     },
     "execution_count": 44,
     "metadata": {},
     "output_type": "execute_result"
    }
   ],
   "source": [
    "#This dataset has 3 countries listed. Dummy variables are the solution. Using one hot encoding we will create a dummy variable \n",
    "#for each of the category in the column. And uses binary encoding for each dummy variable.\n",
    "from sklearn.preprocessing import LabelEncoder,OneHotEncoder\n",
    "le_X = LabelEncoder()\n",
    "X[:,0] = le_X.fit_transform(X[:,0])\n",
    "ohe_X = OneHotEncoder()\n",
    "X = ohe_X.fit_transform(X).toarray()\n",
    "X"
   ]
  },
  {
   "cell_type": "code",
   "execution_count": 33,
   "id": "7cf98ed8",
   "metadata": {},
   "outputs": [
    {
     "data": {
      "text/plain": [
       "array([0, 1, 0, 0, 1, 1, 0, 1, 0, 1, 0, 1, 0])"
      ]
     },
     "execution_count": 33,
     "metadata": {},
     "output_type": "execute_result"
    }
   ],
   "source": [
    "Y = le_X.fit_transform(Y)\n",
    "Y"
   ]
  },
  {
   "cell_type": "code",
   "execution_count": 48,
   "id": "05518b3b",
   "metadata": {},
   "outputs": [
    {
     "data": {
      "text/plain": [
       "array([0, 0, 1, 1, 1, 0, 0, 1, 0])"
      ]
     },
     "execution_count": 48,
     "metadata": {},
     "output_type": "execute_result"
    }
   ],
   "source": [
    "#S5: Splitting the Dataset into Training and Testing sets\n",
    "from sklearn.model_selection import train_test_split\n",
    "'''\n",
    "test_size: the desired size of the test_set. 0.3 denotes 30%.\n",
    "random_state:  This is used to preserve the uniqueness. The split will happen uniquely for a random_state.\n",
    "'''\n",
    "X_train, X_test, Y_train, Y_test = train_test_split(X, Y, test_size = 0.3, random_state = 0)\n",
    "Y_train"
   ]
  },
  {
   "cell_type": "code",
   "execution_count": 50,
   "id": "a5c4e8ef",
   "metadata": {},
   "outputs": [
    {
     "data": {
      "text/plain": [
       "array([[-1.87082869,  1.87082869,  1.87082869, ...,  0.53452248,\n",
       "         0.53452248, -0.53452248],\n",
       "       [-1.87082869,  1.87082869,  1.87082869, ...,  0.53452248,\n",
       "         0.53452248, -0.53452248],\n",
       "       [ 0.53452248, -0.53452248, -0.53452248, ...,  0.53452248,\n",
       "         0.53452248, -0.53452248],\n",
       "       ...,\n",
       "       [ 0.53452248, -0.53452248, -0.53452248, ...,  0.53452248,\n",
       "         0.53452248, -0.53452248],\n",
       "       [ 0.53452248, -0.53452248, -0.53452248, ...,  0.53452248,\n",
       "         0.53452248, -0.53452248],\n",
       "       [ 0.53452248, -0.53452248, -0.53452248, ...,  0.53452248,\n",
       "         0.53452248, -0.53452248]])"
      ]
     },
     "execution_count": 50,
     "metadata": {},
     "output_type": "execute_result"
    }
   ],
   "source": [
    "#S6: Scaling the features\n",
    "from sklearn.preprocessing import StandardScaler\n",
    "sc = StandardScaler()\n",
    "X_train = sc.fit_transform(X_train)\n",
    "X_test = sc.transform(X_test)\n",
    "\n",
    "Y_train = Y_train.reshape((len(Y_train), 1))\n",
    "Y_train = sc.fit_transform(Y_train)\n",
    "Y_train = Y_train.ravel()\n",
    "X_train"
   ]
  },
  {
   "cell_type": "code",
   "execution_count": null,
   "id": "1ecb9280",
   "metadata": {},
   "outputs": [],
   "source": []
  }
 ],
 "metadata": {
  "kernelspec": {
   "display_name": "Python 3",
   "language": "python",
   "name": "python3"
  },
  "language_info": {
   "codemirror_mode": {
    "name": "ipython",
    "version": 3
   },
   "file_extension": ".py",
   "mimetype": "text/x-python",
   "name": "python",
   "nbconvert_exporter": "python",
   "pygments_lexer": "ipython3",
   "version": "3.8.8"
  }
 },
 "nbformat": 4,
 "nbformat_minor": 5
}
