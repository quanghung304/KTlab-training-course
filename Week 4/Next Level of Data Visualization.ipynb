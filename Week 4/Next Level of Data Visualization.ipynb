{
 "cells": [
  {
   "cell_type": "code",
   "execution_count": 1,
   "id": "42944772",
   "metadata": {},
   "outputs": [
    {
     "data": {
      "text/html": [
       "        <script type=\"text/javascript\">\n",
       "        window.PlotlyConfig = {MathJaxConfig: 'local'};\n",
       "        if (window.MathJax) {MathJax.Hub.Config({SVG: {font: \"STIX-Web\"}});}\n",
       "        if (typeof require !== 'undefined') {\n",
       "        require.undef(\"plotly\");\n",
       "        requirejs.config({\n",
       "            paths: {\n",
       "                'plotly': ['https://cdn.plot.ly/plotly-2.2.0.min']\n",
       "            }\n",
       "        });\n",
       "        require(['plotly'], function(Plotly) {\n",
       "            window._Plotly = Plotly;\n",
       "        });\n",
       "        }\n",
       "        </script>\n",
       "        "
      ]
     },
     "metadata": {},
     "output_type": "display_data"
    },
    {
     "data": {
      "text/html": [
       "        <script type=\"text/javascript\">\n",
       "        window.PlotlyConfig = {MathJaxConfig: 'local'};\n",
       "        if (window.MathJax) {MathJax.Hub.Config({SVG: {font: \"STIX-Web\"}});}\n",
       "        if (typeof require !== 'undefined') {\n",
       "        require.undef(\"plotly\");\n",
       "        requirejs.config({\n",
       "            paths: {\n",
       "                'plotly': ['https://cdn.plot.ly/plotly-2.2.0.min']\n",
       "            }\n",
       "        });\n",
       "        require(['plotly'], function(Plotly) {\n",
       "            window._Plotly = Plotly;\n",
       "        });\n",
       "        }\n",
       "        </script>\n",
       "        "
      ]
     },
     "metadata": {},
     "output_type": "display_data"
    }
   ],
   "source": [
    "# Standard plotly imports\n",
    "import chart_studio.plotly as py\n",
    "import plotly.graph_objs as go\n",
    "from plotly.offline import iplot, init_notebook_mode\n",
    "# Using plotly + cufflinks in offline mode\n",
    "import cufflinks\n",
    "cufflinks.go_offline(connected=True)\n",
    "init_notebook_mode(connected=True)"
   ]
  },
  {
   "cell_type": "code",
   "execution_count": 5,
   "id": "bedc6e0b",
   "metadata": {},
   "outputs": [
    {
     "data": {
      "text/html": [
       "<div>\n",
       "<style scoped>\n",
       "    .dataframe tbody tr th:only-of-type {\n",
       "        vertical-align: middle;\n",
       "    }\n",
       "\n",
       "    .dataframe tbody tr th {\n",
       "        vertical-align: top;\n",
       "    }\n",
       "\n",
       "    .dataframe thead th {\n",
       "        text-align: right;\n",
       "    }\n",
       "</style>\n",
       "<table border=\"1\" class=\"dataframe\">\n",
       "  <thead>\n",
       "    <tr style=\"text-align: right;\">\n",
       "      <th></th>\n",
       "      <th>claps</th>\n",
       "      <th>days_since_publication</th>\n",
       "      <th>fans</th>\n",
       "      <th>link</th>\n",
       "      <th>num_responses</th>\n",
       "      <th>publication</th>\n",
       "      <th>published_date</th>\n",
       "      <th>read_ratio</th>\n",
       "      <th>read_time</th>\n",
       "      <th>reads</th>\n",
       "      <th>...</th>\n",
       "      <th>type</th>\n",
       "      <th>views</th>\n",
       "      <th>word_count</th>\n",
       "      <th>claps_per_word</th>\n",
       "      <th>editing_days</th>\n",
       "      <th>&lt;tag&gt;Education</th>\n",
       "      <th>&lt;tag&gt;Data Science</th>\n",
       "      <th>&lt;tag&gt;Towards Data Science</th>\n",
       "      <th>&lt;tag&gt;Machine Learning</th>\n",
       "      <th>&lt;tag&gt;Python</th>\n",
       "    </tr>\n",
       "  </thead>\n",
       "  <tbody>\n",
       "    <tr>\n",
       "      <th>119</th>\n",
       "      <td>2</td>\n",
       "      <td>574.858594</td>\n",
       "      <td>2</td>\n",
       "      <td>https://medium.com/p/screw-the-environment-but...</td>\n",
       "      <td>0</td>\n",
       "      <td>None</td>\n",
       "      <td>2017-06-10 14:25:00</td>\n",
       "      <td>41.98</td>\n",
       "      <td>7</td>\n",
       "      <td>68</td>\n",
       "      <td>...</td>\n",
       "      <td>published</td>\n",
       "      <td>162</td>\n",
       "      <td>1859</td>\n",
       "      <td>0.001076</td>\n",
       "      <td>0</td>\n",
       "      <td>0</td>\n",
       "      <td>0</td>\n",
       "      <td>0</td>\n",
       "      <td>0</td>\n",
       "      <td>0</td>\n",
       "    </tr>\n",
       "    <tr>\n",
       "      <th>118</th>\n",
       "      <td>18</td>\n",
       "      <td>567.540639</td>\n",
       "      <td>3</td>\n",
       "      <td>https://medium.com/p/the-vanquishing-of-war-pl...</td>\n",
       "      <td>0</td>\n",
       "      <td>None</td>\n",
       "      <td>2017-06-17 22:02:00</td>\n",
       "      <td>32.93</td>\n",
       "      <td>14</td>\n",
       "      <td>54</td>\n",
       "      <td>...</td>\n",
       "      <td>published</td>\n",
       "      <td>164</td>\n",
       "      <td>3891</td>\n",
       "      <td>0.004626</td>\n",
       "      <td>0</td>\n",
       "      <td>0</td>\n",
       "      <td>0</td>\n",
       "      <td>0</td>\n",
       "      <td>0</td>\n",
       "      <td>0</td>\n",
       "    </tr>\n",
       "    <tr>\n",
       "      <th>121</th>\n",
       "      <td>50</td>\n",
       "      <td>554.920762</td>\n",
       "      <td>19</td>\n",
       "      <td>https://medium.com/p/capstone-project-mercedes...</td>\n",
       "      <td>0</td>\n",
       "      <td>None</td>\n",
       "      <td>2017-06-30 12:55:00</td>\n",
       "      <td>20.19</td>\n",
       "      <td>42</td>\n",
       "      <td>215</td>\n",
       "      <td>...</td>\n",
       "      <td>published</td>\n",
       "      <td>1065</td>\n",
       "      <td>12025</td>\n",
       "      <td>0.004158</td>\n",
       "      <td>0</td>\n",
       "      <td>0</td>\n",
       "      <td>0</td>\n",
       "      <td>0</td>\n",
       "      <td>1</td>\n",
       "      <td>1</td>\n",
       "    </tr>\n",
       "    <tr>\n",
       "      <th>122</th>\n",
       "      <td>0</td>\n",
       "      <td>554.078160</td>\n",
       "      <td>0</td>\n",
       "      <td>https://medium.com/p/home-of-the-scared-5af0fe...</td>\n",
       "      <td>0</td>\n",
       "      <td>None</td>\n",
       "      <td>2017-07-01 09:08:00</td>\n",
       "      <td>35.85</td>\n",
       "      <td>9</td>\n",
       "      <td>19</td>\n",
       "      <td>...</td>\n",
       "      <td>published</td>\n",
       "      <td>53</td>\n",
       "      <td>2533</td>\n",
       "      <td>0.000000</td>\n",
       "      <td>0</td>\n",
       "      <td>0</td>\n",
       "      <td>0</td>\n",
       "      <td>0</td>\n",
       "      <td>0</td>\n",
       "      <td>0</td>\n",
       "    </tr>\n",
       "    <tr>\n",
       "      <th>114</th>\n",
       "      <td>0</td>\n",
       "      <td>550.090507</td>\n",
       "      <td>0</td>\n",
       "      <td>https://medium.com/p/the-triumph-of-peace-f485...</td>\n",
       "      <td>0</td>\n",
       "      <td>None</td>\n",
       "      <td>2017-07-05 08:51:00</td>\n",
       "      <td>8.77</td>\n",
       "      <td>14</td>\n",
       "      <td>5</td>\n",
       "      <td>...</td>\n",
       "      <td>published</td>\n",
       "      <td>57</td>\n",
       "      <td>3892</td>\n",
       "      <td>0.000000</td>\n",
       "      <td>1</td>\n",
       "      <td>0</td>\n",
       "      <td>0</td>\n",
       "      <td>0</td>\n",
       "      <td>0</td>\n",
       "      <td>0</td>\n",
       "    </tr>\n",
       "    <tr>\n",
       "      <th>...</th>\n",
       "      <td>...</td>\n",
       "      <td>...</td>\n",
       "      <td>...</td>\n",
       "      <td>...</td>\n",
       "      <td>...</td>\n",
       "      <td>...</td>\n",
       "      <td>...</td>\n",
       "      <td>...</td>\n",
       "      <td>...</td>\n",
       "      <td>...</td>\n",
       "      <td>...</td>\n",
       "      <td>...</td>\n",
       "      <td>...</td>\n",
       "      <td>...</td>\n",
       "      <td>...</td>\n",
       "      <td>...</td>\n",
       "      <td>...</td>\n",
       "      <td>...</td>\n",
       "      <td>...</td>\n",
       "      <td>...</td>\n",
       "      <td>...</td>\n",
       "    </tr>\n",
       "    <tr>\n",
       "      <th>17</th>\n",
       "      <td>443</td>\n",
       "      <td>7.975446</td>\n",
       "      <td>97</td>\n",
       "      <td>https://towardsdatascience.com/the-copernican-...</td>\n",
       "      <td>2</td>\n",
       "      <td>Towards Data Science</td>\n",
       "      <td>2018-12-29 11:36:00</td>\n",
       "      <td>30.59</td>\n",
       "      <td>8</td>\n",
       "      <td>521</td>\n",
       "      <td>...</td>\n",
       "      <td>published</td>\n",
       "      <td>1703</td>\n",
       "      <td>1898</td>\n",
       "      <td>0.233404</td>\n",
       "      <td>0</td>\n",
       "      <td>1</td>\n",
       "      <td>0</td>\n",
       "      <td>1</td>\n",
       "      <td>0</td>\n",
       "      <td>0</td>\n",
       "    </tr>\n",
       "    <tr>\n",
       "      <th>18</th>\n",
       "      <td>412</td>\n",
       "      <td>5.713865</td>\n",
       "      <td>83</td>\n",
       "      <td>https://towardsdatascience.com/analyzing-mediu...</td>\n",
       "      <td>2</td>\n",
       "      <td>Towards Data Science</td>\n",
       "      <td>2018-12-31 17:53:00</td>\n",
       "      <td>20.47</td>\n",
       "      <td>12</td>\n",
       "      <td>457</td>\n",
       "      <td>...</td>\n",
       "      <td>published</td>\n",
       "      <td>2232</td>\n",
       "      <td>2813</td>\n",
       "      <td>0.146463</td>\n",
       "      <td>1</td>\n",
       "      <td>1</td>\n",
       "      <td>1</td>\n",
       "      <td>1</td>\n",
       "      <td>0</td>\n",
       "      <td>1</td>\n",
       "    </tr>\n",
       "    <tr>\n",
       "      <th>0</th>\n",
       "      <td>329</td>\n",
       "      <td>4.115077</td>\n",
       "      <td>34</td>\n",
       "      <td>https://medium.com/the-reality-project/announc...</td>\n",
       "      <td>1</td>\n",
       "      <td>The Reality Project</td>\n",
       "      <td>2019-01-02 08:15:00</td>\n",
       "      <td>39.23</td>\n",
       "      <td>6</td>\n",
       "      <td>164</td>\n",
       "      <td>...</td>\n",
       "      <td>published</td>\n",
       "      <td>418</td>\n",
       "      <td>1685</td>\n",
       "      <td>0.195252</td>\n",
       "      <td>1</td>\n",
       "      <td>1</td>\n",
       "      <td>0</td>\n",
       "      <td>0</td>\n",
       "      <td>0</td>\n",
       "      <td>0</td>\n",
       "    </tr>\n",
       "    <tr>\n",
       "      <th>1</th>\n",
       "      <td>309</td>\n",
       "      <td>4.064114</td>\n",
       "      <td>29</td>\n",
       "      <td>https://medium.com/the-reality-project/the-dis...</td>\n",
       "      <td>2</td>\n",
       "      <td>The Reality Project</td>\n",
       "      <td>2019-01-02 09:29:00</td>\n",
       "      <td>28.75</td>\n",
       "      <td>10</td>\n",
       "      <td>115</td>\n",
       "      <td>...</td>\n",
       "      <td>published</td>\n",
       "      <td>400</td>\n",
       "      <td>2278</td>\n",
       "      <td>0.135645</td>\n",
       "      <td>0</td>\n",
       "      <td>1</td>\n",
       "      <td>0</td>\n",
       "      <td>0</td>\n",
       "      <td>0</td>\n",
       "      <td>0</td>\n",
       "    </tr>\n",
       "    <tr>\n",
       "      <th>2</th>\n",
       "      <td>75</td>\n",
       "      <td>0.581281</td>\n",
       "      <td>13</td>\n",
       "      <td>https://medium.com/the-reality-project/has-glo...</td>\n",
       "      <td>0</td>\n",
       "      <td>The Reality Project</td>\n",
       "      <td>2019-01-05 21:04:00</td>\n",
       "      <td>21.22</td>\n",
       "      <td>15</td>\n",
       "      <td>52</td>\n",
       "      <td>...</td>\n",
       "      <td>published</td>\n",
       "      <td>245</td>\n",
       "      <td>3678</td>\n",
       "      <td>0.020392</td>\n",
       "      <td>1</td>\n",
       "      <td>1</td>\n",
       "      <td>0</td>\n",
       "      <td>0</td>\n",
       "      <td>0</td>\n",
       "      <td>0</td>\n",
       "    </tr>\n",
       "  </tbody>\n",
       "</table>\n",
       "<p>126 rows × 25 columns</p>\n",
       "</div>"
      ],
      "text/plain": [
       "     claps  days_since_publication  fans  \\\n",
       "119      2              574.858594     2   \n",
       "118     18              567.540639     3   \n",
       "121     50              554.920762    19   \n",
       "122      0              554.078160     0   \n",
       "114      0              550.090507     0   \n",
       "..     ...                     ...   ...   \n",
       "17     443                7.975446    97   \n",
       "18     412                5.713865    83   \n",
       "0      329                4.115077    34   \n",
       "1      309                4.064114    29   \n",
       "2       75                0.581281    13   \n",
       "\n",
       "                                                  link  num_responses  \\\n",
       "119  https://medium.com/p/screw-the-environment-but...              0   \n",
       "118  https://medium.com/p/the-vanquishing-of-war-pl...              0   \n",
       "121  https://medium.com/p/capstone-project-mercedes...              0   \n",
       "122  https://medium.com/p/home-of-the-scared-5af0fe...              0   \n",
       "114  https://medium.com/p/the-triumph-of-peace-f485...              0   \n",
       "..                                                 ...            ...   \n",
       "17   https://towardsdatascience.com/the-copernican-...              2   \n",
       "18   https://towardsdatascience.com/analyzing-mediu...              2   \n",
       "0    https://medium.com/the-reality-project/announc...              1   \n",
       "1    https://medium.com/the-reality-project/the-dis...              2   \n",
       "2    https://medium.com/the-reality-project/has-glo...              0   \n",
       "\n",
       "              publication      published_date  read_ratio  read_time  reads  \\\n",
       "119                  None 2017-06-10 14:25:00       41.98          7     68   \n",
       "118                  None 2017-06-17 22:02:00       32.93         14     54   \n",
       "121                  None 2017-06-30 12:55:00       20.19         42    215   \n",
       "122                  None 2017-07-01 09:08:00       35.85          9     19   \n",
       "114                  None 2017-07-05 08:51:00        8.77         14      5   \n",
       "..                    ...                 ...         ...        ...    ...   \n",
       "17   Towards Data Science 2018-12-29 11:36:00       30.59          8    521   \n",
       "18   Towards Data Science 2018-12-31 17:53:00       20.47         12    457   \n",
       "0     The Reality Project 2019-01-02 08:15:00       39.23          6    164   \n",
       "1     The Reality Project 2019-01-02 09:29:00       28.75         10    115   \n",
       "2     The Reality Project 2019-01-05 21:04:00       21.22         15     52   \n",
       "\n",
       "     ...       type views word_count claps_per_word  editing_days  \\\n",
       "119  ...  published   162       1859       0.001076             0   \n",
       "118  ...  published   164       3891       0.004626             0   \n",
       "121  ...  published  1065      12025       0.004158             0   \n",
       "122  ...  published    53       2533       0.000000             0   \n",
       "114  ...  published    57       3892       0.000000             1   \n",
       "..   ...        ...   ...        ...            ...           ...   \n",
       "17   ...  published  1703       1898       0.233404             0   \n",
       "18   ...  published  2232       2813       0.146463             1   \n",
       "0    ...  published   418       1685       0.195252             1   \n",
       "1    ...  published   400       2278       0.135645             0   \n",
       "2    ...  published   245       3678       0.020392             1   \n",
       "\n",
       "    <tag>Education  <tag>Data Science  <tag>Towards Data Science  \\\n",
       "119              0                  0                          0   \n",
       "118              0                  0                          0   \n",
       "121              0                  0                          0   \n",
       "122              0                  0                          0   \n",
       "114              0                  0                          0   \n",
       "..             ...                ...                        ...   \n",
       "17               1                  0                          1   \n",
       "18               1                  1                          1   \n",
       "0                1                  0                          0   \n",
       "1                1                  0                          0   \n",
       "2                1                  0                          0   \n",
       "\n",
       "     <tag>Machine Learning  <tag>Python  \n",
       "119                      0            0  \n",
       "118                      0            0  \n",
       "121                      1            1  \n",
       "122                      0            0  \n",
       "114                      0            0  \n",
       "..                     ...          ...  \n",
       "17                       0            0  \n",
       "18                       0            1  \n",
       "0                        0            0  \n",
       "1                        0            0  \n",
       "2                        0            0  \n",
       "\n",
       "[126 rows x 25 columns]"
      ]
     },
     "execution_count": 5,
     "metadata": {},
     "output_type": "execute_result"
    }
   ],
   "source": [
    "#I/ Single Variable Distributions: Histograms and Boxplots\n",
    "import pandas as pd\n",
    "import numpy as np\n",
    "df = pd.read_parquet(\n",
    "    \"https://github.com/WillKoehrsen/Data-Analysis/blob/master/plotly/data/medium_data_2019_01_06?raw=true\"\n",
    ")\n",
    "df"
   ]
  },
  {
   "cell_type": "code",
   "execution_count": 3,
   "id": "4ea2c9f2",
   "metadata": {},
   "outputs": [
    {
     "data": {
      "application/vnd.plotly.v1+json": {
       "config": {
        "linkText": "Export to plot.ly",
        "plotlyServerURL": "https://plot.ly",
        "showLink": true
       },
       "data": [
        {
         "histfunc": "count",
         "histnorm": "",
         "marker": {
          "color": "rgba(255, 153, 51, 1.0)",
          "line": {
           "color": "#4D5663",
           "width": 1.3
          }
         },
         "name": "claps",
         "opacity": 0.8,
         "orientation": "v",
         "type": "histogram",
         "x": [
          2,
          18,
          50,
          0,
          0,
          0,
          73,
          234,
          2,
          0,
          682,
          58,
          5,
          7,
          87,
          23,
          4,
          113,
          8,
          17,
          8,
          4800,
          2700,
          72,
          123,
          857,
          186,
          11,
          119,
          2000,
          4100,
          59,
          2700,
          77,
          14,
          7000,
          1200,
          275,
          1600,
          1600,
          1000,
          4300,
          4980,
          12900,
          223,
          4900,
          101,
          5900,
          548,
          895,
          6700,
          6500,
          2700,
          1100,
          2900,
          2600,
          2800,
          5300,
          1300,
          1000,
          7900,
          364,
          13500,
          4100,
          2200,
          3900,
          6300,
          8200,
          1300,
          5400,
          2300,
          2700,
          2100,
          707,
          650,
          2700,
          4100,
          822,
          830,
          3700,
          653,
          657,
          1100,
          2800,
          3100,
          792,
          222,
          3300,
          315,
          2500,
          976,
          2000,
          1000,
          3200,
          651,
          2300,
          809,
          745,
          587,
          818,
          2200,
          1300,
          630,
          2600,
          2000,
          3600,
          440,
          728,
          893,
          205,
          529,
          121,
          361,
          31,
          0,
          24,
          0,
          5,
          6,
          0,
          424,
          443,
          412,
          329,
          309,
          75
         ]
        }
       ],
       "layout": {
        "barmode": "overlay",
        "legend": {
         "bgcolor": "#F5F6F9",
         "font": {
          "color": "#4D5663"
         }
        },
        "paper_bgcolor": "#F5F6F9",
        "plot_bgcolor": "#F5F6F9",
        "template": {
         "data": {
          "bar": [
           {
            "error_x": {
             "color": "#2a3f5f"
            },
            "error_y": {
             "color": "#2a3f5f"
            },
            "marker": {
             "line": {
              "color": "#E5ECF6",
              "width": 0.5
             },
             "pattern": {
              "fillmode": "overlay",
              "size": 10,
              "solidity": 0.2
             }
            },
            "type": "bar"
           }
          ],
          "barpolar": [
           {
            "marker": {
             "line": {
              "color": "#E5ECF6",
              "width": 0.5
             },
             "pattern": {
              "fillmode": "overlay",
              "size": 10,
              "solidity": 0.2
             }
            },
            "type": "barpolar"
           }
          ],
          "carpet": [
           {
            "aaxis": {
             "endlinecolor": "#2a3f5f",
             "gridcolor": "white",
             "linecolor": "white",
             "minorgridcolor": "white",
             "startlinecolor": "#2a3f5f"
            },
            "baxis": {
             "endlinecolor": "#2a3f5f",
             "gridcolor": "white",
             "linecolor": "white",
             "minorgridcolor": "white",
             "startlinecolor": "#2a3f5f"
            },
            "type": "carpet"
           }
          ],
          "choropleth": [
           {
            "colorbar": {
             "outlinewidth": 0,
             "ticks": ""
            },
            "type": "choropleth"
           }
          ],
          "contour": [
           {
            "colorbar": {
             "outlinewidth": 0,
             "ticks": ""
            },
            "colorscale": [
             [
              0,
              "#0d0887"
             ],
             [
              0.1111111111111111,
              "#46039f"
             ],
             [
              0.2222222222222222,
              "#7201a8"
             ],
             [
              0.3333333333333333,
              "#9c179e"
             ],
             [
              0.4444444444444444,
              "#bd3786"
             ],
             [
              0.5555555555555556,
              "#d8576b"
             ],
             [
              0.6666666666666666,
              "#ed7953"
             ],
             [
              0.7777777777777778,
              "#fb9f3a"
             ],
             [
              0.8888888888888888,
              "#fdca26"
             ],
             [
              1,
              "#f0f921"
             ]
            ],
            "type": "contour"
           }
          ],
          "contourcarpet": [
           {
            "colorbar": {
             "outlinewidth": 0,
             "ticks": ""
            },
            "type": "contourcarpet"
           }
          ],
          "heatmap": [
           {
            "colorbar": {
             "outlinewidth": 0,
             "ticks": ""
            },
            "colorscale": [
             [
              0,
              "#0d0887"
             ],
             [
              0.1111111111111111,
              "#46039f"
             ],
             [
              0.2222222222222222,
              "#7201a8"
             ],
             [
              0.3333333333333333,
              "#9c179e"
             ],
             [
              0.4444444444444444,
              "#bd3786"
             ],
             [
              0.5555555555555556,
              "#d8576b"
             ],
             [
              0.6666666666666666,
              "#ed7953"
             ],
             [
              0.7777777777777778,
              "#fb9f3a"
             ],
             [
              0.8888888888888888,
              "#fdca26"
             ],
             [
              1,
              "#f0f921"
             ]
            ],
            "type": "heatmap"
           }
          ],
          "heatmapgl": [
           {
            "colorbar": {
             "outlinewidth": 0,
             "ticks": ""
            },
            "colorscale": [
             [
              0,
              "#0d0887"
             ],
             [
              0.1111111111111111,
              "#46039f"
             ],
             [
              0.2222222222222222,
              "#7201a8"
             ],
             [
              0.3333333333333333,
              "#9c179e"
             ],
             [
              0.4444444444444444,
              "#bd3786"
             ],
             [
              0.5555555555555556,
              "#d8576b"
             ],
             [
              0.6666666666666666,
              "#ed7953"
             ],
             [
              0.7777777777777778,
              "#fb9f3a"
             ],
             [
              0.8888888888888888,
              "#fdca26"
             ],
             [
              1,
              "#f0f921"
             ]
            ],
            "type": "heatmapgl"
           }
          ],
          "histogram": [
           {
            "marker": {
             "pattern": {
              "fillmode": "overlay",
              "size": 10,
              "solidity": 0.2
             }
            },
            "type": "histogram"
           }
          ],
          "histogram2d": [
           {
            "colorbar": {
             "outlinewidth": 0,
             "ticks": ""
            },
            "colorscale": [
             [
              0,
              "#0d0887"
             ],
             [
              0.1111111111111111,
              "#46039f"
             ],
             [
              0.2222222222222222,
              "#7201a8"
             ],
             [
              0.3333333333333333,
              "#9c179e"
             ],
             [
              0.4444444444444444,
              "#bd3786"
             ],
             [
              0.5555555555555556,
              "#d8576b"
             ],
             [
              0.6666666666666666,
              "#ed7953"
             ],
             [
              0.7777777777777778,
              "#fb9f3a"
             ],
             [
              0.8888888888888888,
              "#fdca26"
             ],
             [
              1,
              "#f0f921"
             ]
            ],
            "type": "histogram2d"
           }
          ],
          "histogram2dcontour": [
           {
            "colorbar": {
             "outlinewidth": 0,
             "ticks": ""
            },
            "colorscale": [
             [
              0,
              "#0d0887"
             ],
             [
              0.1111111111111111,
              "#46039f"
             ],
             [
              0.2222222222222222,
              "#7201a8"
             ],
             [
              0.3333333333333333,
              "#9c179e"
             ],
             [
              0.4444444444444444,
              "#bd3786"
             ],
             [
              0.5555555555555556,
              "#d8576b"
             ],
             [
              0.6666666666666666,
              "#ed7953"
             ],
             [
              0.7777777777777778,
              "#fb9f3a"
             ],
             [
              0.8888888888888888,
              "#fdca26"
             ],
             [
              1,
              "#f0f921"
             ]
            ],
            "type": "histogram2dcontour"
           }
          ],
          "mesh3d": [
           {
            "colorbar": {
             "outlinewidth": 0,
             "ticks": ""
            },
            "type": "mesh3d"
           }
          ],
          "parcoords": [
           {
            "line": {
             "colorbar": {
              "outlinewidth": 0,
              "ticks": ""
             }
            },
            "type": "parcoords"
           }
          ],
          "pie": [
           {
            "automargin": true,
            "type": "pie"
           }
          ],
          "scatter": [
           {
            "marker": {
             "colorbar": {
              "outlinewidth": 0,
              "ticks": ""
             }
            },
            "type": "scatter"
           }
          ],
          "scatter3d": [
           {
            "line": {
             "colorbar": {
              "outlinewidth": 0,
              "ticks": ""
             }
            },
            "marker": {
             "colorbar": {
              "outlinewidth": 0,
              "ticks": ""
             }
            },
            "type": "scatter3d"
           }
          ],
          "scattercarpet": [
           {
            "marker": {
             "colorbar": {
              "outlinewidth": 0,
              "ticks": ""
             }
            },
            "type": "scattercarpet"
           }
          ],
          "scattergeo": [
           {
            "marker": {
             "colorbar": {
              "outlinewidth": 0,
              "ticks": ""
             }
            },
            "type": "scattergeo"
           }
          ],
          "scattergl": [
           {
            "marker": {
             "colorbar": {
              "outlinewidth": 0,
              "ticks": ""
             }
            },
            "type": "scattergl"
           }
          ],
          "scattermapbox": [
           {
            "marker": {
             "colorbar": {
              "outlinewidth": 0,
              "ticks": ""
             }
            },
            "type": "scattermapbox"
           }
          ],
          "scatterpolar": [
           {
            "marker": {
             "colorbar": {
              "outlinewidth": 0,
              "ticks": ""
             }
            },
            "type": "scatterpolar"
           }
          ],
          "scatterpolargl": [
           {
            "marker": {
             "colorbar": {
              "outlinewidth": 0,
              "ticks": ""
             }
            },
            "type": "scatterpolargl"
           }
          ],
          "scatterternary": [
           {
            "marker": {
             "colorbar": {
              "outlinewidth": 0,
              "ticks": ""
             }
            },
            "type": "scatterternary"
           }
          ],
          "surface": [
           {
            "colorbar": {
             "outlinewidth": 0,
             "ticks": ""
            },
            "colorscale": [
             [
              0,
              "#0d0887"
             ],
             [
              0.1111111111111111,
              "#46039f"
             ],
             [
              0.2222222222222222,
              "#7201a8"
             ],
             [
              0.3333333333333333,
              "#9c179e"
             ],
             [
              0.4444444444444444,
              "#bd3786"
             ],
             [
              0.5555555555555556,
              "#d8576b"
             ],
             [
              0.6666666666666666,
              "#ed7953"
             ],
             [
              0.7777777777777778,
              "#fb9f3a"
             ],
             [
              0.8888888888888888,
              "#fdca26"
             ],
             [
              1,
              "#f0f921"
             ]
            ],
            "type": "surface"
           }
          ],
          "table": [
           {
            "cells": {
             "fill": {
              "color": "#EBF0F8"
             },
             "line": {
              "color": "white"
             }
            },
            "header": {
             "fill": {
              "color": "#C8D4E3"
             },
             "line": {
              "color": "white"
             }
            },
            "type": "table"
           }
          ]
         },
         "layout": {
          "annotationdefaults": {
           "arrowcolor": "#2a3f5f",
           "arrowhead": 0,
           "arrowwidth": 1
          },
          "autotypenumbers": "strict",
          "coloraxis": {
           "colorbar": {
            "outlinewidth": 0,
            "ticks": ""
           }
          },
          "colorscale": {
           "diverging": [
            [
             0,
             "#8e0152"
            ],
            [
             0.1,
             "#c51b7d"
            ],
            [
             0.2,
             "#de77ae"
            ],
            [
             0.3,
             "#f1b6da"
            ],
            [
             0.4,
             "#fde0ef"
            ],
            [
             0.5,
             "#f7f7f7"
            ],
            [
             0.6,
             "#e6f5d0"
            ],
            [
             0.7,
             "#b8e186"
            ],
            [
             0.8,
             "#7fbc41"
            ],
            [
             0.9,
             "#4d9221"
            ],
            [
             1,
             "#276419"
            ]
           ],
           "sequential": [
            [
             0,
             "#0d0887"
            ],
            [
             0.1111111111111111,
             "#46039f"
            ],
            [
             0.2222222222222222,
             "#7201a8"
            ],
            [
             0.3333333333333333,
             "#9c179e"
            ],
            [
             0.4444444444444444,
             "#bd3786"
            ],
            [
             0.5555555555555556,
             "#d8576b"
            ],
            [
             0.6666666666666666,
             "#ed7953"
            ],
            [
             0.7777777777777778,
             "#fb9f3a"
            ],
            [
             0.8888888888888888,
             "#fdca26"
            ],
            [
             1,
             "#f0f921"
            ]
           ],
           "sequentialminus": [
            [
             0,
             "#0d0887"
            ],
            [
             0.1111111111111111,
             "#46039f"
            ],
            [
             0.2222222222222222,
             "#7201a8"
            ],
            [
             0.3333333333333333,
             "#9c179e"
            ],
            [
             0.4444444444444444,
             "#bd3786"
            ],
            [
             0.5555555555555556,
             "#d8576b"
            ],
            [
             0.6666666666666666,
             "#ed7953"
            ],
            [
             0.7777777777777778,
             "#fb9f3a"
            ],
            [
             0.8888888888888888,
             "#fdca26"
            ],
            [
             1,
             "#f0f921"
            ]
           ]
          },
          "colorway": [
           "#636efa",
           "#EF553B",
           "#00cc96",
           "#ab63fa",
           "#FFA15A",
           "#19d3f3",
           "#FF6692",
           "#B6E880",
           "#FF97FF",
           "#FECB52"
          ],
          "font": {
           "color": "#2a3f5f"
          },
          "geo": {
           "bgcolor": "white",
           "lakecolor": "white",
           "landcolor": "#E5ECF6",
           "showlakes": true,
           "showland": true,
           "subunitcolor": "white"
          },
          "hoverlabel": {
           "align": "left"
          },
          "hovermode": "closest",
          "mapbox": {
           "style": "light"
          },
          "paper_bgcolor": "white",
          "plot_bgcolor": "#E5ECF6",
          "polar": {
           "angularaxis": {
            "gridcolor": "white",
            "linecolor": "white",
            "ticks": ""
           },
           "bgcolor": "#E5ECF6",
           "radialaxis": {
            "gridcolor": "white",
            "linecolor": "white",
            "ticks": ""
           }
          },
          "scene": {
           "xaxis": {
            "backgroundcolor": "#E5ECF6",
            "gridcolor": "white",
            "gridwidth": 2,
            "linecolor": "white",
            "showbackground": true,
            "ticks": "",
            "zerolinecolor": "white"
           },
           "yaxis": {
            "backgroundcolor": "#E5ECF6",
            "gridcolor": "white",
            "gridwidth": 2,
            "linecolor": "white",
            "showbackground": true,
            "ticks": "",
            "zerolinecolor": "white"
           },
           "zaxis": {
            "backgroundcolor": "#E5ECF6",
            "gridcolor": "white",
            "gridwidth": 2,
            "linecolor": "white",
            "showbackground": true,
            "ticks": "",
            "zerolinecolor": "white"
           }
          },
          "shapedefaults": {
           "line": {
            "color": "#2a3f5f"
           }
          },
          "ternary": {
           "aaxis": {
            "gridcolor": "white",
            "linecolor": "white",
            "ticks": ""
           },
           "baxis": {
            "gridcolor": "white",
            "linecolor": "white",
            "ticks": ""
           },
           "bgcolor": "#E5ECF6",
           "caxis": {
            "gridcolor": "white",
            "linecolor": "white",
            "ticks": ""
           }
          },
          "title": {
           "x": 0.05
          },
          "xaxis": {
           "automargin": true,
           "gridcolor": "white",
           "linecolor": "white",
           "ticks": "",
           "title": {
            "standoff": 15
           },
           "zerolinecolor": "white",
           "zerolinewidth": 2
          },
          "yaxis": {
           "automargin": true,
           "gridcolor": "white",
           "linecolor": "white",
           "ticks": "",
           "title": {
            "standoff": 15
           },
           "zerolinecolor": "white",
           "zerolinewidth": 2
          }
         }
        },
        "title": {
         "font": {
          "color": "#4D5663"
         },
         "text": "Claps Distribution"
        },
        "xaxis": {
         "gridcolor": "#E1E5ED",
         "showgrid": true,
         "tickfont": {
          "color": "#4D5663"
         },
         "title": {
          "font": {
           "color": "#4D5663"
          },
          "text": "claps"
         },
         "zerolinecolor": "#E1E5ED"
        },
        "yaxis": {
         "gridcolor": "#E1E5ED",
         "showgrid": true,
         "tickfont": {
          "color": "#4D5663"
         },
         "title": {
          "font": {
           "color": "#4D5663"
          },
          "text": "count"
         },
         "zerolinecolor": "#E1E5ED"
        }
       }
      },
      "text/html": [
       "<div>                            <div id=\"5bdd6256-fbfc-4042-a27c-c515bc5385ce\" class=\"plotly-graph-div\" style=\"height:525px; width:100%;\"></div>            <script type=\"text/javascript\">                require([\"plotly\"], function(Plotly) {                    window.PLOTLYENV=window.PLOTLYENV || {};\n",
       "                    window.PLOTLYENV.BASE_URL='https://plot.ly';                                    if (document.getElementById(\"5bdd6256-fbfc-4042-a27c-c515bc5385ce\")) {                    Plotly.newPlot(                        \"5bdd6256-fbfc-4042-a27c-c515bc5385ce\",                        [{\"histfunc\":\"count\",\"histnorm\":\"\",\"marker\":{\"color\":\"rgba(255, 153, 51, 1.0)\",\"line\":{\"color\":\"#4D5663\",\"width\":1.3}},\"name\":\"claps\",\"opacity\":0.8,\"orientation\":\"v\",\"type\":\"histogram\",\"x\":[2,18,50,0,0,0,73,234,2,0,682,58,5,7,87,23,4,113,8,17,8,4800,2700,72,123,857,186,11,119,2000,4100,59,2700,77,14,7000,1200,275,1600,1600,1000,4300,4980,12900,223,4900,101,5900,548,895,6700,6500,2700,1100,2900,2600,2800,5300,1300,1000,7900,364,13500,4100,2200,3900,6300,8200,1300,5400,2300,2700,2100,707,650,2700,4100,822,830,3700,653,657,1100,2800,3100,792,222,3300,315,2500,976,2000,1000,3200,651,2300,809,745,587,818,2200,1300,630,2600,2000,3600,440,728,893,205,529,121,361,31,0,24,0,5,6,0,424,443,412,329,309,75]}],                        {\"barmode\":\"overlay\",\"legend\":{\"bgcolor\":\"#F5F6F9\",\"font\":{\"color\":\"#4D5663\"}},\"paper_bgcolor\":\"#F5F6F9\",\"plot_bgcolor\":\"#F5F6F9\",\"template\":{\"data\":{\"bar\":[{\"error_x\":{\"color\":\"#2a3f5f\"},\"error_y\":{\"color\":\"#2a3f5f\"},\"marker\":{\"line\":{\"color\":\"#E5ECF6\",\"width\":0.5},\"pattern\":{\"fillmode\":\"overlay\",\"size\":10,\"solidity\":0.2}},\"type\":\"bar\"}],\"barpolar\":[{\"marker\":{\"line\":{\"color\":\"#E5ECF6\",\"width\":0.5},\"pattern\":{\"fillmode\":\"overlay\",\"size\":10,\"solidity\":0.2}},\"type\":\"barpolar\"}],\"carpet\":[{\"aaxis\":{\"endlinecolor\":\"#2a3f5f\",\"gridcolor\":\"white\",\"linecolor\":\"white\",\"minorgridcolor\":\"white\",\"startlinecolor\":\"#2a3f5f\"},\"baxis\":{\"endlinecolor\":\"#2a3f5f\",\"gridcolor\":\"white\",\"linecolor\":\"white\",\"minorgridcolor\":\"white\",\"startlinecolor\":\"#2a3f5f\"},\"type\":\"carpet\"}],\"choropleth\":[{\"colorbar\":{\"outlinewidth\":0,\"ticks\":\"\"},\"type\":\"choropleth\"}],\"contour\":[{\"colorbar\":{\"outlinewidth\":0,\"ticks\":\"\"},\"colorscale\":[[0.0,\"#0d0887\"],[0.1111111111111111,\"#46039f\"],[0.2222222222222222,\"#7201a8\"],[0.3333333333333333,\"#9c179e\"],[0.4444444444444444,\"#bd3786\"],[0.5555555555555556,\"#d8576b\"],[0.6666666666666666,\"#ed7953\"],[0.7777777777777778,\"#fb9f3a\"],[0.8888888888888888,\"#fdca26\"],[1.0,\"#f0f921\"]],\"type\":\"contour\"}],\"contourcarpet\":[{\"colorbar\":{\"outlinewidth\":0,\"ticks\":\"\"},\"type\":\"contourcarpet\"}],\"heatmap\":[{\"colorbar\":{\"outlinewidth\":0,\"ticks\":\"\"},\"colorscale\":[[0.0,\"#0d0887\"],[0.1111111111111111,\"#46039f\"],[0.2222222222222222,\"#7201a8\"],[0.3333333333333333,\"#9c179e\"],[0.4444444444444444,\"#bd3786\"],[0.5555555555555556,\"#d8576b\"],[0.6666666666666666,\"#ed7953\"],[0.7777777777777778,\"#fb9f3a\"],[0.8888888888888888,\"#fdca26\"],[1.0,\"#f0f921\"]],\"type\":\"heatmap\"}],\"heatmapgl\":[{\"colorbar\":{\"outlinewidth\":0,\"ticks\":\"\"},\"colorscale\":[[0.0,\"#0d0887\"],[0.1111111111111111,\"#46039f\"],[0.2222222222222222,\"#7201a8\"],[0.3333333333333333,\"#9c179e\"],[0.4444444444444444,\"#bd3786\"],[0.5555555555555556,\"#d8576b\"],[0.6666666666666666,\"#ed7953\"],[0.7777777777777778,\"#fb9f3a\"],[0.8888888888888888,\"#fdca26\"],[1.0,\"#f0f921\"]],\"type\":\"heatmapgl\"}],\"histogram\":[{\"marker\":{\"pattern\":{\"fillmode\":\"overlay\",\"size\":10,\"solidity\":0.2}},\"type\":\"histogram\"}],\"histogram2d\":[{\"colorbar\":{\"outlinewidth\":0,\"ticks\":\"\"},\"colorscale\":[[0.0,\"#0d0887\"],[0.1111111111111111,\"#46039f\"],[0.2222222222222222,\"#7201a8\"],[0.3333333333333333,\"#9c179e\"],[0.4444444444444444,\"#bd3786\"],[0.5555555555555556,\"#d8576b\"],[0.6666666666666666,\"#ed7953\"],[0.7777777777777778,\"#fb9f3a\"],[0.8888888888888888,\"#fdca26\"],[1.0,\"#f0f921\"]],\"type\":\"histogram2d\"}],\"histogram2dcontour\":[{\"colorbar\":{\"outlinewidth\":0,\"ticks\":\"\"},\"colorscale\":[[0.0,\"#0d0887\"],[0.1111111111111111,\"#46039f\"],[0.2222222222222222,\"#7201a8\"],[0.3333333333333333,\"#9c179e\"],[0.4444444444444444,\"#bd3786\"],[0.5555555555555556,\"#d8576b\"],[0.6666666666666666,\"#ed7953\"],[0.7777777777777778,\"#fb9f3a\"],[0.8888888888888888,\"#fdca26\"],[1.0,\"#f0f921\"]],\"type\":\"histogram2dcontour\"}],\"mesh3d\":[{\"colorbar\":{\"outlinewidth\":0,\"ticks\":\"\"},\"type\":\"mesh3d\"}],\"parcoords\":[{\"line\":{\"colorbar\":{\"outlinewidth\":0,\"ticks\":\"\"}},\"type\":\"parcoords\"}],\"pie\":[{\"automargin\":true,\"type\":\"pie\"}],\"scatter\":[{\"marker\":{\"colorbar\":{\"outlinewidth\":0,\"ticks\":\"\"}},\"type\":\"scatter\"}],\"scatter3d\":[{\"line\":{\"colorbar\":{\"outlinewidth\":0,\"ticks\":\"\"}},\"marker\":{\"colorbar\":{\"outlinewidth\":0,\"ticks\":\"\"}},\"type\":\"scatter3d\"}],\"scattercarpet\":[{\"marker\":{\"colorbar\":{\"outlinewidth\":0,\"ticks\":\"\"}},\"type\":\"scattercarpet\"}],\"scattergeo\":[{\"marker\":{\"colorbar\":{\"outlinewidth\":0,\"ticks\":\"\"}},\"type\":\"scattergeo\"}],\"scattergl\":[{\"marker\":{\"colorbar\":{\"outlinewidth\":0,\"ticks\":\"\"}},\"type\":\"scattergl\"}],\"scattermapbox\":[{\"marker\":{\"colorbar\":{\"outlinewidth\":0,\"ticks\":\"\"}},\"type\":\"scattermapbox\"}],\"scatterpolar\":[{\"marker\":{\"colorbar\":{\"outlinewidth\":0,\"ticks\":\"\"}},\"type\":\"scatterpolar\"}],\"scatterpolargl\":[{\"marker\":{\"colorbar\":{\"outlinewidth\":0,\"ticks\":\"\"}},\"type\":\"scatterpolargl\"}],\"scatterternary\":[{\"marker\":{\"colorbar\":{\"outlinewidth\":0,\"ticks\":\"\"}},\"type\":\"scatterternary\"}],\"surface\":[{\"colorbar\":{\"outlinewidth\":0,\"ticks\":\"\"},\"colorscale\":[[0.0,\"#0d0887\"],[0.1111111111111111,\"#46039f\"],[0.2222222222222222,\"#7201a8\"],[0.3333333333333333,\"#9c179e\"],[0.4444444444444444,\"#bd3786\"],[0.5555555555555556,\"#d8576b\"],[0.6666666666666666,\"#ed7953\"],[0.7777777777777778,\"#fb9f3a\"],[0.8888888888888888,\"#fdca26\"],[1.0,\"#f0f921\"]],\"type\":\"surface\"}],\"table\":[{\"cells\":{\"fill\":{\"color\":\"#EBF0F8\"},\"line\":{\"color\":\"white\"}},\"header\":{\"fill\":{\"color\":\"#C8D4E3\"},\"line\":{\"color\":\"white\"}},\"type\":\"table\"}]},\"layout\":{\"annotationdefaults\":{\"arrowcolor\":\"#2a3f5f\",\"arrowhead\":0,\"arrowwidth\":1},\"autotypenumbers\":\"strict\",\"coloraxis\":{\"colorbar\":{\"outlinewidth\":0,\"ticks\":\"\"}},\"colorscale\":{\"diverging\":[[0,\"#8e0152\"],[0.1,\"#c51b7d\"],[0.2,\"#de77ae\"],[0.3,\"#f1b6da\"],[0.4,\"#fde0ef\"],[0.5,\"#f7f7f7\"],[0.6,\"#e6f5d0\"],[0.7,\"#b8e186\"],[0.8,\"#7fbc41\"],[0.9,\"#4d9221\"],[1,\"#276419\"]],\"sequential\":[[0.0,\"#0d0887\"],[0.1111111111111111,\"#46039f\"],[0.2222222222222222,\"#7201a8\"],[0.3333333333333333,\"#9c179e\"],[0.4444444444444444,\"#bd3786\"],[0.5555555555555556,\"#d8576b\"],[0.6666666666666666,\"#ed7953\"],[0.7777777777777778,\"#fb9f3a\"],[0.8888888888888888,\"#fdca26\"],[1.0,\"#f0f921\"]],\"sequentialminus\":[[0.0,\"#0d0887\"],[0.1111111111111111,\"#46039f\"],[0.2222222222222222,\"#7201a8\"],[0.3333333333333333,\"#9c179e\"],[0.4444444444444444,\"#bd3786\"],[0.5555555555555556,\"#d8576b\"],[0.6666666666666666,\"#ed7953\"],[0.7777777777777778,\"#fb9f3a\"],[0.8888888888888888,\"#fdca26\"],[1.0,\"#f0f921\"]]},\"colorway\":[\"#636efa\",\"#EF553B\",\"#00cc96\",\"#ab63fa\",\"#FFA15A\",\"#19d3f3\",\"#FF6692\",\"#B6E880\",\"#FF97FF\",\"#FECB52\"],\"font\":{\"color\":\"#2a3f5f\"},\"geo\":{\"bgcolor\":\"white\",\"lakecolor\":\"white\",\"landcolor\":\"#E5ECF6\",\"showlakes\":true,\"showland\":true,\"subunitcolor\":\"white\"},\"hoverlabel\":{\"align\":\"left\"},\"hovermode\":\"closest\",\"mapbox\":{\"style\":\"light\"},\"paper_bgcolor\":\"white\",\"plot_bgcolor\":\"#E5ECF6\",\"polar\":{\"angularaxis\":{\"gridcolor\":\"white\",\"linecolor\":\"white\",\"ticks\":\"\"},\"bgcolor\":\"#E5ECF6\",\"radialaxis\":{\"gridcolor\":\"white\",\"linecolor\":\"white\",\"ticks\":\"\"}},\"scene\":{\"xaxis\":{\"backgroundcolor\":\"#E5ECF6\",\"gridcolor\":\"white\",\"gridwidth\":2,\"linecolor\":\"white\",\"showbackground\":true,\"ticks\":\"\",\"zerolinecolor\":\"white\"},\"yaxis\":{\"backgroundcolor\":\"#E5ECF6\",\"gridcolor\":\"white\",\"gridwidth\":2,\"linecolor\":\"white\",\"showbackground\":true,\"ticks\":\"\",\"zerolinecolor\":\"white\"},\"zaxis\":{\"backgroundcolor\":\"#E5ECF6\",\"gridcolor\":\"white\",\"gridwidth\":2,\"linecolor\":\"white\",\"showbackground\":true,\"ticks\":\"\",\"zerolinecolor\":\"white\"}},\"shapedefaults\":{\"line\":{\"color\":\"#2a3f5f\"}},\"ternary\":{\"aaxis\":{\"gridcolor\":\"white\",\"linecolor\":\"white\",\"ticks\":\"\"},\"baxis\":{\"gridcolor\":\"white\",\"linecolor\":\"white\",\"ticks\":\"\"},\"bgcolor\":\"#E5ECF6\",\"caxis\":{\"gridcolor\":\"white\",\"linecolor\":\"white\",\"ticks\":\"\"}},\"title\":{\"x\":0.05},\"xaxis\":{\"automargin\":true,\"gridcolor\":\"white\",\"linecolor\":\"white\",\"ticks\":\"\",\"title\":{\"standoff\":15},\"zerolinecolor\":\"white\",\"zerolinewidth\":2},\"yaxis\":{\"automargin\":true,\"gridcolor\":\"white\",\"linecolor\":\"white\",\"ticks\":\"\",\"title\":{\"standoff\":15},\"zerolinecolor\":\"white\",\"zerolinewidth\":2}}},\"title\":{\"font\":{\"color\":\"#4D5663\"},\"text\":\"Claps Distribution\"},\"xaxis\":{\"gridcolor\":\"#E1E5ED\",\"showgrid\":true,\"tickfont\":{\"color\":\"#4D5663\"},\"title\":{\"font\":{\"color\":\"#4D5663\"},\"text\":\"claps\"},\"zerolinecolor\":\"#E1E5ED\"},\"yaxis\":{\"gridcolor\":\"#E1E5ED\",\"showgrid\":true,\"tickfont\":{\"color\":\"#4D5663\"},\"title\":{\"font\":{\"color\":\"#4D5663\"},\"text\":\"count\"},\"zerolinecolor\":\"#E1E5ED\"}},                        {\"showLink\": true, \"linkText\": \"Export to plot.ly\", \"plotlyServerURL\": \"https://plot.ly\", \"responsive\": true}                    ).then(function(){\n",
       "                            \n",
       "var gd = document.getElementById('5bdd6256-fbfc-4042-a27c-c515bc5385ce');\n",
       "var x = new MutationObserver(function (mutations, observer) {{\n",
       "        var display = window.getComputedStyle(gd).display;\n",
       "        if (!display || display === 'none') {{\n",
       "            console.log([gd, 'removed!']);\n",
       "            Plotly.purge(gd);\n",
       "            observer.disconnect();\n",
       "        }}\n",
       "}});\n",
       "\n",
       "// Listen for the removal of the full notebook cells\n",
       "var notebookContainer = gd.closest('#notebook-container');\n",
       "if (notebookContainer) {{\n",
       "    x.observe(notebookContainer, {childList: true});\n",
       "}}\n",
       "\n",
       "// Listen for the clearing of the current output cell\n",
       "var outputEl = gd.closest('.output');\n",
       "if (outputEl) {{\n",
       "    x.observe(outputEl, {childList: true});\n",
       "}}\n",
       "\n",
       "                        })                };                });            </script>        </div>"
      ]
     },
     "metadata": {},
     "output_type": "display_data"
    }
   ],
   "source": [
    "#I/ Histograms and Boxplots\n",
    "df['claps'].iplot(kind='hist', xTitle='claps', yTitle='count', title='Claps Distribution')"
   ]
  },
  {
   "cell_type": "code",
   "execution_count": 25,
   "id": "d6408ba7",
   "metadata": {},
   "outputs": [
    {
     "data": {
      "application/vnd.plotly.v1+json": {
       "config": {
        "linkText": "Export to plot.ly",
        "plotlyServerURL": "https://plot.ly",
        "showLink": true
       },
       "data": [
        {
         "histfunc": "count",
         "histnorm": "percent",
         "marker": {
          "color": "rgba(255, 153, 51, 1.0)",
          "line": {
           "color": "#4D5663",
           "width": 1.3
          }
         },
         "name": "time_started",
         "opacity": 0.8,
         "orientation": "v",
         "type": "histogram",
         "x": [
          14.4,
          22.033333333333335,
          12,
          18.35,
          20.3,
          19.116666666666667,
          11.516666666666667,
          20.816666666666666,
          9.1,
          20.066666666666666,
          15.233333333333333,
          11.333333333333334,
          13.033333333333333,
          6.966666666666667,
          12.616666666666667,
          15.783333333333333,
          20.716666666666665,
          15.3,
          14.016666666666667,
          13.55,
          6.1,
          15.183333333333334,
          19.466666666666665,
          18.783333333333335,
          18.8,
          21.633333333333333,
          13.3,
          20.733333333333334,
          17.383333333333333,
          12.433333333333334,
          8.75,
          8.066666666666666,
          10.7,
          18.266666666666666,
          7.266666666666667,
          18.45,
          15.783333333333333,
          21.083333333333332,
          19.8,
          18.366666666666667,
          20.533333333333335,
          7.6,
          20.633333333333333,
          7.816666666666666,
          20.633333333333333,
          7.3,
          8.25,
          19.1,
          7.783333333333333,
          20.633333333333333,
          14.533333333333333,
          12.366666666666667,
          12.666666666666666,
          12.366666666666667,
          21.35,
          9.55,
          20.1,
          9.966666666666667,
          19.95,
          11.033333333333333,
          13.033333333333333,
          19.45,
          13.633333333333333,
          13.983333333333333,
          9.6,
          12.133333333333333,
          18.183333333333334,
          6.85,
          18.2,
          16.283333333333335,
          10.916666666666666,
          16,
          19.116666666666667,
          19.933333333333334,
          7.033333333333333,
          11.183333333333334,
          20.466666666666665,
          15.3,
          19.016666666666666,
          12.016666666666667,
          9.216666666666667,
          8.666666666666666,
          20.016666666666666,
          15.45,
          14.9,
          5.466666666666667,
          10.85,
          20.066666666666666,
          14.35,
          19.866666666666667,
          5.05,
          16.35,
          6.983333333333333,
          20.216666666666665,
          21.15,
          8.4,
          15.683333333333334,
          15.283333333333333,
          10.383333333333333,
          11.3,
          20.2,
          17.116666666666667,
          17.783333333333335,
          15.716666666666667,
          21.283333333333335,
          19.85,
          19.85,
          19.166666666666668,
          7.866666666666667,
          18.8,
          8.716666666666667,
          15.433333333333334,
          14.75,
          8.25,
          8.366666666666667,
          8.283333333333333,
          8.333333333333334,
          8.316666666666666,
          8.35,
          7.333333333333333,
          15.483333333333333,
          11.683333333333334,
          16.933333333333334,
          20.15,
          9.95,
          21.6
         ]
        },
        {
         "histfunc": "count",
         "histnorm": "percent",
         "marker": {
          "color": "rgba(55, 128, 191, 1.0)",
          "line": {
           "color": "#4D5663",
           "width": 1.3
          }
         },
         "name": "time_published",
         "opacity": 0.8,
         "orientation": "v",
         "type": "histogram",
         "x": [
          14.416666666666666,
          22.033333333333335,
          12.916666666666666,
          9.133333333333333,
          8.85,
          21.15,
          17.9,
          21.283333333333335,
          17.833333333333332,
          14.35,
          14.4,
          12.966666666666667,
          12.966666666666667,
          19.966666666666665,
          15.283333333333333,
          17.05,
          14.033333333333333,
          17.1,
          15.15,
          15.066666666666666,
          10.333333333333334,
          11.333333333333334,
          11.366666666666667,
          18.85,
          13.75,
          20.25,
          20.616666666666667,
          9.75,
          16.966666666666665,
          21.816666666666666,
          20.8,
          9.85,
          15.4,
          19.7,
          8.916666666666666,
          15.5,
          20.266666666666666,
          14.366666666666667,
          18.45,
          20.283333333333335,
          8.666666666666666,
          11.683333333333334,
          9.433333333333334,
          9.2,
          9.15,
          22.483333333333334,
          18.95,
          11.45,
          12.816666666666666,
          9.55,
          11.166666666666666,
          16.266666666666666,
          10.483333333333333,
          9.783333333333333,
          12.733333333333333,
          8.6,
          14.2,
          20.633333333333333,
          13.516666666666667,
          13.566666666666666,
          15.45,
          11.066666666666666,
          12.55,
          9.566666666666666,
          9.8,
          14.266666666666667,
          11.65,
          10.016666666666667,
          20.583333333333332,
          10.2,
          8.433333333333334,
          8.55,
          11.066666666666666,
          8.95,
          9.583333333333334,
          9.066666666666666,
          5.883333333333333,
          14.716666666666667,
          19.816666666666666,
          9.8,
          9.85,
          19.133333333333333,
          12.733333333333333,
          17.45,
          9.433333333333334,
          10.516666666666667,
          17.916666666666668,
          10.433333333333334,
          13.683333333333334,
          21.066666666666666,
          13.166666666666666,
          12.516666666666667,
          10.433333333333334,
          15.533333333333333,
          20.733333333333334,
          21.5,
          10.233333333333333,
          10.283333333333333,
          9,
          8.583333333333334,
          21.9,
          19.95,
          13.416666666666666,
          10.383333333333333,
          11.833333333333334,
          16.266666666666666,
          14.683333333333334,
          21.266666666666666,
          12.65,
          21.05,
          20.066666666666666,
          20.383333333333333,
          15.466666666666667,
          21.366666666666667,
          21.4,
          21.416666666666668,
          21.433333333333334,
          21.433333333333334,
          21.45,
          8,
          12.516666666666667,
          11.6,
          17.883333333333333,
          8.25,
          9.483333333333333,
          21.066666666666666
         ]
        }
       ],
       "layout": {
        "barmode": "overlay",
        "legend": {
         "bgcolor": "#F5F6F9",
         "font": {
          "color": "#4D5663"
         }
        },
        "paper_bgcolor": "#F5F6F9",
        "plot_bgcolor": "#F5F6F9",
        "template": {
         "data": {
          "bar": [
           {
            "error_x": {
             "color": "#2a3f5f"
            },
            "error_y": {
             "color": "#2a3f5f"
            },
            "marker": {
             "line": {
              "color": "#E5ECF6",
              "width": 0.5
             },
             "pattern": {
              "fillmode": "overlay",
              "size": 10,
              "solidity": 0.2
             }
            },
            "type": "bar"
           }
          ],
          "barpolar": [
           {
            "marker": {
             "line": {
              "color": "#E5ECF6",
              "width": 0.5
             },
             "pattern": {
              "fillmode": "overlay",
              "size": 10,
              "solidity": 0.2
             }
            },
            "type": "barpolar"
           }
          ],
          "carpet": [
           {
            "aaxis": {
             "endlinecolor": "#2a3f5f",
             "gridcolor": "white",
             "linecolor": "white",
             "minorgridcolor": "white",
             "startlinecolor": "#2a3f5f"
            },
            "baxis": {
             "endlinecolor": "#2a3f5f",
             "gridcolor": "white",
             "linecolor": "white",
             "minorgridcolor": "white",
             "startlinecolor": "#2a3f5f"
            },
            "type": "carpet"
           }
          ],
          "choropleth": [
           {
            "colorbar": {
             "outlinewidth": 0,
             "ticks": ""
            },
            "type": "choropleth"
           }
          ],
          "contour": [
           {
            "colorbar": {
             "outlinewidth": 0,
             "ticks": ""
            },
            "colorscale": [
             [
              0,
              "#0d0887"
             ],
             [
              0.1111111111111111,
              "#46039f"
             ],
             [
              0.2222222222222222,
              "#7201a8"
             ],
             [
              0.3333333333333333,
              "#9c179e"
             ],
             [
              0.4444444444444444,
              "#bd3786"
             ],
             [
              0.5555555555555556,
              "#d8576b"
             ],
             [
              0.6666666666666666,
              "#ed7953"
             ],
             [
              0.7777777777777778,
              "#fb9f3a"
             ],
             [
              0.8888888888888888,
              "#fdca26"
             ],
             [
              1,
              "#f0f921"
             ]
            ],
            "type": "contour"
           }
          ],
          "contourcarpet": [
           {
            "colorbar": {
             "outlinewidth": 0,
             "ticks": ""
            },
            "type": "contourcarpet"
           }
          ],
          "heatmap": [
           {
            "colorbar": {
             "outlinewidth": 0,
             "ticks": ""
            },
            "colorscale": [
             [
              0,
              "#0d0887"
             ],
             [
              0.1111111111111111,
              "#46039f"
             ],
             [
              0.2222222222222222,
              "#7201a8"
             ],
             [
              0.3333333333333333,
              "#9c179e"
             ],
             [
              0.4444444444444444,
              "#bd3786"
             ],
             [
              0.5555555555555556,
              "#d8576b"
             ],
             [
              0.6666666666666666,
              "#ed7953"
             ],
             [
              0.7777777777777778,
              "#fb9f3a"
             ],
             [
              0.8888888888888888,
              "#fdca26"
             ],
             [
              1,
              "#f0f921"
             ]
            ],
            "type": "heatmap"
           }
          ],
          "heatmapgl": [
           {
            "colorbar": {
             "outlinewidth": 0,
             "ticks": ""
            },
            "colorscale": [
             [
              0,
              "#0d0887"
             ],
             [
              0.1111111111111111,
              "#46039f"
             ],
             [
              0.2222222222222222,
              "#7201a8"
             ],
             [
              0.3333333333333333,
              "#9c179e"
             ],
             [
              0.4444444444444444,
              "#bd3786"
             ],
             [
              0.5555555555555556,
              "#d8576b"
             ],
             [
              0.6666666666666666,
              "#ed7953"
             ],
             [
              0.7777777777777778,
              "#fb9f3a"
             ],
             [
              0.8888888888888888,
              "#fdca26"
             ],
             [
              1,
              "#f0f921"
             ]
            ],
            "type": "heatmapgl"
           }
          ],
          "histogram": [
           {
            "marker": {
             "pattern": {
              "fillmode": "overlay",
              "size": 10,
              "solidity": 0.2
             }
            },
            "type": "histogram"
           }
          ],
          "histogram2d": [
           {
            "colorbar": {
             "outlinewidth": 0,
             "ticks": ""
            },
            "colorscale": [
             [
              0,
              "#0d0887"
             ],
             [
              0.1111111111111111,
              "#46039f"
             ],
             [
              0.2222222222222222,
              "#7201a8"
             ],
             [
              0.3333333333333333,
              "#9c179e"
             ],
             [
              0.4444444444444444,
              "#bd3786"
             ],
             [
              0.5555555555555556,
              "#d8576b"
             ],
             [
              0.6666666666666666,
              "#ed7953"
             ],
             [
              0.7777777777777778,
              "#fb9f3a"
             ],
             [
              0.8888888888888888,
              "#fdca26"
             ],
             [
              1,
              "#f0f921"
             ]
            ],
            "type": "histogram2d"
           }
          ],
          "histogram2dcontour": [
           {
            "colorbar": {
             "outlinewidth": 0,
             "ticks": ""
            },
            "colorscale": [
             [
              0,
              "#0d0887"
             ],
             [
              0.1111111111111111,
              "#46039f"
             ],
             [
              0.2222222222222222,
              "#7201a8"
             ],
             [
              0.3333333333333333,
              "#9c179e"
             ],
             [
              0.4444444444444444,
              "#bd3786"
             ],
             [
              0.5555555555555556,
              "#d8576b"
             ],
             [
              0.6666666666666666,
              "#ed7953"
             ],
             [
              0.7777777777777778,
              "#fb9f3a"
             ],
             [
              0.8888888888888888,
              "#fdca26"
             ],
             [
              1,
              "#f0f921"
             ]
            ],
            "type": "histogram2dcontour"
           }
          ],
          "mesh3d": [
           {
            "colorbar": {
             "outlinewidth": 0,
             "ticks": ""
            },
            "type": "mesh3d"
           }
          ],
          "parcoords": [
           {
            "line": {
             "colorbar": {
              "outlinewidth": 0,
              "ticks": ""
             }
            },
            "type": "parcoords"
           }
          ],
          "pie": [
           {
            "automargin": true,
            "type": "pie"
           }
          ],
          "scatter": [
           {
            "marker": {
             "colorbar": {
              "outlinewidth": 0,
              "ticks": ""
             }
            },
            "type": "scatter"
           }
          ],
          "scatter3d": [
           {
            "line": {
             "colorbar": {
              "outlinewidth": 0,
              "ticks": ""
             }
            },
            "marker": {
             "colorbar": {
              "outlinewidth": 0,
              "ticks": ""
             }
            },
            "type": "scatter3d"
           }
          ],
          "scattercarpet": [
           {
            "marker": {
             "colorbar": {
              "outlinewidth": 0,
              "ticks": ""
             }
            },
            "type": "scattercarpet"
           }
          ],
          "scattergeo": [
           {
            "marker": {
             "colorbar": {
              "outlinewidth": 0,
              "ticks": ""
             }
            },
            "type": "scattergeo"
           }
          ],
          "scattergl": [
           {
            "marker": {
             "colorbar": {
              "outlinewidth": 0,
              "ticks": ""
             }
            },
            "type": "scattergl"
           }
          ],
          "scattermapbox": [
           {
            "marker": {
             "colorbar": {
              "outlinewidth": 0,
              "ticks": ""
             }
            },
            "type": "scattermapbox"
           }
          ],
          "scatterpolar": [
           {
            "marker": {
             "colorbar": {
              "outlinewidth": 0,
              "ticks": ""
             }
            },
            "type": "scatterpolar"
           }
          ],
          "scatterpolargl": [
           {
            "marker": {
             "colorbar": {
              "outlinewidth": 0,
              "ticks": ""
             }
            },
            "type": "scatterpolargl"
           }
          ],
          "scatterternary": [
           {
            "marker": {
             "colorbar": {
              "outlinewidth": 0,
              "ticks": ""
             }
            },
            "type": "scatterternary"
           }
          ],
          "surface": [
           {
            "colorbar": {
             "outlinewidth": 0,
             "ticks": ""
            },
            "colorscale": [
             [
              0,
              "#0d0887"
             ],
             [
              0.1111111111111111,
              "#46039f"
             ],
             [
              0.2222222222222222,
              "#7201a8"
             ],
             [
              0.3333333333333333,
              "#9c179e"
             ],
             [
              0.4444444444444444,
              "#bd3786"
             ],
             [
              0.5555555555555556,
              "#d8576b"
             ],
             [
              0.6666666666666666,
              "#ed7953"
             ],
             [
              0.7777777777777778,
              "#fb9f3a"
             ],
             [
              0.8888888888888888,
              "#fdca26"
             ],
             [
              1,
              "#f0f921"
             ]
            ],
            "type": "surface"
           }
          ],
          "table": [
           {
            "cells": {
             "fill": {
              "color": "#EBF0F8"
             },
             "line": {
              "color": "white"
             }
            },
            "header": {
             "fill": {
              "color": "#C8D4E3"
             },
             "line": {
              "color": "white"
             }
            },
            "type": "table"
           }
          ]
         },
         "layout": {
          "annotationdefaults": {
           "arrowcolor": "#2a3f5f",
           "arrowhead": 0,
           "arrowwidth": 1
          },
          "autotypenumbers": "strict",
          "coloraxis": {
           "colorbar": {
            "outlinewidth": 0,
            "ticks": ""
           }
          },
          "colorscale": {
           "diverging": [
            [
             0,
             "#8e0152"
            ],
            [
             0.1,
             "#c51b7d"
            ],
            [
             0.2,
             "#de77ae"
            ],
            [
             0.3,
             "#f1b6da"
            ],
            [
             0.4,
             "#fde0ef"
            ],
            [
             0.5,
             "#f7f7f7"
            ],
            [
             0.6,
             "#e6f5d0"
            ],
            [
             0.7,
             "#b8e186"
            ],
            [
             0.8,
             "#7fbc41"
            ],
            [
             0.9,
             "#4d9221"
            ],
            [
             1,
             "#276419"
            ]
           ],
           "sequential": [
            [
             0,
             "#0d0887"
            ],
            [
             0.1111111111111111,
             "#46039f"
            ],
            [
             0.2222222222222222,
             "#7201a8"
            ],
            [
             0.3333333333333333,
             "#9c179e"
            ],
            [
             0.4444444444444444,
             "#bd3786"
            ],
            [
             0.5555555555555556,
             "#d8576b"
            ],
            [
             0.6666666666666666,
             "#ed7953"
            ],
            [
             0.7777777777777778,
             "#fb9f3a"
            ],
            [
             0.8888888888888888,
             "#fdca26"
            ],
            [
             1,
             "#f0f921"
            ]
           ],
           "sequentialminus": [
            [
             0,
             "#0d0887"
            ],
            [
             0.1111111111111111,
             "#46039f"
            ],
            [
             0.2222222222222222,
             "#7201a8"
            ],
            [
             0.3333333333333333,
             "#9c179e"
            ],
            [
             0.4444444444444444,
             "#bd3786"
            ],
            [
             0.5555555555555556,
             "#d8576b"
            ],
            [
             0.6666666666666666,
             "#ed7953"
            ],
            [
             0.7777777777777778,
             "#fb9f3a"
            ],
            [
             0.8888888888888888,
             "#fdca26"
            ],
            [
             1,
             "#f0f921"
            ]
           ]
          },
          "colorway": [
           "#636efa",
           "#EF553B",
           "#00cc96",
           "#ab63fa",
           "#FFA15A",
           "#19d3f3",
           "#FF6692",
           "#B6E880",
           "#FF97FF",
           "#FECB52"
          ],
          "font": {
           "color": "#2a3f5f"
          },
          "geo": {
           "bgcolor": "white",
           "lakecolor": "white",
           "landcolor": "#E5ECF6",
           "showlakes": true,
           "showland": true,
           "subunitcolor": "white"
          },
          "hoverlabel": {
           "align": "left"
          },
          "hovermode": "closest",
          "mapbox": {
           "style": "light"
          },
          "paper_bgcolor": "white",
          "plot_bgcolor": "#E5ECF6",
          "polar": {
           "angularaxis": {
            "gridcolor": "white",
            "linecolor": "white",
            "ticks": ""
           },
           "bgcolor": "#E5ECF6",
           "radialaxis": {
            "gridcolor": "white",
            "linecolor": "white",
            "ticks": ""
           }
          },
          "scene": {
           "xaxis": {
            "backgroundcolor": "#E5ECF6",
            "gridcolor": "white",
            "gridwidth": 2,
            "linecolor": "white",
            "showbackground": true,
            "ticks": "",
            "zerolinecolor": "white"
           },
           "yaxis": {
            "backgroundcolor": "#E5ECF6",
            "gridcolor": "white",
            "gridwidth": 2,
            "linecolor": "white",
            "showbackground": true,
            "ticks": "",
            "zerolinecolor": "white"
           },
           "zaxis": {
            "backgroundcolor": "#E5ECF6",
            "gridcolor": "white",
            "gridwidth": 2,
            "linecolor": "white",
            "showbackground": true,
            "ticks": "",
            "zerolinecolor": "white"
           }
          },
          "shapedefaults": {
           "line": {
            "color": "#2a3f5f"
           }
          },
          "ternary": {
           "aaxis": {
            "gridcolor": "white",
            "linecolor": "white",
            "ticks": ""
           },
           "baxis": {
            "gridcolor": "white",
            "linecolor": "white",
            "ticks": ""
           },
           "bgcolor": "#E5ECF6",
           "caxis": {
            "gridcolor": "white",
            "linecolor": "white",
            "ticks": ""
           }
          },
          "title": {
           "x": 0.05
          },
          "xaxis": {
           "automargin": true,
           "gridcolor": "white",
           "linecolor": "white",
           "ticks": "",
           "title": {
            "standoff": 15
           },
           "zerolinecolor": "white",
           "zerolinewidth": 2
          },
          "yaxis": {
           "automargin": true,
           "gridcolor": "white",
           "linecolor": "white",
           "ticks": "",
           "title": {
            "standoff": 15
           },
           "zerolinecolor": "white",
           "zerolinewidth": 2
          }
         }
        },
        "title": {
         "font": {
          "color": "#4D5663"
         },
         "text": "Time Started and Time Published"
        },
        "xaxis": {
         "gridcolor": "#E1E5ED",
         "showgrid": true,
         "tickfont": {
          "color": "#4D5663"
         },
         "title": {
          "font": {
           "color": "#4D5663"
          },
          "text": "Time of Day"
         },
         "zerolinecolor": "#E1E5ED"
        },
        "yaxis": {
         "gridcolor": "#E1E5ED",
         "showgrid": true,
         "tickfont": {
          "color": "#4D5663"
         },
         "title": {
          "font": {
           "color": "#4D5663"
          },
          "text": "(%) of Articles"
         },
         "zerolinecolor": "#E1E5ED"
        }
       }
      },
      "text/html": [
       "<div>                            <div id=\"c7629cbb-8bf3-448a-9970-63038fd7dfee\" class=\"plotly-graph-div\" style=\"height:525px; width:100%;\"></div>            <script type=\"text/javascript\">                require([\"plotly\"], function(Plotly) {                    window.PLOTLYENV=window.PLOTLYENV || {};\n",
       "                    window.PLOTLYENV.BASE_URL='https://plot.ly';                                    if (document.getElementById(\"c7629cbb-8bf3-448a-9970-63038fd7dfee\")) {                    Plotly.newPlot(                        \"c7629cbb-8bf3-448a-9970-63038fd7dfee\",                        [{\"histfunc\":\"count\",\"histnorm\":\"percent\",\"marker\":{\"color\":\"rgba(255, 153, 51, 1.0)\",\"line\":{\"color\":\"#4D5663\",\"width\":1.3}},\"name\":\"time_started\",\"opacity\":0.8,\"orientation\":\"v\",\"type\":\"histogram\",\"x\":[14.4,22.033333333333335,12.0,18.35,20.3,19.116666666666667,11.516666666666667,20.816666666666666,9.1,20.066666666666666,15.233333333333333,11.333333333333334,13.033333333333333,6.966666666666667,12.616666666666667,15.783333333333333,20.716666666666665,15.3,14.016666666666667,13.55,6.1,15.183333333333334,19.466666666666665,18.783333333333335,18.8,21.633333333333333,13.3,20.733333333333334,17.383333333333333,12.433333333333334,8.75,8.066666666666666,10.7,18.266666666666666,7.266666666666667,18.45,15.783333333333333,21.083333333333332,19.8,18.366666666666667,20.533333333333335,7.6,20.633333333333333,7.816666666666666,20.633333333333333,7.3,8.25,19.1,7.783333333333333,20.633333333333333,14.533333333333333,12.366666666666667,12.666666666666666,12.366666666666667,21.35,9.55,20.1,9.966666666666667,19.95,11.033333333333333,13.033333333333333,19.45,13.633333333333333,13.983333333333333,9.6,12.133333333333333,18.183333333333334,6.85,18.2,16.283333333333335,10.916666666666666,16.0,19.116666666666667,19.933333333333334,7.033333333333333,11.183333333333334,20.466666666666665,15.3,19.016666666666666,12.016666666666667,9.216666666666667,8.666666666666666,20.016666666666666,15.45,14.9,5.466666666666667,10.85,20.066666666666666,14.35,19.866666666666667,5.05,16.35,6.983333333333333,20.216666666666665,21.15,8.4,15.683333333333334,15.283333333333333,10.383333333333333,11.3,20.2,17.116666666666667,17.783333333333335,15.716666666666667,21.283333333333335,19.85,19.85,19.166666666666668,7.866666666666667,18.8,8.716666666666667,15.433333333333334,14.75,8.25,8.366666666666667,8.283333333333333,8.333333333333334,8.316666666666666,8.35,7.333333333333333,15.483333333333333,11.683333333333334,16.933333333333334,20.15,9.95,21.6]},{\"histfunc\":\"count\",\"histnorm\":\"percent\",\"marker\":{\"color\":\"rgba(55, 128, 191, 1.0)\",\"line\":{\"color\":\"#4D5663\",\"width\":1.3}},\"name\":\"time_published\",\"opacity\":0.8,\"orientation\":\"v\",\"type\":\"histogram\",\"x\":[14.416666666666666,22.033333333333335,12.916666666666666,9.133333333333333,8.85,21.15,17.9,21.283333333333335,17.833333333333332,14.35,14.4,12.966666666666667,12.966666666666667,19.966666666666665,15.283333333333333,17.05,14.033333333333333,17.1,15.15,15.066666666666666,10.333333333333334,11.333333333333334,11.366666666666667,18.85,13.75,20.25,20.616666666666667,9.75,16.966666666666665,21.816666666666666,20.8,9.85,15.4,19.7,8.916666666666666,15.5,20.266666666666666,14.366666666666667,18.45,20.283333333333335,8.666666666666666,11.683333333333334,9.433333333333334,9.2,9.15,22.483333333333334,18.95,11.45,12.816666666666666,9.55,11.166666666666666,16.266666666666666,10.483333333333333,9.783333333333333,12.733333333333333,8.6,14.2,20.633333333333333,13.516666666666667,13.566666666666666,15.45,11.066666666666666,12.55,9.566666666666666,9.8,14.266666666666667,11.65,10.016666666666667,20.583333333333332,10.2,8.433333333333334,8.55,11.066666666666666,8.95,9.583333333333334,9.066666666666666,5.883333333333333,14.716666666666667,19.816666666666666,9.8,9.85,19.133333333333333,12.733333333333333,17.45,9.433333333333334,10.516666666666667,17.916666666666668,10.433333333333334,13.683333333333334,21.066666666666666,13.166666666666666,12.516666666666667,10.433333333333334,15.533333333333333,20.733333333333334,21.5,10.233333333333333,10.283333333333333,9.0,8.583333333333334,21.9,19.95,13.416666666666666,10.383333333333333,11.833333333333334,16.266666666666666,14.683333333333334,21.266666666666666,12.65,21.05,20.066666666666666,20.383333333333333,15.466666666666667,21.366666666666667,21.4,21.416666666666668,21.433333333333334,21.433333333333334,21.45,8.0,12.516666666666667,11.6,17.883333333333333,8.25,9.483333333333333,21.066666666666666]}],                        {\"barmode\":\"overlay\",\"legend\":{\"bgcolor\":\"#F5F6F9\",\"font\":{\"color\":\"#4D5663\"}},\"paper_bgcolor\":\"#F5F6F9\",\"plot_bgcolor\":\"#F5F6F9\",\"template\":{\"data\":{\"bar\":[{\"error_x\":{\"color\":\"#2a3f5f\"},\"error_y\":{\"color\":\"#2a3f5f\"},\"marker\":{\"line\":{\"color\":\"#E5ECF6\",\"width\":0.5},\"pattern\":{\"fillmode\":\"overlay\",\"size\":10,\"solidity\":0.2}},\"type\":\"bar\"}],\"barpolar\":[{\"marker\":{\"line\":{\"color\":\"#E5ECF6\",\"width\":0.5},\"pattern\":{\"fillmode\":\"overlay\",\"size\":10,\"solidity\":0.2}},\"type\":\"barpolar\"}],\"carpet\":[{\"aaxis\":{\"endlinecolor\":\"#2a3f5f\",\"gridcolor\":\"white\",\"linecolor\":\"white\",\"minorgridcolor\":\"white\",\"startlinecolor\":\"#2a3f5f\"},\"baxis\":{\"endlinecolor\":\"#2a3f5f\",\"gridcolor\":\"white\",\"linecolor\":\"white\",\"minorgridcolor\":\"white\",\"startlinecolor\":\"#2a3f5f\"},\"type\":\"carpet\"}],\"choropleth\":[{\"colorbar\":{\"outlinewidth\":0,\"ticks\":\"\"},\"type\":\"choropleth\"}],\"contour\":[{\"colorbar\":{\"outlinewidth\":0,\"ticks\":\"\"},\"colorscale\":[[0.0,\"#0d0887\"],[0.1111111111111111,\"#46039f\"],[0.2222222222222222,\"#7201a8\"],[0.3333333333333333,\"#9c179e\"],[0.4444444444444444,\"#bd3786\"],[0.5555555555555556,\"#d8576b\"],[0.6666666666666666,\"#ed7953\"],[0.7777777777777778,\"#fb9f3a\"],[0.8888888888888888,\"#fdca26\"],[1.0,\"#f0f921\"]],\"type\":\"contour\"}],\"contourcarpet\":[{\"colorbar\":{\"outlinewidth\":0,\"ticks\":\"\"},\"type\":\"contourcarpet\"}],\"heatmap\":[{\"colorbar\":{\"outlinewidth\":0,\"ticks\":\"\"},\"colorscale\":[[0.0,\"#0d0887\"],[0.1111111111111111,\"#46039f\"],[0.2222222222222222,\"#7201a8\"],[0.3333333333333333,\"#9c179e\"],[0.4444444444444444,\"#bd3786\"],[0.5555555555555556,\"#d8576b\"],[0.6666666666666666,\"#ed7953\"],[0.7777777777777778,\"#fb9f3a\"],[0.8888888888888888,\"#fdca26\"],[1.0,\"#f0f921\"]],\"type\":\"heatmap\"}],\"heatmapgl\":[{\"colorbar\":{\"outlinewidth\":0,\"ticks\":\"\"},\"colorscale\":[[0.0,\"#0d0887\"],[0.1111111111111111,\"#46039f\"],[0.2222222222222222,\"#7201a8\"],[0.3333333333333333,\"#9c179e\"],[0.4444444444444444,\"#bd3786\"],[0.5555555555555556,\"#d8576b\"],[0.6666666666666666,\"#ed7953\"],[0.7777777777777778,\"#fb9f3a\"],[0.8888888888888888,\"#fdca26\"],[1.0,\"#f0f921\"]],\"type\":\"heatmapgl\"}],\"histogram\":[{\"marker\":{\"pattern\":{\"fillmode\":\"overlay\",\"size\":10,\"solidity\":0.2}},\"type\":\"histogram\"}],\"histogram2d\":[{\"colorbar\":{\"outlinewidth\":0,\"ticks\":\"\"},\"colorscale\":[[0.0,\"#0d0887\"],[0.1111111111111111,\"#46039f\"],[0.2222222222222222,\"#7201a8\"],[0.3333333333333333,\"#9c179e\"],[0.4444444444444444,\"#bd3786\"],[0.5555555555555556,\"#d8576b\"],[0.6666666666666666,\"#ed7953\"],[0.7777777777777778,\"#fb9f3a\"],[0.8888888888888888,\"#fdca26\"],[1.0,\"#f0f921\"]],\"type\":\"histogram2d\"}],\"histogram2dcontour\":[{\"colorbar\":{\"outlinewidth\":0,\"ticks\":\"\"},\"colorscale\":[[0.0,\"#0d0887\"],[0.1111111111111111,\"#46039f\"],[0.2222222222222222,\"#7201a8\"],[0.3333333333333333,\"#9c179e\"],[0.4444444444444444,\"#bd3786\"],[0.5555555555555556,\"#d8576b\"],[0.6666666666666666,\"#ed7953\"],[0.7777777777777778,\"#fb9f3a\"],[0.8888888888888888,\"#fdca26\"],[1.0,\"#f0f921\"]],\"type\":\"histogram2dcontour\"}],\"mesh3d\":[{\"colorbar\":{\"outlinewidth\":0,\"ticks\":\"\"},\"type\":\"mesh3d\"}],\"parcoords\":[{\"line\":{\"colorbar\":{\"outlinewidth\":0,\"ticks\":\"\"}},\"type\":\"parcoords\"}],\"pie\":[{\"automargin\":true,\"type\":\"pie\"}],\"scatter\":[{\"marker\":{\"colorbar\":{\"outlinewidth\":0,\"ticks\":\"\"}},\"type\":\"scatter\"}],\"scatter3d\":[{\"line\":{\"colorbar\":{\"outlinewidth\":0,\"ticks\":\"\"}},\"marker\":{\"colorbar\":{\"outlinewidth\":0,\"ticks\":\"\"}},\"type\":\"scatter3d\"}],\"scattercarpet\":[{\"marker\":{\"colorbar\":{\"outlinewidth\":0,\"ticks\":\"\"}},\"type\":\"scattercarpet\"}],\"scattergeo\":[{\"marker\":{\"colorbar\":{\"outlinewidth\":0,\"ticks\":\"\"}},\"type\":\"scattergeo\"}],\"scattergl\":[{\"marker\":{\"colorbar\":{\"outlinewidth\":0,\"ticks\":\"\"}},\"type\":\"scattergl\"}],\"scattermapbox\":[{\"marker\":{\"colorbar\":{\"outlinewidth\":0,\"ticks\":\"\"}},\"type\":\"scattermapbox\"}],\"scatterpolar\":[{\"marker\":{\"colorbar\":{\"outlinewidth\":0,\"ticks\":\"\"}},\"type\":\"scatterpolar\"}],\"scatterpolargl\":[{\"marker\":{\"colorbar\":{\"outlinewidth\":0,\"ticks\":\"\"}},\"type\":\"scatterpolargl\"}],\"scatterternary\":[{\"marker\":{\"colorbar\":{\"outlinewidth\":0,\"ticks\":\"\"}},\"type\":\"scatterternary\"}],\"surface\":[{\"colorbar\":{\"outlinewidth\":0,\"ticks\":\"\"},\"colorscale\":[[0.0,\"#0d0887\"],[0.1111111111111111,\"#46039f\"],[0.2222222222222222,\"#7201a8\"],[0.3333333333333333,\"#9c179e\"],[0.4444444444444444,\"#bd3786\"],[0.5555555555555556,\"#d8576b\"],[0.6666666666666666,\"#ed7953\"],[0.7777777777777778,\"#fb9f3a\"],[0.8888888888888888,\"#fdca26\"],[1.0,\"#f0f921\"]],\"type\":\"surface\"}],\"table\":[{\"cells\":{\"fill\":{\"color\":\"#EBF0F8\"},\"line\":{\"color\":\"white\"}},\"header\":{\"fill\":{\"color\":\"#C8D4E3\"},\"line\":{\"color\":\"white\"}},\"type\":\"table\"}]},\"layout\":{\"annotationdefaults\":{\"arrowcolor\":\"#2a3f5f\",\"arrowhead\":0,\"arrowwidth\":1},\"autotypenumbers\":\"strict\",\"coloraxis\":{\"colorbar\":{\"outlinewidth\":0,\"ticks\":\"\"}},\"colorscale\":{\"diverging\":[[0,\"#8e0152\"],[0.1,\"#c51b7d\"],[0.2,\"#de77ae\"],[0.3,\"#f1b6da\"],[0.4,\"#fde0ef\"],[0.5,\"#f7f7f7\"],[0.6,\"#e6f5d0\"],[0.7,\"#b8e186\"],[0.8,\"#7fbc41\"],[0.9,\"#4d9221\"],[1,\"#276419\"]],\"sequential\":[[0.0,\"#0d0887\"],[0.1111111111111111,\"#46039f\"],[0.2222222222222222,\"#7201a8\"],[0.3333333333333333,\"#9c179e\"],[0.4444444444444444,\"#bd3786\"],[0.5555555555555556,\"#d8576b\"],[0.6666666666666666,\"#ed7953\"],[0.7777777777777778,\"#fb9f3a\"],[0.8888888888888888,\"#fdca26\"],[1.0,\"#f0f921\"]],\"sequentialminus\":[[0.0,\"#0d0887\"],[0.1111111111111111,\"#46039f\"],[0.2222222222222222,\"#7201a8\"],[0.3333333333333333,\"#9c179e\"],[0.4444444444444444,\"#bd3786\"],[0.5555555555555556,\"#d8576b\"],[0.6666666666666666,\"#ed7953\"],[0.7777777777777778,\"#fb9f3a\"],[0.8888888888888888,\"#fdca26\"],[1.0,\"#f0f921\"]]},\"colorway\":[\"#636efa\",\"#EF553B\",\"#00cc96\",\"#ab63fa\",\"#FFA15A\",\"#19d3f3\",\"#FF6692\",\"#B6E880\",\"#FF97FF\",\"#FECB52\"],\"font\":{\"color\":\"#2a3f5f\"},\"geo\":{\"bgcolor\":\"white\",\"lakecolor\":\"white\",\"landcolor\":\"#E5ECF6\",\"showlakes\":true,\"showland\":true,\"subunitcolor\":\"white\"},\"hoverlabel\":{\"align\":\"left\"},\"hovermode\":\"closest\",\"mapbox\":{\"style\":\"light\"},\"paper_bgcolor\":\"white\",\"plot_bgcolor\":\"#E5ECF6\",\"polar\":{\"angularaxis\":{\"gridcolor\":\"white\",\"linecolor\":\"white\",\"ticks\":\"\"},\"bgcolor\":\"#E5ECF6\",\"radialaxis\":{\"gridcolor\":\"white\",\"linecolor\":\"white\",\"ticks\":\"\"}},\"scene\":{\"xaxis\":{\"backgroundcolor\":\"#E5ECF6\",\"gridcolor\":\"white\",\"gridwidth\":2,\"linecolor\":\"white\",\"showbackground\":true,\"ticks\":\"\",\"zerolinecolor\":\"white\"},\"yaxis\":{\"backgroundcolor\":\"#E5ECF6\",\"gridcolor\":\"white\",\"gridwidth\":2,\"linecolor\":\"white\",\"showbackground\":true,\"ticks\":\"\",\"zerolinecolor\":\"white\"},\"zaxis\":{\"backgroundcolor\":\"#E5ECF6\",\"gridcolor\":\"white\",\"gridwidth\":2,\"linecolor\":\"white\",\"showbackground\":true,\"ticks\":\"\",\"zerolinecolor\":\"white\"}},\"shapedefaults\":{\"line\":{\"color\":\"#2a3f5f\"}},\"ternary\":{\"aaxis\":{\"gridcolor\":\"white\",\"linecolor\":\"white\",\"ticks\":\"\"},\"baxis\":{\"gridcolor\":\"white\",\"linecolor\":\"white\",\"ticks\":\"\"},\"bgcolor\":\"#E5ECF6\",\"caxis\":{\"gridcolor\":\"white\",\"linecolor\":\"white\",\"ticks\":\"\"}},\"title\":{\"x\":0.05},\"xaxis\":{\"automargin\":true,\"gridcolor\":\"white\",\"linecolor\":\"white\",\"ticks\":\"\",\"title\":{\"standoff\":15},\"zerolinecolor\":\"white\",\"zerolinewidth\":2},\"yaxis\":{\"automargin\":true,\"gridcolor\":\"white\",\"linecolor\":\"white\",\"ticks\":\"\",\"title\":{\"standoff\":15},\"zerolinecolor\":\"white\",\"zerolinewidth\":2}}},\"title\":{\"font\":{\"color\":\"#4D5663\"},\"text\":\"Time Started and Time Published\"},\"xaxis\":{\"gridcolor\":\"#E1E5ED\",\"showgrid\":true,\"tickfont\":{\"color\":\"#4D5663\"},\"title\":{\"font\":{\"color\":\"#4D5663\"},\"text\":\"Time of Day\"},\"zerolinecolor\":\"#E1E5ED\"},\"yaxis\":{\"gridcolor\":\"#E1E5ED\",\"showgrid\":true,\"tickfont\":{\"color\":\"#4D5663\"},\"title\":{\"font\":{\"color\":\"#4D5663\"},\"text\":\"(%) of Articles\"},\"zerolinecolor\":\"#E1E5ED\"}},                        {\"showLink\": true, \"linkText\": \"Export to plot.ly\", \"plotlyServerURL\": \"https://plot.ly\", \"responsive\": true}                    ).then(function(){\n",
       "                            \n",
       "var gd = document.getElementById('c7629cbb-8bf3-448a-9970-63038fd7dfee');\n",
       "var x = new MutationObserver(function (mutations, observer) {{\n",
       "        var display = window.getComputedStyle(gd).display;\n",
       "        if (!display || display === 'none') {{\n",
       "            console.log([gd, 'removed!']);\n",
       "            Plotly.purge(gd);\n",
       "            observer.disconnect();\n",
       "        }}\n",
       "}});\n",
       "\n",
       "// Listen for the removal of the full notebook cells\n",
       "var notebookContainer = gd.closest('#notebook-container');\n",
       "if (notebookContainer) {{\n",
       "    x.observe(notebookContainer, {childList: true});\n",
       "}}\n",
       "\n",
       "// Listen for the clearing of the current output cell\n",
       "var outputEl = gd.closest('.output');\n",
       "if (outputEl) {{\n",
       "    x.observe(outputEl, {childList: true});\n",
       "}}\n",
       "\n",
       "                        })                };                });            </script>        </div>"
      ]
     },
     "metadata": {},
     "output_type": "display_data"
    }
   ],
   "source": [
    "#If we want to plot overlaid histograms, setting barmode to group with two distributions.\n",
    "def to_time(dt):\n",
    "    return dt.hour + dt.minute / 60\n",
    "\n",
    "df[\"time_started\"] = df[\"started_date\"].apply(to_time)\n",
    "df[\"time_published\"] = df[\"published_date\"].apply(to_time)\n",
    "df[['time_started', 'time_published']].iplot(kind='hist', histnorm='percent', barmode='overlay', xTitle='Time of Day', \n",
    "                                             yTitle='(%) of Articles', title='Time Started and Time Published')"
   ]
  },
  {
   "cell_type": "code",
   "execution_count": 26,
   "id": "b2a6e7e7",
   "metadata": {},
   "outputs": [
    {
     "data": {
      "text/html": [
       "<div>\n",
       "<style scoped>\n",
       "    .dataframe tbody tr th:only-of-type {\n",
       "        vertical-align: middle;\n",
       "    }\n",
       "\n",
       "    .dataframe tbody tr th {\n",
       "        vertical-align: top;\n",
       "    }\n",
       "\n",
       "    .dataframe thead th {\n",
       "        text-align: right;\n",
       "    }\n",
       "</style>\n",
       "<table border=\"1\" class=\"dataframe\">\n",
       "  <thead>\n",
       "    <tr style=\"text-align: right;\">\n",
       "      <th></th>\n",
       "      <th>views</th>\n",
       "      <th>reads</th>\n",
       "    </tr>\n",
       "    <tr>\n",
       "      <th>published_date</th>\n",
       "      <th></th>\n",
       "      <th></th>\n",
       "    </tr>\n",
       "  </thead>\n",
       "  <tbody>\n",
       "    <tr>\n",
       "      <th>2017-06-30</th>\n",
       "      <td>463.666667</td>\n",
       "      <td>112.333333</td>\n",
       "    </tr>\n",
       "    <tr>\n",
       "      <th>2017-07-31</th>\n",
       "      <td>5521.333333</td>\n",
       "      <td>1207.166667</td>\n",
       "    </tr>\n",
       "    <tr>\n",
       "      <th>2017-08-31</th>\n",
       "      <td>6242.800000</td>\n",
       "      <td>993.700000</td>\n",
       "    </tr>\n",
       "    <tr>\n",
       "      <th>2017-09-30</th>\n",
       "      <td>2113.000000</td>\n",
       "      <td>279.000000</td>\n",
       "    </tr>\n",
       "    <tr>\n",
       "      <th>2017-10-31</th>\n",
       "      <td>NaN</td>\n",
       "      <td>NaN</td>\n",
       "    </tr>\n",
       "    <tr>\n",
       "      <th>2017-11-30</th>\n",
       "      <td>NaN</td>\n",
       "      <td>NaN</td>\n",
       "    </tr>\n",
       "    <tr>\n",
       "      <th>2017-12-31</th>\n",
       "      <td>60818.750000</td>\n",
       "      <td>15724.000000</td>\n",
       "    </tr>\n",
       "    <tr>\n",
       "      <th>2018-01-31</th>\n",
       "      <td>31615.944444</td>\n",
       "      <td>9065.722222</td>\n",
       "    </tr>\n",
       "    <tr>\n",
       "      <th>2018-02-28</th>\n",
       "      <td>25463.875000</td>\n",
       "      <td>9933.750000</td>\n",
       "    </tr>\n",
       "    <tr>\n",
       "      <th>2018-03-31</th>\n",
       "      <td>69373.500000</td>\n",
       "      <td>18884.000000</td>\n",
       "    </tr>\n",
       "    <tr>\n",
       "      <th>2018-04-30</th>\n",
       "      <td>35668.333333</td>\n",
       "      <td>11340.333333</td>\n",
       "    </tr>\n",
       "    <tr>\n",
       "      <th>2018-05-31</th>\n",
       "      <td>53369.400000</td>\n",
       "      <td>11298.000000</td>\n",
       "    </tr>\n",
       "    <tr>\n",
       "      <th>2018-06-30</th>\n",
       "      <td>50161.200000</td>\n",
       "      <td>11675.800000</td>\n",
       "    </tr>\n",
       "    <tr>\n",
       "      <th>2018-07-31</th>\n",
       "      <td>17410.000000</td>\n",
       "      <td>2957.333333</td>\n",
       "    </tr>\n",
       "    <tr>\n",
       "      <th>2018-08-31</th>\n",
       "      <td>16622.500000</td>\n",
       "      <td>4423.125000</td>\n",
       "    </tr>\n",
       "    <tr>\n",
       "      <th>2018-09-30</th>\n",
       "      <td>11755.333333</td>\n",
       "      <td>2564.833333</td>\n",
       "    </tr>\n",
       "    <tr>\n",
       "      <th>2018-10-31</th>\n",
       "      <td>16041.400000</td>\n",
       "      <td>4265.400000</td>\n",
       "    </tr>\n",
       "    <tr>\n",
       "      <th>2018-11-30</th>\n",
       "      <td>12921.300000</td>\n",
       "      <td>3223.500000</td>\n",
       "    </tr>\n",
       "    <tr>\n",
       "      <th>2018-12-31</th>\n",
       "      <td>3844.578947</td>\n",
       "      <td>1188.736842</td>\n",
       "    </tr>\n",
       "    <tr>\n",
       "      <th>2019-01-31</th>\n",
       "      <td>354.333333</td>\n",
       "      <td>110.333333</td>\n",
       "    </tr>\n",
       "  </tbody>\n",
       "</table>\n",
       "</div>"
      ],
      "text/plain": [
       "                       views         reads\n",
       "published_date                            \n",
       "2017-06-30        463.666667    112.333333\n",
       "2017-07-31       5521.333333   1207.166667\n",
       "2017-08-31       6242.800000    993.700000\n",
       "2017-09-30       2113.000000    279.000000\n",
       "2017-10-31               NaN           NaN\n",
       "2017-11-30               NaN           NaN\n",
       "2017-12-31      60818.750000  15724.000000\n",
       "2018-01-31      31615.944444   9065.722222\n",
       "2018-02-28      25463.875000   9933.750000\n",
       "2018-03-31      69373.500000  18884.000000\n",
       "2018-04-30      35668.333333  11340.333333\n",
       "2018-05-31      53369.400000  11298.000000\n",
       "2018-06-30      50161.200000  11675.800000\n",
       "2018-07-31      17410.000000   2957.333333\n",
       "2018-08-31      16622.500000   4423.125000\n",
       "2018-09-30      11755.333333   2564.833333\n",
       "2018-10-31      16041.400000   4265.400000\n",
       "2018-11-30      12921.300000   3223.500000\n",
       "2018-12-31       3844.578947   1188.736842\n",
       "2019-01-31        354.333333    110.333333"
      ]
     },
     "execution_count": 26,
     "metadata": {},
     "output_type": "execute_result"
    }
   ],
   "source": [
    "# Barplot: Resample to monthly frequency and plot \n",
    "#set the index to be the date, then resample to month frequency, then take the mean and plot.\n",
    "df2 = df[['views','reads','published_date']].set_index('published_date').resample('M').mean()\n",
    "df2"
   ]
  },
  {
   "cell_type": "code",
   "execution_count": 27,
   "id": "82c9a893",
   "metadata": {},
   "outputs": [
    {
     "data": {
      "application/vnd.plotly.v1+json": {
       "config": {
        "linkText": "Export to plot.ly",
        "plotlyServerURL": "https://plot.ly",
        "showLink": true
       },
       "data": [
        {
         "marker": {
          "color": "rgba(255, 153, 51, 0.6)",
          "line": {
           "color": "rgba(255, 153, 51, 1.0)",
           "width": 1
          }
         },
         "name": "views",
         "orientation": "v",
         "text": "",
         "type": "bar",
         "x": [
          "2017-06-30",
          "2017-07-31",
          "2017-08-31",
          "2017-09-30",
          "2017-10-31",
          "2017-11-30",
          "2017-12-31",
          "2018-01-31",
          "2018-02-28",
          "2018-03-31",
          "2018-04-30",
          "2018-05-31",
          "2018-06-30",
          "2018-07-31",
          "2018-08-31",
          "2018-09-30",
          "2018-10-31",
          "2018-11-30",
          "2018-12-31",
          "2019-01-31"
         ],
         "y": [
          463.6666666666667,
          5521.333333333333,
          6242.8,
          2113,
          "",
          "",
          60818.75,
          31615.944444444445,
          25463.875,
          69373.5,
          35668.333333333336,
          53369.4,
          50161.2,
          17410,
          16622.5,
          11755.333333333334,
          16041.4,
          12921.3,
          3844.5789473684213,
          354.3333333333333
         ]
        },
        {
         "marker": {
          "color": "rgba(55, 128, 191, 0.6)",
          "line": {
           "color": "rgba(55, 128, 191, 1.0)",
           "width": 1
          }
         },
         "name": "reads",
         "orientation": "v",
         "text": "",
         "type": "bar",
         "x": [
          "2017-06-30",
          "2017-07-31",
          "2017-08-31",
          "2017-09-30",
          "2017-10-31",
          "2017-11-30",
          "2017-12-31",
          "2018-01-31",
          "2018-02-28",
          "2018-03-31",
          "2018-04-30",
          "2018-05-31",
          "2018-06-30",
          "2018-07-31",
          "2018-08-31",
          "2018-09-30",
          "2018-10-31",
          "2018-11-30",
          "2018-12-31",
          "2019-01-31"
         ],
         "y": [
          112.33333333333333,
          1207.1666666666667,
          993.7,
          279,
          "",
          "",
          15724,
          9065.722222222223,
          9933.75,
          18884,
          11340.333333333334,
          11298,
          11675.8,
          2957.3333333333335,
          4423.125,
          2564.8333333333335,
          4265.4,
          3223.5,
          1188.7368421052631,
          110.33333333333333
         ]
        }
       ],
       "layout": {
        "legend": {
         "bgcolor": "#F5F6F9",
         "font": {
          "color": "#4D5663"
         }
        },
        "paper_bgcolor": "#F5F6F9",
        "plot_bgcolor": "#F5F6F9",
        "template": {
         "data": {
          "bar": [
           {
            "error_x": {
             "color": "#2a3f5f"
            },
            "error_y": {
             "color": "#2a3f5f"
            },
            "marker": {
             "line": {
              "color": "#E5ECF6",
              "width": 0.5
             },
             "pattern": {
              "fillmode": "overlay",
              "size": 10,
              "solidity": 0.2
             }
            },
            "type": "bar"
           }
          ],
          "barpolar": [
           {
            "marker": {
             "line": {
              "color": "#E5ECF6",
              "width": 0.5
             },
             "pattern": {
              "fillmode": "overlay",
              "size": 10,
              "solidity": 0.2
             }
            },
            "type": "barpolar"
           }
          ],
          "carpet": [
           {
            "aaxis": {
             "endlinecolor": "#2a3f5f",
             "gridcolor": "white",
             "linecolor": "white",
             "minorgridcolor": "white",
             "startlinecolor": "#2a3f5f"
            },
            "baxis": {
             "endlinecolor": "#2a3f5f",
             "gridcolor": "white",
             "linecolor": "white",
             "minorgridcolor": "white",
             "startlinecolor": "#2a3f5f"
            },
            "type": "carpet"
           }
          ],
          "choropleth": [
           {
            "colorbar": {
             "outlinewidth": 0,
             "ticks": ""
            },
            "type": "choropleth"
           }
          ],
          "contour": [
           {
            "colorbar": {
             "outlinewidth": 0,
             "ticks": ""
            },
            "colorscale": [
             [
              0,
              "#0d0887"
             ],
             [
              0.1111111111111111,
              "#46039f"
             ],
             [
              0.2222222222222222,
              "#7201a8"
             ],
             [
              0.3333333333333333,
              "#9c179e"
             ],
             [
              0.4444444444444444,
              "#bd3786"
             ],
             [
              0.5555555555555556,
              "#d8576b"
             ],
             [
              0.6666666666666666,
              "#ed7953"
             ],
             [
              0.7777777777777778,
              "#fb9f3a"
             ],
             [
              0.8888888888888888,
              "#fdca26"
             ],
             [
              1,
              "#f0f921"
             ]
            ],
            "type": "contour"
           }
          ],
          "contourcarpet": [
           {
            "colorbar": {
             "outlinewidth": 0,
             "ticks": ""
            },
            "type": "contourcarpet"
           }
          ],
          "heatmap": [
           {
            "colorbar": {
             "outlinewidth": 0,
             "ticks": ""
            },
            "colorscale": [
             [
              0,
              "#0d0887"
             ],
             [
              0.1111111111111111,
              "#46039f"
             ],
             [
              0.2222222222222222,
              "#7201a8"
             ],
             [
              0.3333333333333333,
              "#9c179e"
             ],
             [
              0.4444444444444444,
              "#bd3786"
             ],
             [
              0.5555555555555556,
              "#d8576b"
             ],
             [
              0.6666666666666666,
              "#ed7953"
             ],
             [
              0.7777777777777778,
              "#fb9f3a"
             ],
             [
              0.8888888888888888,
              "#fdca26"
             ],
             [
              1,
              "#f0f921"
             ]
            ],
            "type": "heatmap"
           }
          ],
          "heatmapgl": [
           {
            "colorbar": {
             "outlinewidth": 0,
             "ticks": ""
            },
            "colorscale": [
             [
              0,
              "#0d0887"
             ],
             [
              0.1111111111111111,
              "#46039f"
             ],
             [
              0.2222222222222222,
              "#7201a8"
             ],
             [
              0.3333333333333333,
              "#9c179e"
             ],
             [
              0.4444444444444444,
              "#bd3786"
             ],
             [
              0.5555555555555556,
              "#d8576b"
             ],
             [
              0.6666666666666666,
              "#ed7953"
             ],
             [
              0.7777777777777778,
              "#fb9f3a"
             ],
             [
              0.8888888888888888,
              "#fdca26"
             ],
             [
              1,
              "#f0f921"
             ]
            ],
            "type": "heatmapgl"
           }
          ],
          "histogram": [
           {
            "marker": {
             "pattern": {
              "fillmode": "overlay",
              "size": 10,
              "solidity": 0.2
             }
            },
            "type": "histogram"
           }
          ],
          "histogram2d": [
           {
            "colorbar": {
             "outlinewidth": 0,
             "ticks": ""
            },
            "colorscale": [
             [
              0,
              "#0d0887"
             ],
             [
              0.1111111111111111,
              "#46039f"
             ],
             [
              0.2222222222222222,
              "#7201a8"
             ],
             [
              0.3333333333333333,
              "#9c179e"
             ],
             [
              0.4444444444444444,
              "#bd3786"
             ],
             [
              0.5555555555555556,
              "#d8576b"
             ],
             [
              0.6666666666666666,
              "#ed7953"
             ],
             [
              0.7777777777777778,
              "#fb9f3a"
             ],
             [
              0.8888888888888888,
              "#fdca26"
             ],
             [
              1,
              "#f0f921"
             ]
            ],
            "type": "histogram2d"
           }
          ],
          "histogram2dcontour": [
           {
            "colorbar": {
             "outlinewidth": 0,
             "ticks": ""
            },
            "colorscale": [
             [
              0,
              "#0d0887"
             ],
             [
              0.1111111111111111,
              "#46039f"
             ],
             [
              0.2222222222222222,
              "#7201a8"
             ],
             [
              0.3333333333333333,
              "#9c179e"
             ],
             [
              0.4444444444444444,
              "#bd3786"
             ],
             [
              0.5555555555555556,
              "#d8576b"
             ],
             [
              0.6666666666666666,
              "#ed7953"
             ],
             [
              0.7777777777777778,
              "#fb9f3a"
             ],
             [
              0.8888888888888888,
              "#fdca26"
             ],
             [
              1,
              "#f0f921"
             ]
            ],
            "type": "histogram2dcontour"
           }
          ],
          "mesh3d": [
           {
            "colorbar": {
             "outlinewidth": 0,
             "ticks": ""
            },
            "type": "mesh3d"
           }
          ],
          "parcoords": [
           {
            "line": {
             "colorbar": {
              "outlinewidth": 0,
              "ticks": ""
             }
            },
            "type": "parcoords"
           }
          ],
          "pie": [
           {
            "automargin": true,
            "type": "pie"
           }
          ],
          "scatter": [
           {
            "marker": {
             "colorbar": {
              "outlinewidth": 0,
              "ticks": ""
             }
            },
            "type": "scatter"
           }
          ],
          "scatter3d": [
           {
            "line": {
             "colorbar": {
              "outlinewidth": 0,
              "ticks": ""
             }
            },
            "marker": {
             "colorbar": {
              "outlinewidth": 0,
              "ticks": ""
             }
            },
            "type": "scatter3d"
           }
          ],
          "scattercarpet": [
           {
            "marker": {
             "colorbar": {
              "outlinewidth": 0,
              "ticks": ""
             }
            },
            "type": "scattercarpet"
           }
          ],
          "scattergeo": [
           {
            "marker": {
             "colorbar": {
              "outlinewidth": 0,
              "ticks": ""
             }
            },
            "type": "scattergeo"
           }
          ],
          "scattergl": [
           {
            "marker": {
             "colorbar": {
              "outlinewidth": 0,
              "ticks": ""
             }
            },
            "type": "scattergl"
           }
          ],
          "scattermapbox": [
           {
            "marker": {
             "colorbar": {
              "outlinewidth": 0,
              "ticks": ""
             }
            },
            "type": "scattermapbox"
           }
          ],
          "scatterpolar": [
           {
            "marker": {
             "colorbar": {
              "outlinewidth": 0,
              "ticks": ""
             }
            },
            "type": "scatterpolar"
           }
          ],
          "scatterpolargl": [
           {
            "marker": {
             "colorbar": {
              "outlinewidth": 0,
              "ticks": ""
             }
            },
            "type": "scatterpolargl"
           }
          ],
          "scatterternary": [
           {
            "marker": {
             "colorbar": {
              "outlinewidth": 0,
              "ticks": ""
             }
            },
            "type": "scatterternary"
           }
          ],
          "surface": [
           {
            "colorbar": {
             "outlinewidth": 0,
             "ticks": ""
            },
            "colorscale": [
             [
              0,
              "#0d0887"
             ],
             [
              0.1111111111111111,
              "#46039f"
             ],
             [
              0.2222222222222222,
              "#7201a8"
             ],
             [
              0.3333333333333333,
              "#9c179e"
             ],
             [
              0.4444444444444444,
              "#bd3786"
             ],
             [
              0.5555555555555556,
              "#d8576b"
             ],
             [
              0.6666666666666666,
              "#ed7953"
             ],
             [
              0.7777777777777778,
              "#fb9f3a"
             ],
             [
              0.8888888888888888,
              "#fdca26"
             ],
             [
              1,
              "#f0f921"
             ]
            ],
            "type": "surface"
           }
          ],
          "table": [
           {
            "cells": {
             "fill": {
              "color": "#EBF0F8"
             },
             "line": {
              "color": "white"
             }
            },
            "header": {
             "fill": {
              "color": "#C8D4E3"
             },
             "line": {
              "color": "white"
             }
            },
            "type": "table"
           }
          ]
         },
         "layout": {
          "annotationdefaults": {
           "arrowcolor": "#2a3f5f",
           "arrowhead": 0,
           "arrowwidth": 1
          },
          "autotypenumbers": "strict",
          "coloraxis": {
           "colorbar": {
            "outlinewidth": 0,
            "ticks": ""
           }
          },
          "colorscale": {
           "diverging": [
            [
             0,
             "#8e0152"
            ],
            [
             0.1,
             "#c51b7d"
            ],
            [
             0.2,
             "#de77ae"
            ],
            [
             0.3,
             "#f1b6da"
            ],
            [
             0.4,
             "#fde0ef"
            ],
            [
             0.5,
             "#f7f7f7"
            ],
            [
             0.6,
             "#e6f5d0"
            ],
            [
             0.7,
             "#b8e186"
            ],
            [
             0.8,
             "#7fbc41"
            ],
            [
             0.9,
             "#4d9221"
            ],
            [
             1,
             "#276419"
            ]
           ],
           "sequential": [
            [
             0,
             "#0d0887"
            ],
            [
             0.1111111111111111,
             "#46039f"
            ],
            [
             0.2222222222222222,
             "#7201a8"
            ],
            [
             0.3333333333333333,
             "#9c179e"
            ],
            [
             0.4444444444444444,
             "#bd3786"
            ],
            [
             0.5555555555555556,
             "#d8576b"
            ],
            [
             0.6666666666666666,
             "#ed7953"
            ],
            [
             0.7777777777777778,
             "#fb9f3a"
            ],
            [
             0.8888888888888888,
             "#fdca26"
            ],
            [
             1,
             "#f0f921"
            ]
           ],
           "sequentialminus": [
            [
             0,
             "#0d0887"
            ],
            [
             0.1111111111111111,
             "#46039f"
            ],
            [
             0.2222222222222222,
             "#7201a8"
            ],
            [
             0.3333333333333333,
             "#9c179e"
            ],
            [
             0.4444444444444444,
             "#bd3786"
            ],
            [
             0.5555555555555556,
             "#d8576b"
            ],
            [
             0.6666666666666666,
             "#ed7953"
            ],
            [
             0.7777777777777778,
             "#fb9f3a"
            ],
            [
             0.8888888888888888,
             "#fdca26"
            ],
            [
             1,
             "#f0f921"
            ]
           ]
          },
          "colorway": [
           "#636efa",
           "#EF553B",
           "#00cc96",
           "#ab63fa",
           "#FFA15A",
           "#19d3f3",
           "#FF6692",
           "#B6E880",
           "#FF97FF",
           "#FECB52"
          ],
          "font": {
           "color": "#2a3f5f"
          },
          "geo": {
           "bgcolor": "white",
           "lakecolor": "white",
           "landcolor": "#E5ECF6",
           "showlakes": true,
           "showland": true,
           "subunitcolor": "white"
          },
          "hoverlabel": {
           "align": "left"
          },
          "hovermode": "closest",
          "mapbox": {
           "style": "light"
          },
          "paper_bgcolor": "white",
          "plot_bgcolor": "#E5ECF6",
          "polar": {
           "angularaxis": {
            "gridcolor": "white",
            "linecolor": "white",
            "ticks": ""
           },
           "bgcolor": "#E5ECF6",
           "radialaxis": {
            "gridcolor": "white",
            "linecolor": "white",
            "ticks": ""
           }
          },
          "scene": {
           "xaxis": {
            "backgroundcolor": "#E5ECF6",
            "gridcolor": "white",
            "gridwidth": 2,
            "linecolor": "white",
            "showbackground": true,
            "ticks": "",
            "zerolinecolor": "white"
           },
           "yaxis": {
            "backgroundcolor": "#E5ECF6",
            "gridcolor": "white",
            "gridwidth": 2,
            "linecolor": "white",
            "showbackground": true,
            "ticks": "",
            "zerolinecolor": "white"
           },
           "zaxis": {
            "backgroundcolor": "#E5ECF6",
            "gridcolor": "white",
            "gridwidth": 2,
            "linecolor": "white",
            "showbackground": true,
            "ticks": "",
            "zerolinecolor": "white"
           }
          },
          "shapedefaults": {
           "line": {
            "color": "#2a3f5f"
           }
          },
          "ternary": {
           "aaxis": {
            "gridcolor": "white",
            "linecolor": "white",
            "ticks": ""
           },
           "baxis": {
            "gridcolor": "white",
            "linecolor": "white",
            "ticks": ""
           },
           "bgcolor": "#E5ECF6",
           "caxis": {
            "gridcolor": "white",
            "linecolor": "white",
            "ticks": ""
           }
          },
          "title": {
           "x": 0.05
          },
          "xaxis": {
           "automargin": true,
           "gridcolor": "white",
           "linecolor": "white",
           "ticks": "",
           "title": {
            "standoff": 15
           },
           "zerolinecolor": "white",
           "zerolinewidth": 2
          },
          "yaxis": {
           "automargin": true,
           "gridcolor": "white",
           "linecolor": "white",
           "ticks": "",
           "title": {
            "standoff": 15
           },
           "zerolinecolor": "white",
           "zerolinewidth": 2
          }
         }
        },
        "title": {
         "font": {
          "color": "#4D5663"
         },
         "text": "Monthly Average Views and Reads"
        },
        "xaxis": {
         "gridcolor": "#E1E5ED",
         "showgrid": true,
         "tickfont": {
          "color": "#4D5663"
         },
         "title": {
          "font": {
           "color": "#4D5663"
          },
          "text": "Date"
         },
         "zerolinecolor": "#E1E5ED"
        },
        "yaxis": {
         "gridcolor": "#E1E5ED",
         "showgrid": true,
         "tickfont": {
          "color": "#4D5663"
         },
         "title": {
          "font": {
           "color": "#4D5663"
          },
          "text": "Average"
         },
         "zerolinecolor": "#E1E5ED"
        }
       }
      },
      "text/html": [
       "<div>                            <div id=\"e36dfd95-f1cd-4f6a-9b04-8545bfe43a54\" class=\"plotly-graph-div\" style=\"height:525px; width:100%;\"></div>            <script type=\"text/javascript\">                require([\"plotly\"], function(Plotly) {                    window.PLOTLYENV=window.PLOTLYENV || {};\n",
       "                    window.PLOTLYENV.BASE_URL='https://plot.ly';                                    if (document.getElementById(\"e36dfd95-f1cd-4f6a-9b04-8545bfe43a54\")) {                    Plotly.newPlot(                        \"e36dfd95-f1cd-4f6a-9b04-8545bfe43a54\",                        [{\"marker\":{\"color\":\"rgba(255, 153, 51, 0.6)\",\"line\":{\"color\":\"rgba(255, 153, 51, 1.0)\",\"width\":1}},\"name\":\"views\",\"orientation\":\"v\",\"text\":\"\",\"type\":\"bar\",\"x\":[\"2017-06-30\",\"2017-07-31\",\"2017-08-31\",\"2017-09-30\",\"2017-10-31\",\"2017-11-30\",\"2017-12-31\",\"2018-01-31\",\"2018-02-28\",\"2018-03-31\",\"2018-04-30\",\"2018-05-31\",\"2018-06-30\",\"2018-07-31\",\"2018-08-31\",\"2018-09-30\",\"2018-10-31\",\"2018-11-30\",\"2018-12-31\",\"2019-01-31\"],\"y\":[463.6666666666667,5521.333333333333,6242.8,2113.0,\"\",\"\",60818.75,31615.944444444445,25463.875,69373.5,35668.333333333336,53369.4,50161.2,17410.0,16622.5,11755.333333333334,16041.4,12921.3,3844.5789473684213,354.3333333333333]},{\"marker\":{\"color\":\"rgba(55, 128, 191, 0.6)\",\"line\":{\"color\":\"rgba(55, 128, 191, 1.0)\",\"width\":1}},\"name\":\"reads\",\"orientation\":\"v\",\"text\":\"\",\"type\":\"bar\",\"x\":[\"2017-06-30\",\"2017-07-31\",\"2017-08-31\",\"2017-09-30\",\"2017-10-31\",\"2017-11-30\",\"2017-12-31\",\"2018-01-31\",\"2018-02-28\",\"2018-03-31\",\"2018-04-30\",\"2018-05-31\",\"2018-06-30\",\"2018-07-31\",\"2018-08-31\",\"2018-09-30\",\"2018-10-31\",\"2018-11-30\",\"2018-12-31\",\"2019-01-31\"],\"y\":[112.33333333333333,1207.1666666666667,993.7,279.0,\"\",\"\",15724.0,9065.722222222223,9933.75,18884.0,11340.333333333334,11298.0,11675.8,2957.3333333333335,4423.125,2564.8333333333335,4265.4,3223.5,1188.7368421052631,110.33333333333333]}],                        {\"legend\":{\"bgcolor\":\"#F5F6F9\",\"font\":{\"color\":\"#4D5663\"}},\"paper_bgcolor\":\"#F5F6F9\",\"plot_bgcolor\":\"#F5F6F9\",\"template\":{\"data\":{\"bar\":[{\"error_x\":{\"color\":\"#2a3f5f\"},\"error_y\":{\"color\":\"#2a3f5f\"},\"marker\":{\"line\":{\"color\":\"#E5ECF6\",\"width\":0.5},\"pattern\":{\"fillmode\":\"overlay\",\"size\":10,\"solidity\":0.2}},\"type\":\"bar\"}],\"barpolar\":[{\"marker\":{\"line\":{\"color\":\"#E5ECF6\",\"width\":0.5},\"pattern\":{\"fillmode\":\"overlay\",\"size\":10,\"solidity\":0.2}},\"type\":\"barpolar\"}],\"carpet\":[{\"aaxis\":{\"endlinecolor\":\"#2a3f5f\",\"gridcolor\":\"white\",\"linecolor\":\"white\",\"minorgridcolor\":\"white\",\"startlinecolor\":\"#2a3f5f\"},\"baxis\":{\"endlinecolor\":\"#2a3f5f\",\"gridcolor\":\"white\",\"linecolor\":\"white\",\"minorgridcolor\":\"white\",\"startlinecolor\":\"#2a3f5f\"},\"type\":\"carpet\"}],\"choropleth\":[{\"colorbar\":{\"outlinewidth\":0,\"ticks\":\"\"},\"type\":\"choropleth\"}],\"contour\":[{\"colorbar\":{\"outlinewidth\":0,\"ticks\":\"\"},\"colorscale\":[[0.0,\"#0d0887\"],[0.1111111111111111,\"#46039f\"],[0.2222222222222222,\"#7201a8\"],[0.3333333333333333,\"#9c179e\"],[0.4444444444444444,\"#bd3786\"],[0.5555555555555556,\"#d8576b\"],[0.6666666666666666,\"#ed7953\"],[0.7777777777777778,\"#fb9f3a\"],[0.8888888888888888,\"#fdca26\"],[1.0,\"#f0f921\"]],\"type\":\"contour\"}],\"contourcarpet\":[{\"colorbar\":{\"outlinewidth\":0,\"ticks\":\"\"},\"type\":\"contourcarpet\"}],\"heatmap\":[{\"colorbar\":{\"outlinewidth\":0,\"ticks\":\"\"},\"colorscale\":[[0.0,\"#0d0887\"],[0.1111111111111111,\"#46039f\"],[0.2222222222222222,\"#7201a8\"],[0.3333333333333333,\"#9c179e\"],[0.4444444444444444,\"#bd3786\"],[0.5555555555555556,\"#d8576b\"],[0.6666666666666666,\"#ed7953\"],[0.7777777777777778,\"#fb9f3a\"],[0.8888888888888888,\"#fdca26\"],[1.0,\"#f0f921\"]],\"type\":\"heatmap\"}],\"heatmapgl\":[{\"colorbar\":{\"outlinewidth\":0,\"ticks\":\"\"},\"colorscale\":[[0.0,\"#0d0887\"],[0.1111111111111111,\"#46039f\"],[0.2222222222222222,\"#7201a8\"],[0.3333333333333333,\"#9c179e\"],[0.4444444444444444,\"#bd3786\"],[0.5555555555555556,\"#d8576b\"],[0.6666666666666666,\"#ed7953\"],[0.7777777777777778,\"#fb9f3a\"],[0.8888888888888888,\"#fdca26\"],[1.0,\"#f0f921\"]],\"type\":\"heatmapgl\"}],\"histogram\":[{\"marker\":{\"pattern\":{\"fillmode\":\"overlay\",\"size\":10,\"solidity\":0.2}},\"type\":\"histogram\"}],\"histogram2d\":[{\"colorbar\":{\"outlinewidth\":0,\"ticks\":\"\"},\"colorscale\":[[0.0,\"#0d0887\"],[0.1111111111111111,\"#46039f\"],[0.2222222222222222,\"#7201a8\"],[0.3333333333333333,\"#9c179e\"],[0.4444444444444444,\"#bd3786\"],[0.5555555555555556,\"#d8576b\"],[0.6666666666666666,\"#ed7953\"],[0.7777777777777778,\"#fb9f3a\"],[0.8888888888888888,\"#fdca26\"],[1.0,\"#f0f921\"]],\"type\":\"histogram2d\"}],\"histogram2dcontour\":[{\"colorbar\":{\"outlinewidth\":0,\"ticks\":\"\"},\"colorscale\":[[0.0,\"#0d0887\"],[0.1111111111111111,\"#46039f\"],[0.2222222222222222,\"#7201a8\"],[0.3333333333333333,\"#9c179e\"],[0.4444444444444444,\"#bd3786\"],[0.5555555555555556,\"#d8576b\"],[0.6666666666666666,\"#ed7953\"],[0.7777777777777778,\"#fb9f3a\"],[0.8888888888888888,\"#fdca26\"],[1.0,\"#f0f921\"]],\"type\":\"histogram2dcontour\"}],\"mesh3d\":[{\"colorbar\":{\"outlinewidth\":0,\"ticks\":\"\"},\"type\":\"mesh3d\"}],\"parcoords\":[{\"line\":{\"colorbar\":{\"outlinewidth\":0,\"ticks\":\"\"}},\"type\":\"parcoords\"}],\"pie\":[{\"automargin\":true,\"type\":\"pie\"}],\"scatter\":[{\"marker\":{\"colorbar\":{\"outlinewidth\":0,\"ticks\":\"\"}},\"type\":\"scatter\"}],\"scatter3d\":[{\"line\":{\"colorbar\":{\"outlinewidth\":0,\"ticks\":\"\"}},\"marker\":{\"colorbar\":{\"outlinewidth\":0,\"ticks\":\"\"}},\"type\":\"scatter3d\"}],\"scattercarpet\":[{\"marker\":{\"colorbar\":{\"outlinewidth\":0,\"ticks\":\"\"}},\"type\":\"scattercarpet\"}],\"scattergeo\":[{\"marker\":{\"colorbar\":{\"outlinewidth\":0,\"ticks\":\"\"}},\"type\":\"scattergeo\"}],\"scattergl\":[{\"marker\":{\"colorbar\":{\"outlinewidth\":0,\"ticks\":\"\"}},\"type\":\"scattergl\"}],\"scattermapbox\":[{\"marker\":{\"colorbar\":{\"outlinewidth\":0,\"ticks\":\"\"}},\"type\":\"scattermapbox\"}],\"scatterpolar\":[{\"marker\":{\"colorbar\":{\"outlinewidth\":0,\"ticks\":\"\"}},\"type\":\"scatterpolar\"}],\"scatterpolargl\":[{\"marker\":{\"colorbar\":{\"outlinewidth\":0,\"ticks\":\"\"}},\"type\":\"scatterpolargl\"}],\"scatterternary\":[{\"marker\":{\"colorbar\":{\"outlinewidth\":0,\"ticks\":\"\"}},\"type\":\"scatterternary\"}],\"surface\":[{\"colorbar\":{\"outlinewidth\":0,\"ticks\":\"\"},\"colorscale\":[[0.0,\"#0d0887\"],[0.1111111111111111,\"#46039f\"],[0.2222222222222222,\"#7201a8\"],[0.3333333333333333,\"#9c179e\"],[0.4444444444444444,\"#bd3786\"],[0.5555555555555556,\"#d8576b\"],[0.6666666666666666,\"#ed7953\"],[0.7777777777777778,\"#fb9f3a\"],[0.8888888888888888,\"#fdca26\"],[1.0,\"#f0f921\"]],\"type\":\"surface\"}],\"table\":[{\"cells\":{\"fill\":{\"color\":\"#EBF0F8\"},\"line\":{\"color\":\"white\"}},\"header\":{\"fill\":{\"color\":\"#C8D4E3\"},\"line\":{\"color\":\"white\"}},\"type\":\"table\"}]},\"layout\":{\"annotationdefaults\":{\"arrowcolor\":\"#2a3f5f\",\"arrowhead\":0,\"arrowwidth\":1},\"autotypenumbers\":\"strict\",\"coloraxis\":{\"colorbar\":{\"outlinewidth\":0,\"ticks\":\"\"}},\"colorscale\":{\"diverging\":[[0,\"#8e0152\"],[0.1,\"#c51b7d\"],[0.2,\"#de77ae\"],[0.3,\"#f1b6da\"],[0.4,\"#fde0ef\"],[0.5,\"#f7f7f7\"],[0.6,\"#e6f5d0\"],[0.7,\"#b8e186\"],[0.8,\"#7fbc41\"],[0.9,\"#4d9221\"],[1,\"#276419\"]],\"sequential\":[[0.0,\"#0d0887\"],[0.1111111111111111,\"#46039f\"],[0.2222222222222222,\"#7201a8\"],[0.3333333333333333,\"#9c179e\"],[0.4444444444444444,\"#bd3786\"],[0.5555555555555556,\"#d8576b\"],[0.6666666666666666,\"#ed7953\"],[0.7777777777777778,\"#fb9f3a\"],[0.8888888888888888,\"#fdca26\"],[1.0,\"#f0f921\"]],\"sequentialminus\":[[0.0,\"#0d0887\"],[0.1111111111111111,\"#46039f\"],[0.2222222222222222,\"#7201a8\"],[0.3333333333333333,\"#9c179e\"],[0.4444444444444444,\"#bd3786\"],[0.5555555555555556,\"#d8576b\"],[0.6666666666666666,\"#ed7953\"],[0.7777777777777778,\"#fb9f3a\"],[0.8888888888888888,\"#fdca26\"],[1.0,\"#f0f921\"]]},\"colorway\":[\"#636efa\",\"#EF553B\",\"#00cc96\",\"#ab63fa\",\"#FFA15A\",\"#19d3f3\",\"#FF6692\",\"#B6E880\",\"#FF97FF\",\"#FECB52\"],\"font\":{\"color\":\"#2a3f5f\"},\"geo\":{\"bgcolor\":\"white\",\"lakecolor\":\"white\",\"landcolor\":\"#E5ECF6\",\"showlakes\":true,\"showland\":true,\"subunitcolor\":\"white\"},\"hoverlabel\":{\"align\":\"left\"},\"hovermode\":\"closest\",\"mapbox\":{\"style\":\"light\"},\"paper_bgcolor\":\"white\",\"plot_bgcolor\":\"#E5ECF6\",\"polar\":{\"angularaxis\":{\"gridcolor\":\"white\",\"linecolor\":\"white\",\"ticks\":\"\"},\"bgcolor\":\"#E5ECF6\",\"radialaxis\":{\"gridcolor\":\"white\",\"linecolor\":\"white\",\"ticks\":\"\"}},\"scene\":{\"xaxis\":{\"backgroundcolor\":\"#E5ECF6\",\"gridcolor\":\"white\",\"gridwidth\":2,\"linecolor\":\"white\",\"showbackground\":true,\"ticks\":\"\",\"zerolinecolor\":\"white\"},\"yaxis\":{\"backgroundcolor\":\"#E5ECF6\",\"gridcolor\":\"white\",\"gridwidth\":2,\"linecolor\":\"white\",\"showbackground\":true,\"ticks\":\"\",\"zerolinecolor\":\"white\"},\"zaxis\":{\"backgroundcolor\":\"#E5ECF6\",\"gridcolor\":\"white\",\"gridwidth\":2,\"linecolor\":\"white\",\"showbackground\":true,\"ticks\":\"\",\"zerolinecolor\":\"white\"}},\"shapedefaults\":{\"line\":{\"color\":\"#2a3f5f\"}},\"ternary\":{\"aaxis\":{\"gridcolor\":\"white\",\"linecolor\":\"white\",\"ticks\":\"\"},\"baxis\":{\"gridcolor\":\"white\",\"linecolor\":\"white\",\"ticks\":\"\"},\"bgcolor\":\"#E5ECF6\",\"caxis\":{\"gridcolor\":\"white\",\"linecolor\":\"white\",\"ticks\":\"\"}},\"title\":{\"x\":0.05},\"xaxis\":{\"automargin\":true,\"gridcolor\":\"white\",\"linecolor\":\"white\",\"ticks\":\"\",\"title\":{\"standoff\":15},\"zerolinecolor\":\"white\",\"zerolinewidth\":2},\"yaxis\":{\"automargin\":true,\"gridcolor\":\"white\",\"linecolor\":\"white\",\"ticks\":\"\",\"title\":{\"standoff\":15},\"zerolinecolor\":\"white\",\"zerolinewidth\":2}}},\"title\":{\"font\":{\"color\":\"#4D5663\"},\"text\":\"Monthly Average Views and Reads\"},\"xaxis\":{\"gridcolor\":\"#E1E5ED\",\"showgrid\":true,\"tickfont\":{\"color\":\"#4D5663\"},\"title\":{\"font\":{\"color\":\"#4D5663\"},\"text\":\"Date\"},\"zerolinecolor\":\"#E1E5ED\"},\"yaxis\":{\"gridcolor\":\"#E1E5ED\",\"showgrid\":true,\"tickfont\":{\"color\":\"#4D5663\"},\"title\":{\"font\":{\"color\":\"#4D5663\"},\"text\":\"Average\"},\"zerolinecolor\":\"#E1E5ED\"}},                        {\"showLink\": true, \"linkText\": \"Export to plot.ly\", \"plotlyServerURL\": \"https://plot.ly\", \"responsive\": true}                    ).then(function(){\n",
       "                            \n",
       "var gd = document.getElementById('e36dfd95-f1cd-4f6a-9b04-8545bfe43a54');\n",
       "var x = new MutationObserver(function (mutations, observer) {{\n",
       "        var display = window.getComputedStyle(gd).display;\n",
       "        if (!display || display === 'none') {{\n",
       "            console.log([gd, 'removed!']);\n",
       "            Plotly.purge(gd);\n",
       "            observer.disconnect();\n",
       "        }}\n",
       "}});\n",
       "\n",
       "// Listen for the removal of the full notebook cells\n",
       "var notebookContainer = gd.closest('#notebook-container');\n",
       "if (notebookContainer) {{\n",
       "    x.observe(notebookContainer, {childList: true});\n",
       "}}\n",
       "\n",
       "// Listen for the clearing of the current output cell\n",
       "var outputEl = gd.closest('.output');\n",
       "if (outputEl) {{\n",
       "    x.observe(outputEl, {childList: true});\n",
       "}}\n",
       "\n",
       "                        })                };                });            </script>        </div>"
      ]
     },
     "metadata": {},
     "output_type": "display_data"
    }
   ],
   "source": [
    "df2.iplot(kind='bar', xTitle='Date', yTitle='Average',\n",
    "    title='Monthly Average Views and Reads')"
   ]
  },
  {
   "cell_type": "code",
   "execution_count": 31,
   "id": "c126d719",
   "metadata": {},
   "outputs": [
    {
     "data": {
      "text/html": [
       "<div>\n",
       "<style scoped>\n",
       "    .dataframe tbody tr th:only-of-type {\n",
       "        vertical-align: middle;\n",
       "    }\n",
       "\n",
       "    .dataframe tbody tr th {\n",
       "        vertical-align: top;\n",
       "    }\n",
       "\n",
       "    .dataframe thead th {\n",
       "        text-align: right;\n",
       "    }\n",
       "</style>\n",
       "<table border=\"1\" class=\"dataframe\">\n",
       "  <thead>\n",
       "    <tr style=\"text-align: right;\">\n",
       "      <th>publication</th>\n",
       "      <th>Engineering @ Feature Labs</th>\n",
       "      <th>None</th>\n",
       "      <th>Noteworthy - The Journal Blog</th>\n",
       "      <th>The Reality Project</th>\n",
       "      <th>Towards Data Science</th>\n",
       "    </tr>\n",
       "  </thead>\n",
       "  <tbody>\n",
       "    <tr>\n",
       "      <th>0</th>\n",
       "      <td>NaN</td>\n",
       "      <td>NaN</td>\n",
       "      <td>NaN</td>\n",
       "      <td>34.0</td>\n",
       "      <td>NaN</td>\n",
       "    </tr>\n",
       "    <tr>\n",
       "      <th>1</th>\n",
       "      <td>NaN</td>\n",
       "      <td>NaN</td>\n",
       "      <td>NaN</td>\n",
       "      <td>29.0</td>\n",
       "      <td>NaN</td>\n",
       "    </tr>\n",
       "    <tr>\n",
       "      <th>2</th>\n",
       "      <td>NaN</td>\n",
       "      <td>NaN</td>\n",
       "      <td>NaN</td>\n",
       "      <td>13.0</td>\n",
       "      <td>NaN</td>\n",
       "    </tr>\n",
       "    <tr>\n",
       "      <th>3</th>\n",
       "      <td>NaN</td>\n",
       "      <td>34.0</td>\n",
       "      <td>NaN</td>\n",
       "      <td>NaN</td>\n",
       "      <td>NaN</td>\n",
       "    </tr>\n",
       "    <tr>\n",
       "      <th>4</th>\n",
       "      <td>NaN</td>\n",
       "      <td>47.0</td>\n",
       "      <td>NaN</td>\n",
       "      <td>NaN</td>\n",
       "      <td>NaN</td>\n",
       "    </tr>\n",
       "    <tr>\n",
       "      <th>...</th>\n",
       "      <td>...</td>\n",
       "      <td>...</td>\n",
       "      <td>...</td>\n",
       "      <td>...</td>\n",
       "      <td>...</td>\n",
       "    </tr>\n",
       "    <tr>\n",
       "      <th>121</th>\n",
       "      <td>NaN</td>\n",
       "      <td>19.0</td>\n",
       "      <td>NaN</td>\n",
       "      <td>NaN</td>\n",
       "      <td>NaN</td>\n",
       "    </tr>\n",
       "    <tr>\n",
       "      <th>122</th>\n",
       "      <td>NaN</td>\n",
       "      <td>0.0</td>\n",
       "      <td>NaN</td>\n",
       "      <td>NaN</td>\n",
       "      <td>NaN</td>\n",
       "    </tr>\n",
       "    <tr>\n",
       "      <th>123</th>\n",
       "      <td>NaN</td>\n",
       "      <td>NaN</td>\n",
       "      <td>NaN</td>\n",
       "      <td>NaN</td>\n",
       "      <td>43.0</td>\n",
       "    </tr>\n",
       "    <tr>\n",
       "      <th>124</th>\n",
       "      <td>NaN</td>\n",
       "      <td>NaN</td>\n",
       "      <td>NaN</td>\n",
       "      <td>NaN</td>\n",
       "      <td>861.0</td>\n",
       "    </tr>\n",
       "    <tr>\n",
       "      <th>125</th>\n",
       "      <td>NaN</td>\n",
       "      <td>5.0</td>\n",
       "      <td>NaN</td>\n",
       "      <td>NaN</td>\n",
       "      <td>NaN</td>\n",
       "    </tr>\n",
       "  </tbody>\n",
       "</table>\n",
       "<p>126 rows × 5 columns</p>\n",
       "</div>"
      ],
      "text/plain": [
       "publication  Engineering @ Feature Labs  None  Noteworthy - The Journal Blog  \\\n",
       "0                                   NaN   NaN                            NaN   \n",
       "1                                   NaN   NaN                            NaN   \n",
       "2                                   NaN   NaN                            NaN   \n",
       "3                                   NaN  34.0                            NaN   \n",
       "4                                   NaN  47.0                            NaN   \n",
       "..                                  ...   ...                            ...   \n",
       "121                                 NaN  19.0                            NaN   \n",
       "122                                 NaN   0.0                            NaN   \n",
       "123                                 NaN   NaN                            NaN   \n",
       "124                                 NaN   NaN                            NaN   \n",
       "125                                 NaN   5.0                            NaN   \n",
       "\n",
       "publication  The Reality Project  Towards Data Science  \n",
       "0                           34.0                   NaN  \n",
       "1                           29.0                   NaN  \n",
       "2                           13.0                   NaN  \n",
       "3                            NaN                   NaN  \n",
       "4                            NaN                   NaN  \n",
       "..                           ...                   ...  \n",
       "121                          NaN                   NaN  \n",
       "122                          NaN                   NaN  \n",
       "123                          NaN                  43.0  \n",
       "124                          NaN                 861.0  \n",
       "125                          NaN                   NaN  \n",
       "\n",
       "[126 rows x 5 columns]"
      ]
     },
     "execution_count": 31,
     "metadata": {},
     "output_type": "execute_result"
    }
   ],
   "source": [
    "#For a boxplot of the fans per story by publication, we use a pivot and then plot\n",
    "#pivot method calculates sum of \"values\" columns by \"columns\" columns\n",
    "df.pivot(columns='publication', values='fans')"
   ]
  },
  {
   "cell_type": "code",
   "execution_count": 30,
   "id": "3bc5d163",
   "metadata": {},
   "outputs": [
    {
     "data": {
      "application/vnd.plotly.v1+json": {
       "config": {
        "linkText": "Export to plot.ly",
        "plotlyServerURL": "https://plot.ly",
        "showLink": true
       },
       "data": [
        {
         "boxpoints": false,
         "line": {
          "width": 1.3
         },
         "marker": {
          "color": "rgba(255, 153, 51, 1.0)"
         },
         "name": "Engineering @ Feature Labs",
         "orientation": "v",
         "type": "box",
         "y": [
          null,
          null,
          null,
          null,
          null,
          null,
          null,
          null,
          null,
          null,
          null,
          null,
          null,
          null,
          null,
          null,
          null,
          null,
          null,
          null,
          null,
          null,
          null,
          52,
          null,
          null,
          null,
          null,
          null,
          null,
          null,
          null,
          null,
          null,
          null,
          null,
          null,
          null,
          null,
          null,
          null,
          null,
          null,
          null,
          null,
          null,
          null,
          null,
          null,
          null,
          null,
          null,
          null,
          null,
          null,
          null,
          null,
          null,
          null,
          null,
          null,
          null,
          null,
          null,
          null,
          null,
          null,
          null,
          null,
          null,
          null,
          null,
          null,
          null,
          null,
          null,
          null,
          null,
          null,
          null,
          null,
          null,
          null,
          null,
          null,
          null,
          null,
          null,
          null,
          null,
          null,
          null,
          null,
          null,
          null,
          null,
          null,
          null,
          null,
          null,
          null,
          null,
          null,
          null,
          null,
          null,
          null,
          null,
          null,
          null,
          null,
          null,
          null,
          null,
          null,
          null,
          null,
          null,
          null,
          null,
          null,
          null,
          null,
          null,
          null,
          null
         ]
        },
        {
         "boxpoints": false,
         "line": {
          "width": 1.3
         },
         "marker": {
          "color": "rgba(55, 128, 191, 1.0)"
         },
         "name": "None",
         "orientation": "v",
         "type": "box",
         "y": [
          null,
          null,
          null,
          34,
          47,
          0,
          12,
          95,
          3,
          4,
          7,
          75,
          0,
          1,
          null,
          null,
          null,
          null,
          null,
          null,
          null,
          null,
          0,
          null,
          null,
          null,
          null,
          null,
          null,
          null,
          null,
          null,
          null,
          null,
          null,
          null,
          null,
          null,
          null,
          null,
          null,
          null,
          null,
          null,
          null,
          null,
          null,
          null,
          null,
          null,
          null,
          null,
          null,
          null,
          null,
          null,
          null,
          null,
          null,
          null,
          null,
          null,
          null,
          null,
          null,
          null,
          null,
          null,
          null,
          null,
          null,
          null,
          null,
          23,
          null,
          null,
          null,
          null,
          null,
          47,
          null,
          null,
          null,
          null,
          null,
          4,
          6,
          null,
          null,
          null,
          null,
          null,
          null,
          3,
          null,
          null,
          null,
          2,
          3,
          null,
          10,
          4,
          29,
          null,
          7,
          null,
          17,
          11,
          2,
          2,
          17,
          13,
          54,
          71,
          0,
          435,
          1,
          0,
          3,
          2,
          20,
          19,
          0,
          null,
          null,
          5
         ]
        },
        {
         "boxpoints": false,
         "line": {
          "width": 1.3
         },
         "marker": {
          "color": "rgba(50, 171, 96, 1.0)"
         },
         "name": "Noteworthy - The Journal Blog",
         "orientation": "v",
         "type": "box",
         "y": [
          null,
          null,
          null,
          null,
          null,
          null,
          null,
          null,
          null,
          null,
          null,
          null,
          null,
          null,
          null,
          null,
          null,
          null,
          null,
          null,
          null,
          null,
          null,
          null,
          null,
          null,
          null,
          null,
          null,
          null,
          null,
          null,
          null,
          null,
          null,
          null,
          135,
          null,
          null,
          null,
          null,
          null,
          null,
          null,
          null,
          null,
          null,
          null,
          null,
          null,
          null,
          null,
          null,
          null,
          null,
          null,
          null,
          null,
          null,
          null,
          null,
          null,
          null,
          null,
          null,
          null,
          null,
          null,
          null,
          null,
          null,
          null,
          null,
          null,
          null,
          null,
          null,
          null,
          null,
          null,
          null,
          null,
          null,
          null,
          null,
          null,
          null,
          null,
          null,
          null,
          null,
          null,
          null,
          null,
          null,
          null,
          null,
          null,
          null,
          null,
          null,
          null,
          null,
          null,
          null,
          null,
          null,
          null,
          null,
          null,
          null,
          null,
          null,
          null,
          null,
          null,
          null,
          null,
          null,
          null,
          null,
          null,
          null,
          null,
          null,
          null
         ]
        },
        {
         "boxpoints": false,
         "line": {
          "width": 1.3
         },
         "marker": {
          "color": "rgba(128, 0, 128, 1.0)"
         },
         "name": "The Reality Project",
         "orientation": "v",
         "type": "box",
         "y": [
          34,
          29,
          13,
          null,
          null,
          null,
          null,
          null,
          null,
          null,
          null,
          null,
          null,
          null,
          null,
          null,
          null,
          null,
          null,
          null,
          null,
          null,
          null,
          null,
          null,
          null,
          null,
          null,
          null,
          null,
          null,
          null,
          null,
          null,
          null,
          null,
          null,
          null,
          null,
          null,
          null,
          null,
          null,
          null,
          null,
          null,
          null,
          null,
          null,
          null,
          null,
          null,
          null,
          null,
          null,
          null,
          null,
          null,
          null,
          null,
          null,
          null,
          null,
          null,
          null,
          null,
          null,
          null,
          null,
          null,
          null,
          null,
          null,
          null,
          null,
          null,
          null,
          null,
          null,
          null,
          null,
          null,
          null,
          null,
          null,
          null,
          null,
          null,
          null,
          null,
          null,
          null,
          null,
          null,
          null,
          null,
          null,
          null,
          null,
          null,
          null,
          null,
          null,
          null,
          null,
          null,
          null,
          null,
          null,
          null,
          null,
          null,
          null,
          null,
          null,
          null,
          null,
          null,
          null,
          null,
          null,
          null,
          null,
          null,
          null,
          null
         ]
        },
        {
         "boxpoints": false,
         "line": {
          "width": 1.3
         },
         "marker": {
          "color": "rgba(219, 64, 82, 1.0)"
         },
         "name": "Towards Data Science",
         "orientation": "v",
         "type": "box",
         "y": [
          null,
          null,
          null,
          null,
          null,
          null,
          null,
          null,
          null,
          null,
          null,
          null,
          null,
          null,
          115,
          158,
          235,
          97,
          83,
          798,
          387,
          493,
          null,
          null,
          111,
          174,
          100,
          588,
          173,
          295,
          579,
          119,
          113,
          640,
          143,
          541,
          null,
          357,
          649,
          32,
          121,
          530,
          576,
          206,
          116,
          655,
          771,
          114,
          226,
          434,
          104,
          129,
          378,
          421,
          131,
          1177,
          1825,
          461,
          1184,
          65,
          474,
          841,
          2531,
          829,
          266,
          227,
          549,
          1629,
          548,
          1179,
          1271,
          200,
          607,
          null,
          128,
          252,
          188,
          1076,
          74,
          null,
          2226,
          737,
          329,
          174,
          288,
          null,
          null,
          902,
          208,
          510,
          951,
          1510,
          549,
          null,
          892,
          18,
          392,
          null,
          null,
          112,
          null,
          null,
          null,
          45,
          null,
          939,
          null,
          null,
          null,
          null,
          null,
          null,
          null,
          null,
          null,
          null,
          null,
          null,
          null,
          null,
          null,
          null,
          null,
          43,
          861,
          null
         ]
        }
       ],
       "layout": {
        "legend": {
         "bgcolor": "#F5F6F9",
         "font": {
          "color": "#4D5663"
         }
        },
        "paper_bgcolor": "#F5F6F9",
        "plot_bgcolor": "#F5F6F9",
        "template": {
         "data": {
          "bar": [
           {
            "error_x": {
             "color": "#2a3f5f"
            },
            "error_y": {
             "color": "#2a3f5f"
            },
            "marker": {
             "line": {
              "color": "#E5ECF6",
              "width": 0.5
             },
             "pattern": {
              "fillmode": "overlay",
              "size": 10,
              "solidity": 0.2
             }
            },
            "type": "bar"
           }
          ],
          "barpolar": [
           {
            "marker": {
             "line": {
              "color": "#E5ECF6",
              "width": 0.5
             },
             "pattern": {
              "fillmode": "overlay",
              "size": 10,
              "solidity": 0.2
             }
            },
            "type": "barpolar"
           }
          ],
          "carpet": [
           {
            "aaxis": {
             "endlinecolor": "#2a3f5f",
             "gridcolor": "white",
             "linecolor": "white",
             "minorgridcolor": "white",
             "startlinecolor": "#2a3f5f"
            },
            "baxis": {
             "endlinecolor": "#2a3f5f",
             "gridcolor": "white",
             "linecolor": "white",
             "minorgridcolor": "white",
             "startlinecolor": "#2a3f5f"
            },
            "type": "carpet"
           }
          ],
          "choropleth": [
           {
            "colorbar": {
             "outlinewidth": 0,
             "ticks": ""
            },
            "type": "choropleth"
           }
          ],
          "contour": [
           {
            "colorbar": {
             "outlinewidth": 0,
             "ticks": ""
            },
            "colorscale": [
             [
              0,
              "#0d0887"
             ],
             [
              0.1111111111111111,
              "#46039f"
             ],
             [
              0.2222222222222222,
              "#7201a8"
             ],
             [
              0.3333333333333333,
              "#9c179e"
             ],
             [
              0.4444444444444444,
              "#bd3786"
             ],
             [
              0.5555555555555556,
              "#d8576b"
             ],
             [
              0.6666666666666666,
              "#ed7953"
             ],
             [
              0.7777777777777778,
              "#fb9f3a"
             ],
             [
              0.8888888888888888,
              "#fdca26"
             ],
             [
              1,
              "#f0f921"
             ]
            ],
            "type": "contour"
           }
          ],
          "contourcarpet": [
           {
            "colorbar": {
             "outlinewidth": 0,
             "ticks": ""
            },
            "type": "contourcarpet"
           }
          ],
          "heatmap": [
           {
            "colorbar": {
             "outlinewidth": 0,
             "ticks": ""
            },
            "colorscale": [
             [
              0,
              "#0d0887"
             ],
             [
              0.1111111111111111,
              "#46039f"
             ],
             [
              0.2222222222222222,
              "#7201a8"
             ],
             [
              0.3333333333333333,
              "#9c179e"
             ],
             [
              0.4444444444444444,
              "#bd3786"
             ],
             [
              0.5555555555555556,
              "#d8576b"
             ],
             [
              0.6666666666666666,
              "#ed7953"
             ],
             [
              0.7777777777777778,
              "#fb9f3a"
             ],
             [
              0.8888888888888888,
              "#fdca26"
             ],
             [
              1,
              "#f0f921"
             ]
            ],
            "type": "heatmap"
           }
          ],
          "heatmapgl": [
           {
            "colorbar": {
             "outlinewidth": 0,
             "ticks": ""
            },
            "colorscale": [
             [
              0,
              "#0d0887"
             ],
             [
              0.1111111111111111,
              "#46039f"
             ],
             [
              0.2222222222222222,
              "#7201a8"
             ],
             [
              0.3333333333333333,
              "#9c179e"
             ],
             [
              0.4444444444444444,
              "#bd3786"
             ],
             [
              0.5555555555555556,
              "#d8576b"
             ],
             [
              0.6666666666666666,
              "#ed7953"
             ],
             [
              0.7777777777777778,
              "#fb9f3a"
             ],
             [
              0.8888888888888888,
              "#fdca26"
             ],
             [
              1,
              "#f0f921"
             ]
            ],
            "type": "heatmapgl"
           }
          ],
          "histogram": [
           {
            "marker": {
             "pattern": {
              "fillmode": "overlay",
              "size": 10,
              "solidity": 0.2
             }
            },
            "type": "histogram"
           }
          ],
          "histogram2d": [
           {
            "colorbar": {
             "outlinewidth": 0,
             "ticks": ""
            },
            "colorscale": [
             [
              0,
              "#0d0887"
             ],
             [
              0.1111111111111111,
              "#46039f"
             ],
             [
              0.2222222222222222,
              "#7201a8"
             ],
             [
              0.3333333333333333,
              "#9c179e"
             ],
             [
              0.4444444444444444,
              "#bd3786"
             ],
             [
              0.5555555555555556,
              "#d8576b"
             ],
             [
              0.6666666666666666,
              "#ed7953"
             ],
             [
              0.7777777777777778,
              "#fb9f3a"
             ],
             [
              0.8888888888888888,
              "#fdca26"
             ],
             [
              1,
              "#f0f921"
             ]
            ],
            "type": "histogram2d"
           }
          ],
          "histogram2dcontour": [
           {
            "colorbar": {
             "outlinewidth": 0,
             "ticks": ""
            },
            "colorscale": [
             [
              0,
              "#0d0887"
             ],
             [
              0.1111111111111111,
              "#46039f"
             ],
             [
              0.2222222222222222,
              "#7201a8"
             ],
             [
              0.3333333333333333,
              "#9c179e"
             ],
             [
              0.4444444444444444,
              "#bd3786"
             ],
             [
              0.5555555555555556,
              "#d8576b"
             ],
             [
              0.6666666666666666,
              "#ed7953"
             ],
             [
              0.7777777777777778,
              "#fb9f3a"
             ],
             [
              0.8888888888888888,
              "#fdca26"
             ],
             [
              1,
              "#f0f921"
             ]
            ],
            "type": "histogram2dcontour"
           }
          ],
          "mesh3d": [
           {
            "colorbar": {
             "outlinewidth": 0,
             "ticks": ""
            },
            "type": "mesh3d"
           }
          ],
          "parcoords": [
           {
            "line": {
             "colorbar": {
              "outlinewidth": 0,
              "ticks": ""
             }
            },
            "type": "parcoords"
           }
          ],
          "pie": [
           {
            "automargin": true,
            "type": "pie"
           }
          ],
          "scatter": [
           {
            "marker": {
             "colorbar": {
              "outlinewidth": 0,
              "ticks": ""
             }
            },
            "type": "scatter"
           }
          ],
          "scatter3d": [
           {
            "line": {
             "colorbar": {
              "outlinewidth": 0,
              "ticks": ""
             }
            },
            "marker": {
             "colorbar": {
              "outlinewidth": 0,
              "ticks": ""
             }
            },
            "type": "scatter3d"
           }
          ],
          "scattercarpet": [
           {
            "marker": {
             "colorbar": {
              "outlinewidth": 0,
              "ticks": ""
             }
            },
            "type": "scattercarpet"
           }
          ],
          "scattergeo": [
           {
            "marker": {
             "colorbar": {
              "outlinewidth": 0,
              "ticks": ""
             }
            },
            "type": "scattergeo"
           }
          ],
          "scattergl": [
           {
            "marker": {
             "colorbar": {
              "outlinewidth": 0,
              "ticks": ""
             }
            },
            "type": "scattergl"
           }
          ],
          "scattermapbox": [
           {
            "marker": {
             "colorbar": {
              "outlinewidth": 0,
              "ticks": ""
             }
            },
            "type": "scattermapbox"
           }
          ],
          "scatterpolar": [
           {
            "marker": {
             "colorbar": {
              "outlinewidth": 0,
              "ticks": ""
             }
            },
            "type": "scatterpolar"
           }
          ],
          "scatterpolargl": [
           {
            "marker": {
             "colorbar": {
              "outlinewidth": 0,
              "ticks": ""
             }
            },
            "type": "scatterpolargl"
           }
          ],
          "scatterternary": [
           {
            "marker": {
             "colorbar": {
              "outlinewidth": 0,
              "ticks": ""
             }
            },
            "type": "scatterternary"
           }
          ],
          "surface": [
           {
            "colorbar": {
             "outlinewidth": 0,
             "ticks": ""
            },
            "colorscale": [
             [
              0,
              "#0d0887"
             ],
             [
              0.1111111111111111,
              "#46039f"
             ],
             [
              0.2222222222222222,
              "#7201a8"
             ],
             [
              0.3333333333333333,
              "#9c179e"
             ],
             [
              0.4444444444444444,
              "#bd3786"
             ],
             [
              0.5555555555555556,
              "#d8576b"
             ],
             [
              0.6666666666666666,
              "#ed7953"
             ],
             [
              0.7777777777777778,
              "#fb9f3a"
             ],
             [
              0.8888888888888888,
              "#fdca26"
             ],
             [
              1,
              "#f0f921"
             ]
            ],
            "type": "surface"
           }
          ],
          "table": [
           {
            "cells": {
             "fill": {
              "color": "#EBF0F8"
             },
             "line": {
              "color": "white"
             }
            },
            "header": {
             "fill": {
              "color": "#C8D4E3"
             },
             "line": {
              "color": "white"
             }
            },
            "type": "table"
           }
          ]
         },
         "layout": {
          "annotationdefaults": {
           "arrowcolor": "#2a3f5f",
           "arrowhead": 0,
           "arrowwidth": 1
          },
          "autotypenumbers": "strict",
          "coloraxis": {
           "colorbar": {
            "outlinewidth": 0,
            "ticks": ""
           }
          },
          "colorscale": {
           "diverging": [
            [
             0,
             "#8e0152"
            ],
            [
             0.1,
             "#c51b7d"
            ],
            [
             0.2,
             "#de77ae"
            ],
            [
             0.3,
             "#f1b6da"
            ],
            [
             0.4,
             "#fde0ef"
            ],
            [
             0.5,
             "#f7f7f7"
            ],
            [
             0.6,
             "#e6f5d0"
            ],
            [
             0.7,
             "#b8e186"
            ],
            [
             0.8,
             "#7fbc41"
            ],
            [
             0.9,
             "#4d9221"
            ],
            [
             1,
             "#276419"
            ]
           ],
           "sequential": [
            [
             0,
             "#0d0887"
            ],
            [
             0.1111111111111111,
             "#46039f"
            ],
            [
             0.2222222222222222,
             "#7201a8"
            ],
            [
             0.3333333333333333,
             "#9c179e"
            ],
            [
             0.4444444444444444,
             "#bd3786"
            ],
            [
             0.5555555555555556,
             "#d8576b"
            ],
            [
             0.6666666666666666,
             "#ed7953"
            ],
            [
             0.7777777777777778,
             "#fb9f3a"
            ],
            [
             0.8888888888888888,
             "#fdca26"
            ],
            [
             1,
             "#f0f921"
            ]
           ],
           "sequentialminus": [
            [
             0,
             "#0d0887"
            ],
            [
             0.1111111111111111,
             "#46039f"
            ],
            [
             0.2222222222222222,
             "#7201a8"
            ],
            [
             0.3333333333333333,
             "#9c179e"
            ],
            [
             0.4444444444444444,
             "#bd3786"
            ],
            [
             0.5555555555555556,
             "#d8576b"
            ],
            [
             0.6666666666666666,
             "#ed7953"
            ],
            [
             0.7777777777777778,
             "#fb9f3a"
            ],
            [
             0.8888888888888888,
             "#fdca26"
            ],
            [
             1,
             "#f0f921"
            ]
           ]
          },
          "colorway": [
           "#636efa",
           "#EF553B",
           "#00cc96",
           "#ab63fa",
           "#FFA15A",
           "#19d3f3",
           "#FF6692",
           "#B6E880",
           "#FF97FF",
           "#FECB52"
          ],
          "font": {
           "color": "#2a3f5f"
          },
          "geo": {
           "bgcolor": "white",
           "lakecolor": "white",
           "landcolor": "#E5ECF6",
           "showlakes": true,
           "showland": true,
           "subunitcolor": "white"
          },
          "hoverlabel": {
           "align": "left"
          },
          "hovermode": "closest",
          "mapbox": {
           "style": "light"
          },
          "paper_bgcolor": "white",
          "plot_bgcolor": "#E5ECF6",
          "polar": {
           "angularaxis": {
            "gridcolor": "white",
            "linecolor": "white",
            "ticks": ""
           },
           "bgcolor": "#E5ECF6",
           "radialaxis": {
            "gridcolor": "white",
            "linecolor": "white",
            "ticks": ""
           }
          },
          "scene": {
           "xaxis": {
            "backgroundcolor": "#E5ECF6",
            "gridcolor": "white",
            "gridwidth": 2,
            "linecolor": "white",
            "showbackground": true,
            "ticks": "",
            "zerolinecolor": "white"
           },
           "yaxis": {
            "backgroundcolor": "#E5ECF6",
            "gridcolor": "white",
            "gridwidth": 2,
            "linecolor": "white",
            "showbackground": true,
            "ticks": "",
            "zerolinecolor": "white"
           },
           "zaxis": {
            "backgroundcolor": "#E5ECF6",
            "gridcolor": "white",
            "gridwidth": 2,
            "linecolor": "white",
            "showbackground": true,
            "ticks": "",
            "zerolinecolor": "white"
           }
          },
          "shapedefaults": {
           "line": {
            "color": "#2a3f5f"
           }
          },
          "ternary": {
           "aaxis": {
            "gridcolor": "white",
            "linecolor": "white",
            "ticks": ""
           },
           "baxis": {
            "gridcolor": "white",
            "linecolor": "white",
            "ticks": ""
           },
           "bgcolor": "#E5ECF6",
           "caxis": {
            "gridcolor": "white",
            "linecolor": "white",
            "ticks": ""
           }
          },
          "title": {
           "x": 0.05
          },
          "xaxis": {
           "automargin": true,
           "gridcolor": "white",
           "linecolor": "white",
           "ticks": "",
           "title": {
            "standoff": 15
           },
           "zerolinecolor": "white",
           "zerolinewidth": 2
          },
          "yaxis": {
           "automargin": true,
           "gridcolor": "white",
           "linecolor": "white",
           "ticks": "",
           "title": {
            "standoff": 15
           },
           "zerolinecolor": "white",
           "zerolinewidth": 2
          }
         }
        },
        "title": {
         "font": {
          "color": "#4D5663"
         },
         "text": "Fans Distribution by Publication"
        },
        "xaxis": {
         "gridcolor": "#E1E5ED",
         "showgrid": true,
         "tickfont": {
          "color": "#4D5663"
         },
         "title": {
          "font": {
           "color": "#4D5663"
          },
          "text": ""
         },
         "zerolinecolor": "#E1E5ED"
        },
        "yaxis": {
         "gridcolor": "#E1E5ED",
         "showgrid": true,
         "tickfont": {
          "color": "#4D5663"
         },
         "title": {
          "font": {
           "color": "#4D5663"
          },
          "text": "fans"
         },
         "zerolinecolor": "#E1E5ED"
        }
       }
      },
      "text/html": [
       "<div>                            <div id=\"3e14b210-23d7-4942-8eda-36c3ae4407a9\" class=\"plotly-graph-div\" style=\"height:525px; width:100%;\"></div>            <script type=\"text/javascript\">                require([\"plotly\"], function(Plotly) {                    window.PLOTLYENV=window.PLOTLYENV || {};\n",
       "                    window.PLOTLYENV.BASE_URL='https://plot.ly';                                    if (document.getElementById(\"3e14b210-23d7-4942-8eda-36c3ae4407a9\")) {                    Plotly.newPlot(                        \"3e14b210-23d7-4942-8eda-36c3ae4407a9\",                        [{\"boxpoints\":false,\"line\":{\"width\":1.3},\"marker\":{\"color\":\"rgba(255, 153, 51, 1.0)\"},\"name\":\"Engineering @ Feature Labs\",\"orientation\":\"v\",\"type\":\"box\",\"y\":[null,null,null,null,null,null,null,null,null,null,null,null,null,null,null,null,null,null,null,null,null,null,null,52.0,null,null,null,null,null,null,null,null,null,null,null,null,null,null,null,null,null,null,null,null,null,null,null,null,null,null,null,null,null,null,null,null,null,null,null,null,null,null,null,null,null,null,null,null,null,null,null,null,null,null,null,null,null,null,null,null,null,null,null,null,null,null,null,null,null,null,null,null,null,null,null,null,null,null,null,null,null,null,null,null,null,null,null,null,null,null,null,null,null,null,null,null,null,null,null,null,null,null,null,null,null,null]},{\"boxpoints\":false,\"line\":{\"width\":1.3},\"marker\":{\"color\":\"rgba(55, 128, 191, 1.0)\"},\"name\":\"None\",\"orientation\":\"v\",\"type\":\"box\",\"y\":[null,null,null,34.0,47.0,0.0,12.0,95.0,3.0,4.0,7.0,75.0,0.0,1.0,null,null,null,null,null,null,null,null,0.0,null,null,null,null,null,null,null,null,null,null,null,null,null,null,null,null,null,null,null,null,null,null,null,null,null,null,null,null,null,null,null,null,null,null,null,null,null,null,null,null,null,null,null,null,null,null,null,null,null,null,23.0,null,null,null,null,null,47.0,null,null,null,null,null,4.0,6.0,null,null,null,null,null,null,3.0,null,null,null,2.0,3.0,null,10.0,4.0,29.0,null,7.0,null,17.0,11.0,2.0,2.0,17.0,13.0,54.0,71.0,0.0,435.0,1.0,0.0,3.0,2.0,20.0,19.0,0.0,null,null,5.0]},{\"boxpoints\":false,\"line\":{\"width\":1.3},\"marker\":{\"color\":\"rgba(50, 171, 96, 1.0)\"},\"name\":\"Noteworthy - The Journal Blog\",\"orientation\":\"v\",\"type\":\"box\",\"y\":[null,null,null,null,null,null,null,null,null,null,null,null,null,null,null,null,null,null,null,null,null,null,null,null,null,null,null,null,null,null,null,null,null,null,null,null,135.0,null,null,null,null,null,null,null,null,null,null,null,null,null,null,null,null,null,null,null,null,null,null,null,null,null,null,null,null,null,null,null,null,null,null,null,null,null,null,null,null,null,null,null,null,null,null,null,null,null,null,null,null,null,null,null,null,null,null,null,null,null,null,null,null,null,null,null,null,null,null,null,null,null,null,null,null,null,null,null,null,null,null,null,null,null,null,null,null,null]},{\"boxpoints\":false,\"line\":{\"width\":1.3},\"marker\":{\"color\":\"rgba(128, 0, 128, 1.0)\"},\"name\":\"The Reality Project\",\"orientation\":\"v\",\"type\":\"box\",\"y\":[34.0,29.0,13.0,null,null,null,null,null,null,null,null,null,null,null,null,null,null,null,null,null,null,null,null,null,null,null,null,null,null,null,null,null,null,null,null,null,null,null,null,null,null,null,null,null,null,null,null,null,null,null,null,null,null,null,null,null,null,null,null,null,null,null,null,null,null,null,null,null,null,null,null,null,null,null,null,null,null,null,null,null,null,null,null,null,null,null,null,null,null,null,null,null,null,null,null,null,null,null,null,null,null,null,null,null,null,null,null,null,null,null,null,null,null,null,null,null,null,null,null,null,null,null,null,null,null,null]},{\"boxpoints\":false,\"line\":{\"width\":1.3},\"marker\":{\"color\":\"rgba(219, 64, 82, 1.0)\"},\"name\":\"Towards Data Science\",\"orientation\":\"v\",\"type\":\"box\",\"y\":[null,null,null,null,null,null,null,null,null,null,null,null,null,null,115.0,158.0,235.0,97.0,83.0,798.0,387.0,493.0,null,null,111.0,174.0,100.0,588.0,173.0,295.0,579.0,119.0,113.0,640.0,143.0,541.0,null,357.0,649.0,32.0,121.0,530.0,576.0,206.0,116.0,655.0,771.0,114.0,226.0,434.0,104.0,129.0,378.0,421.0,131.0,1177.0,1825.0,461.0,1184.0,65.0,474.0,841.0,2531.0,829.0,266.0,227.0,549.0,1629.0,548.0,1179.0,1271.0,200.0,607.0,null,128.0,252.0,188.0,1076.0,74.0,null,2226.0,737.0,329.0,174.0,288.0,null,null,902.0,208.0,510.0,951.0,1510.0,549.0,null,892.0,18.0,392.0,null,null,112.0,null,null,null,45.0,null,939.0,null,null,null,null,null,null,null,null,null,null,null,null,null,null,null,null,null,43.0,861.0,null]}],                        {\"legend\":{\"bgcolor\":\"#F5F6F9\",\"font\":{\"color\":\"#4D5663\"}},\"paper_bgcolor\":\"#F5F6F9\",\"plot_bgcolor\":\"#F5F6F9\",\"template\":{\"data\":{\"bar\":[{\"error_x\":{\"color\":\"#2a3f5f\"},\"error_y\":{\"color\":\"#2a3f5f\"},\"marker\":{\"line\":{\"color\":\"#E5ECF6\",\"width\":0.5},\"pattern\":{\"fillmode\":\"overlay\",\"size\":10,\"solidity\":0.2}},\"type\":\"bar\"}],\"barpolar\":[{\"marker\":{\"line\":{\"color\":\"#E5ECF6\",\"width\":0.5},\"pattern\":{\"fillmode\":\"overlay\",\"size\":10,\"solidity\":0.2}},\"type\":\"barpolar\"}],\"carpet\":[{\"aaxis\":{\"endlinecolor\":\"#2a3f5f\",\"gridcolor\":\"white\",\"linecolor\":\"white\",\"minorgridcolor\":\"white\",\"startlinecolor\":\"#2a3f5f\"},\"baxis\":{\"endlinecolor\":\"#2a3f5f\",\"gridcolor\":\"white\",\"linecolor\":\"white\",\"minorgridcolor\":\"white\",\"startlinecolor\":\"#2a3f5f\"},\"type\":\"carpet\"}],\"choropleth\":[{\"colorbar\":{\"outlinewidth\":0,\"ticks\":\"\"},\"type\":\"choropleth\"}],\"contour\":[{\"colorbar\":{\"outlinewidth\":0,\"ticks\":\"\"},\"colorscale\":[[0.0,\"#0d0887\"],[0.1111111111111111,\"#46039f\"],[0.2222222222222222,\"#7201a8\"],[0.3333333333333333,\"#9c179e\"],[0.4444444444444444,\"#bd3786\"],[0.5555555555555556,\"#d8576b\"],[0.6666666666666666,\"#ed7953\"],[0.7777777777777778,\"#fb9f3a\"],[0.8888888888888888,\"#fdca26\"],[1.0,\"#f0f921\"]],\"type\":\"contour\"}],\"contourcarpet\":[{\"colorbar\":{\"outlinewidth\":0,\"ticks\":\"\"},\"type\":\"contourcarpet\"}],\"heatmap\":[{\"colorbar\":{\"outlinewidth\":0,\"ticks\":\"\"},\"colorscale\":[[0.0,\"#0d0887\"],[0.1111111111111111,\"#46039f\"],[0.2222222222222222,\"#7201a8\"],[0.3333333333333333,\"#9c179e\"],[0.4444444444444444,\"#bd3786\"],[0.5555555555555556,\"#d8576b\"],[0.6666666666666666,\"#ed7953\"],[0.7777777777777778,\"#fb9f3a\"],[0.8888888888888888,\"#fdca26\"],[1.0,\"#f0f921\"]],\"type\":\"heatmap\"}],\"heatmapgl\":[{\"colorbar\":{\"outlinewidth\":0,\"ticks\":\"\"},\"colorscale\":[[0.0,\"#0d0887\"],[0.1111111111111111,\"#46039f\"],[0.2222222222222222,\"#7201a8\"],[0.3333333333333333,\"#9c179e\"],[0.4444444444444444,\"#bd3786\"],[0.5555555555555556,\"#d8576b\"],[0.6666666666666666,\"#ed7953\"],[0.7777777777777778,\"#fb9f3a\"],[0.8888888888888888,\"#fdca26\"],[1.0,\"#f0f921\"]],\"type\":\"heatmapgl\"}],\"histogram\":[{\"marker\":{\"pattern\":{\"fillmode\":\"overlay\",\"size\":10,\"solidity\":0.2}},\"type\":\"histogram\"}],\"histogram2d\":[{\"colorbar\":{\"outlinewidth\":0,\"ticks\":\"\"},\"colorscale\":[[0.0,\"#0d0887\"],[0.1111111111111111,\"#46039f\"],[0.2222222222222222,\"#7201a8\"],[0.3333333333333333,\"#9c179e\"],[0.4444444444444444,\"#bd3786\"],[0.5555555555555556,\"#d8576b\"],[0.6666666666666666,\"#ed7953\"],[0.7777777777777778,\"#fb9f3a\"],[0.8888888888888888,\"#fdca26\"],[1.0,\"#f0f921\"]],\"type\":\"histogram2d\"}],\"histogram2dcontour\":[{\"colorbar\":{\"outlinewidth\":0,\"ticks\":\"\"},\"colorscale\":[[0.0,\"#0d0887\"],[0.1111111111111111,\"#46039f\"],[0.2222222222222222,\"#7201a8\"],[0.3333333333333333,\"#9c179e\"],[0.4444444444444444,\"#bd3786\"],[0.5555555555555556,\"#d8576b\"],[0.6666666666666666,\"#ed7953\"],[0.7777777777777778,\"#fb9f3a\"],[0.8888888888888888,\"#fdca26\"],[1.0,\"#f0f921\"]],\"type\":\"histogram2dcontour\"}],\"mesh3d\":[{\"colorbar\":{\"outlinewidth\":0,\"ticks\":\"\"},\"type\":\"mesh3d\"}],\"parcoords\":[{\"line\":{\"colorbar\":{\"outlinewidth\":0,\"ticks\":\"\"}},\"type\":\"parcoords\"}],\"pie\":[{\"automargin\":true,\"type\":\"pie\"}],\"scatter\":[{\"marker\":{\"colorbar\":{\"outlinewidth\":0,\"ticks\":\"\"}},\"type\":\"scatter\"}],\"scatter3d\":[{\"line\":{\"colorbar\":{\"outlinewidth\":0,\"ticks\":\"\"}},\"marker\":{\"colorbar\":{\"outlinewidth\":0,\"ticks\":\"\"}},\"type\":\"scatter3d\"}],\"scattercarpet\":[{\"marker\":{\"colorbar\":{\"outlinewidth\":0,\"ticks\":\"\"}},\"type\":\"scattercarpet\"}],\"scattergeo\":[{\"marker\":{\"colorbar\":{\"outlinewidth\":0,\"ticks\":\"\"}},\"type\":\"scattergeo\"}],\"scattergl\":[{\"marker\":{\"colorbar\":{\"outlinewidth\":0,\"ticks\":\"\"}},\"type\":\"scattergl\"}],\"scattermapbox\":[{\"marker\":{\"colorbar\":{\"outlinewidth\":0,\"ticks\":\"\"}},\"type\":\"scattermapbox\"}],\"scatterpolar\":[{\"marker\":{\"colorbar\":{\"outlinewidth\":0,\"ticks\":\"\"}},\"type\":\"scatterpolar\"}],\"scatterpolargl\":[{\"marker\":{\"colorbar\":{\"outlinewidth\":0,\"ticks\":\"\"}},\"type\":\"scatterpolargl\"}],\"scatterternary\":[{\"marker\":{\"colorbar\":{\"outlinewidth\":0,\"ticks\":\"\"}},\"type\":\"scatterternary\"}],\"surface\":[{\"colorbar\":{\"outlinewidth\":0,\"ticks\":\"\"},\"colorscale\":[[0.0,\"#0d0887\"],[0.1111111111111111,\"#46039f\"],[0.2222222222222222,\"#7201a8\"],[0.3333333333333333,\"#9c179e\"],[0.4444444444444444,\"#bd3786\"],[0.5555555555555556,\"#d8576b\"],[0.6666666666666666,\"#ed7953\"],[0.7777777777777778,\"#fb9f3a\"],[0.8888888888888888,\"#fdca26\"],[1.0,\"#f0f921\"]],\"type\":\"surface\"}],\"table\":[{\"cells\":{\"fill\":{\"color\":\"#EBF0F8\"},\"line\":{\"color\":\"white\"}},\"header\":{\"fill\":{\"color\":\"#C8D4E3\"},\"line\":{\"color\":\"white\"}},\"type\":\"table\"}]},\"layout\":{\"annotationdefaults\":{\"arrowcolor\":\"#2a3f5f\",\"arrowhead\":0,\"arrowwidth\":1},\"autotypenumbers\":\"strict\",\"coloraxis\":{\"colorbar\":{\"outlinewidth\":0,\"ticks\":\"\"}},\"colorscale\":{\"diverging\":[[0,\"#8e0152\"],[0.1,\"#c51b7d\"],[0.2,\"#de77ae\"],[0.3,\"#f1b6da\"],[0.4,\"#fde0ef\"],[0.5,\"#f7f7f7\"],[0.6,\"#e6f5d0\"],[0.7,\"#b8e186\"],[0.8,\"#7fbc41\"],[0.9,\"#4d9221\"],[1,\"#276419\"]],\"sequential\":[[0.0,\"#0d0887\"],[0.1111111111111111,\"#46039f\"],[0.2222222222222222,\"#7201a8\"],[0.3333333333333333,\"#9c179e\"],[0.4444444444444444,\"#bd3786\"],[0.5555555555555556,\"#d8576b\"],[0.6666666666666666,\"#ed7953\"],[0.7777777777777778,\"#fb9f3a\"],[0.8888888888888888,\"#fdca26\"],[1.0,\"#f0f921\"]],\"sequentialminus\":[[0.0,\"#0d0887\"],[0.1111111111111111,\"#46039f\"],[0.2222222222222222,\"#7201a8\"],[0.3333333333333333,\"#9c179e\"],[0.4444444444444444,\"#bd3786\"],[0.5555555555555556,\"#d8576b\"],[0.6666666666666666,\"#ed7953\"],[0.7777777777777778,\"#fb9f3a\"],[0.8888888888888888,\"#fdca26\"],[1.0,\"#f0f921\"]]},\"colorway\":[\"#636efa\",\"#EF553B\",\"#00cc96\",\"#ab63fa\",\"#FFA15A\",\"#19d3f3\",\"#FF6692\",\"#B6E880\",\"#FF97FF\",\"#FECB52\"],\"font\":{\"color\":\"#2a3f5f\"},\"geo\":{\"bgcolor\":\"white\",\"lakecolor\":\"white\",\"landcolor\":\"#E5ECF6\",\"showlakes\":true,\"showland\":true,\"subunitcolor\":\"white\"},\"hoverlabel\":{\"align\":\"left\"},\"hovermode\":\"closest\",\"mapbox\":{\"style\":\"light\"},\"paper_bgcolor\":\"white\",\"plot_bgcolor\":\"#E5ECF6\",\"polar\":{\"angularaxis\":{\"gridcolor\":\"white\",\"linecolor\":\"white\",\"ticks\":\"\"},\"bgcolor\":\"#E5ECF6\",\"radialaxis\":{\"gridcolor\":\"white\",\"linecolor\":\"white\",\"ticks\":\"\"}},\"scene\":{\"xaxis\":{\"backgroundcolor\":\"#E5ECF6\",\"gridcolor\":\"white\",\"gridwidth\":2,\"linecolor\":\"white\",\"showbackground\":true,\"ticks\":\"\",\"zerolinecolor\":\"white\"},\"yaxis\":{\"backgroundcolor\":\"#E5ECF6\",\"gridcolor\":\"white\",\"gridwidth\":2,\"linecolor\":\"white\",\"showbackground\":true,\"ticks\":\"\",\"zerolinecolor\":\"white\"},\"zaxis\":{\"backgroundcolor\":\"#E5ECF6\",\"gridcolor\":\"white\",\"gridwidth\":2,\"linecolor\":\"white\",\"showbackground\":true,\"ticks\":\"\",\"zerolinecolor\":\"white\"}},\"shapedefaults\":{\"line\":{\"color\":\"#2a3f5f\"}},\"ternary\":{\"aaxis\":{\"gridcolor\":\"white\",\"linecolor\":\"white\",\"ticks\":\"\"},\"baxis\":{\"gridcolor\":\"white\",\"linecolor\":\"white\",\"ticks\":\"\"},\"bgcolor\":\"#E5ECF6\",\"caxis\":{\"gridcolor\":\"white\",\"linecolor\":\"white\",\"ticks\":\"\"}},\"title\":{\"x\":0.05},\"xaxis\":{\"automargin\":true,\"gridcolor\":\"white\",\"linecolor\":\"white\",\"ticks\":\"\",\"title\":{\"standoff\":15},\"zerolinecolor\":\"white\",\"zerolinewidth\":2},\"yaxis\":{\"automargin\":true,\"gridcolor\":\"white\",\"linecolor\":\"white\",\"ticks\":\"\",\"title\":{\"standoff\":15},\"zerolinecolor\":\"white\",\"zerolinewidth\":2}}},\"title\":{\"font\":{\"color\":\"#4D5663\"},\"text\":\"Fans Distribution by Publication\"},\"xaxis\":{\"gridcolor\":\"#E1E5ED\",\"showgrid\":true,\"tickfont\":{\"color\":\"#4D5663\"},\"title\":{\"font\":{\"color\":\"#4D5663\"},\"text\":\"\"},\"zerolinecolor\":\"#E1E5ED\"},\"yaxis\":{\"gridcolor\":\"#E1E5ED\",\"showgrid\":true,\"tickfont\":{\"color\":\"#4D5663\"},\"title\":{\"font\":{\"color\":\"#4D5663\"},\"text\":\"fans\"},\"zerolinecolor\":\"#E1E5ED\"}},                        {\"showLink\": true, \"linkText\": \"Export to plot.ly\", \"plotlyServerURL\": \"https://plot.ly\", \"responsive\": true}                    ).then(function(){\n",
       "                            \n",
       "var gd = document.getElementById('3e14b210-23d7-4942-8eda-36c3ae4407a9');\n",
       "var x = new MutationObserver(function (mutations, observer) {{\n",
       "        var display = window.getComputedStyle(gd).display;\n",
       "        if (!display || display === 'none') {{\n",
       "            console.log([gd, 'removed!']);\n",
       "            Plotly.purge(gd);\n",
       "            observer.disconnect();\n",
       "        }}\n",
       "}});\n",
       "\n",
       "// Listen for the removal of the full notebook cells\n",
       "var notebookContainer = gd.closest('#notebook-container');\n",
       "if (notebookContainer) {{\n",
       "    x.observe(notebookContainer, {childList: true});\n",
       "}}\n",
       "\n",
       "// Listen for the clearing of the current output cell\n",
       "var outputEl = gd.closest('.output');\n",
       "if (outputEl) {{\n",
       "    x.observe(outputEl, {childList: true});\n",
       "}}\n",
       "\n",
       "                        })                };                });            </script>        </div>"
      ]
     },
     "metadata": {},
     "output_type": "display_data"
    }
   ],
   "source": [
    "df.pivot(columns='publication', values='fans').iplot(kind='box', yTitle='fans', title='Fans Distribution by Publication')"
   ]
  },
  {
   "cell_type": "code",
   "execution_count": 33,
   "id": "23700dd0",
   "metadata": {},
   "outputs": [
    {
     "data": {
      "text/html": [
       "<div>\n",
       "<style scoped>\n",
       "    .dataframe tbody tr th:only-of-type {\n",
       "        vertical-align: middle;\n",
       "    }\n",
       "\n",
       "    .dataframe tbody tr th {\n",
       "        vertical-align: top;\n",
       "    }\n",
       "\n",
       "    .dataframe thead th {\n",
       "        text-align: right;\n",
       "    }\n",
       "</style>\n",
       "<table border=\"1\" class=\"dataframe\">\n",
       "  <thead>\n",
       "    <tr style=\"text-align: right;\">\n",
       "      <th></th>\n",
       "      <th>claps</th>\n",
       "      <th>days_since_publication</th>\n",
       "      <th>fans</th>\n",
       "      <th>link</th>\n",
       "      <th>num_responses</th>\n",
       "      <th>publication</th>\n",
       "      <th>read_ratio</th>\n",
       "      <th>read_time</th>\n",
       "      <th>reads</th>\n",
       "      <th>started_date</th>\n",
       "      <th>...</th>\n",
       "      <th>word_count</th>\n",
       "      <th>claps_per_word</th>\n",
       "      <th>editing_days</th>\n",
       "      <th>&lt;tag&gt;Education</th>\n",
       "      <th>&lt;tag&gt;Data Science</th>\n",
       "      <th>&lt;tag&gt;Towards Data Science</th>\n",
       "      <th>&lt;tag&gt;Machine Learning</th>\n",
       "      <th>&lt;tag&gt;Python</th>\n",
       "      <th>time_started</th>\n",
       "      <th>time_published</th>\n",
       "    </tr>\n",
       "    <tr>\n",
       "      <th>published_date</th>\n",
       "      <th></th>\n",
       "      <th></th>\n",
       "      <th></th>\n",
       "      <th></th>\n",
       "      <th></th>\n",
       "      <th></th>\n",
       "      <th></th>\n",
       "      <th></th>\n",
       "      <th></th>\n",
       "      <th></th>\n",
       "      <th></th>\n",
       "      <th></th>\n",
       "      <th></th>\n",
       "      <th></th>\n",
       "      <th></th>\n",
       "      <th></th>\n",
       "      <th></th>\n",
       "      <th></th>\n",
       "      <th></th>\n",
       "      <th></th>\n",
       "      <th></th>\n",
       "    </tr>\n",
       "  </thead>\n",
       "  <tbody>\n",
       "    <tr>\n",
       "      <th>2017-12-27 11:20:00</th>\n",
       "      <td>4800</td>\n",
       "      <td>374.986885</td>\n",
       "      <td>861</td>\n",
       "      <td>https://towardsdatascience.com/random-forest-i...</td>\n",
       "      <td>27</td>\n",
       "      <td>Towards Data Science</td>\n",
       "      <td>17.68</td>\n",
       "      <td>21</td>\n",
       "      <td>28566</td>\n",
       "      <td>2017-12-26 15:11:00</td>\n",
       "      <td>...</td>\n",
       "      <td>4494</td>\n",
       "      <td>1.068091</td>\n",
       "      <td>0</td>\n",
       "      <td>0</td>\n",
       "      <td>1</td>\n",
       "      <td>0</td>\n",
       "      <td>1</td>\n",
       "      <td>1</td>\n",
       "      <td>15.183333</td>\n",
       "      <td>11.333333</td>\n",
       "    </tr>\n",
       "    <tr>\n",
       "      <th>2018-01-06 20:15:00</th>\n",
       "      <td>857</td>\n",
       "      <td>364.615092</td>\n",
       "      <td>112</td>\n",
       "      <td>https://towardsdatascience.com/improving-rando...</td>\n",
       "      <td>6</td>\n",
       "      <td>Towards Data Science</td>\n",
       "      <td>22.76</td>\n",
       "      <td>17</td>\n",
       "      <td>7207</td>\n",
       "      <td>2018-01-03 21:38:00</td>\n",
       "      <td>...</td>\n",
       "      <td>3504</td>\n",
       "      <td>0.244578</td>\n",
       "      <td>2</td>\n",
       "      <td>0</td>\n",
       "      <td>1</td>\n",
       "      <td>0</td>\n",
       "      <td>1</td>\n",
       "      <td>1</td>\n",
       "      <td>21.633333</td>\n",
       "      <td>20.250000</td>\n",
       "    </tr>\n",
       "    <tr>\n",
       "      <th>2018-01-07 20:37:00</th>\n",
       "      <td>186</td>\n",
       "      <td>363.599979</td>\n",
       "      <td>45</td>\n",
       "      <td>https://towardsdatascience.com/data-science-a-...</td>\n",
       "      <td>1</td>\n",
       "      <td>Towards Data Science</td>\n",
       "      <td>28.64</td>\n",
       "      <td>15</td>\n",
       "      <td>775</td>\n",
       "      <td>2018-01-07 13:18:00</td>\n",
       "      <td>...</td>\n",
       "      <td>3569</td>\n",
       "      <td>0.052115</td>\n",
       "      <td>0</td>\n",
       "      <td>0</td>\n",
       "      <td>1</td>\n",
       "      <td>0</td>\n",
       "      <td>0</td>\n",
       "      <td>0</td>\n",
       "      <td>13.300000</td>\n",
       "      <td>20.616667</td>\n",
       "    </tr>\n",
       "    <tr>\n",
       "      <th>2018-01-08 16:58:00</th>\n",
       "      <td>119</td>\n",
       "      <td>362.752029</td>\n",
       "      <td>43</td>\n",
       "      <td>https://towardsdatascience.com/a-theory-of-pre...</td>\n",
       "      <td>2</td>\n",
       "      <td>Towards Data Science</td>\n",
       "      <td>31.53</td>\n",
       "      <td>11</td>\n",
       "      <td>740</td>\n",
       "      <td>2018-01-02 17:23:00</td>\n",
       "      <td>...</td>\n",
       "      <td>2817</td>\n",
       "      <td>0.042244</td>\n",
       "      <td>5</td>\n",
       "      <td>0</td>\n",
       "      <td>1</td>\n",
       "      <td>0</td>\n",
       "      <td>0</td>\n",
       "      <td>0</td>\n",
       "      <td>17.383333</td>\n",
       "      <td>16.966667</td>\n",
       "    </tr>\n",
       "    <tr>\n",
       "      <th>2018-01-09 21:49:00</th>\n",
       "      <td>2000</td>\n",
       "      <td>361.550093</td>\n",
       "      <td>392</td>\n",
       "      <td>https://towardsdatascience.com/hyperparameter-...</td>\n",
       "      <td>12</td>\n",
       "      <td>Towards Data Science</td>\n",
       "      <td>23.99</td>\n",
       "      <td>12</td>\n",
       "      <td>25505</td>\n",
       "      <td>2018-01-09 12:26:00</td>\n",
       "      <td>...</td>\n",
       "      <td>2456</td>\n",
       "      <td>0.814332</td>\n",
       "      <td>0</td>\n",
       "      <td>0</td>\n",
       "      <td>1</td>\n",
       "      <td>0</td>\n",
       "      <td>1</td>\n",
       "      <td>1</td>\n",
       "      <td>12.433333</td>\n",
       "      <td>21.816667</td>\n",
       "    </tr>\n",
       "    <tr>\n",
       "      <th>...</th>\n",
       "      <td>...</td>\n",
       "      <td>...</td>\n",
       "      <td>...</td>\n",
       "      <td>...</td>\n",
       "      <td>...</td>\n",
       "      <td>...</td>\n",
       "      <td>...</td>\n",
       "      <td>...</td>\n",
       "      <td>...</td>\n",
       "      <td>...</td>\n",
       "      <td>...</td>\n",
       "      <td>...</td>\n",
       "      <td>...</td>\n",
       "      <td>...</td>\n",
       "      <td>...</td>\n",
       "      <td>...</td>\n",
       "      <td>...</td>\n",
       "      <td>...</td>\n",
       "      <td>...</td>\n",
       "      <td>...</td>\n",
       "      <td>...</td>\n",
       "    </tr>\n",
       "    <tr>\n",
       "      <th>2018-12-08 14:41:00</th>\n",
       "      <td>440</td>\n",
       "      <td>28.847474</td>\n",
       "      <td>115</td>\n",
       "      <td>https://towardsdatascience.com/how-to-write-a-...</td>\n",
       "      <td>3</td>\n",
       "      <td>Towards Data Science</td>\n",
       "      <td>22.04</td>\n",
       "      <td>7</td>\n",
       "      <td>1055</td>\n",
       "      <td>2018-11-22 19:51:00</td>\n",
       "      <td>...</td>\n",
       "      <td>1310</td>\n",
       "      <td>0.335878</td>\n",
       "      <td>15</td>\n",
       "      <td>1</td>\n",
       "      <td>1</td>\n",
       "      <td>1</td>\n",
       "      <td>0</td>\n",
       "      <td>0</td>\n",
       "      <td>19.850000</td>\n",
       "      <td>14.683333</td>\n",
       "    </tr>\n",
       "    <tr>\n",
       "      <th>2018-12-15 12:39:00</th>\n",
       "      <td>893</td>\n",
       "      <td>21.931818</td>\n",
       "      <td>235</td>\n",
       "      <td>https://towardsdatascience.com/introduction-to...</td>\n",
       "      <td>4</td>\n",
       "      <td>Towards Data Science</td>\n",
       "      <td>29.30</td>\n",
       "      <td>9</td>\n",
       "      <td>2852</td>\n",
       "      <td>2018-12-15 07:52:00</td>\n",
       "      <td>...</td>\n",
       "      <td>1806</td>\n",
       "      <td>0.494463</td>\n",
       "      <td>0</td>\n",
       "      <td>1</td>\n",
       "      <td>1</td>\n",
       "      <td>1</td>\n",
       "      <td>0</td>\n",
       "      <td>1</td>\n",
       "      <td>7.866667</td>\n",
       "      <td>12.650000</td>\n",
       "    </tr>\n",
       "    <tr>\n",
       "      <th>2018-12-17 20:04:00</th>\n",
       "      <td>529</td>\n",
       "      <td>19.623199</td>\n",
       "      <td>158</td>\n",
       "      <td>https://towardsdatascience.com/docker-without-...</td>\n",
       "      <td>2</td>\n",
       "      <td>Towards Data Science</td>\n",
       "      <td>30.11</td>\n",
       "      <td>5</td>\n",
       "      <td>1598</td>\n",
       "      <td>2018-12-17 08:43:00</td>\n",
       "      <td>...</td>\n",
       "      <td>1075</td>\n",
       "      <td>0.492093</td>\n",
       "      <td>0</td>\n",
       "      <td>1</td>\n",
       "      <td>1</td>\n",
       "      <td>0</td>\n",
       "      <td>0</td>\n",
       "      <td>0</td>\n",
       "      <td>8.716667</td>\n",
       "      <td>20.066667</td>\n",
       "    </tr>\n",
       "    <tr>\n",
       "      <th>2018-12-29 11:36:00</th>\n",
       "      <td>443</td>\n",
       "      <td>7.975446</td>\n",
       "      <td>97</td>\n",
       "      <td>https://towardsdatascience.com/the-copernican-...</td>\n",
       "      <td>2</td>\n",
       "      <td>Towards Data Science</td>\n",
       "      <td>30.59</td>\n",
       "      <td>8</td>\n",
       "      <td>521</td>\n",
       "      <td>2018-12-28 11:41:00</td>\n",
       "      <td>...</td>\n",
       "      <td>1898</td>\n",
       "      <td>0.233404</td>\n",
       "      <td>0</td>\n",
       "      <td>1</td>\n",
       "      <td>0</td>\n",
       "      <td>1</td>\n",
       "      <td>0</td>\n",
       "      <td>0</td>\n",
       "      <td>11.683333</td>\n",
       "      <td>11.600000</td>\n",
       "    </tr>\n",
       "    <tr>\n",
       "      <th>2018-12-31 17:53:00</th>\n",
       "      <td>412</td>\n",
       "      <td>5.713865</td>\n",
       "      <td>83</td>\n",
       "      <td>https://towardsdatascience.com/analyzing-mediu...</td>\n",
       "      <td>2</td>\n",
       "      <td>Towards Data Science</td>\n",
       "      <td>20.47</td>\n",
       "      <td>12</td>\n",
       "      <td>457</td>\n",
       "      <td>2018-12-30 16:56:00</td>\n",
       "      <td>...</td>\n",
       "      <td>2813</td>\n",
       "      <td>0.146463</td>\n",
       "      <td>1</td>\n",
       "      <td>1</td>\n",
       "      <td>1</td>\n",
       "      <td>1</td>\n",
       "      <td>0</td>\n",
       "      <td>1</td>\n",
       "      <td>16.933333</td>\n",
       "      <td>17.883333</td>\n",
       "    </tr>\n",
       "  </tbody>\n",
       "</table>\n",
       "<p>80 rows × 26 columns</p>\n",
       "</div>"
      ],
      "text/plain": [
       "                     claps  days_since_publication  fans  \\\n",
       "published_date                                             \n",
       "2017-12-27 11:20:00   4800              374.986885   861   \n",
       "2018-01-06 20:15:00    857              364.615092   112   \n",
       "2018-01-07 20:37:00    186              363.599979    45   \n",
       "2018-01-08 16:58:00    119              362.752029    43   \n",
       "2018-01-09 21:49:00   2000              361.550093   392   \n",
       "...                    ...                     ...   ...   \n",
       "2018-12-08 14:41:00    440               28.847474   115   \n",
       "2018-12-15 12:39:00    893               21.931818   235   \n",
       "2018-12-17 20:04:00    529               19.623199   158   \n",
       "2018-12-29 11:36:00    443                7.975446    97   \n",
       "2018-12-31 17:53:00    412                5.713865    83   \n",
       "\n",
       "                                                                  link  \\\n",
       "published_date                                                           \n",
       "2017-12-27 11:20:00  https://towardsdatascience.com/random-forest-i...   \n",
       "2018-01-06 20:15:00  https://towardsdatascience.com/improving-rando...   \n",
       "2018-01-07 20:37:00  https://towardsdatascience.com/data-science-a-...   \n",
       "2018-01-08 16:58:00  https://towardsdatascience.com/a-theory-of-pre...   \n",
       "2018-01-09 21:49:00  https://towardsdatascience.com/hyperparameter-...   \n",
       "...                                                                ...   \n",
       "2018-12-08 14:41:00  https://towardsdatascience.com/how-to-write-a-...   \n",
       "2018-12-15 12:39:00  https://towardsdatascience.com/introduction-to...   \n",
       "2018-12-17 20:04:00  https://towardsdatascience.com/docker-without-...   \n",
       "2018-12-29 11:36:00  https://towardsdatascience.com/the-copernican-...   \n",
       "2018-12-31 17:53:00  https://towardsdatascience.com/analyzing-mediu...   \n",
       "\n",
       "                     num_responses           publication  read_ratio  \\\n",
       "published_date                                                         \n",
       "2017-12-27 11:20:00             27  Towards Data Science       17.68   \n",
       "2018-01-06 20:15:00              6  Towards Data Science       22.76   \n",
       "2018-01-07 20:37:00              1  Towards Data Science       28.64   \n",
       "2018-01-08 16:58:00              2  Towards Data Science       31.53   \n",
       "2018-01-09 21:49:00             12  Towards Data Science       23.99   \n",
       "...                            ...                   ...         ...   \n",
       "2018-12-08 14:41:00              3  Towards Data Science       22.04   \n",
       "2018-12-15 12:39:00              4  Towards Data Science       29.30   \n",
       "2018-12-17 20:04:00              2  Towards Data Science       30.11   \n",
       "2018-12-29 11:36:00              2  Towards Data Science       30.59   \n",
       "2018-12-31 17:53:00              2  Towards Data Science       20.47   \n",
       "\n",
       "                     read_time  reads        started_date  ... word_count  \\\n",
       "published_date                                             ...              \n",
       "2017-12-27 11:20:00         21  28566 2017-12-26 15:11:00  ...       4494   \n",
       "2018-01-06 20:15:00         17   7207 2018-01-03 21:38:00  ...       3504   \n",
       "2018-01-07 20:37:00         15    775 2018-01-07 13:18:00  ...       3569   \n",
       "2018-01-08 16:58:00         11    740 2018-01-02 17:23:00  ...       2817   \n",
       "2018-01-09 21:49:00         12  25505 2018-01-09 12:26:00  ...       2456   \n",
       "...                        ...    ...                 ...  ...        ...   \n",
       "2018-12-08 14:41:00          7   1055 2018-11-22 19:51:00  ...       1310   \n",
       "2018-12-15 12:39:00          9   2852 2018-12-15 07:52:00  ...       1806   \n",
       "2018-12-17 20:04:00          5   1598 2018-12-17 08:43:00  ...       1075   \n",
       "2018-12-29 11:36:00          8    521 2018-12-28 11:41:00  ...       1898   \n",
       "2018-12-31 17:53:00         12    457 2018-12-30 16:56:00  ...       2813   \n",
       "\n",
       "                    claps_per_word editing_days  <tag>Education  \\\n",
       "published_date                                                    \n",
       "2017-12-27 11:20:00       1.068091            0               0   \n",
       "2018-01-06 20:15:00       0.244578            2               0   \n",
       "2018-01-07 20:37:00       0.052115            0               0   \n",
       "2018-01-08 16:58:00       0.042244            5               0   \n",
       "2018-01-09 21:49:00       0.814332            0               0   \n",
       "...                            ...          ...             ...   \n",
       "2018-12-08 14:41:00       0.335878           15               1   \n",
       "2018-12-15 12:39:00       0.494463            0               1   \n",
       "2018-12-17 20:04:00       0.492093            0               1   \n",
       "2018-12-29 11:36:00       0.233404            0               1   \n",
       "2018-12-31 17:53:00       0.146463            1               1   \n",
       "\n",
       "                    <tag>Data Science  <tag>Towards Data Science  \\\n",
       "published_date                                                     \n",
       "2017-12-27 11:20:00                 1                          0   \n",
       "2018-01-06 20:15:00                 1                          0   \n",
       "2018-01-07 20:37:00                 1                          0   \n",
       "2018-01-08 16:58:00                 1                          0   \n",
       "2018-01-09 21:49:00                 1                          0   \n",
       "...                               ...                        ...   \n",
       "2018-12-08 14:41:00                 1                          1   \n",
       "2018-12-15 12:39:00                 1                          1   \n",
       "2018-12-17 20:04:00                 1                          0   \n",
       "2018-12-29 11:36:00                 0                          1   \n",
       "2018-12-31 17:53:00                 1                          1   \n",
       "\n",
       "                     <tag>Machine Learning  <tag>Python  time_started  \\\n",
       "published_date                                                          \n",
       "2017-12-27 11:20:00                      1            1     15.183333   \n",
       "2018-01-06 20:15:00                      1            1     21.633333   \n",
       "2018-01-07 20:37:00                      0            0     13.300000   \n",
       "2018-01-08 16:58:00                      0            0     17.383333   \n",
       "2018-01-09 21:49:00                      1            1     12.433333   \n",
       "...                                    ...          ...           ...   \n",
       "2018-12-08 14:41:00                      0            0     19.850000   \n",
       "2018-12-15 12:39:00                      0            1      7.866667   \n",
       "2018-12-17 20:04:00                      0            0      8.716667   \n",
       "2018-12-29 11:36:00                      0            0     11.683333   \n",
       "2018-12-31 17:53:00                      0            1     16.933333   \n",
       "\n",
       "                     time_published  \n",
       "published_date                       \n",
       "2017-12-27 11:20:00       11.333333  \n",
       "2018-01-06 20:15:00       20.250000  \n",
       "2018-01-07 20:37:00       20.616667  \n",
       "2018-01-08 16:58:00       16.966667  \n",
       "2018-01-09 21:49:00       21.816667  \n",
       "...                             ...  \n",
       "2018-12-08 14:41:00       14.683333  \n",
       "2018-12-15 12:39:00       12.650000  \n",
       "2018-12-17 20:04:00       20.066667  \n",
       "2018-12-29 11:36:00       11.600000  \n",
       "2018-12-31 17:53:00       17.883333  \n",
       "\n",
       "[80 rows x 26 columns]"
      ]
     },
     "execution_count": 33,
     "metadata": {},
     "output_type": "execute_result"
    }
   ],
   "source": [
    "#II/ Scatterplots\n",
    "#Time-Series\n",
    "#Create a dataframe of Towards Data Science Articles\n",
    "tds = df[df['publication'] == 'Towards Data Science'].set_index('published_date')\n",
    "tds"
   ]
  },
  {
   "cell_type": "code",
   "execution_count": 34,
   "id": "410b38d5",
   "metadata": {},
   "outputs": [
    {
     "data": {
      "application/vnd.plotly.v1+json": {
       "config": {
        "linkText": "Export to plot.ly",
        "plotlyServerURL": "https://plot.ly",
        "showLink": true
       },
       "data": [
        {
         "line": {
          "color": "rgba(255, 153, 51, 1.0)",
          "dash": "solid",
          "shape": "linear",
          "width": 1.3
         },
         "marker": {
          "size": 12,
          "symbol": "circle"
         },
         "mode": "lines+markers",
         "name": "claps",
         "text": [
          "Random Forest in Python",
          "Improving the Random Forest in Python Part 1",
          "Data Science: A Personal Application",
          "A Theory of Prediction",
          "Hyperparameter Tuning the Random Forest in Python",
          "Time Series Analysis in Python: An Introduction",
          "Stock Analysis in Python",
          "A Review of the Coursera Machine Learning Specialization",
          "Stock Prediction in Python",
          "Correlation vs. Causation: An Example",
          "Learn By Sharing",
          "Overfitting vs. Underfitting: A Conceptual Explanation",
          "Overfitting vs. Underfitting: A Complete Example",
          "How to Master New Skills",
          "Statistical Significance Explained",
          "Python is the Perfect Tool for any Problem",
          "The Misleading Effect of Noise: The Multiple Comparisons Problem",
          "Markov Chain Monte Carlo in Python",
          "Bayes’ Rule Applied",
          "Data Visualization Hackathon Style",
          "Unintended Consequences and Goodhart’s Law",
          "Beyond Accuracy: Precision and Recall",
          "Controlling the Web with Python",
          "Data Visualization with Bokeh in Python, Part I: Getting Started",
          "Data Visualization with Bokeh in Python, Part II: Interactions",
          "Histograms and Density Plots in Python",
          "Data Visualization with Bokeh in Python, Part III: Making a Complete Dashboard",
          "Visualizing Data with Pairs Plots in Python",
          "Introduction to Bayesian Linear Regression",
          "Bayesian Linear Regression in Python: Using Machine Learning to Predict Student Grades Part 1",
          "Bayesian Linear Regression in Python: Using Machine Learning to Predict Student Grades Part 2",
          "Web Scraping, Regular Expressions, and Data Visualization: Doing it all in Python",
          "If your files are saved only on your laptop they might as well not exist!",
          "A Complete Machine Learning Project Walk-Through in Python: Part One",
          "A Complete Machine Learning Walk-Through in Python: Part Two",
          "A Complete Machine Learning Walk-Through in Python: Part Three",
          "Automated Machine Learning on the Cloud in Python",
          "Machine Learning Kaggle Competition Part One: Getting Started",
          "Automated Feature Engineering in Python",
          "Machine Learning Kaggle Competition Part Two: Improving",
          "A Feature Selection Tool for Machine Learning in Python",
          "A Conceptual Explanation of Bayesian Hyperparameter Optimization for Machine Learning",
          "An Introductory Example of Bayesian Optimization in Python with Hyperopt",
          "Automated Machine Learning Hyperparameter Tuning in Python",
          "Machine Learning Kaggle Competition: Part Three Optimization",
          "How to get the right data? Trying asking for it.",
          "Why Automated Feature Engineering Will Change the Way You Do Machine Learning",
          "The most important part of a data science project is writing a blog post",
          "Parallelizing Feature Engineering with Dask",
          "How to Visualize a Decision Tree from a Random Forest in Python using Scikit-Learn",
          "A “Data Science for Good“ Machine Learning Project Walk-Through in Python: Part One",
          "A “Data Science for Good” Machine Learning Project Walk-Through in Python: Part Two",
          "How to Put Fully Interactive, Runnable Code in a Medium Post",
          "An Implementation and Explanation of the Random Forest in Python",
          "Practical Advice for Data Science Writing",
          "Another Machine Learning Walk-Through and a Challenge",
          "Five Minutes to Your Own Website",
          "Converting Medium Posts to Markdown for Your Blog",
          "Wikipedia Data Science: Working with the World’s Largest Encyclopedia",
          "Neural Network Embeddings Explained",
          "Building a Recommendation System Using Neural Network Embeddings",
          "Simpson’s Paradox: How to Prove Opposite Arguments with the Same Data",
          "My Weaknesses as a Data Scientist",
          "Overcome Your Biases with Data",
          "Recurrent Neural Networks by Example in Python",
          "Prediction Engineering: How to Set Up Your Machine Learning Problem",
          "How to Create Value with Machine Learning",
          "Feature Engineering: What Powers Machine Learning",
          "Modeling: Teaching a Machine Learning Algorithm to Deliver Business Value",
          "Deploying a Keras Deep Learning Model as a Web Application in Python",
          "Deploying a Python Web App on AWS",
          "Transfer Learning with Convolutional Neural Networks in PyTorch",
          "Estimating Probabilities with Bayesian Modeling in Python",
          "Python and Slack: A Natural Match",
          "Jupyter Notebook Extensions",
          "How to Write a Jupyter Notebook Extension",
          "Introduction to Interactive Time Series Visualizations with Plotly in Python",
          "Docker for Data Science Without the Hassle",
          "The Copernican Principle and How to Use Statistics to Figure Out How Long Anything Will Last",
          "Data Science with Medium Story Stats in Python"
         ],
         "type": "scatter",
         "x": [
          "2017-12-27 11:20:00",
          "2018-01-06 20:15:00",
          "2018-01-07 20:37:00",
          "2018-01-08 16:58:00",
          "2018-01-09 21:49:00",
          "2018-01-12 20:48:00",
          "2018-01-17 15:24:00",
          "2018-01-17 19:42:00",
          "2018-01-19 15:30:00",
          "2018-01-19 20:16:00",
          "2018-01-24 18:27:00",
          "2018-01-27 20:17:00",
          "2018-01-28 08:40:00",
          "2018-01-31 11:41:00",
          "2018-02-02 09:26:00",
          "2018-02-04 09:12:00",
          "2018-02-07 09:09:00",
          "2018-02-09 22:29:00",
          "2018-02-14 11:27:00",
          "2018-02-20 12:49:00",
          "2018-02-24 09:33:00",
          "2018-03-03 11:10:00",
          "2018-03-10 16:16:00",
          "2018-03-17 10:29:00",
          "2018-03-20 09:47:00",
          "2018-03-23 12:44:00",
          "2018-03-31 08:36:00",
          "2018-04-06 14:12:00",
          "2018-04-13 20:38:00",
          "2018-04-20 13:31:00",
          "2018-04-20 13:34:00",
          "2018-04-28 15:27:00",
          "2018-04-30 11:04:00",
          "2018-05-16 12:33:00",
          "2018-05-17 09:34:00",
          "2018-05-18 09:48:00",
          "2018-05-21 14:16:00",
          "2018-05-28 11:39:00",
          "2018-06-02 10:01:00",
          "2018-06-19 20:35:00",
          "2018-06-22 10:12:00",
          "2018-06-24 08:26:00",
          "2018-06-28 08:33:00",
          "2018-07-03 11:04:00",
          "2018-07-20 08:57:00",
          "2018-07-26 09:35:00",
          "2018-08-09 09:04:00",
          "2018-08-11 05:53:00",
          "2018-08-16 14:43:00",
          "2018-08-18 19:49:00",
          "2018-08-20 09:48:00",
          "2018-08-20 09:51:00",
          "2018-08-29 19:08:00",
          "2018-08-30 12:44:00",
          "2018-09-03 17:27:00",
          "2018-09-10 09:26:00",
          "2018-09-16 10:31:00",
          "2018-09-16 17:55:00",
          "2018-09-23 10:26:00",
          "2018-10-01 21:04:00",
          "2018-10-04 13:10:00",
          "2018-10-12 12:31:00",
          "2018-10-26 15:32:00",
          "2018-11-01 20:44:00",
          "2018-11-04 21:30:00",
          "2018-11-07 10:14:00",
          "2018-11-07 10:17:00",
          "2018-11-12 09:00:00",
          "2018-11-15 08:35:00",
          "2018-11-17 21:54:00",
          "2018-11-18 19:57:00",
          "2018-11-26 13:25:00",
          "2018-11-28 10:23:00",
          "2018-12-01 11:50:00",
          "2018-12-07 16:16:00",
          "2018-12-08 14:41:00",
          "2018-12-15 12:39:00",
          "2018-12-17 20:04:00",
          "2018-12-29 11:36:00",
          "2018-12-31 17:53:00"
         ],
         "y": [
          4800,
          857,
          186,
          119,
          2000,
          4100,
          2700,
          77,
          7000,
          1200,
          1600,
          1600,
          1000,
          4300,
          4980,
          12900,
          223,
          4900,
          5900,
          548,
          895,
          6700,
          6500,
          2700,
          1100,
          2900,
          2600,
          2800,
          5300,
          1300,
          1000,
          7900,
          364,
          13500,
          4100,
          2200,
          3900,
          6300,
          8200,
          1300,
          5400,
          2300,
          2700,
          2100,
          707,
          650,
          2700,
          4100,
          822,
          830,
          3700,
          653,
          657,
          1100,
          2800,
          3100,
          792,
          222,
          3300,
          2500,
          976,
          2000,
          3200,
          651,
          2300,
          809,
          745,
          587,
          818,
          2200,
          1300,
          630,
          2600,
          2000,
          3600,
          440,
          893,
          529,
          443,
          412
         ]
        },
        {
         "line": {
          "color": "rgba(55, 128, 191, 1.0)",
          "dash": "solid",
          "shape": "linear",
          "width": 1.3
         },
         "marker": {
          "size": 12,
          "symbol": "circle"
         },
         "mode": "lines+markers",
         "name": "fans",
         "text": [
          "Random Forest in Python",
          "Improving the Random Forest in Python Part 1",
          "Data Science: A Personal Application",
          "A Theory of Prediction",
          "Hyperparameter Tuning the Random Forest in Python",
          "Time Series Analysis in Python: An Introduction",
          "Stock Analysis in Python",
          "A Review of the Coursera Machine Learning Specialization",
          "Stock Prediction in Python",
          "Correlation vs. Causation: An Example",
          "Learn By Sharing",
          "Overfitting vs. Underfitting: A Conceptual Explanation",
          "Overfitting vs. Underfitting: A Complete Example",
          "How to Master New Skills",
          "Statistical Significance Explained",
          "Python is the Perfect Tool for any Problem",
          "The Misleading Effect of Noise: The Multiple Comparisons Problem",
          "Markov Chain Monte Carlo in Python",
          "Bayes’ Rule Applied",
          "Data Visualization Hackathon Style",
          "Unintended Consequences and Goodhart’s Law",
          "Beyond Accuracy: Precision and Recall",
          "Controlling the Web with Python",
          "Data Visualization with Bokeh in Python, Part I: Getting Started",
          "Data Visualization with Bokeh in Python, Part II: Interactions",
          "Histograms and Density Plots in Python",
          "Data Visualization with Bokeh in Python, Part III: Making a Complete Dashboard",
          "Visualizing Data with Pairs Plots in Python",
          "Introduction to Bayesian Linear Regression",
          "Bayesian Linear Regression in Python: Using Machine Learning to Predict Student Grades Part 1",
          "Bayesian Linear Regression in Python: Using Machine Learning to Predict Student Grades Part 2",
          "Web Scraping, Regular Expressions, and Data Visualization: Doing it all in Python",
          "If your files are saved only on your laptop they might as well not exist!",
          "A Complete Machine Learning Project Walk-Through in Python: Part One",
          "A Complete Machine Learning Walk-Through in Python: Part Two",
          "A Complete Machine Learning Walk-Through in Python: Part Three",
          "Automated Machine Learning on the Cloud in Python",
          "Machine Learning Kaggle Competition Part One: Getting Started",
          "Automated Feature Engineering in Python",
          "Machine Learning Kaggle Competition Part Two: Improving",
          "A Feature Selection Tool for Machine Learning in Python",
          "A Conceptual Explanation of Bayesian Hyperparameter Optimization for Machine Learning",
          "An Introductory Example of Bayesian Optimization in Python with Hyperopt",
          "Automated Machine Learning Hyperparameter Tuning in Python",
          "Machine Learning Kaggle Competition: Part Three Optimization",
          "How to get the right data? Trying asking for it.",
          "Why Automated Feature Engineering Will Change the Way You Do Machine Learning",
          "The most important part of a data science project is writing a blog post",
          "Parallelizing Feature Engineering with Dask",
          "How to Visualize a Decision Tree from a Random Forest in Python using Scikit-Learn",
          "A “Data Science for Good“ Machine Learning Project Walk-Through in Python: Part One",
          "A “Data Science for Good” Machine Learning Project Walk-Through in Python: Part Two",
          "How to Put Fully Interactive, Runnable Code in a Medium Post",
          "An Implementation and Explanation of the Random Forest in Python",
          "Practical Advice for Data Science Writing",
          "Another Machine Learning Walk-Through and a Challenge",
          "Five Minutes to Your Own Website",
          "Converting Medium Posts to Markdown for Your Blog",
          "Wikipedia Data Science: Working with the World’s Largest Encyclopedia",
          "Neural Network Embeddings Explained",
          "Building a Recommendation System Using Neural Network Embeddings",
          "Simpson’s Paradox: How to Prove Opposite Arguments with the Same Data",
          "My Weaknesses as a Data Scientist",
          "Overcome Your Biases with Data",
          "Recurrent Neural Networks by Example in Python",
          "Prediction Engineering: How to Set Up Your Machine Learning Problem",
          "How to Create Value with Machine Learning",
          "Feature Engineering: What Powers Machine Learning",
          "Modeling: Teaching a Machine Learning Algorithm to Deliver Business Value",
          "Deploying a Keras Deep Learning Model as a Web Application in Python",
          "Deploying a Python Web App on AWS",
          "Transfer Learning with Convolutional Neural Networks in PyTorch",
          "Estimating Probabilities with Bayesian Modeling in Python",
          "Python and Slack: A Natural Match",
          "Jupyter Notebook Extensions",
          "How to Write a Jupyter Notebook Extension",
          "Introduction to Interactive Time Series Visualizations with Plotly in Python",
          "Docker for Data Science Without the Hassle",
          "The Copernican Principle and How to Use Statistics to Figure Out How Long Anything Will Last",
          "Data Science with Medium Story Stats in Python"
         ],
         "type": "scatter",
         "x": [
          "2017-12-27 11:20:00",
          "2018-01-06 20:15:00",
          "2018-01-07 20:37:00",
          "2018-01-08 16:58:00",
          "2018-01-09 21:49:00",
          "2018-01-12 20:48:00",
          "2018-01-17 15:24:00",
          "2018-01-17 19:42:00",
          "2018-01-19 15:30:00",
          "2018-01-19 20:16:00",
          "2018-01-24 18:27:00",
          "2018-01-27 20:17:00",
          "2018-01-28 08:40:00",
          "2018-01-31 11:41:00",
          "2018-02-02 09:26:00",
          "2018-02-04 09:12:00",
          "2018-02-07 09:09:00",
          "2018-02-09 22:29:00",
          "2018-02-14 11:27:00",
          "2018-02-20 12:49:00",
          "2018-02-24 09:33:00",
          "2018-03-03 11:10:00",
          "2018-03-10 16:16:00",
          "2018-03-17 10:29:00",
          "2018-03-20 09:47:00",
          "2018-03-23 12:44:00",
          "2018-03-31 08:36:00",
          "2018-04-06 14:12:00",
          "2018-04-13 20:38:00",
          "2018-04-20 13:31:00",
          "2018-04-20 13:34:00",
          "2018-04-28 15:27:00",
          "2018-04-30 11:04:00",
          "2018-05-16 12:33:00",
          "2018-05-17 09:34:00",
          "2018-05-18 09:48:00",
          "2018-05-21 14:16:00",
          "2018-05-28 11:39:00",
          "2018-06-02 10:01:00",
          "2018-06-19 20:35:00",
          "2018-06-22 10:12:00",
          "2018-06-24 08:26:00",
          "2018-06-28 08:33:00",
          "2018-07-03 11:04:00",
          "2018-07-20 08:57:00",
          "2018-07-26 09:35:00",
          "2018-08-09 09:04:00",
          "2018-08-11 05:53:00",
          "2018-08-16 14:43:00",
          "2018-08-18 19:49:00",
          "2018-08-20 09:48:00",
          "2018-08-20 09:51:00",
          "2018-08-29 19:08:00",
          "2018-08-30 12:44:00",
          "2018-09-03 17:27:00",
          "2018-09-10 09:26:00",
          "2018-09-16 10:31:00",
          "2018-09-16 17:55:00",
          "2018-09-23 10:26:00",
          "2018-10-01 21:04:00",
          "2018-10-04 13:10:00",
          "2018-10-12 12:31:00",
          "2018-10-26 15:32:00",
          "2018-11-01 20:44:00",
          "2018-11-04 21:30:00",
          "2018-11-07 10:14:00",
          "2018-11-07 10:17:00",
          "2018-11-12 09:00:00",
          "2018-11-15 08:35:00",
          "2018-11-17 21:54:00",
          "2018-11-18 19:57:00",
          "2018-11-26 13:25:00",
          "2018-11-28 10:23:00",
          "2018-12-01 11:50:00",
          "2018-12-07 16:16:00",
          "2018-12-08 14:41:00",
          "2018-12-15 12:39:00",
          "2018-12-17 20:04:00",
          "2018-12-29 11:36:00",
          "2018-12-31 17:53:00"
         ],
         "xaxis": "x",
         "y": [
          861,
          112,
          45,
          43,
          392,
          892,
          549,
          18,
          1510,
          208,
          288,
          329,
          174,
          737,
          902,
          2226,
          74,
          939,
          1076,
          128,
          188,
          1271,
          1179,
          510,
          200,
          548,
          549,
          607,
          951,
          266,
          227,
          1629,
          65,
          2531,
          829,
          474,
          841,
          1184,
          1825,
          252,
          1177,
          378,
          461,
          434,
          114,
          129,
          421,
          655,
          104,
          226,
          771,
          131,
          116,
          206,
          530,
          576,
          121,
          32,
          649,
          541,
          143,
          357,
          640,
          119,
          579,
          113,
          111,
          100,
          174,
          588,
          295,
          173,
          493,
          387,
          798,
          115,
          235,
          158,
          97,
          83
         ],
         "yaxis": "y2"
        }
       ],
       "layout": {
        "legend": {
         "bgcolor": "#F5F6F9",
         "font": {
          "color": "#4D5663"
         }
        },
        "paper_bgcolor": "#F5F6F9",
        "plot_bgcolor": "#F5F6F9",
        "template": {
         "data": {
          "bar": [
           {
            "error_x": {
             "color": "#2a3f5f"
            },
            "error_y": {
             "color": "#2a3f5f"
            },
            "marker": {
             "line": {
              "color": "#E5ECF6",
              "width": 0.5
             },
             "pattern": {
              "fillmode": "overlay",
              "size": 10,
              "solidity": 0.2
             }
            },
            "type": "bar"
           }
          ],
          "barpolar": [
           {
            "marker": {
             "line": {
              "color": "#E5ECF6",
              "width": 0.5
             },
             "pattern": {
              "fillmode": "overlay",
              "size": 10,
              "solidity": 0.2
             }
            },
            "type": "barpolar"
           }
          ],
          "carpet": [
           {
            "aaxis": {
             "endlinecolor": "#2a3f5f",
             "gridcolor": "white",
             "linecolor": "white",
             "minorgridcolor": "white",
             "startlinecolor": "#2a3f5f"
            },
            "baxis": {
             "endlinecolor": "#2a3f5f",
             "gridcolor": "white",
             "linecolor": "white",
             "minorgridcolor": "white",
             "startlinecolor": "#2a3f5f"
            },
            "type": "carpet"
           }
          ],
          "choropleth": [
           {
            "colorbar": {
             "outlinewidth": 0,
             "ticks": ""
            },
            "type": "choropleth"
           }
          ],
          "contour": [
           {
            "colorbar": {
             "outlinewidth": 0,
             "ticks": ""
            },
            "colorscale": [
             [
              0,
              "#0d0887"
             ],
             [
              0.1111111111111111,
              "#46039f"
             ],
             [
              0.2222222222222222,
              "#7201a8"
             ],
             [
              0.3333333333333333,
              "#9c179e"
             ],
             [
              0.4444444444444444,
              "#bd3786"
             ],
             [
              0.5555555555555556,
              "#d8576b"
             ],
             [
              0.6666666666666666,
              "#ed7953"
             ],
             [
              0.7777777777777778,
              "#fb9f3a"
             ],
             [
              0.8888888888888888,
              "#fdca26"
             ],
             [
              1,
              "#f0f921"
             ]
            ],
            "type": "contour"
           }
          ],
          "contourcarpet": [
           {
            "colorbar": {
             "outlinewidth": 0,
             "ticks": ""
            },
            "type": "contourcarpet"
           }
          ],
          "heatmap": [
           {
            "colorbar": {
             "outlinewidth": 0,
             "ticks": ""
            },
            "colorscale": [
             [
              0,
              "#0d0887"
             ],
             [
              0.1111111111111111,
              "#46039f"
             ],
             [
              0.2222222222222222,
              "#7201a8"
             ],
             [
              0.3333333333333333,
              "#9c179e"
             ],
             [
              0.4444444444444444,
              "#bd3786"
             ],
             [
              0.5555555555555556,
              "#d8576b"
             ],
             [
              0.6666666666666666,
              "#ed7953"
             ],
             [
              0.7777777777777778,
              "#fb9f3a"
             ],
             [
              0.8888888888888888,
              "#fdca26"
             ],
             [
              1,
              "#f0f921"
             ]
            ],
            "type": "heatmap"
           }
          ],
          "heatmapgl": [
           {
            "colorbar": {
             "outlinewidth": 0,
             "ticks": ""
            },
            "colorscale": [
             [
              0,
              "#0d0887"
             ],
             [
              0.1111111111111111,
              "#46039f"
             ],
             [
              0.2222222222222222,
              "#7201a8"
             ],
             [
              0.3333333333333333,
              "#9c179e"
             ],
             [
              0.4444444444444444,
              "#bd3786"
             ],
             [
              0.5555555555555556,
              "#d8576b"
             ],
             [
              0.6666666666666666,
              "#ed7953"
             ],
             [
              0.7777777777777778,
              "#fb9f3a"
             ],
             [
              0.8888888888888888,
              "#fdca26"
             ],
             [
              1,
              "#f0f921"
             ]
            ],
            "type": "heatmapgl"
           }
          ],
          "histogram": [
           {
            "marker": {
             "pattern": {
              "fillmode": "overlay",
              "size": 10,
              "solidity": 0.2
             }
            },
            "type": "histogram"
           }
          ],
          "histogram2d": [
           {
            "colorbar": {
             "outlinewidth": 0,
             "ticks": ""
            },
            "colorscale": [
             [
              0,
              "#0d0887"
             ],
             [
              0.1111111111111111,
              "#46039f"
             ],
             [
              0.2222222222222222,
              "#7201a8"
             ],
             [
              0.3333333333333333,
              "#9c179e"
             ],
             [
              0.4444444444444444,
              "#bd3786"
             ],
             [
              0.5555555555555556,
              "#d8576b"
             ],
             [
              0.6666666666666666,
              "#ed7953"
             ],
             [
              0.7777777777777778,
              "#fb9f3a"
             ],
             [
              0.8888888888888888,
              "#fdca26"
             ],
             [
              1,
              "#f0f921"
             ]
            ],
            "type": "histogram2d"
           }
          ],
          "histogram2dcontour": [
           {
            "colorbar": {
             "outlinewidth": 0,
             "ticks": ""
            },
            "colorscale": [
             [
              0,
              "#0d0887"
             ],
             [
              0.1111111111111111,
              "#46039f"
             ],
             [
              0.2222222222222222,
              "#7201a8"
             ],
             [
              0.3333333333333333,
              "#9c179e"
             ],
             [
              0.4444444444444444,
              "#bd3786"
             ],
             [
              0.5555555555555556,
              "#d8576b"
             ],
             [
              0.6666666666666666,
              "#ed7953"
             ],
             [
              0.7777777777777778,
              "#fb9f3a"
             ],
             [
              0.8888888888888888,
              "#fdca26"
             ],
             [
              1,
              "#f0f921"
             ]
            ],
            "type": "histogram2dcontour"
           }
          ],
          "mesh3d": [
           {
            "colorbar": {
             "outlinewidth": 0,
             "ticks": ""
            },
            "type": "mesh3d"
           }
          ],
          "parcoords": [
           {
            "line": {
             "colorbar": {
              "outlinewidth": 0,
              "ticks": ""
             }
            },
            "type": "parcoords"
           }
          ],
          "pie": [
           {
            "automargin": true,
            "type": "pie"
           }
          ],
          "scatter": [
           {
            "marker": {
             "colorbar": {
              "outlinewidth": 0,
              "ticks": ""
             }
            },
            "type": "scatter"
           }
          ],
          "scatter3d": [
           {
            "line": {
             "colorbar": {
              "outlinewidth": 0,
              "ticks": ""
             }
            },
            "marker": {
             "colorbar": {
              "outlinewidth": 0,
              "ticks": ""
             }
            },
            "type": "scatter3d"
           }
          ],
          "scattercarpet": [
           {
            "marker": {
             "colorbar": {
              "outlinewidth": 0,
              "ticks": ""
             }
            },
            "type": "scattercarpet"
           }
          ],
          "scattergeo": [
           {
            "marker": {
             "colorbar": {
              "outlinewidth": 0,
              "ticks": ""
             }
            },
            "type": "scattergeo"
           }
          ],
          "scattergl": [
           {
            "marker": {
             "colorbar": {
              "outlinewidth": 0,
              "ticks": ""
             }
            },
            "type": "scattergl"
           }
          ],
          "scattermapbox": [
           {
            "marker": {
             "colorbar": {
              "outlinewidth": 0,
              "ticks": ""
             }
            },
            "type": "scattermapbox"
           }
          ],
          "scatterpolar": [
           {
            "marker": {
             "colorbar": {
              "outlinewidth": 0,
              "ticks": ""
             }
            },
            "type": "scatterpolar"
           }
          ],
          "scatterpolargl": [
           {
            "marker": {
             "colorbar": {
              "outlinewidth": 0,
              "ticks": ""
             }
            },
            "type": "scatterpolargl"
           }
          ],
          "scatterternary": [
           {
            "marker": {
             "colorbar": {
              "outlinewidth": 0,
              "ticks": ""
             }
            },
            "type": "scatterternary"
           }
          ],
          "surface": [
           {
            "colorbar": {
             "outlinewidth": 0,
             "ticks": ""
            },
            "colorscale": [
             [
              0,
              "#0d0887"
             ],
             [
              0.1111111111111111,
              "#46039f"
             ],
             [
              0.2222222222222222,
              "#7201a8"
             ],
             [
              0.3333333333333333,
              "#9c179e"
             ],
             [
              0.4444444444444444,
              "#bd3786"
             ],
             [
              0.5555555555555556,
              "#d8576b"
             ],
             [
              0.6666666666666666,
              "#ed7953"
             ],
             [
              0.7777777777777778,
              "#fb9f3a"
             ],
             [
              0.8888888888888888,
              "#fdca26"
             ],
             [
              1,
              "#f0f921"
             ]
            ],
            "type": "surface"
           }
          ],
          "table": [
           {
            "cells": {
             "fill": {
              "color": "#EBF0F8"
             },
             "line": {
              "color": "white"
             }
            },
            "header": {
             "fill": {
              "color": "#C8D4E3"
             },
             "line": {
              "color": "white"
             }
            },
            "type": "table"
           }
          ]
         },
         "layout": {
          "annotationdefaults": {
           "arrowcolor": "#2a3f5f",
           "arrowhead": 0,
           "arrowwidth": 1
          },
          "autotypenumbers": "strict",
          "coloraxis": {
           "colorbar": {
            "outlinewidth": 0,
            "ticks": ""
           }
          },
          "colorscale": {
           "diverging": [
            [
             0,
             "#8e0152"
            ],
            [
             0.1,
             "#c51b7d"
            ],
            [
             0.2,
             "#de77ae"
            ],
            [
             0.3,
             "#f1b6da"
            ],
            [
             0.4,
             "#fde0ef"
            ],
            [
             0.5,
             "#f7f7f7"
            ],
            [
             0.6,
             "#e6f5d0"
            ],
            [
             0.7,
             "#b8e186"
            ],
            [
             0.8,
             "#7fbc41"
            ],
            [
             0.9,
             "#4d9221"
            ],
            [
             1,
             "#276419"
            ]
           ],
           "sequential": [
            [
             0,
             "#0d0887"
            ],
            [
             0.1111111111111111,
             "#46039f"
            ],
            [
             0.2222222222222222,
             "#7201a8"
            ],
            [
             0.3333333333333333,
             "#9c179e"
            ],
            [
             0.4444444444444444,
             "#bd3786"
            ],
            [
             0.5555555555555556,
             "#d8576b"
            ],
            [
             0.6666666666666666,
             "#ed7953"
            ],
            [
             0.7777777777777778,
             "#fb9f3a"
            ],
            [
             0.8888888888888888,
             "#fdca26"
            ],
            [
             1,
             "#f0f921"
            ]
           ],
           "sequentialminus": [
            [
             0,
             "#0d0887"
            ],
            [
             0.1111111111111111,
             "#46039f"
            ],
            [
             0.2222222222222222,
             "#7201a8"
            ],
            [
             0.3333333333333333,
             "#9c179e"
            ],
            [
             0.4444444444444444,
             "#bd3786"
            ],
            [
             0.5555555555555556,
             "#d8576b"
            ],
            [
             0.6666666666666666,
             "#ed7953"
            ],
            [
             0.7777777777777778,
             "#fb9f3a"
            ],
            [
             0.8888888888888888,
             "#fdca26"
            ],
            [
             1,
             "#f0f921"
            ]
           ]
          },
          "colorway": [
           "#636efa",
           "#EF553B",
           "#00cc96",
           "#ab63fa",
           "#FFA15A",
           "#19d3f3",
           "#FF6692",
           "#B6E880",
           "#FF97FF",
           "#FECB52"
          ],
          "font": {
           "color": "#2a3f5f"
          },
          "geo": {
           "bgcolor": "white",
           "lakecolor": "white",
           "landcolor": "#E5ECF6",
           "showlakes": true,
           "showland": true,
           "subunitcolor": "white"
          },
          "hoverlabel": {
           "align": "left"
          },
          "hovermode": "closest",
          "mapbox": {
           "style": "light"
          },
          "paper_bgcolor": "white",
          "plot_bgcolor": "#E5ECF6",
          "polar": {
           "angularaxis": {
            "gridcolor": "white",
            "linecolor": "white",
            "ticks": ""
           },
           "bgcolor": "#E5ECF6",
           "radialaxis": {
            "gridcolor": "white",
            "linecolor": "white",
            "ticks": ""
           }
          },
          "scene": {
           "xaxis": {
            "backgroundcolor": "#E5ECF6",
            "gridcolor": "white",
            "gridwidth": 2,
            "linecolor": "white",
            "showbackground": true,
            "ticks": "",
            "zerolinecolor": "white"
           },
           "yaxis": {
            "backgroundcolor": "#E5ECF6",
            "gridcolor": "white",
            "gridwidth": 2,
            "linecolor": "white",
            "showbackground": true,
            "ticks": "",
            "zerolinecolor": "white"
           },
           "zaxis": {
            "backgroundcolor": "#E5ECF6",
            "gridcolor": "white",
            "gridwidth": 2,
            "linecolor": "white",
            "showbackground": true,
            "ticks": "",
            "zerolinecolor": "white"
           }
          },
          "shapedefaults": {
           "line": {
            "color": "#2a3f5f"
           }
          },
          "ternary": {
           "aaxis": {
            "gridcolor": "white",
            "linecolor": "white",
            "ticks": ""
           },
           "baxis": {
            "gridcolor": "white",
            "linecolor": "white",
            "ticks": ""
           },
           "bgcolor": "#E5ECF6",
           "caxis": {
            "gridcolor": "white",
            "linecolor": "white",
            "ticks": ""
           }
          },
          "title": {
           "x": 0.05
          },
          "xaxis": {
           "automargin": true,
           "gridcolor": "white",
           "linecolor": "white",
           "ticks": "",
           "title": {
            "standoff": 15
           },
           "zerolinecolor": "white",
           "zerolinewidth": 2
          },
          "yaxis": {
           "automargin": true,
           "gridcolor": "white",
           "linecolor": "white",
           "ticks": "",
           "title": {
            "standoff": 15
           },
           "zerolinecolor": "white",
           "zerolinewidth": 2
          }
         }
        },
        "title": {
         "font": {
          "color": "#4D5663"
         },
         "text": "Fans and Claps over Time"
        },
        "xaxis": {
         "gridcolor": "#E1E5ED",
         "showgrid": true,
         "tickfont": {
          "color": "#4D5663"
         },
         "title": {
          "font": {
           "color": "#4D5663"
          },
          "text": "Date"
         },
         "zerolinecolor": "#E1E5ED"
        },
        "yaxis": {
         "gridcolor": "#E1E5ED",
         "showgrid": true,
         "tickfont": {
          "color": "#4D5663"
         },
         "title": {
          "font": {
           "color": "#4D5663"
          },
          "text": "Claps"
         },
         "zerolinecolor": "#E1E5ED"
        },
        "yaxis2": {
         "anchor": "x",
         "gridcolor": "#E1E5ED",
         "overlaying": "y",
         "showgrid": true,
         "side": "right",
         "tickfont": {
          "color": "#4D5663"
         },
         "title": {
          "text": "Fans"
         },
         "zerolinecolor": "#E1E5ED"
        }
       }
      },
      "text/html": [
       "<div>                            <div id=\"b3fdded1-050d-437a-9ff5-d64be392f77f\" class=\"plotly-graph-div\" style=\"height:525px; width:100%;\"></div>            <script type=\"text/javascript\">                require([\"plotly\"], function(Plotly) {                    window.PLOTLYENV=window.PLOTLYENV || {};\n",
       "                    window.PLOTLYENV.BASE_URL='https://plot.ly';                                    if (document.getElementById(\"b3fdded1-050d-437a-9ff5-d64be392f77f\")) {                    Plotly.newPlot(                        \"b3fdded1-050d-437a-9ff5-d64be392f77f\",                        [{\"line\":{\"color\":\"rgba(255, 153, 51, 1.0)\",\"dash\":\"solid\",\"shape\":\"linear\",\"width\":1.3},\"marker\":{\"size\":12,\"symbol\":\"circle\"},\"mode\":\"lines+markers\",\"name\":\"claps\",\"text\":[\"Random Forest in\\u00a0Python\",\"Improving the Random Forest in Python Part\\u00a01\",\"Data Science: A Personal Application\",\"A Theory of Prediction\",\"Hyperparameter Tuning the Random Forest in\\u00a0Python\",\"Time Series Analysis in Python: An Introduction\",\"Stock Analysis in\\u00a0Python\",\"A Review of the Coursera Machine Learning Specialization\",\"Stock Prediction in\\u00a0Python\",\"Correlation vs. Causation: An\\u00a0Example\",\"Learn By\\u00a0Sharing\",\"Overfitting vs. Underfitting: A Conceptual Explanation\",\"Overfitting vs. Underfitting: A Complete\\u00a0Example\",\"How to Master New\\u00a0Skills\",\"Statistical Significance Explained\",\"Python is the Perfect Tool for any\\u00a0Problem\",\"The Misleading Effect of Noise: The Multiple Comparisons Problem\",\"Markov Chain Monte Carlo in\\u00a0Python\",\"Bayes\\u2019 Rule\\u00a0Applied\",\"Data Visualization Hackathon Style\",\"Unintended Consequences and Goodhart\\u2019s Law\",\"Beyond Accuracy: Precision and\\u00a0Recall\",\"Controlling the Web with\\u00a0Python\",\"Data Visualization with Bokeh in Python, Part I: Getting\\u00a0Started\",\"Data Visualization with Bokeh in Python, Part II: Interactions\",\"Histograms and Density Plots in\\u00a0Python\",\"Data Visualization with Bokeh in Python, Part III: Making a Complete Dashboard\",\"Visualizing Data with Pairs Plots in\\u00a0Python\",\"Introduction to Bayesian Linear Regression\",\"Bayesian Linear Regression in Python: Using Machine Learning to Predict Student Grades Part\\u00a01\",\"Bayesian Linear Regression in Python: Using Machine Learning to Predict Student Grades Part\\u00a02\",\"Web Scraping, Regular Expressions, and Data Visualization: Doing it all in\\u00a0Python\",\"If your files are saved only on your laptop they might as well not\\u00a0exist!\",\"A Complete Machine Learning Project Walk-Through in Python: Part\\u00a0One\",\"A Complete Machine Learning Walk-Through in Python: Part\\u00a0Two\",\"A Complete Machine Learning Walk-Through in Python: Part\\u00a0Three\",\"Automated Machine Learning on the Cloud in\\u00a0Python\",\"Machine Learning Kaggle Competition Part One: Getting\\u00a0Started\",\"Automated Feature Engineering in\\u00a0Python\",\"Machine Learning Kaggle Competition Part Two: Improving\",\"A Feature Selection Tool for Machine Learning in\\u00a0Python\",\"A Conceptual Explanation of Bayesian Hyperparameter Optimization for Machine\\u00a0Learning\",\"An Introductory Example of Bayesian Optimization in Python with\\u00a0Hyperopt\",\"Automated Machine Learning Hyperparameter Tuning in\\u00a0Python\",\"Machine Learning Kaggle Competition: Part Three Optimization\",\"How to get the right data? Trying asking for\\u00a0it.\",\"Why Automated Feature Engineering Will Change the Way You Do Machine\\u00a0Learning\",\"The most important part of a data science project is writing a blog\\u00a0post\",\"Parallelizing Feature Engineering with\\u00a0Dask\",\"How to Visualize a Decision Tree from a Random Forest in Python using Scikit-Learn\",\"A \\u201cData Science for Good\\u201c Machine Learning Project Walk-Through in Python: Part\\u00a0One\",\"A \\u201cData Science for Good\\u201d Machine Learning Project Walk-Through in Python: Part\\u00a0Two\",\"How to Put Fully Interactive, Runnable Code in a Medium\\u00a0Post\",\"An Implementation and Explanation of the Random Forest in\\u00a0Python\",\"Practical Advice for Data Science\\u00a0Writing\",\"Another Machine Learning Walk-Through and a Challenge\",\"Five Minutes to Your Own\\u00a0Website\",\"Converting Medium Posts to Markdown for Your\\u00a0Blog\",\"Wikipedia Data Science: Working with the World\\u2019s Largest Encyclopedia\",\"Neural Network Embeddings Explained\",\"Building a Recommendation System Using Neural Network Embeddings\",\"Simpson\\u2019s Paradox: How to Prove Opposite Arguments with the Same\\u00a0Data\",\"My Weaknesses as a Data Scientist\",\"Overcome Your Biases with\\u00a0Data\",\"Recurrent Neural Networks by Example in\\u00a0Python\",\"Prediction Engineering: How to Set Up Your Machine Learning\\u00a0Problem\",\"How to Create Value with Machine\\u00a0Learning\",\"Feature Engineering: What Powers Machine\\u00a0Learning\",\"Modeling: Teaching a Machine Learning Algorithm to Deliver Business\\u00a0Value\",\"Deploying a Keras Deep Learning Model as a Web Application in\\u00a0Python\",\"Deploying a Python Web App on\\u00a0AWS\",\"Transfer Learning with Convolutional Neural Networks in\\u00a0PyTorch\",\"Estimating Probabilities with Bayesian Modeling in\\u00a0Python\",\"Python and Slack: A Natural\\u00a0Match\",\"Jupyter Notebook Extensions\",\"How to Write a Jupyter Notebook Extension\",\"Introduction to Interactive Time Series Visualizations with Plotly in\\u00a0Python\",\"Docker for Data Science Without the\\u00a0Hassle\",\"The Copernican Principle and How to Use Statistics to Figure Out How Long Anything Will\\u00a0Last\",\"Data Science with Medium Story Stats in\\u00a0Python\"],\"type\":\"scatter\",\"x\":[\"2017-12-27 11:20:00\",\"2018-01-06 20:15:00\",\"2018-01-07 20:37:00\",\"2018-01-08 16:58:00\",\"2018-01-09 21:49:00\",\"2018-01-12 20:48:00\",\"2018-01-17 15:24:00\",\"2018-01-17 19:42:00\",\"2018-01-19 15:30:00\",\"2018-01-19 20:16:00\",\"2018-01-24 18:27:00\",\"2018-01-27 20:17:00\",\"2018-01-28 08:40:00\",\"2018-01-31 11:41:00\",\"2018-02-02 09:26:00\",\"2018-02-04 09:12:00\",\"2018-02-07 09:09:00\",\"2018-02-09 22:29:00\",\"2018-02-14 11:27:00\",\"2018-02-20 12:49:00\",\"2018-02-24 09:33:00\",\"2018-03-03 11:10:00\",\"2018-03-10 16:16:00\",\"2018-03-17 10:29:00\",\"2018-03-20 09:47:00\",\"2018-03-23 12:44:00\",\"2018-03-31 08:36:00\",\"2018-04-06 14:12:00\",\"2018-04-13 20:38:00\",\"2018-04-20 13:31:00\",\"2018-04-20 13:34:00\",\"2018-04-28 15:27:00\",\"2018-04-30 11:04:00\",\"2018-05-16 12:33:00\",\"2018-05-17 09:34:00\",\"2018-05-18 09:48:00\",\"2018-05-21 14:16:00\",\"2018-05-28 11:39:00\",\"2018-06-02 10:01:00\",\"2018-06-19 20:35:00\",\"2018-06-22 10:12:00\",\"2018-06-24 08:26:00\",\"2018-06-28 08:33:00\",\"2018-07-03 11:04:00\",\"2018-07-20 08:57:00\",\"2018-07-26 09:35:00\",\"2018-08-09 09:04:00\",\"2018-08-11 05:53:00\",\"2018-08-16 14:43:00\",\"2018-08-18 19:49:00\",\"2018-08-20 09:48:00\",\"2018-08-20 09:51:00\",\"2018-08-29 19:08:00\",\"2018-08-30 12:44:00\",\"2018-09-03 17:27:00\",\"2018-09-10 09:26:00\",\"2018-09-16 10:31:00\",\"2018-09-16 17:55:00\",\"2018-09-23 10:26:00\",\"2018-10-01 21:04:00\",\"2018-10-04 13:10:00\",\"2018-10-12 12:31:00\",\"2018-10-26 15:32:00\",\"2018-11-01 20:44:00\",\"2018-11-04 21:30:00\",\"2018-11-07 10:14:00\",\"2018-11-07 10:17:00\",\"2018-11-12 09:00:00\",\"2018-11-15 08:35:00\",\"2018-11-17 21:54:00\",\"2018-11-18 19:57:00\",\"2018-11-26 13:25:00\",\"2018-11-28 10:23:00\",\"2018-12-01 11:50:00\",\"2018-12-07 16:16:00\",\"2018-12-08 14:41:00\",\"2018-12-15 12:39:00\",\"2018-12-17 20:04:00\",\"2018-12-29 11:36:00\",\"2018-12-31 17:53:00\"],\"y\":[4800,857,186,119,2000,4100,2700,77,7000,1200,1600,1600,1000,4300,4980,12900,223,4900,5900,548,895,6700,6500,2700,1100,2900,2600,2800,5300,1300,1000,7900,364,13500,4100,2200,3900,6300,8200,1300,5400,2300,2700,2100,707,650,2700,4100,822,830,3700,653,657,1100,2800,3100,792,222,3300,2500,976,2000,3200,651,2300,809,745,587,818,2200,1300,630,2600,2000,3600,440,893,529,443,412]},{\"line\":{\"color\":\"rgba(55, 128, 191, 1.0)\",\"dash\":\"solid\",\"shape\":\"linear\",\"width\":1.3},\"marker\":{\"size\":12,\"symbol\":\"circle\"},\"mode\":\"lines+markers\",\"name\":\"fans\",\"text\":[\"Random Forest in\\u00a0Python\",\"Improving the Random Forest in Python Part\\u00a01\",\"Data Science: A Personal Application\",\"A Theory of Prediction\",\"Hyperparameter Tuning the Random Forest in\\u00a0Python\",\"Time Series Analysis in Python: An Introduction\",\"Stock Analysis in\\u00a0Python\",\"A Review of the Coursera Machine Learning Specialization\",\"Stock Prediction in\\u00a0Python\",\"Correlation vs. Causation: An\\u00a0Example\",\"Learn By\\u00a0Sharing\",\"Overfitting vs. Underfitting: A Conceptual Explanation\",\"Overfitting vs. Underfitting: A Complete\\u00a0Example\",\"How to Master New\\u00a0Skills\",\"Statistical Significance Explained\",\"Python is the Perfect Tool for any\\u00a0Problem\",\"The Misleading Effect of Noise: The Multiple Comparisons Problem\",\"Markov Chain Monte Carlo in\\u00a0Python\",\"Bayes\\u2019 Rule\\u00a0Applied\",\"Data Visualization Hackathon Style\",\"Unintended Consequences and Goodhart\\u2019s Law\",\"Beyond Accuracy: Precision and\\u00a0Recall\",\"Controlling the Web with\\u00a0Python\",\"Data Visualization with Bokeh in Python, Part I: Getting\\u00a0Started\",\"Data Visualization with Bokeh in Python, Part II: Interactions\",\"Histograms and Density Plots in\\u00a0Python\",\"Data Visualization with Bokeh in Python, Part III: Making a Complete Dashboard\",\"Visualizing Data with Pairs Plots in\\u00a0Python\",\"Introduction to Bayesian Linear Regression\",\"Bayesian Linear Regression in Python: Using Machine Learning to Predict Student Grades Part\\u00a01\",\"Bayesian Linear Regression in Python: Using Machine Learning to Predict Student Grades Part\\u00a02\",\"Web Scraping, Regular Expressions, and Data Visualization: Doing it all in\\u00a0Python\",\"If your files are saved only on your laptop they might as well not\\u00a0exist!\",\"A Complete Machine Learning Project Walk-Through in Python: Part\\u00a0One\",\"A Complete Machine Learning Walk-Through in Python: Part\\u00a0Two\",\"A Complete Machine Learning Walk-Through in Python: Part\\u00a0Three\",\"Automated Machine Learning on the Cloud in\\u00a0Python\",\"Machine Learning Kaggle Competition Part One: Getting\\u00a0Started\",\"Automated Feature Engineering in\\u00a0Python\",\"Machine Learning Kaggle Competition Part Two: Improving\",\"A Feature Selection Tool for Machine Learning in\\u00a0Python\",\"A Conceptual Explanation of Bayesian Hyperparameter Optimization for Machine\\u00a0Learning\",\"An Introductory Example of Bayesian Optimization in Python with\\u00a0Hyperopt\",\"Automated Machine Learning Hyperparameter Tuning in\\u00a0Python\",\"Machine Learning Kaggle Competition: Part Three Optimization\",\"How to get the right data? Trying asking for\\u00a0it.\",\"Why Automated Feature Engineering Will Change the Way You Do Machine\\u00a0Learning\",\"The most important part of a data science project is writing a blog\\u00a0post\",\"Parallelizing Feature Engineering with\\u00a0Dask\",\"How to Visualize a Decision Tree from a Random Forest in Python using Scikit-Learn\",\"A \\u201cData Science for Good\\u201c Machine Learning Project Walk-Through in Python: Part\\u00a0One\",\"A \\u201cData Science for Good\\u201d Machine Learning Project Walk-Through in Python: Part\\u00a0Two\",\"How to Put Fully Interactive, Runnable Code in a Medium\\u00a0Post\",\"An Implementation and Explanation of the Random Forest in\\u00a0Python\",\"Practical Advice for Data Science\\u00a0Writing\",\"Another Machine Learning Walk-Through and a Challenge\",\"Five Minutes to Your Own\\u00a0Website\",\"Converting Medium Posts to Markdown for Your\\u00a0Blog\",\"Wikipedia Data Science: Working with the World\\u2019s Largest Encyclopedia\",\"Neural Network Embeddings Explained\",\"Building a Recommendation System Using Neural Network Embeddings\",\"Simpson\\u2019s Paradox: How to Prove Opposite Arguments with the Same\\u00a0Data\",\"My Weaknesses as a Data Scientist\",\"Overcome Your Biases with\\u00a0Data\",\"Recurrent Neural Networks by Example in\\u00a0Python\",\"Prediction Engineering: How to Set Up Your Machine Learning\\u00a0Problem\",\"How to Create Value with Machine\\u00a0Learning\",\"Feature Engineering: What Powers Machine\\u00a0Learning\",\"Modeling: Teaching a Machine Learning Algorithm to Deliver Business\\u00a0Value\",\"Deploying a Keras Deep Learning Model as a Web Application in\\u00a0Python\",\"Deploying a Python Web App on\\u00a0AWS\",\"Transfer Learning with Convolutional Neural Networks in\\u00a0PyTorch\",\"Estimating Probabilities with Bayesian Modeling in\\u00a0Python\",\"Python and Slack: A Natural\\u00a0Match\",\"Jupyter Notebook Extensions\",\"How to Write a Jupyter Notebook Extension\",\"Introduction to Interactive Time Series Visualizations with Plotly in\\u00a0Python\",\"Docker for Data Science Without the\\u00a0Hassle\",\"The Copernican Principle and How to Use Statistics to Figure Out How Long Anything Will\\u00a0Last\",\"Data Science with Medium Story Stats in\\u00a0Python\"],\"type\":\"scatter\",\"x\":[\"2017-12-27 11:20:00\",\"2018-01-06 20:15:00\",\"2018-01-07 20:37:00\",\"2018-01-08 16:58:00\",\"2018-01-09 21:49:00\",\"2018-01-12 20:48:00\",\"2018-01-17 15:24:00\",\"2018-01-17 19:42:00\",\"2018-01-19 15:30:00\",\"2018-01-19 20:16:00\",\"2018-01-24 18:27:00\",\"2018-01-27 20:17:00\",\"2018-01-28 08:40:00\",\"2018-01-31 11:41:00\",\"2018-02-02 09:26:00\",\"2018-02-04 09:12:00\",\"2018-02-07 09:09:00\",\"2018-02-09 22:29:00\",\"2018-02-14 11:27:00\",\"2018-02-20 12:49:00\",\"2018-02-24 09:33:00\",\"2018-03-03 11:10:00\",\"2018-03-10 16:16:00\",\"2018-03-17 10:29:00\",\"2018-03-20 09:47:00\",\"2018-03-23 12:44:00\",\"2018-03-31 08:36:00\",\"2018-04-06 14:12:00\",\"2018-04-13 20:38:00\",\"2018-04-20 13:31:00\",\"2018-04-20 13:34:00\",\"2018-04-28 15:27:00\",\"2018-04-30 11:04:00\",\"2018-05-16 12:33:00\",\"2018-05-17 09:34:00\",\"2018-05-18 09:48:00\",\"2018-05-21 14:16:00\",\"2018-05-28 11:39:00\",\"2018-06-02 10:01:00\",\"2018-06-19 20:35:00\",\"2018-06-22 10:12:00\",\"2018-06-24 08:26:00\",\"2018-06-28 08:33:00\",\"2018-07-03 11:04:00\",\"2018-07-20 08:57:00\",\"2018-07-26 09:35:00\",\"2018-08-09 09:04:00\",\"2018-08-11 05:53:00\",\"2018-08-16 14:43:00\",\"2018-08-18 19:49:00\",\"2018-08-20 09:48:00\",\"2018-08-20 09:51:00\",\"2018-08-29 19:08:00\",\"2018-08-30 12:44:00\",\"2018-09-03 17:27:00\",\"2018-09-10 09:26:00\",\"2018-09-16 10:31:00\",\"2018-09-16 17:55:00\",\"2018-09-23 10:26:00\",\"2018-10-01 21:04:00\",\"2018-10-04 13:10:00\",\"2018-10-12 12:31:00\",\"2018-10-26 15:32:00\",\"2018-11-01 20:44:00\",\"2018-11-04 21:30:00\",\"2018-11-07 10:14:00\",\"2018-11-07 10:17:00\",\"2018-11-12 09:00:00\",\"2018-11-15 08:35:00\",\"2018-11-17 21:54:00\",\"2018-11-18 19:57:00\",\"2018-11-26 13:25:00\",\"2018-11-28 10:23:00\",\"2018-12-01 11:50:00\",\"2018-12-07 16:16:00\",\"2018-12-08 14:41:00\",\"2018-12-15 12:39:00\",\"2018-12-17 20:04:00\",\"2018-12-29 11:36:00\",\"2018-12-31 17:53:00\"],\"xaxis\":\"x\",\"y\":[861,112,45,43,392,892,549,18,1510,208,288,329,174,737,902,2226,74,939,1076,128,188,1271,1179,510,200,548,549,607,951,266,227,1629,65,2531,829,474,841,1184,1825,252,1177,378,461,434,114,129,421,655,104,226,771,131,116,206,530,576,121,32,649,541,143,357,640,119,579,113,111,100,174,588,295,173,493,387,798,115,235,158,97,83],\"yaxis\":\"y2\"}],                        {\"legend\":{\"bgcolor\":\"#F5F6F9\",\"font\":{\"color\":\"#4D5663\"}},\"paper_bgcolor\":\"#F5F6F9\",\"plot_bgcolor\":\"#F5F6F9\",\"template\":{\"data\":{\"bar\":[{\"error_x\":{\"color\":\"#2a3f5f\"},\"error_y\":{\"color\":\"#2a3f5f\"},\"marker\":{\"line\":{\"color\":\"#E5ECF6\",\"width\":0.5},\"pattern\":{\"fillmode\":\"overlay\",\"size\":10,\"solidity\":0.2}},\"type\":\"bar\"}],\"barpolar\":[{\"marker\":{\"line\":{\"color\":\"#E5ECF6\",\"width\":0.5},\"pattern\":{\"fillmode\":\"overlay\",\"size\":10,\"solidity\":0.2}},\"type\":\"barpolar\"}],\"carpet\":[{\"aaxis\":{\"endlinecolor\":\"#2a3f5f\",\"gridcolor\":\"white\",\"linecolor\":\"white\",\"minorgridcolor\":\"white\",\"startlinecolor\":\"#2a3f5f\"},\"baxis\":{\"endlinecolor\":\"#2a3f5f\",\"gridcolor\":\"white\",\"linecolor\":\"white\",\"minorgridcolor\":\"white\",\"startlinecolor\":\"#2a3f5f\"},\"type\":\"carpet\"}],\"choropleth\":[{\"colorbar\":{\"outlinewidth\":0,\"ticks\":\"\"},\"type\":\"choropleth\"}],\"contour\":[{\"colorbar\":{\"outlinewidth\":0,\"ticks\":\"\"},\"colorscale\":[[0.0,\"#0d0887\"],[0.1111111111111111,\"#46039f\"],[0.2222222222222222,\"#7201a8\"],[0.3333333333333333,\"#9c179e\"],[0.4444444444444444,\"#bd3786\"],[0.5555555555555556,\"#d8576b\"],[0.6666666666666666,\"#ed7953\"],[0.7777777777777778,\"#fb9f3a\"],[0.8888888888888888,\"#fdca26\"],[1.0,\"#f0f921\"]],\"type\":\"contour\"}],\"contourcarpet\":[{\"colorbar\":{\"outlinewidth\":0,\"ticks\":\"\"},\"type\":\"contourcarpet\"}],\"heatmap\":[{\"colorbar\":{\"outlinewidth\":0,\"ticks\":\"\"},\"colorscale\":[[0.0,\"#0d0887\"],[0.1111111111111111,\"#46039f\"],[0.2222222222222222,\"#7201a8\"],[0.3333333333333333,\"#9c179e\"],[0.4444444444444444,\"#bd3786\"],[0.5555555555555556,\"#d8576b\"],[0.6666666666666666,\"#ed7953\"],[0.7777777777777778,\"#fb9f3a\"],[0.8888888888888888,\"#fdca26\"],[1.0,\"#f0f921\"]],\"type\":\"heatmap\"}],\"heatmapgl\":[{\"colorbar\":{\"outlinewidth\":0,\"ticks\":\"\"},\"colorscale\":[[0.0,\"#0d0887\"],[0.1111111111111111,\"#46039f\"],[0.2222222222222222,\"#7201a8\"],[0.3333333333333333,\"#9c179e\"],[0.4444444444444444,\"#bd3786\"],[0.5555555555555556,\"#d8576b\"],[0.6666666666666666,\"#ed7953\"],[0.7777777777777778,\"#fb9f3a\"],[0.8888888888888888,\"#fdca26\"],[1.0,\"#f0f921\"]],\"type\":\"heatmapgl\"}],\"histogram\":[{\"marker\":{\"pattern\":{\"fillmode\":\"overlay\",\"size\":10,\"solidity\":0.2}},\"type\":\"histogram\"}],\"histogram2d\":[{\"colorbar\":{\"outlinewidth\":0,\"ticks\":\"\"},\"colorscale\":[[0.0,\"#0d0887\"],[0.1111111111111111,\"#46039f\"],[0.2222222222222222,\"#7201a8\"],[0.3333333333333333,\"#9c179e\"],[0.4444444444444444,\"#bd3786\"],[0.5555555555555556,\"#d8576b\"],[0.6666666666666666,\"#ed7953\"],[0.7777777777777778,\"#fb9f3a\"],[0.8888888888888888,\"#fdca26\"],[1.0,\"#f0f921\"]],\"type\":\"histogram2d\"}],\"histogram2dcontour\":[{\"colorbar\":{\"outlinewidth\":0,\"ticks\":\"\"},\"colorscale\":[[0.0,\"#0d0887\"],[0.1111111111111111,\"#46039f\"],[0.2222222222222222,\"#7201a8\"],[0.3333333333333333,\"#9c179e\"],[0.4444444444444444,\"#bd3786\"],[0.5555555555555556,\"#d8576b\"],[0.6666666666666666,\"#ed7953\"],[0.7777777777777778,\"#fb9f3a\"],[0.8888888888888888,\"#fdca26\"],[1.0,\"#f0f921\"]],\"type\":\"histogram2dcontour\"}],\"mesh3d\":[{\"colorbar\":{\"outlinewidth\":0,\"ticks\":\"\"},\"type\":\"mesh3d\"}],\"parcoords\":[{\"line\":{\"colorbar\":{\"outlinewidth\":0,\"ticks\":\"\"}},\"type\":\"parcoords\"}],\"pie\":[{\"automargin\":true,\"type\":\"pie\"}],\"scatter\":[{\"marker\":{\"colorbar\":{\"outlinewidth\":0,\"ticks\":\"\"}},\"type\":\"scatter\"}],\"scatter3d\":[{\"line\":{\"colorbar\":{\"outlinewidth\":0,\"ticks\":\"\"}},\"marker\":{\"colorbar\":{\"outlinewidth\":0,\"ticks\":\"\"}},\"type\":\"scatter3d\"}],\"scattercarpet\":[{\"marker\":{\"colorbar\":{\"outlinewidth\":0,\"ticks\":\"\"}},\"type\":\"scattercarpet\"}],\"scattergeo\":[{\"marker\":{\"colorbar\":{\"outlinewidth\":0,\"ticks\":\"\"}},\"type\":\"scattergeo\"}],\"scattergl\":[{\"marker\":{\"colorbar\":{\"outlinewidth\":0,\"ticks\":\"\"}},\"type\":\"scattergl\"}],\"scattermapbox\":[{\"marker\":{\"colorbar\":{\"outlinewidth\":0,\"ticks\":\"\"}},\"type\":\"scattermapbox\"}],\"scatterpolar\":[{\"marker\":{\"colorbar\":{\"outlinewidth\":0,\"ticks\":\"\"}},\"type\":\"scatterpolar\"}],\"scatterpolargl\":[{\"marker\":{\"colorbar\":{\"outlinewidth\":0,\"ticks\":\"\"}},\"type\":\"scatterpolargl\"}],\"scatterternary\":[{\"marker\":{\"colorbar\":{\"outlinewidth\":0,\"ticks\":\"\"}},\"type\":\"scatterternary\"}],\"surface\":[{\"colorbar\":{\"outlinewidth\":0,\"ticks\":\"\"},\"colorscale\":[[0.0,\"#0d0887\"],[0.1111111111111111,\"#46039f\"],[0.2222222222222222,\"#7201a8\"],[0.3333333333333333,\"#9c179e\"],[0.4444444444444444,\"#bd3786\"],[0.5555555555555556,\"#d8576b\"],[0.6666666666666666,\"#ed7953\"],[0.7777777777777778,\"#fb9f3a\"],[0.8888888888888888,\"#fdca26\"],[1.0,\"#f0f921\"]],\"type\":\"surface\"}],\"table\":[{\"cells\":{\"fill\":{\"color\":\"#EBF0F8\"},\"line\":{\"color\":\"white\"}},\"header\":{\"fill\":{\"color\":\"#C8D4E3\"},\"line\":{\"color\":\"white\"}},\"type\":\"table\"}]},\"layout\":{\"annotationdefaults\":{\"arrowcolor\":\"#2a3f5f\",\"arrowhead\":0,\"arrowwidth\":1},\"autotypenumbers\":\"strict\",\"coloraxis\":{\"colorbar\":{\"outlinewidth\":0,\"ticks\":\"\"}},\"colorscale\":{\"diverging\":[[0,\"#8e0152\"],[0.1,\"#c51b7d\"],[0.2,\"#de77ae\"],[0.3,\"#f1b6da\"],[0.4,\"#fde0ef\"],[0.5,\"#f7f7f7\"],[0.6,\"#e6f5d0\"],[0.7,\"#b8e186\"],[0.8,\"#7fbc41\"],[0.9,\"#4d9221\"],[1,\"#276419\"]],\"sequential\":[[0.0,\"#0d0887\"],[0.1111111111111111,\"#46039f\"],[0.2222222222222222,\"#7201a8\"],[0.3333333333333333,\"#9c179e\"],[0.4444444444444444,\"#bd3786\"],[0.5555555555555556,\"#d8576b\"],[0.6666666666666666,\"#ed7953\"],[0.7777777777777778,\"#fb9f3a\"],[0.8888888888888888,\"#fdca26\"],[1.0,\"#f0f921\"]],\"sequentialminus\":[[0.0,\"#0d0887\"],[0.1111111111111111,\"#46039f\"],[0.2222222222222222,\"#7201a8\"],[0.3333333333333333,\"#9c179e\"],[0.4444444444444444,\"#bd3786\"],[0.5555555555555556,\"#d8576b\"],[0.6666666666666666,\"#ed7953\"],[0.7777777777777778,\"#fb9f3a\"],[0.8888888888888888,\"#fdca26\"],[1.0,\"#f0f921\"]]},\"colorway\":[\"#636efa\",\"#EF553B\",\"#00cc96\",\"#ab63fa\",\"#FFA15A\",\"#19d3f3\",\"#FF6692\",\"#B6E880\",\"#FF97FF\",\"#FECB52\"],\"font\":{\"color\":\"#2a3f5f\"},\"geo\":{\"bgcolor\":\"white\",\"lakecolor\":\"white\",\"landcolor\":\"#E5ECF6\",\"showlakes\":true,\"showland\":true,\"subunitcolor\":\"white\"},\"hoverlabel\":{\"align\":\"left\"},\"hovermode\":\"closest\",\"mapbox\":{\"style\":\"light\"},\"paper_bgcolor\":\"white\",\"plot_bgcolor\":\"#E5ECF6\",\"polar\":{\"angularaxis\":{\"gridcolor\":\"white\",\"linecolor\":\"white\",\"ticks\":\"\"},\"bgcolor\":\"#E5ECF6\",\"radialaxis\":{\"gridcolor\":\"white\",\"linecolor\":\"white\",\"ticks\":\"\"}},\"scene\":{\"xaxis\":{\"backgroundcolor\":\"#E5ECF6\",\"gridcolor\":\"white\",\"gridwidth\":2,\"linecolor\":\"white\",\"showbackground\":true,\"ticks\":\"\",\"zerolinecolor\":\"white\"},\"yaxis\":{\"backgroundcolor\":\"#E5ECF6\",\"gridcolor\":\"white\",\"gridwidth\":2,\"linecolor\":\"white\",\"showbackground\":true,\"ticks\":\"\",\"zerolinecolor\":\"white\"},\"zaxis\":{\"backgroundcolor\":\"#E5ECF6\",\"gridcolor\":\"white\",\"gridwidth\":2,\"linecolor\":\"white\",\"showbackground\":true,\"ticks\":\"\",\"zerolinecolor\":\"white\"}},\"shapedefaults\":{\"line\":{\"color\":\"#2a3f5f\"}},\"ternary\":{\"aaxis\":{\"gridcolor\":\"white\",\"linecolor\":\"white\",\"ticks\":\"\"},\"baxis\":{\"gridcolor\":\"white\",\"linecolor\":\"white\",\"ticks\":\"\"},\"bgcolor\":\"#E5ECF6\",\"caxis\":{\"gridcolor\":\"white\",\"linecolor\":\"white\",\"ticks\":\"\"}},\"title\":{\"x\":0.05},\"xaxis\":{\"automargin\":true,\"gridcolor\":\"white\",\"linecolor\":\"white\",\"ticks\":\"\",\"title\":{\"standoff\":15},\"zerolinecolor\":\"white\",\"zerolinewidth\":2},\"yaxis\":{\"automargin\":true,\"gridcolor\":\"white\",\"linecolor\":\"white\",\"ticks\":\"\",\"title\":{\"standoff\":15},\"zerolinecolor\":\"white\",\"zerolinewidth\":2}}},\"title\":{\"font\":{\"color\":\"#4D5663\"},\"text\":\"Fans and Claps over Time\"},\"xaxis\":{\"gridcolor\":\"#E1E5ED\",\"showgrid\":true,\"tickfont\":{\"color\":\"#4D5663\"},\"title\":{\"font\":{\"color\":\"#4D5663\"},\"text\":\"Date\"},\"zerolinecolor\":\"#E1E5ED\"},\"yaxis\":{\"gridcolor\":\"#E1E5ED\",\"showgrid\":true,\"tickfont\":{\"color\":\"#4D5663\"},\"title\":{\"font\":{\"color\":\"#4D5663\"},\"text\":\"Claps\"},\"zerolinecolor\":\"#E1E5ED\"},\"yaxis2\":{\"anchor\":\"x\",\"gridcolor\":\"#E1E5ED\",\"overlaying\":\"y\",\"showgrid\":true,\"side\":\"right\",\"tickfont\":{\"color\":\"#4D5663\"},\"title\":{\"text\":\"Fans\"},\"zerolinecolor\":\"#E1E5ED\"}},                        {\"showLink\": true, \"linkText\": \"Export to plot.ly\", \"plotlyServerURL\": \"https://plot.ly\", \"responsive\": true}                    ).then(function(){\n",
       "                            \n",
       "var gd = document.getElementById('b3fdded1-050d-437a-9ff5-d64be392f77f');\n",
       "var x = new MutationObserver(function (mutations, observer) {{\n",
       "        var display = window.getComputedStyle(gd).display;\n",
       "        if (!display || display === 'none') {{\n",
       "            console.log([gd, 'removed!']);\n",
       "            Plotly.purge(gd);\n",
       "            observer.disconnect();\n",
       "        }}\n",
       "}});\n",
       "\n",
       "// Listen for the removal of the full notebook cells\n",
       "var notebookContainer = gd.closest('#notebook-container');\n",
       "if (notebookContainer) {{\n",
       "    x.observe(notebookContainer, {childList: true});\n",
       "}}\n",
       "\n",
       "// Listen for the clearing of the current output cell\n",
       "var outputEl = gd.closest('.output');\n",
       "if (outputEl) {{\n",
       "    x.observe(outputEl, {childList: true});\n",
       "}}\n",
       "\n",
       "                        })                };                });            </script>        </div>"
      ]
     },
     "metadata": {},
     "output_type": "display_data"
    }
   ],
   "source": [
    "# Plot read time as a time series\n",
    "tds[['claps', 'fans', 'title']].iplot(y='claps', mode='lines+markers', secondary_y = 'fans', secondary_y_title='Fans', \n",
    "                                      xTitle='Date', yTitle='Claps', text='title', title='Fans and Claps over Time')"
   ]
  },
  {
   "cell_type": "code",
   "execution_count": 40,
   "id": "de7bd3d2",
   "metadata": {},
   "outputs": [
    {
     "data": {
      "text/html": [
       "<div>\n",
       "<style scoped>\n",
       "    .dataframe tbody tr th:only-of-type {\n",
       "        vertical-align: middle;\n",
       "    }\n",
       "\n",
       "    .dataframe tbody tr th {\n",
       "        vertical-align: top;\n",
       "    }\n",
       "\n",
       "    .dataframe thead th {\n",
       "        text-align: right;\n",
       "    }\n",
       "</style>\n",
       "<table border=\"1\" class=\"dataframe\">\n",
       "  <thead>\n",
       "    <tr style=\"text-align: right;\">\n",
       "      <th></th>\n",
       "      <th>claps</th>\n",
       "      <th>days_since_publication</th>\n",
       "      <th>fans</th>\n",
       "      <th>num_responses</th>\n",
       "      <th>read_ratio</th>\n",
       "      <th>read_time</th>\n",
       "      <th>reads</th>\n",
       "      <th>title_word_count</th>\n",
       "      <th>views</th>\n",
       "      <th>word_count</th>\n",
       "      <th>claps_per_word</th>\n",
       "      <th>editing_days</th>\n",
       "      <th>&lt;tag&gt;Education</th>\n",
       "      <th>&lt;tag&gt;Data Science</th>\n",
       "      <th>&lt;tag&gt;Towards Data Science</th>\n",
       "      <th>&lt;tag&gt;Machine Learning</th>\n",
       "      <th>&lt;tag&gt;Python</th>\n",
       "      <th>time_started</th>\n",
       "      <th>time_published</th>\n",
       "    </tr>\n",
       "    <tr>\n",
       "      <th>published_date</th>\n",
       "      <th></th>\n",
       "      <th></th>\n",
       "      <th></th>\n",
       "      <th></th>\n",
       "      <th></th>\n",
       "      <th></th>\n",
       "      <th></th>\n",
       "      <th></th>\n",
       "      <th></th>\n",
       "      <th></th>\n",
       "      <th></th>\n",
       "      <th></th>\n",
       "      <th></th>\n",
       "      <th></th>\n",
       "      <th></th>\n",
       "      <th></th>\n",
       "      <th></th>\n",
       "      <th></th>\n",
       "      <th></th>\n",
       "    </tr>\n",
       "  </thead>\n",
       "  <tbody>\n",
       "    <tr>\n",
       "      <th>2017-12-31</th>\n",
       "      <td>4800</td>\n",
       "      <td>374.986885</td>\n",
       "      <td>861</td>\n",
       "      <td>27</td>\n",
       "      <td>17.68</td>\n",
       "      <td>21</td>\n",
       "      <td>28566</td>\n",
       "      <td>4</td>\n",
       "      <td>161596</td>\n",
       "      <td>4494</td>\n",
       "      <td>1.068091</td>\n",
       "      <td>0</td>\n",
       "      <td>0</td>\n",
       "      <td>1</td>\n",
       "      <td>0</td>\n",
       "      <td>1</td>\n",
       "      <td>1</td>\n",
       "      <td>15.183333</td>\n",
       "      <td>11.333333</td>\n",
       "    </tr>\n",
       "    <tr>\n",
       "      <th>2018-01-31</th>\n",
       "      <td>26739</td>\n",
       "      <td>4595.367769</td>\n",
       "      <td>5297</td>\n",
       "      <td>117</td>\n",
       "      <td>462.34</td>\n",
       "      <td>130</td>\n",
       "      <td>161342</td>\n",
       "      <td>75</td>\n",
       "      <td>563646</td>\n",
       "      <td>29110</td>\n",
       "      <td>13.738008</td>\n",
       "      <td>15</td>\n",
       "      <td>5</td>\n",
       "      <td>13</td>\n",
       "      <td>6</td>\n",
       "      <td>6</td>\n",
       "      <td>5</td>\n",
       "      <td>203.000000</td>\n",
       "      <td>230.400000</td>\n",
       "    </tr>\n",
       "    <tr>\n",
       "      <th>2018-02-28</th>\n",
       "      <td>30346</td>\n",
       "      <td>2299.709918</td>\n",
       "      <td>5533</td>\n",
       "      <td>131</td>\n",
       "      <td>283.11</td>\n",
       "      <td>52</td>\n",
       "      <td>79338</td>\n",
       "      <td>39</td>\n",
       "      <td>203484</td>\n",
       "      <td>12022</td>\n",
       "      <td>26.148524</td>\n",
       "      <td>11</td>\n",
       "      <td>6</td>\n",
       "      <td>6</td>\n",
       "      <td>4</td>\n",
       "      <td>2</td>\n",
       "      <td>2</td>\n",
       "      <td>103.900000</td>\n",
       "      <td>84.083333</td>\n",
       "    </tr>\n",
       "    <tr>\n",
       "      <th>2018-03-31</th>\n",
       "      <td>22500</td>\n",
       "      <td>1767.877657</td>\n",
       "      <td>4257</td>\n",
       "      <td>102</td>\n",
       "      <td>176.90</td>\n",
       "      <td>62</td>\n",
       "      <td>113304</td>\n",
       "      <td>50</td>\n",
       "      <td>416241</td>\n",
       "      <td>14064</td>\n",
       "      <td>9.854461</td>\n",
       "      <td>4</td>\n",
       "      <td>5</td>\n",
       "      <td>3</td>\n",
       "      <td>4</td>\n",
       "      <td>1</td>\n",
       "      <td>5</td>\n",
       "      <td>82.833333</td>\n",
       "      <td>69.033333</td>\n",
       "    </tr>\n",
       "    <tr>\n",
       "      <th>2018-04-30</th>\n",
       "      <td>18664</td>\n",
       "      <td>1568.069032</td>\n",
       "      <td>3745</td>\n",
       "      <td>58</td>\n",
       "      <td>217.26</td>\n",
       "      <td>52</td>\n",
       "      <td>68042</td>\n",
       "      <td>70</td>\n",
       "      <td>214010</td>\n",
       "      <td>11526</td>\n",
       "      <td>10.667997</td>\n",
       "      <td>29</td>\n",
       "      <td>6</td>\n",
       "      <td>3</td>\n",
       "      <td>4</td>\n",
       "      <td>2</td>\n",
       "      <td>2</td>\n",
       "      <td>93.533333</td>\n",
       "      <td>88.433333</td>\n",
       "    </tr>\n",
       "    <tr>\n",
       "      <th>2018-05-31</th>\n",
       "      <td>30000</td>\n",
       "      <td>1154.885482</td>\n",
       "      <td>5859</td>\n",
       "      <td>74</td>\n",
       "      <td>111.96</td>\n",
       "      <td>60</td>\n",
       "      <td>56490</td>\n",
       "      <td>47</td>\n",
       "      <td>266847</td>\n",
       "      <td>14594</td>\n",
       "      <td>9.744425</td>\n",
       "      <td>15</td>\n",
       "      <td>5</td>\n",
       "      <td>5</td>\n",
       "      <td>5</td>\n",
       "      <td>5</td>\n",
       "      <td>1</td>\n",
       "      <td>67.533333</td>\n",
       "      <td>57.833333</td>\n",
       "    </tr>\n",
       "    <tr>\n",
       "      <th>2018-06-30</th>\n",
       "      <td>19900</td>\n",
       "      <td>1004.887258</td>\n",
       "      <td>4093</td>\n",
       "      <td>66</td>\n",
       "      <td>112.63</td>\n",
       "      <td>64</td>\n",
       "      <td>58379</td>\n",
       "      <td>41</td>\n",
       "      <td>250806</td>\n",
       "      <td>15224</td>\n",
       "      <td>8.105569</td>\n",
       "      <td>27</td>\n",
       "      <td>5</td>\n",
       "      <td>3</td>\n",
       "      <td>5</td>\n",
       "      <td>5</td>\n",
       "      <td>3</td>\n",
       "      <td>68.250000</td>\n",
       "      <td>57.783333</td>\n",
       "    </tr>\n",
       "    <tr>\n",
       "      <th>2018-07-31</th>\n",
       "      <td>3457</td>\n",
       "      <td>521.143492</td>\n",
       "      <td>677</td>\n",
       "      <td>13</td>\n",
       "      <td>75.65</td>\n",
       "      <td>39</td>\n",
       "      <td>8872</td>\n",
       "      <td>26</td>\n",
       "      <td>52230</td>\n",
       "      <td>9263</td>\n",
       "      <td>1.200006</td>\n",
       "      <td>19</td>\n",
       "      <td>3</td>\n",
       "      <td>3</td>\n",
       "      <td>3</td>\n",
       "      <td>2</td>\n",
       "      <td>1</td>\n",
       "      <td>46.083333</td>\n",
       "      <td>29.600000</td>\n",
       "    </tr>\n",
       "    <tr>\n",
       "      <th>2018-08-31</th>\n",
       "      <td>14562</td>\n",
       "      <td>1118.462636</td>\n",
       "      <td>2630</td>\n",
       "      <td>56</td>\n",
       "      <td>256.90</td>\n",
       "      <td>81</td>\n",
       "      <td>35385</td>\n",
       "      <td>96</td>\n",
       "      <td>132980</td>\n",
       "      <td>19426</td>\n",
       "      <td>11.008971</td>\n",
       "      <td>53</td>\n",
       "      <td>8</td>\n",
       "      <td>8</td>\n",
       "      <td>7</td>\n",
       "      <td>5</td>\n",
       "      <td>7</td>\n",
       "      <td>115.883333</td>\n",
       "      <td>101.000000</td>\n",
       "    </tr>\n",
       "    <tr>\n",
       "      <th>2018-09-30</th>\n",
       "      <td>10214</td>\n",
       "      <td>571.554960</td>\n",
       "      <td>1908</td>\n",
       "      <td>23</td>\n",
       "      <td>123.80</td>\n",
       "      <td>55</td>\n",
       "      <td>14633</td>\n",
       "      <td>38</td>\n",
       "      <td>67761</td>\n",
       "      <td>12922</td>\n",
       "      <td>3.573638</td>\n",
       "      <td>13</td>\n",
       "      <td>5</td>\n",
       "      <td>3</td>\n",
       "      <td>4</td>\n",
       "      <td>1</td>\n",
       "      <td>2</td>\n",
       "      <td>66.733333</td>\n",
       "      <td>65.750000</td>\n",
       "    </tr>\n",
       "    <tr>\n",
       "      <th>2018-10-31</th>\n",
       "      <td>8676</td>\n",
       "      <td>348.240760</td>\n",
       "      <td>1681</td>\n",
       "      <td>29</td>\n",
       "      <td>99.34</td>\n",
       "      <td>42</td>\n",
       "      <td>20787</td>\n",
       "      <td>30</td>\n",
       "      <td>78147</td>\n",
       "      <td>10224</td>\n",
       "      <td>3.603931</td>\n",
       "      <td>17</td>\n",
       "      <td>4</td>\n",
       "      <td>4</td>\n",
       "      <td>4</td>\n",
       "      <td>2</td>\n",
       "      <td>0</td>\n",
       "      <td>61.483333</td>\n",
       "      <td>62.283333</td>\n",
       "    </tr>\n",
       "    <tr>\n",
       "      <th>2018-11-30</th>\n",
       "      <td>12640</td>\n",
       "      <td>533.507271</td>\n",
       "      <td>2745</td>\n",
       "      <td>42</td>\n",
       "      <td>267.53</td>\n",
       "      <td>93</td>\n",
       "      <td>32235</td>\n",
       "      <td>79</td>\n",
       "      <td>129213</td>\n",
       "      <td>21517</td>\n",
       "      <td>6.256329</td>\n",
       "      <td>40</td>\n",
       "      <td>10</td>\n",
       "      <td>8</td>\n",
       "      <td>3</td>\n",
       "      <td>7</td>\n",
       "      <td>1</td>\n",
       "      <td>153.016667</td>\n",
       "      <td>145.983333</td>\n",
       "    </tr>\n",
       "    <tr>\n",
       "      <th>2018-12-31</th>\n",
       "      <td>8317</td>\n",
       "      <td>149.838621</td>\n",
       "      <td>1873</td>\n",
       "      <td>35</td>\n",
       "      <td>197.62</td>\n",
       "      <td>54</td>\n",
       "      <td>21360</td>\n",
       "      <td>57</td>\n",
       "      <td>69000</td>\n",
       "      <td>11176</td>\n",
       "      <td>7.238843</td>\n",
       "      <td>30</td>\n",
       "      <td>7</td>\n",
       "      <td>6</td>\n",
       "      <td>5</td>\n",
       "      <td>0</td>\n",
       "      <td>3</td>\n",
       "      <td>106.183333</td>\n",
       "      <td>104.983333</td>\n",
       "    </tr>\n",
       "  </tbody>\n",
       "</table>\n",
       "</div>"
      ],
      "text/plain": [
       "                claps  days_since_publication  fans  num_responses  \\\n",
       "published_date                                                       \n",
       "2017-12-31       4800              374.986885   861             27   \n",
       "2018-01-31      26739             4595.367769  5297            117   \n",
       "2018-02-28      30346             2299.709918  5533            131   \n",
       "2018-03-31      22500             1767.877657  4257            102   \n",
       "2018-04-30      18664             1568.069032  3745             58   \n",
       "2018-05-31      30000             1154.885482  5859             74   \n",
       "2018-06-30      19900             1004.887258  4093             66   \n",
       "2018-07-31       3457              521.143492   677             13   \n",
       "2018-08-31      14562             1118.462636  2630             56   \n",
       "2018-09-30      10214              571.554960  1908             23   \n",
       "2018-10-31       8676              348.240760  1681             29   \n",
       "2018-11-30      12640              533.507271  2745             42   \n",
       "2018-12-31       8317              149.838621  1873             35   \n",
       "\n",
       "                read_ratio  read_time   reads  title_word_count   views  \\\n",
       "published_date                                                            \n",
       "2017-12-31           17.68         21   28566                 4  161596   \n",
       "2018-01-31          462.34        130  161342                75  563646   \n",
       "2018-02-28          283.11         52   79338                39  203484   \n",
       "2018-03-31          176.90         62  113304                50  416241   \n",
       "2018-04-30          217.26         52   68042                70  214010   \n",
       "2018-05-31          111.96         60   56490                47  266847   \n",
       "2018-06-30          112.63         64   58379                41  250806   \n",
       "2018-07-31           75.65         39    8872                26   52230   \n",
       "2018-08-31          256.90         81   35385                96  132980   \n",
       "2018-09-30          123.80         55   14633                38   67761   \n",
       "2018-10-31           99.34         42   20787                30   78147   \n",
       "2018-11-30          267.53         93   32235                79  129213   \n",
       "2018-12-31          197.62         54   21360                57   69000   \n",
       "\n",
       "                word_count  claps_per_word  editing_days  <tag>Education  \\\n",
       "published_date                                                             \n",
       "2017-12-31            4494        1.068091             0               0   \n",
       "2018-01-31           29110       13.738008            15               5   \n",
       "2018-02-28           12022       26.148524            11               6   \n",
       "2018-03-31           14064        9.854461             4               5   \n",
       "2018-04-30           11526       10.667997            29               6   \n",
       "2018-05-31           14594        9.744425            15               5   \n",
       "2018-06-30           15224        8.105569            27               5   \n",
       "2018-07-31            9263        1.200006            19               3   \n",
       "2018-08-31           19426       11.008971            53               8   \n",
       "2018-09-30           12922        3.573638            13               5   \n",
       "2018-10-31           10224        3.603931            17               4   \n",
       "2018-11-30           21517        6.256329            40              10   \n",
       "2018-12-31           11176        7.238843            30               7   \n",
       "\n",
       "                <tag>Data Science  <tag>Towards Data Science  \\\n",
       "published_date                                                 \n",
       "2017-12-31                      1                          0   \n",
       "2018-01-31                     13                          6   \n",
       "2018-02-28                      6                          4   \n",
       "2018-03-31                      3                          4   \n",
       "2018-04-30                      3                          4   \n",
       "2018-05-31                      5                          5   \n",
       "2018-06-30                      3                          5   \n",
       "2018-07-31                      3                          3   \n",
       "2018-08-31                      8                          7   \n",
       "2018-09-30                      3                          4   \n",
       "2018-10-31                      4                          4   \n",
       "2018-11-30                      8                          3   \n",
       "2018-12-31                      6                          5   \n",
       "\n",
       "                <tag>Machine Learning  <tag>Python  time_started  \\\n",
       "published_date                                                     \n",
       "2017-12-31                          1            1     15.183333   \n",
       "2018-01-31                          6            5    203.000000   \n",
       "2018-02-28                          2            2    103.900000   \n",
       "2018-03-31                          1            5     82.833333   \n",
       "2018-04-30                          2            2     93.533333   \n",
       "2018-05-31                          5            1     67.533333   \n",
       "2018-06-30                          5            3     68.250000   \n",
       "2018-07-31                          2            1     46.083333   \n",
       "2018-08-31                          5            7    115.883333   \n",
       "2018-09-30                          1            2     66.733333   \n",
       "2018-10-31                          2            0     61.483333   \n",
       "2018-11-30                          7            1    153.016667   \n",
       "2018-12-31                          0            3    106.183333   \n",
       "\n",
       "                time_published  \n",
       "published_date                  \n",
       "2017-12-31           11.333333  \n",
       "2018-01-31          230.400000  \n",
       "2018-02-28           84.083333  \n",
       "2018-03-31           69.033333  \n",
       "2018-04-30           88.433333  \n",
       "2018-05-31           57.833333  \n",
       "2018-06-30           57.783333  \n",
       "2018-07-31           29.600000  \n",
       "2018-08-31          101.000000  \n",
       "2018-09-30           65.750000  \n",
       "2018-10-31           62.283333  \n",
       "2018-11-30          145.983333  \n",
       "2018-12-31          104.983333  "
      ]
     },
     "execution_count": 40,
     "metadata": {},
     "output_type": "execute_result"
    }
   ],
   "source": [
    "#we can also add in text annotations quite easily. To count how many words written by month, first, group tds by month\n",
    "tds_monthly_totals = tds.resample(\"M\").sum()\n",
    "tds_monthly_totals"
   ]
  },
  {
   "cell_type": "code",
   "execution_count": 50,
   "id": "403eb12e",
   "metadata": {},
   "outputs": [
    {
     "data": {
      "application/vnd.plotly.v1+json": {
       "config": {
        "linkText": "Export to plot.ly",
        "plotlyServerURL": "https://plot.ly",
        "showLink": true
       },
       "data": [
        {
         "line": {
          "color": "rgba(255, 153, 51, 1.0)",
          "dash": "solid",
          "shape": "linear",
          "width": 1.3
         },
         "marker": {
          "size": 12,
          "symbol": "circle"
         },
         "mode": "lines+markers+text",
         "name": "word_count",
         "text": [
          "<span style=\"color:blue\">December<span><br>words: 4494",
          "<span style=\"color:blue\">January<span><br>words: 29110",
          "<span style=\"color:blue\">February<span><br>words: 12022",
          "<span style=\"color:blue\">March<span><br>words: 14064",
          "<span style=\"color:blue\">April<span><br>words: 11526",
          "<span style=\"color:blue\">May<span><br>words: 14594",
          "<span style=\"color:blue\">June<span><br>words: 15224",
          "<span style=\"color:blue\">July<span><br>words: 9263",
          "<span style=\"color:blue\">August<span><br>words: 19426",
          "<span style=\"color:blue\">September<span><br>words: 12922",
          "<span style=\"color:blue\">October<span><br>words: 10224",
          "<span style=\"color:blue\">November<span><br>words: 21517",
          "<span style=\"color:blue\">December<span><br>words: 11176"
         ],
         "type": "scatter",
         "x": [
          "2017-12-31",
          "2018-01-31",
          "2018-02-28",
          "2018-03-31",
          "2018-04-30",
          "2018-05-31",
          "2018-06-30",
          "2018-07-31",
          "2018-08-31",
          "2018-09-30",
          "2018-10-31",
          "2018-11-30",
          "2018-12-31"
         ],
         "y": [
          4494,
          29110,
          12022,
          14064,
          11526,
          14594,
          15224,
          9263,
          19426,
          12922,
          10224,
          21517,
          11176
         ]
        }
       ],
       "layout": {
        "legend": {
         "bgcolor": "#F5F6F9",
         "font": {
          "color": "#4D5663"
         }
        },
        "paper_bgcolor": "#F5F6F9",
        "plot_bgcolor": "#F5F6F9",
        "template": {
         "data": {
          "bar": [
           {
            "error_x": {
             "color": "#2a3f5f"
            },
            "error_y": {
             "color": "#2a3f5f"
            },
            "marker": {
             "line": {
              "color": "#E5ECF6",
              "width": 0.5
             },
             "pattern": {
              "fillmode": "overlay",
              "size": 10,
              "solidity": 0.2
             }
            },
            "type": "bar"
           }
          ],
          "barpolar": [
           {
            "marker": {
             "line": {
              "color": "#E5ECF6",
              "width": 0.5
             },
             "pattern": {
              "fillmode": "overlay",
              "size": 10,
              "solidity": 0.2
             }
            },
            "type": "barpolar"
           }
          ],
          "carpet": [
           {
            "aaxis": {
             "endlinecolor": "#2a3f5f",
             "gridcolor": "white",
             "linecolor": "white",
             "minorgridcolor": "white",
             "startlinecolor": "#2a3f5f"
            },
            "baxis": {
             "endlinecolor": "#2a3f5f",
             "gridcolor": "white",
             "linecolor": "white",
             "minorgridcolor": "white",
             "startlinecolor": "#2a3f5f"
            },
            "type": "carpet"
           }
          ],
          "choropleth": [
           {
            "colorbar": {
             "outlinewidth": 0,
             "ticks": ""
            },
            "type": "choropleth"
           }
          ],
          "contour": [
           {
            "colorbar": {
             "outlinewidth": 0,
             "ticks": ""
            },
            "colorscale": [
             [
              0,
              "#0d0887"
             ],
             [
              0.1111111111111111,
              "#46039f"
             ],
             [
              0.2222222222222222,
              "#7201a8"
             ],
             [
              0.3333333333333333,
              "#9c179e"
             ],
             [
              0.4444444444444444,
              "#bd3786"
             ],
             [
              0.5555555555555556,
              "#d8576b"
             ],
             [
              0.6666666666666666,
              "#ed7953"
             ],
             [
              0.7777777777777778,
              "#fb9f3a"
             ],
             [
              0.8888888888888888,
              "#fdca26"
             ],
             [
              1,
              "#f0f921"
             ]
            ],
            "type": "contour"
           }
          ],
          "contourcarpet": [
           {
            "colorbar": {
             "outlinewidth": 0,
             "ticks": ""
            },
            "type": "contourcarpet"
           }
          ],
          "heatmap": [
           {
            "colorbar": {
             "outlinewidth": 0,
             "ticks": ""
            },
            "colorscale": [
             [
              0,
              "#0d0887"
             ],
             [
              0.1111111111111111,
              "#46039f"
             ],
             [
              0.2222222222222222,
              "#7201a8"
             ],
             [
              0.3333333333333333,
              "#9c179e"
             ],
             [
              0.4444444444444444,
              "#bd3786"
             ],
             [
              0.5555555555555556,
              "#d8576b"
             ],
             [
              0.6666666666666666,
              "#ed7953"
             ],
             [
              0.7777777777777778,
              "#fb9f3a"
             ],
             [
              0.8888888888888888,
              "#fdca26"
             ],
             [
              1,
              "#f0f921"
             ]
            ],
            "type": "heatmap"
           }
          ],
          "heatmapgl": [
           {
            "colorbar": {
             "outlinewidth": 0,
             "ticks": ""
            },
            "colorscale": [
             [
              0,
              "#0d0887"
             ],
             [
              0.1111111111111111,
              "#46039f"
             ],
             [
              0.2222222222222222,
              "#7201a8"
             ],
             [
              0.3333333333333333,
              "#9c179e"
             ],
             [
              0.4444444444444444,
              "#bd3786"
             ],
             [
              0.5555555555555556,
              "#d8576b"
             ],
             [
              0.6666666666666666,
              "#ed7953"
             ],
             [
              0.7777777777777778,
              "#fb9f3a"
             ],
             [
              0.8888888888888888,
              "#fdca26"
             ],
             [
              1,
              "#f0f921"
             ]
            ],
            "type": "heatmapgl"
           }
          ],
          "histogram": [
           {
            "marker": {
             "pattern": {
              "fillmode": "overlay",
              "size": 10,
              "solidity": 0.2
             }
            },
            "type": "histogram"
           }
          ],
          "histogram2d": [
           {
            "colorbar": {
             "outlinewidth": 0,
             "ticks": ""
            },
            "colorscale": [
             [
              0,
              "#0d0887"
             ],
             [
              0.1111111111111111,
              "#46039f"
             ],
             [
              0.2222222222222222,
              "#7201a8"
             ],
             [
              0.3333333333333333,
              "#9c179e"
             ],
             [
              0.4444444444444444,
              "#bd3786"
             ],
             [
              0.5555555555555556,
              "#d8576b"
             ],
             [
              0.6666666666666666,
              "#ed7953"
             ],
             [
              0.7777777777777778,
              "#fb9f3a"
             ],
             [
              0.8888888888888888,
              "#fdca26"
             ],
             [
              1,
              "#f0f921"
             ]
            ],
            "type": "histogram2d"
           }
          ],
          "histogram2dcontour": [
           {
            "colorbar": {
             "outlinewidth": 0,
             "ticks": ""
            },
            "colorscale": [
             [
              0,
              "#0d0887"
             ],
             [
              0.1111111111111111,
              "#46039f"
             ],
             [
              0.2222222222222222,
              "#7201a8"
             ],
             [
              0.3333333333333333,
              "#9c179e"
             ],
             [
              0.4444444444444444,
              "#bd3786"
             ],
             [
              0.5555555555555556,
              "#d8576b"
             ],
             [
              0.6666666666666666,
              "#ed7953"
             ],
             [
              0.7777777777777778,
              "#fb9f3a"
             ],
             [
              0.8888888888888888,
              "#fdca26"
             ],
             [
              1,
              "#f0f921"
             ]
            ],
            "type": "histogram2dcontour"
           }
          ],
          "mesh3d": [
           {
            "colorbar": {
             "outlinewidth": 0,
             "ticks": ""
            },
            "type": "mesh3d"
           }
          ],
          "parcoords": [
           {
            "line": {
             "colorbar": {
              "outlinewidth": 0,
              "ticks": ""
             }
            },
            "type": "parcoords"
           }
          ],
          "pie": [
           {
            "automargin": true,
            "type": "pie"
           }
          ],
          "scatter": [
           {
            "marker": {
             "colorbar": {
              "outlinewidth": 0,
              "ticks": ""
             }
            },
            "type": "scatter"
           }
          ],
          "scatter3d": [
           {
            "line": {
             "colorbar": {
              "outlinewidth": 0,
              "ticks": ""
             }
            },
            "marker": {
             "colorbar": {
              "outlinewidth": 0,
              "ticks": ""
             }
            },
            "type": "scatter3d"
           }
          ],
          "scattercarpet": [
           {
            "marker": {
             "colorbar": {
              "outlinewidth": 0,
              "ticks": ""
             }
            },
            "type": "scattercarpet"
           }
          ],
          "scattergeo": [
           {
            "marker": {
             "colorbar": {
              "outlinewidth": 0,
              "ticks": ""
             }
            },
            "type": "scattergeo"
           }
          ],
          "scattergl": [
           {
            "marker": {
             "colorbar": {
              "outlinewidth": 0,
              "ticks": ""
             }
            },
            "type": "scattergl"
           }
          ],
          "scattermapbox": [
           {
            "marker": {
             "colorbar": {
              "outlinewidth": 0,
              "ticks": ""
             }
            },
            "type": "scattermapbox"
           }
          ],
          "scatterpolar": [
           {
            "marker": {
             "colorbar": {
              "outlinewidth": 0,
              "ticks": ""
             }
            },
            "type": "scatterpolar"
           }
          ],
          "scatterpolargl": [
           {
            "marker": {
             "colorbar": {
              "outlinewidth": 0,
              "ticks": ""
             }
            },
            "type": "scatterpolargl"
           }
          ],
          "scatterternary": [
           {
            "marker": {
             "colorbar": {
              "outlinewidth": 0,
              "ticks": ""
             }
            },
            "type": "scatterternary"
           }
          ],
          "surface": [
           {
            "colorbar": {
             "outlinewidth": 0,
             "ticks": ""
            },
            "colorscale": [
             [
              0,
              "#0d0887"
             ],
             [
              0.1111111111111111,
              "#46039f"
             ],
             [
              0.2222222222222222,
              "#7201a8"
             ],
             [
              0.3333333333333333,
              "#9c179e"
             ],
             [
              0.4444444444444444,
              "#bd3786"
             ],
             [
              0.5555555555555556,
              "#d8576b"
             ],
             [
              0.6666666666666666,
              "#ed7953"
             ],
             [
              0.7777777777777778,
              "#fb9f3a"
             ],
             [
              0.8888888888888888,
              "#fdca26"
             ],
             [
              1,
              "#f0f921"
             ]
            ],
            "type": "surface"
           }
          ],
          "table": [
           {
            "cells": {
             "fill": {
              "color": "#EBF0F8"
             },
             "line": {
              "color": "white"
             }
            },
            "header": {
             "fill": {
              "color": "#C8D4E3"
             },
             "line": {
              "color": "white"
             }
            },
            "type": "table"
           }
          ]
         },
         "layout": {
          "annotationdefaults": {
           "arrowcolor": "#2a3f5f",
           "arrowhead": 0,
           "arrowwidth": 1
          },
          "autotypenumbers": "strict",
          "coloraxis": {
           "colorbar": {
            "outlinewidth": 0,
            "ticks": ""
           }
          },
          "colorscale": {
           "diverging": [
            [
             0,
             "#8e0152"
            ],
            [
             0.1,
             "#c51b7d"
            ],
            [
             0.2,
             "#de77ae"
            ],
            [
             0.3,
             "#f1b6da"
            ],
            [
             0.4,
             "#fde0ef"
            ],
            [
             0.5,
             "#f7f7f7"
            ],
            [
             0.6,
             "#e6f5d0"
            ],
            [
             0.7,
             "#b8e186"
            ],
            [
             0.8,
             "#7fbc41"
            ],
            [
             0.9,
             "#4d9221"
            ],
            [
             1,
             "#276419"
            ]
           ],
           "sequential": [
            [
             0,
             "#0d0887"
            ],
            [
             0.1111111111111111,
             "#46039f"
            ],
            [
             0.2222222222222222,
             "#7201a8"
            ],
            [
             0.3333333333333333,
             "#9c179e"
            ],
            [
             0.4444444444444444,
             "#bd3786"
            ],
            [
             0.5555555555555556,
             "#d8576b"
            ],
            [
             0.6666666666666666,
             "#ed7953"
            ],
            [
             0.7777777777777778,
             "#fb9f3a"
            ],
            [
             0.8888888888888888,
             "#fdca26"
            ],
            [
             1,
             "#f0f921"
            ]
           ],
           "sequentialminus": [
            [
             0,
             "#0d0887"
            ],
            [
             0.1111111111111111,
             "#46039f"
            ],
            [
             0.2222222222222222,
             "#7201a8"
            ],
            [
             0.3333333333333333,
             "#9c179e"
            ],
            [
             0.4444444444444444,
             "#bd3786"
            ],
            [
             0.5555555555555556,
             "#d8576b"
            ],
            [
             0.6666666666666666,
             "#ed7953"
            ],
            [
             0.7777777777777778,
             "#fb9f3a"
            ],
            [
             0.8888888888888888,
             "#fdca26"
            ],
            [
             1,
             "#f0f921"
            ]
           ]
          },
          "colorway": [
           "#636efa",
           "#EF553B",
           "#00cc96",
           "#ab63fa",
           "#FFA15A",
           "#19d3f3",
           "#FF6692",
           "#B6E880",
           "#FF97FF",
           "#FECB52"
          ],
          "font": {
           "color": "#2a3f5f"
          },
          "geo": {
           "bgcolor": "white",
           "lakecolor": "white",
           "landcolor": "#E5ECF6",
           "showlakes": true,
           "showland": true,
           "subunitcolor": "white"
          },
          "hoverlabel": {
           "align": "left"
          },
          "hovermode": "closest",
          "mapbox": {
           "style": "light"
          },
          "paper_bgcolor": "white",
          "plot_bgcolor": "#E5ECF6",
          "polar": {
           "angularaxis": {
            "gridcolor": "white",
            "linecolor": "white",
            "ticks": ""
           },
           "bgcolor": "#E5ECF6",
           "radialaxis": {
            "gridcolor": "white",
            "linecolor": "white",
            "ticks": ""
           }
          },
          "scene": {
           "xaxis": {
            "backgroundcolor": "#E5ECF6",
            "gridcolor": "white",
            "gridwidth": 2,
            "linecolor": "white",
            "showbackground": true,
            "ticks": "",
            "zerolinecolor": "white"
           },
           "yaxis": {
            "backgroundcolor": "#E5ECF6",
            "gridcolor": "white",
            "gridwidth": 2,
            "linecolor": "white",
            "showbackground": true,
            "ticks": "",
            "zerolinecolor": "white"
           },
           "zaxis": {
            "backgroundcolor": "#E5ECF6",
            "gridcolor": "white",
            "gridwidth": 2,
            "linecolor": "white",
            "showbackground": true,
            "ticks": "",
            "zerolinecolor": "white"
           }
          },
          "shapedefaults": {
           "line": {
            "color": "#2a3f5f"
           }
          },
          "ternary": {
           "aaxis": {
            "gridcolor": "white",
            "linecolor": "white",
            "ticks": ""
           },
           "baxis": {
            "gridcolor": "white",
            "linecolor": "white",
            "ticks": ""
           },
           "bgcolor": "#E5ECF6",
           "caxis": {
            "gridcolor": "white",
            "linecolor": "white",
            "ticks": ""
           }
          },
          "title": {
           "x": 0.05
          },
          "xaxis": {
           "automargin": true,
           "gridcolor": "white",
           "linecolor": "white",
           "ticks": "",
           "title": {
            "standoff": 15
           },
           "zerolinecolor": "white",
           "zerolinewidth": 2
          },
          "yaxis": {
           "automargin": true,
           "gridcolor": "white",
           "linecolor": "white",
           "ticks": "",
           "title": {
            "standoff": 15
           },
           "zerolinecolor": "white",
           "zerolinewidth": 2
          }
         }
        },
        "title": {
         "font": {
          "color": "#4D5663"
         },
         "text": "Total Word Count by Month"
        },
        "xaxis": {
         "gridcolor": "#E1E5ED",
         "showgrid": true,
         "tickfont": {
          "color": "#4D5663"
         },
         "title": {
          "font": {
           "color": "#4D5663"
          },
          "text": "Date"
         },
         "zerolinecolor": "#E1E5ED"
        },
        "yaxis": {
         "gridcolor": "#E1E5ED",
         "showgrid": true,
         "tickfont": {
          "color": "#4D5663"
         },
         "title": {
          "font": {
           "color": "#4D5663"
          },
          "text": "Word Count"
         },
         "zerolinecolor": "#E1E5ED"
        }
       }
      },
      "text/html": [
       "<div>                            <div id=\"d45b406c-9c85-4843-8024-95bdca25b07e\" class=\"plotly-graph-div\" style=\"height:525px; width:100%;\"></div>            <script type=\"text/javascript\">                require([\"plotly\"], function(Plotly) {                    window.PLOTLYENV=window.PLOTLYENV || {};\n",
       "                    window.PLOTLYENV.BASE_URL='https://plot.ly';                                    if (document.getElementById(\"d45b406c-9c85-4843-8024-95bdca25b07e\")) {                    Plotly.newPlot(                        \"d45b406c-9c85-4843-8024-95bdca25b07e\",                        [{\"line\":{\"color\":\"rgba(255, 153, 51, 1.0)\",\"dash\":\"solid\",\"shape\":\"linear\",\"width\":1.3},\"marker\":{\"size\":12,\"symbol\":\"circle\"},\"mode\":\"lines+markers+text\",\"name\":\"word_count\",\"text\":[\"<span style=\\\"color:blue\\\">December<span><br>words: 4494\",\"<span style=\\\"color:blue\\\">January<span><br>words: 29110\",\"<span style=\\\"color:blue\\\">February<span><br>words: 12022\",\"<span style=\\\"color:blue\\\">March<span><br>words: 14064\",\"<span style=\\\"color:blue\\\">April<span><br>words: 11526\",\"<span style=\\\"color:blue\\\">May<span><br>words: 14594\",\"<span style=\\\"color:blue\\\">June<span><br>words: 15224\",\"<span style=\\\"color:blue\\\">July<span><br>words: 9263\",\"<span style=\\\"color:blue\\\">August<span><br>words: 19426\",\"<span style=\\\"color:blue\\\">September<span><br>words: 12922\",\"<span style=\\\"color:blue\\\">October<span><br>words: 10224\",\"<span style=\\\"color:blue\\\">November<span><br>words: 21517\",\"<span style=\\\"color:blue\\\">December<span><br>words: 11176\"],\"type\":\"scatter\",\"x\":[\"2017-12-31\",\"2018-01-31\",\"2018-02-28\",\"2018-03-31\",\"2018-04-30\",\"2018-05-31\",\"2018-06-30\",\"2018-07-31\",\"2018-08-31\",\"2018-09-30\",\"2018-10-31\",\"2018-11-30\",\"2018-12-31\"],\"y\":[4494,29110,12022,14064,11526,14594,15224,9263,19426,12922,10224,21517,11176]}],                        {\"legend\":{\"bgcolor\":\"#F5F6F9\",\"font\":{\"color\":\"#4D5663\"}},\"paper_bgcolor\":\"#F5F6F9\",\"plot_bgcolor\":\"#F5F6F9\",\"template\":{\"data\":{\"bar\":[{\"error_x\":{\"color\":\"#2a3f5f\"},\"error_y\":{\"color\":\"#2a3f5f\"},\"marker\":{\"line\":{\"color\":\"#E5ECF6\",\"width\":0.5},\"pattern\":{\"fillmode\":\"overlay\",\"size\":10,\"solidity\":0.2}},\"type\":\"bar\"}],\"barpolar\":[{\"marker\":{\"line\":{\"color\":\"#E5ECF6\",\"width\":0.5},\"pattern\":{\"fillmode\":\"overlay\",\"size\":10,\"solidity\":0.2}},\"type\":\"barpolar\"}],\"carpet\":[{\"aaxis\":{\"endlinecolor\":\"#2a3f5f\",\"gridcolor\":\"white\",\"linecolor\":\"white\",\"minorgridcolor\":\"white\",\"startlinecolor\":\"#2a3f5f\"},\"baxis\":{\"endlinecolor\":\"#2a3f5f\",\"gridcolor\":\"white\",\"linecolor\":\"white\",\"minorgridcolor\":\"white\",\"startlinecolor\":\"#2a3f5f\"},\"type\":\"carpet\"}],\"choropleth\":[{\"colorbar\":{\"outlinewidth\":0,\"ticks\":\"\"},\"type\":\"choropleth\"}],\"contour\":[{\"colorbar\":{\"outlinewidth\":0,\"ticks\":\"\"},\"colorscale\":[[0.0,\"#0d0887\"],[0.1111111111111111,\"#46039f\"],[0.2222222222222222,\"#7201a8\"],[0.3333333333333333,\"#9c179e\"],[0.4444444444444444,\"#bd3786\"],[0.5555555555555556,\"#d8576b\"],[0.6666666666666666,\"#ed7953\"],[0.7777777777777778,\"#fb9f3a\"],[0.8888888888888888,\"#fdca26\"],[1.0,\"#f0f921\"]],\"type\":\"contour\"}],\"contourcarpet\":[{\"colorbar\":{\"outlinewidth\":0,\"ticks\":\"\"},\"type\":\"contourcarpet\"}],\"heatmap\":[{\"colorbar\":{\"outlinewidth\":0,\"ticks\":\"\"},\"colorscale\":[[0.0,\"#0d0887\"],[0.1111111111111111,\"#46039f\"],[0.2222222222222222,\"#7201a8\"],[0.3333333333333333,\"#9c179e\"],[0.4444444444444444,\"#bd3786\"],[0.5555555555555556,\"#d8576b\"],[0.6666666666666666,\"#ed7953\"],[0.7777777777777778,\"#fb9f3a\"],[0.8888888888888888,\"#fdca26\"],[1.0,\"#f0f921\"]],\"type\":\"heatmap\"}],\"heatmapgl\":[{\"colorbar\":{\"outlinewidth\":0,\"ticks\":\"\"},\"colorscale\":[[0.0,\"#0d0887\"],[0.1111111111111111,\"#46039f\"],[0.2222222222222222,\"#7201a8\"],[0.3333333333333333,\"#9c179e\"],[0.4444444444444444,\"#bd3786\"],[0.5555555555555556,\"#d8576b\"],[0.6666666666666666,\"#ed7953\"],[0.7777777777777778,\"#fb9f3a\"],[0.8888888888888888,\"#fdca26\"],[1.0,\"#f0f921\"]],\"type\":\"heatmapgl\"}],\"histogram\":[{\"marker\":{\"pattern\":{\"fillmode\":\"overlay\",\"size\":10,\"solidity\":0.2}},\"type\":\"histogram\"}],\"histogram2d\":[{\"colorbar\":{\"outlinewidth\":0,\"ticks\":\"\"},\"colorscale\":[[0.0,\"#0d0887\"],[0.1111111111111111,\"#46039f\"],[0.2222222222222222,\"#7201a8\"],[0.3333333333333333,\"#9c179e\"],[0.4444444444444444,\"#bd3786\"],[0.5555555555555556,\"#d8576b\"],[0.6666666666666666,\"#ed7953\"],[0.7777777777777778,\"#fb9f3a\"],[0.8888888888888888,\"#fdca26\"],[1.0,\"#f0f921\"]],\"type\":\"histogram2d\"}],\"histogram2dcontour\":[{\"colorbar\":{\"outlinewidth\":0,\"ticks\":\"\"},\"colorscale\":[[0.0,\"#0d0887\"],[0.1111111111111111,\"#46039f\"],[0.2222222222222222,\"#7201a8\"],[0.3333333333333333,\"#9c179e\"],[0.4444444444444444,\"#bd3786\"],[0.5555555555555556,\"#d8576b\"],[0.6666666666666666,\"#ed7953\"],[0.7777777777777778,\"#fb9f3a\"],[0.8888888888888888,\"#fdca26\"],[1.0,\"#f0f921\"]],\"type\":\"histogram2dcontour\"}],\"mesh3d\":[{\"colorbar\":{\"outlinewidth\":0,\"ticks\":\"\"},\"type\":\"mesh3d\"}],\"parcoords\":[{\"line\":{\"colorbar\":{\"outlinewidth\":0,\"ticks\":\"\"}},\"type\":\"parcoords\"}],\"pie\":[{\"automargin\":true,\"type\":\"pie\"}],\"scatter\":[{\"marker\":{\"colorbar\":{\"outlinewidth\":0,\"ticks\":\"\"}},\"type\":\"scatter\"}],\"scatter3d\":[{\"line\":{\"colorbar\":{\"outlinewidth\":0,\"ticks\":\"\"}},\"marker\":{\"colorbar\":{\"outlinewidth\":0,\"ticks\":\"\"}},\"type\":\"scatter3d\"}],\"scattercarpet\":[{\"marker\":{\"colorbar\":{\"outlinewidth\":0,\"ticks\":\"\"}},\"type\":\"scattercarpet\"}],\"scattergeo\":[{\"marker\":{\"colorbar\":{\"outlinewidth\":0,\"ticks\":\"\"}},\"type\":\"scattergeo\"}],\"scattergl\":[{\"marker\":{\"colorbar\":{\"outlinewidth\":0,\"ticks\":\"\"}},\"type\":\"scattergl\"}],\"scattermapbox\":[{\"marker\":{\"colorbar\":{\"outlinewidth\":0,\"ticks\":\"\"}},\"type\":\"scattermapbox\"}],\"scatterpolar\":[{\"marker\":{\"colorbar\":{\"outlinewidth\":0,\"ticks\":\"\"}},\"type\":\"scatterpolar\"}],\"scatterpolargl\":[{\"marker\":{\"colorbar\":{\"outlinewidth\":0,\"ticks\":\"\"}},\"type\":\"scatterpolargl\"}],\"scatterternary\":[{\"marker\":{\"colorbar\":{\"outlinewidth\":0,\"ticks\":\"\"}},\"type\":\"scatterternary\"}],\"surface\":[{\"colorbar\":{\"outlinewidth\":0,\"ticks\":\"\"},\"colorscale\":[[0.0,\"#0d0887\"],[0.1111111111111111,\"#46039f\"],[0.2222222222222222,\"#7201a8\"],[0.3333333333333333,\"#9c179e\"],[0.4444444444444444,\"#bd3786\"],[0.5555555555555556,\"#d8576b\"],[0.6666666666666666,\"#ed7953\"],[0.7777777777777778,\"#fb9f3a\"],[0.8888888888888888,\"#fdca26\"],[1.0,\"#f0f921\"]],\"type\":\"surface\"}],\"table\":[{\"cells\":{\"fill\":{\"color\":\"#EBF0F8\"},\"line\":{\"color\":\"white\"}},\"header\":{\"fill\":{\"color\":\"#C8D4E3\"},\"line\":{\"color\":\"white\"}},\"type\":\"table\"}]},\"layout\":{\"annotationdefaults\":{\"arrowcolor\":\"#2a3f5f\",\"arrowhead\":0,\"arrowwidth\":1},\"autotypenumbers\":\"strict\",\"coloraxis\":{\"colorbar\":{\"outlinewidth\":0,\"ticks\":\"\"}},\"colorscale\":{\"diverging\":[[0,\"#8e0152\"],[0.1,\"#c51b7d\"],[0.2,\"#de77ae\"],[0.3,\"#f1b6da\"],[0.4,\"#fde0ef\"],[0.5,\"#f7f7f7\"],[0.6,\"#e6f5d0\"],[0.7,\"#b8e186\"],[0.8,\"#7fbc41\"],[0.9,\"#4d9221\"],[1,\"#276419\"]],\"sequential\":[[0.0,\"#0d0887\"],[0.1111111111111111,\"#46039f\"],[0.2222222222222222,\"#7201a8\"],[0.3333333333333333,\"#9c179e\"],[0.4444444444444444,\"#bd3786\"],[0.5555555555555556,\"#d8576b\"],[0.6666666666666666,\"#ed7953\"],[0.7777777777777778,\"#fb9f3a\"],[0.8888888888888888,\"#fdca26\"],[1.0,\"#f0f921\"]],\"sequentialminus\":[[0.0,\"#0d0887\"],[0.1111111111111111,\"#46039f\"],[0.2222222222222222,\"#7201a8\"],[0.3333333333333333,\"#9c179e\"],[0.4444444444444444,\"#bd3786\"],[0.5555555555555556,\"#d8576b\"],[0.6666666666666666,\"#ed7953\"],[0.7777777777777778,\"#fb9f3a\"],[0.8888888888888888,\"#fdca26\"],[1.0,\"#f0f921\"]]},\"colorway\":[\"#636efa\",\"#EF553B\",\"#00cc96\",\"#ab63fa\",\"#FFA15A\",\"#19d3f3\",\"#FF6692\",\"#B6E880\",\"#FF97FF\",\"#FECB52\"],\"font\":{\"color\":\"#2a3f5f\"},\"geo\":{\"bgcolor\":\"white\",\"lakecolor\":\"white\",\"landcolor\":\"#E5ECF6\",\"showlakes\":true,\"showland\":true,\"subunitcolor\":\"white\"},\"hoverlabel\":{\"align\":\"left\"},\"hovermode\":\"closest\",\"mapbox\":{\"style\":\"light\"},\"paper_bgcolor\":\"white\",\"plot_bgcolor\":\"#E5ECF6\",\"polar\":{\"angularaxis\":{\"gridcolor\":\"white\",\"linecolor\":\"white\",\"ticks\":\"\"},\"bgcolor\":\"#E5ECF6\",\"radialaxis\":{\"gridcolor\":\"white\",\"linecolor\":\"white\",\"ticks\":\"\"}},\"scene\":{\"xaxis\":{\"backgroundcolor\":\"#E5ECF6\",\"gridcolor\":\"white\",\"gridwidth\":2,\"linecolor\":\"white\",\"showbackground\":true,\"ticks\":\"\",\"zerolinecolor\":\"white\"},\"yaxis\":{\"backgroundcolor\":\"#E5ECF6\",\"gridcolor\":\"white\",\"gridwidth\":2,\"linecolor\":\"white\",\"showbackground\":true,\"ticks\":\"\",\"zerolinecolor\":\"white\"},\"zaxis\":{\"backgroundcolor\":\"#E5ECF6\",\"gridcolor\":\"white\",\"gridwidth\":2,\"linecolor\":\"white\",\"showbackground\":true,\"ticks\":\"\",\"zerolinecolor\":\"white\"}},\"shapedefaults\":{\"line\":{\"color\":\"#2a3f5f\"}},\"ternary\":{\"aaxis\":{\"gridcolor\":\"white\",\"linecolor\":\"white\",\"ticks\":\"\"},\"baxis\":{\"gridcolor\":\"white\",\"linecolor\":\"white\",\"ticks\":\"\"},\"bgcolor\":\"#E5ECF6\",\"caxis\":{\"gridcolor\":\"white\",\"linecolor\":\"white\",\"ticks\":\"\"}},\"title\":{\"x\":0.05},\"xaxis\":{\"automargin\":true,\"gridcolor\":\"white\",\"linecolor\":\"white\",\"ticks\":\"\",\"title\":{\"standoff\":15},\"zerolinecolor\":\"white\",\"zerolinewidth\":2},\"yaxis\":{\"automargin\":true,\"gridcolor\":\"white\",\"linecolor\":\"white\",\"ticks\":\"\",\"title\":{\"standoff\":15},\"zerolinecolor\":\"white\",\"zerolinewidth\":2}}},\"title\":{\"font\":{\"color\":\"#4D5663\"},\"text\":\"Total Word Count by Month\"},\"xaxis\":{\"gridcolor\":\"#E1E5ED\",\"showgrid\":true,\"tickfont\":{\"color\":\"#4D5663\"},\"title\":{\"font\":{\"color\":\"#4D5663\"},\"text\":\"Date\"},\"zerolinecolor\":\"#E1E5ED\"},\"yaxis\":{\"gridcolor\":\"#E1E5ED\",\"showgrid\":true,\"tickfont\":{\"color\":\"#4D5663\"},\"title\":{\"font\":{\"color\":\"#4D5663\"},\"text\":\"Word Count\"},\"zerolinecolor\":\"#E1E5ED\"}},                        {\"showLink\": true, \"linkText\": \"Export to plot.ly\", \"plotlyServerURL\": \"https://plot.ly\", \"responsive\": true}                    ).then(function(){\n",
       "                            \n",
       "var gd = document.getElementById('d45b406c-9c85-4843-8024-95bdca25b07e');\n",
       "var x = new MutationObserver(function (mutations, observer) {{\n",
       "        var display = window.getComputedStyle(gd).display;\n",
       "        if (!display || display === 'none') {{\n",
       "            console.log([gd, 'removed!']);\n",
       "            Plotly.purge(gd);\n",
       "            observer.disconnect();\n",
       "        }}\n",
       "}});\n",
       "\n",
       "// Listen for the removal of the full notebook cells\n",
       "var notebookContainer = gd.closest('#notebook-container');\n",
       "if (notebookContainer) {{\n",
       "    x.observe(notebookContainer, {childList: true});\n",
       "}}\n",
       "\n",
       "// Listen for the clearing of the current output cell\n",
       "var outputEl = gd.closest('.output');\n",
       "if (outputEl) {{\n",
       "    x.observe(outputEl, {childList: true});\n",
       "}}\n",
       "\n",
       "                        })                };                });            </script>        </div>"
      ]
     },
     "metadata": {},
     "output_type": "display_data"
    }
   ],
   "source": [
    "#The text is written in HTML which gives us control over the formatting.\n",
    "tds_monthly_totals[\"text\"] = [\n",
    "    f'<span style=\"color:blue\">{m}<span><br>words: {w:.0f}'\n",
    "    for m, w in zip(\n",
    "        tds_monthly_totals.index.month_name(), tds_monthly_totals[\"word_count\"]\n",
    "    )\n",
    "]\n",
    "tds_monthly_totals.iplot(mode=\"lines+markers+text\", text=\"text\", y=\"word_count\", xTitle=\"Date\",yTitle=\"Word Count\",\n",
    "                         title=\"Total Word Count by Month\",)"
   ]
  },
  {
   "cell_type": "code",
   "execution_count": 51,
   "id": "cc6c8fe0",
   "metadata": {},
   "outputs": [
    {
     "name": "stderr",
     "output_type": "stream",
     "text": [
      "D:\\anaconda3\\lib\\site-packages\\cufflinks\\plotlytools.py:807: FutureWarning:\n",
      "\n",
      "The pandas.np module is deprecated and will be removed from pandas in a future version. Import numpy directly instead\n",
      "\n",
      "D:\\anaconda3\\lib\\site-packages\\cufflinks\\plotlytools.py:810: FutureWarning:\n",
      "\n",
      "The pandas.np module is deprecated and will be removed from pandas in a future version. Import numpy directly instead\n",
      "\n"
     ]
    },
    {
     "data": {
      "application/vnd.plotly.v1+json": {
       "config": {
        "linkText": "Export to plot.ly",
        "plotlyServerURL": "https://plot.ly",
        "showLink": true
       },
       "data": [
        {
         "marker": {
          "color": "rgba(255, 153, 51, 1.0)",
          "line": {
           "width": 1.3
          },
          "opacity": 0.8,
          "size": 12,
          "symbol": "circle"
         },
         "mode": "markers",
         "name": "None",
         "textfont": {
          "color": "#4D5663"
         },
         "type": "scatter",
         "x": [
          7,
          14,
          42,
          9,
          14,
          47,
          14,
          12,
          7,
          17,
          38,
          43,
          31,
          12,
          29,
          27,
          6,
          31,
          6,
          24,
          8,
          11,
          9,
          19,
          5,
          6,
          6,
          7,
          3,
          6,
          8,
          8,
          8,
          54,
          13,
          35,
          24,
          43,
          14,
          43,
          27
         ],
         "y": [
          41.98,
          32.93,
          20.19,
          35.85,
          8.77,
          19.28,
          17.64,
          23.55,
          33.33,
          23.44,
          14.07,
          12.24,
          18.62,
          27.78,
          11.87,
          11.57,
          28.87,
          15.38,
          53.03,
          13.2,
          65.71,
          42.03,
          36.42,
          42.81,
          34.43,
          41.89,
          54.29,
          28.68,
          58.15,
          47.01,
          35.38,
          24.31,
          39.28,
          11.79,
          33.33,
          12.38,
          25,
          9.52,
          27.82,
          6.06,
          19.16
         ]
        },
        {
         "marker": {
          "color": "rgba(55, 128, 191, 1.0)",
          "line": {
           "width": 1.3
          },
          "opacity": 0.8,
          "size": 12,
          "symbol": "circle"
         },
         "mode": "markers",
         "name": "Towards Data Science",
         "textfont": {
          "color": "#4D5663"
         },
         "type": "scatter",
         "x": [
          21,
          17,
          15,
          11,
          12,
          14,
          11,
          5,
          12,
          6,
          4,
          6,
          11,
          6,
          10,
          3,
          6,
          12,
          9,
          8,
          4,
          11,
          9,
          11,
          10,
          11,
          10,
          8,
          10,
          12,
          12,
          7,
          3,
          15,
          13,
          11,
          9,
          12,
          11,
          20,
          10,
          14,
          9,
          18,
          15,
          6,
          11,
          8,
          10,
          3,
          17,
          15,
          1,
          16,
          10,
          15,
          5,
          8,
          17,
          8,
          13,
          10,
          11,
          6,
          15,
          9,
          6,
          8,
          9,
          7,
          6,
          15,
          12,
          8,
          5,
          7,
          9,
          5,
          8,
          12
         ],
         "y": [
          17.68,
          22.76,
          28.64,
          31.53,
          23.99,
          25.02,
          26.48,
          62.02,
          31.14,
          35.91,
          54.9,
          41.91,
          30.74,
          47.3,
          29.82,
          62.61,
          43.21,
          28.8,
          32.28,
          42.88,
          43.51,
          20.4,
          22.68,
          36.49,
          36.98,
          27.17,
          33.18,
          31.37,
          33.73,
          30.79,
          26.51,
          31.56,
          63.3,
          18.85,
          20.65,
          23.58,
          25.07,
          23.81,
          21.75,
          16.88,
          25.47,
          21.64,
          26.89,
          14.38,
          18.08,
          43.19,
          24.69,
          33.16,
          26.89,
          44.17,
          16.73,
          19.29,
          74.53,
          17.44,
          26.93,
          18.99,
          40.82,
          18.85,
          18.21,
          27.13,
          19.84,
          23.81,
          28.56,
          40.39,
          17.22,
          24.27,
          38.53,
          21.47,
          21.47,
          30.31,
          34.19,
          17.72,
          21.96,
          19.31,
          45.8,
          22.04,
          29.3,
          30.11,
          30.59,
          20.47
         ]
        },
        {
         "marker": {
          "color": "rgba(50, 171, 96, 1.0)",
          "line": {
           "width": 1.3
          },
          "opacity": 0.8,
          "size": 12,
          "symbol": "circle"
         },
         "mode": "markers",
         "name": "Engineering @ Feature Labs",
         "textfont": {
          "color": "#4D5663"
         },
         "type": "scatter",
         "x": [
          9
         ],
         "y": [
          27.28
         ]
        },
        {
         "marker": {
          "color": "rgba(128, 0, 128, 1.0)",
          "line": {
           "width": 1.3
          },
          "opacity": 0.8,
          "size": 12,
          "symbol": "circle"
         },
         "mode": "markers",
         "name": "Noteworthy - The Journal Blog",
         "textfont": {
          "color": "#4D5663"
         },
         "type": "scatter",
         "x": [
          9
         ],
         "y": [
          26.21
         ]
        },
        {
         "marker": {
          "color": "rgba(219, 64, 82, 1.0)",
          "line": {
           "width": 1.3
          },
          "opacity": 0.8,
          "size": 12,
          "symbol": "circle"
         },
         "mode": "markers",
         "name": "The Reality Project",
         "textfont": {
          "color": "#4D5663"
         },
         "type": "scatter",
         "x": [
          6,
          10,
          15
         ],
         "y": [
          39.23,
          28.75,
          21.22
         ]
        }
       ],
       "layout": {
        "legend": {
         "bgcolor": "#F5F6F9",
         "font": {
          "color": "#4D5663"
         }
        },
        "paper_bgcolor": "#F5F6F9",
        "plot_bgcolor": "#F5F6F9",
        "template": {
         "data": {
          "bar": [
           {
            "error_x": {
             "color": "#2a3f5f"
            },
            "error_y": {
             "color": "#2a3f5f"
            },
            "marker": {
             "line": {
              "color": "#E5ECF6",
              "width": 0.5
             },
             "pattern": {
              "fillmode": "overlay",
              "size": 10,
              "solidity": 0.2
             }
            },
            "type": "bar"
           }
          ],
          "barpolar": [
           {
            "marker": {
             "line": {
              "color": "#E5ECF6",
              "width": 0.5
             },
             "pattern": {
              "fillmode": "overlay",
              "size": 10,
              "solidity": 0.2
             }
            },
            "type": "barpolar"
           }
          ],
          "carpet": [
           {
            "aaxis": {
             "endlinecolor": "#2a3f5f",
             "gridcolor": "white",
             "linecolor": "white",
             "minorgridcolor": "white",
             "startlinecolor": "#2a3f5f"
            },
            "baxis": {
             "endlinecolor": "#2a3f5f",
             "gridcolor": "white",
             "linecolor": "white",
             "minorgridcolor": "white",
             "startlinecolor": "#2a3f5f"
            },
            "type": "carpet"
           }
          ],
          "choropleth": [
           {
            "colorbar": {
             "outlinewidth": 0,
             "ticks": ""
            },
            "type": "choropleth"
           }
          ],
          "contour": [
           {
            "colorbar": {
             "outlinewidth": 0,
             "ticks": ""
            },
            "colorscale": [
             [
              0,
              "#0d0887"
             ],
             [
              0.1111111111111111,
              "#46039f"
             ],
             [
              0.2222222222222222,
              "#7201a8"
             ],
             [
              0.3333333333333333,
              "#9c179e"
             ],
             [
              0.4444444444444444,
              "#bd3786"
             ],
             [
              0.5555555555555556,
              "#d8576b"
             ],
             [
              0.6666666666666666,
              "#ed7953"
             ],
             [
              0.7777777777777778,
              "#fb9f3a"
             ],
             [
              0.8888888888888888,
              "#fdca26"
             ],
             [
              1,
              "#f0f921"
             ]
            ],
            "type": "contour"
           }
          ],
          "contourcarpet": [
           {
            "colorbar": {
             "outlinewidth": 0,
             "ticks": ""
            },
            "type": "contourcarpet"
           }
          ],
          "heatmap": [
           {
            "colorbar": {
             "outlinewidth": 0,
             "ticks": ""
            },
            "colorscale": [
             [
              0,
              "#0d0887"
             ],
             [
              0.1111111111111111,
              "#46039f"
             ],
             [
              0.2222222222222222,
              "#7201a8"
             ],
             [
              0.3333333333333333,
              "#9c179e"
             ],
             [
              0.4444444444444444,
              "#bd3786"
             ],
             [
              0.5555555555555556,
              "#d8576b"
             ],
             [
              0.6666666666666666,
              "#ed7953"
             ],
             [
              0.7777777777777778,
              "#fb9f3a"
             ],
             [
              0.8888888888888888,
              "#fdca26"
             ],
             [
              1,
              "#f0f921"
             ]
            ],
            "type": "heatmap"
           }
          ],
          "heatmapgl": [
           {
            "colorbar": {
             "outlinewidth": 0,
             "ticks": ""
            },
            "colorscale": [
             [
              0,
              "#0d0887"
             ],
             [
              0.1111111111111111,
              "#46039f"
             ],
             [
              0.2222222222222222,
              "#7201a8"
             ],
             [
              0.3333333333333333,
              "#9c179e"
             ],
             [
              0.4444444444444444,
              "#bd3786"
             ],
             [
              0.5555555555555556,
              "#d8576b"
             ],
             [
              0.6666666666666666,
              "#ed7953"
             ],
             [
              0.7777777777777778,
              "#fb9f3a"
             ],
             [
              0.8888888888888888,
              "#fdca26"
             ],
             [
              1,
              "#f0f921"
             ]
            ],
            "type": "heatmapgl"
           }
          ],
          "histogram": [
           {
            "marker": {
             "pattern": {
              "fillmode": "overlay",
              "size": 10,
              "solidity": 0.2
             }
            },
            "type": "histogram"
           }
          ],
          "histogram2d": [
           {
            "colorbar": {
             "outlinewidth": 0,
             "ticks": ""
            },
            "colorscale": [
             [
              0,
              "#0d0887"
             ],
             [
              0.1111111111111111,
              "#46039f"
             ],
             [
              0.2222222222222222,
              "#7201a8"
             ],
             [
              0.3333333333333333,
              "#9c179e"
             ],
             [
              0.4444444444444444,
              "#bd3786"
             ],
             [
              0.5555555555555556,
              "#d8576b"
             ],
             [
              0.6666666666666666,
              "#ed7953"
             ],
             [
              0.7777777777777778,
              "#fb9f3a"
             ],
             [
              0.8888888888888888,
              "#fdca26"
             ],
             [
              1,
              "#f0f921"
             ]
            ],
            "type": "histogram2d"
           }
          ],
          "histogram2dcontour": [
           {
            "colorbar": {
             "outlinewidth": 0,
             "ticks": ""
            },
            "colorscale": [
             [
              0,
              "#0d0887"
             ],
             [
              0.1111111111111111,
              "#46039f"
             ],
             [
              0.2222222222222222,
              "#7201a8"
             ],
             [
              0.3333333333333333,
              "#9c179e"
             ],
             [
              0.4444444444444444,
              "#bd3786"
             ],
             [
              0.5555555555555556,
              "#d8576b"
             ],
             [
              0.6666666666666666,
              "#ed7953"
             ],
             [
              0.7777777777777778,
              "#fb9f3a"
             ],
             [
              0.8888888888888888,
              "#fdca26"
             ],
             [
              1,
              "#f0f921"
             ]
            ],
            "type": "histogram2dcontour"
           }
          ],
          "mesh3d": [
           {
            "colorbar": {
             "outlinewidth": 0,
             "ticks": ""
            },
            "type": "mesh3d"
           }
          ],
          "parcoords": [
           {
            "line": {
             "colorbar": {
              "outlinewidth": 0,
              "ticks": ""
             }
            },
            "type": "parcoords"
           }
          ],
          "pie": [
           {
            "automargin": true,
            "type": "pie"
           }
          ],
          "scatter": [
           {
            "marker": {
             "colorbar": {
              "outlinewidth": 0,
              "ticks": ""
             }
            },
            "type": "scatter"
           }
          ],
          "scatter3d": [
           {
            "line": {
             "colorbar": {
              "outlinewidth": 0,
              "ticks": ""
             }
            },
            "marker": {
             "colorbar": {
              "outlinewidth": 0,
              "ticks": ""
             }
            },
            "type": "scatter3d"
           }
          ],
          "scattercarpet": [
           {
            "marker": {
             "colorbar": {
              "outlinewidth": 0,
              "ticks": ""
             }
            },
            "type": "scattercarpet"
           }
          ],
          "scattergeo": [
           {
            "marker": {
             "colorbar": {
              "outlinewidth": 0,
              "ticks": ""
             }
            },
            "type": "scattergeo"
           }
          ],
          "scattergl": [
           {
            "marker": {
             "colorbar": {
              "outlinewidth": 0,
              "ticks": ""
             }
            },
            "type": "scattergl"
           }
          ],
          "scattermapbox": [
           {
            "marker": {
             "colorbar": {
              "outlinewidth": 0,
              "ticks": ""
             }
            },
            "type": "scattermapbox"
           }
          ],
          "scatterpolar": [
           {
            "marker": {
             "colorbar": {
              "outlinewidth": 0,
              "ticks": ""
             }
            },
            "type": "scatterpolar"
           }
          ],
          "scatterpolargl": [
           {
            "marker": {
             "colorbar": {
              "outlinewidth": 0,
              "ticks": ""
             }
            },
            "type": "scatterpolargl"
           }
          ],
          "scatterternary": [
           {
            "marker": {
             "colorbar": {
              "outlinewidth": 0,
              "ticks": ""
             }
            },
            "type": "scatterternary"
           }
          ],
          "surface": [
           {
            "colorbar": {
             "outlinewidth": 0,
             "ticks": ""
            },
            "colorscale": [
             [
              0,
              "#0d0887"
             ],
             [
              0.1111111111111111,
              "#46039f"
             ],
             [
              0.2222222222222222,
              "#7201a8"
             ],
             [
              0.3333333333333333,
              "#9c179e"
             ],
             [
              0.4444444444444444,
              "#bd3786"
             ],
             [
              0.5555555555555556,
              "#d8576b"
             ],
             [
              0.6666666666666666,
              "#ed7953"
             ],
             [
              0.7777777777777778,
              "#fb9f3a"
             ],
             [
              0.8888888888888888,
              "#fdca26"
             ],
             [
              1,
              "#f0f921"
             ]
            ],
            "type": "surface"
           }
          ],
          "table": [
           {
            "cells": {
             "fill": {
              "color": "#EBF0F8"
             },
             "line": {
              "color": "white"
             }
            },
            "header": {
             "fill": {
              "color": "#C8D4E3"
             },
             "line": {
              "color": "white"
             }
            },
            "type": "table"
           }
          ]
         },
         "layout": {
          "annotationdefaults": {
           "arrowcolor": "#2a3f5f",
           "arrowhead": 0,
           "arrowwidth": 1
          },
          "autotypenumbers": "strict",
          "coloraxis": {
           "colorbar": {
            "outlinewidth": 0,
            "ticks": ""
           }
          },
          "colorscale": {
           "diverging": [
            [
             0,
             "#8e0152"
            ],
            [
             0.1,
             "#c51b7d"
            ],
            [
             0.2,
             "#de77ae"
            ],
            [
             0.3,
             "#f1b6da"
            ],
            [
             0.4,
             "#fde0ef"
            ],
            [
             0.5,
             "#f7f7f7"
            ],
            [
             0.6,
             "#e6f5d0"
            ],
            [
             0.7,
             "#b8e186"
            ],
            [
             0.8,
             "#7fbc41"
            ],
            [
             0.9,
             "#4d9221"
            ],
            [
             1,
             "#276419"
            ]
           ],
           "sequential": [
            [
             0,
             "#0d0887"
            ],
            [
             0.1111111111111111,
             "#46039f"
            ],
            [
             0.2222222222222222,
             "#7201a8"
            ],
            [
             0.3333333333333333,
             "#9c179e"
            ],
            [
             0.4444444444444444,
             "#bd3786"
            ],
            [
             0.5555555555555556,
             "#d8576b"
            ],
            [
             0.6666666666666666,
             "#ed7953"
            ],
            [
             0.7777777777777778,
             "#fb9f3a"
            ],
            [
             0.8888888888888888,
             "#fdca26"
            ],
            [
             1,
             "#f0f921"
            ]
           ],
           "sequentialminus": [
            [
             0,
             "#0d0887"
            ],
            [
             0.1111111111111111,
             "#46039f"
            ],
            [
             0.2222222222222222,
             "#7201a8"
            ],
            [
             0.3333333333333333,
             "#9c179e"
            ],
            [
             0.4444444444444444,
             "#bd3786"
            ],
            [
             0.5555555555555556,
             "#d8576b"
            ],
            [
             0.6666666666666666,
             "#ed7953"
            ],
            [
             0.7777777777777778,
             "#fb9f3a"
            ],
            [
             0.8888888888888888,
             "#fdca26"
            ],
            [
             1,
             "#f0f921"
            ]
           ]
          },
          "colorway": [
           "#636efa",
           "#EF553B",
           "#00cc96",
           "#ab63fa",
           "#FFA15A",
           "#19d3f3",
           "#FF6692",
           "#B6E880",
           "#FF97FF",
           "#FECB52"
          ],
          "font": {
           "color": "#2a3f5f"
          },
          "geo": {
           "bgcolor": "white",
           "lakecolor": "white",
           "landcolor": "#E5ECF6",
           "showlakes": true,
           "showland": true,
           "subunitcolor": "white"
          },
          "hoverlabel": {
           "align": "left"
          },
          "hovermode": "closest",
          "mapbox": {
           "style": "light"
          },
          "paper_bgcolor": "white",
          "plot_bgcolor": "#E5ECF6",
          "polar": {
           "angularaxis": {
            "gridcolor": "white",
            "linecolor": "white",
            "ticks": ""
           },
           "bgcolor": "#E5ECF6",
           "radialaxis": {
            "gridcolor": "white",
            "linecolor": "white",
            "ticks": ""
           }
          },
          "scene": {
           "xaxis": {
            "backgroundcolor": "#E5ECF6",
            "gridcolor": "white",
            "gridwidth": 2,
            "linecolor": "white",
            "showbackground": true,
            "ticks": "",
            "zerolinecolor": "white"
           },
           "yaxis": {
            "backgroundcolor": "#E5ECF6",
            "gridcolor": "white",
            "gridwidth": 2,
            "linecolor": "white",
            "showbackground": true,
            "ticks": "",
            "zerolinecolor": "white"
           },
           "zaxis": {
            "backgroundcolor": "#E5ECF6",
            "gridcolor": "white",
            "gridwidth": 2,
            "linecolor": "white",
            "showbackground": true,
            "ticks": "",
            "zerolinecolor": "white"
           }
          },
          "shapedefaults": {
           "line": {
            "color": "#2a3f5f"
           }
          },
          "ternary": {
           "aaxis": {
            "gridcolor": "white",
            "linecolor": "white",
            "ticks": ""
           },
           "baxis": {
            "gridcolor": "white",
            "linecolor": "white",
            "ticks": ""
           },
           "bgcolor": "#E5ECF6",
           "caxis": {
            "gridcolor": "white",
            "linecolor": "white",
            "ticks": ""
           }
          },
          "title": {
           "x": 0.05
          },
          "xaxis": {
           "automargin": true,
           "gridcolor": "white",
           "linecolor": "white",
           "ticks": "",
           "title": {
            "standoff": 15
           },
           "zerolinecolor": "white",
           "zerolinewidth": 2
          },
          "yaxis": {
           "automargin": true,
           "gridcolor": "white",
           "linecolor": "white",
           "ticks": "",
           "title": {
            "standoff": 15
           },
           "zerolinecolor": "white",
           "zerolinewidth": 2
          }
         }
        },
        "title": {
         "font": {
          "color": "#4D5663"
         },
         "text": "Reading Percent vs Read Ratio by Publication"
        },
        "xaxis": {
         "gridcolor": "#E1E5ED",
         "showgrid": true,
         "tickfont": {
          "color": "#4D5663"
         },
         "title": {
          "font": {
           "color": "#4D5663"
          },
          "text": "Read Time"
         },
         "zerolinecolor": "#E1E5ED"
        },
        "yaxis": {
         "gridcolor": "#E1E5ED",
         "showgrid": true,
         "tickfont": {
          "color": "#4D5663"
         },
         "title": {
          "font": {
           "color": "#4D5663"
          },
          "text": "Reading Percent"
         },
         "zerolinecolor": "#E1E5ED"
        }
       }
      },
      "text/html": [
       "<div>                            <div id=\"bc52bf35-9eb8-47fd-b482-3832dcfce954\" class=\"plotly-graph-div\" style=\"height:525px; width:100%;\"></div>            <script type=\"text/javascript\">                require([\"plotly\"], function(Plotly) {                    window.PLOTLYENV=window.PLOTLYENV || {};\n",
       "                    window.PLOTLYENV.BASE_URL='https://plot.ly';                                    if (document.getElementById(\"bc52bf35-9eb8-47fd-b482-3832dcfce954\")) {                    Plotly.newPlot(                        \"bc52bf35-9eb8-47fd-b482-3832dcfce954\",                        [{\"marker\":{\"color\":\"rgba(255, 153, 51, 1.0)\",\"line\":{\"width\":1.3},\"opacity\":0.8,\"size\":12,\"symbol\":\"circle\"},\"mode\":\"markers\",\"name\":\"None\",\"textfont\":{\"color\":\"#4D5663\"},\"type\":\"scatter\",\"x\":[7,14,42,9,14,47,14,12,7,17,38,43,31,12,29,27,6,31,6,24,8,11,9,19,5,6,6,7,3,6,8,8,8,54,13,35,24,43,14,43,27],\"y\":[41.98,32.93,20.19,35.85,8.77,19.28,17.64,23.55,33.33,23.44,14.07,12.24,18.62,27.78,11.87,11.57,28.87,15.38,53.03,13.2,65.71,42.03,36.42,42.81,34.43,41.89,54.29,28.68,58.15,47.01,35.38,24.31,39.28,11.79,33.33,12.38,25.0,9.52,27.82,6.06,19.16]},{\"marker\":{\"color\":\"rgba(55, 128, 191, 1.0)\",\"line\":{\"width\":1.3},\"opacity\":0.8,\"size\":12,\"symbol\":\"circle\"},\"mode\":\"markers\",\"name\":\"Towards Data Science\",\"textfont\":{\"color\":\"#4D5663\"},\"type\":\"scatter\",\"x\":[21,17,15,11,12,14,11,5,12,6,4,6,11,6,10,3,6,12,9,8,4,11,9,11,10,11,10,8,10,12,12,7,3,15,13,11,9,12,11,20,10,14,9,18,15,6,11,8,10,3,17,15,1,16,10,15,5,8,17,8,13,10,11,6,15,9,6,8,9,7,6,15,12,8,5,7,9,5,8,12],\"y\":[17.68,22.76,28.64,31.53,23.99,25.02,26.48,62.02,31.14,35.91,54.9,41.91,30.74,47.3,29.82,62.61,43.21,28.8,32.28,42.88,43.51,20.4,22.68,36.49,36.98,27.17,33.18,31.37,33.73,30.79,26.51,31.56,63.3,18.85,20.65,23.58,25.07,23.81,21.75,16.88,25.47,21.64,26.89,14.38,18.08,43.19,24.69,33.16,26.89,44.17,16.73,19.29,74.53,17.44,26.93,18.99,40.82,18.85,18.21,27.13,19.84,23.81,28.56,40.39,17.22,24.27,38.53,21.47,21.47,30.31,34.19,17.72,21.96,19.31,45.8,22.04,29.3,30.11,30.59,20.47]},{\"marker\":{\"color\":\"rgba(50, 171, 96, 1.0)\",\"line\":{\"width\":1.3},\"opacity\":0.8,\"size\":12,\"symbol\":\"circle\"},\"mode\":\"markers\",\"name\":\"Engineering @ Feature Labs\",\"textfont\":{\"color\":\"#4D5663\"},\"type\":\"scatter\",\"x\":[9],\"y\":[27.28]},{\"marker\":{\"color\":\"rgba(128, 0, 128, 1.0)\",\"line\":{\"width\":1.3},\"opacity\":0.8,\"size\":12,\"symbol\":\"circle\"},\"mode\":\"markers\",\"name\":\"Noteworthy - The Journal Blog\",\"textfont\":{\"color\":\"#4D5663\"},\"type\":\"scatter\",\"x\":[9],\"y\":[26.21]},{\"marker\":{\"color\":\"rgba(219, 64, 82, 1.0)\",\"line\":{\"width\":1.3},\"opacity\":0.8,\"size\":12,\"symbol\":\"circle\"},\"mode\":\"markers\",\"name\":\"The Reality Project\",\"textfont\":{\"color\":\"#4D5663\"},\"type\":\"scatter\",\"x\":[6,10,15],\"y\":[39.23,28.75,21.22]}],                        {\"legend\":{\"bgcolor\":\"#F5F6F9\",\"font\":{\"color\":\"#4D5663\"}},\"paper_bgcolor\":\"#F5F6F9\",\"plot_bgcolor\":\"#F5F6F9\",\"template\":{\"data\":{\"bar\":[{\"error_x\":{\"color\":\"#2a3f5f\"},\"error_y\":{\"color\":\"#2a3f5f\"},\"marker\":{\"line\":{\"color\":\"#E5ECF6\",\"width\":0.5},\"pattern\":{\"fillmode\":\"overlay\",\"size\":10,\"solidity\":0.2}},\"type\":\"bar\"}],\"barpolar\":[{\"marker\":{\"line\":{\"color\":\"#E5ECF6\",\"width\":0.5},\"pattern\":{\"fillmode\":\"overlay\",\"size\":10,\"solidity\":0.2}},\"type\":\"barpolar\"}],\"carpet\":[{\"aaxis\":{\"endlinecolor\":\"#2a3f5f\",\"gridcolor\":\"white\",\"linecolor\":\"white\",\"minorgridcolor\":\"white\",\"startlinecolor\":\"#2a3f5f\"},\"baxis\":{\"endlinecolor\":\"#2a3f5f\",\"gridcolor\":\"white\",\"linecolor\":\"white\",\"minorgridcolor\":\"white\",\"startlinecolor\":\"#2a3f5f\"},\"type\":\"carpet\"}],\"choropleth\":[{\"colorbar\":{\"outlinewidth\":0,\"ticks\":\"\"},\"type\":\"choropleth\"}],\"contour\":[{\"colorbar\":{\"outlinewidth\":0,\"ticks\":\"\"},\"colorscale\":[[0.0,\"#0d0887\"],[0.1111111111111111,\"#46039f\"],[0.2222222222222222,\"#7201a8\"],[0.3333333333333333,\"#9c179e\"],[0.4444444444444444,\"#bd3786\"],[0.5555555555555556,\"#d8576b\"],[0.6666666666666666,\"#ed7953\"],[0.7777777777777778,\"#fb9f3a\"],[0.8888888888888888,\"#fdca26\"],[1.0,\"#f0f921\"]],\"type\":\"contour\"}],\"contourcarpet\":[{\"colorbar\":{\"outlinewidth\":0,\"ticks\":\"\"},\"type\":\"contourcarpet\"}],\"heatmap\":[{\"colorbar\":{\"outlinewidth\":0,\"ticks\":\"\"},\"colorscale\":[[0.0,\"#0d0887\"],[0.1111111111111111,\"#46039f\"],[0.2222222222222222,\"#7201a8\"],[0.3333333333333333,\"#9c179e\"],[0.4444444444444444,\"#bd3786\"],[0.5555555555555556,\"#d8576b\"],[0.6666666666666666,\"#ed7953\"],[0.7777777777777778,\"#fb9f3a\"],[0.8888888888888888,\"#fdca26\"],[1.0,\"#f0f921\"]],\"type\":\"heatmap\"}],\"heatmapgl\":[{\"colorbar\":{\"outlinewidth\":0,\"ticks\":\"\"},\"colorscale\":[[0.0,\"#0d0887\"],[0.1111111111111111,\"#46039f\"],[0.2222222222222222,\"#7201a8\"],[0.3333333333333333,\"#9c179e\"],[0.4444444444444444,\"#bd3786\"],[0.5555555555555556,\"#d8576b\"],[0.6666666666666666,\"#ed7953\"],[0.7777777777777778,\"#fb9f3a\"],[0.8888888888888888,\"#fdca26\"],[1.0,\"#f0f921\"]],\"type\":\"heatmapgl\"}],\"histogram\":[{\"marker\":{\"pattern\":{\"fillmode\":\"overlay\",\"size\":10,\"solidity\":0.2}},\"type\":\"histogram\"}],\"histogram2d\":[{\"colorbar\":{\"outlinewidth\":0,\"ticks\":\"\"},\"colorscale\":[[0.0,\"#0d0887\"],[0.1111111111111111,\"#46039f\"],[0.2222222222222222,\"#7201a8\"],[0.3333333333333333,\"#9c179e\"],[0.4444444444444444,\"#bd3786\"],[0.5555555555555556,\"#d8576b\"],[0.6666666666666666,\"#ed7953\"],[0.7777777777777778,\"#fb9f3a\"],[0.8888888888888888,\"#fdca26\"],[1.0,\"#f0f921\"]],\"type\":\"histogram2d\"}],\"histogram2dcontour\":[{\"colorbar\":{\"outlinewidth\":0,\"ticks\":\"\"},\"colorscale\":[[0.0,\"#0d0887\"],[0.1111111111111111,\"#46039f\"],[0.2222222222222222,\"#7201a8\"],[0.3333333333333333,\"#9c179e\"],[0.4444444444444444,\"#bd3786\"],[0.5555555555555556,\"#d8576b\"],[0.6666666666666666,\"#ed7953\"],[0.7777777777777778,\"#fb9f3a\"],[0.8888888888888888,\"#fdca26\"],[1.0,\"#f0f921\"]],\"type\":\"histogram2dcontour\"}],\"mesh3d\":[{\"colorbar\":{\"outlinewidth\":0,\"ticks\":\"\"},\"type\":\"mesh3d\"}],\"parcoords\":[{\"line\":{\"colorbar\":{\"outlinewidth\":0,\"ticks\":\"\"}},\"type\":\"parcoords\"}],\"pie\":[{\"automargin\":true,\"type\":\"pie\"}],\"scatter\":[{\"marker\":{\"colorbar\":{\"outlinewidth\":0,\"ticks\":\"\"}},\"type\":\"scatter\"}],\"scatter3d\":[{\"line\":{\"colorbar\":{\"outlinewidth\":0,\"ticks\":\"\"}},\"marker\":{\"colorbar\":{\"outlinewidth\":0,\"ticks\":\"\"}},\"type\":\"scatter3d\"}],\"scattercarpet\":[{\"marker\":{\"colorbar\":{\"outlinewidth\":0,\"ticks\":\"\"}},\"type\":\"scattercarpet\"}],\"scattergeo\":[{\"marker\":{\"colorbar\":{\"outlinewidth\":0,\"ticks\":\"\"}},\"type\":\"scattergeo\"}],\"scattergl\":[{\"marker\":{\"colorbar\":{\"outlinewidth\":0,\"ticks\":\"\"}},\"type\":\"scattergl\"}],\"scattermapbox\":[{\"marker\":{\"colorbar\":{\"outlinewidth\":0,\"ticks\":\"\"}},\"type\":\"scattermapbox\"}],\"scatterpolar\":[{\"marker\":{\"colorbar\":{\"outlinewidth\":0,\"ticks\":\"\"}},\"type\":\"scatterpolar\"}],\"scatterpolargl\":[{\"marker\":{\"colorbar\":{\"outlinewidth\":0,\"ticks\":\"\"}},\"type\":\"scatterpolargl\"}],\"scatterternary\":[{\"marker\":{\"colorbar\":{\"outlinewidth\":0,\"ticks\":\"\"}},\"type\":\"scatterternary\"}],\"surface\":[{\"colorbar\":{\"outlinewidth\":0,\"ticks\":\"\"},\"colorscale\":[[0.0,\"#0d0887\"],[0.1111111111111111,\"#46039f\"],[0.2222222222222222,\"#7201a8\"],[0.3333333333333333,\"#9c179e\"],[0.4444444444444444,\"#bd3786\"],[0.5555555555555556,\"#d8576b\"],[0.6666666666666666,\"#ed7953\"],[0.7777777777777778,\"#fb9f3a\"],[0.8888888888888888,\"#fdca26\"],[1.0,\"#f0f921\"]],\"type\":\"surface\"}],\"table\":[{\"cells\":{\"fill\":{\"color\":\"#EBF0F8\"},\"line\":{\"color\":\"white\"}},\"header\":{\"fill\":{\"color\":\"#C8D4E3\"},\"line\":{\"color\":\"white\"}},\"type\":\"table\"}]},\"layout\":{\"annotationdefaults\":{\"arrowcolor\":\"#2a3f5f\",\"arrowhead\":0,\"arrowwidth\":1},\"autotypenumbers\":\"strict\",\"coloraxis\":{\"colorbar\":{\"outlinewidth\":0,\"ticks\":\"\"}},\"colorscale\":{\"diverging\":[[0,\"#8e0152\"],[0.1,\"#c51b7d\"],[0.2,\"#de77ae\"],[0.3,\"#f1b6da\"],[0.4,\"#fde0ef\"],[0.5,\"#f7f7f7\"],[0.6,\"#e6f5d0\"],[0.7,\"#b8e186\"],[0.8,\"#7fbc41\"],[0.9,\"#4d9221\"],[1,\"#276419\"]],\"sequential\":[[0.0,\"#0d0887\"],[0.1111111111111111,\"#46039f\"],[0.2222222222222222,\"#7201a8\"],[0.3333333333333333,\"#9c179e\"],[0.4444444444444444,\"#bd3786\"],[0.5555555555555556,\"#d8576b\"],[0.6666666666666666,\"#ed7953\"],[0.7777777777777778,\"#fb9f3a\"],[0.8888888888888888,\"#fdca26\"],[1.0,\"#f0f921\"]],\"sequentialminus\":[[0.0,\"#0d0887\"],[0.1111111111111111,\"#46039f\"],[0.2222222222222222,\"#7201a8\"],[0.3333333333333333,\"#9c179e\"],[0.4444444444444444,\"#bd3786\"],[0.5555555555555556,\"#d8576b\"],[0.6666666666666666,\"#ed7953\"],[0.7777777777777778,\"#fb9f3a\"],[0.8888888888888888,\"#fdca26\"],[1.0,\"#f0f921\"]]},\"colorway\":[\"#636efa\",\"#EF553B\",\"#00cc96\",\"#ab63fa\",\"#FFA15A\",\"#19d3f3\",\"#FF6692\",\"#B6E880\",\"#FF97FF\",\"#FECB52\"],\"font\":{\"color\":\"#2a3f5f\"},\"geo\":{\"bgcolor\":\"white\",\"lakecolor\":\"white\",\"landcolor\":\"#E5ECF6\",\"showlakes\":true,\"showland\":true,\"subunitcolor\":\"white\"},\"hoverlabel\":{\"align\":\"left\"},\"hovermode\":\"closest\",\"mapbox\":{\"style\":\"light\"},\"paper_bgcolor\":\"white\",\"plot_bgcolor\":\"#E5ECF6\",\"polar\":{\"angularaxis\":{\"gridcolor\":\"white\",\"linecolor\":\"white\",\"ticks\":\"\"},\"bgcolor\":\"#E5ECF6\",\"radialaxis\":{\"gridcolor\":\"white\",\"linecolor\":\"white\",\"ticks\":\"\"}},\"scene\":{\"xaxis\":{\"backgroundcolor\":\"#E5ECF6\",\"gridcolor\":\"white\",\"gridwidth\":2,\"linecolor\":\"white\",\"showbackground\":true,\"ticks\":\"\",\"zerolinecolor\":\"white\"},\"yaxis\":{\"backgroundcolor\":\"#E5ECF6\",\"gridcolor\":\"white\",\"gridwidth\":2,\"linecolor\":\"white\",\"showbackground\":true,\"ticks\":\"\",\"zerolinecolor\":\"white\"},\"zaxis\":{\"backgroundcolor\":\"#E5ECF6\",\"gridcolor\":\"white\",\"gridwidth\":2,\"linecolor\":\"white\",\"showbackground\":true,\"ticks\":\"\",\"zerolinecolor\":\"white\"}},\"shapedefaults\":{\"line\":{\"color\":\"#2a3f5f\"}},\"ternary\":{\"aaxis\":{\"gridcolor\":\"white\",\"linecolor\":\"white\",\"ticks\":\"\"},\"baxis\":{\"gridcolor\":\"white\",\"linecolor\":\"white\",\"ticks\":\"\"},\"bgcolor\":\"#E5ECF6\",\"caxis\":{\"gridcolor\":\"white\",\"linecolor\":\"white\",\"ticks\":\"\"}},\"title\":{\"x\":0.05},\"xaxis\":{\"automargin\":true,\"gridcolor\":\"white\",\"linecolor\":\"white\",\"ticks\":\"\",\"title\":{\"standoff\":15},\"zerolinecolor\":\"white\",\"zerolinewidth\":2},\"yaxis\":{\"automargin\":true,\"gridcolor\":\"white\",\"linecolor\":\"white\",\"ticks\":\"\",\"title\":{\"standoff\":15},\"zerolinecolor\":\"white\",\"zerolinewidth\":2}}},\"title\":{\"font\":{\"color\":\"#4D5663\"},\"text\":\"Reading Percent vs Read Ratio by Publication\"},\"xaxis\":{\"gridcolor\":\"#E1E5ED\",\"showgrid\":true,\"tickfont\":{\"color\":\"#4D5663\"},\"title\":{\"font\":{\"color\":\"#4D5663\"},\"text\":\"Read Time\"},\"zerolinecolor\":\"#E1E5ED\"},\"yaxis\":{\"gridcolor\":\"#E1E5ED\",\"showgrid\":true,\"tickfont\":{\"color\":\"#4D5663\"},\"title\":{\"font\":{\"color\":\"#4D5663\"},\"text\":\"Reading Percent\"},\"zerolinecolor\":\"#E1E5ED\"}},                        {\"showLink\": true, \"linkText\": \"Export to plot.ly\", \"plotlyServerURL\": \"https://plot.ly\", \"responsive\": true}                    ).then(function(){\n",
       "                            \n",
       "var gd = document.getElementById('bc52bf35-9eb8-47fd-b482-3832dcfce954');\n",
       "var x = new MutationObserver(function (mutations, observer) {{\n",
       "        var display = window.getComputedStyle(gd).display;\n",
       "        if (!display || display === 'none') {{\n",
       "            console.log([gd, 'removed!']);\n",
       "            Plotly.purge(gd);\n",
       "            observer.disconnect();\n",
       "        }}\n",
       "}});\n",
       "\n",
       "// Listen for the removal of the full notebook cells\n",
       "var notebookContainer = gd.closest('#notebook-container');\n",
       "if (notebookContainer) {{\n",
       "    x.observe(notebookContainer, {childList: true});\n",
       "}}\n",
       "\n",
       "// Listen for the clearing of the current output cell\n",
       "var outputEl = gd.closest('.output');\n",
       "if (outputEl) {{\n",
       "    x.observe(outputEl, {childList: true});\n",
       "}}\n",
       "\n",
       "                        })                };                });            </script>        </div>"
      ]
     },
     "metadata": {},
     "output_type": "display_data"
    }
   ],
   "source": [
    "#For a two-variable scatter plot colored by a third categorical variable we use:\n",
    "df.iplot(x='read_time', y='read_ratio',\n",
    "    # Specify the category\n",
    "    categories='publication',\n",
    "    xTitle='Read Time', yTitle='Reading Percent', title='Reading Percent vs Read Ratio by Publication')"
   ]
  },
  {
   "cell_type": "code",
   "execution_count": 64,
   "id": "a35b7074",
   "metadata": {},
   "outputs": [
    {
     "data": {
      "application/vnd.plotly.v1+json": {
       "config": {
        "linkText": "Export to plot.ly",
        "plotlyServerURL": "https://plot.ly",
        "showLink": true
       },
       "data": [
        {
         "line": {
          "color": "rgba(255, 153, 51, 1.0)",
          "dash": "solid",
          "shape": "linear",
          "width": 1.3
         },
         "marker": {
          "size": [
           17.68,
           22.76,
           28.64,
           31.53,
           23.99,
           25.02,
           26.48,
           62.02,
           31.14,
           35.91,
           54.9,
           41.91,
           30.74,
           47.3,
           29.82,
           62.61,
           43.21,
           28.8,
           32.28,
           42.88,
           43.51,
           20.4,
           22.68,
           36.49,
           36.98,
           27.17,
           33.18,
           31.37,
           33.73,
           30.79,
           26.51,
           31.56,
           63.3,
           18.85,
           20.65,
           23.58,
           25.07,
           23.81,
           21.75,
           16.88,
           25.47,
           21.64,
           26.89,
           14.38,
           18.08,
           43.19,
           24.69,
           33.16,
           26.89,
           44.17,
           16.73,
           19.29,
           74.53,
           17.44,
           26.93,
           18.99,
           40.82,
           18.85,
           18.21,
           27.13,
           19.84,
           23.81,
           28.56,
           40.39,
           17.22,
           24.27,
           38.53,
           21.47,
           21.47,
           30.31,
           34.19,
           17.72,
           21.96,
           19.31,
           45.8,
           22.04,
           29.3,
           30.11,
           30.59,
           20.47
          ],
          "symbol": "circle"
         },
         "mode": "markers",
         "name": "reads",
         "text": [
          "Title: Random Forest in Python <br> Ratio: 17.68%",
          "Title: Improving the Random Forest in Python Part 1 <br> Ratio: 22.76%",
          "Title: Data Science: A Personal Application <br> Ratio: 28.64%",
          "Title: A Theory of Prediction <br> Ratio: 31.53%",
          "Title: Hyperparameter Tuning the Random Forest in Python <br> Ratio: 23.99%",
          "Title: Time Series Analysis in Python: An Introduction <br> Ratio: 25.02%",
          "Title: Stock Analysis in Python <br> Ratio: 26.48%",
          "Title: A Review of the Coursera Machine Learning Specialization <br> Ratio: 62.02%",
          "Title: Stock Prediction in Python <br> Ratio: 31.14%",
          "Title: Correlation vs. Causation: An Example <br> Ratio: 35.91%",
          "Title: Learn By Sharing <br> Ratio: 54.90%",
          "Title: Overfitting vs. Underfitting: A Conceptual Explanation <br> Ratio: 41.91%",
          "Title: Overfitting vs. Underfitting: A Complete Example <br> Ratio: 30.74%",
          "Title: How to Master New Skills <br> Ratio: 47.30%",
          "Title: Statistical Significance Explained <br> Ratio: 29.82%",
          "Title: Python is the Perfect Tool for any Problem <br> Ratio: 62.61%",
          "Title: The Misleading Effect of Noise: The Multiple Comparisons Problem <br> Ratio: 43.21%",
          "Title: Markov Chain Monte Carlo in Python <br> Ratio: 28.80%",
          "Title: Bayes’ Rule Applied <br> Ratio: 32.28%",
          "Title: Data Visualization Hackathon Style <br> Ratio: 42.88%",
          "Title: Unintended Consequences and Goodhart’s Law <br> Ratio: 43.51%",
          "Title: Beyond Accuracy: Precision and Recall <br> Ratio: 20.40%",
          "Title: Controlling the Web with Python <br> Ratio: 22.68%",
          "Title: Data Visualization with Bokeh in Python, Part I: Getting Started <br> Ratio: 36.49%",
          "Title: Data Visualization with Bokeh in Python, Part II: Interactions <br> Ratio: 36.98%",
          "Title: Histograms and Density Plots in Python <br> Ratio: 27.17%",
          "Title: Data Visualization with Bokeh in Python, Part III: Making a Complete Dashboard <br> Ratio: 33.18%",
          "Title: Visualizing Data with Pairs Plots in Python <br> Ratio: 31.37%",
          "Title: Introduction to Bayesian Linear Regression <br> Ratio: 33.73%",
          "Title: Bayesian Linear Regression in Python: Using Machine Learning to Predict Student Grades Part 1 <br> Ratio: 30.79%",
          "Title: Bayesian Linear Regression in Python: Using Machine Learning to Predict Student Grades Part 2 <br> Ratio: 26.51%",
          "Title: Web Scraping, Regular Expressions, and Data Visualization: Doing it all in Python <br> Ratio: 31.56%",
          "Title: If your files are saved only on your laptop they might as well not exist! <br> Ratio: 63.30%",
          "Title: A Complete Machine Learning Project Walk-Through in Python: Part One <br> Ratio: 18.85%",
          "Title: A Complete Machine Learning Walk-Through in Python: Part Two <br> Ratio: 20.65%",
          "Title: A Complete Machine Learning Walk-Through in Python: Part Three <br> Ratio: 23.58%",
          "Title: Automated Machine Learning on the Cloud in Python <br> Ratio: 25.07%",
          "Title: Machine Learning Kaggle Competition Part One: Getting Started <br> Ratio: 23.81%",
          "Title: Automated Feature Engineering in Python <br> Ratio: 21.75%",
          "Title: Machine Learning Kaggle Competition Part Two: Improving <br> Ratio: 16.88%",
          "Title: A Feature Selection Tool for Machine Learning in Python <br> Ratio: 25.47%",
          "Title: A Conceptual Explanation of Bayesian Hyperparameter Optimization for Machine Learning <br> Ratio: 21.64%",
          "Title: An Introductory Example of Bayesian Optimization in Python with Hyperopt <br> Ratio: 26.89%",
          "Title: Automated Machine Learning Hyperparameter Tuning in Python <br> Ratio: 14.38%",
          "Title: Machine Learning Kaggle Competition: Part Three Optimization <br> Ratio: 18.08%",
          "Title: How to get the right data? Trying asking for it. <br> Ratio: 43.19%",
          "Title: Why Automated Feature Engineering Will Change the Way You Do Machine Learning <br> Ratio: 24.69%",
          "Title: The most important part of a data science project is writing a blog post <br> Ratio: 33.16%",
          "Title: Parallelizing Feature Engineering with Dask <br> Ratio: 26.89%",
          "Title: How to Visualize a Decision Tree from a Random Forest in Python using Scikit-Learn <br> Ratio: 44.17%",
          "Title: A “Data Science for Good“ Machine Learning Project Walk-Through in Python: Part One <br> Ratio: 16.73%",
          "Title: A “Data Science for Good” Machine Learning Project Walk-Through in Python: Part Two <br> Ratio: 19.29%",
          "Title: How to Put Fully Interactive, Runnable Code in a Medium Post <br> Ratio: 74.53%",
          "Title: An Implementation and Explanation of the Random Forest in Python <br> Ratio: 17.44%",
          "Title: Practical Advice for Data Science Writing <br> Ratio: 26.93%",
          "Title: Another Machine Learning Walk-Through and a Challenge <br> Ratio: 18.99%",
          "Title: Five Minutes to Your Own Website <br> Ratio: 40.82%",
          "Title: Converting Medium Posts to Markdown for Your Blog <br> Ratio: 18.85%",
          "Title: Wikipedia Data Science: Working with the World’s Largest Encyclopedia <br> Ratio: 18.21%",
          "Title: Neural Network Embeddings Explained <br> Ratio: 27.13%",
          "Title: Building a Recommendation System Using Neural Network Embeddings <br> Ratio: 19.84%",
          "Title: Simpson’s Paradox: How to Prove Opposite Arguments with the Same Data <br> Ratio: 23.81%",
          "Title: My Weaknesses as a Data Scientist <br> Ratio: 28.56%",
          "Title: Overcome Your Biases with Data <br> Ratio: 40.39%",
          "Title: Recurrent Neural Networks by Example in Python <br> Ratio: 17.22%",
          "Title: Prediction Engineering: How to Set Up Your Machine Learning Problem <br> Ratio: 24.27%",
          "Title: How to Create Value with Machine Learning <br> Ratio: 38.53%",
          "Title: Feature Engineering: What Powers Machine Learning <br> Ratio: 21.47%",
          "Title: Modeling: Teaching a Machine Learning Algorithm to Deliver Business Value <br> Ratio: 21.47%",
          "Title: Deploying a Keras Deep Learning Model as a Web Application in Python <br> Ratio: 30.31%",
          "Title: Deploying a Python Web App on AWS <br> Ratio: 34.19%",
          "Title: Transfer Learning with Convolutional Neural Networks in PyTorch <br> Ratio: 17.72%",
          "Title: Estimating Probabilities with Bayesian Modeling in Python <br> Ratio: 21.96%",
          "Title: Python and Slack: A Natural Match <br> Ratio: 19.31%",
          "Title: Jupyter Notebook Extensions <br> Ratio: 45.80%",
          "Title: How to Write a Jupyter Notebook Extension <br> Ratio: 22.04%",
          "Title: Introduction to Interactive Time Series Visualizations with Plotly in Python <br> Ratio: 29.30%",
          "Title: Docker for Data Science Without the Hassle <br> Ratio: 30.11%",
          "Title: The Copernican Principle and How to Use Statistics to Figure Out How Long Anything Will Last <br> Ratio: 30.59%",
          "Title: Data Science with Medium Story Stats in Python <br> Ratio: 20.47%"
         ],
         "type": "scatter",
         "x": [
          4494,
          3504,
          3569,
          2817,
          2456,
          2974,
          2395,
          1169,
          2528,
          1361,
          1014,
          1562,
          2480,
          1281,
          2450,
          721,
          1375,
          2772,
          1944,
          1827,
          933,
          2565,
          1906,
          2394,
          2220,
          2614,
          2365,
          1577,
          2394,
          2690,
          2620,
          1480,
          765,
          3553,
          3106,
          2622,
          2338,
          2975,
          2648,
          5228,
          1998,
          3393,
          1957,
          4298,
          3718,
          1247,
          2634,
          2041,
          2343,
          373,
          3996,
          3834,
          163,
          4042,
          2658,
          3756,
          1172,
          1580,
          3756,
          1809,
          2999,
          2483,
          2933,
          1346,
          3797,
          1979,
          1286,
          1741,
          2230,
          1561,
          1355,
          3398,
          2824,
          1397,
          877,
          1310,
          1806,
          1075,
          1898,
          2813
         ],
         "y": [
          28566,
          7207,
          775,
          740,
          25505,
          31233,
          20520,
          2992,
          39505,
          6843,
          2197,
          6670,
          9998,
          7157,
          14073,
          29814,
          1283,
          15598,
          10996,
          1986,
          5588,
          23894,
          13463,
          19090,
          10385,
          29018,
          17454,
          14349,
          18525,
          6416,
          6279,
          20976,
          1497,
          22780,
          9244,
          6187,
          8268,
          10011,
          23922,
          1801,
          19464,
          5163,
          8029,
          6162,
          965,
          1745,
          5944,
          5500,
          1057,
          11093,
          7132,
          1193,
          1229,
          2237,
          3950,
          4598,
          1472,
          306,
          4307,
          7162,
          1251,
          3041,
          9333,
          1282,
          5335,
          1223,
          2408,
          1122,
          1704,
          8110,
          4933,
          1438,
          4680,
          4260,
          10617,
          1055,
          2852,
          1598,
          521,
          457
         ]
        }
       ],
       "layout": {
        "template": {
         "data": {
          "bar": [
           {
            "error_x": {
             "color": "#2a3f5f"
            },
            "error_y": {
             "color": "#2a3f5f"
            },
            "marker": {
             "line": {
              "color": "#E5ECF6",
              "width": 0.5
             },
             "pattern": {
              "fillmode": "overlay",
              "size": 10,
              "solidity": 0.2
             }
            },
            "type": "bar"
           }
          ],
          "barpolar": [
           {
            "marker": {
             "line": {
              "color": "#E5ECF6",
              "width": 0.5
             },
             "pattern": {
              "fillmode": "overlay",
              "size": 10,
              "solidity": 0.2
             }
            },
            "type": "barpolar"
           }
          ],
          "carpet": [
           {
            "aaxis": {
             "endlinecolor": "#2a3f5f",
             "gridcolor": "white",
             "linecolor": "white",
             "minorgridcolor": "white",
             "startlinecolor": "#2a3f5f"
            },
            "baxis": {
             "endlinecolor": "#2a3f5f",
             "gridcolor": "white",
             "linecolor": "white",
             "minorgridcolor": "white",
             "startlinecolor": "#2a3f5f"
            },
            "type": "carpet"
           }
          ],
          "choropleth": [
           {
            "colorbar": {
             "outlinewidth": 0,
             "ticks": ""
            },
            "type": "choropleth"
           }
          ],
          "contour": [
           {
            "colorbar": {
             "outlinewidth": 0,
             "ticks": ""
            },
            "colorscale": [
             [
              0,
              "#0d0887"
             ],
             [
              0.1111111111111111,
              "#46039f"
             ],
             [
              0.2222222222222222,
              "#7201a8"
             ],
             [
              0.3333333333333333,
              "#9c179e"
             ],
             [
              0.4444444444444444,
              "#bd3786"
             ],
             [
              0.5555555555555556,
              "#d8576b"
             ],
             [
              0.6666666666666666,
              "#ed7953"
             ],
             [
              0.7777777777777778,
              "#fb9f3a"
             ],
             [
              0.8888888888888888,
              "#fdca26"
             ],
             [
              1,
              "#f0f921"
             ]
            ],
            "type": "contour"
           }
          ],
          "contourcarpet": [
           {
            "colorbar": {
             "outlinewidth": 0,
             "ticks": ""
            },
            "type": "contourcarpet"
           }
          ],
          "heatmap": [
           {
            "colorbar": {
             "outlinewidth": 0,
             "ticks": ""
            },
            "colorscale": [
             [
              0,
              "#0d0887"
             ],
             [
              0.1111111111111111,
              "#46039f"
             ],
             [
              0.2222222222222222,
              "#7201a8"
             ],
             [
              0.3333333333333333,
              "#9c179e"
             ],
             [
              0.4444444444444444,
              "#bd3786"
             ],
             [
              0.5555555555555556,
              "#d8576b"
             ],
             [
              0.6666666666666666,
              "#ed7953"
             ],
             [
              0.7777777777777778,
              "#fb9f3a"
             ],
             [
              0.8888888888888888,
              "#fdca26"
             ],
             [
              1,
              "#f0f921"
             ]
            ],
            "type": "heatmap"
           }
          ],
          "heatmapgl": [
           {
            "colorbar": {
             "outlinewidth": 0,
             "ticks": ""
            },
            "colorscale": [
             [
              0,
              "#0d0887"
             ],
             [
              0.1111111111111111,
              "#46039f"
             ],
             [
              0.2222222222222222,
              "#7201a8"
             ],
             [
              0.3333333333333333,
              "#9c179e"
             ],
             [
              0.4444444444444444,
              "#bd3786"
             ],
             [
              0.5555555555555556,
              "#d8576b"
             ],
             [
              0.6666666666666666,
              "#ed7953"
             ],
             [
              0.7777777777777778,
              "#fb9f3a"
             ],
             [
              0.8888888888888888,
              "#fdca26"
             ],
             [
              1,
              "#f0f921"
             ]
            ],
            "type": "heatmapgl"
           }
          ],
          "histogram": [
           {
            "marker": {
             "pattern": {
              "fillmode": "overlay",
              "size": 10,
              "solidity": 0.2
             }
            },
            "type": "histogram"
           }
          ],
          "histogram2d": [
           {
            "colorbar": {
             "outlinewidth": 0,
             "ticks": ""
            },
            "colorscale": [
             [
              0,
              "#0d0887"
             ],
             [
              0.1111111111111111,
              "#46039f"
             ],
             [
              0.2222222222222222,
              "#7201a8"
             ],
             [
              0.3333333333333333,
              "#9c179e"
             ],
             [
              0.4444444444444444,
              "#bd3786"
             ],
             [
              0.5555555555555556,
              "#d8576b"
             ],
             [
              0.6666666666666666,
              "#ed7953"
             ],
             [
              0.7777777777777778,
              "#fb9f3a"
             ],
             [
              0.8888888888888888,
              "#fdca26"
             ],
             [
              1,
              "#f0f921"
             ]
            ],
            "type": "histogram2d"
           }
          ],
          "histogram2dcontour": [
           {
            "colorbar": {
             "outlinewidth": 0,
             "ticks": ""
            },
            "colorscale": [
             [
              0,
              "#0d0887"
             ],
             [
              0.1111111111111111,
              "#46039f"
             ],
             [
              0.2222222222222222,
              "#7201a8"
             ],
             [
              0.3333333333333333,
              "#9c179e"
             ],
             [
              0.4444444444444444,
              "#bd3786"
             ],
             [
              0.5555555555555556,
              "#d8576b"
             ],
             [
              0.6666666666666666,
              "#ed7953"
             ],
             [
              0.7777777777777778,
              "#fb9f3a"
             ],
             [
              0.8888888888888888,
              "#fdca26"
             ],
             [
              1,
              "#f0f921"
             ]
            ],
            "type": "histogram2dcontour"
           }
          ],
          "mesh3d": [
           {
            "colorbar": {
             "outlinewidth": 0,
             "ticks": ""
            },
            "type": "mesh3d"
           }
          ],
          "parcoords": [
           {
            "line": {
             "colorbar": {
              "outlinewidth": 0,
              "ticks": ""
             }
            },
            "type": "parcoords"
           }
          ],
          "pie": [
           {
            "automargin": true,
            "type": "pie"
           }
          ],
          "scatter": [
           {
            "marker": {
             "colorbar": {
              "outlinewidth": 0,
              "ticks": ""
             }
            },
            "type": "scatter"
           }
          ],
          "scatter3d": [
           {
            "line": {
             "colorbar": {
              "outlinewidth": 0,
              "ticks": ""
             }
            },
            "marker": {
             "colorbar": {
              "outlinewidth": 0,
              "ticks": ""
             }
            },
            "type": "scatter3d"
           }
          ],
          "scattercarpet": [
           {
            "marker": {
             "colorbar": {
              "outlinewidth": 0,
              "ticks": ""
             }
            },
            "type": "scattercarpet"
           }
          ],
          "scattergeo": [
           {
            "marker": {
             "colorbar": {
              "outlinewidth": 0,
              "ticks": ""
             }
            },
            "type": "scattergeo"
           }
          ],
          "scattergl": [
           {
            "marker": {
             "colorbar": {
              "outlinewidth": 0,
              "ticks": ""
             }
            },
            "type": "scattergl"
           }
          ],
          "scattermapbox": [
           {
            "marker": {
             "colorbar": {
              "outlinewidth": 0,
              "ticks": ""
             }
            },
            "type": "scattermapbox"
           }
          ],
          "scatterpolar": [
           {
            "marker": {
             "colorbar": {
              "outlinewidth": 0,
              "ticks": ""
             }
            },
            "type": "scatterpolar"
           }
          ],
          "scatterpolargl": [
           {
            "marker": {
             "colorbar": {
              "outlinewidth": 0,
              "ticks": ""
             }
            },
            "type": "scatterpolargl"
           }
          ],
          "scatterternary": [
           {
            "marker": {
             "colorbar": {
              "outlinewidth": 0,
              "ticks": ""
             }
            },
            "type": "scatterternary"
           }
          ],
          "surface": [
           {
            "colorbar": {
             "outlinewidth": 0,
             "ticks": ""
            },
            "colorscale": [
             [
              0,
              "#0d0887"
             ],
             [
              0.1111111111111111,
              "#46039f"
             ],
             [
              0.2222222222222222,
              "#7201a8"
             ],
             [
              0.3333333333333333,
              "#9c179e"
             ],
             [
              0.4444444444444444,
              "#bd3786"
             ],
             [
              0.5555555555555556,
              "#d8576b"
             ],
             [
              0.6666666666666666,
              "#ed7953"
             ],
             [
              0.7777777777777778,
              "#fb9f3a"
             ],
             [
              0.8888888888888888,
              "#fdca26"
             ],
             [
              1,
              "#f0f921"
             ]
            ],
            "type": "surface"
           }
          ],
          "table": [
           {
            "cells": {
             "fill": {
              "color": "#EBF0F8"
             },
             "line": {
              "color": "white"
             }
            },
            "header": {
             "fill": {
              "color": "#C8D4E3"
             },
             "line": {
              "color": "white"
             }
            },
            "type": "table"
           }
          ]
         },
         "layout": {
          "annotationdefaults": {
           "arrowcolor": "#2a3f5f",
           "arrowhead": 0,
           "arrowwidth": 1
          },
          "autotypenumbers": "strict",
          "coloraxis": {
           "colorbar": {
            "outlinewidth": 0,
            "ticks": ""
           }
          },
          "colorscale": {
           "diverging": [
            [
             0,
             "#8e0152"
            ],
            [
             0.1,
             "#c51b7d"
            ],
            [
             0.2,
             "#de77ae"
            ],
            [
             0.3,
             "#f1b6da"
            ],
            [
             0.4,
             "#fde0ef"
            ],
            [
             0.5,
             "#f7f7f7"
            ],
            [
             0.6,
             "#e6f5d0"
            ],
            [
             0.7,
             "#b8e186"
            ],
            [
             0.8,
             "#7fbc41"
            ],
            [
             0.9,
             "#4d9221"
            ],
            [
             1,
             "#276419"
            ]
           ],
           "sequential": [
            [
             0,
             "#0d0887"
            ],
            [
             0.1111111111111111,
             "#46039f"
            ],
            [
             0.2222222222222222,
             "#7201a8"
            ],
            [
             0.3333333333333333,
             "#9c179e"
            ],
            [
             0.4444444444444444,
             "#bd3786"
            ],
            [
             0.5555555555555556,
             "#d8576b"
            ],
            [
             0.6666666666666666,
             "#ed7953"
            ],
            [
             0.7777777777777778,
             "#fb9f3a"
            ],
            [
             0.8888888888888888,
             "#fdca26"
            ],
            [
             1,
             "#f0f921"
            ]
           ],
           "sequentialminus": [
            [
             0,
             "#0d0887"
            ],
            [
             0.1111111111111111,
             "#46039f"
            ],
            [
             0.2222222222222222,
             "#7201a8"
            ],
            [
             0.3333333333333333,
             "#9c179e"
            ],
            [
             0.4444444444444444,
             "#bd3786"
            ],
            [
             0.5555555555555556,
             "#d8576b"
            ],
            [
             0.6666666666666666,
             "#ed7953"
            ],
            [
             0.7777777777777778,
             "#fb9f3a"
            ],
            [
             0.8888888888888888,
             "#fdca26"
            ],
            [
             1,
             "#f0f921"
            ]
           ]
          },
          "colorway": [
           "#636efa",
           "#EF553B",
           "#00cc96",
           "#ab63fa",
           "#FFA15A",
           "#19d3f3",
           "#FF6692",
           "#B6E880",
           "#FF97FF",
           "#FECB52"
          ],
          "font": {
           "color": "#2a3f5f"
          },
          "geo": {
           "bgcolor": "white",
           "lakecolor": "white",
           "landcolor": "#E5ECF6",
           "showlakes": true,
           "showland": true,
           "subunitcolor": "white"
          },
          "hoverlabel": {
           "align": "left"
          },
          "hovermode": "closest",
          "mapbox": {
           "style": "light"
          },
          "paper_bgcolor": "white",
          "plot_bgcolor": "#E5ECF6",
          "polar": {
           "angularaxis": {
            "gridcolor": "white",
            "linecolor": "white",
            "ticks": ""
           },
           "bgcolor": "#E5ECF6",
           "radialaxis": {
            "gridcolor": "white",
            "linecolor": "white",
            "ticks": ""
           }
          },
          "scene": {
           "xaxis": {
            "backgroundcolor": "#E5ECF6",
            "gridcolor": "white",
            "gridwidth": 2,
            "linecolor": "white",
            "showbackground": true,
            "ticks": "",
            "zerolinecolor": "white"
           },
           "yaxis": {
            "backgroundcolor": "#E5ECF6",
            "gridcolor": "white",
            "gridwidth": 2,
            "linecolor": "white",
            "showbackground": true,
            "ticks": "",
            "zerolinecolor": "white"
           },
           "zaxis": {
            "backgroundcolor": "#E5ECF6",
            "gridcolor": "white",
            "gridwidth": 2,
            "linecolor": "white",
            "showbackground": true,
            "ticks": "",
            "zerolinecolor": "white"
           }
          },
          "shapedefaults": {
           "line": {
            "color": "#2a3f5f"
           }
          },
          "ternary": {
           "aaxis": {
            "gridcolor": "white",
            "linecolor": "white",
            "ticks": ""
           },
           "baxis": {
            "gridcolor": "white",
            "linecolor": "white",
            "ticks": ""
           },
           "bgcolor": "#E5ECF6",
           "caxis": {
            "gridcolor": "white",
            "linecolor": "white",
            "ticks": ""
           }
          },
          "title": {
           "x": 0.05
          },
          "xaxis": {
           "automargin": true,
           "gridcolor": "white",
           "linecolor": "white",
           "ticks": "",
           "title": {
            "standoff": 15
           },
           "zerolinecolor": "white",
           "zerolinewidth": 2
          },
          "yaxis": {
           "automargin": true,
           "gridcolor": "white",
           "linecolor": "white",
           "ticks": "",
           "title": {
            "standoff": 15
           },
           "zerolinecolor": "white",
           "zerolinewidth": 2
          }
         }
        },
        "title": {
         "text": "Reads vs Log Word Count Sized by Read Ratio"
        },
        "xaxis": {
         "title": {
          "text": "Word Count"
         },
         "type": "log"
        },
        "yaxis": {
         "title": {
          "text": "Reads"
         }
        }
       }
      },
      "text/html": [
       "<div>                            <div id=\"64ab8a39-84e8-4941-a0ff-36c084d47a2d\" class=\"plotly-graph-div\" style=\"height:525px; width:100%;\"></div>            <script type=\"text/javascript\">                require([\"plotly\"], function(Plotly) {                    window.PLOTLYENV=window.PLOTLYENV || {};\n",
       "                    window.PLOTLYENV.BASE_URL='https://plot.ly';                                    if (document.getElementById(\"64ab8a39-84e8-4941-a0ff-36c084d47a2d\")) {                    Plotly.newPlot(                        \"64ab8a39-84e8-4941-a0ff-36c084d47a2d\",                        [{\"line\":{\"color\":\"rgba(255, 153, 51, 1.0)\",\"dash\":\"solid\",\"shape\":\"linear\",\"width\":1.3},\"marker\":{\"size\":[17.68,22.76,28.64,31.53,23.99,25.02,26.48,62.02,31.14,35.91,54.9,41.91,30.74,47.3,29.82,62.61,43.21,28.8,32.28,42.88,43.51,20.4,22.68,36.49,36.98,27.17,33.18,31.37,33.73,30.79,26.51,31.56,63.3,18.85,20.65,23.58,25.07,23.81,21.75,16.88,25.47,21.64,26.89,14.38,18.08,43.19,24.69,33.16,26.89,44.17,16.73,19.29,74.53,17.44,26.93,18.99,40.82,18.85,18.21,27.13,19.84,23.81,28.56,40.39,17.22,24.27,38.53,21.47,21.47,30.31,34.19,17.72,21.96,19.31,45.8,22.04,29.3,30.11,30.59,20.47],\"symbol\":\"circle\"},\"mode\":\"markers\",\"name\":\"reads\",\"text\":[\"Title: Random Forest in\\u00a0Python <br> Ratio: 17.68%\",\"Title: Improving the Random Forest in Python Part\\u00a01 <br> Ratio: 22.76%\",\"Title: Data Science: A Personal Application <br> Ratio: 28.64%\",\"Title: A Theory of Prediction <br> Ratio: 31.53%\",\"Title: Hyperparameter Tuning the Random Forest in\\u00a0Python <br> Ratio: 23.99%\",\"Title: Time Series Analysis in Python: An Introduction <br> Ratio: 25.02%\",\"Title: Stock Analysis in\\u00a0Python <br> Ratio: 26.48%\",\"Title: A Review of the Coursera Machine Learning Specialization <br> Ratio: 62.02%\",\"Title: Stock Prediction in\\u00a0Python <br> Ratio: 31.14%\",\"Title: Correlation vs. Causation: An\\u00a0Example <br> Ratio: 35.91%\",\"Title: Learn By\\u00a0Sharing <br> Ratio: 54.90%\",\"Title: Overfitting vs. Underfitting: A Conceptual Explanation <br> Ratio: 41.91%\",\"Title: Overfitting vs. Underfitting: A Complete\\u00a0Example <br> Ratio: 30.74%\",\"Title: How to Master New\\u00a0Skills <br> Ratio: 47.30%\",\"Title: Statistical Significance Explained <br> Ratio: 29.82%\",\"Title: Python is the Perfect Tool for any\\u00a0Problem <br> Ratio: 62.61%\",\"Title: The Misleading Effect of Noise: The Multiple Comparisons Problem <br> Ratio: 43.21%\",\"Title: Markov Chain Monte Carlo in\\u00a0Python <br> Ratio: 28.80%\",\"Title: Bayes\\u2019 Rule\\u00a0Applied <br> Ratio: 32.28%\",\"Title: Data Visualization Hackathon Style <br> Ratio: 42.88%\",\"Title: Unintended Consequences and Goodhart\\u2019s Law <br> Ratio: 43.51%\",\"Title: Beyond Accuracy: Precision and\\u00a0Recall <br> Ratio: 20.40%\",\"Title: Controlling the Web with\\u00a0Python <br> Ratio: 22.68%\",\"Title: Data Visualization with Bokeh in Python, Part I: Getting\\u00a0Started <br> Ratio: 36.49%\",\"Title: Data Visualization with Bokeh in Python, Part II: Interactions <br> Ratio: 36.98%\",\"Title: Histograms and Density Plots in\\u00a0Python <br> Ratio: 27.17%\",\"Title: Data Visualization with Bokeh in Python, Part III: Making a Complete Dashboard <br> Ratio: 33.18%\",\"Title: Visualizing Data with Pairs Plots in\\u00a0Python <br> Ratio: 31.37%\",\"Title: Introduction to Bayesian Linear Regression <br> Ratio: 33.73%\",\"Title: Bayesian Linear Regression in Python: Using Machine Learning to Predict Student Grades Part\\u00a01 <br> Ratio: 30.79%\",\"Title: Bayesian Linear Regression in Python: Using Machine Learning to Predict Student Grades Part\\u00a02 <br> Ratio: 26.51%\",\"Title: Web Scraping, Regular Expressions, and Data Visualization: Doing it all in\\u00a0Python <br> Ratio: 31.56%\",\"Title: If your files are saved only on your laptop they might as well not\\u00a0exist! <br> Ratio: 63.30%\",\"Title: A Complete Machine Learning Project Walk-Through in Python: Part\\u00a0One <br> Ratio: 18.85%\",\"Title: A Complete Machine Learning Walk-Through in Python: Part\\u00a0Two <br> Ratio: 20.65%\",\"Title: A Complete Machine Learning Walk-Through in Python: Part\\u00a0Three <br> Ratio: 23.58%\",\"Title: Automated Machine Learning on the Cloud in\\u00a0Python <br> Ratio: 25.07%\",\"Title: Machine Learning Kaggle Competition Part One: Getting\\u00a0Started <br> Ratio: 23.81%\",\"Title: Automated Feature Engineering in\\u00a0Python <br> Ratio: 21.75%\",\"Title: Machine Learning Kaggle Competition Part Two: Improving <br> Ratio: 16.88%\",\"Title: A Feature Selection Tool for Machine Learning in\\u00a0Python <br> Ratio: 25.47%\",\"Title: A Conceptual Explanation of Bayesian Hyperparameter Optimization for Machine\\u00a0Learning <br> Ratio: 21.64%\",\"Title: An Introductory Example of Bayesian Optimization in Python with\\u00a0Hyperopt <br> Ratio: 26.89%\",\"Title: Automated Machine Learning Hyperparameter Tuning in\\u00a0Python <br> Ratio: 14.38%\",\"Title: Machine Learning Kaggle Competition: Part Three Optimization <br> Ratio: 18.08%\",\"Title: How to get the right data? Trying asking for\\u00a0it. <br> Ratio: 43.19%\",\"Title: Why Automated Feature Engineering Will Change the Way You Do Machine\\u00a0Learning <br> Ratio: 24.69%\",\"Title: The most important part of a data science project is writing a blog\\u00a0post <br> Ratio: 33.16%\",\"Title: Parallelizing Feature Engineering with\\u00a0Dask <br> Ratio: 26.89%\",\"Title: How to Visualize a Decision Tree from a Random Forest in Python using Scikit-Learn <br> Ratio: 44.17%\",\"Title: A \\u201cData Science for Good\\u201c Machine Learning Project Walk-Through in Python: Part\\u00a0One <br> Ratio: 16.73%\",\"Title: A \\u201cData Science for Good\\u201d Machine Learning Project Walk-Through in Python: Part\\u00a0Two <br> Ratio: 19.29%\",\"Title: How to Put Fully Interactive, Runnable Code in a Medium\\u00a0Post <br> Ratio: 74.53%\",\"Title: An Implementation and Explanation of the Random Forest in\\u00a0Python <br> Ratio: 17.44%\",\"Title: Practical Advice for Data Science\\u00a0Writing <br> Ratio: 26.93%\",\"Title: Another Machine Learning Walk-Through and a Challenge <br> Ratio: 18.99%\",\"Title: Five Minutes to Your Own\\u00a0Website <br> Ratio: 40.82%\",\"Title: Converting Medium Posts to Markdown for Your\\u00a0Blog <br> Ratio: 18.85%\",\"Title: Wikipedia Data Science: Working with the World\\u2019s Largest Encyclopedia <br> Ratio: 18.21%\",\"Title: Neural Network Embeddings Explained <br> Ratio: 27.13%\",\"Title: Building a Recommendation System Using Neural Network Embeddings <br> Ratio: 19.84%\",\"Title: Simpson\\u2019s Paradox: How to Prove Opposite Arguments with the Same\\u00a0Data <br> Ratio: 23.81%\",\"Title: My Weaknesses as a Data Scientist <br> Ratio: 28.56%\",\"Title: Overcome Your Biases with\\u00a0Data <br> Ratio: 40.39%\",\"Title: Recurrent Neural Networks by Example in\\u00a0Python <br> Ratio: 17.22%\",\"Title: Prediction Engineering: How to Set Up Your Machine Learning\\u00a0Problem <br> Ratio: 24.27%\",\"Title: How to Create Value with Machine\\u00a0Learning <br> Ratio: 38.53%\",\"Title: Feature Engineering: What Powers Machine\\u00a0Learning <br> Ratio: 21.47%\",\"Title: Modeling: Teaching a Machine Learning Algorithm to Deliver Business\\u00a0Value <br> Ratio: 21.47%\",\"Title: Deploying a Keras Deep Learning Model as a Web Application in\\u00a0Python <br> Ratio: 30.31%\",\"Title: Deploying a Python Web App on\\u00a0AWS <br> Ratio: 34.19%\",\"Title: Transfer Learning with Convolutional Neural Networks in\\u00a0PyTorch <br> Ratio: 17.72%\",\"Title: Estimating Probabilities with Bayesian Modeling in\\u00a0Python <br> Ratio: 21.96%\",\"Title: Python and Slack: A Natural\\u00a0Match <br> Ratio: 19.31%\",\"Title: Jupyter Notebook Extensions <br> Ratio: 45.80%\",\"Title: How to Write a Jupyter Notebook Extension <br> Ratio: 22.04%\",\"Title: Introduction to Interactive Time Series Visualizations with Plotly in\\u00a0Python <br> Ratio: 29.30%\",\"Title: Docker for Data Science Without the\\u00a0Hassle <br> Ratio: 30.11%\",\"Title: The Copernican Principle and How to Use Statistics to Figure Out How Long Anything Will\\u00a0Last <br> Ratio: 30.59%\",\"Title: Data Science with Medium Story Stats in\\u00a0Python <br> Ratio: 20.47%\"],\"type\":\"scatter\",\"x\":[4494,3504,3569,2817,2456,2974,2395,1169,2528,1361,1014,1562,2480,1281,2450,721,1375,2772,1944,1827,933,2565,1906,2394,2220,2614,2365,1577,2394,2690,2620,1480,765,3553,3106,2622,2338,2975,2648,5228,1998,3393,1957,4298,3718,1247,2634,2041,2343,373,3996,3834,163,4042,2658,3756,1172,1580,3756,1809,2999,2483,2933,1346,3797,1979,1286,1741,2230,1561,1355,3398,2824,1397,877,1310,1806,1075,1898,2813],\"y\":[28566,7207,775,740,25505,31233,20520,2992,39505,6843,2197,6670,9998,7157,14073,29814,1283,15598,10996,1986,5588,23894,13463,19090,10385,29018,17454,14349,18525,6416,6279,20976,1497,22780,9244,6187,8268,10011,23922,1801,19464,5163,8029,6162,965,1745,5944,5500,1057,11093,7132,1193,1229,2237,3950,4598,1472,306,4307,7162,1251,3041,9333,1282,5335,1223,2408,1122,1704,8110,4933,1438,4680,4260,10617,1055,2852,1598,521,457]}],                        {\"template\":{\"data\":{\"bar\":[{\"error_x\":{\"color\":\"#2a3f5f\"},\"error_y\":{\"color\":\"#2a3f5f\"},\"marker\":{\"line\":{\"color\":\"#E5ECF6\",\"width\":0.5},\"pattern\":{\"fillmode\":\"overlay\",\"size\":10,\"solidity\":0.2}},\"type\":\"bar\"}],\"barpolar\":[{\"marker\":{\"line\":{\"color\":\"#E5ECF6\",\"width\":0.5},\"pattern\":{\"fillmode\":\"overlay\",\"size\":10,\"solidity\":0.2}},\"type\":\"barpolar\"}],\"carpet\":[{\"aaxis\":{\"endlinecolor\":\"#2a3f5f\",\"gridcolor\":\"white\",\"linecolor\":\"white\",\"minorgridcolor\":\"white\",\"startlinecolor\":\"#2a3f5f\"},\"baxis\":{\"endlinecolor\":\"#2a3f5f\",\"gridcolor\":\"white\",\"linecolor\":\"white\",\"minorgridcolor\":\"white\",\"startlinecolor\":\"#2a3f5f\"},\"type\":\"carpet\"}],\"choropleth\":[{\"colorbar\":{\"outlinewidth\":0,\"ticks\":\"\"},\"type\":\"choropleth\"}],\"contour\":[{\"colorbar\":{\"outlinewidth\":0,\"ticks\":\"\"},\"colorscale\":[[0.0,\"#0d0887\"],[0.1111111111111111,\"#46039f\"],[0.2222222222222222,\"#7201a8\"],[0.3333333333333333,\"#9c179e\"],[0.4444444444444444,\"#bd3786\"],[0.5555555555555556,\"#d8576b\"],[0.6666666666666666,\"#ed7953\"],[0.7777777777777778,\"#fb9f3a\"],[0.8888888888888888,\"#fdca26\"],[1.0,\"#f0f921\"]],\"type\":\"contour\"}],\"contourcarpet\":[{\"colorbar\":{\"outlinewidth\":0,\"ticks\":\"\"},\"type\":\"contourcarpet\"}],\"heatmap\":[{\"colorbar\":{\"outlinewidth\":0,\"ticks\":\"\"},\"colorscale\":[[0.0,\"#0d0887\"],[0.1111111111111111,\"#46039f\"],[0.2222222222222222,\"#7201a8\"],[0.3333333333333333,\"#9c179e\"],[0.4444444444444444,\"#bd3786\"],[0.5555555555555556,\"#d8576b\"],[0.6666666666666666,\"#ed7953\"],[0.7777777777777778,\"#fb9f3a\"],[0.8888888888888888,\"#fdca26\"],[1.0,\"#f0f921\"]],\"type\":\"heatmap\"}],\"heatmapgl\":[{\"colorbar\":{\"outlinewidth\":0,\"ticks\":\"\"},\"colorscale\":[[0.0,\"#0d0887\"],[0.1111111111111111,\"#46039f\"],[0.2222222222222222,\"#7201a8\"],[0.3333333333333333,\"#9c179e\"],[0.4444444444444444,\"#bd3786\"],[0.5555555555555556,\"#d8576b\"],[0.6666666666666666,\"#ed7953\"],[0.7777777777777778,\"#fb9f3a\"],[0.8888888888888888,\"#fdca26\"],[1.0,\"#f0f921\"]],\"type\":\"heatmapgl\"}],\"histogram\":[{\"marker\":{\"pattern\":{\"fillmode\":\"overlay\",\"size\":10,\"solidity\":0.2}},\"type\":\"histogram\"}],\"histogram2d\":[{\"colorbar\":{\"outlinewidth\":0,\"ticks\":\"\"},\"colorscale\":[[0.0,\"#0d0887\"],[0.1111111111111111,\"#46039f\"],[0.2222222222222222,\"#7201a8\"],[0.3333333333333333,\"#9c179e\"],[0.4444444444444444,\"#bd3786\"],[0.5555555555555556,\"#d8576b\"],[0.6666666666666666,\"#ed7953\"],[0.7777777777777778,\"#fb9f3a\"],[0.8888888888888888,\"#fdca26\"],[1.0,\"#f0f921\"]],\"type\":\"histogram2d\"}],\"histogram2dcontour\":[{\"colorbar\":{\"outlinewidth\":0,\"ticks\":\"\"},\"colorscale\":[[0.0,\"#0d0887\"],[0.1111111111111111,\"#46039f\"],[0.2222222222222222,\"#7201a8\"],[0.3333333333333333,\"#9c179e\"],[0.4444444444444444,\"#bd3786\"],[0.5555555555555556,\"#d8576b\"],[0.6666666666666666,\"#ed7953\"],[0.7777777777777778,\"#fb9f3a\"],[0.8888888888888888,\"#fdca26\"],[1.0,\"#f0f921\"]],\"type\":\"histogram2dcontour\"}],\"mesh3d\":[{\"colorbar\":{\"outlinewidth\":0,\"ticks\":\"\"},\"type\":\"mesh3d\"}],\"parcoords\":[{\"line\":{\"colorbar\":{\"outlinewidth\":0,\"ticks\":\"\"}},\"type\":\"parcoords\"}],\"pie\":[{\"automargin\":true,\"type\":\"pie\"}],\"scatter\":[{\"marker\":{\"colorbar\":{\"outlinewidth\":0,\"ticks\":\"\"}},\"type\":\"scatter\"}],\"scatter3d\":[{\"line\":{\"colorbar\":{\"outlinewidth\":0,\"ticks\":\"\"}},\"marker\":{\"colorbar\":{\"outlinewidth\":0,\"ticks\":\"\"}},\"type\":\"scatter3d\"}],\"scattercarpet\":[{\"marker\":{\"colorbar\":{\"outlinewidth\":0,\"ticks\":\"\"}},\"type\":\"scattercarpet\"}],\"scattergeo\":[{\"marker\":{\"colorbar\":{\"outlinewidth\":0,\"ticks\":\"\"}},\"type\":\"scattergeo\"}],\"scattergl\":[{\"marker\":{\"colorbar\":{\"outlinewidth\":0,\"ticks\":\"\"}},\"type\":\"scattergl\"}],\"scattermapbox\":[{\"marker\":{\"colorbar\":{\"outlinewidth\":0,\"ticks\":\"\"}},\"type\":\"scattermapbox\"}],\"scatterpolar\":[{\"marker\":{\"colorbar\":{\"outlinewidth\":0,\"ticks\":\"\"}},\"type\":\"scatterpolar\"}],\"scatterpolargl\":[{\"marker\":{\"colorbar\":{\"outlinewidth\":0,\"ticks\":\"\"}},\"type\":\"scatterpolargl\"}],\"scatterternary\":[{\"marker\":{\"colorbar\":{\"outlinewidth\":0,\"ticks\":\"\"}},\"type\":\"scatterternary\"}],\"surface\":[{\"colorbar\":{\"outlinewidth\":0,\"ticks\":\"\"},\"colorscale\":[[0.0,\"#0d0887\"],[0.1111111111111111,\"#46039f\"],[0.2222222222222222,\"#7201a8\"],[0.3333333333333333,\"#9c179e\"],[0.4444444444444444,\"#bd3786\"],[0.5555555555555556,\"#d8576b\"],[0.6666666666666666,\"#ed7953\"],[0.7777777777777778,\"#fb9f3a\"],[0.8888888888888888,\"#fdca26\"],[1.0,\"#f0f921\"]],\"type\":\"surface\"}],\"table\":[{\"cells\":{\"fill\":{\"color\":\"#EBF0F8\"},\"line\":{\"color\":\"white\"}},\"header\":{\"fill\":{\"color\":\"#C8D4E3\"},\"line\":{\"color\":\"white\"}},\"type\":\"table\"}]},\"layout\":{\"annotationdefaults\":{\"arrowcolor\":\"#2a3f5f\",\"arrowhead\":0,\"arrowwidth\":1},\"autotypenumbers\":\"strict\",\"coloraxis\":{\"colorbar\":{\"outlinewidth\":0,\"ticks\":\"\"}},\"colorscale\":{\"diverging\":[[0,\"#8e0152\"],[0.1,\"#c51b7d\"],[0.2,\"#de77ae\"],[0.3,\"#f1b6da\"],[0.4,\"#fde0ef\"],[0.5,\"#f7f7f7\"],[0.6,\"#e6f5d0\"],[0.7,\"#b8e186\"],[0.8,\"#7fbc41\"],[0.9,\"#4d9221\"],[1,\"#276419\"]],\"sequential\":[[0.0,\"#0d0887\"],[0.1111111111111111,\"#46039f\"],[0.2222222222222222,\"#7201a8\"],[0.3333333333333333,\"#9c179e\"],[0.4444444444444444,\"#bd3786\"],[0.5555555555555556,\"#d8576b\"],[0.6666666666666666,\"#ed7953\"],[0.7777777777777778,\"#fb9f3a\"],[0.8888888888888888,\"#fdca26\"],[1.0,\"#f0f921\"]],\"sequentialminus\":[[0.0,\"#0d0887\"],[0.1111111111111111,\"#46039f\"],[0.2222222222222222,\"#7201a8\"],[0.3333333333333333,\"#9c179e\"],[0.4444444444444444,\"#bd3786\"],[0.5555555555555556,\"#d8576b\"],[0.6666666666666666,\"#ed7953\"],[0.7777777777777778,\"#fb9f3a\"],[0.8888888888888888,\"#fdca26\"],[1.0,\"#f0f921\"]]},\"colorway\":[\"#636efa\",\"#EF553B\",\"#00cc96\",\"#ab63fa\",\"#FFA15A\",\"#19d3f3\",\"#FF6692\",\"#B6E880\",\"#FF97FF\",\"#FECB52\"],\"font\":{\"color\":\"#2a3f5f\"},\"geo\":{\"bgcolor\":\"white\",\"lakecolor\":\"white\",\"landcolor\":\"#E5ECF6\",\"showlakes\":true,\"showland\":true,\"subunitcolor\":\"white\"},\"hoverlabel\":{\"align\":\"left\"},\"hovermode\":\"closest\",\"mapbox\":{\"style\":\"light\"},\"paper_bgcolor\":\"white\",\"plot_bgcolor\":\"#E5ECF6\",\"polar\":{\"angularaxis\":{\"gridcolor\":\"white\",\"linecolor\":\"white\",\"ticks\":\"\"},\"bgcolor\":\"#E5ECF6\",\"radialaxis\":{\"gridcolor\":\"white\",\"linecolor\":\"white\",\"ticks\":\"\"}},\"scene\":{\"xaxis\":{\"backgroundcolor\":\"#E5ECF6\",\"gridcolor\":\"white\",\"gridwidth\":2,\"linecolor\":\"white\",\"showbackground\":true,\"ticks\":\"\",\"zerolinecolor\":\"white\"},\"yaxis\":{\"backgroundcolor\":\"#E5ECF6\",\"gridcolor\":\"white\",\"gridwidth\":2,\"linecolor\":\"white\",\"showbackground\":true,\"ticks\":\"\",\"zerolinecolor\":\"white\"},\"zaxis\":{\"backgroundcolor\":\"#E5ECF6\",\"gridcolor\":\"white\",\"gridwidth\":2,\"linecolor\":\"white\",\"showbackground\":true,\"ticks\":\"\",\"zerolinecolor\":\"white\"}},\"shapedefaults\":{\"line\":{\"color\":\"#2a3f5f\"}},\"ternary\":{\"aaxis\":{\"gridcolor\":\"white\",\"linecolor\":\"white\",\"ticks\":\"\"},\"baxis\":{\"gridcolor\":\"white\",\"linecolor\":\"white\",\"ticks\":\"\"},\"bgcolor\":\"#E5ECF6\",\"caxis\":{\"gridcolor\":\"white\",\"linecolor\":\"white\",\"ticks\":\"\"}},\"title\":{\"x\":0.05},\"xaxis\":{\"automargin\":true,\"gridcolor\":\"white\",\"linecolor\":\"white\",\"ticks\":\"\",\"title\":{\"standoff\":15},\"zerolinecolor\":\"white\",\"zerolinewidth\":2},\"yaxis\":{\"automargin\":true,\"gridcolor\":\"white\",\"linecolor\":\"white\",\"ticks\":\"\",\"title\":{\"standoff\":15},\"zerolinecolor\":\"white\",\"zerolinewidth\":2}}},\"title\":{\"text\":\"Reads vs Log Word Count Sized by Read Ratio\"},\"xaxis\":{\"title\":{\"text\":\"Word Count\"},\"type\":\"log\"},\"yaxis\":{\"title\":{\"text\":\"Reads\"}}},                        {\"showLink\": true, \"linkText\": \"Export to plot.ly\", \"plotlyServerURL\": \"https://plot.ly\", \"responsive\": true}                    ).then(function(){\n",
       "                            \n",
       "var gd = document.getElementById('64ab8a39-84e8-4941-a0ff-36c084d47a2d');\n",
       "var x = new MutationObserver(function (mutations, observer) {{\n",
       "        var display = window.getComputedStyle(gd).display;\n",
       "        if (!display || display === 'none') {{\n",
       "            console.log([gd, 'removed!']);\n",
       "            Plotly.purge(gd);\n",
       "            observer.disconnect();\n",
       "        }}\n",
       "}});\n",
       "\n",
       "// Listen for the removal of the full notebook cells\n",
       "var notebookContainer = gd.closest('#notebook-container');\n",
       "if (notebookContainer) {{\n",
       "    x.observe(notebookContainer, {childList: true});\n",
       "}}\n",
       "\n",
       "// Listen for the clearing of the current output cell\n",
       "var outputEl = gd.closest('.output');\n",
       "if (outputEl) {{\n",
       "    x.observe(outputEl, {childList: true});\n",
       "}}\n",
       "\n",
       "                        })                };                });            </script>        </div>"
      ]
     },
     "metadata": {},
     "output_type": "display_data"
    }
   ],
   "source": [
    "'''\n",
    "Let’s get a little more sophisticated by using a log axis — specified as a plotly layout - and sizing the bubbles by a \n",
    "numeric variable.\n",
    "Three Numeric Variables\n",
    "'''\n",
    "text = [\n",
    "    f\"Title: {t} <br> Ratio: {r:.2f}%\" \n",
    "    for t, r in zip(\n",
    "        tds[\"title\"], tds[\"read_ratio\"]\n",
    "    )\n",
    "]\n",
    "\n",
    "tds.iplot(x='word_count', y='reads', size=tds[\"read_ratio\"], text=text, mode='markers',\n",
    "    # Log xaxis\n",
    "    layout=dict(\n",
    "        xaxis=dict(type='log', title='Word Count'), yaxis=dict(title='Reads'),\n",
    "        title='Reads vs Log Word Count Sized by Read Ratio'))"
   ]
  },
  {
   "cell_type": "code",
   "execution_count": 65,
   "id": "bb0150f3",
   "metadata": {},
   "outputs": [
    {
     "data": {
      "application/vnd.plotly.v1+json": {
       "config": {
        "linkText": "Export to plot.ly",
        "plotlyServerURL": "https://plot.ly",
        "showLink": true
       },
       "data": [
        {
         "line": {
          "color": "rgba(255, 153, 51, 1.0)",
          "dash": "solid",
          "shape": "linear",
          "width": 1.3
         },
         "marker": {
          "size": 8,
          "symbol": 1
         },
         "mode": "markers+lines",
         "name": "Engineering @ Feature Labs",
         "text": "",
         "type": "scatter",
         "x": [
          "2017-06-10 14:25:00",
          "2017-06-17 22:02:00",
          "2017-06-30 12:55:00",
          "2017-07-01 09:08:00",
          "2017-07-05 08:51:00",
          "2017-07-19 21:09:00",
          "2017-07-25 17:54:00",
          "2017-07-27 21:17:00",
          "2017-07-30 17:50:00",
          "2017-08-01 14:21:00",
          "2017-08-07 14:24:00",
          "2017-08-08 12:58:00",
          "2017-08-10 19:58:00",
          "2017-08-12 15:17:00",
          "2017-08-12 17:03:00",
          "2017-08-15 14:02:00",
          "2017-08-20 17:06:00",
          "2017-08-22 15:09:00",
          "2017-09-22 15:04:00",
          "2017-12-16 10:20:00",
          "2017-12-27 11:20:00",
          "2017-12-27 11:22:00",
          "2017-12-29 18:51:00",
          "2018-01-01 13:45:00",
          "2018-01-06 20:15:00",
          "2018-01-07 20:37:00",
          "2018-01-08 09:45:00",
          "2018-01-08 16:58:00",
          "2018-01-09 21:49:00",
          "2018-01-12 20:48:00",
          "2018-01-13 09:51:00",
          "2018-01-17 15:24:00",
          "2018-01-17 19:42:00",
          "2018-01-18 08:55:00",
          "2018-01-19 15:30:00",
          "2018-01-19 20:16:00",
          "2018-01-22 14:22:00",
          "2018-01-24 18:27:00",
          "2018-01-27 20:17:00",
          "2018-01-28 08:40:00",
          "2018-01-31 11:41:00",
          "2018-02-02 09:26:00",
          "2018-02-04 09:12:00",
          "2018-02-07 09:09:00",
          "2018-02-09 22:29:00",
          "2018-02-11 18:57:00",
          "2018-02-14 11:27:00",
          "2018-02-20 12:49:00",
          "2018-02-24 09:33:00",
          "2018-03-03 11:10:00",
          "2018-03-10 16:16:00",
          "2018-03-17 10:29:00",
          "2018-03-20 09:47:00",
          "2018-03-23 12:44:00",
          "2018-03-31 08:36:00",
          "2018-04-06 14:12:00",
          "2018-04-13 20:38:00",
          "2018-04-20 13:31:00",
          "2018-04-20 13:34:00",
          "2018-04-28 15:27:00",
          "2018-04-30 11:04:00",
          "2018-05-16 12:33:00",
          "2018-05-17 09:34:00",
          "2018-05-18 09:48:00",
          "2018-05-21 14:16:00",
          "2018-05-28 11:39:00",
          "2018-06-02 10:01:00",
          "2018-06-19 20:35:00",
          "2018-06-22 10:12:00",
          "2018-06-24 08:26:00",
          "2018-06-28 08:33:00",
          "2018-07-03 11:04:00",
          "2018-07-20 08:57:00",
          "2018-07-26 09:35:00",
          "2018-08-09 09:04:00",
          "2018-08-11 05:53:00",
          "2018-08-16 14:43:00",
          "2018-08-18 19:49:00",
          "2018-08-20 09:48:00",
          "2018-08-20 09:51:00",
          "2018-08-29 19:08:00",
          "2018-08-30 12:44:00",
          "2018-09-03 17:27:00",
          "2018-09-10 09:26:00",
          "2018-09-16 10:31:00",
          "2018-09-16 17:55:00",
          "2018-09-23 10:26:00",
          "2018-09-26 13:41:00",
          "2018-10-01 21:04:00",
          "2018-10-04 13:10:00",
          "2018-10-12 12:31:00",
          "2018-10-17 10:26:00",
          "2018-10-26 15:32:00",
          "2018-11-01 20:44:00",
          "2018-11-04 21:30:00",
          "2018-11-07 10:14:00",
          "2018-11-07 10:17:00",
          "2018-11-12 09:00:00",
          "2018-11-15 08:35:00",
          "2018-11-17 21:54:00",
          "2018-11-18 19:57:00",
          "2018-11-26 13:25:00",
          "2018-11-28 10:23:00",
          "2018-12-01 11:50:00",
          "2018-12-07 16:16:00",
          "2018-12-08 14:41:00",
          "2018-12-09 21:16:00",
          "2018-12-15 12:39:00",
          "2018-12-16 21:03:00",
          "2018-12-17 20:04:00",
          "2018-12-24 20:23:00",
          "2018-12-25 15:28:00",
          "2018-12-25 21:22:00",
          "2018-12-25 21:24:00",
          "2018-12-25 21:25:00",
          "2018-12-25 21:26:00",
          "2018-12-25 21:27:00",
          "2018-12-27 08:00:00",
          "2018-12-27 12:31:00",
          "2018-12-29 11:36:00",
          "2018-12-31 17:53:00",
          "2019-01-02 08:15:00",
          "2019-01-02 09:29:00",
          "2019-01-05 21:04:00"
         ],
         "y": [
          "",
          "",
          "",
          "",
          "",
          "",
          "",
          "",
          "",
          "",
          "",
          "",
          "",
          "",
          "",
          "",
          "",
          "",
          "",
          "",
          "",
          "",
          "",
          "",
          "",
          "",
          "",
          "",
          "",
          "",
          "",
          "",
          "",
          "",
          "",
          "",
          "",
          "",
          "",
          "",
          "",
          "",
          "",
          "",
          "",
          "",
          "",
          "",
          "",
          "",
          "",
          "",
          "",
          "",
          "",
          "",
          "",
          "",
          "",
          "",
          "",
          "",
          "",
          "",
          "",
          "",
          "",
          "",
          "",
          "",
          "",
          "",
          "",
          "",
          "",
          "",
          "",
          "",
          "",
          "",
          "",
          "",
          "",
          "",
          "",
          "",
          "",
          2771,
          "",
          "",
          "",
          "",
          "",
          "",
          "",
          "",
          "",
          "",
          "",
          "",
          "",
          "",
          "",
          "",
          "",
          "",
          "",
          "",
          "",
          "",
          "",
          "",
          "",
          "",
          "",
          "",
          "",
          "",
          "",
          "",
          "",
          "",
          "",
          ""
         ]
        },
        {
         "line": {
          "color": "rgba(55, 128, 191, 1.0)",
          "dash": "solid",
          "shape": "linear",
          "width": 1.3
         },
         "marker": {
          "size": 8,
          "symbol": 2
         },
         "mode": "markers+lines",
         "name": "None",
         "text": "",
         "type": "scatter",
         "x": [
          "2017-06-10 14:25:00",
          "2017-06-17 22:02:00",
          "2017-06-30 12:55:00",
          "2017-07-01 09:08:00",
          "2017-07-05 08:51:00",
          "2017-07-19 21:09:00",
          "2017-07-25 17:54:00",
          "2017-07-27 21:17:00",
          "2017-07-30 17:50:00",
          "2017-08-01 14:21:00",
          "2017-08-07 14:24:00",
          "2017-08-08 12:58:00",
          "2017-08-10 19:58:00",
          "2017-08-12 15:17:00",
          "2017-08-12 17:03:00",
          "2017-08-15 14:02:00",
          "2017-08-20 17:06:00",
          "2017-08-22 15:09:00",
          "2017-09-22 15:04:00",
          "2017-12-16 10:20:00",
          "2017-12-27 11:20:00",
          "2017-12-27 11:22:00",
          "2017-12-29 18:51:00",
          "2018-01-01 13:45:00",
          "2018-01-06 20:15:00",
          "2018-01-07 20:37:00",
          "2018-01-08 09:45:00",
          "2018-01-08 16:58:00",
          "2018-01-09 21:49:00",
          "2018-01-12 20:48:00",
          "2018-01-13 09:51:00",
          "2018-01-17 15:24:00",
          "2018-01-17 19:42:00",
          "2018-01-18 08:55:00",
          "2018-01-19 15:30:00",
          "2018-01-19 20:16:00",
          "2018-01-22 14:22:00",
          "2018-01-24 18:27:00",
          "2018-01-27 20:17:00",
          "2018-01-28 08:40:00",
          "2018-01-31 11:41:00",
          "2018-02-02 09:26:00",
          "2018-02-04 09:12:00",
          "2018-02-07 09:09:00",
          "2018-02-09 22:29:00",
          "2018-02-11 18:57:00",
          "2018-02-14 11:27:00",
          "2018-02-20 12:49:00",
          "2018-02-24 09:33:00",
          "2018-03-03 11:10:00",
          "2018-03-10 16:16:00",
          "2018-03-17 10:29:00",
          "2018-03-20 09:47:00",
          "2018-03-23 12:44:00",
          "2018-03-31 08:36:00",
          "2018-04-06 14:12:00",
          "2018-04-13 20:38:00",
          "2018-04-20 13:31:00",
          "2018-04-20 13:34:00",
          "2018-04-28 15:27:00",
          "2018-04-30 11:04:00",
          "2018-05-16 12:33:00",
          "2018-05-17 09:34:00",
          "2018-05-18 09:48:00",
          "2018-05-21 14:16:00",
          "2018-05-28 11:39:00",
          "2018-06-02 10:01:00",
          "2018-06-19 20:35:00",
          "2018-06-22 10:12:00",
          "2018-06-24 08:26:00",
          "2018-06-28 08:33:00",
          "2018-07-03 11:04:00",
          "2018-07-20 08:57:00",
          "2018-07-26 09:35:00",
          "2018-08-09 09:04:00",
          "2018-08-11 05:53:00",
          "2018-08-16 14:43:00",
          "2018-08-18 19:49:00",
          "2018-08-20 09:48:00",
          "2018-08-20 09:51:00",
          "2018-08-29 19:08:00",
          "2018-08-30 12:44:00",
          "2018-09-03 17:27:00",
          "2018-09-10 09:26:00",
          "2018-09-16 10:31:00",
          "2018-09-16 17:55:00",
          "2018-09-23 10:26:00",
          "2018-09-26 13:41:00",
          "2018-10-01 21:04:00",
          "2018-10-04 13:10:00",
          "2018-10-12 12:31:00",
          "2018-10-17 10:26:00",
          "2018-10-26 15:32:00",
          "2018-11-01 20:44:00",
          "2018-11-04 21:30:00",
          "2018-11-07 10:14:00",
          "2018-11-07 10:17:00",
          "2018-11-12 09:00:00",
          "2018-11-15 08:35:00",
          "2018-11-17 21:54:00",
          "2018-11-18 19:57:00",
          "2018-11-26 13:25:00",
          "2018-11-28 10:23:00",
          "2018-12-01 11:50:00",
          "2018-12-07 16:16:00",
          "2018-12-08 14:41:00",
          "2018-12-09 21:16:00",
          "2018-12-15 12:39:00",
          "2018-12-16 21:03:00",
          "2018-12-17 20:04:00",
          "2018-12-24 20:23:00",
          "2018-12-25 15:28:00",
          "2018-12-25 21:22:00",
          "2018-12-25 21:24:00",
          "2018-12-25 21:25:00",
          "2018-12-25 21:26:00",
          "2018-12-25 21:27:00",
          "2018-12-27 08:00:00",
          "2018-12-27 12:31:00",
          "2018-12-29 11:36:00",
          "2018-12-31 17:53:00",
          "2019-01-02 08:15:00",
          "2019-01-02 09:29:00",
          "2019-01-05 21:04:00"
         ],
         "y": [
          162,
          326,
          1391,
          1444,
          1501,
          1807,
          11186,
          34396,
          34519,
          34583,
          61720,
          63757.5,
          63811.5,
          69136.5,
          73812.5,
          82059.5,
          94777.5,
          94909.5,
          97022.5,
          97057.5,
          "",
          178539.5,
          178701.5,
          179014.5,
          "",
          "",
          182313.5,
          "",
          "",
          "",
          182461.5,
          "",
          "",
          182566.5,
          "",
          "",
          184142.5,
          "",
          "",
          "",
          "",
          "",
          "",
          "",
          "",
          184369.5,
          "",
          "",
          "",
          "",
          "",
          "",
          "",
          "",
          "",
          "",
          "",
          "",
          "",
          "",
          "",
          "",
          "",
          "",
          "",
          "",
          "",
          "",
          "",
          "",
          "",
          "",
          "",
          "",
          "",
          "",
          "",
          "",
          "",
          "",
          "",
          "",
          "",
          "",
          "",
          "",
          "",
          "",
          "",
          "",
          "",
          "",
          "",
          "",
          "",
          "",
          "",
          "",
          "",
          "",
          "",
          "",
          "",
          "",
          "",
          "",
          185205.5,
          "",
          185612.5,
          "",
          185867.5,
          186669.5,
          186881.5,
          186884.5,
          186989.5,
          187035.5,
          187168.5,
          187201.5,
          188370.5,
          "",
          "",
          "",
          "",
          ""
         ]
        },
        {
         "line": {
          "color": "rgba(50, 171, 96, 1.0)",
          "dash": "solid",
          "shape": "linear",
          "width": 1.3
         },
         "marker": {
          "size": 8,
          "symbol": 3
         },
         "mode": "markers+lines",
         "name": "Noteworthy - The Journal Blog",
         "text": "",
         "type": "scatter",
         "x": [
          "2017-06-10 14:25:00",
          "2017-06-17 22:02:00",
          "2017-06-30 12:55:00",
          "2017-07-01 09:08:00",
          "2017-07-05 08:51:00",
          "2017-07-19 21:09:00",
          "2017-07-25 17:54:00",
          "2017-07-27 21:17:00",
          "2017-07-30 17:50:00",
          "2017-08-01 14:21:00",
          "2017-08-07 14:24:00",
          "2017-08-08 12:58:00",
          "2017-08-10 19:58:00",
          "2017-08-12 15:17:00",
          "2017-08-12 17:03:00",
          "2017-08-15 14:02:00",
          "2017-08-20 17:06:00",
          "2017-08-22 15:09:00",
          "2017-09-22 15:04:00",
          "2017-12-16 10:20:00",
          "2017-12-27 11:20:00",
          "2017-12-27 11:22:00",
          "2017-12-29 18:51:00",
          "2018-01-01 13:45:00",
          "2018-01-06 20:15:00",
          "2018-01-07 20:37:00",
          "2018-01-08 09:45:00",
          "2018-01-08 16:58:00",
          "2018-01-09 21:49:00",
          "2018-01-12 20:48:00",
          "2018-01-13 09:51:00",
          "2018-01-17 15:24:00",
          "2018-01-17 19:42:00",
          "2018-01-18 08:55:00",
          "2018-01-19 15:30:00",
          "2018-01-19 20:16:00",
          "2018-01-22 14:22:00",
          "2018-01-24 18:27:00",
          "2018-01-27 20:17:00",
          "2018-01-28 08:40:00",
          "2018-01-31 11:41:00",
          "2018-02-02 09:26:00",
          "2018-02-04 09:12:00",
          "2018-02-07 09:09:00",
          "2018-02-09 22:29:00",
          "2018-02-11 18:57:00",
          "2018-02-14 11:27:00",
          "2018-02-20 12:49:00",
          "2018-02-24 09:33:00",
          "2018-03-03 11:10:00",
          "2018-03-10 16:16:00",
          "2018-03-17 10:29:00",
          "2018-03-20 09:47:00",
          "2018-03-23 12:44:00",
          "2018-03-31 08:36:00",
          "2018-04-06 14:12:00",
          "2018-04-13 20:38:00",
          "2018-04-20 13:31:00",
          "2018-04-20 13:34:00",
          "2018-04-28 15:27:00",
          "2018-04-30 11:04:00",
          "2018-05-16 12:33:00",
          "2018-05-17 09:34:00",
          "2018-05-18 09:48:00",
          "2018-05-21 14:16:00",
          "2018-05-28 11:39:00",
          "2018-06-02 10:01:00",
          "2018-06-19 20:35:00",
          "2018-06-22 10:12:00",
          "2018-06-24 08:26:00",
          "2018-06-28 08:33:00",
          "2018-07-03 11:04:00",
          "2018-07-20 08:57:00",
          "2018-07-26 09:35:00",
          "2018-08-09 09:04:00",
          "2018-08-11 05:53:00",
          "2018-08-16 14:43:00",
          "2018-08-18 19:49:00",
          "2018-08-20 09:48:00",
          "2018-08-20 09:51:00",
          "2018-08-29 19:08:00",
          "2018-08-30 12:44:00",
          "2018-09-03 17:27:00",
          "2018-09-10 09:26:00",
          "2018-09-16 10:31:00",
          "2018-09-16 17:55:00",
          "2018-09-23 10:26:00",
          "2018-09-26 13:41:00",
          "2018-10-01 21:04:00",
          "2018-10-04 13:10:00",
          "2018-10-12 12:31:00",
          "2018-10-17 10:26:00",
          "2018-10-26 15:32:00",
          "2018-11-01 20:44:00",
          "2018-11-04 21:30:00",
          "2018-11-07 10:14:00",
          "2018-11-07 10:17:00",
          "2018-11-12 09:00:00",
          "2018-11-15 08:35:00",
          "2018-11-17 21:54:00",
          "2018-11-18 19:57:00",
          "2018-11-26 13:25:00",
          "2018-11-28 10:23:00",
          "2018-12-01 11:50:00",
          "2018-12-07 16:16:00",
          "2018-12-08 14:41:00",
          "2018-12-09 21:16:00",
          "2018-12-15 12:39:00",
          "2018-12-16 21:03:00",
          "2018-12-17 20:04:00",
          "2018-12-24 20:23:00",
          "2018-12-25 15:28:00",
          "2018-12-25 21:22:00",
          "2018-12-25 21:24:00",
          "2018-12-25 21:25:00",
          "2018-12-25 21:26:00",
          "2018-12-25 21:27:00",
          "2018-12-27 08:00:00",
          "2018-12-27 12:31:00",
          "2018-12-29 11:36:00",
          "2018-12-31 17:53:00",
          "2019-01-02 08:15:00",
          "2019-01-02 09:29:00",
          "2019-01-05 21:04:00"
         ],
         "y": [
          "",
          "",
          "",
          "",
          "",
          "",
          "",
          "",
          "",
          "",
          "",
          "",
          "",
          "",
          "",
          "",
          "",
          "",
          "",
          "",
          "",
          "",
          "",
          "",
          "",
          "",
          "",
          "",
          "",
          "",
          "",
          "",
          "",
          "",
          "",
          "",
          "",
          "",
          "",
          "",
          "",
          "",
          "",
          "",
          "",
          "",
          "",
          "",
          "",
          "",
          "",
          "",
          "",
          "",
          "",
          "",
          "",
          "",
          "",
          "",
          "",
          "",
          "",
          "",
          "",
          "",
          "",
          "",
          "",
          "",
          "",
          "",
          "",
          "",
          "",
          "",
          "",
          "",
          "",
          "",
          "",
          "",
          "",
          "",
          "",
          "",
          "",
          "",
          "",
          "",
          "",
          2060,
          "",
          "",
          "",
          "",
          "",
          "",
          "",
          "",
          "",
          "",
          "",
          "",
          "",
          "",
          "",
          "",
          "",
          "",
          "",
          "",
          "",
          "",
          "",
          "",
          "",
          "",
          "",
          "",
          "",
          "",
          "",
          ""
         ]
        },
        {
         "line": {
          "color": "rgba(128, 0, 128, 1.0)",
          "dash": "solid",
          "shape": "linear",
          "width": 1.3
         },
         "marker": {
          "size": 8,
          "symbol": 4
         },
         "mode": "markers+lines",
         "name": "The Reality Project",
         "text": "",
         "type": "scatter",
         "x": [
          "2017-06-10 14:25:00",
          "2017-06-17 22:02:00",
          "2017-06-30 12:55:00",
          "2017-07-01 09:08:00",
          "2017-07-05 08:51:00",
          "2017-07-19 21:09:00",
          "2017-07-25 17:54:00",
          "2017-07-27 21:17:00",
          "2017-07-30 17:50:00",
          "2017-08-01 14:21:00",
          "2017-08-07 14:24:00",
          "2017-08-08 12:58:00",
          "2017-08-10 19:58:00",
          "2017-08-12 15:17:00",
          "2017-08-12 17:03:00",
          "2017-08-15 14:02:00",
          "2017-08-20 17:06:00",
          "2017-08-22 15:09:00",
          "2017-09-22 15:04:00",
          "2017-12-16 10:20:00",
          "2017-12-27 11:20:00",
          "2017-12-27 11:22:00",
          "2017-12-29 18:51:00",
          "2018-01-01 13:45:00",
          "2018-01-06 20:15:00",
          "2018-01-07 20:37:00",
          "2018-01-08 09:45:00",
          "2018-01-08 16:58:00",
          "2018-01-09 21:49:00",
          "2018-01-12 20:48:00",
          "2018-01-13 09:51:00",
          "2018-01-17 15:24:00",
          "2018-01-17 19:42:00",
          "2018-01-18 08:55:00",
          "2018-01-19 15:30:00",
          "2018-01-19 20:16:00",
          "2018-01-22 14:22:00",
          "2018-01-24 18:27:00",
          "2018-01-27 20:17:00",
          "2018-01-28 08:40:00",
          "2018-01-31 11:41:00",
          "2018-02-02 09:26:00",
          "2018-02-04 09:12:00",
          "2018-02-07 09:09:00",
          "2018-02-09 22:29:00",
          "2018-02-11 18:57:00",
          "2018-02-14 11:27:00",
          "2018-02-20 12:49:00",
          "2018-02-24 09:33:00",
          "2018-03-03 11:10:00",
          "2018-03-10 16:16:00",
          "2018-03-17 10:29:00",
          "2018-03-20 09:47:00",
          "2018-03-23 12:44:00",
          "2018-03-31 08:36:00",
          "2018-04-06 14:12:00",
          "2018-04-13 20:38:00",
          "2018-04-20 13:31:00",
          "2018-04-20 13:34:00",
          "2018-04-28 15:27:00",
          "2018-04-30 11:04:00",
          "2018-05-16 12:33:00",
          "2018-05-17 09:34:00",
          "2018-05-18 09:48:00",
          "2018-05-21 14:16:00",
          "2018-05-28 11:39:00",
          "2018-06-02 10:01:00",
          "2018-06-19 20:35:00",
          "2018-06-22 10:12:00",
          "2018-06-24 08:26:00",
          "2018-06-28 08:33:00",
          "2018-07-03 11:04:00",
          "2018-07-20 08:57:00",
          "2018-07-26 09:35:00",
          "2018-08-09 09:04:00",
          "2018-08-11 05:53:00",
          "2018-08-16 14:43:00",
          "2018-08-18 19:49:00",
          "2018-08-20 09:48:00",
          "2018-08-20 09:51:00",
          "2018-08-29 19:08:00",
          "2018-08-30 12:44:00",
          "2018-09-03 17:27:00",
          "2018-09-10 09:26:00",
          "2018-09-16 10:31:00",
          "2018-09-16 17:55:00",
          "2018-09-23 10:26:00",
          "2018-09-26 13:41:00",
          "2018-10-01 21:04:00",
          "2018-10-04 13:10:00",
          "2018-10-12 12:31:00",
          "2018-10-17 10:26:00",
          "2018-10-26 15:32:00",
          "2018-11-01 20:44:00",
          "2018-11-04 21:30:00",
          "2018-11-07 10:14:00",
          "2018-11-07 10:17:00",
          "2018-11-12 09:00:00",
          "2018-11-15 08:35:00",
          "2018-11-17 21:54:00",
          "2018-11-18 19:57:00",
          "2018-11-26 13:25:00",
          "2018-11-28 10:23:00",
          "2018-12-01 11:50:00",
          "2018-12-07 16:16:00",
          "2018-12-08 14:41:00",
          "2018-12-09 21:16:00",
          "2018-12-15 12:39:00",
          "2018-12-16 21:03:00",
          "2018-12-17 20:04:00",
          "2018-12-24 20:23:00",
          "2018-12-25 15:28:00",
          "2018-12-25 21:22:00",
          "2018-12-25 21:24:00",
          "2018-12-25 21:25:00",
          "2018-12-25 21:26:00",
          "2018-12-25 21:27:00",
          "2018-12-27 08:00:00",
          "2018-12-27 12:31:00",
          "2018-12-29 11:36:00",
          "2018-12-31 17:53:00",
          "2019-01-02 08:15:00",
          "2019-01-02 09:29:00",
          "2019-01-05 21:04:00"
         ],
         "y": [
          "",
          "",
          "",
          "",
          "",
          "",
          "",
          "",
          "",
          "",
          "",
          "",
          "",
          "",
          "",
          "",
          "",
          "",
          "",
          "",
          "",
          "",
          "",
          "",
          "",
          "",
          "",
          "",
          "",
          "",
          "",
          "",
          "",
          "",
          "",
          "",
          "",
          "",
          "",
          "",
          "",
          "",
          "",
          "",
          "",
          "",
          "",
          "",
          "",
          "",
          "",
          "",
          "",
          "",
          "",
          "",
          "",
          "",
          "",
          "",
          "",
          "",
          "",
          "",
          "",
          "",
          "",
          "",
          "",
          "",
          "",
          "",
          "",
          "",
          "",
          "",
          "",
          "",
          "",
          "",
          "",
          "",
          "",
          "",
          "",
          "",
          "",
          "",
          "",
          "",
          "",
          "",
          "",
          "",
          "",
          "",
          "",
          "",
          "",
          "",
          "",
          "",
          "",
          "",
          "",
          "",
          "",
          "",
          "",
          "",
          "",
          "",
          "",
          "",
          "",
          "",
          "",
          "",
          "",
          "",
          "",
          418,
          818,
          1063
         ]
        },
        {
         "line": {
          "color": "rgba(219, 64, 82, 1.0)",
          "dash": "solid",
          "shape": "linear",
          "width": 1.3
         },
         "marker": {
          "size": 8,
          "symbol": 5
         },
         "mode": "markers+lines",
         "name": "Towards Data Science",
         "text": "",
         "type": "scatter",
         "x": [
          "2017-06-10 14:25:00",
          "2017-06-17 22:02:00",
          "2017-06-30 12:55:00",
          "2017-07-01 09:08:00",
          "2017-07-05 08:51:00",
          "2017-07-19 21:09:00",
          "2017-07-25 17:54:00",
          "2017-07-27 21:17:00",
          "2017-07-30 17:50:00",
          "2017-08-01 14:21:00",
          "2017-08-07 14:24:00",
          "2017-08-08 12:58:00",
          "2017-08-10 19:58:00",
          "2017-08-12 15:17:00",
          "2017-08-12 17:03:00",
          "2017-08-15 14:02:00",
          "2017-08-20 17:06:00",
          "2017-08-22 15:09:00",
          "2017-09-22 15:04:00",
          "2017-12-16 10:20:00",
          "2017-12-27 11:20:00",
          "2017-12-27 11:22:00",
          "2017-12-29 18:51:00",
          "2018-01-01 13:45:00",
          "2018-01-06 20:15:00",
          "2018-01-07 20:37:00",
          "2018-01-08 09:45:00",
          "2018-01-08 16:58:00",
          "2018-01-09 21:49:00",
          "2018-01-12 20:48:00",
          "2018-01-13 09:51:00",
          "2018-01-17 15:24:00",
          "2018-01-17 19:42:00",
          "2018-01-18 08:55:00",
          "2018-01-19 15:30:00",
          "2018-01-19 20:16:00",
          "2018-01-22 14:22:00",
          "2018-01-24 18:27:00",
          "2018-01-27 20:17:00",
          "2018-01-28 08:40:00",
          "2018-01-31 11:41:00",
          "2018-02-02 09:26:00",
          "2018-02-04 09:12:00",
          "2018-02-07 09:09:00",
          "2018-02-09 22:29:00",
          "2018-02-11 18:57:00",
          "2018-02-14 11:27:00",
          "2018-02-20 12:49:00",
          "2018-02-24 09:33:00",
          "2018-03-03 11:10:00",
          "2018-03-10 16:16:00",
          "2018-03-17 10:29:00",
          "2018-03-20 09:47:00",
          "2018-03-23 12:44:00",
          "2018-03-31 08:36:00",
          "2018-04-06 14:12:00",
          "2018-04-13 20:38:00",
          "2018-04-20 13:31:00",
          "2018-04-20 13:34:00",
          "2018-04-28 15:27:00",
          "2018-04-30 11:04:00",
          "2018-05-16 12:33:00",
          "2018-05-17 09:34:00",
          "2018-05-18 09:48:00",
          "2018-05-21 14:16:00",
          "2018-05-28 11:39:00",
          "2018-06-02 10:01:00",
          "2018-06-19 20:35:00",
          "2018-06-22 10:12:00",
          "2018-06-24 08:26:00",
          "2018-06-28 08:33:00",
          "2018-07-03 11:04:00",
          "2018-07-20 08:57:00",
          "2018-07-26 09:35:00",
          "2018-08-09 09:04:00",
          "2018-08-11 05:53:00",
          "2018-08-16 14:43:00",
          "2018-08-18 19:49:00",
          "2018-08-20 09:48:00",
          "2018-08-20 09:51:00",
          "2018-08-29 19:08:00",
          "2018-08-30 12:44:00",
          "2018-09-03 17:27:00",
          "2018-09-10 09:26:00",
          "2018-09-16 10:31:00",
          "2018-09-16 17:55:00",
          "2018-09-23 10:26:00",
          "2018-09-26 13:41:00",
          "2018-10-01 21:04:00",
          "2018-10-04 13:10:00",
          "2018-10-12 12:31:00",
          "2018-10-17 10:26:00",
          "2018-10-26 15:32:00",
          "2018-11-01 20:44:00",
          "2018-11-04 21:30:00",
          "2018-11-07 10:14:00",
          "2018-11-07 10:17:00",
          "2018-11-12 09:00:00",
          "2018-11-15 08:35:00",
          "2018-11-17 21:54:00",
          "2018-11-18 19:57:00",
          "2018-11-26 13:25:00",
          "2018-11-28 10:23:00",
          "2018-12-01 11:50:00",
          "2018-12-07 16:16:00",
          "2018-12-08 14:41:00",
          "2018-12-09 21:16:00",
          "2018-12-15 12:39:00",
          "2018-12-16 21:03:00",
          "2018-12-17 20:04:00",
          "2018-12-24 20:23:00",
          "2018-12-25 15:28:00",
          "2018-12-25 21:22:00",
          "2018-12-25 21:24:00",
          "2018-12-25 21:25:00",
          "2018-12-25 21:26:00",
          "2018-12-25 21:27:00",
          "2018-12-27 08:00:00",
          "2018-12-27 12:31:00",
          "2018-12-29 11:36:00",
          "2018-12-31 17:53:00",
          "2019-01-02 08:15:00",
          "2019-01-02 09:29:00",
          "2019-01-05 21:04:00"
         ],
         "y": [
          "",
          "",
          "",
          "",
          "",
          "",
          "",
          "",
          "",
          "",
          "",
          "",
          "",
          "",
          "",
          "",
          "",
          "",
          "",
          "",
          161596,
          "",
          "",
          "",
          193255,
          195961,
          "",
          198308,
          304619,
          429444,
          "",
          506941,
          511765,
          "",
          638616,
          657671,
          "",
          661673,
          677589,
          710112,
          725242,
          772441,
          820063,
          823032,
          877190,
          "",
          911252,
          915883,
          928726,
          1045826,
          1105195,
          1157504,
          1185583,
          1292367,
          1344967,
          1390702,
          1445618,
          1466454,
          1490141,
          1556612,
          1558977,
          1679803,
          1724564,
          1750807,
          1783784,
          1825824,
          1935819,
          1946487,
          2022913,
          2046776,
          2076630,
          2119483,
          2124820,
          2128860,
          2152931,
          2169515,
          2173446,
          2198558,
          2241182,
          2247365,
          2249014,
          2261840,
          2276510,
          2300721,
          2304327,
          2305950,
          2329601,
          "",
          2355998,
          2362302,
          2375073,
          "",
          2407748,
          2410922,
          2441901,
          2446940,
          2453190,
          2458417,
          2466353,
          2493107,
          2507535,
          2515650,
          2536961,
          2559019,
          2582199,
          2586985,
          "",
          2596719,
          "",
          2602026,
          "",
          "",
          "",
          "",
          "",
          "",
          "",
          "",
          "",
          2603729,
          2605961,
          "",
          "",
          ""
         ]
        }
       ],
       "layout": {
        "template": {
         "data": {
          "bar": [
           {
            "error_x": {
             "color": "#2a3f5f"
            },
            "error_y": {
             "color": "#2a3f5f"
            },
            "marker": {
             "line": {
              "color": "#E5ECF6",
              "width": 0.5
             },
             "pattern": {
              "fillmode": "overlay",
              "size": 10,
              "solidity": 0.2
             }
            },
            "type": "bar"
           }
          ],
          "barpolar": [
           {
            "marker": {
             "line": {
              "color": "#E5ECF6",
              "width": 0.5
             },
             "pattern": {
              "fillmode": "overlay",
              "size": 10,
              "solidity": 0.2
             }
            },
            "type": "barpolar"
           }
          ],
          "carpet": [
           {
            "aaxis": {
             "endlinecolor": "#2a3f5f",
             "gridcolor": "white",
             "linecolor": "white",
             "minorgridcolor": "white",
             "startlinecolor": "#2a3f5f"
            },
            "baxis": {
             "endlinecolor": "#2a3f5f",
             "gridcolor": "white",
             "linecolor": "white",
             "minorgridcolor": "white",
             "startlinecolor": "#2a3f5f"
            },
            "type": "carpet"
           }
          ],
          "choropleth": [
           {
            "colorbar": {
             "outlinewidth": 0,
             "ticks": ""
            },
            "type": "choropleth"
           }
          ],
          "contour": [
           {
            "colorbar": {
             "outlinewidth": 0,
             "ticks": ""
            },
            "colorscale": [
             [
              0,
              "#0d0887"
             ],
             [
              0.1111111111111111,
              "#46039f"
             ],
             [
              0.2222222222222222,
              "#7201a8"
             ],
             [
              0.3333333333333333,
              "#9c179e"
             ],
             [
              0.4444444444444444,
              "#bd3786"
             ],
             [
              0.5555555555555556,
              "#d8576b"
             ],
             [
              0.6666666666666666,
              "#ed7953"
             ],
             [
              0.7777777777777778,
              "#fb9f3a"
             ],
             [
              0.8888888888888888,
              "#fdca26"
             ],
             [
              1,
              "#f0f921"
             ]
            ],
            "type": "contour"
           }
          ],
          "contourcarpet": [
           {
            "colorbar": {
             "outlinewidth": 0,
             "ticks": ""
            },
            "type": "contourcarpet"
           }
          ],
          "heatmap": [
           {
            "colorbar": {
             "outlinewidth": 0,
             "ticks": ""
            },
            "colorscale": [
             [
              0,
              "#0d0887"
             ],
             [
              0.1111111111111111,
              "#46039f"
             ],
             [
              0.2222222222222222,
              "#7201a8"
             ],
             [
              0.3333333333333333,
              "#9c179e"
             ],
             [
              0.4444444444444444,
              "#bd3786"
             ],
             [
              0.5555555555555556,
              "#d8576b"
             ],
             [
              0.6666666666666666,
              "#ed7953"
             ],
             [
              0.7777777777777778,
              "#fb9f3a"
             ],
             [
              0.8888888888888888,
              "#fdca26"
             ],
             [
              1,
              "#f0f921"
             ]
            ],
            "type": "heatmap"
           }
          ],
          "heatmapgl": [
           {
            "colorbar": {
             "outlinewidth": 0,
             "ticks": ""
            },
            "colorscale": [
             [
              0,
              "#0d0887"
             ],
             [
              0.1111111111111111,
              "#46039f"
             ],
             [
              0.2222222222222222,
              "#7201a8"
             ],
             [
              0.3333333333333333,
              "#9c179e"
             ],
             [
              0.4444444444444444,
              "#bd3786"
             ],
             [
              0.5555555555555556,
              "#d8576b"
             ],
             [
              0.6666666666666666,
              "#ed7953"
             ],
             [
              0.7777777777777778,
              "#fb9f3a"
             ],
             [
              0.8888888888888888,
              "#fdca26"
             ],
             [
              1,
              "#f0f921"
             ]
            ],
            "type": "heatmapgl"
           }
          ],
          "histogram": [
           {
            "marker": {
             "pattern": {
              "fillmode": "overlay",
              "size": 10,
              "solidity": 0.2
             }
            },
            "type": "histogram"
           }
          ],
          "histogram2d": [
           {
            "colorbar": {
             "outlinewidth": 0,
             "ticks": ""
            },
            "colorscale": [
             [
              0,
              "#0d0887"
             ],
             [
              0.1111111111111111,
              "#46039f"
             ],
             [
              0.2222222222222222,
              "#7201a8"
             ],
             [
              0.3333333333333333,
              "#9c179e"
             ],
             [
              0.4444444444444444,
              "#bd3786"
             ],
             [
              0.5555555555555556,
              "#d8576b"
             ],
             [
              0.6666666666666666,
              "#ed7953"
             ],
             [
              0.7777777777777778,
              "#fb9f3a"
             ],
             [
              0.8888888888888888,
              "#fdca26"
             ],
             [
              1,
              "#f0f921"
             ]
            ],
            "type": "histogram2d"
           }
          ],
          "histogram2dcontour": [
           {
            "colorbar": {
             "outlinewidth": 0,
             "ticks": ""
            },
            "colorscale": [
             [
              0,
              "#0d0887"
             ],
             [
              0.1111111111111111,
              "#46039f"
             ],
             [
              0.2222222222222222,
              "#7201a8"
             ],
             [
              0.3333333333333333,
              "#9c179e"
             ],
             [
              0.4444444444444444,
              "#bd3786"
             ],
             [
              0.5555555555555556,
              "#d8576b"
             ],
             [
              0.6666666666666666,
              "#ed7953"
             ],
             [
              0.7777777777777778,
              "#fb9f3a"
             ],
             [
              0.8888888888888888,
              "#fdca26"
             ],
             [
              1,
              "#f0f921"
             ]
            ],
            "type": "histogram2dcontour"
           }
          ],
          "mesh3d": [
           {
            "colorbar": {
             "outlinewidth": 0,
             "ticks": ""
            },
            "type": "mesh3d"
           }
          ],
          "parcoords": [
           {
            "line": {
             "colorbar": {
              "outlinewidth": 0,
              "ticks": ""
             }
            },
            "type": "parcoords"
           }
          ],
          "pie": [
           {
            "automargin": true,
            "type": "pie"
           }
          ],
          "scatter": [
           {
            "marker": {
             "colorbar": {
              "outlinewidth": 0,
              "ticks": ""
             }
            },
            "type": "scatter"
           }
          ],
          "scatter3d": [
           {
            "line": {
             "colorbar": {
              "outlinewidth": 0,
              "ticks": ""
             }
            },
            "marker": {
             "colorbar": {
              "outlinewidth": 0,
              "ticks": ""
             }
            },
            "type": "scatter3d"
           }
          ],
          "scattercarpet": [
           {
            "marker": {
             "colorbar": {
              "outlinewidth": 0,
              "ticks": ""
             }
            },
            "type": "scattercarpet"
           }
          ],
          "scattergeo": [
           {
            "marker": {
             "colorbar": {
              "outlinewidth": 0,
              "ticks": ""
             }
            },
            "type": "scattergeo"
           }
          ],
          "scattergl": [
           {
            "marker": {
             "colorbar": {
              "outlinewidth": 0,
              "ticks": ""
             }
            },
            "type": "scattergl"
           }
          ],
          "scattermapbox": [
           {
            "marker": {
             "colorbar": {
              "outlinewidth": 0,
              "ticks": ""
             }
            },
            "type": "scattermapbox"
           }
          ],
          "scatterpolar": [
           {
            "marker": {
             "colorbar": {
              "outlinewidth": 0,
              "ticks": ""
             }
            },
            "type": "scatterpolar"
           }
          ],
          "scatterpolargl": [
           {
            "marker": {
             "colorbar": {
              "outlinewidth": 0,
              "ticks": ""
             }
            },
            "type": "scatterpolargl"
           }
          ],
          "scatterternary": [
           {
            "marker": {
             "colorbar": {
              "outlinewidth": 0,
              "ticks": ""
             }
            },
            "type": "scatterternary"
           }
          ],
          "surface": [
           {
            "colorbar": {
             "outlinewidth": 0,
             "ticks": ""
            },
            "colorscale": [
             [
              0,
              "#0d0887"
             ],
             [
              0.1111111111111111,
              "#46039f"
             ],
             [
              0.2222222222222222,
              "#7201a8"
             ],
             [
              0.3333333333333333,
              "#9c179e"
             ],
             [
              0.4444444444444444,
              "#bd3786"
             ],
             [
              0.5555555555555556,
              "#d8576b"
             ],
             [
              0.6666666666666666,
              "#ed7953"
             ],
             [
              0.7777777777777778,
              "#fb9f3a"
             ],
             [
              0.8888888888888888,
              "#fdca26"
             ],
             [
              1,
              "#f0f921"
             ]
            ],
            "type": "surface"
           }
          ],
          "table": [
           {
            "cells": {
             "fill": {
              "color": "#EBF0F8"
             },
             "line": {
              "color": "white"
             }
            },
            "header": {
             "fill": {
              "color": "#C8D4E3"
             },
             "line": {
              "color": "white"
             }
            },
            "type": "table"
           }
          ]
         },
         "layout": {
          "annotationdefaults": {
           "arrowcolor": "#2a3f5f",
           "arrowhead": 0,
           "arrowwidth": 1
          },
          "autotypenumbers": "strict",
          "coloraxis": {
           "colorbar": {
            "outlinewidth": 0,
            "ticks": ""
           }
          },
          "colorscale": {
           "diverging": [
            [
             0,
             "#8e0152"
            ],
            [
             0.1,
             "#c51b7d"
            ],
            [
             0.2,
             "#de77ae"
            ],
            [
             0.3,
             "#f1b6da"
            ],
            [
             0.4,
             "#fde0ef"
            ],
            [
             0.5,
             "#f7f7f7"
            ],
            [
             0.6,
             "#e6f5d0"
            ],
            [
             0.7,
             "#b8e186"
            ],
            [
             0.8,
             "#7fbc41"
            ],
            [
             0.9,
             "#4d9221"
            ],
            [
             1,
             "#276419"
            ]
           ],
           "sequential": [
            [
             0,
             "#0d0887"
            ],
            [
             0.1111111111111111,
             "#46039f"
            ],
            [
             0.2222222222222222,
             "#7201a8"
            ],
            [
             0.3333333333333333,
             "#9c179e"
            ],
            [
             0.4444444444444444,
             "#bd3786"
            ],
            [
             0.5555555555555556,
             "#d8576b"
            ],
            [
             0.6666666666666666,
             "#ed7953"
            ],
            [
             0.7777777777777778,
             "#fb9f3a"
            ],
            [
             0.8888888888888888,
             "#fdca26"
            ],
            [
             1,
             "#f0f921"
            ]
           ],
           "sequentialminus": [
            [
             0,
             "#0d0887"
            ],
            [
             0.1111111111111111,
             "#46039f"
            ],
            [
             0.2222222222222222,
             "#7201a8"
            ],
            [
             0.3333333333333333,
             "#9c179e"
            ],
            [
             0.4444444444444444,
             "#bd3786"
            ],
            [
             0.5555555555555556,
             "#d8576b"
            ],
            [
             0.6666666666666666,
             "#ed7953"
            ],
            [
             0.7777777777777778,
             "#fb9f3a"
            ],
            [
             0.8888888888888888,
             "#fdca26"
            ],
            [
             1,
             "#f0f921"
            ]
           ]
          },
          "colorway": [
           "#636efa",
           "#EF553B",
           "#00cc96",
           "#ab63fa",
           "#FFA15A",
           "#19d3f3",
           "#FF6692",
           "#B6E880",
           "#FF97FF",
           "#FECB52"
          ],
          "font": {
           "color": "#2a3f5f"
          },
          "geo": {
           "bgcolor": "white",
           "lakecolor": "white",
           "landcolor": "#E5ECF6",
           "showlakes": true,
           "showland": true,
           "subunitcolor": "white"
          },
          "hoverlabel": {
           "align": "left"
          },
          "hovermode": "closest",
          "mapbox": {
           "style": "light"
          },
          "paper_bgcolor": "white",
          "plot_bgcolor": "#E5ECF6",
          "polar": {
           "angularaxis": {
            "gridcolor": "white",
            "linecolor": "white",
            "ticks": ""
           },
           "bgcolor": "#E5ECF6",
           "radialaxis": {
            "gridcolor": "white",
            "linecolor": "white",
            "ticks": ""
           }
          },
          "scene": {
           "xaxis": {
            "backgroundcolor": "#E5ECF6",
            "gridcolor": "white",
            "gridwidth": 2,
            "linecolor": "white",
            "showbackground": true,
            "ticks": "",
            "zerolinecolor": "white"
           },
           "yaxis": {
            "backgroundcolor": "#E5ECF6",
            "gridcolor": "white",
            "gridwidth": 2,
            "linecolor": "white",
            "showbackground": true,
            "ticks": "",
            "zerolinecolor": "white"
           },
           "zaxis": {
            "backgroundcolor": "#E5ECF6",
            "gridcolor": "white",
            "gridwidth": 2,
            "linecolor": "white",
            "showbackground": true,
            "ticks": "",
            "zerolinecolor": "white"
           }
          },
          "shapedefaults": {
           "line": {
            "color": "#2a3f5f"
           }
          },
          "ternary": {
           "aaxis": {
            "gridcolor": "white",
            "linecolor": "white",
            "ticks": ""
           },
           "baxis": {
            "gridcolor": "white",
            "linecolor": "white",
            "ticks": ""
           },
           "bgcolor": "#E5ECF6",
           "caxis": {
            "gridcolor": "white",
            "linecolor": "white",
            "ticks": ""
           }
          },
          "title": {
           "x": 0.05
          },
          "xaxis": {
           "automargin": true,
           "gridcolor": "white",
           "linecolor": "white",
           "ticks": "",
           "title": {
            "standoff": 15
           },
           "zerolinecolor": "white",
           "zerolinewidth": 2
          },
          "yaxis": {
           "automargin": true,
           "gridcolor": "white",
           "linecolor": "white",
           "ticks": "",
           "title": {
            "standoff": 15
           },
           "zerolinecolor": "white",
           "zerolinewidth": 2
          }
         }
        },
        "title": {
         "text": "Total Views over Time by Publication"
        },
        "xaxis": {
         "title": {
          "text": "Date"
         }
        },
        "yaxis": {
         "title": {
          "text": "Total Views"
         },
         "type": "log"
        }
       }
      },
      "text/html": [
       "<div>                            <div id=\"3e31caca-fe61-4a74-8e7a-ac88619f563e\" class=\"plotly-graph-div\" style=\"height:525px; width:100%;\"></div>            <script type=\"text/javascript\">                require([\"plotly\"], function(Plotly) {                    window.PLOTLYENV=window.PLOTLYENV || {};\n",
       "                    window.PLOTLYENV.BASE_URL='https://plot.ly';                                    if (document.getElementById(\"3e31caca-fe61-4a74-8e7a-ac88619f563e\")) {                    Plotly.newPlot(                        \"3e31caca-fe61-4a74-8e7a-ac88619f563e\",                        [{\"line\":{\"color\":\"rgba(255, 153, 51, 1.0)\",\"dash\":\"solid\",\"shape\":\"linear\",\"width\":1.3},\"marker\":{\"size\":8,\"symbol\":1},\"mode\":\"markers+lines\",\"name\":\"Engineering @ Feature Labs\",\"text\":\"\",\"type\":\"scatter\",\"x\":[\"2017-06-10 14:25:00\",\"2017-06-17 22:02:00\",\"2017-06-30 12:55:00\",\"2017-07-01 09:08:00\",\"2017-07-05 08:51:00\",\"2017-07-19 21:09:00\",\"2017-07-25 17:54:00\",\"2017-07-27 21:17:00\",\"2017-07-30 17:50:00\",\"2017-08-01 14:21:00\",\"2017-08-07 14:24:00\",\"2017-08-08 12:58:00\",\"2017-08-10 19:58:00\",\"2017-08-12 15:17:00\",\"2017-08-12 17:03:00\",\"2017-08-15 14:02:00\",\"2017-08-20 17:06:00\",\"2017-08-22 15:09:00\",\"2017-09-22 15:04:00\",\"2017-12-16 10:20:00\",\"2017-12-27 11:20:00\",\"2017-12-27 11:22:00\",\"2017-12-29 18:51:00\",\"2018-01-01 13:45:00\",\"2018-01-06 20:15:00\",\"2018-01-07 20:37:00\",\"2018-01-08 09:45:00\",\"2018-01-08 16:58:00\",\"2018-01-09 21:49:00\",\"2018-01-12 20:48:00\",\"2018-01-13 09:51:00\",\"2018-01-17 15:24:00\",\"2018-01-17 19:42:00\",\"2018-01-18 08:55:00\",\"2018-01-19 15:30:00\",\"2018-01-19 20:16:00\",\"2018-01-22 14:22:00\",\"2018-01-24 18:27:00\",\"2018-01-27 20:17:00\",\"2018-01-28 08:40:00\",\"2018-01-31 11:41:00\",\"2018-02-02 09:26:00\",\"2018-02-04 09:12:00\",\"2018-02-07 09:09:00\",\"2018-02-09 22:29:00\",\"2018-02-11 18:57:00\",\"2018-02-14 11:27:00\",\"2018-02-20 12:49:00\",\"2018-02-24 09:33:00\",\"2018-03-03 11:10:00\",\"2018-03-10 16:16:00\",\"2018-03-17 10:29:00\",\"2018-03-20 09:47:00\",\"2018-03-23 12:44:00\",\"2018-03-31 08:36:00\",\"2018-04-06 14:12:00\",\"2018-04-13 20:38:00\",\"2018-04-20 13:31:00\",\"2018-04-20 13:34:00\",\"2018-04-28 15:27:00\",\"2018-04-30 11:04:00\",\"2018-05-16 12:33:00\",\"2018-05-17 09:34:00\",\"2018-05-18 09:48:00\",\"2018-05-21 14:16:00\",\"2018-05-28 11:39:00\",\"2018-06-02 10:01:00\",\"2018-06-19 20:35:00\",\"2018-06-22 10:12:00\",\"2018-06-24 08:26:00\",\"2018-06-28 08:33:00\",\"2018-07-03 11:04:00\",\"2018-07-20 08:57:00\",\"2018-07-26 09:35:00\",\"2018-08-09 09:04:00\",\"2018-08-11 05:53:00\",\"2018-08-16 14:43:00\",\"2018-08-18 19:49:00\",\"2018-08-20 09:48:00\",\"2018-08-20 09:51:00\",\"2018-08-29 19:08:00\",\"2018-08-30 12:44:00\",\"2018-09-03 17:27:00\",\"2018-09-10 09:26:00\",\"2018-09-16 10:31:00\",\"2018-09-16 17:55:00\",\"2018-09-23 10:26:00\",\"2018-09-26 13:41:00\",\"2018-10-01 21:04:00\",\"2018-10-04 13:10:00\",\"2018-10-12 12:31:00\",\"2018-10-17 10:26:00\",\"2018-10-26 15:32:00\",\"2018-11-01 20:44:00\",\"2018-11-04 21:30:00\",\"2018-11-07 10:14:00\",\"2018-11-07 10:17:00\",\"2018-11-12 09:00:00\",\"2018-11-15 08:35:00\",\"2018-11-17 21:54:00\",\"2018-11-18 19:57:00\",\"2018-11-26 13:25:00\",\"2018-11-28 10:23:00\",\"2018-12-01 11:50:00\",\"2018-12-07 16:16:00\",\"2018-12-08 14:41:00\",\"2018-12-09 21:16:00\",\"2018-12-15 12:39:00\",\"2018-12-16 21:03:00\",\"2018-12-17 20:04:00\",\"2018-12-24 20:23:00\",\"2018-12-25 15:28:00\",\"2018-12-25 21:22:00\",\"2018-12-25 21:24:00\",\"2018-12-25 21:25:00\",\"2018-12-25 21:26:00\",\"2018-12-25 21:27:00\",\"2018-12-27 08:00:00\",\"2018-12-27 12:31:00\",\"2018-12-29 11:36:00\",\"2018-12-31 17:53:00\",\"2019-01-02 08:15:00\",\"2019-01-02 09:29:00\",\"2019-01-05 21:04:00\"],\"y\":[\"\",\"\",\"\",\"\",\"\",\"\",\"\",\"\",\"\",\"\",\"\",\"\",\"\",\"\",\"\",\"\",\"\",\"\",\"\",\"\",\"\",\"\",\"\",\"\",\"\",\"\",\"\",\"\",\"\",\"\",\"\",\"\",\"\",\"\",\"\",\"\",\"\",\"\",\"\",\"\",\"\",\"\",\"\",\"\",\"\",\"\",\"\",\"\",\"\",\"\",\"\",\"\",\"\",\"\",\"\",\"\",\"\",\"\",\"\",\"\",\"\",\"\",\"\",\"\",\"\",\"\",\"\",\"\",\"\",\"\",\"\",\"\",\"\",\"\",\"\",\"\",\"\",\"\",\"\",\"\",\"\",\"\",\"\",\"\",\"\",\"\",\"\",2771.0,\"\",\"\",\"\",\"\",\"\",\"\",\"\",\"\",\"\",\"\",\"\",\"\",\"\",\"\",\"\",\"\",\"\",\"\",\"\",\"\",\"\",\"\",\"\",\"\",\"\",\"\",\"\",\"\",\"\",\"\",\"\",\"\",\"\",\"\",\"\",\"\"]},{\"line\":{\"color\":\"rgba(55, 128, 191, 1.0)\",\"dash\":\"solid\",\"shape\":\"linear\",\"width\":1.3},\"marker\":{\"size\":8,\"symbol\":2},\"mode\":\"markers+lines\",\"name\":\"None\",\"text\":\"\",\"type\":\"scatter\",\"x\":[\"2017-06-10 14:25:00\",\"2017-06-17 22:02:00\",\"2017-06-30 12:55:00\",\"2017-07-01 09:08:00\",\"2017-07-05 08:51:00\",\"2017-07-19 21:09:00\",\"2017-07-25 17:54:00\",\"2017-07-27 21:17:00\",\"2017-07-30 17:50:00\",\"2017-08-01 14:21:00\",\"2017-08-07 14:24:00\",\"2017-08-08 12:58:00\",\"2017-08-10 19:58:00\",\"2017-08-12 15:17:00\",\"2017-08-12 17:03:00\",\"2017-08-15 14:02:00\",\"2017-08-20 17:06:00\",\"2017-08-22 15:09:00\",\"2017-09-22 15:04:00\",\"2017-12-16 10:20:00\",\"2017-12-27 11:20:00\",\"2017-12-27 11:22:00\",\"2017-12-29 18:51:00\",\"2018-01-01 13:45:00\",\"2018-01-06 20:15:00\",\"2018-01-07 20:37:00\",\"2018-01-08 09:45:00\",\"2018-01-08 16:58:00\",\"2018-01-09 21:49:00\",\"2018-01-12 20:48:00\",\"2018-01-13 09:51:00\",\"2018-01-17 15:24:00\",\"2018-01-17 19:42:00\",\"2018-01-18 08:55:00\",\"2018-01-19 15:30:00\",\"2018-01-19 20:16:00\",\"2018-01-22 14:22:00\",\"2018-01-24 18:27:00\",\"2018-01-27 20:17:00\",\"2018-01-28 08:40:00\",\"2018-01-31 11:41:00\",\"2018-02-02 09:26:00\",\"2018-02-04 09:12:00\",\"2018-02-07 09:09:00\",\"2018-02-09 22:29:00\",\"2018-02-11 18:57:00\",\"2018-02-14 11:27:00\",\"2018-02-20 12:49:00\",\"2018-02-24 09:33:00\",\"2018-03-03 11:10:00\",\"2018-03-10 16:16:00\",\"2018-03-17 10:29:00\",\"2018-03-20 09:47:00\",\"2018-03-23 12:44:00\",\"2018-03-31 08:36:00\",\"2018-04-06 14:12:00\",\"2018-04-13 20:38:00\",\"2018-04-20 13:31:00\",\"2018-04-20 13:34:00\",\"2018-04-28 15:27:00\",\"2018-04-30 11:04:00\",\"2018-05-16 12:33:00\",\"2018-05-17 09:34:00\",\"2018-05-18 09:48:00\",\"2018-05-21 14:16:00\",\"2018-05-28 11:39:00\",\"2018-06-02 10:01:00\",\"2018-06-19 20:35:00\",\"2018-06-22 10:12:00\",\"2018-06-24 08:26:00\",\"2018-06-28 08:33:00\",\"2018-07-03 11:04:00\",\"2018-07-20 08:57:00\",\"2018-07-26 09:35:00\",\"2018-08-09 09:04:00\",\"2018-08-11 05:53:00\",\"2018-08-16 14:43:00\",\"2018-08-18 19:49:00\",\"2018-08-20 09:48:00\",\"2018-08-20 09:51:00\",\"2018-08-29 19:08:00\",\"2018-08-30 12:44:00\",\"2018-09-03 17:27:00\",\"2018-09-10 09:26:00\",\"2018-09-16 10:31:00\",\"2018-09-16 17:55:00\",\"2018-09-23 10:26:00\",\"2018-09-26 13:41:00\",\"2018-10-01 21:04:00\",\"2018-10-04 13:10:00\",\"2018-10-12 12:31:00\",\"2018-10-17 10:26:00\",\"2018-10-26 15:32:00\",\"2018-11-01 20:44:00\",\"2018-11-04 21:30:00\",\"2018-11-07 10:14:00\",\"2018-11-07 10:17:00\",\"2018-11-12 09:00:00\",\"2018-11-15 08:35:00\",\"2018-11-17 21:54:00\",\"2018-11-18 19:57:00\",\"2018-11-26 13:25:00\",\"2018-11-28 10:23:00\",\"2018-12-01 11:50:00\",\"2018-12-07 16:16:00\",\"2018-12-08 14:41:00\",\"2018-12-09 21:16:00\",\"2018-12-15 12:39:00\",\"2018-12-16 21:03:00\",\"2018-12-17 20:04:00\",\"2018-12-24 20:23:00\",\"2018-12-25 15:28:00\",\"2018-12-25 21:22:00\",\"2018-12-25 21:24:00\",\"2018-12-25 21:25:00\",\"2018-12-25 21:26:00\",\"2018-12-25 21:27:00\",\"2018-12-27 08:00:00\",\"2018-12-27 12:31:00\",\"2018-12-29 11:36:00\",\"2018-12-31 17:53:00\",\"2019-01-02 08:15:00\",\"2019-01-02 09:29:00\",\"2019-01-05 21:04:00\"],\"y\":[162.0,326.0,1391.0,1444.0,1501.0,1807.0,11186.0,34396.0,34519.0,34583.0,61720.0,63757.5,63811.5,69136.5,73812.5,82059.5,94777.5,94909.5,97022.5,97057.5,\"\",178539.5,178701.5,179014.5,\"\",\"\",182313.5,\"\",\"\",\"\",182461.5,\"\",\"\",182566.5,\"\",\"\",184142.5,\"\",\"\",\"\",\"\",\"\",\"\",\"\",\"\",184369.5,\"\",\"\",\"\",\"\",\"\",\"\",\"\",\"\",\"\",\"\",\"\",\"\",\"\",\"\",\"\",\"\",\"\",\"\",\"\",\"\",\"\",\"\",\"\",\"\",\"\",\"\",\"\",\"\",\"\",\"\",\"\",\"\",\"\",\"\",\"\",\"\",\"\",\"\",\"\",\"\",\"\",\"\",\"\",\"\",\"\",\"\",\"\",\"\",\"\",\"\",\"\",\"\",\"\",\"\",\"\",\"\",\"\",\"\",\"\",\"\",185205.5,\"\",185612.5,\"\",185867.5,186669.5,186881.5,186884.5,186989.5,187035.5,187168.5,187201.5,188370.5,\"\",\"\",\"\",\"\",\"\"]},{\"line\":{\"color\":\"rgba(50, 171, 96, 1.0)\",\"dash\":\"solid\",\"shape\":\"linear\",\"width\":1.3},\"marker\":{\"size\":8,\"symbol\":3},\"mode\":\"markers+lines\",\"name\":\"Noteworthy - The Journal Blog\",\"text\":\"\",\"type\":\"scatter\",\"x\":[\"2017-06-10 14:25:00\",\"2017-06-17 22:02:00\",\"2017-06-30 12:55:00\",\"2017-07-01 09:08:00\",\"2017-07-05 08:51:00\",\"2017-07-19 21:09:00\",\"2017-07-25 17:54:00\",\"2017-07-27 21:17:00\",\"2017-07-30 17:50:00\",\"2017-08-01 14:21:00\",\"2017-08-07 14:24:00\",\"2017-08-08 12:58:00\",\"2017-08-10 19:58:00\",\"2017-08-12 15:17:00\",\"2017-08-12 17:03:00\",\"2017-08-15 14:02:00\",\"2017-08-20 17:06:00\",\"2017-08-22 15:09:00\",\"2017-09-22 15:04:00\",\"2017-12-16 10:20:00\",\"2017-12-27 11:20:00\",\"2017-12-27 11:22:00\",\"2017-12-29 18:51:00\",\"2018-01-01 13:45:00\",\"2018-01-06 20:15:00\",\"2018-01-07 20:37:00\",\"2018-01-08 09:45:00\",\"2018-01-08 16:58:00\",\"2018-01-09 21:49:00\",\"2018-01-12 20:48:00\",\"2018-01-13 09:51:00\",\"2018-01-17 15:24:00\",\"2018-01-17 19:42:00\",\"2018-01-18 08:55:00\",\"2018-01-19 15:30:00\",\"2018-01-19 20:16:00\",\"2018-01-22 14:22:00\",\"2018-01-24 18:27:00\",\"2018-01-27 20:17:00\",\"2018-01-28 08:40:00\",\"2018-01-31 11:41:00\",\"2018-02-02 09:26:00\",\"2018-02-04 09:12:00\",\"2018-02-07 09:09:00\",\"2018-02-09 22:29:00\",\"2018-02-11 18:57:00\",\"2018-02-14 11:27:00\",\"2018-02-20 12:49:00\",\"2018-02-24 09:33:00\",\"2018-03-03 11:10:00\",\"2018-03-10 16:16:00\",\"2018-03-17 10:29:00\",\"2018-03-20 09:47:00\",\"2018-03-23 12:44:00\",\"2018-03-31 08:36:00\",\"2018-04-06 14:12:00\",\"2018-04-13 20:38:00\",\"2018-04-20 13:31:00\",\"2018-04-20 13:34:00\",\"2018-04-28 15:27:00\",\"2018-04-30 11:04:00\",\"2018-05-16 12:33:00\",\"2018-05-17 09:34:00\",\"2018-05-18 09:48:00\",\"2018-05-21 14:16:00\",\"2018-05-28 11:39:00\",\"2018-06-02 10:01:00\",\"2018-06-19 20:35:00\",\"2018-06-22 10:12:00\",\"2018-06-24 08:26:00\",\"2018-06-28 08:33:00\",\"2018-07-03 11:04:00\",\"2018-07-20 08:57:00\",\"2018-07-26 09:35:00\",\"2018-08-09 09:04:00\",\"2018-08-11 05:53:00\",\"2018-08-16 14:43:00\",\"2018-08-18 19:49:00\",\"2018-08-20 09:48:00\",\"2018-08-20 09:51:00\",\"2018-08-29 19:08:00\",\"2018-08-30 12:44:00\",\"2018-09-03 17:27:00\",\"2018-09-10 09:26:00\",\"2018-09-16 10:31:00\",\"2018-09-16 17:55:00\",\"2018-09-23 10:26:00\",\"2018-09-26 13:41:00\",\"2018-10-01 21:04:00\",\"2018-10-04 13:10:00\",\"2018-10-12 12:31:00\",\"2018-10-17 10:26:00\",\"2018-10-26 15:32:00\",\"2018-11-01 20:44:00\",\"2018-11-04 21:30:00\",\"2018-11-07 10:14:00\",\"2018-11-07 10:17:00\",\"2018-11-12 09:00:00\",\"2018-11-15 08:35:00\",\"2018-11-17 21:54:00\",\"2018-11-18 19:57:00\",\"2018-11-26 13:25:00\",\"2018-11-28 10:23:00\",\"2018-12-01 11:50:00\",\"2018-12-07 16:16:00\",\"2018-12-08 14:41:00\",\"2018-12-09 21:16:00\",\"2018-12-15 12:39:00\",\"2018-12-16 21:03:00\",\"2018-12-17 20:04:00\",\"2018-12-24 20:23:00\",\"2018-12-25 15:28:00\",\"2018-12-25 21:22:00\",\"2018-12-25 21:24:00\",\"2018-12-25 21:25:00\",\"2018-12-25 21:26:00\",\"2018-12-25 21:27:00\",\"2018-12-27 08:00:00\",\"2018-12-27 12:31:00\",\"2018-12-29 11:36:00\",\"2018-12-31 17:53:00\",\"2019-01-02 08:15:00\",\"2019-01-02 09:29:00\",\"2019-01-05 21:04:00\"],\"y\":[\"\",\"\",\"\",\"\",\"\",\"\",\"\",\"\",\"\",\"\",\"\",\"\",\"\",\"\",\"\",\"\",\"\",\"\",\"\",\"\",\"\",\"\",\"\",\"\",\"\",\"\",\"\",\"\",\"\",\"\",\"\",\"\",\"\",\"\",\"\",\"\",\"\",\"\",\"\",\"\",\"\",\"\",\"\",\"\",\"\",\"\",\"\",\"\",\"\",\"\",\"\",\"\",\"\",\"\",\"\",\"\",\"\",\"\",\"\",\"\",\"\",\"\",\"\",\"\",\"\",\"\",\"\",\"\",\"\",\"\",\"\",\"\",\"\",\"\",\"\",\"\",\"\",\"\",\"\",\"\",\"\",\"\",\"\",\"\",\"\",\"\",\"\",\"\",\"\",\"\",\"\",2060.0,\"\",\"\",\"\",\"\",\"\",\"\",\"\",\"\",\"\",\"\",\"\",\"\",\"\",\"\",\"\",\"\",\"\",\"\",\"\",\"\",\"\",\"\",\"\",\"\",\"\",\"\",\"\",\"\",\"\",\"\",\"\",\"\"]},{\"line\":{\"color\":\"rgba(128, 0, 128, 1.0)\",\"dash\":\"solid\",\"shape\":\"linear\",\"width\":1.3},\"marker\":{\"size\":8,\"symbol\":4},\"mode\":\"markers+lines\",\"name\":\"The Reality Project\",\"text\":\"\",\"type\":\"scatter\",\"x\":[\"2017-06-10 14:25:00\",\"2017-06-17 22:02:00\",\"2017-06-30 12:55:00\",\"2017-07-01 09:08:00\",\"2017-07-05 08:51:00\",\"2017-07-19 21:09:00\",\"2017-07-25 17:54:00\",\"2017-07-27 21:17:00\",\"2017-07-30 17:50:00\",\"2017-08-01 14:21:00\",\"2017-08-07 14:24:00\",\"2017-08-08 12:58:00\",\"2017-08-10 19:58:00\",\"2017-08-12 15:17:00\",\"2017-08-12 17:03:00\",\"2017-08-15 14:02:00\",\"2017-08-20 17:06:00\",\"2017-08-22 15:09:00\",\"2017-09-22 15:04:00\",\"2017-12-16 10:20:00\",\"2017-12-27 11:20:00\",\"2017-12-27 11:22:00\",\"2017-12-29 18:51:00\",\"2018-01-01 13:45:00\",\"2018-01-06 20:15:00\",\"2018-01-07 20:37:00\",\"2018-01-08 09:45:00\",\"2018-01-08 16:58:00\",\"2018-01-09 21:49:00\",\"2018-01-12 20:48:00\",\"2018-01-13 09:51:00\",\"2018-01-17 15:24:00\",\"2018-01-17 19:42:00\",\"2018-01-18 08:55:00\",\"2018-01-19 15:30:00\",\"2018-01-19 20:16:00\",\"2018-01-22 14:22:00\",\"2018-01-24 18:27:00\",\"2018-01-27 20:17:00\",\"2018-01-28 08:40:00\",\"2018-01-31 11:41:00\",\"2018-02-02 09:26:00\",\"2018-02-04 09:12:00\",\"2018-02-07 09:09:00\",\"2018-02-09 22:29:00\",\"2018-02-11 18:57:00\",\"2018-02-14 11:27:00\",\"2018-02-20 12:49:00\",\"2018-02-24 09:33:00\",\"2018-03-03 11:10:00\",\"2018-03-10 16:16:00\",\"2018-03-17 10:29:00\",\"2018-03-20 09:47:00\",\"2018-03-23 12:44:00\",\"2018-03-31 08:36:00\",\"2018-04-06 14:12:00\",\"2018-04-13 20:38:00\",\"2018-04-20 13:31:00\",\"2018-04-20 13:34:00\",\"2018-04-28 15:27:00\",\"2018-04-30 11:04:00\",\"2018-05-16 12:33:00\",\"2018-05-17 09:34:00\",\"2018-05-18 09:48:00\",\"2018-05-21 14:16:00\",\"2018-05-28 11:39:00\",\"2018-06-02 10:01:00\",\"2018-06-19 20:35:00\",\"2018-06-22 10:12:00\",\"2018-06-24 08:26:00\",\"2018-06-28 08:33:00\",\"2018-07-03 11:04:00\",\"2018-07-20 08:57:00\",\"2018-07-26 09:35:00\",\"2018-08-09 09:04:00\",\"2018-08-11 05:53:00\",\"2018-08-16 14:43:00\",\"2018-08-18 19:49:00\",\"2018-08-20 09:48:00\",\"2018-08-20 09:51:00\",\"2018-08-29 19:08:00\",\"2018-08-30 12:44:00\",\"2018-09-03 17:27:00\",\"2018-09-10 09:26:00\",\"2018-09-16 10:31:00\",\"2018-09-16 17:55:00\",\"2018-09-23 10:26:00\",\"2018-09-26 13:41:00\",\"2018-10-01 21:04:00\",\"2018-10-04 13:10:00\",\"2018-10-12 12:31:00\",\"2018-10-17 10:26:00\",\"2018-10-26 15:32:00\",\"2018-11-01 20:44:00\",\"2018-11-04 21:30:00\",\"2018-11-07 10:14:00\",\"2018-11-07 10:17:00\",\"2018-11-12 09:00:00\",\"2018-11-15 08:35:00\",\"2018-11-17 21:54:00\",\"2018-11-18 19:57:00\",\"2018-11-26 13:25:00\",\"2018-11-28 10:23:00\",\"2018-12-01 11:50:00\",\"2018-12-07 16:16:00\",\"2018-12-08 14:41:00\",\"2018-12-09 21:16:00\",\"2018-12-15 12:39:00\",\"2018-12-16 21:03:00\",\"2018-12-17 20:04:00\",\"2018-12-24 20:23:00\",\"2018-12-25 15:28:00\",\"2018-12-25 21:22:00\",\"2018-12-25 21:24:00\",\"2018-12-25 21:25:00\",\"2018-12-25 21:26:00\",\"2018-12-25 21:27:00\",\"2018-12-27 08:00:00\",\"2018-12-27 12:31:00\",\"2018-12-29 11:36:00\",\"2018-12-31 17:53:00\",\"2019-01-02 08:15:00\",\"2019-01-02 09:29:00\",\"2019-01-05 21:04:00\"],\"y\":[\"\",\"\",\"\",\"\",\"\",\"\",\"\",\"\",\"\",\"\",\"\",\"\",\"\",\"\",\"\",\"\",\"\",\"\",\"\",\"\",\"\",\"\",\"\",\"\",\"\",\"\",\"\",\"\",\"\",\"\",\"\",\"\",\"\",\"\",\"\",\"\",\"\",\"\",\"\",\"\",\"\",\"\",\"\",\"\",\"\",\"\",\"\",\"\",\"\",\"\",\"\",\"\",\"\",\"\",\"\",\"\",\"\",\"\",\"\",\"\",\"\",\"\",\"\",\"\",\"\",\"\",\"\",\"\",\"\",\"\",\"\",\"\",\"\",\"\",\"\",\"\",\"\",\"\",\"\",\"\",\"\",\"\",\"\",\"\",\"\",\"\",\"\",\"\",\"\",\"\",\"\",\"\",\"\",\"\",\"\",\"\",\"\",\"\",\"\",\"\",\"\",\"\",\"\",\"\",\"\",\"\",\"\",\"\",\"\",\"\",\"\",\"\",\"\",\"\",\"\",\"\",\"\",\"\",\"\",\"\",\"\",418.0,818.0,1063.0]},{\"line\":{\"color\":\"rgba(219, 64, 82, 1.0)\",\"dash\":\"solid\",\"shape\":\"linear\",\"width\":1.3},\"marker\":{\"size\":8,\"symbol\":5},\"mode\":\"markers+lines\",\"name\":\"Towards Data Science\",\"text\":\"\",\"type\":\"scatter\",\"x\":[\"2017-06-10 14:25:00\",\"2017-06-17 22:02:00\",\"2017-06-30 12:55:00\",\"2017-07-01 09:08:00\",\"2017-07-05 08:51:00\",\"2017-07-19 21:09:00\",\"2017-07-25 17:54:00\",\"2017-07-27 21:17:00\",\"2017-07-30 17:50:00\",\"2017-08-01 14:21:00\",\"2017-08-07 14:24:00\",\"2017-08-08 12:58:00\",\"2017-08-10 19:58:00\",\"2017-08-12 15:17:00\",\"2017-08-12 17:03:00\",\"2017-08-15 14:02:00\",\"2017-08-20 17:06:00\",\"2017-08-22 15:09:00\",\"2017-09-22 15:04:00\",\"2017-12-16 10:20:00\",\"2017-12-27 11:20:00\",\"2017-12-27 11:22:00\",\"2017-12-29 18:51:00\",\"2018-01-01 13:45:00\",\"2018-01-06 20:15:00\",\"2018-01-07 20:37:00\",\"2018-01-08 09:45:00\",\"2018-01-08 16:58:00\",\"2018-01-09 21:49:00\",\"2018-01-12 20:48:00\",\"2018-01-13 09:51:00\",\"2018-01-17 15:24:00\",\"2018-01-17 19:42:00\",\"2018-01-18 08:55:00\",\"2018-01-19 15:30:00\",\"2018-01-19 20:16:00\",\"2018-01-22 14:22:00\",\"2018-01-24 18:27:00\",\"2018-01-27 20:17:00\",\"2018-01-28 08:40:00\",\"2018-01-31 11:41:00\",\"2018-02-02 09:26:00\",\"2018-02-04 09:12:00\",\"2018-02-07 09:09:00\",\"2018-02-09 22:29:00\",\"2018-02-11 18:57:00\",\"2018-02-14 11:27:00\",\"2018-02-20 12:49:00\",\"2018-02-24 09:33:00\",\"2018-03-03 11:10:00\",\"2018-03-10 16:16:00\",\"2018-03-17 10:29:00\",\"2018-03-20 09:47:00\",\"2018-03-23 12:44:00\",\"2018-03-31 08:36:00\",\"2018-04-06 14:12:00\",\"2018-04-13 20:38:00\",\"2018-04-20 13:31:00\",\"2018-04-20 13:34:00\",\"2018-04-28 15:27:00\",\"2018-04-30 11:04:00\",\"2018-05-16 12:33:00\",\"2018-05-17 09:34:00\",\"2018-05-18 09:48:00\",\"2018-05-21 14:16:00\",\"2018-05-28 11:39:00\",\"2018-06-02 10:01:00\",\"2018-06-19 20:35:00\",\"2018-06-22 10:12:00\",\"2018-06-24 08:26:00\",\"2018-06-28 08:33:00\",\"2018-07-03 11:04:00\",\"2018-07-20 08:57:00\",\"2018-07-26 09:35:00\",\"2018-08-09 09:04:00\",\"2018-08-11 05:53:00\",\"2018-08-16 14:43:00\",\"2018-08-18 19:49:00\",\"2018-08-20 09:48:00\",\"2018-08-20 09:51:00\",\"2018-08-29 19:08:00\",\"2018-08-30 12:44:00\",\"2018-09-03 17:27:00\",\"2018-09-10 09:26:00\",\"2018-09-16 10:31:00\",\"2018-09-16 17:55:00\",\"2018-09-23 10:26:00\",\"2018-09-26 13:41:00\",\"2018-10-01 21:04:00\",\"2018-10-04 13:10:00\",\"2018-10-12 12:31:00\",\"2018-10-17 10:26:00\",\"2018-10-26 15:32:00\",\"2018-11-01 20:44:00\",\"2018-11-04 21:30:00\",\"2018-11-07 10:14:00\",\"2018-11-07 10:17:00\",\"2018-11-12 09:00:00\",\"2018-11-15 08:35:00\",\"2018-11-17 21:54:00\",\"2018-11-18 19:57:00\",\"2018-11-26 13:25:00\",\"2018-11-28 10:23:00\",\"2018-12-01 11:50:00\",\"2018-12-07 16:16:00\",\"2018-12-08 14:41:00\",\"2018-12-09 21:16:00\",\"2018-12-15 12:39:00\",\"2018-12-16 21:03:00\",\"2018-12-17 20:04:00\",\"2018-12-24 20:23:00\",\"2018-12-25 15:28:00\",\"2018-12-25 21:22:00\",\"2018-12-25 21:24:00\",\"2018-12-25 21:25:00\",\"2018-12-25 21:26:00\",\"2018-12-25 21:27:00\",\"2018-12-27 08:00:00\",\"2018-12-27 12:31:00\",\"2018-12-29 11:36:00\",\"2018-12-31 17:53:00\",\"2019-01-02 08:15:00\",\"2019-01-02 09:29:00\",\"2019-01-05 21:04:00\"],\"y\":[\"\",\"\",\"\",\"\",\"\",\"\",\"\",\"\",\"\",\"\",\"\",\"\",\"\",\"\",\"\",\"\",\"\",\"\",\"\",\"\",161596.0,\"\",\"\",\"\",193255.0,195961.0,\"\",198308.0,304619.0,429444.0,\"\",506941.0,511765.0,\"\",638616.0,657671.0,\"\",661673.0,677589.0,710112.0,725242.0,772441.0,820063.0,823032.0,877190.0,\"\",911252.0,915883.0,928726.0,1045826.0,1105195.0,1157504.0,1185583.0,1292367.0,1344967.0,1390702.0,1445618.0,1466454.0,1490141.0,1556612.0,1558977.0,1679803.0,1724564.0,1750807.0,1783784.0,1825824.0,1935819.0,1946487.0,2022913.0,2046776.0,2076630.0,2119483.0,2124820.0,2128860.0,2152931.0,2169515.0,2173446.0,2198558.0,2241182.0,2247365.0,2249014.0,2261840.0,2276510.0,2300721.0,2304327.0,2305950.0,2329601.0,\"\",2355998.0,2362302.0,2375073.0,\"\",2407748.0,2410922.0,2441901.0,2446940.0,2453190.0,2458417.0,2466353.0,2493107.0,2507535.0,2515650.0,2536961.0,2559019.0,2582199.0,2586985.0,\"\",2596719.0,\"\",2602026.0,\"\",\"\",\"\",\"\",\"\",\"\",\"\",\"\",\"\",2603729.0,2605961.0,\"\",\"\",\"\"]}],                        {\"template\":{\"data\":{\"bar\":[{\"error_x\":{\"color\":\"#2a3f5f\"},\"error_y\":{\"color\":\"#2a3f5f\"},\"marker\":{\"line\":{\"color\":\"#E5ECF6\",\"width\":0.5},\"pattern\":{\"fillmode\":\"overlay\",\"size\":10,\"solidity\":0.2}},\"type\":\"bar\"}],\"barpolar\":[{\"marker\":{\"line\":{\"color\":\"#E5ECF6\",\"width\":0.5},\"pattern\":{\"fillmode\":\"overlay\",\"size\":10,\"solidity\":0.2}},\"type\":\"barpolar\"}],\"carpet\":[{\"aaxis\":{\"endlinecolor\":\"#2a3f5f\",\"gridcolor\":\"white\",\"linecolor\":\"white\",\"minorgridcolor\":\"white\",\"startlinecolor\":\"#2a3f5f\"},\"baxis\":{\"endlinecolor\":\"#2a3f5f\",\"gridcolor\":\"white\",\"linecolor\":\"white\",\"minorgridcolor\":\"white\",\"startlinecolor\":\"#2a3f5f\"},\"type\":\"carpet\"}],\"choropleth\":[{\"colorbar\":{\"outlinewidth\":0,\"ticks\":\"\"},\"type\":\"choropleth\"}],\"contour\":[{\"colorbar\":{\"outlinewidth\":0,\"ticks\":\"\"},\"colorscale\":[[0.0,\"#0d0887\"],[0.1111111111111111,\"#46039f\"],[0.2222222222222222,\"#7201a8\"],[0.3333333333333333,\"#9c179e\"],[0.4444444444444444,\"#bd3786\"],[0.5555555555555556,\"#d8576b\"],[0.6666666666666666,\"#ed7953\"],[0.7777777777777778,\"#fb9f3a\"],[0.8888888888888888,\"#fdca26\"],[1.0,\"#f0f921\"]],\"type\":\"contour\"}],\"contourcarpet\":[{\"colorbar\":{\"outlinewidth\":0,\"ticks\":\"\"},\"type\":\"contourcarpet\"}],\"heatmap\":[{\"colorbar\":{\"outlinewidth\":0,\"ticks\":\"\"},\"colorscale\":[[0.0,\"#0d0887\"],[0.1111111111111111,\"#46039f\"],[0.2222222222222222,\"#7201a8\"],[0.3333333333333333,\"#9c179e\"],[0.4444444444444444,\"#bd3786\"],[0.5555555555555556,\"#d8576b\"],[0.6666666666666666,\"#ed7953\"],[0.7777777777777778,\"#fb9f3a\"],[0.8888888888888888,\"#fdca26\"],[1.0,\"#f0f921\"]],\"type\":\"heatmap\"}],\"heatmapgl\":[{\"colorbar\":{\"outlinewidth\":0,\"ticks\":\"\"},\"colorscale\":[[0.0,\"#0d0887\"],[0.1111111111111111,\"#46039f\"],[0.2222222222222222,\"#7201a8\"],[0.3333333333333333,\"#9c179e\"],[0.4444444444444444,\"#bd3786\"],[0.5555555555555556,\"#d8576b\"],[0.6666666666666666,\"#ed7953\"],[0.7777777777777778,\"#fb9f3a\"],[0.8888888888888888,\"#fdca26\"],[1.0,\"#f0f921\"]],\"type\":\"heatmapgl\"}],\"histogram\":[{\"marker\":{\"pattern\":{\"fillmode\":\"overlay\",\"size\":10,\"solidity\":0.2}},\"type\":\"histogram\"}],\"histogram2d\":[{\"colorbar\":{\"outlinewidth\":0,\"ticks\":\"\"},\"colorscale\":[[0.0,\"#0d0887\"],[0.1111111111111111,\"#46039f\"],[0.2222222222222222,\"#7201a8\"],[0.3333333333333333,\"#9c179e\"],[0.4444444444444444,\"#bd3786\"],[0.5555555555555556,\"#d8576b\"],[0.6666666666666666,\"#ed7953\"],[0.7777777777777778,\"#fb9f3a\"],[0.8888888888888888,\"#fdca26\"],[1.0,\"#f0f921\"]],\"type\":\"histogram2d\"}],\"histogram2dcontour\":[{\"colorbar\":{\"outlinewidth\":0,\"ticks\":\"\"},\"colorscale\":[[0.0,\"#0d0887\"],[0.1111111111111111,\"#46039f\"],[0.2222222222222222,\"#7201a8\"],[0.3333333333333333,\"#9c179e\"],[0.4444444444444444,\"#bd3786\"],[0.5555555555555556,\"#d8576b\"],[0.6666666666666666,\"#ed7953\"],[0.7777777777777778,\"#fb9f3a\"],[0.8888888888888888,\"#fdca26\"],[1.0,\"#f0f921\"]],\"type\":\"histogram2dcontour\"}],\"mesh3d\":[{\"colorbar\":{\"outlinewidth\":0,\"ticks\":\"\"},\"type\":\"mesh3d\"}],\"parcoords\":[{\"line\":{\"colorbar\":{\"outlinewidth\":0,\"ticks\":\"\"}},\"type\":\"parcoords\"}],\"pie\":[{\"automargin\":true,\"type\":\"pie\"}],\"scatter\":[{\"marker\":{\"colorbar\":{\"outlinewidth\":0,\"ticks\":\"\"}},\"type\":\"scatter\"}],\"scatter3d\":[{\"line\":{\"colorbar\":{\"outlinewidth\":0,\"ticks\":\"\"}},\"marker\":{\"colorbar\":{\"outlinewidth\":0,\"ticks\":\"\"}},\"type\":\"scatter3d\"}],\"scattercarpet\":[{\"marker\":{\"colorbar\":{\"outlinewidth\":0,\"ticks\":\"\"}},\"type\":\"scattercarpet\"}],\"scattergeo\":[{\"marker\":{\"colorbar\":{\"outlinewidth\":0,\"ticks\":\"\"}},\"type\":\"scattergeo\"}],\"scattergl\":[{\"marker\":{\"colorbar\":{\"outlinewidth\":0,\"ticks\":\"\"}},\"type\":\"scattergl\"}],\"scattermapbox\":[{\"marker\":{\"colorbar\":{\"outlinewidth\":0,\"ticks\":\"\"}},\"type\":\"scattermapbox\"}],\"scatterpolar\":[{\"marker\":{\"colorbar\":{\"outlinewidth\":0,\"ticks\":\"\"}},\"type\":\"scatterpolar\"}],\"scatterpolargl\":[{\"marker\":{\"colorbar\":{\"outlinewidth\":0,\"ticks\":\"\"}},\"type\":\"scatterpolargl\"}],\"scatterternary\":[{\"marker\":{\"colorbar\":{\"outlinewidth\":0,\"ticks\":\"\"}},\"type\":\"scatterternary\"}],\"surface\":[{\"colorbar\":{\"outlinewidth\":0,\"ticks\":\"\"},\"colorscale\":[[0.0,\"#0d0887\"],[0.1111111111111111,\"#46039f\"],[0.2222222222222222,\"#7201a8\"],[0.3333333333333333,\"#9c179e\"],[0.4444444444444444,\"#bd3786\"],[0.5555555555555556,\"#d8576b\"],[0.6666666666666666,\"#ed7953\"],[0.7777777777777778,\"#fb9f3a\"],[0.8888888888888888,\"#fdca26\"],[1.0,\"#f0f921\"]],\"type\":\"surface\"}],\"table\":[{\"cells\":{\"fill\":{\"color\":\"#EBF0F8\"},\"line\":{\"color\":\"white\"}},\"header\":{\"fill\":{\"color\":\"#C8D4E3\"},\"line\":{\"color\":\"white\"}},\"type\":\"table\"}]},\"layout\":{\"annotationdefaults\":{\"arrowcolor\":\"#2a3f5f\",\"arrowhead\":0,\"arrowwidth\":1},\"autotypenumbers\":\"strict\",\"coloraxis\":{\"colorbar\":{\"outlinewidth\":0,\"ticks\":\"\"}},\"colorscale\":{\"diverging\":[[0,\"#8e0152\"],[0.1,\"#c51b7d\"],[0.2,\"#de77ae\"],[0.3,\"#f1b6da\"],[0.4,\"#fde0ef\"],[0.5,\"#f7f7f7\"],[0.6,\"#e6f5d0\"],[0.7,\"#b8e186\"],[0.8,\"#7fbc41\"],[0.9,\"#4d9221\"],[1,\"#276419\"]],\"sequential\":[[0.0,\"#0d0887\"],[0.1111111111111111,\"#46039f\"],[0.2222222222222222,\"#7201a8\"],[0.3333333333333333,\"#9c179e\"],[0.4444444444444444,\"#bd3786\"],[0.5555555555555556,\"#d8576b\"],[0.6666666666666666,\"#ed7953\"],[0.7777777777777778,\"#fb9f3a\"],[0.8888888888888888,\"#fdca26\"],[1.0,\"#f0f921\"]],\"sequentialminus\":[[0.0,\"#0d0887\"],[0.1111111111111111,\"#46039f\"],[0.2222222222222222,\"#7201a8\"],[0.3333333333333333,\"#9c179e\"],[0.4444444444444444,\"#bd3786\"],[0.5555555555555556,\"#d8576b\"],[0.6666666666666666,\"#ed7953\"],[0.7777777777777778,\"#fb9f3a\"],[0.8888888888888888,\"#fdca26\"],[1.0,\"#f0f921\"]]},\"colorway\":[\"#636efa\",\"#EF553B\",\"#00cc96\",\"#ab63fa\",\"#FFA15A\",\"#19d3f3\",\"#FF6692\",\"#B6E880\",\"#FF97FF\",\"#FECB52\"],\"font\":{\"color\":\"#2a3f5f\"},\"geo\":{\"bgcolor\":\"white\",\"lakecolor\":\"white\",\"landcolor\":\"#E5ECF6\",\"showlakes\":true,\"showland\":true,\"subunitcolor\":\"white\"},\"hoverlabel\":{\"align\":\"left\"},\"hovermode\":\"closest\",\"mapbox\":{\"style\":\"light\"},\"paper_bgcolor\":\"white\",\"plot_bgcolor\":\"#E5ECF6\",\"polar\":{\"angularaxis\":{\"gridcolor\":\"white\",\"linecolor\":\"white\",\"ticks\":\"\"},\"bgcolor\":\"#E5ECF6\",\"radialaxis\":{\"gridcolor\":\"white\",\"linecolor\":\"white\",\"ticks\":\"\"}},\"scene\":{\"xaxis\":{\"backgroundcolor\":\"#E5ECF6\",\"gridcolor\":\"white\",\"gridwidth\":2,\"linecolor\":\"white\",\"showbackground\":true,\"ticks\":\"\",\"zerolinecolor\":\"white\"},\"yaxis\":{\"backgroundcolor\":\"#E5ECF6\",\"gridcolor\":\"white\",\"gridwidth\":2,\"linecolor\":\"white\",\"showbackground\":true,\"ticks\":\"\",\"zerolinecolor\":\"white\"},\"zaxis\":{\"backgroundcolor\":\"#E5ECF6\",\"gridcolor\":\"white\",\"gridwidth\":2,\"linecolor\":\"white\",\"showbackground\":true,\"ticks\":\"\",\"zerolinecolor\":\"white\"}},\"shapedefaults\":{\"line\":{\"color\":\"#2a3f5f\"}},\"ternary\":{\"aaxis\":{\"gridcolor\":\"white\",\"linecolor\":\"white\",\"ticks\":\"\"},\"baxis\":{\"gridcolor\":\"white\",\"linecolor\":\"white\",\"ticks\":\"\"},\"bgcolor\":\"#E5ECF6\",\"caxis\":{\"gridcolor\":\"white\",\"linecolor\":\"white\",\"ticks\":\"\"}},\"title\":{\"x\":0.05},\"xaxis\":{\"automargin\":true,\"gridcolor\":\"white\",\"linecolor\":\"white\",\"ticks\":\"\",\"title\":{\"standoff\":15},\"zerolinecolor\":\"white\",\"zerolinewidth\":2},\"yaxis\":{\"automargin\":true,\"gridcolor\":\"white\",\"linecolor\":\"white\",\"ticks\":\"\",\"title\":{\"standoff\":15},\"zerolinecolor\":\"white\",\"zerolinewidth\":2}}},\"title\":{\"text\":\"Total Views over Time by Publication\"},\"xaxis\":{\"title\":{\"text\":\"Date\"}},\"yaxis\":{\"title\":{\"text\":\"Total Views\"},\"type\":\"log\"}},                        {\"showLink\": true, \"linkText\": \"Export to plot.ly\", \"plotlyServerURL\": \"https://plot.ly\", \"responsive\": true}                    ).then(function(){\n",
       "                            \n",
       "var gd = document.getElementById('3e31caca-fe61-4a74-8e7a-ac88619f563e');\n",
       "var x = new MutationObserver(function (mutations, observer) {{\n",
       "        var display = window.getComputedStyle(gd).display;\n",
       "        if (!display || display === 'none') {{\n",
       "            console.log([gd, 'removed!']);\n",
       "            Plotly.purge(gd);\n",
       "            observer.disconnect();\n",
       "        }}\n",
       "}});\n",
       "\n",
       "// Listen for the removal of the full notebook cells\n",
       "var notebookContainer = gd.closest('#notebook-container');\n",
       "if (notebookContainer) {{\n",
       "    x.observe(notebookContainer, {childList: true});\n",
       "}}\n",
       "\n",
       "// Listen for the clearing of the current output cell\n",
       "var outputEl = gd.closest('.output');\n",
       "if (outputEl) {{\n",
       "    x.observe(outputEl, {childList: true});\n",
       "}}\n",
       "\n",
       "                        })                };                });            </script>        </div>"
      ]
     },
     "metadata": {},
     "output_type": "display_data"
    }
   ],
   "source": [
    "#We can make cumulative plots by adding up the statistics over time.\n",
    "df.pivot_table(values='views', index='published_date', columns='publication').cumsum().iplot(\n",
    "        mode='markers+lines',\n",
    "        size=8,\n",
    "        symbol=[1, 2, 3, 4, 5],\n",
    "        layout=dict(\n",
    "            xaxis=dict(title='Date'),\n",
    "            yaxis=dict(type='log', title='Total Views'),\n",
    "            title='Total Views over Time by Publication'))"
   ]
  },
  {
   "cell_type": "code",
   "execution_count": 61,
   "id": "2b5d0e06",
   "metadata": {},
   "outputs": [
    {
     "data": {
      "application/vnd.plotly.v1+json": {
       "config": {
        "linkText": "Export to plot.ly",
        "plotlyServerURL": "https://plot.ly",
        "showLink": false
       },
       "data": [
        {
         "marker": {
          "color": "rgb(31, 119, 180)"
         },
         "showlegend": false,
         "type": "histogram",
         "x": [
          315
         ],
         "xaxis": "x",
         "yaxis": "y"
        },
        {
         "marker": {
          "color": "rgb(255, 127, 14)"
         },
         "showlegend": false,
         "type": "histogram",
         "x": [
          2,
          18,
          50,
          0,
          0,
          0,
          73,
          234,
          2,
          0,
          682,
          58,
          5,
          7,
          87,
          23,
          4,
          113,
          8,
          17,
          8,
          2700,
          72,
          123,
          11,
          59,
          14,
          275,
          101,
          728,
          205,
          121,
          361,
          31,
          0,
          24,
          0,
          5,
          6,
          0,
          424
         ],
         "xaxis": "x",
         "yaxis": "y"
        },
        {
         "marker": {
          "color": "rgb(44, 160, 44)"
         },
         "showlegend": false,
         "type": "histogram",
         "x": [
          1000
         ],
         "xaxis": "x",
         "yaxis": "y"
        },
        {
         "marker": {
          "color": "rgb(214, 39, 40)"
         },
         "showlegend": false,
         "type": "histogram",
         "x": [
          329,
          309,
          75
         ],
         "xaxis": "x",
         "yaxis": "y"
        },
        {
         "marker": {
          "color": "rgb(148, 103, 189)"
         },
         "showlegend": false,
         "type": "histogram",
         "x": [
          4800,
          857,
          186,
          119,
          2000,
          4100,
          2700,
          77,
          7000,
          1200,
          1600,
          1600,
          1000,
          4300,
          4980,
          12900,
          223,
          4900,
          5900,
          548,
          895,
          6700,
          6500,
          2700,
          1100,
          2900,
          2600,
          2800,
          5300,
          1300,
          1000,
          7900,
          364,
          13500,
          4100,
          2200,
          3900,
          6300,
          8200,
          1300,
          5400,
          2300,
          2700,
          2100,
          707,
          650,
          2700,
          4100,
          822,
          830,
          3700,
          653,
          657,
          1100,
          2800,
          3100,
          792,
          222,
          3300,
          2500,
          976,
          2000,
          3200,
          651,
          2300,
          809,
          745,
          587,
          818,
          2200,
          1300,
          630,
          2600,
          2000,
          3600,
          440,
          893,
          529,
          443,
          412
         ],
         "xaxis": "x",
         "yaxis": "y"
        },
        {
         "marker": {
          "color": "rgb(31, 119, 180)",
          "size": 6
         },
         "mode": "markers",
         "name": "Engineering @ Feature Labs",
         "showlegend": true,
         "type": "scatter",
         "x": [
          2771
         ],
         "xaxis": "x2",
         "y": [
          315
         ],
         "yaxis": "y2"
        },
        {
         "marker": {
          "color": "rgb(255, 127, 14)",
          "size": 6
         },
         "mode": "markers",
         "name": "None",
         "showlegend": true,
         "type": "scatter",
         "x": [
          162,
          164,
          1065,
          53,
          57,
          306,
          9379,
          23210,
          123,
          64,
          27137,
          3930,
          145,
          54,
          5325,
          4676,
          8247,
          12718,
          132,
          2113,
          35,
          81482,
          162,
          313,
          3299,
          148,
          105,
          1576,
          227,
          836,
          407,
          255,
          802,
          212,
          3,
          105,
          8,
          84,
          133,
          33,
          1169
         ],
         "xaxis": "x2",
         "y": [
          2,
          18,
          50,
          0,
          0,
          0,
          73,
          234,
          2,
          0,
          682,
          58,
          5,
          7,
          87,
          23,
          4,
          113,
          8,
          17,
          8,
          2700,
          72,
          123,
          11,
          59,
          14,
          275,
          101,
          728,
          205,
          121,
          361,
          31,
          0,
          24,
          0,
          5,
          6,
          0,
          424
         ],
         "yaxis": "y2"
        },
        {
         "marker": {
          "color": "rgb(44, 160, 44)",
          "size": 6
         },
         "mode": "markers",
         "name": "Noteworthy - The Journal Blog",
         "showlegend": true,
         "type": "scatter",
         "x": [
          2060
         ],
         "xaxis": "x2",
         "y": [
          1000
         ],
         "yaxis": "y2"
        },
        {
         "marker": {
          "color": "rgb(214, 39, 40)",
          "size": 6
         },
         "mode": "markers",
         "name": "The Reality Project",
         "showlegend": true,
         "type": "scatter",
         "x": [
          418,
          400,
          245
         ],
         "xaxis": "x2",
         "y": [
          329,
          309,
          75
         ],
         "yaxis": "y2"
        },
        {
         "marker": {
          "color": "rgb(148, 103, 189)",
          "size": 6
         },
         "mode": "markers",
         "name": "Towards Data Science",
         "showlegend": true,
         "type": "scatter",
         "x": [
          161596,
          31659,
          2706,
          2347,
          106311,
          124825,
          77497,
          4824,
          126851,
          19055,
          4002,
          15916,
          32523,
          15130,
          47199,
          47622,
          2969,
          54158,
          34062,
          4631,
          12843,
          117100,
          59369,
          52309,
          28079,
          106784,
          52600,
          45735,
          54916,
          20836,
          23687,
          66471,
          2365,
          120826,
          44761,
          26243,
          32977,
          42040,
          109995,
          10668,
          76426,
          23863,
          29854,
          42853,
          5337,
          4040,
          24071,
          16584,
          3931,
          25112,
          42624,
          6183,
          1649,
          12826,
          14670,
          24211,
          3606,
          1623,
          23651,
          26397,
          6304,
          12771,
          32675,
          3174,
          30979,
          5039,
          6250,
          5227,
          7936,
          26754,
          14428,
          8115,
          21311,
          22058,
          23180,
          4786,
          9734,
          5307,
          1703,
          2232
         ],
         "xaxis": "x2",
         "y": [
          4800,
          857,
          186,
          119,
          2000,
          4100,
          2700,
          77,
          7000,
          1200,
          1600,
          1600,
          1000,
          4300,
          4980,
          12900,
          223,
          4900,
          5900,
          548,
          895,
          6700,
          6500,
          2700,
          1100,
          2900,
          2600,
          2800,
          5300,
          1300,
          1000,
          7900,
          364,
          13500,
          4100,
          2200,
          3900,
          6300,
          8200,
          1300,
          5400,
          2300,
          2700,
          2100,
          707,
          650,
          2700,
          4100,
          822,
          830,
          3700,
          653,
          657,
          1100,
          2800,
          3100,
          792,
          222,
          3300,
          2500,
          976,
          2000,
          3200,
          651,
          2300,
          809,
          745,
          587,
          818,
          2200,
          1300,
          630,
          2600,
          2000,
          3600,
          440,
          893,
          529,
          443,
          412
         ],
         "yaxis": "y2"
        },
        {
         "marker": {
          "color": "rgb(31, 119, 180)",
          "size": 6
         },
         "mode": "markers",
         "name": "Engineering @ Feature Labs",
         "showlegend": false,
         "type": "scatter",
         "x": [
          27.28
         ],
         "xaxis": "x3",
         "y": [
          315
         ],
         "yaxis": "y3"
        },
        {
         "marker": {
          "color": "rgb(255, 127, 14)",
          "size": 6
         },
         "mode": "markers",
         "name": "None",
         "showlegend": false,
         "type": "scatter",
         "x": [
          41.98,
          32.93,
          20.19,
          35.85,
          8.77,
          19.28,
          17.64,
          23.55,
          33.33,
          23.44,
          14.07,
          12.24,
          18.62,
          27.78,
          11.87,
          11.57,
          28.87,
          15.38,
          53.03,
          13.2,
          65.71,
          42.03,
          36.42,
          42.81,
          34.43,
          41.89,
          54.29,
          28.68,
          58.15,
          47.01,
          35.38,
          24.31,
          39.28,
          11.79,
          33.33,
          12.38,
          25,
          9.52,
          27.82,
          6.06,
          19.16
         ],
         "xaxis": "x3",
         "y": [
          2,
          18,
          50,
          0,
          0,
          0,
          73,
          234,
          2,
          0,
          682,
          58,
          5,
          7,
          87,
          23,
          4,
          113,
          8,
          17,
          8,
          2700,
          72,
          123,
          11,
          59,
          14,
          275,
          101,
          728,
          205,
          121,
          361,
          31,
          0,
          24,
          0,
          5,
          6,
          0,
          424
         ],
         "yaxis": "y3"
        },
        {
         "marker": {
          "color": "rgb(44, 160, 44)",
          "size": 6
         },
         "mode": "markers",
         "name": "Noteworthy - The Journal Blog",
         "showlegend": false,
         "type": "scatter",
         "x": [
          26.21
         ],
         "xaxis": "x3",
         "y": [
          1000
         ],
         "yaxis": "y3"
        },
        {
         "marker": {
          "color": "rgb(214, 39, 40)",
          "size": 6
         },
         "mode": "markers",
         "name": "The Reality Project",
         "showlegend": false,
         "type": "scatter",
         "x": [
          39.23,
          28.75,
          21.22
         ],
         "xaxis": "x3",
         "y": [
          329,
          309,
          75
         ],
         "yaxis": "y3"
        },
        {
         "marker": {
          "color": "rgb(148, 103, 189)",
          "size": 6
         },
         "mode": "markers",
         "name": "Towards Data Science",
         "showlegend": false,
         "type": "scatter",
         "x": [
          17.68,
          22.76,
          28.64,
          31.53,
          23.99,
          25.02,
          26.48,
          62.02,
          31.14,
          35.91,
          54.9,
          41.91,
          30.74,
          47.3,
          29.82,
          62.61,
          43.21,
          28.8,
          32.28,
          42.88,
          43.51,
          20.4,
          22.68,
          36.49,
          36.98,
          27.17,
          33.18,
          31.37,
          33.73,
          30.79,
          26.51,
          31.56,
          63.3,
          18.85,
          20.65,
          23.58,
          25.07,
          23.81,
          21.75,
          16.88,
          25.47,
          21.64,
          26.89,
          14.38,
          18.08,
          43.19,
          24.69,
          33.16,
          26.89,
          44.17,
          16.73,
          19.29,
          74.53,
          17.44,
          26.93,
          18.99,
          40.82,
          18.85,
          18.21,
          27.13,
          19.84,
          23.81,
          28.56,
          40.39,
          17.22,
          24.27,
          38.53,
          21.47,
          21.47,
          30.31,
          34.19,
          17.72,
          21.96,
          19.31,
          45.8,
          22.04,
          29.3,
          30.11,
          30.59,
          20.47
         ],
         "xaxis": "x3",
         "y": [
          4800,
          857,
          186,
          119,
          2000,
          4100,
          2700,
          77,
          7000,
          1200,
          1600,
          1600,
          1000,
          4300,
          4980,
          12900,
          223,
          4900,
          5900,
          548,
          895,
          6700,
          6500,
          2700,
          1100,
          2900,
          2600,
          2800,
          5300,
          1300,
          1000,
          7900,
          364,
          13500,
          4100,
          2200,
          3900,
          6300,
          8200,
          1300,
          5400,
          2300,
          2700,
          2100,
          707,
          650,
          2700,
          4100,
          822,
          830,
          3700,
          653,
          657,
          1100,
          2800,
          3100,
          792,
          222,
          3300,
          2500,
          976,
          2000,
          3200,
          651,
          2300,
          809,
          745,
          587,
          818,
          2200,
          1300,
          630,
          2600,
          2000,
          3600,
          440,
          893,
          529,
          443,
          412
         ],
         "yaxis": "y3"
        },
        {
         "marker": {
          "color": "rgb(31, 119, 180)",
          "size": 6
         },
         "mode": "markers",
         "name": "Engineering @ Feature Labs",
         "showlegend": false,
         "type": "scatter",
         "x": [
          2087
         ],
         "xaxis": "x4",
         "y": [
          315
         ],
         "yaxis": "y4"
        },
        {
         "marker": {
          "color": "rgb(255, 127, 14)",
          "size": 6
         },
         "mode": "markers",
         "name": "None",
         "showlegend": false,
         "type": "scatter",
         "x": [
          1859,
          3891,
          12025,
          2533,
          3892,
          13048,
          1778,
          2345,
          1895,
          4684,
          6666,
          7559,
          7659,
          3341,
          5508,
          4772,
          1214,
          6800,
          1412,
          3904,
          2264,
          2850,
          2509,
          5160,
          1073,
          1314,
          1557,
          1653,
          634,
          1410,
          2128,
          1918,
          2185,
          15063,
          3659,
          9698,
          4145,
          8507,
          3068,
          12083,
          7125
         ],
         "xaxis": "x4",
         "y": [
          2,
          18,
          50,
          0,
          0,
          0,
          73,
          234,
          2,
          0,
          682,
          58,
          5,
          7,
          87,
          23,
          4,
          113,
          8,
          17,
          8,
          2700,
          72,
          123,
          11,
          59,
          14,
          275,
          101,
          728,
          205,
          121,
          361,
          31,
          0,
          24,
          0,
          5,
          6,
          0,
          424
         ],
         "yaxis": "y4"
        },
        {
         "marker": {
          "color": "rgb(44, 160, 44)",
          "size": 6
         },
         "mode": "markers",
         "name": "Noteworthy - The Journal Blog",
         "showlegend": false,
         "type": "scatter",
         "x": [
          2172
         ],
         "xaxis": "x4",
         "y": [
          1000
         ],
         "yaxis": "y4"
        },
        {
         "marker": {
          "color": "rgb(214, 39, 40)",
          "size": 6
         },
         "mode": "markers",
         "name": "The Reality Project",
         "showlegend": false,
         "type": "scatter",
         "x": [
          1685,
          2278,
          3678
         ],
         "xaxis": "x4",
         "y": [
          329,
          309,
          75
         ],
         "yaxis": "y4"
        },
        {
         "marker": {
          "color": "rgb(148, 103, 189)",
          "size": 6
         },
         "mode": "markers",
         "name": "Towards Data Science",
         "showlegend": false,
         "type": "scatter",
         "x": [
          4494,
          3504,
          3569,
          2817,
          2456,
          2974,
          2395,
          1169,
          2528,
          1361,
          1014,
          1562,
          2480,
          1281,
          2450,
          721,
          1375,
          2772,
          1944,
          1827,
          933,
          2565,
          1906,
          2394,
          2220,
          2614,
          2365,
          1577,
          2394,
          2690,
          2620,
          1480,
          765,
          3553,
          3106,
          2622,
          2338,
          2975,
          2648,
          5228,
          1998,
          3393,
          1957,
          4298,
          3718,
          1247,
          2634,
          2041,
          2343,
          373,
          3996,
          3834,
          163,
          4042,
          2658,
          3756,
          1172,
          1580,
          3756,
          1809,
          2999,
          2483,
          2933,
          1346,
          3797,
          1979,
          1286,
          1741,
          2230,
          1561,
          1355,
          3398,
          2824,
          1397,
          877,
          1310,
          1806,
          1075,
          1898,
          2813
         ],
         "xaxis": "x4",
         "y": [
          4800,
          857,
          186,
          119,
          2000,
          4100,
          2700,
          77,
          7000,
          1200,
          1600,
          1600,
          1000,
          4300,
          4980,
          12900,
          223,
          4900,
          5900,
          548,
          895,
          6700,
          6500,
          2700,
          1100,
          2900,
          2600,
          2800,
          5300,
          1300,
          1000,
          7900,
          364,
          13500,
          4100,
          2200,
          3900,
          6300,
          8200,
          1300,
          5400,
          2300,
          2700,
          2100,
          707,
          650,
          2700,
          4100,
          822,
          830,
          3700,
          653,
          657,
          1100,
          2800,
          3100,
          792,
          222,
          3300,
          2500,
          976,
          2000,
          3200,
          651,
          2300,
          809,
          745,
          587,
          818,
          2200,
          1300,
          630,
          2600,
          2000,
          3600,
          440,
          893,
          529,
          443,
          412
         ],
         "yaxis": "y4"
        },
        {
         "marker": {
          "color": "rgb(31, 119, 180)",
          "size": 6
         },
         "mode": "markers",
         "name": "Engineering @ Feature Labs",
         "showlegend": false,
         "type": "scatter",
         "x": [
          315
         ],
         "xaxis": "x5",
         "y": [
          2771
         ],
         "yaxis": "y5"
        },
        {
         "marker": {
          "color": "rgb(255, 127, 14)",
          "size": 6
         },
         "mode": "markers",
         "name": "None",
         "showlegend": false,
         "type": "scatter",
         "x": [
          2,
          18,
          50,
          0,
          0,
          0,
          73,
          234,
          2,
          0,
          682,
          58,
          5,
          7,
          87,
          23,
          4,
          113,
          8,
          17,
          8,
          2700,
          72,
          123,
          11,
          59,
          14,
          275,
          101,
          728,
          205,
          121,
          361,
          31,
          0,
          24,
          0,
          5,
          6,
          0,
          424
         ],
         "xaxis": "x5",
         "y": [
          162,
          164,
          1065,
          53,
          57,
          306,
          9379,
          23210,
          123,
          64,
          27137,
          3930,
          145,
          54,
          5325,
          4676,
          8247,
          12718,
          132,
          2113,
          35,
          81482,
          162,
          313,
          3299,
          148,
          105,
          1576,
          227,
          836,
          407,
          255,
          802,
          212,
          3,
          105,
          8,
          84,
          133,
          33,
          1169
         ],
         "yaxis": "y5"
        },
        {
         "marker": {
          "color": "rgb(44, 160, 44)",
          "size": 6
         },
         "mode": "markers",
         "name": "Noteworthy - The Journal Blog",
         "showlegend": false,
         "type": "scatter",
         "x": [
          1000
         ],
         "xaxis": "x5",
         "y": [
          2060
         ],
         "yaxis": "y5"
        },
        {
         "marker": {
          "color": "rgb(214, 39, 40)",
          "size": 6
         },
         "mode": "markers",
         "name": "The Reality Project",
         "showlegend": false,
         "type": "scatter",
         "x": [
          329,
          309,
          75
         ],
         "xaxis": "x5",
         "y": [
          418,
          400,
          245
         ],
         "yaxis": "y5"
        },
        {
         "marker": {
          "color": "rgb(148, 103, 189)",
          "size": 6
         },
         "mode": "markers",
         "name": "Towards Data Science",
         "showlegend": false,
         "type": "scatter",
         "x": [
          4800,
          857,
          186,
          119,
          2000,
          4100,
          2700,
          77,
          7000,
          1200,
          1600,
          1600,
          1000,
          4300,
          4980,
          12900,
          223,
          4900,
          5900,
          548,
          895,
          6700,
          6500,
          2700,
          1100,
          2900,
          2600,
          2800,
          5300,
          1300,
          1000,
          7900,
          364,
          13500,
          4100,
          2200,
          3900,
          6300,
          8200,
          1300,
          5400,
          2300,
          2700,
          2100,
          707,
          650,
          2700,
          4100,
          822,
          830,
          3700,
          653,
          657,
          1100,
          2800,
          3100,
          792,
          222,
          3300,
          2500,
          976,
          2000,
          3200,
          651,
          2300,
          809,
          745,
          587,
          818,
          2200,
          1300,
          630,
          2600,
          2000,
          3600,
          440,
          893,
          529,
          443,
          412
         ],
         "xaxis": "x5",
         "y": [
          161596,
          31659,
          2706,
          2347,
          106311,
          124825,
          77497,
          4824,
          126851,
          19055,
          4002,
          15916,
          32523,
          15130,
          47199,
          47622,
          2969,
          54158,
          34062,
          4631,
          12843,
          117100,
          59369,
          52309,
          28079,
          106784,
          52600,
          45735,
          54916,
          20836,
          23687,
          66471,
          2365,
          120826,
          44761,
          26243,
          32977,
          42040,
          109995,
          10668,
          76426,
          23863,
          29854,
          42853,
          5337,
          4040,
          24071,
          16584,
          3931,
          25112,
          42624,
          6183,
          1649,
          12826,
          14670,
          24211,
          3606,
          1623,
          23651,
          26397,
          6304,
          12771,
          32675,
          3174,
          30979,
          5039,
          6250,
          5227,
          7936,
          26754,
          14428,
          8115,
          21311,
          22058,
          23180,
          4786,
          9734,
          5307,
          1703,
          2232
         ],
         "yaxis": "y5"
        },
        {
         "marker": {
          "color": "rgb(31, 119, 180)"
         },
         "showlegend": false,
         "type": "histogram",
         "x": [
          2771
         ],
         "xaxis": "x6",
         "yaxis": "y6"
        },
        {
         "marker": {
          "color": "rgb(255, 127, 14)"
         },
         "showlegend": false,
         "type": "histogram",
         "x": [
          162,
          164,
          1065,
          53,
          57,
          306,
          9379,
          23210,
          123,
          64,
          27137,
          3930,
          145,
          54,
          5325,
          4676,
          8247,
          12718,
          132,
          2113,
          35,
          81482,
          162,
          313,
          3299,
          148,
          105,
          1576,
          227,
          836,
          407,
          255,
          802,
          212,
          3,
          105,
          8,
          84,
          133,
          33,
          1169
         ],
         "xaxis": "x6",
         "yaxis": "y6"
        },
        {
         "marker": {
          "color": "rgb(44, 160, 44)"
         },
         "showlegend": false,
         "type": "histogram",
         "x": [
          2060
         ],
         "xaxis": "x6",
         "yaxis": "y6"
        },
        {
         "marker": {
          "color": "rgb(214, 39, 40)"
         },
         "showlegend": false,
         "type": "histogram",
         "x": [
          418,
          400,
          245
         ],
         "xaxis": "x6",
         "yaxis": "y6"
        },
        {
         "marker": {
          "color": "rgb(148, 103, 189)"
         },
         "showlegend": false,
         "type": "histogram",
         "x": [
          161596,
          31659,
          2706,
          2347,
          106311,
          124825,
          77497,
          4824,
          126851,
          19055,
          4002,
          15916,
          32523,
          15130,
          47199,
          47622,
          2969,
          54158,
          34062,
          4631,
          12843,
          117100,
          59369,
          52309,
          28079,
          106784,
          52600,
          45735,
          54916,
          20836,
          23687,
          66471,
          2365,
          120826,
          44761,
          26243,
          32977,
          42040,
          109995,
          10668,
          76426,
          23863,
          29854,
          42853,
          5337,
          4040,
          24071,
          16584,
          3931,
          25112,
          42624,
          6183,
          1649,
          12826,
          14670,
          24211,
          3606,
          1623,
          23651,
          26397,
          6304,
          12771,
          32675,
          3174,
          30979,
          5039,
          6250,
          5227,
          7936,
          26754,
          14428,
          8115,
          21311,
          22058,
          23180,
          4786,
          9734,
          5307,
          1703,
          2232
         ],
         "xaxis": "x6",
         "yaxis": "y6"
        },
        {
         "marker": {
          "color": "rgb(31, 119, 180)",
          "size": 6
         },
         "mode": "markers",
         "name": "Engineering @ Feature Labs",
         "showlegend": false,
         "type": "scatter",
         "x": [
          27.28
         ],
         "xaxis": "x7",
         "y": [
          2771
         ],
         "yaxis": "y7"
        },
        {
         "marker": {
          "color": "rgb(255, 127, 14)",
          "size": 6
         },
         "mode": "markers",
         "name": "None",
         "showlegend": false,
         "type": "scatter",
         "x": [
          41.98,
          32.93,
          20.19,
          35.85,
          8.77,
          19.28,
          17.64,
          23.55,
          33.33,
          23.44,
          14.07,
          12.24,
          18.62,
          27.78,
          11.87,
          11.57,
          28.87,
          15.38,
          53.03,
          13.2,
          65.71,
          42.03,
          36.42,
          42.81,
          34.43,
          41.89,
          54.29,
          28.68,
          58.15,
          47.01,
          35.38,
          24.31,
          39.28,
          11.79,
          33.33,
          12.38,
          25,
          9.52,
          27.82,
          6.06,
          19.16
         ],
         "xaxis": "x7",
         "y": [
          162,
          164,
          1065,
          53,
          57,
          306,
          9379,
          23210,
          123,
          64,
          27137,
          3930,
          145,
          54,
          5325,
          4676,
          8247,
          12718,
          132,
          2113,
          35,
          81482,
          162,
          313,
          3299,
          148,
          105,
          1576,
          227,
          836,
          407,
          255,
          802,
          212,
          3,
          105,
          8,
          84,
          133,
          33,
          1169
         ],
         "yaxis": "y7"
        },
        {
         "marker": {
          "color": "rgb(44, 160, 44)",
          "size": 6
         },
         "mode": "markers",
         "name": "Noteworthy - The Journal Blog",
         "showlegend": false,
         "type": "scatter",
         "x": [
          26.21
         ],
         "xaxis": "x7",
         "y": [
          2060
         ],
         "yaxis": "y7"
        },
        {
         "marker": {
          "color": "rgb(214, 39, 40)",
          "size": 6
         },
         "mode": "markers",
         "name": "The Reality Project",
         "showlegend": false,
         "type": "scatter",
         "x": [
          39.23,
          28.75,
          21.22
         ],
         "xaxis": "x7",
         "y": [
          418,
          400,
          245
         ],
         "yaxis": "y7"
        },
        {
         "marker": {
          "color": "rgb(148, 103, 189)",
          "size": 6
         },
         "mode": "markers",
         "name": "Towards Data Science",
         "showlegend": false,
         "type": "scatter",
         "x": [
          17.68,
          22.76,
          28.64,
          31.53,
          23.99,
          25.02,
          26.48,
          62.02,
          31.14,
          35.91,
          54.9,
          41.91,
          30.74,
          47.3,
          29.82,
          62.61,
          43.21,
          28.8,
          32.28,
          42.88,
          43.51,
          20.4,
          22.68,
          36.49,
          36.98,
          27.17,
          33.18,
          31.37,
          33.73,
          30.79,
          26.51,
          31.56,
          63.3,
          18.85,
          20.65,
          23.58,
          25.07,
          23.81,
          21.75,
          16.88,
          25.47,
          21.64,
          26.89,
          14.38,
          18.08,
          43.19,
          24.69,
          33.16,
          26.89,
          44.17,
          16.73,
          19.29,
          74.53,
          17.44,
          26.93,
          18.99,
          40.82,
          18.85,
          18.21,
          27.13,
          19.84,
          23.81,
          28.56,
          40.39,
          17.22,
          24.27,
          38.53,
          21.47,
          21.47,
          30.31,
          34.19,
          17.72,
          21.96,
          19.31,
          45.8,
          22.04,
          29.3,
          30.11,
          30.59,
          20.47
         ],
         "xaxis": "x7",
         "y": [
          161596,
          31659,
          2706,
          2347,
          106311,
          124825,
          77497,
          4824,
          126851,
          19055,
          4002,
          15916,
          32523,
          15130,
          47199,
          47622,
          2969,
          54158,
          34062,
          4631,
          12843,
          117100,
          59369,
          52309,
          28079,
          106784,
          52600,
          45735,
          54916,
          20836,
          23687,
          66471,
          2365,
          120826,
          44761,
          26243,
          32977,
          42040,
          109995,
          10668,
          76426,
          23863,
          29854,
          42853,
          5337,
          4040,
          24071,
          16584,
          3931,
          25112,
          42624,
          6183,
          1649,
          12826,
          14670,
          24211,
          3606,
          1623,
          23651,
          26397,
          6304,
          12771,
          32675,
          3174,
          30979,
          5039,
          6250,
          5227,
          7936,
          26754,
          14428,
          8115,
          21311,
          22058,
          23180,
          4786,
          9734,
          5307,
          1703,
          2232
         ],
         "yaxis": "y7"
        },
        {
         "marker": {
          "color": "rgb(31, 119, 180)",
          "size": 6
         },
         "mode": "markers",
         "name": "Engineering @ Feature Labs",
         "showlegend": false,
         "type": "scatter",
         "x": [
          2087
         ],
         "xaxis": "x8",
         "y": [
          2771
         ],
         "yaxis": "y8"
        },
        {
         "marker": {
          "color": "rgb(255, 127, 14)",
          "size": 6
         },
         "mode": "markers",
         "name": "None",
         "showlegend": false,
         "type": "scatter",
         "x": [
          1859,
          3891,
          12025,
          2533,
          3892,
          13048,
          1778,
          2345,
          1895,
          4684,
          6666,
          7559,
          7659,
          3341,
          5508,
          4772,
          1214,
          6800,
          1412,
          3904,
          2264,
          2850,
          2509,
          5160,
          1073,
          1314,
          1557,
          1653,
          634,
          1410,
          2128,
          1918,
          2185,
          15063,
          3659,
          9698,
          4145,
          8507,
          3068,
          12083,
          7125
         ],
         "xaxis": "x8",
         "y": [
          162,
          164,
          1065,
          53,
          57,
          306,
          9379,
          23210,
          123,
          64,
          27137,
          3930,
          145,
          54,
          5325,
          4676,
          8247,
          12718,
          132,
          2113,
          35,
          81482,
          162,
          313,
          3299,
          148,
          105,
          1576,
          227,
          836,
          407,
          255,
          802,
          212,
          3,
          105,
          8,
          84,
          133,
          33,
          1169
         ],
         "yaxis": "y8"
        },
        {
         "marker": {
          "color": "rgb(44, 160, 44)",
          "size": 6
         },
         "mode": "markers",
         "name": "Noteworthy - The Journal Blog",
         "showlegend": false,
         "type": "scatter",
         "x": [
          2172
         ],
         "xaxis": "x8",
         "y": [
          2060
         ],
         "yaxis": "y8"
        },
        {
         "marker": {
          "color": "rgb(214, 39, 40)",
          "size": 6
         },
         "mode": "markers",
         "name": "The Reality Project",
         "showlegend": false,
         "type": "scatter",
         "x": [
          1685,
          2278,
          3678
         ],
         "xaxis": "x8",
         "y": [
          418,
          400,
          245
         ],
         "yaxis": "y8"
        },
        {
         "marker": {
          "color": "rgb(148, 103, 189)",
          "size": 6
         },
         "mode": "markers",
         "name": "Towards Data Science",
         "showlegend": false,
         "type": "scatter",
         "x": [
          4494,
          3504,
          3569,
          2817,
          2456,
          2974,
          2395,
          1169,
          2528,
          1361,
          1014,
          1562,
          2480,
          1281,
          2450,
          721,
          1375,
          2772,
          1944,
          1827,
          933,
          2565,
          1906,
          2394,
          2220,
          2614,
          2365,
          1577,
          2394,
          2690,
          2620,
          1480,
          765,
          3553,
          3106,
          2622,
          2338,
          2975,
          2648,
          5228,
          1998,
          3393,
          1957,
          4298,
          3718,
          1247,
          2634,
          2041,
          2343,
          373,
          3996,
          3834,
          163,
          4042,
          2658,
          3756,
          1172,
          1580,
          3756,
          1809,
          2999,
          2483,
          2933,
          1346,
          3797,
          1979,
          1286,
          1741,
          2230,
          1561,
          1355,
          3398,
          2824,
          1397,
          877,
          1310,
          1806,
          1075,
          1898,
          2813
         ],
         "xaxis": "x8",
         "y": [
          161596,
          31659,
          2706,
          2347,
          106311,
          124825,
          77497,
          4824,
          126851,
          19055,
          4002,
          15916,
          32523,
          15130,
          47199,
          47622,
          2969,
          54158,
          34062,
          4631,
          12843,
          117100,
          59369,
          52309,
          28079,
          106784,
          52600,
          45735,
          54916,
          20836,
          23687,
          66471,
          2365,
          120826,
          44761,
          26243,
          32977,
          42040,
          109995,
          10668,
          76426,
          23863,
          29854,
          42853,
          5337,
          4040,
          24071,
          16584,
          3931,
          25112,
          42624,
          6183,
          1649,
          12826,
          14670,
          24211,
          3606,
          1623,
          23651,
          26397,
          6304,
          12771,
          32675,
          3174,
          30979,
          5039,
          6250,
          5227,
          7936,
          26754,
          14428,
          8115,
          21311,
          22058,
          23180,
          4786,
          9734,
          5307,
          1703,
          2232
         ],
         "yaxis": "y8"
        },
        {
         "marker": {
          "color": "rgb(31, 119, 180)",
          "size": 6
         },
         "mode": "markers",
         "name": "Engineering @ Feature Labs",
         "showlegend": false,
         "type": "scatter",
         "x": [
          315
         ],
         "xaxis": "x9",
         "y": [
          27.28
         ],
         "yaxis": "y9"
        },
        {
         "marker": {
          "color": "rgb(255, 127, 14)",
          "size": 6
         },
         "mode": "markers",
         "name": "None",
         "showlegend": false,
         "type": "scatter",
         "x": [
          2,
          18,
          50,
          0,
          0,
          0,
          73,
          234,
          2,
          0,
          682,
          58,
          5,
          7,
          87,
          23,
          4,
          113,
          8,
          17,
          8,
          2700,
          72,
          123,
          11,
          59,
          14,
          275,
          101,
          728,
          205,
          121,
          361,
          31,
          0,
          24,
          0,
          5,
          6,
          0,
          424
         ],
         "xaxis": "x9",
         "y": [
          41.98,
          32.93,
          20.19,
          35.85,
          8.77,
          19.28,
          17.64,
          23.55,
          33.33,
          23.44,
          14.07,
          12.24,
          18.62,
          27.78,
          11.87,
          11.57,
          28.87,
          15.38,
          53.03,
          13.2,
          65.71,
          42.03,
          36.42,
          42.81,
          34.43,
          41.89,
          54.29,
          28.68,
          58.15,
          47.01,
          35.38,
          24.31,
          39.28,
          11.79,
          33.33,
          12.38,
          25,
          9.52,
          27.82,
          6.06,
          19.16
         ],
         "yaxis": "y9"
        },
        {
         "marker": {
          "color": "rgb(44, 160, 44)",
          "size": 6
         },
         "mode": "markers",
         "name": "Noteworthy - The Journal Blog",
         "showlegend": false,
         "type": "scatter",
         "x": [
          1000
         ],
         "xaxis": "x9",
         "y": [
          26.21
         ],
         "yaxis": "y9"
        },
        {
         "marker": {
          "color": "rgb(214, 39, 40)",
          "size": 6
         },
         "mode": "markers",
         "name": "The Reality Project",
         "showlegend": false,
         "type": "scatter",
         "x": [
          329,
          309,
          75
         ],
         "xaxis": "x9",
         "y": [
          39.23,
          28.75,
          21.22
         ],
         "yaxis": "y9"
        },
        {
         "marker": {
          "color": "rgb(148, 103, 189)",
          "size": 6
         },
         "mode": "markers",
         "name": "Towards Data Science",
         "showlegend": false,
         "type": "scatter",
         "x": [
          4800,
          857,
          186,
          119,
          2000,
          4100,
          2700,
          77,
          7000,
          1200,
          1600,
          1600,
          1000,
          4300,
          4980,
          12900,
          223,
          4900,
          5900,
          548,
          895,
          6700,
          6500,
          2700,
          1100,
          2900,
          2600,
          2800,
          5300,
          1300,
          1000,
          7900,
          364,
          13500,
          4100,
          2200,
          3900,
          6300,
          8200,
          1300,
          5400,
          2300,
          2700,
          2100,
          707,
          650,
          2700,
          4100,
          822,
          830,
          3700,
          653,
          657,
          1100,
          2800,
          3100,
          792,
          222,
          3300,
          2500,
          976,
          2000,
          3200,
          651,
          2300,
          809,
          745,
          587,
          818,
          2200,
          1300,
          630,
          2600,
          2000,
          3600,
          440,
          893,
          529,
          443,
          412
         ],
         "xaxis": "x9",
         "y": [
          17.68,
          22.76,
          28.64,
          31.53,
          23.99,
          25.02,
          26.48,
          62.02,
          31.14,
          35.91,
          54.9,
          41.91,
          30.74,
          47.3,
          29.82,
          62.61,
          43.21,
          28.8,
          32.28,
          42.88,
          43.51,
          20.4,
          22.68,
          36.49,
          36.98,
          27.17,
          33.18,
          31.37,
          33.73,
          30.79,
          26.51,
          31.56,
          63.3,
          18.85,
          20.65,
          23.58,
          25.07,
          23.81,
          21.75,
          16.88,
          25.47,
          21.64,
          26.89,
          14.38,
          18.08,
          43.19,
          24.69,
          33.16,
          26.89,
          44.17,
          16.73,
          19.29,
          74.53,
          17.44,
          26.93,
          18.99,
          40.82,
          18.85,
          18.21,
          27.13,
          19.84,
          23.81,
          28.56,
          40.39,
          17.22,
          24.27,
          38.53,
          21.47,
          21.47,
          30.31,
          34.19,
          17.72,
          21.96,
          19.31,
          45.8,
          22.04,
          29.3,
          30.11,
          30.59,
          20.47
         ],
         "yaxis": "y9"
        },
        {
         "marker": {
          "color": "rgb(31, 119, 180)",
          "size": 6
         },
         "mode": "markers",
         "name": "Engineering @ Feature Labs",
         "showlegend": false,
         "type": "scatter",
         "x": [
          2771
         ],
         "xaxis": "x10",
         "y": [
          27.28
         ],
         "yaxis": "y10"
        },
        {
         "marker": {
          "color": "rgb(255, 127, 14)",
          "size": 6
         },
         "mode": "markers",
         "name": "None",
         "showlegend": false,
         "type": "scatter",
         "x": [
          162,
          164,
          1065,
          53,
          57,
          306,
          9379,
          23210,
          123,
          64,
          27137,
          3930,
          145,
          54,
          5325,
          4676,
          8247,
          12718,
          132,
          2113,
          35,
          81482,
          162,
          313,
          3299,
          148,
          105,
          1576,
          227,
          836,
          407,
          255,
          802,
          212,
          3,
          105,
          8,
          84,
          133,
          33,
          1169
         ],
         "xaxis": "x10",
         "y": [
          41.98,
          32.93,
          20.19,
          35.85,
          8.77,
          19.28,
          17.64,
          23.55,
          33.33,
          23.44,
          14.07,
          12.24,
          18.62,
          27.78,
          11.87,
          11.57,
          28.87,
          15.38,
          53.03,
          13.2,
          65.71,
          42.03,
          36.42,
          42.81,
          34.43,
          41.89,
          54.29,
          28.68,
          58.15,
          47.01,
          35.38,
          24.31,
          39.28,
          11.79,
          33.33,
          12.38,
          25,
          9.52,
          27.82,
          6.06,
          19.16
         ],
         "yaxis": "y10"
        },
        {
         "marker": {
          "color": "rgb(44, 160, 44)",
          "size": 6
         },
         "mode": "markers",
         "name": "Noteworthy - The Journal Blog",
         "showlegend": false,
         "type": "scatter",
         "x": [
          2060
         ],
         "xaxis": "x10",
         "y": [
          26.21
         ],
         "yaxis": "y10"
        },
        {
         "marker": {
          "color": "rgb(214, 39, 40)",
          "size": 6
         },
         "mode": "markers",
         "name": "The Reality Project",
         "showlegend": false,
         "type": "scatter",
         "x": [
          418,
          400,
          245
         ],
         "xaxis": "x10",
         "y": [
          39.23,
          28.75,
          21.22
         ],
         "yaxis": "y10"
        },
        {
         "marker": {
          "color": "rgb(148, 103, 189)",
          "size": 6
         },
         "mode": "markers",
         "name": "Towards Data Science",
         "showlegend": false,
         "type": "scatter",
         "x": [
          161596,
          31659,
          2706,
          2347,
          106311,
          124825,
          77497,
          4824,
          126851,
          19055,
          4002,
          15916,
          32523,
          15130,
          47199,
          47622,
          2969,
          54158,
          34062,
          4631,
          12843,
          117100,
          59369,
          52309,
          28079,
          106784,
          52600,
          45735,
          54916,
          20836,
          23687,
          66471,
          2365,
          120826,
          44761,
          26243,
          32977,
          42040,
          109995,
          10668,
          76426,
          23863,
          29854,
          42853,
          5337,
          4040,
          24071,
          16584,
          3931,
          25112,
          42624,
          6183,
          1649,
          12826,
          14670,
          24211,
          3606,
          1623,
          23651,
          26397,
          6304,
          12771,
          32675,
          3174,
          30979,
          5039,
          6250,
          5227,
          7936,
          26754,
          14428,
          8115,
          21311,
          22058,
          23180,
          4786,
          9734,
          5307,
          1703,
          2232
         ],
         "xaxis": "x10",
         "y": [
          17.68,
          22.76,
          28.64,
          31.53,
          23.99,
          25.02,
          26.48,
          62.02,
          31.14,
          35.91,
          54.9,
          41.91,
          30.74,
          47.3,
          29.82,
          62.61,
          43.21,
          28.8,
          32.28,
          42.88,
          43.51,
          20.4,
          22.68,
          36.49,
          36.98,
          27.17,
          33.18,
          31.37,
          33.73,
          30.79,
          26.51,
          31.56,
          63.3,
          18.85,
          20.65,
          23.58,
          25.07,
          23.81,
          21.75,
          16.88,
          25.47,
          21.64,
          26.89,
          14.38,
          18.08,
          43.19,
          24.69,
          33.16,
          26.89,
          44.17,
          16.73,
          19.29,
          74.53,
          17.44,
          26.93,
          18.99,
          40.82,
          18.85,
          18.21,
          27.13,
          19.84,
          23.81,
          28.56,
          40.39,
          17.22,
          24.27,
          38.53,
          21.47,
          21.47,
          30.31,
          34.19,
          17.72,
          21.96,
          19.31,
          45.8,
          22.04,
          29.3,
          30.11,
          30.59,
          20.47
         ],
         "yaxis": "y10"
        },
        {
         "marker": {
          "color": "rgb(31, 119, 180)"
         },
         "showlegend": false,
         "type": "histogram",
         "x": [
          27.28
         ],
         "xaxis": "x11",
         "yaxis": "y11"
        },
        {
         "marker": {
          "color": "rgb(255, 127, 14)"
         },
         "showlegend": false,
         "type": "histogram",
         "x": [
          41.98,
          32.93,
          20.19,
          35.85,
          8.77,
          19.28,
          17.64,
          23.55,
          33.33,
          23.44,
          14.07,
          12.24,
          18.62,
          27.78,
          11.87,
          11.57,
          28.87,
          15.38,
          53.03,
          13.2,
          65.71,
          42.03,
          36.42,
          42.81,
          34.43,
          41.89,
          54.29,
          28.68,
          58.15,
          47.01,
          35.38,
          24.31,
          39.28,
          11.79,
          33.33,
          12.38,
          25,
          9.52,
          27.82,
          6.06,
          19.16
         ],
         "xaxis": "x11",
         "yaxis": "y11"
        },
        {
         "marker": {
          "color": "rgb(44, 160, 44)"
         },
         "showlegend": false,
         "type": "histogram",
         "x": [
          26.21
         ],
         "xaxis": "x11",
         "yaxis": "y11"
        },
        {
         "marker": {
          "color": "rgb(214, 39, 40)"
         },
         "showlegend": false,
         "type": "histogram",
         "x": [
          39.23,
          28.75,
          21.22
         ],
         "xaxis": "x11",
         "yaxis": "y11"
        },
        {
         "marker": {
          "color": "rgb(148, 103, 189)"
         },
         "showlegend": false,
         "type": "histogram",
         "x": [
          17.68,
          22.76,
          28.64,
          31.53,
          23.99,
          25.02,
          26.48,
          62.02,
          31.14,
          35.91,
          54.9,
          41.91,
          30.74,
          47.3,
          29.82,
          62.61,
          43.21,
          28.8,
          32.28,
          42.88,
          43.51,
          20.4,
          22.68,
          36.49,
          36.98,
          27.17,
          33.18,
          31.37,
          33.73,
          30.79,
          26.51,
          31.56,
          63.3,
          18.85,
          20.65,
          23.58,
          25.07,
          23.81,
          21.75,
          16.88,
          25.47,
          21.64,
          26.89,
          14.38,
          18.08,
          43.19,
          24.69,
          33.16,
          26.89,
          44.17,
          16.73,
          19.29,
          74.53,
          17.44,
          26.93,
          18.99,
          40.82,
          18.85,
          18.21,
          27.13,
          19.84,
          23.81,
          28.56,
          40.39,
          17.22,
          24.27,
          38.53,
          21.47,
          21.47,
          30.31,
          34.19,
          17.72,
          21.96,
          19.31,
          45.8,
          22.04,
          29.3,
          30.11,
          30.59,
          20.47
         ],
         "xaxis": "x11",
         "yaxis": "y11"
        },
        {
         "marker": {
          "color": "rgb(31, 119, 180)",
          "size": 6
         },
         "mode": "markers",
         "name": "Engineering @ Feature Labs",
         "showlegend": false,
         "type": "scatter",
         "x": [
          2087
         ],
         "xaxis": "x12",
         "y": [
          27.28
         ],
         "yaxis": "y12"
        },
        {
         "marker": {
          "color": "rgb(255, 127, 14)",
          "size": 6
         },
         "mode": "markers",
         "name": "None",
         "showlegend": false,
         "type": "scatter",
         "x": [
          1859,
          3891,
          12025,
          2533,
          3892,
          13048,
          1778,
          2345,
          1895,
          4684,
          6666,
          7559,
          7659,
          3341,
          5508,
          4772,
          1214,
          6800,
          1412,
          3904,
          2264,
          2850,
          2509,
          5160,
          1073,
          1314,
          1557,
          1653,
          634,
          1410,
          2128,
          1918,
          2185,
          15063,
          3659,
          9698,
          4145,
          8507,
          3068,
          12083,
          7125
         ],
         "xaxis": "x12",
         "y": [
          41.98,
          32.93,
          20.19,
          35.85,
          8.77,
          19.28,
          17.64,
          23.55,
          33.33,
          23.44,
          14.07,
          12.24,
          18.62,
          27.78,
          11.87,
          11.57,
          28.87,
          15.38,
          53.03,
          13.2,
          65.71,
          42.03,
          36.42,
          42.81,
          34.43,
          41.89,
          54.29,
          28.68,
          58.15,
          47.01,
          35.38,
          24.31,
          39.28,
          11.79,
          33.33,
          12.38,
          25,
          9.52,
          27.82,
          6.06,
          19.16
         ],
         "yaxis": "y12"
        },
        {
         "marker": {
          "color": "rgb(44, 160, 44)",
          "size": 6
         },
         "mode": "markers",
         "name": "Noteworthy - The Journal Blog",
         "showlegend": false,
         "type": "scatter",
         "x": [
          2172
         ],
         "xaxis": "x12",
         "y": [
          26.21
         ],
         "yaxis": "y12"
        },
        {
         "marker": {
          "color": "rgb(214, 39, 40)",
          "size": 6
         },
         "mode": "markers",
         "name": "The Reality Project",
         "showlegend": false,
         "type": "scatter",
         "x": [
          1685,
          2278,
          3678
         ],
         "xaxis": "x12",
         "y": [
          39.23,
          28.75,
          21.22
         ],
         "yaxis": "y12"
        },
        {
         "marker": {
          "color": "rgb(148, 103, 189)",
          "size": 6
         },
         "mode": "markers",
         "name": "Towards Data Science",
         "showlegend": false,
         "type": "scatter",
         "x": [
          4494,
          3504,
          3569,
          2817,
          2456,
          2974,
          2395,
          1169,
          2528,
          1361,
          1014,
          1562,
          2480,
          1281,
          2450,
          721,
          1375,
          2772,
          1944,
          1827,
          933,
          2565,
          1906,
          2394,
          2220,
          2614,
          2365,
          1577,
          2394,
          2690,
          2620,
          1480,
          765,
          3553,
          3106,
          2622,
          2338,
          2975,
          2648,
          5228,
          1998,
          3393,
          1957,
          4298,
          3718,
          1247,
          2634,
          2041,
          2343,
          373,
          3996,
          3834,
          163,
          4042,
          2658,
          3756,
          1172,
          1580,
          3756,
          1809,
          2999,
          2483,
          2933,
          1346,
          3797,
          1979,
          1286,
          1741,
          2230,
          1561,
          1355,
          3398,
          2824,
          1397,
          877,
          1310,
          1806,
          1075,
          1898,
          2813
         ],
         "xaxis": "x12",
         "y": [
          17.68,
          22.76,
          28.64,
          31.53,
          23.99,
          25.02,
          26.48,
          62.02,
          31.14,
          35.91,
          54.9,
          41.91,
          30.74,
          47.3,
          29.82,
          62.61,
          43.21,
          28.8,
          32.28,
          42.88,
          43.51,
          20.4,
          22.68,
          36.49,
          36.98,
          27.17,
          33.18,
          31.37,
          33.73,
          30.79,
          26.51,
          31.56,
          63.3,
          18.85,
          20.65,
          23.58,
          25.07,
          23.81,
          21.75,
          16.88,
          25.47,
          21.64,
          26.89,
          14.38,
          18.08,
          43.19,
          24.69,
          33.16,
          26.89,
          44.17,
          16.73,
          19.29,
          74.53,
          17.44,
          26.93,
          18.99,
          40.82,
          18.85,
          18.21,
          27.13,
          19.84,
          23.81,
          28.56,
          40.39,
          17.22,
          24.27,
          38.53,
          21.47,
          21.47,
          30.31,
          34.19,
          17.72,
          21.96,
          19.31,
          45.8,
          22.04,
          29.3,
          30.11,
          30.59,
          20.47
         ],
         "yaxis": "y12"
        },
        {
         "marker": {
          "color": "rgb(31, 119, 180)",
          "size": 6
         },
         "mode": "markers",
         "name": "Engineering @ Feature Labs",
         "showlegend": false,
         "type": "scatter",
         "x": [
          315
         ],
         "xaxis": "x13",
         "y": [
          2087
         ],
         "yaxis": "y13"
        },
        {
         "marker": {
          "color": "rgb(255, 127, 14)",
          "size": 6
         },
         "mode": "markers",
         "name": "None",
         "showlegend": false,
         "type": "scatter",
         "x": [
          2,
          18,
          50,
          0,
          0,
          0,
          73,
          234,
          2,
          0,
          682,
          58,
          5,
          7,
          87,
          23,
          4,
          113,
          8,
          17,
          8,
          2700,
          72,
          123,
          11,
          59,
          14,
          275,
          101,
          728,
          205,
          121,
          361,
          31,
          0,
          24,
          0,
          5,
          6,
          0,
          424
         ],
         "xaxis": "x13",
         "y": [
          1859,
          3891,
          12025,
          2533,
          3892,
          13048,
          1778,
          2345,
          1895,
          4684,
          6666,
          7559,
          7659,
          3341,
          5508,
          4772,
          1214,
          6800,
          1412,
          3904,
          2264,
          2850,
          2509,
          5160,
          1073,
          1314,
          1557,
          1653,
          634,
          1410,
          2128,
          1918,
          2185,
          15063,
          3659,
          9698,
          4145,
          8507,
          3068,
          12083,
          7125
         ],
         "yaxis": "y13"
        },
        {
         "marker": {
          "color": "rgb(44, 160, 44)",
          "size": 6
         },
         "mode": "markers",
         "name": "Noteworthy - The Journal Blog",
         "showlegend": false,
         "type": "scatter",
         "x": [
          1000
         ],
         "xaxis": "x13",
         "y": [
          2172
         ],
         "yaxis": "y13"
        },
        {
         "marker": {
          "color": "rgb(214, 39, 40)",
          "size": 6
         },
         "mode": "markers",
         "name": "The Reality Project",
         "showlegend": false,
         "type": "scatter",
         "x": [
          329,
          309,
          75
         ],
         "xaxis": "x13",
         "y": [
          1685,
          2278,
          3678
         ],
         "yaxis": "y13"
        },
        {
         "marker": {
          "color": "rgb(148, 103, 189)",
          "size": 6
         },
         "mode": "markers",
         "name": "Towards Data Science",
         "showlegend": false,
         "type": "scatter",
         "x": [
          4800,
          857,
          186,
          119,
          2000,
          4100,
          2700,
          77,
          7000,
          1200,
          1600,
          1600,
          1000,
          4300,
          4980,
          12900,
          223,
          4900,
          5900,
          548,
          895,
          6700,
          6500,
          2700,
          1100,
          2900,
          2600,
          2800,
          5300,
          1300,
          1000,
          7900,
          364,
          13500,
          4100,
          2200,
          3900,
          6300,
          8200,
          1300,
          5400,
          2300,
          2700,
          2100,
          707,
          650,
          2700,
          4100,
          822,
          830,
          3700,
          653,
          657,
          1100,
          2800,
          3100,
          792,
          222,
          3300,
          2500,
          976,
          2000,
          3200,
          651,
          2300,
          809,
          745,
          587,
          818,
          2200,
          1300,
          630,
          2600,
          2000,
          3600,
          440,
          893,
          529,
          443,
          412
         ],
         "xaxis": "x13",
         "y": [
          4494,
          3504,
          3569,
          2817,
          2456,
          2974,
          2395,
          1169,
          2528,
          1361,
          1014,
          1562,
          2480,
          1281,
          2450,
          721,
          1375,
          2772,
          1944,
          1827,
          933,
          2565,
          1906,
          2394,
          2220,
          2614,
          2365,
          1577,
          2394,
          2690,
          2620,
          1480,
          765,
          3553,
          3106,
          2622,
          2338,
          2975,
          2648,
          5228,
          1998,
          3393,
          1957,
          4298,
          3718,
          1247,
          2634,
          2041,
          2343,
          373,
          3996,
          3834,
          163,
          4042,
          2658,
          3756,
          1172,
          1580,
          3756,
          1809,
          2999,
          2483,
          2933,
          1346,
          3797,
          1979,
          1286,
          1741,
          2230,
          1561,
          1355,
          3398,
          2824,
          1397,
          877,
          1310,
          1806,
          1075,
          1898,
          2813
         ],
         "yaxis": "y13"
        },
        {
         "marker": {
          "color": "rgb(31, 119, 180)",
          "size": 6
         },
         "mode": "markers",
         "name": "Engineering @ Feature Labs",
         "showlegend": false,
         "type": "scatter",
         "x": [
          2771
         ],
         "xaxis": "x14",
         "y": [
          2087
         ],
         "yaxis": "y14"
        },
        {
         "marker": {
          "color": "rgb(255, 127, 14)",
          "size": 6
         },
         "mode": "markers",
         "name": "None",
         "showlegend": false,
         "type": "scatter",
         "x": [
          162,
          164,
          1065,
          53,
          57,
          306,
          9379,
          23210,
          123,
          64,
          27137,
          3930,
          145,
          54,
          5325,
          4676,
          8247,
          12718,
          132,
          2113,
          35,
          81482,
          162,
          313,
          3299,
          148,
          105,
          1576,
          227,
          836,
          407,
          255,
          802,
          212,
          3,
          105,
          8,
          84,
          133,
          33,
          1169
         ],
         "xaxis": "x14",
         "y": [
          1859,
          3891,
          12025,
          2533,
          3892,
          13048,
          1778,
          2345,
          1895,
          4684,
          6666,
          7559,
          7659,
          3341,
          5508,
          4772,
          1214,
          6800,
          1412,
          3904,
          2264,
          2850,
          2509,
          5160,
          1073,
          1314,
          1557,
          1653,
          634,
          1410,
          2128,
          1918,
          2185,
          15063,
          3659,
          9698,
          4145,
          8507,
          3068,
          12083,
          7125
         ],
         "yaxis": "y14"
        },
        {
         "marker": {
          "color": "rgb(44, 160, 44)",
          "size": 6
         },
         "mode": "markers",
         "name": "Noteworthy - The Journal Blog",
         "showlegend": false,
         "type": "scatter",
         "x": [
          2060
         ],
         "xaxis": "x14",
         "y": [
          2172
         ],
         "yaxis": "y14"
        },
        {
         "marker": {
          "color": "rgb(214, 39, 40)",
          "size": 6
         },
         "mode": "markers",
         "name": "The Reality Project",
         "showlegend": false,
         "type": "scatter",
         "x": [
          418,
          400,
          245
         ],
         "xaxis": "x14",
         "y": [
          1685,
          2278,
          3678
         ],
         "yaxis": "y14"
        },
        {
         "marker": {
          "color": "rgb(148, 103, 189)",
          "size": 6
         },
         "mode": "markers",
         "name": "Towards Data Science",
         "showlegend": false,
         "type": "scatter",
         "x": [
          161596,
          31659,
          2706,
          2347,
          106311,
          124825,
          77497,
          4824,
          126851,
          19055,
          4002,
          15916,
          32523,
          15130,
          47199,
          47622,
          2969,
          54158,
          34062,
          4631,
          12843,
          117100,
          59369,
          52309,
          28079,
          106784,
          52600,
          45735,
          54916,
          20836,
          23687,
          66471,
          2365,
          120826,
          44761,
          26243,
          32977,
          42040,
          109995,
          10668,
          76426,
          23863,
          29854,
          42853,
          5337,
          4040,
          24071,
          16584,
          3931,
          25112,
          42624,
          6183,
          1649,
          12826,
          14670,
          24211,
          3606,
          1623,
          23651,
          26397,
          6304,
          12771,
          32675,
          3174,
          30979,
          5039,
          6250,
          5227,
          7936,
          26754,
          14428,
          8115,
          21311,
          22058,
          23180,
          4786,
          9734,
          5307,
          1703,
          2232
         ],
         "xaxis": "x14",
         "y": [
          4494,
          3504,
          3569,
          2817,
          2456,
          2974,
          2395,
          1169,
          2528,
          1361,
          1014,
          1562,
          2480,
          1281,
          2450,
          721,
          1375,
          2772,
          1944,
          1827,
          933,
          2565,
          1906,
          2394,
          2220,
          2614,
          2365,
          1577,
          2394,
          2690,
          2620,
          1480,
          765,
          3553,
          3106,
          2622,
          2338,
          2975,
          2648,
          5228,
          1998,
          3393,
          1957,
          4298,
          3718,
          1247,
          2634,
          2041,
          2343,
          373,
          3996,
          3834,
          163,
          4042,
          2658,
          3756,
          1172,
          1580,
          3756,
          1809,
          2999,
          2483,
          2933,
          1346,
          3797,
          1979,
          1286,
          1741,
          2230,
          1561,
          1355,
          3398,
          2824,
          1397,
          877,
          1310,
          1806,
          1075,
          1898,
          2813
         ],
         "yaxis": "y14"
        },
        {
         "marker": {
          "color": "rgb(31, 119, 180)",
          "size": 6
         },
         "mode": "markers",
         "name": "Engineering @ Feature Labs",
         "showlegend": false,
         "type": "scatter",
         "x": [
          27.28
         ],
         "xaxis": "x15",
         "y": [
          2087
         ],
         "yaxis": "y15"
        },
        {
         "marker": {
          "color": "rgb(255, 127, 14)",
          "size": 6
         },
         "mode": "markers",
         "name": "None",
         "showlegend": false,
         "type": "scatter",
         "x": [
          41.98,
          32.93,
          20.19,
          35.85,
          8.77,
          19.28,
          17.64,
          23.55,
          33.33,
          23.44,
          14.07,
          12.24,
          18.62,
          27.78,
          11.87,
          11.57,
          28.87,
          15.38,
          53.03,
          13.2,
          65.71,
          42.03,
          36.42,
          42.81,
          34.43,
          41.89,
          54.29,
          28.68,
          58.15,
          47.01,
          35.38,
          24.31,
          39.28,
          11.79,
          33.33,
          12.38,
          25,
          9.52,
          27.82,
          6.06,
          19.16
         ],
         "xaxis": "x15",
         "y": [
          1859,
          3891,
          12025,
          2533,
          3892,
          13048,
          1778,
          2345,
          1895,
          4684,
          6666,
          7559,
          7659,
          3341,
          5508,
          4772,
          1214,
          6800,
          1412,
          3904,
          2264,
          2850,
          2509,
          5160,
          1073,
          1314,
          1557,
          1653,
          634,
          1410,
          2128,
          1918,
          2185,
          15063,
          3659,
          9698,
          4145,
          8507,
          3068,
          12083,
          7125
         ],
         "yaxis": "y15"
        },
        {
         "marker": {
          "color": "rgb(44, 160, 44)",
          "size": 6
         },
         "mode": "markers",
         "name": "Noteworthy - The Journal Blog",
         "showlegend": false,
         "type": "scatter",
         "x": [
          26.21
         ],
         "xaxis": "x15",
         "y": [
          2172
         ],
         "yaxis": "y15"
        },
        {
         "marker": {
          "color": "rgb(214, 39, 40)",
          "size": 6
         },
         "mode": "markers",
         "name": "The Reality Project",
         "showlegend": false,
         "type": "scatter",
         "x": [
          39.23,
          28.75,
          21.22
         ],
         "xaxis": "x15",
         "y": [
          1685,
          2278,
          3678
         ],
         "yaxis": "y15"
        },
        {
         "marker": {
          "color": "rgb(148, 103, 189)",
          "size": 6
         },
         "mode": "markers",
         "name": "Towards Data Science",
         "showlegend": false,
         "type": "scatter",
         "x": [
          17.68,
          22.76,
          28.64,
          31.53,
          23.99,
          25.02,
          26.48,
          62.02,
          31.14,
          35.91,
          54.9,
          41.91,
          30.74,
          47.3,
          29.82,
          62.61,
          43.21,
          28.8,
          32.28,
          42.88,
          43.51,
          20.4,
          22.68,
          36.49,
          36.98,
          27.17,
          33.18,
          31.37,
          33.73,
          30.79,
          26.51,
          31.56,
          63.3,
          18.85,
          20.65,
          23.58,
          25.07,
          23.81,
          21.75,
          16.88,
          25.47,
          21.64,
          26.89,
          14.38,
          18.08,
          43.19,
          24.69,
          33.16,
          26.89,
          44.17,
          16.73,
          19.29,
          74.53,
          17.44,
          26.93,
          18.99,
          40.82,
          18.85,
          18.21,
          27.13,
          19.84,
          23.81,
          28.56,
          40.39,
          17.22,
          24.27,
          38.53,
          21.47,
          21.47,
          30.31,
          34.19,
          17.72,
          21.96,
          19.31,
          45.8,
          22.04,
          29.3,
          30.11,
          30.59,
          20.47
         ],
         "xaxis": "x15",
         "y": [
          4494,
          3504,
          3569,
          2817,
          2456,
          2974,
          2395,
          1169,
          2528,
          1361,
          1014,
          1562,
          2480,
          1281,
          2450,
          721,
          1375,
          2772,
          1944,
          1827,
          933,
          2565,
          1906,
          2394,
          2220,
          2614,
          2365,
          1577,
          2394,
          2690,
          2620,
          1480,
          765,
          3553,
          3106,
          2622,
          2338,
          2975,
          2648,
          5228,
          1998,
          3393,
          1957,
          4298,
          3718,
          1247,
          2634,
          2041,
          2343,
          373,
          3996,
          3834,
          163,
          4042,
          2658,
          3756,
          1172,
          1580,
          3756,
          1809,
          2999,
          2483,
          2933,
          1346,
          3797,
          1979,
          1286,
          1741,
          2230,
          1561,
          1355,
          3398,
          2824,
          1397,
          877,
          1310,
          1806,
          1075,
          1898,
          2813
         ],
         "yaxis": "y15"
        },
        {
         "marker": {
          "color": "rgb(31, 119, 180)"
         },
         "showlegend": false,
         "type": "histogram",
         "x": [
          2087
         ],
         "xaxis": "x16",
         "yaxis": "y16"
        },
        {
         "marker": {
          "color": "rgb(255, 127, 14)"
         },
         "showlegend": false,
         "type": "histogram",
         "x": [
          1859,
          3891,
          12025,
          2533,
          3892,
          13048,
          1778,
          2345,
          1895,
          4684,
          6666,
          7559,
          7659,
          3341,
          5508,
          4772,
          1214,
          6800,
          1412,
          3904,
          2264,
          2850,
          2509,
          5160,
          1073,
          1314,
          1557,
          1653,
          634,
          1410,
          2128,
          1918,
          2185,
          15063,
          3659,
          9698,
          4145,
          8507,
          3068,
          12083,
          7125
         ],
         "xaxis": "x16",
         "yaxis": "y16"
        },
        {
         "marker": {
          "color": "rgb(44, 160, 44)"
         },
         "showlegend": false,
         "type": "histogram",
         "x": [
          2172
         ],
         "xaxis": "x16",
         "yaxis": "y16"
        },
        {
         "marker": {
          "color": "rgb(214, 39, 40)"
         },
         "showlegend": false,
         "type": "histogram",
         "x": [
          1685,
          2278,
          3678
         ],
         "xaxis": "x16",
         "yaxis": "y16"
        },
        {
         "marker": {
          "color": "rgb(148, 103, 189)"
         },
         "showlegend": false,
         "type": "histogram",
         "x": [
          4494,
          3504,
          3569,
          2817,
          2456,
          2974,
          2395,
          1169,
          2528,
          1361,
          1014,
          1562,
          2480,
          1281,
          2450,
          721,
          1375,
          2772,
          1944,
          1827,
          933,
          2565,
          1906,
          2394,
          2220,
          2614,
          2365,
          1577,
          2394,
          2690,
          2620,
          1480,
          765,
          3553,
          3106,
          2622,
          2338,
          2975,
          2648,
          5228,
          1998,
          3393,
          1957,
          4298,
          3718,
          1247,
          2634,
          2041,
          2343,
          373,
          3996,
          3834,
          163,
          4042,
          2658,
          3756,
          1172,
          1580,
          3756,
          1809,
          2999,
          2483,
          2933,
          1346,
          3797,
          1979,
          1286,
          1741,
          2230,
          1561,
          1355,
          3398,
          2824,
          1397,
          877,
          1310,
          1806,
          1075,
          1898,
          2813
         ],
         "xaxis": "x16",
         "yaxis": "y16"
        }
       ],
       "layout": {
        "barmode": "stack",
        "height": 1000,
        "showlegend": true,
        "template": {
         "data": {
          "bar": [
           {
            "error_x": {
             "color": "#2a3f5f"
            },
            "error_y": {
             "color": "#2a3f5f"
            },
            "marker": {
             "line": {
              "color": "#E5ECF6",
              "width": 0.5
             },
             "pattern": {
              "fillmode": "overlay",
              "size": 10,
              "solidity": 0.2
             }
            },
            "type": "bar"
           }
          ],
          "barpolar": [
           {
            "marker": {
             "line": {
              "color": "#E5ECF6",
              "width": 0.5
             },
             "pattern": {
              "fillmode": "overlay",
              "size": 10,
              "solidity": 0.2
             }
            },
            "type": "barpolar"
           }
          ],
          "carpet": [
           {
            "aaxis": {
             "endlinecolor": "#2a3f5f",
             "gridcolor": "white",
             "linecolor": "white",
             "minorgridcolor": "white",
             "startlinecolor": "#2a3f5f"
            },
            "baxis": {
             "endlinecolor": "#2a3f5f",
             "gridcolor": "white",
             "linecolor": "white",
             "minorgridcolor": "white",
             "startlinecolor": "#2a3f5f"
            },
            "type": "carpet"
           }
          ],
          "choropleth": [
           {
            "colorbar": {
             "outlinewidth": 0,
             "ticks": ""
            },
            "type": "choropleth"
           }
          ],
          "contour": [
           {
            "colorbar": {
             "outlinewidth": 0,
             "ticks": ""
            },
            "colorscale": [
             [
              0,
              "#0d0887"
             ],
             [
              0.1111111111111111,
              "#46039f"
             ],
             [
              0.2222222222222222,
              "#7201a8"
             ],
             [
              0.3333333333333333,
              "#9c179e"
             ],
             [
              0.4444444444444444,
              "#bd3786"
             ],
             [
              0.5555555555555556,
              "#d8576b"
             ],
             [
              0.6666666666666666,
              "#ed7953"
             ],
             [
              0.7777777777777778,
              "#fb9f3a"
             ],
             [
              0.8888888888888888,
              "#fdca26"
             ],
             [
              1,
              "#f0f921"
             ]
            ],
            "type": "contour"
           }
          ],
          "contourcarpet": [
           {
            "colorbar": {
             "outlinewidth": 0,
             "ticks": ""
            },
            "type": "contourcarpet"
           }
          ],
          "heatmap": [
           {
            "colorbar": {
             "outlinewidth": 0,
             "ticks": ""
            },
            "colorscale": [
             [
              0,
              "#0d0887"
             ],
             [
              0.1111111111111111,
              "#46039f"
             ],
             [
              0.2222222222222222,
              "#7201a8"
             ],
             [
              0.3333333333333333,
              "#9c179e"
             ],
             [
              0.4444444444444444,
              "#bd3786"
             ],
             [
              0.5555555555555556,
              "#d8576b"
             ],
             [
              0.6666666666666666,
              "#ed7953"
             ],
             [
              0.7777777777777778,
              "#fb9f3a"
             ],
             [
              0.8888888888888888,
              "#fdca26"
             ],
             [
              1,
              "#f0f921"
             ]
            ],
            "type": "heatmap"
           }
          ],
          "heatmapgl": [
           {
            "colorbar": {
             "outlinewidth": 0,
             "ticks": ""
            },
            "colorscale": [
             [
              0,
              "#0d0887"
             ],
             [
              0.1111111111111111,
              "#46039f"
             ],
             [
              0.2222222222222222,
              "#7201a8"
             ],
             [
              0.3333333333333333,
              "#9c179e"
             ],
             [
              0.4444444444444444,
              "#bd3786"
             ],
             [
              0.5555555555555556,
              "#d8576b"
             ],
             [
              0.6666666666666666,
              "#ed7953"
             ],
             [
              0.7777777777777778,
              "#fb9f3a"
             ],
             [
              0.8888888888888888,
              "#fdca26"
             ],
             [
              1,
              "#f0f921"
             ]
            ],
            "type": "heatmapgl"
           }
          ],
          "histogram": [
           {
            "marker": {
             "pattern": {
              "fillmode": "overlay",
              "size": 10,
              "solidity": 0.2
             }
            },
            "type": "histogram"
           }
          ],
          "histogram2d": [
           {
            "colorbar": {
             "outlinewidth": 0,
             "ticks": ""
            },
            "colorscale": [
             [
              0,
              "#0d0887"
             ],
             [
              0.1111111111111111,
              "#46039f"
             ],
             [
              0.2222222222222222,
              "#7201a8"
             ],
             [
              0.3333333333333333,
              "#9c179e"
             ],
             [
              0.4444444444444444,
              "#bd3786"
             ],
             [
              0.5555555555555556,
              "#d8576b"
             ],
             [
              0.6666666666666666,
              "#ed7953"
             ],
             [
              0.7777777777777778,
              "#fb9f3a"
             ],
             [
              0.8888888888888888,
              "#fdca26"
             ],
             [
              1,
              "#f0f921"
             ]
            ],
            "type": "histogram2d"
           }
          ],
          "histogram2dcontour": [
           {
            "colorbar": {
             "outlinewidth": 0,
             "ticks": ""
            },
            "colorscale": [
             [
              0,
              "#0d0887"
             ],
             [
              0.1111111111111111,
              "#46039f"
             ],
             [
              0.2222222222222222,
              "#7201a8"
             ],
             [
              0.3333333333333333,
              "#9c179e"
             ],
             [
              0.4444444444444444,
              "#bd3786"
             ],
             [
              0.5555555555555556,
              "#d8576b"
             ],
             [
              0.6666666666666666,
              "#ed7953"
             ],
             [
              0.7777777777777778,
              "#fb9f3a"
             ],
             [
              0.8888888888888888,
              "#fdca26"
             ],
             [
              1,
              "#f0f921"
             ]
            ],
            "type": "histogram2dcontour"
           }
          ],
          "mesh3d": [
           {
            "colorbar": {
             "outlinewidth": 0,
             "ticks": ""
            },
            "type": "mesh3d"
           }
          ],
          "parcoords": [
           {
            "line": {
             "colorbar": {
              "outlinewidth": 0,
              "ticks": ""
             }
            },
            "type": "parcoords"
           }
          ],
          "pie": [
           {
            "automargin": true,
            "type": "pie"
           }
          ],
          "scatter": [
           {
            "marker": {
             "colorbar": {
              "outlinewidth": 0,
              "ticks": ""
             }
            },
            "type": "scatter"
           }
          ],
          "scatter3d": [
           {
            "line": {
             "colorbar": {
              "outlinewidth": 0,
              "ticks": ""
             }
            },
            "marker": {
             "colorbar": {
              "outlinewidth": 0,
              "ticks": ""
             }
            },
            "type": "scatter3d"
           }
          ],
          "scattercarpet": [
           {
            "marker": {
             "colorbar": {
              "outlinewidth": 0,
              "ticks": ""
             }
            },
            "type": "scattercarpet"
           }
          ],
          "scattergeo": [
           {
            "marker": {
             "colorbar": {
              "outlinewidth": 0,
              "ticks": ""
             }
            },
            "type": "scattergeo"
           }
          ],
          "scattergl": [
           {
            "marker": {
             "colorbar": {
              "outlinewidth": 0,
              "ticks": ""
             }
            },
            "type": "scattergl"
           }
          ],
          "scattermapbox": [
           {
            "marker": {
             "colorbar": {
              "outlinewidth": 0,
              "ticks": ""
             }
            },
            "type": "scattermapbox"
           }
          ],
          "scatterpolar": [
           {
            "marker": {
             "colorbar": {
              "outlinewidth": 0,
              "ticks": ""
             }
            },
            "type": "scatterpolar"
           }
          ],
          "scatterpolargl": [
           {
            "marker": {
             "colorbar": {
              "outlinewidth": 0,
              "ticks": ""
             }
            },
            "type": "scatterpolargl"
           }
          ],
          "scatterternary": [
           {
            "marker": {
             "colorbar": {
              "outlinewidth": 0,
              "ticks": ""
             }
            },
            "type": "scatterternary"
           }
          ],
          "surface": [
           {
            "colorbar": {
             "outlinewidth": 0,
             "ticks": ""
            },
            "colorscale": [
             [
              0,
              "#0d0887"
             ],
             [
              0.1111111111111111,
              "#46039f"
             ],
             [
              0.2222222222222222,
              "#7201a8"
             ],
             [
              0.3333333333333333,
              "#9c179e"
             ],
             [
              0.4444444444444444,
              "#bd3786"
             ],
             [
              0.5555555555555556,
              "#d8576b"
             ],
             [
              0.6666666666666666,
              "#ed7953"
             ],
             [
              0.7777777777777778,
              "#fb9f3a"
             ],
             [
              0.8888888888888888,
              "#fdca26"
             ],
             [
              1,
              "#f0f921"
             ]
            ],
            "type": "surface"
           }
          ],
          "table": [
           {
            "cells": {
             "fill": {
              "color": "#EBF0F8"
             },
             "line": {
              "color": "white"
             }
            },
            "header": {
             "fill": {
              "color": "#C8D4E3"
             },
             "line": {
              "color": "white"
             }
            },
            "type": "table"
           }
          ]
         },
         "layout": {
          "annotationdefaults": {
           "arrowcolor": "#2a3f5f",
           "arrowhead": 0,
           "arrowwidth": 1
          },
          "autotypenumbers": "strict",
          "coloraxis": {
           "colorbar": {
            "outlinewidth": 0,
            "ticks": ""
           }
          },
          "colorscale": {
           "diverging": [
            [
             0,
             "#8e0152"
            ],
            [
             0.1,
             "#c51b7d"
            ],
            [
             0.2,
             "#de77ae"
            ],
            [
             0.3,
             "#f1b6da"
            ],
            [
             0.4,
             "#fde0ef"
            ],
            [
             0.5,
             "#f7f7f7"
            ],
            [
             0.6,
             "#e6f5d0"
            ],
            [
             0.7,
             "#b8e186"
            ],
            [
             0.8,
             "#7fbc41"
            ],
            [
             0.9,
             "#4d9221"
            ],
            [
             1,
             "#276419"
            ]
           ],
           "sequential": [
            [
             0,
             "#0d0887"
            ],
            [
             0.1111111111111111,
             "#46039f"
            ],
            [
             0.2222222222222222,
             "#7201a8"
            ],
            [
             0.3333333333333333,
             "#9c179e"
            ],
            [
             0.4444444444444444,
             "#bd3786"
            ],
            [
             0.5555555555555556,
             "#d8576b"
            ],
            [
             0.6666666666666666,
             "#ed7953"
            ],
            [
             0.7777777777777778,
             "#fb9f3a"
            ],
            [
             0.8888888888888888,
             "#fdca26"
            ],
            [
             1,
             "#f0f921"
            ]
           ],
           "sequentialminus": [
            [
             0,
             "#0d0887"
            ],
            [
             0.1111111111111111,
             "#46039f"
            ],
            [
             0.2222222222222222,
             "#7201a8"
            ],
            [
             0.3333333333333333,
             "#9c179e"
            ],
            [
             0.4444444444444444,
             "#bd3786"
            ],
            [
             0.5555555555555556,
             "#d8576b"
            ],
            [
             0.6666666666666666,
             "#ed7953"
            ],
            [
             0.7777777777777778,
             "#fb9f3a"
            ],
            [
             0.8888888888888888,
             "#fdca26"
            ],
            [
             1,
             "#f0f921"
            ]
           ]
          },
          "colorway": [
           "#636efa",
           "#EF553B",
           "#00cc96",
           "#ab63fa",
           "#FFA15A",
           "#19d3f3",
           "#FF6692",
           "#B6E880",
           "#FF97FF",
           "#FECB52"
          ],
          "font": {
           "color": "#2a3f5f"
          },
          "geo": {
           "bgcolor": "white",
           "lakecolor": "white",
           "landcolor": "#E5ECF6",
           "showlakes": true,
           "showland": true,
           "subunitcolor": "white"
          },
          "hoverlabel": {
           "align": "left"
          },
          "hovermode": "closest",
          "mapbox": {
           "style": "light"
          },
          "paper_bgcolor": "white",
          "plot_bgcolor": "#E5ECF6",
          "polar": {
           "angularaxis": {
            "gridcolor": "white",
            "linecolor": "white",
            "ticks": ""
           },
           "bgcolor": "#E5ECF6",
           "radialaxis": {
            "gridcolor": "white",
            "linecolor": "white",
            "ticks": ""
           }
          },
          "scene": {
           "xaxis": {
            "backgroundcolor": "#E5ECF6",
            "gridcolor": "white",
            "gridwidth": 2,
            "linecolor": "white",
            "showbackground": true,
            "ticks": "",
            "zerolinecolor": "white"
           },
           "yaxis": {
            "backgroundcolor": "#E5ECF6",
            "gridcolor": "white",
            "gridwidth": 2,
            "linecolor": "white",
            "showbackground": true,
            "ticks": "",
            "zerolinecolor": "white"
           },
           "zaxis": {
            "backgroundcolor": "#E5ECF6",
            "gridcolor": "white",
            "gridwidth": 2,
            "linecolor": "white",
            "showbackground": true,
            "ticks": "",
            "zerolinecolor": "white"
           }
          },
          "shapedefaults": {
           "line": {
            "color": "#2a3f5f"
           }
          },
          "ternary": {
           "aaxis": {
            "gridcolor": "white",
            "linecolor": "white",
            "ticks": ""
           },
           "baxis": {
            "gridcolor": "white",
            "linecolor": "white",
            "ticks": ""
           },
           "bgcolor": "#E5ECF6",
           "caxis": {
            "gridcolor": "white",
            "linecolor": "white",
            "ticks": ""
           }
          },
          "title": {
           "x": 0.05
          },
          "xaxis": {
           "automargin": true,
           "gridcolor": "white",
           "linecolor": "white",
           "ticks": "",
           "title": {
            "standoff": 15
           },
           "zerolinecolor": "white",
           "zerolinewidth": 2
          },
          "yaxis": {
           "automargin": true,
           "gridcolor": "white",
           "linecolor": "white",
           "ticks": "",
           "title": {
            "standoff": 15
           },
           "zerolinecolor": "white",
           "zerolinewidth": 2
          }
         }
        },
        "title": {
         "text": "Scatterplot Matrix"
        },
        "width": 1000,
        "xaxis": {
         "anchor": "y",
         "domain": [
          0,
          0.2125
         ]
        },
        "xaxis10": {
         "anchor": "y10",
         "domain": [
          0.2625,
          0.475
         ]
        },
        "xaxis11": {
         "anchor": "y11",
         "domain": [
          0.525,
          0.7375
         ]
        },
        "xaxis12": {
         "anchor": "y12",
         "domain": [
          0.7875,
          1
         ]
        },
        "xaxis13": {
         "anchor": "y13",
         "domain": [
          0,
          0.2125
         ],
         "title": {
          "text": "claps"
         }
        },
        "xaxis14": {
         "anchor": "y14",
         "domain": [
          0.2625,
          0.475
         ],
         "title": {
          "text": "views"
         }
        },
        "xaxis15": {
         "anchor": "y15",
         "domain": [
          0.525,
          0.7375
         ],
         "title": {
          "text": "read_ratio"
         }
        },
        "xaxis16": {
         "anchor": "y16",
         "domain": [
          0.7875,
          1
         ],
         "title": {
          "text": "word_count"
         }
        },
        "xaxis2": {
         "anchor": "y2",
         "domain": [
          0.2625,
          0.475
         ]
        },
        "xaxis3": {
         "anchor": "y3",
         "domain": [
          0.525,
          0.7375
         ]
        },
        "xaxis4": {
         "anchor": "y4",
         "domain": [
          0.7875,
          1
         ]
        },
        "xaxis5": {
         "anchor": "y5",
         "domain": [
          0,
          0.2125
         ]
        },
        "xaxis6": {
         "anchor": "y6",
         "domain": [
          0.2625,
          0.475
         ]
        },
        "xaxis7": {
         "anchor": "y7",
         "domain": [
          0.525,
          0.7375
         ]
        },
        "xaxis8": {
         "anchor": "y8",
         "domain": [
          0.7875,
          1
         ]
        },
        "xaxis9": {
         "anchor": "y9",
         "domain": [
          0,
          0.2125
         ]
        },
        "yaxis": {
         "anchor": "x",
         "domain": [
          0.80625,
          1
         ],
         "title": {
          "text": "claps"
         }
        },
        "yaxis10": {
         "anchor": "x10",
         "domain": [
          0.26875,
          0.4625
         ]
        },
        "yaxis11": {
         "anchor": "x11",
         "domain": [
          0.26875,
          0.4625
         ]
        },
        "yaxis12": {
         "anchor": "x12",
         "domain": [
          0.26875,
          0.4625
         ]
        },
        "yaxis13": {
         "anchor": "x13",
         "domain": [
          0,
          0.19375
         ],
         "title": {
          "text": "word_count"
         }
        },
        "yaxis14": {
         "anchor": "x14",
         "domain": [
          0,
          0.19375
         ]
        },
        "yaxis15": {
         "anchor": "x15",
         "domain": [
          0,
          0.19375
         ]
        },
        "yaxis16": {
         "anchor": "x16",
         "domain": [
          0,
          0.19375
         ]
        },
        "yaxis2": {
         "anchor": "x2",
         "domain": [
          0.80625,
          1
         ]
        },
        "yaxis3": {
         "anchor": "x3",
         "domain": [
          0.80625,
          1
         ]
        },
        "yaxis4": {
         "anchor": "x4",
         "domain": [
          0.80625,
          1
         ]
        },
        "yaxis5": {
         "anchor": "x5",
         "domain": [
          0.5375,
          0.73125
         ],
         "title": {
          "text": "views"
         }
        },
        "yaxis6": {
         "anchor": "x6",
         "domain": [
          0.5375,
          0.73125
         ]
        },
        "yaxis7": {
         "anchor": "x7",
         "domain": [
          0.5375,
          0.73125
         ]
        },
        "yaxis8": {
         "anchor": "x8",
         "domain": [
          0.5375,
          0.73125
         ]
        },
        "yaxis9": {
         "anchor": "x9",
         "domain": [
          0.26875,
          0.4625
         ],
         "title": {
          "text": "read_ratio"
         }
        }
       }
      },
      "text/html": [
       "<div>                            <div id=\"45bf7f96-f2c6-47cc-ad71-ea9258a2f8a8\" class=\"plotly-graph-div\" style=\"height:1000px; width:1000px;\"></div>            <script type=\"text/javascript\">                require([\"plotly\"], function(Plotly) {                    window.PLOTLYENV=window.PLOTLYENV || {};                                    if (document.getElementById(\"45bf7f96-f2c6-47cc-ad71-ea9258a2f8a8\")) {                    Plotly.newPlot(                        \"45bf7f96-f2c6-47cc-ad71-ea9258a2f8a8\",                        [{\"marker\":{\"color\":\"rgb(31, 119, 180)\"},\"showlegend\":false,\"type\":\"histogram\",\"x\":[315],\"xaxis\":\"x\",\"yaxis\":\"y\"},{\"marker\":{\"color\":\"rgb(255, 127, 14)\"},\"showlegend\":false,\"type\":\"histogram\",\"x\":[2,18,50,0,0,0,73,234,2,0,682,58,5,7,87,23,4,113,8,17,8,2700,72,123,11,59,14,275,101,728,205,121,361,31,0,24,0,5,6,0,424],\"xaxis\":\"x\",\"yaxis\":\"y\"},{\"marker\":{\"color\":\"rgb(44, 160, 44)\"},\"showlegend\":false,\"type\":\"histogram\",\"x\":[1000],\"xaxis\":\"x\",\"yaxis\":\"y\"},{\"marker\":{\"color\":\"rgb(214, 39, 40)\"},\"showlegend\":false,\"type\":\"histogram\",\"x\":[329,309,75],\"xaxis\":\"x\",\"yaxis\":\"y\"},{\"marker\":{\"color\":\"rgb(148, 103, 189)\"},\"showlegend\":false,\"type\":\"histogram\",\"x\":[4800,857,186,119,2000,4100,2700,77,7000,1200,1600,1600,1000,4300,4980,12900,223,4900,5900,548,895,6700,6500,2700,1100,2900,2600,2800,5300,1300,1000,7900,364,13500,4100,2200,3900,6300,8200,1300,5400,2300,2700,2100,707,650,2700,4100,822,830,3700,653,657,1100,2800,3100,792,222,3300,2500,976,2000,3200,651,2300,809,745,587,818,2200,1300,630,2600,2000,3600,440,893,529,443,412],\"xaxis\":\"x\",\"yaxis\":\"y\"},{\"marker\":{\"color\":\"rgb(31, 119, 180)\",\"size\":6},\"mode\":\"markers\",\"name\":\"Engineering @ Feature Labs\",\"showlegend\":true,\"type\":\"scatter\",\"x\":[2771],\"xaxis\":\"x2\",\"y\":[315],\"yaxis\":\"y2\"},{\"marker\":{\"color\":\"rgb(255, 127, 14)\",\"size\":6},\"mode\":\"markers\",\"name\":\"None\",\"showlegend\":true,\"type\":\"scatter\",\"x\":[162,164,1065,53,57,306,9379,23210,123,64,27137,3930,145,54,5325,4676,8247,12718,132,2113,35,81482,162,313,3299,148,105,1576,227,836,407,255,802,212,3,105,8,84,133,33,1169],\"xaxis\":\"x2\",\"y\":[2,18,50,0,0,0,73,234,2,0,682,58,5,7,87,23,4,113,8,17,8,2700,72,123,11,59,14,275,101,728,205,121,361,31,0,24,0,5,6,0,424],\"yaxis\":\"y2\"},{\"marker\":{\"color\":\"rgb(44, 160, 44)\",\"size\":6},\"mode\":\"markers\",\"name\":\"Noteworthy - The Journal Blog\",\"showlegend\":true,\"type\":\"scatter\",\"x\":[2060],\"xaxis\":\"x2\",\"y\":[1000],\"yaxis\":\"y2\"},{\"marker\":{\"color\":\"rgb(214, 39, 40)\",\"size\":6},\"mode\":\"markers\",\"name\":\"The Reality Project\",\"showlegend\":true,\"type\":\"scatter\",\"x\":[418,400,245],\"xaxis\":\"x2\",\"y\":[329,309,75],\"yaxis\":\"y2\"},{\"marker\":{\"color\":\"rgb(148, 103, 189)\",\"size\":6},\"mode\":\"markers\",\"name\":\"Towards Data Science\",\"showlegend\":true,\"type\":\"scatter\",\"x\":[161596,31659,2706,2347,106311,124825,77497,4824,126851,19055,4002,15916,32523,15130,47199,47622,2969,54158,34062,4631,12843,117100,59369,52309,28079,106784,52600,45735,54916,20836,23687,66471,2365,120826,44761,26243,32977,42040,109995,10668,76426,23863,29854,42853,5337,4040,24071,16584,3931,25112,42624,6183,1649,12826,14670,24211,3606,1623,23651,26397,6304,12771,32675,3174,30979,5039,6250,5227,7936,26754,14428,8115,21311,22058,23180,4786,9734,5307,1703,2232],\"xaxis\":\"x2\",\"y\":[4800,857,186,119,2000,4100,2700,77,7000,1200,1600,1600,1000,4300,4980,12900,223,4900,5900,548,895,6700,6500,2700,1100,2900,2600,2800,5300,1300,1000,7900,364,13500,4100,2200,3900,6300,8200,1300,5400,2300,2700,2100,707,650,2700,4100,822,830,3700,653,657,1100,2800,3100,792,222,3300,2500,976,2000,3200,651,2300,809,745,587,818,2200,1300,630,2600,2000,3600,440,893,529,443,412],\"yaxis\":\"y2\"},{\"marker\":{\"color\":\"rgb(31, 119, 180)\",\"size\":6},\"mode\":\"markers\",\"name\":\"Engineering @ Feature Labs\",\"showlegend\":false,\"type\":\"scatter\",\"x\":[27.28],\"xaxis\":\"x3\",\"y\":[315],\"yaxis\":\"y3\"},{\"marker\":{\"color\":\"rgb(255, 127, 14)\",\"size\":6},\"mode\":\"markers\",\"name\":\"None\",\"showlegend\":false,\"type\":\"scatter\",\"x\":[41.98,32.93,20.19,35.85,8.77,19.28,17.64,23.55,33.33,23.44,14.07,12.24,18.62,27.78,11.87,11.57,28.87,15.38,53.03,13.2,65.71,42.03,36.42,42.81,34.43,41.89,54.29,28.68,58.15,47.01,35.38,24.31,39.28,11.79,33.33,12.38,25.0,9.52,27.82,6.06,19.16],\"xaxis\":\"x3\",\"y\":[2,18,50,0,0,0,73,234,2,0,682,58,5,7,87,23,4,113,8,17,8,2700,72,123,11,59,14,275,101,728,205,121,361,31,0,24,0,5,6,0,424],\"yaxis\":\"y3\"},{\"marker\":{\"color\":\"rgb(44, 160, 44)\",\"size\":6},\"mode\":\"markers\",\"name\":\"Noteworthy - The Journal Blog\",\"showlegend\":false,\"type\":\"scatter\",\"x\":[26.21],\"xaxis\":\"x3\",\"y\":[1000],\"yaxis\":\"y3\"},{\"marker\":{\"color\":\"rgb(214, 39, 40)\",\"size\":6},\"mode\":\"markers\",\"name\":\"The Reality Project\",\"showlegend\":false,\"type\":\"scatter\",\"x\":[39.23,28.75,21.22],\"xaxis\":\"x3\",\"y\":[329,309,75],\"yaxis\":\"y3\"},{\"marker\":{\"color\":\"rgb(148, 103, 189)\",\"size\":6},\"mode\":\"markers\",\"name\":\"Towards Data Science\",\"showlegend\":false,\"type\":\"scatter\",\"x\":[17.68,22.76,28.64,31.53,23.99,25.02,26.48,62.02,31.14,35.91,54.9,41.91,30.74,47.3,29.82,62.61,43.21,28.8,32.28,42.88,43.51,20.4,22.68,36.49,36.98,27.17,33.18,31.37,33.73,30.79,26.51,31.56,63.3,18.85,20.65,23.58,25.07,23.81,21.75,16.88,25.47,21.64,26.89,14.38,18.08,43.19,24.69,33.16,26.89,44.17,16.73,19.29,74.53,17.44,26.93,18.99,40.82,18.85,18.21,27.13,19.84,23.81,28.56,40.39,17.22,24.27,38.53,21.47,21.47,30.31,34.19,17.72,21.96,19.31,45.8,22.04,29.3,30.11,30.59,20.47],\"xaxis\":\"x3\",\"y\":[4800,857,186,119,2000,4100,2700,77,7000,1200,1600,1600,1000,4300,4980,12900,223,4900,5900,548,895,6700,6500,2700,1100,2900,2600,2800,5300,1300,1000,7900,364,13500,4100,2200,3900,6300,8200,1300,5400,2300,2700,2100,707,650,2700,4100,822,830,3700,653,657,1100,2800,3100,792,222,3300,2500,976,2000,3200,651,2300,809,745,587,818,2200,1300,630,2600,2000,3600,440,893,529,443,412],\"yaxis\":\"y3\"},{\"marker\":{\"color\":\"rgb(31, 119, 180)\",\"size\":6},\"mode\":\"markers\",\"name\":\"Engineering @ Feature Labs\",\"showlegend\":false,\"type\":\"scatter\",\"x\":[2087],\"xaxis\":\"x4\",\"y\":[315],\"yaxis\":\"y4\"},{\"marker\":{\"color\":\"rgb(255, 127, 14)\",\"size\":6},\"mode\":\"markers\",\"name\":\"None\",\"showlegend\":false,\"type\":\"scatter\",\"x\":[1859,3891,12025,2533,3892,13048,1778,2345,1895,4684,6666,7559,7659,3341,5508,4772,1214,6800,1412,3904,2264,2850,2509,5160,1073,1314,1557,1653,634,1410,2128,1918,2185,15063,3659,9698,4145,8507,3068,12083,7125],\"xaxis\":\"x4\",\"y\":[2,18,50,0,0,0,73,234,2,0,682,58,5,7,87,23,4,113,8,17,8,2700,72,123,11,59,14,275,101,728,205,121,361,31,0,24,0,5,6,0,424],\"yaxis\":\"y4\"},{\"marker\":{\"color\":\"rgb(44, 160, 44)\",\"size\":6},\"mode\":\"markers\",\"name\":\"Noteworthy - The Journal Blog\",\"showlegend\":false,\"type\":\"scatter\",\"x\":[2172],\"xaxis\":\"x4\",\"y\":[1000],\"yaxis\":\"y4\"},{\"marker\":{\"color\":\"rgb(214, 39, 40)\",\"size\":6},\"mode\":\"markers\",\"name\":\"The Reality Project\",\"showlegend\":false,\"type\":\"scatter\",\"x\":[1685,2278,3678],\"xaxis\":\"x4\",\"y\":[329,309,75],\"yaxis\":\"y4\"},{\"marker\":{\"color\":\"rgb(148, 103, 189)\",\"size\":6},\"mode\":\"markers\",\"name\":\"Towards Data Science\",\"showlegend\":false,\"type\":\"scatter\",\"x\":[4494,3504,3569,2817,2456,2974,2395,1169,2528,1361,1014,1562,2480,1281,2450,721,1375,2772,1944,1827,933,2565,1906,2394,2220,2614,2365,1577,2394,2690,2620,1480,765,3553,3106,2622,2338,2975,2648,5228,1998,3393,1957,4298,3718,1247,2634,2041,2343,373,3996,3834,163,4042,2658,3756,1172,1580,3756,1809,2999,2483,2933,1346,3797,1979,1286,1741,2230,1561,1355,3398,2824,1397,877,1310,1806,1075,1898,2813],\"xaxis\":\"x4\",\"y\":[4800,857,186,119,2000,4100,2700,77,7000,1200,1600,1600,1000,4300,4980,12900,223,4900,5900,548,895,6700,6500,2700,1100,2900,2600,2800,5300,1300,1000,7900,364,13500,4100,2200,3900,6300,8200,1300,5400,2300,2700,2100,707,650,2700,4100,822,830,3700,653,657,1100,2800,3100,792,222,3300,2500,976,2000,3200,651,2300,809,745,587,818,2200,1300,630,2600,2000,3600,440,893,529,443,412],\"yaxis\":\"y4\"},{\"marker\":{\"color\":\"rgb(31, 119, 180)\",\"size\":6},\"mode\":\"markers\",\"name\":\"Engineering @ Feature Labs\",\"showlegend\":false,\"type\":\"scatter\",\"x\":[315],\"xaxis\":\"x5\",\"y\":[2771],\"yaxis\":\"y5\"},{\"marker\":{\"color\":\"rgb(255, 127, 14)\",\"size\":6},\"mode\":\"markers\",\"name\":\"None\",\"showlegend\":false,\"type\":\"scatter\",\"x\":[2,18,50,0,0,0,73,234,2,0,682,58,5,7,87,23,4,113,8,17,8,2700,72,123,11,59,14,275,101,728,205,121,361,31,0,24,0,5,6,0,424],\"xaxis\":\"x5\",\"y\":[162,164,1065,53,57,306,9379,23210,123,64,27137,3930,145,54,5325,4676,8247,12718,132,2113,35,81482,162,313,3299,148,105,1576,227,836,407,255,802,212,3,105,8,84,133,33,1169],\"yaxis\":\"y5\"},{\"marker\":{\"color\":\"rgb(44, 160, 44)\",\"size\":6},\"mode\":\"markers\",\"name\":\"Noteworthy - The Journal Blog\",\"showlegend\":false,\"type\":\"scatter\",\"x\":[1000],\"xaxis\":\"x5\",\"y\":[2060],\"yaxis\":\"y5\"},{\"marker\":{\"color\":\"rgb(214, 39, 40)\",\"size\":6},\"mode\":\"markers\",\"name\":\"The Reality Project\",\"showlegend\":false,\"type\":\"scatter\",\"x\":[329,309,75],\"xaxis\":\"x5\",\"y\":[418,400,245],\"yaxis\":\"y5\"},{\"marker\":{\"color\":\"rgb(148, 103, 189)\",\"size\":6},\"mode\":\"markers\",\"name\":\"Towards Data Science\",\"showlegend\":false,\"type\":\"scatter\",\"x\":[4800,857,186,119,2000,4100,2700,77,7000,1200,1600,1600,1000,4300,4980,12900,223,4900,5900,548,895,6700,6500,2700,1100,2900,2600,2800,5300,1300,1000,7900,364,13500,4100,2200,3900,6300,8200,1300,5400,2300,2700,2100,707,650,2700,4100,822,830,3700,653,657,1100,2800,3100,792,222,3300,2500,976,2000,3200,651,2300,809,745,587,818,2200,1300,630,2600,2000,3600,440,893,529,443,412],\"xaxis\":\"x5\",\"y\":[161596,31659,2706,2347,106311,124825,77497,4824,126851,19055,4002,15916,32523,15130,47199,47622,2969,54158,34062,4631,12843,117100,59369,52309,28079,106784,52600,45735,54916,20836,23687,66471,2365,120826,44761,26243,32977,42040,109995,10668,76426,23863,29854,42853,5337,4040,24071,16584,3931,25112,42624,6183,1649,12826,14670,24211,3606,1623,23651,26397,6304,12771,32675,3174,30979,5039,6250,5227,7936,26754,14428,8115,21311,22058,23180,4786,9734,5307,1703,2232],\"yaxis\":\"y5\"},{\"marker\":{\"color\":\"rgb(31, 119, 180)\"},\"showlegend\":false,\"type\":\"histogram\",\"x\":[2771],\"xaxis\":\"x6\",\"yaxis\":\"y6\"},{\"marker\":{\"color\":\"rgb(255, 127, 14)\"},\"showlegend\":false,\"type\":\"histogram\",\"x\":[162,164,1065,53,57,306,9379,23210,123,64,27137,3930,145,54,5325,4676,8247,12718,132,2113,35,81482,162,313,3299,148,105,1576,227,836,407,255,802,212,3,105,8,84,133,33,1169],\"xaxis\":\"x6\",\"yaxis\":\"y6\"},{\"marker\":{\"color\":\"rgb(44, 160, 44)\"},\"showlegend\":false,\"type\":\"histogram\",\"x\":[2060],\"xaxis\":\"x6\",\"yaxis\":\"y6\"},{\"marker\":{\"color\":\"rgb(214, 39, 40)\"},\"showlegend\":false,\"type\":\"histogram\",\"x\":[418,400,245],\"xaxis\":\"x6\",\"yaxis\":\"y6\"},{\"marker\":{\"color\":\"rgb(148, 103, 189)\"},\"showlegend\":false,\"type\":\"histogram\",\"x\":[161596,31659,2706,2347,106311,124825,77497,4824,126851,19055,4002,15916,32523,15130,47199,47622,2969,54158,34062,4631,12843,117100,59369,52309,28079,106784,52600,45735,54916,20836,23687,66471,2365,120826,44761,26243,32977,42040,109995,10668,76426,23863,29854,42853,5337,4040,24071,16584,3931,25112,42624,6183,1649,12826,14670,24211,3606,1623,23651,26397,6304,12771,32675,3174,30979,5039,6250,5227,7936,26754,14428,8115,21311,22058,23180,4786,9734,5307,1703,2232],\"xaxis\":\"x6\",\"yaxis\":\"y6\"},{\"marker\":{\"color\":\"rgb(31, 119, 180)\",\"size\":6},\"mode\":\"markers\",\"name\":\"Engineering @ Feature Labs\",\"showlegend\":false,\"type\":\"scatter\",\"x\":[27.28],\"xaxis\":\"x7\",\"y\":[2771],\"yaxis\":\"y7\"},{\"marker\":{\"color\":\"rgb(255, 127, 14)\",\"size\":6},\"mode\":\"markers\",\"name\":\"None\",\"showlegend\":false,\"type\":\"scatter\",\"x\":[41.98,32.93,20.19,35.85,8.77,19.28,17.64,23.55,33.33,23.44,14.07,12.24,18.62,27.78,11.87,11.57,28.87,15.38,53.03,13.2,65.71,42.03,36.42,42.81,34.43,41.89,54.29,28.68,58.15,47.01,35.38,24.31,39.28,11.79,33.33,12.38,25.0,9.52,27.82,6.06,19.16],\"xaxis\":\"x7\",\"y\":[162,164,1065,53,57,306,9379,23210,123,64,27137,3930,145,54,5325,4676,8247,12718,132,2113,35,81482,162,313,3299,148,105,1576,227,836,407,255,802,212,3,105,8,84,133,33,1169],\"yaxis\":\"y7\"},{\"marker\":{\"color\":\"rgb(44, 160, 44)\",\"size\":6},\"mode\":\"markers\",\"name\":\"Noteworthy - The Journal Blog\",\"showlegend\":false,\"type\":\"scatter\",\"x\":[26.21],\"xaxis\":\"x7\",\"y\":[2060],\"yaxis\":\"y7\"},{\"marker\":{\"color\":\"rgb(214, 39, 40)\",\"size\":6},\"mode\":\"markers\",\"name\":\"The Reality Project\",\"showlegend\":false,\"type\":\"scatter\",\"x\":[39.23,28.75,21.22],\"xaxis\":\"x7\",\"y\":[418,400,245],\"yaxis\":\"y7\"},{\"marker\":{\"color\":\"rgb(148, 103, 189)\",\"size\":6},\"mode\":\"markers\",\"name\":\"Towards Data Science\",\"showlegend\":false,\"type\":\"scatter\",\"x\":[17.68,22.76,28.64,31.53,23.99,25.02,26.48,62.02,31.14,35.91,54.9,41.91,30.74,47.3,29.82,62.61,43.21,28.8,32.28,42.88,43.51,20.4,22.68,36.49,36.98,27.17,33.18,31.37,33.73,30.79,26.51,31.56,63.3,18.85,20.65,23.58,25.07,23.81,21.75,16.88,25.47,21.64,26.89,14.38,18.08,43.19,24.69,33.16,26.89,44.17,16.73,19.29,74.53,17.44,26.93,18.99,40.82,18.85,18.21,27.13,19.84,23.81,28.56,40.39,17.22,24.27,38.53,21.47,21.47,30.31,34.19,17.72,21.96,19.31,45.8,22.04,29.3,30.11,30.59,20.47],\"xaxis\":\"x7\",\"y\":[161596,31659,2706,2347,106311,124825,77497,4824,126851,19055,4002,15916,32523,15130,47199,47622,2969,54158,34062,4631,12843,117100,59369,52309,28079,106784,52600,45735,54916,20836,23687,66471,2365,120826,44761,26243,32977,42040,109995,10668,76426,23863,29854,42853,5337,4040,24071,16584,3931,25112,42624,6183,1649,12826,14670,24211,3606,1623,23651,26397,6304,12771,32675,3174,30979,5039,6250,5227,7936,26754,14428,8115,21311,22058,23180,4786,9734,5307,1703,2232],\"yaxis\":\"y7\"},{\"marker\":{\"color\":\"rgb(31, 119, 180)\",\"size\":6},\"mode\":\"markers\",\"name\":\"Engineering @ Feature Labs\",\"showlegend\":false,\"type\":\"scatter\",\"x\":[2087],\"xaxis\":\"x8\",\"y\":[2771],\"yaxis\":\"y8\"},{\"marker\":{\"color\":\"rgb(255, 127, 14)\",\"size\":6},\"mode\":\"markers\",\"name\":\"None\",\"showlegend\":false,\"type\":\"scatter\",\"x\":[1859,3891,12025,2533,3892,13048,1778,2345,1895,4684,6666,7559,7659,3341,5508,4772,1214,6800,1412,3904,2264,2850,2509,5160,1073,1314,1557,1653,634,1410,2128,1918,2185,15063,3659,9698,4145,8507,3068,12083,7125],\"xaxis\":\"x8\",\"y\":[162,164,1065,53,57,306,9379,23210,123,64,27137,3930,145,54,5325,4676,8247,12718,132,2113,35,81482,162,313,3299,148,105,1576,227,836,407,255,802,212,3,105,8,84,133,33,1169],\"yaxis\":\"y8\"},{\"marker\":{\"color\":\"rgb(44, 160, 44)\",\"size\":6},\"mode\":\"markers\",\"name\":\"Noteworthy - The Journal Blog\",\"showlegend\":false,\"type\":\"scatter\",\"x\":[2172],\"xaxis\":\"x8\",\"y\":[2060],\"yaxis\":\"y8\"},{\"marker\":{\"color\":\"rgb(214, 39, 40)\",\"size\":6},\"mode\":\"markers\",\"name\":\"The Reality Project\",\"showlegend\":false,\"type\":\"scatter\",\"x\":[1685,2278,3678],\"xaxis\":\"x8\",\"y\":[418,400,245],\"yaxis\":\"y8\"},{\"marker\":{\"color\":\"rgb(148, 103, 189)\",\"size\":6},\"mode\":\"markers\",\"name\":\"Towards Data Science\",\"showlegend\":false,\"type\":\"scatter\",\"x\":[4494,3504,3569,2817,2456,2974,2395,1169,2528,1361,1014,1562,2480,1281,2450,721,1375,2772,1944,1827,933,2565,1906,2394,2220,2614,2365,1577,2394,2690,2620,1480,765,3553,3106,2622,2338,2975,2648,5228,1998,3393,1957,4298,3718,1247,2634,2041,2343,373,3996,3834,163,4042,2658,3756,1172,1580,3756,1809,2999,2483,2933,1346,3797,1979,1286,1741,2230,1561,1355,3398,2824,1397,877,1310,1806,1075,1898,2813],\"xaxis\":\"x8\",\"y\":[161596,31659,2706,2347,106311,124825,77497,4824,126851,19055,4002,15916,32523,15130,47199,47622,2969,54158,34062,4631,12843,117100,59369,52309,28079,106784,52600,45735,54916,20836,23687,66471,2365,120826,44761,26243,32977,42040,109995,10668,76426,23863,29854,42853,5337,4040,24071,16584,3931,25112,42624,6183,1649,12826,14670,24211,3606,1623,23651,26397,6304,12771,32675,3174,30979,5039,6250,5227,7936,26754,14428,8115,21311,22058,23180,4786,9734,5307,1703,2232],\"yaxis\":\"y8\"},{\"marker\":{\"color\":\"rgb(31, 119, 180)\",\"size\":6},\"mode\":\"markers\",\"name\":\"Engineering @ Feature Labs\",\"showlegend\":false,\"type\":\"scatter\",\"x\":[315],\"xaxis\":\"x9\",\"y\":[27.28],\"yaxis\":\"y9\"},{\"marker\":{\"color\":\"rgb(255, 127, 14)\",\"size\":6},\"mode\":\"markers\",\"name\":\"None\",\"showlegend\":false,\"type\":\"scatter\",\"x\":[2,18,50,0,0,0,73,234,2,0,682,58,5,7,87,23,4,113,8,17,8,2700,72,123,11,59,14,275,101,728,205,121,361,31,0,24,0,5,6,0,424],\"xaxis\":\"x9\",\"y\":[41.98,32.93,20.19,35.85,8.77,19.28,17.64,23.55,33.33,23.44,14.07,12.24,18.62,27.78,11.87,11.57,28.87,15.38,53.03,13.2,65.71,42.03,36.42,42.81,34.43,41.89,54.29,28.68,58.15,47.01,35.38,24.31,39.28,11.79,33.33,12.38,25.0,9.52,27.82,6.06,19.16],\"yaxis\":\"y9\"},{\"marker\":{\"color\":\"rgb(44, 160, 44)\",\"size\":6},\"mode\":\"markers\",\"name\":\"Noteworthy - The Journal Blog\",\"showlegend\":false,\"type\":\"scatter\",\"x\":[1000],\"xaxis\":\"x9\",\"y\":[26.21],\"yaxis\":\"y9\"},{\"marker\":{\"color\":\"rgb(214, 39, 40)\",\"size\":6},\"mode\":\"markers\",\"name\":\"The Reality Project\",\"showlegend\":false,\"type\":\"scatter\",\"x\":[329,309,75],\"xaxis\":\"x9\",\"y\":[39.23,28.75,21.22],\"yaxis\":\"y9\"},{\"marker\":{\"color\":\"rgb(148, 103, 189)\",\"size\":6},\"mode\":\"markers\",\"name\":\"Towards Data Science\",\"showlegend\":false,\"type\":\"scatter\",\"x\":[4800,857,186,119,2000,4100,2700,77,7000,1200,1600,1600,1000,4300,4980,12900,223,4900,5900,548,895,6700,6500,2700,1100,2900,2600,2800,5300,1300,1000,7900,364,13500,4100,2200,3900,6300,8200,1300,5400,2300,2700,2100,707,650,2700,4100,822,830,3700,653,657,1100,2800,3100,792,222,3300,2500,976,2000,3200,651,2300,809,745,587,818,2200,1300,630,2600,2000,3600,440,893,529,443,412],\"xaxis\":\"x9\",\"y\":[17.68,22.76,28.64,31.53,23.99,25.02,26.48,62.02,31.14,35.91,54.9,41.91,30.74,47.3,29.82,62.61,43.21,28.8,32.28,42.88,43.51,20.4,22.68,36.49,36.98,27.17,33.18,31.37,33.73,30.79,26.51,31.56,63.3,18.85,20.65,23.58,25.07,23.81,21.75,16.88,25.47,21.64,26.89,14.38,18.08,43.19,24.69,33.16,26.89,44.17,16.73,19.29,74.53,17.44,26.93,18.99,40.82,18.85,18.21,27.13,19.84,23.81,28.56,40.39,17.22,24.27,38.53,21.47,21.47,30.31,34.19,17.72,21.96,19.31,45.8,22.04,29.3,30.11,30.59,20.47],\"yaxis\":\"y9\"},{\"marker\":{\"color\":\"rgb(31, 119, 180)\",\"size\":6},\"mode\":\"markers\",\"name\":\"Engineering @ Feature Labs\",\"showlegend\":false,\"type\":\"scatter\",\"x\":[2771],\"xaxis\":\"x10\",\"y\":[27.28],\"yaxis\":\"y10\"},{\"marker\":{\"color\":\"rgb(255, 127, 14)\",\"size\":6},\"mode\":\"markers\",\"name\":\"None\",\"showlegend\":false,\"type\":\"scatter\",\"x\":[162,164,1065,53,57,306,9379,23210,123,64,27137,3930,145,54,5325,4676,8247,12718,132,2113,35,81482,162,313,3299,148,105,1576,227,836,407,255,802,212,3,105,8,84,133,33,1169],\"xaxis\":\"x10\",\"y\":[41.98,32.93,20.19,35.85,8.77,19.28,17.64,23.55,33.33,23.44,14.07,12.24,18.62,27.78,11.87,11.57,28.87,15.38,53.03,13.2,65.71,42.03,36.42,42.81,34.43,41.89,54.29,28.68,58.15,47.01,35.38,24.31,39.28,11.79,33.33,12.38,25.0,9.52,27.82,6.06,19.16],\"yaxis\":\"y10\"},{\"marker\":{\"color\":\"rgb(44, 160, 44)\",\"size\":6},\"mode\":\"markers\",\"name\":\"Noteworthy - The Journal Blog\",\"showlegend\":false,\"type\":\"scatter\",\"x\":[2060],\"xaxis\":\"x10\",\"y\":[26.21],\"yaxis\":\"y10\"},{\"marker\":{\"color\":\"rgb(214, 39, 40)\",\"size\":6},\"mode\":\"markers\",\"name\":\"The Reality Project\",\"showlegend\":false,\"type\":\"scatter\",\"x\":[418,400,245],\"xaxis\":\"x10\",\"y\":[39.23,28.75,21.22],\"yaxis\":\"y10\"},{\"marker\":{\"color\":\"rgb(148, 103, 189)\",\"size\":6},\"mode\":\"markers\",\"name\":\"Towards Data Science\",\"showlegend\":false,\"type\":\"scatter\",\"x\":[161596,31659,2706,2347,106311,124825,77497,4824,126851,19055,4002,15916,32523,15130,47199,47622,2969,54158,34062,4631,12843,117100,59369,52309,28079,106784,52600,45735,54916,20836,23687,66471,2365,120826,44761,26243,32977,42040,109995,10668,76426,23863,29854,42853,5337,4040,24071,16584,3931,25112,42624,6183,1649,12826,14670,24211,3606,1623,23651,26397,6304,12771,32675,3174,30979,5039,6250,5227,7936,26754,14428,8115,21311,22058,23180,4786,9734,5307,1703,2232],\"xaxis\":\"x10\",\"y\":[17.68,22.76,28.64,31.53,23.99,25.02,26.48,62.02,31.14,35.91,54.9,41.91,30.74,47.3,29.82,62.61,43.21,28.8,32.28,42.88,43.51,20.4,22.68,36.49,36.98,27.17,33.18,31.37,33.73,30.79,26.51,31.56,63.3,18.85,20.65,23.58,25.07,23.81,21.75,16.88,25.47,21.64,26.89,14.38,18.08,43.19,24.69,33.16,26.89,44.17,16.73,19.29,74.53,17.44,26.93,18.99,40.82,18.85,18.21,27.13,19.84,23.81,28.56,40.39,17.22,24.27,38.53,21.47,21.47,30.31,34.19,17.72,21.96,19.31,45.8,22.04,29.3,30.11,30.59,20.47],\"yaxis\":\"y10\"},{\"marker\":{\"color\":\"rgb(31, 119, 180)\"},\"showlegend\":false,\"type\":\"histogram\",\"x\":[27.28],\"xaxis\":\"x11\",\"yaxis\":\"y11\"},{\"marker\":{\"color\":\"rgb(255, 127, 14)\"},\"showlegend\":false,\"type\":\"histogram\",\"x\":[41.98,32.93,20.19,35.85,8.77,19.28,17.64,23.55,33.33,23.44,14.07,12.24,18.62,27.78,11.87,11.57,28.87,15.38,53.03,13.2,65.71,42.03,36.42,42.81,34.43,41.89,54.29,28.68,58.15,47.01,35.38,24.31,39.28,11.79,33.33,12.38,25.0,9.52,27.82,6.06,19.16],\"xaxis\":\"x11\",\"yaxis\":\"y11\"},{\"marker\":{\"color\":\"rgb(44, 160, 44)\"},\"showlegend\":false,\"type\":\"histogram\",\"x\":[26.21],\"xaxis\":\"x11\",\"yaxis\":\"y11\"},{\"marker\":{\"color\":\"rgb(214, 39, 40)\"},\"showlegend\":false,\"type\":\"histogram\",\"x\":[39.23,28.75,21.22],\"xaxis\":\"x11\",\"yaxis\":\"y11\"},{\"marker\":{\"color\":\"rgb(148, 103, 189)\"},\"showlegend\":false,\"type\":\"histogram\",\"x\":[17.68,22.76,28.64,31.53,23.99,25.02,26.48,62.02,31.14,35.91,54.9,41.91,30.74,47.3,29.82,62.61,43.21,28.8,32.28,42.88,43.51,20.4,22.68,36.49,36.98,27.17,33.18,31.37,33.73,30.79,26.51,31.56,63.3,18.85,20.65,23.58,25.07,23.81,21.75,16.88,25.47,21.64,26.89,14.38,18.08,43.19,24.69,33.16,26.89,44.17,16.73,19.29,74.53,17.44,26.93,18.99,40.82,18.85,18.21,27.13,19.84,23.81,28.56,40.39,17.22,24.27,38.53,21.47,21.47,30.31,34.19,17.72,21.96,19.31,45.8,22.04,29.3,30.11,30.59,20.47],\"xaxis\":\"x11\",\"yaxis\":\"y11\"},{\"marker\":{\"color\":\"rgb(31, 119, 180)\",\"size\":6},\"mode\":\"markers\",\"name\":\"Engineering @ Feature Labs\",\"showlegend\":false,\"type\":\"scatter\",\"x\":[2087],\"xaxis\":\"x12\",\"y\":[27.28],\"yaxis\":\"y12\"},{\"marker\":{\"color\":\"rgb(255, 127, 14)\",\"size\":6},\"mode\":\"markers\",\"name\":\"None\",\"showlegend\":false,\"type\":\"scatter\",\"x\":[1859,3891,12025,2533,3892,13048,1778,2345,1895,4684,6666,7559,7659,3341,5508,4772,1214,6800,1412,3904,2264,2850,2509,5160,1073,1314,1557,1653,634,1410,2128,1918,2185,15063,3659,9698,4145,8507,3068,12083,7125],\"xaxis\":\"x12\",\"y\":[41.98,32.93,20.19,35.85,8.77,19.28,17.64,23.55,33.33,23.44,14.07,12.24,18.62,27.78,11.87,11.57,28.87,15.38,53.03,13.2,65.71,42.03,36.42,42.81,34.43,41.89,54.29,28.68,58.15,47.01,35.38,24.31,39.28,11.79,33.33,12.38,25.0,9.52,27.82,6.06,19.16],\"yaxis\":\"y12\"},{\"marker\":{\"color\":\"rgb(44, 160, 44)\",\"size\":6},\"mode\":\"markers\",\"name\":\"Noteworthy - The Journal Blog\",\"showlegend\":false,\"type\":\"scatter\",\"x\":[2172],\"xaxis\":\"x12\",\"y\":[26.21],\"yaxis\":\"y12\"},{\"marker\":{\"color\":\"rgb(214, 39, 40)\",\"size\":6},\"mode\":\"markers\",\"name\":\"The Reality Project\",\"showlegend\":false,\"type\":\"scatter\",\"x\":[1685,2278,3678],\"xaxis\":\"x12\",\"y\":[39.23,28.75,21.22],\"yaxis\":\"y12\"},{\"marker\":{\"color\":\"rgb(148, 103, 189)\",\"size\":6},\"mode\":\"markers\",\"name\":\"Towards Data Science\",\"showlegend\":false,\"type\":\"scatter\",\"x\":[4494,3504,3569,2817,2456,2974,2395,1169,2528,1361,1014,1562,2480,1281,2450,721,1375,2772,1944,1827,933,2565,1906,2394,2220,2614,2365,1577,2394,2690,2620,1480,765,3553,3106,2622,2338,2975,2648,5228,1998,3393,1957,4298,3718,1247,2634,2041,2343,373,3996,3834,163,4042,2658,3756,1172,1580,3756,1809,2999,2483,2933,1346,3797,1979,1286,1741,2230,1561,1355,3398,2824,1397,877,1310,1806,1075,1898,2813],\"xaxis\":\"x12\",\"y\":[17.68,22.76,28.64,31.53,23.99,25.02,26.48,62.02,31.14,35.91,54.9,41.91,30.74,47.3,29.82,62.61,43.21,28.8,32.28,42.88,43.51,20.4,22.68,36.49,36.98,27.17,33.18,31.37,33.73,30.79,26.51,31.56,63.3,18.85,20.65,23.58,25.07,23.81,21.75,16.88,25.47,21.64,26.89,14.38,18.08,43.19,24.69,33.16,26.89,44.17,16.73,19.29,74.53,17.44,26.93,18.99,40.82,18.85,18.21,27.13,19.84,23.81,28.56,40.39,17.22,24.27,38.53,21.47,21.47,30.31,34.19,17.72,21.96,19.31,45.8,22.04,29.3,30.11,30.59,20.47],\"yaxis\":\"y12\"},{\"marker\":{\"color\":\"rgb(31, 119, 180)\",\"size\":6},\"mode\":\"markers\",\"name\":\"Engineering @ Feature Labs\",\"showlegend\":false,\"type\":\"scatter\",\"x\":[315],\"xaxis\":\"x13\",\"y\":[2087],\"yaxis\":\"y13\"},{\"marker\":{\"color\":\"rgb(255, 127, 14)\",\"size\":6},\"mode\":\"markers\",\"name\":\"None\",\"showlegend\":false,\"type\":\"scatter\",\"x\":[2,18,50,0,0,0,73,234,2,0,682,58,5,7,87,23,4,113,8,17,8,2700,72,123,11,59,14,275,101,728,205,121,361,31,0,24,0,5,6,0,424],\"xaxis\":\"x13\",\"y\":[1859,3891,12025,2533,3892,13048,1778,2345,1895,4684,6666,7559,7659,3341,5508,4772,1214,6800,1412,3904,2264,2850,2509,5160,1073,1314,1557,1653,634,1410,2128,1918,2185,15063,3659,9698,4145,8507,3068,12083,7125],\"yaxis\":\"y13\"},{\"marker\":{\"color\":\"rgb(44, 160, 44)\",\"size\":6},\"mode\":\"markers\",\"name\":\"Noteworthy - The Journal Blog\",\"showlegend\":false,\"type\":\"scatter\",\"x\":[1000],\"xaxis\":\"x13\",\"y\":[2172],\"yaxis\":\"y13\"},{\"marker\":{\"color\":\"rgb(214, 39, 40)\",\"size\":6},\"mode\":\"markers\",\"name\":\"The Reality Project\",\"showlegend\":false,\"type\":\"scatter\",\"x\":[329,309,75],\"xaxis\":\"x13\",\"y\":[1685,2278,3678],\"yaxis\":\"y13\"},{\"marker\":{\"color\":\"rgb(148, 103, 189)\",\"size\":6},\"mode\":\"markers\",\"name\":\"Towards Data Science\",\"showlegend\":false,\"type\":\"scatter\",\"x\":[4800,857,186,119,2000,4100,2700,77,7000,1200,1600,1600,1000,4300,4980,12900,223,4900,5900,548,895,6700,6500,2700,1100,2900,2600,2800,5300,1300,1000,7900,364,13500,4100,2200,3900,6300,8200,1300,5400,2300,2700,2100,707,650,2700,4100,822,830,3700,653,657,1100,2800,3100,792,222,3300,2500,976,2000,3200,651,2300,809,745,587,818,2200,1300,630,2600,2000,3600,440,893,529,443,412],\"xaxis\":\"x13\",\"y\":[4494,3504,3569,2817,2456,2974,2395,1169,2528,1361,1014,1562,2480,1281,2450,721,1375,2772,1944,1827,933,2565,1906,2394,2220,2614,2365,1577,2394,2690,2620,1480,765,3553,3106,2622,2338,2975,2648,5228,1998,3393,1957,4298,3718,1247,2634,2041,2343,373,3996,3834,163,4042,2658,3756,1172,1580,3756,1809,2999,2483,2933,1346,3797,1979,1286,1741,2230,1561,1355,3398,2824,1397,877,1310,1806,1075,1898,2813],\"yaxis\":\"y13\"},{\"marker\":{\"color\":\"rgb(31, 119, 180)\",\"size\":6},\"mode\":\"markers\",\"name\":\"Engineering @ Feature Labs\",\"showlegend\":false,\"type\":\"scatter\",\"x\":[2771],\"xaxis\":\"x14\",\"y\":[2087],\"yaxis\":\"y14\"},{\"marker\":{\"color\":\"rgb(255, 127, 14)\",\"size\":6},\"mode\":\"markers\",\"name\":\"None\",\"showlegend\":false,\"type\":\"scatter\",\"x\":[162,164,1065,53,57,306,9379,23210,123,64,27137,3930,145,54,5325,4676,8247,12718,132,2113,35,81482,162,313,3299,148,105,1576,227,836,407,255,802,212,3,105,8,84,133,33,1169],\"xaxis\":\"x14\",\"y\":[1859,3891,12025,2533,3892,13048,1778,2345,1895,4684,6666,7559,7659,3341,5508,4772,1214,6800,1412,3904,2264,2850,2509,5160,1073,1314,1557,1653,634,1410,2128,1918,2185,15063,3659,9698,4145,8507,3068,12083,7125],\"yaxis\":\"y14\"},{\"marker\":{\"color\":\"rgb(44, 160, 44)\",\"size\":6},\"mode\":\"markers\",\"name\":\"Noteworthy - The Journal Blog\",\"showlegend\":false,\"type\":\"scatter\",\"x\":[2060],\"xaxis\":\"x14\",\"y\":[2172],\"yaxis\":\"y14\"},{\"marker\":{\"color\":\"rgb(214, 39, 40)\",\"size\":6},\"mode\":\"markers\",\"name\":\"The Reality Project\",\"showlegend\":false,\"type\":\"scatter\",\"x\":[418,400,245],\"xaxis\":\"x14\",\"y\":[1685,2278,3678],\"yaxis\":\"y14\"},{\"marker\":{\"color\":\"rgb(148, 103, 189)\",\"size\":6},\"mode\":\"markers\",\"name\":\"Towards Data Science\",\"showlegend\":false,\"type\":\"scatter\",\"x\":[161596,31659,2706,2347,106311,124825,77497,4824,126851,19055,4002,15916,32523,15130,47199,47622,2969,54158,34062,4631,12843,117100,59369,52309,28079,106784,52600,45735,54916,20836,23687,66471,2365,120826,44761,26243,32977,42040,109995,10668,76426,23863,29854,42853,5337,4040,24071,16584,3931,25112,42624,6183,1649,12826,14670,24211,3606,1623,23651,26397,6304,12771,32675,3174,30979,5039,6250,5227,7936,26754,14428,8115,21311,22058,23180,4786,9734,5307,1703,2232],\"xaxis\":\"x14\",\"y\":[4494,3504,3569,2817,2456,2974,2395,1169,2528,1361,1014,1562,2480,1281,2450,721,1375,2772,1944,1827,933,2565,1906,2394,2220,2614,2365,1577,2394,2690,2620,1480,765,3553,3106,2622,2338,2975,2648,5228,1998,3393,1957,4298,3718,1247,2634,2041,2343,373,3996,3834,163,4042,2658,3756,1172,1580,3756,1809,2999,2483,2933,1346,3797,1979,1286,1741,2230,1561,1355,3398,2824,1397,877,1310,1806,1075,1898,2813],\"yaxis\":\"y14\"},{\"marker\":{\"color\":\"rgb(31, 119, 180)\",\"size\":6},\"mode\":\"markers\",\"name\":\"Engineering @ Feature Labs\",\"showlegend\":false,\"type\":\"scatter\",\"x\":[27.28],\"xaxis\":\"x15\",\"y\":[2087],\"yaxis\":\"y15\"},{\"marker\":{\"color\":\"rgb(255, 127, 14)\",\"size\":6},\"mode\":\"markers\",\"name\":\"None\",\"showlegend\":false,\"type\":\"scatter\",\"x\":[41.98,32.93,20.19,35.85,8.77,19.28,17.64,23.55,33.33,23.44,14.07,12.24,18.62,27.78,11.87,11.57,28.87,15.38,53.03,13.2,65.71,42.03,36.42,42.81,34.43,41.89,54.29,28.68,58.15,47.01,35.38,24.31,39.28,11.79,33.33,12.38,25.0,9.52,27.82,6.06,19.16],\"xaxis\":\"x15\",\"y\":[1859,3891,12025,2533,3892,13048,1778,2345,1895,4684,6666,7559,7659,3341,5508,4772,1214,6800,1412,3904,2264,2850,2509,5160,1073,1314,1557,1653,634,1410,2128,1918,2185,15063,3659,9698,4145,8507,3068,12083,7125],\"yaxis\":\"y15\"},{\"marker\":{\"color\":\"rgb(44, 160, 44)\",\"size\":6},\"mode\":\"markers\",\"name\":\"Noteworthy - The Journal Blog\",\"showlegend\":false,\"type\":\"scatter\",\"x\":[26.21],\"xaxis\":\"x15\",\"y\":[2172],\"yaxis\":\"y15\"},{\"marker\":{\"color\":\"rgb(214, 39, 40)\",\"size\":6},\"mode\":\"markers\",\"name\":\"The Reality Project\",\"showlegend\":false,\"type\":\"scatter\",\"x\":[39.23,28.75,21.22],\"xaxis\":\"x15\",\"y\":[1685,2278,3678],\"yaxis\":\"y15\"},{\"marker\":{\"color\":\"rgb(148, 103, 189)\",\"size\":6},\"mode\":\"markers\",\"name\":\"Towards Data Science\",\"showlegend\":false,\"type\":\"scatter\",\"x\":[17.68,22.76,28.64,31.53,23.99,25.02,26.48,62.02,31.14,35.91,54.9,41.91,30.74,47.3,29.82,62.61,43.21,28.8,32.28,42.88,43.51,20.4,22.68,36.49,36.98,27.17,33.18,31.37,33.73,30.79,26.51,31.56,63.3,18.85,20.65,23.58,25.07,23.81,21.75,16.88,25.47,21.64,26.89,14.38,18.08,43.19,24.69,33.16,26.89,44.17,16.73,19.29,74.53,17.44,26.93,18.99,40.82,18.85,18.21,27.13,19.84,23.81,28.56,40.39,17.22,24.27,38.53,21.47,21.47,30.31,34.19,17.72,21.96,19.31,45.8,22.04,29.3,30.11,30.59,20.47],\"xaxis\":\"x15\",\"y\":[4494,3504,3569,2817,2456,2974,2395,1169,2528,1361,1014,1562,2480,1281,2450,721,1375,2772,1944,1827,933,2565,1906,2394,2220,2614,2365,1577,2394,2690,2620,1480,765,3553,3106,2622,2338,2975,2648,5228,1998,3393,1957,4298,3718,1247,2634,2041,2343,373,3996,3834,163,4042,2658,3756,1172,1580,3756,1809,2999,2483,2933,1346,3797,1979,1286,1741,2230,1561,1355,3398,2824,1397,877,1310,1806,1075,1898,2813],\"yaxis\":\"y15\"},{\"marker\":{\"color\":\"rgb(31, 119, 180)\"},\"showlegend\":false,\"type\":\"histogram\",\"x\":[2087],\"xaxis\":\"x16\",\"yaxis\":\"y16\"},{\"marker\":{\"color\":\"rgb(255, 127, 14)\"},\"showlegend\":false,\"type\":\"histogram\",\"x\":[1859,3891,12025,2533,3892,13048,1778,2345,1895,4684,6666,7559,7659,3341,5508,4772,1214,6800,1412,3904,2264,2850,2509,5160,1073,1314,1557,1653,634,1410,2128,1918,2185,15063,3659,9698,4145,8507,3068,12083,7125],\"xaxis\":\"x16\",\"yaxis\":\"y16\"},{\"marker\":{\"color\":\"rgb(44, 160, 44)\"},\"showlegend\":false,\"type\":\"histogram\",\"x\":[2172],\"xaxis\":\"x16\",\"yaxis\":\"y16\"},{\"marker\":{\"color\":\"rgb(214, 39, 40)\"},\"showlegend\":false,\"type\":\"histogram\",\"x\":[1685,2278,3678],\"xaxis\":\"x16\",\"yaxis\":\"y16\"},{\"marker\":{\"color\":\"rgb(148, 103, 189)\"},\"showlegend\":false,\"type\":\"histogram\",\"x\":[4494,3504,3569,2817,2456,2974,2395,1169,2528,1361,1014,1562,2480,1281,2450,721,1375,2772,1944,1827,933,2565,1906,2394,2220,2614,2365,1577,2394,2690,2620,1480,765,3553,3106,2622,2338,2975,2648,5228,1998,3393,1957,4298,3718,1247,2634,2041,2343,373,3996,3834,163,4042,2658,3756,1172,1580,3756,1809,2999,2483,2933,1346,3797,1979,1286,1741,2230,1561,1355,3398,2824,1397,877,1310,1806,1075,1898,2813],\"xaxis\":\"x16\",\"yaxis\":\"y16\"}],                        {\"barmode\":\"stack\",\"height\":1000,\"showlegend\":true,\"template\":{\"data\":{\"bar\":[{\"error_x\":{\"color\":\"#2a3f5f\"},\"error_y\":{\"color\":\"#2a3f5f\"},\"marker\":{\"line\":{\"color\":\"#E5ECF6\",\"width\":0.5},\"pattern\":{\"fillmode\":\"overlay\",\"size\":10,\"solidity\":0.2}},\"type\":\"bar\"}],\"barpolar\":[{\"marker\":{\"line\":{\"color\":\"#E5ECF6\",\"width\":0.5},\"pattern\":{\"fillmode\":\"overlay\",\"size\":10,\"solidity\":0.2}},\"type\":\"barpolar\"}],\"carpet\":[{\"aaxis\":{\"endlinecolor\":\"#2a3f5f\",\"gridcolor\":\"white\",\"linecolor\":\"white\",\"minorgridcolor\":\"white\",\"startlinecolor\":\"#2a3f5f\"},\"baxis\":{\"endlinecolor\":\"#2a3f5f\",\"gridcolor\":\"white\",\"linecolor\":\"white\",\"minorgridcolor\":\"white\",\"startlinecolor\":\"#2a3f5f\"},\"type\":\"carpet\"}],\"choropleth\":[{\"colorbar\":{\"outlinewidth\":0,\"ticks\":\"\"},\"type\":\"choropleth\"}],\"contour\":[{\"colorbar\":{\"outlinewidth\":0,\"ticks\":\"\"},\"colorscale\":[[0.0,\"#0d0887\"],[0.1111111111111111,\"#46039f\"],[0.2222222222222222,\"#7201a8\"],[0.3333333333333333,\"#9c179e\"],[0.4444444444444444,\"#bd3786\"],[0.5555555555555556,\"#d8576b\"],[0.6666666666666666,\"#ed7953\"],[0.7777777777777778,\"#fb9f3a\"],[0.8888888888888888,\"#fdca26\"],[1.0,\"#f0f921\"]],\"type\":\"contour\"}],\"contourcarpet\":[{\"colorbar\":{\"outlinewidth\":0,\"ticks\":\"\"},\"type\":\"contourcarpet\"}],\"heatmap\":[{\"colorbar\":{\"outlinewidth\":0,\"ticks\":\"\"},\"colorscale\":[[0.0,\"#0d0887\"],[0.1111111111111111,\"#46039f\"],[0.2222222222222222,\"#7201a8\"],[0.3333333333333333,\"#9c179e\"],[0.4444444444444444,\"#bd3786\"],[0.5555555555555556,\"#d8576b\"],[0.6666666666666666,\"#ed7953\"],[0.7777777777777778,\"#fb9f3a\"],[0.8888888888888888,\"#fdca26\"],[1.0,\"#f0f921\"]],\"type\":\"heatmap\"}],\"heatmapgl\":[{\"colorbar\":{\"outlinewidth\":0,\"ticks\":\"\"},\"colorscale\":[[0.0,\"#0d0887\"],[0.1111111111111111,\"#46039f\"],[0.2222222222222222,\"#7201a8\"],[0.3333333333333333,\"#9c179e\"],[0.4444444444444444,\"#bd3786\"],[0.5555555555555556,\"#d8576b\"],[0.6666666666666666,\"#ed7953\"],[0.7777777777777778,\"#fb9f3a\"],[0.8888888888888888,\"#fdca26\"],[1.0,\"#f0f921\"]],\"type\":\"heatmapgl\"}],\"histogram\":[{\"marker\":{\"pattern\":{\"fillmode\":\"overlay\",\"size\":10,\"solidity\":0.2}},\"type\":\"histogram\"}],\"histogram2d\":[{\"colorbar\":{\"outlinewidth\":0,\"ticks\":\"\"},\"colorscale\":[[0.0,\"#0d0887\"],[0.1111111111111111,\"#46039f\"],[0.2222222222222222,\"#7201a8\"],[0.3333333333333333,\"#9c179e\"],[0.4444444444444444,\"#bd3786\"],[0.5555555555555556,\"#d8576b\"],[0.6666666666666666,\"#ed7953\"],[0.7777777777777778,\"#fb9f3a\"],[0.8888888888888888,\"#fdca26\"],[1.0,\"#f0f921\"]],\"type\":\"histogram2d\"}],\"histogram2dcontour\":[{\"colorbar\":{\"outlinewidth\":0,\"ticks\":\"\"},\"colorscale\":[[0.0,\"#0d0887\"],[0.1111111111111111,\"#46039f\"],[0.2222222222222222,\"#7201a8\"],[0.3333333333333333,\"#9c179e\"],[0.4444444444444444,\"#bd3786\"],[0.5555555555555556,\"#d8576b\"],[0.6666666666666666,\"#ed7953\"],[0.7777777777777778,\"#fb9f3a\"],[0.8888888888888888,\"#fdca26\"],[1.0,\"#f0f921\"]],\"type\":\"histogram2dcontour\"}],\"mesh3d\":[{\"colorbar\":{\"outlinewidth\":0,\"ticks\":\"\"},\"type\":\"mesh3d\"}],\"parcoords\":[{\"line\":{\"colorbar\":{\"outlinewidth\":0,\"ticks\":\"\"}},\"type\":\"parcoords\"}],\"pie\":[{\"automargin\":true,\"type\":\"pie\"}],\"scatter\":[{\"marker\":{\"colorbar\":{\"outlinewidth\":0,\"ticks\":\"\"}},\"type\":\"scatter\"}],\"scatter3d\":[{\"line\":{\"colorbar\":{\"outlinewidth\":0,\"ticks\":\"\"}},\"marker\":{\"colorbar\":{\"outlinewidth\":0,\"ticks\":\"\"}},\"type\":\"scatter3d\"}],\"scattercarpet\":[{\"marker\":{\"colorbar\":{\"outlinewidth\":0,\"ticks\":\"\"}},\"type\":\"scattercarpet\"}],\"scattergeo\":[{\"marker\":{\"colorbar\":{\"outlinewidth\":0,\"ticks\":\"\"}},\"type\":\"scattergeo\"}],\"scattergl\":[{\"marker\":{\"colorbar\":{\"outlinewidth\":0,\"ticks\":\"\"}},\"type\":\"scattergl\"}],\"scattermapbox\":[{\"marker\":{\"colorbar\":{\"outlinewidth\":0,\"ticks\":\"\"}},\"type\":\"scattermapbox\"}],\"scatterpolar\":[{\"marker\":{\"colorbar\":{\"outlinewidth\":0,\"ticks\":\"\"}},\"type\":\"scatterpolar\"}],\"scatterpolargl\":[{\"marker\":{\"colorbar\":{\"outlinewidth\":0,\"ticks\":\"\"}},\"type\":\"scatterpolargl\"}],\"scatterternary\":[{\"marker\":{\"colorbar\":{\"outlinewidth\":0,\"ticks\":\"\"}},\"type\":\"scatterternary\"}],\"surface\":[{\"colorbar\":{\"outlinewidth\":0,\"ticks\":\"\"},\"colorscale\":[[0.0,\"#0d0887\"],[0.1111111111111111,\"#46039f\"],[0.2222222222222222,\"#7201a8\"],[0.3333333333333333,\"#9c179e\"],[0.4444444444444444,\"#bd3786\"],[0.5555555555555556,\"#d8576b\"],[0.6666666666666666,\"#ed7953\"],[0.7777777777777778,\"#fb9f3a\"],[0.8888888888888888,\"#fdca26\"],[1.0,\"#f0f921\"]],\"type\":\"surface\"}],\"table\":[{\"cells\":{\"fill\":{\"color\":\"#EBF0F8\"},\"line\":{\"color\":\"white\"}},\"header\":{\"fill\":{\"color\":\"#C8D4E3\"},\"line\":{\"color\":\"white\"}},\"type\":\"table\"}]},\"layout\":{\"annotationdefaults\":{\"arrowcolor\":\"#2a3f5f\",\"arrowhead\":0,\"arrowwidth\":1},\"autotypenumbers\":\"strict\",\"coloraxis\":{\"colorbar\":{\"outlinewidth\":0,\"ticks\":\"\"}},\"colorscale\":{\"diverging\":[[0,\"#8e0152\"],[0.1,\"#c51b7d\"],[0.2,\"#de77ae\"],[0.3,\"#f1b6da\"],[0.4,\"#fde0ef\"],[0.5,\"#f7f7f7\"],[0.6,\"#e6f5d0\"],[0.7,\"#b8e186\"],[0.8,\"#7fbc41\"],[0.9,\"#4d9221\"],[1,\"#276419\"]],\"sequential\":[[0.0,\"#0d0887\"],[0.1111111111111111,\"#46039f\"],[0.2222222222222222,\"#7201a8\"],[0.3333333333333333,\"#9c179e\"],[0.4444444444444444,\"#bd3786\"],[0.5555555555555556,\"#d8576b\"],[0.6666666666666666,\"#ed7953\"],[0.7777777777777778,\"#fb9f3a\"],[0.8888888888888888,\"#fdca26\"],[1.0,\"#f0f921\"]],\"sequentialminus\":[[0.0,\"#0d0887\"],[0.1111111111111111,\"#46039f\"],[0.2222222222222222,\"#7201a8\"],[0.3333333333333333,\"#9c179e\"],[0.4444444444444444,\"#bd3786\"],[0.5555555555555556,\"#d8576b\"],[0.6666666666666666,\"#ed7953\"],[0.7777777777777778,\"#fb9f3a\"],[0.8888888888888888,\"#fdca26\"],[1.0,\"#f0f921\"]]},\"colorway\":[\"#636efa\",\"#EF553B\",\"#00cc96\",\"#ab63fa\",\"#FFA15A\",\"#19d3f3\",\"#FF6692\",\"#B6E880\",\"#FF97FF\",\"#FECB52\"],\"font\":{\"color\":\"#2a3f5f\"},\"geo\":{\"bgcolor\":\"white\",\"lakecolor\":\"white\",\"landcolor\":\"#E5ECF6\",\"showlakes\":true,\"showland\":true,\"subunitcolor\":\"white\"},\"hoverlabel\":{\"align\":\"left\"},\"hovermode\":\"closest\",\"mapbox\":{\"style\":\"light\"},\"paper_bgcolor\":\"white\",\"plot_bgcolor\":\"#E5ECF6\",\"polar\":{\"angularaxis\":{\"gridcolor\":\"white\",\"linecolor\":\"white\",\"ticks\":\"\"},\"bgcolor\":\"#E5ECF6\",\"radialaxis\":{\"gridcolor\":\"white\",\"linecolor\":\"white\",\"ticks\":\"\"}},\"scene\":{\"xaxis\":{\"backgroundcolor\":\"#E5ECF6\",\"gridcolor\":\"white\",\"gridwidth\":2,\"linecolor\":\"white\",\"showbackground\":true,\"ticks\":\"\",\"zerolinecolor\":\"white\"},\"yaxis\":{\"backgroundcolor\":\"#E5ECF6\",\"gridcolor\":\"white\",\"gridwidth\":2,\"linecolor\":\"white\",\"showbackground\":true,\"ticks\":\"\",\"zerolinecolor\":\"white\"},\"zaxis\":{\"backgroundcolor\":\"#E5ECF6\",\"gridcolor\":\"white\",\"gridwidth\":2,\"linecolor\":\"white\",\"showbackground\":true,\"ticks\":\"\",\"zerolinecolor\":\"white\"}},\"shapedefaults\":{\"line\":{\"color\":\"#2a3f5f\"}},\"ternary\":{\"aaxis\":{\"gridcolor\":\"white\",\"linecolor\":\"white\",\"ticks\":\"\"},\"baxis\":{\"gridcolor\":\"white\",\"linecolor\":\"white\",\"ticks\":\"\"},\"bgcolor\":\"#E5ECF6\",\"caxis\":{\"gridcolor\":\"white\",\"linecolor\":\"white\",\"ticks\":\"\"}},\"title\":{\"x\":0.05},\"xaxis\":{\"automargin\":true,\"gridcolor\":\"white\",\"linecolor\":\"white\",\"ticks\":\"\",\"title\":{\"standoff\":15},\"zerolinecolor\":\"white\",\"zerolinewidth\":2},\"yaxis\":{\"automargin\":true,\"gridcolor\":\"white\",\"linecolor\":\"white\",\"ticks\":\"\",\"title\":{\"standoff\":15},\"zerolinecolor\":\"white\",\"zerolinewidth\":2}}},\"title\":{\"text\":\"Scatterplot Matrix\"},\"width\":1000,\"xaxis\":{\"anchor\":\"y\",\"domain\":[0.0,0.2125]},\"xaxis10\":{\"anchor\":\"y10\",\"domain\":[0.2625,0.475]},\"xaxis11\":{\"anchor\":\"y11\",\"domain\":[0.525,0.7375]},\"xaxis12\":{\"anchor\":\"y12\",\"domain\":[0.7875,1.0]},\"xaxis13\":{\"anchor\":\"y13\",\"domain\":[0.0,0.2125],\"title\":{\"text\":\"claps\"}},\"xaxis14\":{\"anchor\":\"y14\",\"domain\":[0.2625,0.475],\"title\":{\"text\":\"views\"}},\"xaxis15\":{\"anchor\":\"y15\",\"domain\":[0.525,0.7375],\"title\":{\"text\":\"read_ratio\"}},\"xaxis16\":{\"anchor\":\"y16\",\"domain\":[0.7875,1.0],\"title\":{\"text\":\"word_count\"}},\"xaxis2\":{\"anchor\":\"y2\",\"domain\":[0.2625,0.475]},\"xaxis3\":{\"anchor\":\"y3\",\"domain\":[0.525,0.7375]},\"xaxis4\":{\"anchor\":\"y4\",\"domain\":[0.7875,1.0]},\"xaxis5\":{\"anchor\":\"y5\",\"domain\":[0.0,0.2125]},\"xaxis6\":{\"anchor\":\"y6\",\"domain\":[0.2625,0.475]},\"xaxis7\":{\"anchor\":\"y7\",\"domain\":[0.525,0.7375]},\"xaxis8\":{\"anchor\":\"y8\",\"domain\":[0.7875,1.0]},\"xaxis9\":{\"anchor\":\"y9\",\"domain\":[0.0,0.2125]},\"yaxis\":{\"anchor\":\"x\",\"domain\":[0.80625,1.0],\"title\":{\"text\":\"claps\"}},\"yaxis10\":{\"anchor\":\"x10\",\"domain\":[0.26875,0.4625]},\"yaxis11\":{\"anchor\":\"x11\",\"domain\":[0.26875,0.4625]},\"yaxis12\":{\"anchor\":\"x12\",\"domain\":[0.26875,0.4625]},\"yaxis13\":{\"anchor\":\"x13\",\"domain\":[0.0,0.19375],\"title\":{\"text\":\"word_count\"}},\"yaxis14\":{\"anchor\":\"x14\",\"domain\":[0.0,0.19375]},\"yaxis15\":{\"anchor\":\"x15\",\"domain\":[0.0,0.19375]},\"yaxis16\":{\"anchor\":\"x16\",\"domain\":[0.0,0.19375]},\"yaxis2\":{\"anchor\":\"x2\",\"domain\":[0.80625,1.0]},\"yaxis3\":{\"anchor\":\"x3\",\"domain\":[0.80625,1.0]},\"yaxis4\":{\"anchor\":\"x4\",\"domain\":[0.80625,1.0]},\"yaxis5\":{\"anchor\":\"x5\",\"domain\":[0.5375,0.73125],\"title\":{\"text\":\"views\"}},\"yaxis6\":{\"anchor\":\"x6\",\"domain\":[0.5375,0.73125]},\"yaxis7\":{\"anchor\":\"x7\",\"domain\":[0.5375,0.73125]},\"yaxis8\":{\"anchor\":\"x8\",\"domain\":[0.5375,0.73125]},\"yaxis9\":{\"anchor\":\"x9\",\"domain\":[0.26875,0.4625],\"title\":{\"text\":\"read_ratio\"}}},                        {\"responsive\": true}                    ).then(function(){\n",
       "                            \n",
       "var gd = document.getElementById('45bf7f96-f2c6-47cc-ad71-ea9258a2f8a8');\n",
       "var x = new MutationObserver(function (mutations, observer) {{\n",
       "        var display = window.getComputedStyle(gd).display;\n",
       "        if (!display || display === 'none') {{\n",
       "            console.log([gd, 'removed!']);\n",
       "            Plotly.purge(gd);\n",
       "            observer.disconnect();\n",
       "        }}\n",
       "}});\n",
       "\n",
       "// Listen for the removal of the full notebook cells\n",
       "var notebookContainer = gd.closest('#notebook-container');\n",
       "if (notebookContainer) {{\n",
       "    x.observe(notebookContainer, {childList: true});\n",
       "}}\n",
       "\n",
       "// Listen for the clearing of the current output cell\n",
       "var outputEl = gd.closest('.output');\n",
       "if (outputEl) {{\n",
       "    x.observe(outputEl, {childList: true});\n",
       "}}\n",
       "\n",
       "                        })                };                });            </script>        </div>"
      ]
     },
     "metadata": {},
     "output_type": "display_data"
    }
   ],
   "source": [
    "#III/ Advanced Plots\n",
    "#1. Scatter Matrix\n",
    "import plotly.figure_factory as ff\n",
    "figure = ff.create_scatterplotmatrix(\n",
    "    df[['claps', 'publication', 'views',      \n",
    "        'read_ratio','word_count']],\n",
    "    height=1000,\n",
    "    width=1000,\n",
    "    diag='histogram',\n",
    "    index='publication')\n",
    "iplot(figure)"
   ]
  },
  {
   "cell_type": "code",
   "execution_count": 63,
   "id": "276ca50b",
   "metadata": {},
   "outputs": [
    {
     "data": {
      "application/vnd.plotly.v1+json": {
       "config": {
        "linkText": "Export to plot.ly",
        "plotlyServerURL": "https://plot.ly",
        "showLink": false
       },
       "data": [
        {
         "colorscale": [
          [
           0,
           "#0d0887"
          ],
          [
           0.1111111111111111,
           "#46039f"
          ],
          [
           0.2222222222222222,
           "#7201a8"
          ],
          [
           0.3333333333333333,
           "#9c179e"
          ],
          [
           0.4444444444444444,
           "#bd3786"
          ],
          [
           0.5555555555555556,
           "#d8576b"
          ],
          [
           0.6666666666666666,
           "#ed7953"
          ],
          [
           0.7777777777777778,
           "#fb9f3a"
          ],
          [
           0.8888888888888888,
           "#fdca26"
          ],
          [
           1,
           "#f0f921"
          ]
         ],
         "reversescale": false,
         "showscale": true,
         "type": "heatmap",
         "x": [
          "claps",
          "days_since_publication",
          "fans",
          "num_responses",
          "read_ratio",
          "read_time",
          "reads",
          "title_word_count",
          "views",
          "word_count",
          "claps_per_word",
          "editing_days",
          "<tag>Education",
          "<tag>Data Science",
          "<tag>Towards Data Science",
          "<tag>Machine Learning",
          "<tag>Python",
          "time_started",
          "time_published"
         ],
         "y": [
          "claps",
          "days_since_publication",
          "fans",
          "num_responses",
          "read_ratio",
          "read_time",
          "reads",
          "title_word_count",
          "views",
          "word_count",
          "claps_per_word",
          "editing_days",
          "<tag>Education",
          "<tag>Data Science",
          "<tag>Towards Data Science",
          "<tag>Machine Learning",
          "<tag>Python",
          "time_started",
          "time_published"
         ],
         "z": [
          [
           1,
           -0.01832353084377772,
           0.992432537393527,
           0.8997512060007541,
           0.002893365516358854,
           -0.1787548656540889,
           0.7624671546562749,
           0.1284950081841725,
           0.7401473973713971,
           -0.1781605000086887,
           0.7698727413500885,
           -0.17173088709340334,
           0.21202645476292908,
           0.3372575532463509,
           0.5562318721284,
           0.1588437336672325,
           0.28597096535613176,
           -0.042479217021332935,
           -0.20289786575040292
          ],
          [
           -0.01832353084377772,
           1,
           -0.027674765166862653,
           0.02174386916143576,
           0.08822465738832146,
           0.13513440056818032,
           0.1352210059418662,
           -0.1955981523348353,
           0.12343251070961894,
           0.0925098188285587,
           -0.009817768215210116,
           -0.3188532574940015,
           -0.7654182718184352,
           -0.3292440055991661,
           -0.23305556042000702,
           -0.11538704504210186,
           0.10677738166047655,
           0.1094745016719111,
           -0.007508997367827203
          ],
          [
           0.992432537393527,
           -0.027674765166862653,
           1,
           0.8760915056971733,
           -0.014310423502634714,
           -0.1794315856870691,
           0.7747623009900383,
           0.13792461815197984,
           0.7608954509334058,
           -0.17943598177959158,
           0.7399629273274889,
           -0.17161128270336204,
           0.21072647038258696,
           0.34313122928076856,
           0.5655058234044338,
           0.17779348162550576,
           0.29346867217530237,
           -0.04149097712124209,
           -0.17721299223960907
          ],
          [
           0.8997512060007541,
           0.02174386916143576,
           0.8760915056971733,
           1,
           0.09952809476375507,
           -0.20525839954503916,
           0.7686427992020333,
           0.07038475719127593,
           0.7102976911016919,
           -0.20811780710607478,
           0.7997410094271279,
           -0.184661111087614,
           0.14364204258056962,
           0.3074463702913578,
           0.5223830710975409,
           0.08215798590812969,
           0.29354346663682723,
           -0.02210615735407949,
           -0.19181270329526215
          ],
          [
           0.002893365516358854,
           0.08822465738832146,
           -0.014310423502634714,
           0.09952809476375507,
           1,
           -0.6267814338836203,
           0.03022956344890229,
           0.04410797455697079,
           -0.13271559428420157,
           -0.5671023035894809,
           0.28822164133802597,
           -0.18918419503743633,
           0.0625136654341583,
           -0.044663740349978165,
           -0.053926936158719824,
           -0.318949796709692,
           -0.20478382679208737,
           -0.007142225302041877,
           0.0018215343135615837
          ],
          [
           -0.1787548656540889,
           0.13513440056818032,
           -0.1794315856870691,
           -0.20525839954503916,
           -0.6267814338836203,
           1,
           -0.1520205467751048,
           -0.1498719425003169,
           -0.06835987177965065,
           0.9636490099573858,
           -0.2423252745801214,
           0.4504873434945466,
           -0.272005635982485,
           -0.07694559684292489,
           -0.22538911505982087,
           0.20973037452260856,
           0.09436904196464696,
           -0.1406427673066332,
           0.1366547290530644
          ],
          [
           0.7624671546562749,
           0.1352210059418662,
           0.7747623009900383,
           0.7686427992020333,
           0.03022956344890229,
           -0.1520205467751048,
           1,
           0.05429000813570461,
           0.937614792151383,
           -0.17018963615224209,
           0.5464489649382667,
           -0.1744888108287144,
           -0.05194854873464822,
           0.33268881475619705,
           0.3597905026952255,
           0.19826020662800609,
           0.39254366553012565,
           0.024895639206325298,
           -0.09183619585906753
          ],
          [
           0.1284950081841725,
           -0.1955981523348353,
           0.13792461815197984,
           0.07038475719127593,
           0.04410797455697079,
           -0.1498719425003169,
           0.05429000813570461,
           1,
           0.04925116492799243,
           -0.15758027059437155,
           0.11279024395969514,
           -0.09606614514827308,
           0.2800634866645081,
           0.14753196433734128,
           0.3490906373211262,
           0.25629827766491614,
           0.27360962258062227,
           -0.04609438455032274,
           -0.21300414247726748
          ],
          [
           0.7401473973713971,
           0.12343251070961894,
           0.7608954509334058,
           0.7102976911016919,
           -0.13271559428420157,
           -0.06835987177965065,
           0.937614792151383,
           0.04925116492799243,
           1,
           -0.0981705981416308,
           0.38371288000016973,
           -0.16834623534896884,
           -0.06498631383458754,
           0.3140845509046596,
           0.3463211400263249,
           0.2781073143213818,
           0.431843896906898,
           0.01439961505695247,
           -0.09432067754827564
          ],
          [
           -0.1781605000086887,
           0.0925098188285587,
           -0.17943598177959158,
           -0.20811780710607478,
           -0.5671023035894809,
           0.9636490099573858,
           -0.17018963615224209,
           -0.15758027059437155,
           -0.0981705981416308,
           1,
           -0.23712601355104923,
           0.46012583385516614,
           -0.22415041422203127,
           -0.08844310294766881,
           -0.20969334256876077,
           0.1864444859967605,
           0.02906874915115937,
           -0.1295478581381199,
           0.12096302214454774
          ],
          [
           0.7698727413500885,
           -0.009817768215210116,
           0.7399629273274889,
           0.7997410094271279,
           0.28822164133802597,
           -0.2423252745801214,
           0.5464489649382667,
           0.11279024395969514,
           0.38371288000016973,
           -0.23712601355104923,
           1,
           -0.12407617914070676,
           0.20134430090033653,
           0.2501424237919298,
           0.37239676091891954,
           -0.03069594656027834,
           0.20761934616732552,
           -0.08978893847589892,
           -0.12801479465863846
          ],
          [
           -0.17173088709340334,
           -0.3188532574940015,
           -0.17161128270336204,
           -0.184661111087614,
           -0.18918419503743633,
           0.4504873434945466,
           -0.1744888108287144,
           -0.09606614514827308,
           -0.16834623534896884,
           0.46012583385516614,
           -0.12407617914070676,
           1,
           0.16959505517115547,
           0.1488418233882204,
           -0.19305412284174353,
           0.2529901027286986,
           -0.16917682451459728,
           -0.3123985330567932,
           0.2919389091017332
          ],
          [
           0.21202645476292908,
           -0.7654182718184352,
           0.21072647038258696,
           0.14364204258056962,
           0.0625136654341583,
           -0.272005635982485,
           -0.05194854873464822,
           0.2800634866645081,
           -0.06498631383458754,
           -0.22415041422203127,
           0.20134430090033653,
           0.16959505517115547,
           1,
           0.3243374865704013,
           0.37021987683219576,
           0.12782749814122835,
           -0.08570745344089296,
           -0.07726303895217934,
           -0.13303506233892615
          ],
          [
           0.3372575532463509,
           -0.3292440055991661,
           0.34313122928076856,
           0.3074463702913578,
           -0.044663740349978165,
           -0.07694559684292489,
           0.33268881475619705,
           0.14753196433734128,
           0.3140845509046596,
           -0.08844310294766881,
           0.2501424237919298,
           0.1488418233882204,
           0.3243374865704013,
           1,
           0.32897584747988445,
           0.3261460957654415,
           0.06756492368249375,
           0.008535584870774014,
           0.023667276991009872
          ],
          [
           0.5562318721284,
           -0.23305556042000702,
           0.5655058234044338,
           0.5223830710975409,
           -0.053926936158719824,
           -0.22538911505982087,
           0.3597905026952255,
           0.3490906373211262,
           0.3463211400263249,
           -0.20969334256876077,
           0.37239676091891954,
           -0.19305412284174353,
           0.37021987683219576,
           0.32897584747988445,
           1,
           0.16803361008336112,
           0.2542794886444624,
           -0.008005096895778916,
           -0.24376649677862408
          ],
          [
           0.1588437336672325,
           -0.11538704504210186,
           0.17779348162550576,
           0.08215798590812969,
           -0.318949796709692,
           0.20973037452260856,
           0.19826020662800609,
           0.25629827766491614,
           0.2781073143213818,
           0.1864444859967605,
           -0.03069594656027834,
           0.2529901027286986,
           0.12782749814122835,
           0.3261460957654415,
           0.16803361008336112,
           1,
           0.255543319981575,
           -0.04642133015460111,
           0.023541479288635588
          ],
          [
           0.28597096535613176,
           0.10677738166047655,
           0.29346867217530237,
           0.29354346663682723,
           -0.20478382679208737,
           0.09436904196464696,
           0.39254366553012565,
           0.27360962258062227,
           0.431843896906898,
           0.02906874915115937,
           0.20761934616732552,
           -0.16917682451459728,
           -0.08570745344089296,
           0.06756492368249375,
           0.2542794886444624,
           0.255543319981575,
           1,
           -0.06787946404161557,
           -0.05401802110625528
          ],
          [
           -0.042479217021332935,
           0.1094745016719111,
           -0.04149097712124209,
           -0.02210615735407949,
           -0.007142225302041877,
           -0.1406427673066332,
           0.024895639206325298,
           -0.04609438455032274,
           0.01439961505695247,
           -0.1295478581381199,
           -0.08978893847589892,
           -0.3123985330567932,
           -0.07726303895217934,
           0.008535584870774014,
           -0.008005096895778916,
           -0.04642133015460111,
           -0.06787946404161557,
           1,
           0.024148332328394112
          ],
          [
           -0.20289786575040292,
           -0.007508997367827203,
           -0.17721299223960907,
           -0.19181270329526215,
           0.0018215343135615837,
           0.1366547290530644,
           -0.09183619585906753,
           -0.21300414247726748,
           -0.09432067754827564,
           0.12096302214454774,
           -0.12801479465863846,
           0.2919389091017332,
           -0.13303506233892615,
           0.023667276991009872,
           -0.24376649677862408,
           0.023541479288635588,
           -0.05401802110625528,
           0.024148332328394112,
           1
          ]
         ]
        }
       ],
       "layout": {
        "annotations": [
         {
          "font": {
           "color": "#000000"
          },
          "showarrow": false,
          "text": "1.0",
          "x": "claps",
          "xref": "x",
          "y": "claps",
          "yref": "y"
         },
         {
          "font": {
           "color": "#FFFFFF"
          },
          "showarrow": false,
          "text": "-0.02",
          "x": "days_since_publication",
          "xref": "x",
          "y": "claps",
          "yref": "y"
         },
         {
          "font": {
           "color": "#000000"
          },
          "showarrow": false,
          "text": "0.99",
          "x": "fans",
          "xref": "x",
          "y": "claps",
          "yref": "y"
         },
         {
          "font": {
           "color": "#000000"
          },
          "showarrow": false,
          "text": "0.9",
          "x": "num_responses",
          "xref": "x",
          "y": "claps",
          "yref": "y"
         },
         {
          "font": {
           "color": "#FFFFFF"
          },
          "showarrow": false,
          "text": "0.0",
          "x": "read_ratio",
          "xref": "x",
          "y": "claps",
          "yref": "y"
         },
         {
          "font": {
           "color": "#FFFFFF"
          },
          "showarrow": false,
          "text": "-0.18",
          "x": "read_time",
          "xref": "x",
          "y": "claps",
          "yref": "y"
         },
         {
          "font": {
           "color": "#000000"
          },
          "showarrow": false,
          "text": "0.76",
          "x": "reads",
          "xref": "x",
          "y": "claps",
          "yref": "y"
         },
         {
          "font": {
           "color": "#000000"
          },
          "showarrow": false,
          "text": "0.13",
          "x": "title_word_count",
          "xref": "x",
          "y": "claps",
          "yref": "y"
         },
         {
          "font": {
           "color": "#000000"
          },
          "showarrow": false,
          "text": "0.74",
          "x": "views",
          "xref": "x",
          "y": "claps",
          "yref": "y"
         },
         {
          "font": {
           "color": "#FFFFFF"
          },
          "showarrow": false,
          "text": "-0.18",
          "x": "word_count",
          "xref": "x",
          "y": "claps",
          "yref": "y"
         },
         {
          "font": {
           "color": "#000000"
          },
          "showarrow": false,
          "text": "0.77",
          "x": "claps_per_word",
          "xref": "x",
          "y": "claps",
          "yref": "y"
         },
         {
          "font": {
           "color": "#FFFFFF"
          },
          "showarrow": false,
          "text": "-0.17",
          "x": "editing_days",
          "xref": "x",
          "y": "claps",
          "yref": "y"
         },
         {
          "font": {
           "color": "#000000"
          },
          "showarrow": false,
          "text": "0.21",
          "x": "<tag>Education",
          "xref": "x",
          "y": "claps",
          "yref": "y"
         },
         {
          "font": {
           "color": "#000000"
          },
          "showarrow": false,
          "text": "0.34",
          "x": "<tag>Data Science",
          "xref": "x",
          "y": "claps",
          "yref": "y"
         },
         {
          "font": {
           "color": "#000000"
          },
          "showarrow": false,
          "text": "0.56",
          "x": "<tag>Towards Data Science",
          "xref": "x",
          "y": "claps",
          "yref": "y"
         },
         {
          "font": {
           "color": "#000000"
          },
          "showarrow": false,
          "text": "0.16",
          "x": "<tag>Machine Learning",
          "xref": "x",
          "y": "claps",
          "yref": "y"
         },
         {
          "font": {
           "color": "#000000"
          },
          "showarrow": false,
          "text": "0.29",
          "x": "<tag>Python",
          "xref": "x",
          "y": "claps",
          "yref": "y"
         },
         {
          "font": {
           "color": "#FFFFFF"
          },
          "showarrow": false,
          "text": "-0.04",
          "x": "time_started",
          "xref": "x",
          "y": "claps",
          "yref": "y"
         },
         {
          "font": {
           "color": "#FFFFFF"
          },
          "showarrow": false,
          "text": "-0.2",
          "x": "time_published",
          "xref": "x",
          "y": "claps",
          "yref": "y"
         },
         {
          "font": {
           "color": "#FFFFFF"
          },
          "showarrow": false,
          "text": "-0.02",
          "x": "claps",
          "xref": "x",
          "y": "days_since_publication",
          "yref": "y"
         },
         {
          "font": {
           "color": "#000000"
          },
          "showarrow": false,
          "text": "1.0",
          "x": "days_since_publication",
          "xref": "x",
          "y": "days_since_publication",
          "yref": "y"
         },
         {
          "font": {
           "color": "#FFFFFF"
          },
          "showarrow": false,
          "text": "-0.03",
          "x": "fans",
          "xref": "x",
          "y": "days_since_publication",
          "yref": "y"
         },
         {
          "font": {
           "color": "#FFFFFF"
          },
          "showarrow": false,
          "text": "0.02",
          "x": "num_responses",
          "xref": "x",
          "y": "days_since_publication",
          "yref": "y"
         },
         {
          "font": {
           "color": "#FFFFFF"
          },
          "showarrow": false,
          "text": "0.09",
          "x": "read_ratio",
          "xref": "x",
          "y": "days_since_publication",
          "yref": "y"
         },
         {
          "font": {
           "color": "#000000"
          },
          "showarrow": false,
          "text": "0.14",
          "x": "read_time",
          "xref": "x",
          "y": "days_since_publication",
          "yref": "y"
         },
         {
          "font": {
           "color": "#000000"
          },
          "showarrow": false,
          "text": "0.14",
          "x": "reads",
          "xref": "x",
          "y": "days_since_publication",
          "yref": "y"
         },
         {
          "font": {
           "color": "#FFFFFF"
          },
          "showarrow": false,
          "text": "-0.2",
          "x": "title_word_count",
          "xref": "x",
          "y": "days_since_publication",
          "yref": "y"
         },
         {
          "font": {
           "color": "#000000"
          },
          "showarrow": false,
          "text": "0.12",
          "x": "views",
          "xref": "x",
          "y": "days_since_publication",
          "yref": "y"
         },
         {
          "font": {
           "color": "#FFFFFF"
          },
          "showarrow": false,
          "text": "0.09",
          "x": "word_count",
          "xref": "x",
          "y": "days_since_publication",
          "yref": "y"
         },
         {
          "font": {
           "color": "#FFFFFF"
          },
          "showarrow": false,
          "text": "-0.01",
          "x": "claps_per_word",
          "xref": "x",
          "y": "days_since_publication",
          "yref": "y"
         },
         {
          "font": {
           "color": "#FFFFFF"
          },
          "showarrow": false,
          "text": "-0.32",
          "x": "editing_days",
          "xref": "x",
          "y": "days_since_publication",
          "yref": "y"
         },
         {
          "font": {
           "color": "#FFFFFF"
          },
          "showarrow": false,
          "text": "-0.77",
          "x": "<tag>Education",
          "xref": "x",
          "y": "days_since_publication",
          "yref": "y"
         },
         {
          "font": {
           "color": "#FFFFFF"
          },
          "showarrow": false,
          "text": "-0.33",
          "x": "<tag>Data Science",
          "xref": "x",
          "y": "days_since_publication",
          "yref": "y"
         },
         {
          "font": {
           "color": "#FFFFFF"
          },
          "showarrow": false,
          "text": "-0.23",
          "x": "<tag>Towards Data Science",
          "xref": "x",
          "y": "days_since_publication",
          "yref": "y"
         },
         {
          "font": {
           "color": "#FFFFFF"
          },
          "showarrow": false,
          "text": "-0.12",
          "x": "<tag>Machine Learning",
          "xref": "x",
          "y": "days_since_publication",
          "yref": "y"
         },
         {
          "font": {
           "color": "#FFFFFF"
          },
          "showarrow": false,
          "text": "0.11",
          "x": "<tag>Python",
          "xref": "x",
          "y": "days_since_publication",
          "yref": "y"
         },
         {
          "font": {
           "color": "#FFFFFF"
          },
          "showarrow": false,
          "text": "0.11",
          "x": "time_started",
          "xref": "x",
          "y": "days_since_publication",
          "yref": "y"
         },
         {
          "font": {
           "color": "#FFFFFF"
          },
          "showarrow": false,
          "text": "-0.01",
          "x": "time_published",
          "xref": "x",
          "y": "days_since_publication",
          "yref": "y"
         },
         {
          "font": {
           "color": "#000000"
          },
          "showarrow": false,
          "text": "0.99",
          "x": "claps",
          "xref": "x",
          "y": "fans",
          "yref": "y"
         },
         {
          "font": {
           "color": "#FFFFFF"
          },
          "showarrow": false,
          "text": "-0.03",
          "x": "days_since_publication",
          "xref": "x",
          "y": "fans",
          "yref": "y"
         },
         {
          "font": {
           "color": "#000000"
          },
          "showarrow": false,
          "text": "1.0",
          "x": "fans",
          "xref": "x",
          "y": "fans",
          "yref": "y"
         },
         {
          "font": {
           "color": "#000000"
          },
          "showarrow": false,
          "text": "0.88",
          "x": "num_responses",
          "xref": "x",
          "y": "fans",
          "yref": "y"
         },
         {
          "font": {
           "color": "#FFFFFF"
          },
          "showarrow": false,
          "text": "-0.01",
          "x": "read_ratio",
          "xref": "x",
          "y": "fans",
          "yref": "y"
         },
         {
          "font": {
           "color": "#FFFFFF"
          },
          "showarrow": false,
          "text": "-0.18",
          "x": "read_time",
          "xref": "x",
          "y": "fans",
          "yref": "y"
         },
         {
          "font": {
           "color": "#000000"
          },
          "showarrow": false,
          "text": "0.77",
          "x": "reads",
          "xref": "x",
          "y": "fans",
          "yref": "y"
         },
         {
          "font": {
           "color": "#000000"
          },
          "showarrow": false,
          "text": "0.14",
          "x": "title_word_count",
          "xref": "x",
          "y": "fans",
          "yref": "y"
         },
         {
          "font": {
           "color": "#000000"
          },
          "showarrow": false,
          "text": "0.76",
          "x": "views",
          "xref": "x",
          "y": "fans",
          "yref": "y"
         },
         {
          "font": {
           "color": "#FFFFFF"
          },
          "showarrow": false,
          "text": "-0.18",
          "x": "word_count",
          "xref": "x",
          "y": "fans",
          "yref": "y"
         },
         {
          "font": {
           "color": "#000000"
          },
          "showarrow": false,
          "text": "0.74",
          "x": "claps_per_word",
          "xref": "x",
          "y": "fans",
          "yref": "y"
         },
         {
          "font": {
           "color": "#FFFFFF"
          },
          "showarrow": false,
          "text": "-0.17",
          "x": "editing_days",
          "xref": "x",
          "y": "fans",
          "yref": "y"
         },
         {
          "font": {
           "color": "#000000"
          },
          "showarrow": false,
          "text": "0.21",
          "x": "<tag>Education",
          "xref": "x",
          "y": "fans",
          "yref": "y"
         },
         {
          "font": {
           "color": "#000000"
          },
          "showarrow": false,
          "text": "0.34",
          "x": "<tag>Data Science",
          "xref": "x",
          "y": "fans",
          "yref": "y"
         },
         {
          "font": {
           "color": "#000000"
          },
          "showarrow": false,
          "text": "0.57",
          "x": "<tag>Towards Data Science",
          "xref": "x",
          "y": "fans",
          "yref": "y"
         },
         {
          "font": {
           "color": "#000000"
          },
          "showarrow": false,
          "text": "0.18",
          "x": "<tag>Machine Learning",
          "xref": "x",
          "y": "fans",
          "yref": "y"
         },
         {
          "font": {
           "color": "#000000"
          },
          "showarrow": false,
          "text": "0.29",
          "x": "<tag>Python",
          "xref": "x",
          "y": "fans",
          "yref": "y"
         },
         {
          "font": {
           "color": "#FFFFFF"
          },
          "showarrow": false,
          "text": "-0.04",
          "x": "time_started",
          "xref": "x",
          "y": "fans",
          "yref": "y"
         },
         {
          "font": {
           "color": "#FFFFFF"
          },
          "showarrow": false,
          "text": "-0.18",
          "x": "time_published",
          "xref": "x",
          "y": "fans",
          "yref": "y"
         },
         {
          "font": {
           "color": "#000000"
          },
          "showarrow": false,
          "text": "0.9",
          "x": "claps",
          "xref": "x",
          "y": "num_responses",
          "yref": "y"
         },
         {
          "font": {
           "color": "#FFFFFF"
          },
          "showarrow": false,
          "text": "0.02",
          "x": "days_since_publication",
          "xref": "x",
          "y": "num_responses",
          "yref": "y"
         },
         {
          "font": {
           "color": "#000000"
          },
          "showarrow": false,
          "text": "0.88",
          "x": "fans",
          "xref": "x",
          "y": "num_responses",
          "yref": "y"
         },
         {
          "font": {
           "color": "#000000"
          },
          "showarrow": false,
          "text": "1.0",
          "x": "num_responses",
          "xref": "x",
          "y": "num_responses",
          "yref": "y"
         },
         {
          "font": {
           "color": "#FFFFFF"
          },
          "showarrow": false,
          "text": "0.1",
          "x": "read_ratio",
          "xref": "x",
          "y": "num_responses",
          "yref": "y"
         },
         {
          "font": {
           "color": "#FFFFFF"
          },
          "showarrow": false,
          "text": "-0.21",
          "x": "read_time",
          "xref": "x",
          "y": "num_responses",
          "yref": "y"
         },
         {
          "font": {
           "color": "#000000"
          },
          "showarrow": false,
          "text": "0.77",
          "x": "reads",
          "xref": "x",
          "y": "num_responses",
          "yref": "y"
         },
         {
          "font": {
           "color": "#FFFFFF"
          },
          "showarrow": false,
          "text": "0.07",
          "x": "title_word_count",
          "xref": "x",
          "y": "num_responses",
          "yref": "y"
         },
         {
          "font": {
           "color": "#000000"
          },
          "showarrow": false,
          "text": "0.71",
          "x": "views",
          "xref": "x",
          "y": "num_responses",
          "yref": "y"
         },
         {
          "font": {
           "color": "#FFFFFF"
          },
          "showarrow": false,
          "text": "-0.21",
          "x": "word_count",
          "xref": "x",
          "y": "num_responses",
          "yref": "y"
         },
         {
          "font": {
           "color": "#000000"
          },
          "showarrow": false,
          "text": "0.8",
          "x": "claps_per_word",
          "xref": "x",
          "y": "num_responses",
          "yref": "y"
         },
         {
          "font": {
           "color": "#FFFFFF"
          },
          "showarrow": false,
          "text": "-0.18",
          "x": "editing_days",
          "xref": "x",
          "y": "num_responses",
          "yref": "y"
         },
         {
          "font": {
           "color": "#000000"
          },
          "showarrow": false,
          "text": "0.14",
          "x": "<tag>Education",
          "xref": "x",
          "y": "num_responses",
          "yref": "y"
         },
         {
          "font": {
           "color": "#000000"
          },
          "showarrow": false,
          "text": "0.31",
          "x": "<tag>Data Science",
          "xref": "x",
          "y": "num_responses",
          "yref": "y"
         },
         {
          "font": {
           "color": "#000000"
          },
          "showarrow": false,
          "text": "0.52",
          "x": "<tag>Towards Data Science",
          "xref": "x",
          "y": "num_responses",
          "yref": "y"
         },
         {
          "font": {
           "color": "#FFFFFF"
          },
          "showarrow": false,
          "text": "0.08",
          "x": "<tag>Machine Learning",
          "xref": "x",
          "y": "num_responses",
          "yref": "y"
         },
         {
          "font": {
           "color": "#000000"
          },
          "showarrow": false,
          "text": "0.29",
          "x": "<tag>Python",
          "xref": "x",
          "y": "num_responses",
          "yref": "y"
         },
         {
          "font": {
           "color": "#FFFFFF"
          },
          "showarrow": false,
          "text": "-0.02",
          "x": "time_started",
          "xref": "x",
          "y": "num_responses",
          "yref": "y"
         },
         {
          "font": {
           "color": "#FFFFFF"
          },
          "showarrow": false,
          "text": "-0.19",
          "x": "time_published",
          "xref": "x",
          "y": "num_responses",
          "yref": "y"
         },
         {
          "font": {
           "color": "#FFFFFF"
          },
          "showarrow": false,
          "text": "0.0",
          "x": "claps",
          "xref": "x",
          "y": "read_ratio",
          "yref": "y"
         },
         {
          "font": {
           "color": "#FFFFFF"
          },
          "showarrow": false,
          "text": "0.09",
          "x": "days_since_publication",
          "xref": "x",
          "y": "read_ratio",
          "yref": "y"
         },
         {
          "font": {
           "color": "#FFFFFF"
          },
          "showarrow": false,
          "text": "-0.01",
          "x": "fans",
          "xref": "x",
          "y": "read_ratio",
          "yref": "y"
         },
         {
          "font": {
           "color": "#FFFFFF"
          },
          "showarrow": false,
          "text": "0.1",
          "x": "num_responses",
          "xref": "x",
          "y": "read_ratio",
          "yref": "y"
         },
         {
          "font": {
           "color": "#000000"
          },
          "showarrow": false,
          "text": "1.0",
          "x": "read_ratio",
          "xref": "x",
          "y": "read_ratio",
          "yref": "y"
         },
         {
          "font": {
           "color": "#FFFFFF"
          },
          "showarrow": false,
          "text": "-0.63",
          "x": "read_time",
          "xref": "x",
          "y": "read_ratio",
          "yref": "y"
         },
         {
          "font": {
           "color": "#FFFFFF"
          },
          "showarrow": false,
          "text": "0.03",
          "x": "reads",
          "xref": "x",
          "y": "read_ratio",
          "yref": "y"
         },
         {
          "font": {
           "color": "#FFFFFF"
          },
          "showarrow": false,
          "text": "0.04",
          "x": "title_word_count",
          "xref": "x",
          "y": "read_ratio",
          "yref": "y"
         },
         {
          "font": {
           "color": "#FFFFFF"
          },
          "showarrow": false,
          "text": "-0.13",
          "x": "views",
          "xref": "x",
          "y": "read_ratio",
          "yref": "y"
         },
         {
          "font": {
           "color": "#FFFFFF"
          },
          "showarrow": false,
          "text": "-0.57",
          "x": "word_count",
          "xref": "x",
          "y": "read_ratio",
          "yref": "y"
         },
         {
          "font": {
           "color": "#000000"
          },
          "showarrow": false,
          "text": "0.29",
          "x": "claps_per_word",
          "xref": "x",
          "y": "read_ratio",
          "yref": "y"
         },
         {
          "font": {
           "color": "#FFFFFF"
          },
          "showarrow": false,
          "text": "-0.19",
          "x": "editing_days",
          "xref": "x",
          "y": "read_ratio",
          "yref": "y"
         },
         {
          "font": {
           "color": "#FFFFFF"
          },
          "showarrow": false,
          "text": "0.06",
          "x": "<tag>Education",
          "xref": "x",
          "y": "read_ratio",
          "yref": "y"
         },
         {
          "font": {
           "color": "#FFFFFF"
          },
          "showarrow": false,
          "text": "-0.04",
          "x": "<tag>Data Science",
          "xref": "x",
          "y": "read_ratio",
          "yref": "y"
         },
         {
          "font": {
           "color": "#FFFFFF"
          },
          "showarrow": false,
          "text": "-0.05",
          "x": "<tag>Towards Data Science",
          "xref": "x",
          "y": "read_ratio",
          "yref": "y"
         },
         {
          "font": {
           "color": "#FFFFFF"
          },
          "showarrow": false,
          "text": "-0.32",
          "x": "<tag>Machine Learning",
          "xref": "x",
          "y": "read_ratio",
          "yref": "y"
         },
         {
          "font": {
           "color": "#FFFFFF"
          },
          "showarrow": false,
          "text": "-0.2",
          "x": "<tag>Python",
          "xref": "x",
          "y": "read_ratio",
          "yref": "y"
         },
         {
          "font": {
           "color": "#FFFFFF"
          },
          "showarrow": false,
          "text": "-0.01",
          "x": "time_started",
          "xref": "x",
          "y": "read_ratio",
          "yref": "y"
         },
         {
          "font": {
           "color": "#FFFFFF"
          },
          "showarrow": false,
          "text": "0.0",
          "x": "time_published",
          "xref": "x",
          "y": "read_ratio",
          "yref": "y"
         },
         {
          "font": {
           "color": "#FFFFFF"
          },
          "showarrow": false,
          "text": "-0.18",
          "x": "claps",
          "xref": "x",
          "y": "read_time",
          "yref": "y"
         },
         {
          "font": {
           "color": "#000000"
          },
          "showarrow": false,
          "text": "0.14",
          "x": "days_since_publication",
          "xref": "x",
          "y": "read_time",
          "yref": "y"
         },
         {
          "font": {
           "color": "#FFFFFF"
          },
          "showarrow": false,
          "text": "-0.18",
          "x": "fans",
          "xref": "x",
          "y": "read_time",
          "yref": "y"
         },
         {
          "font": {
           "color": "#FFFFFF"
          },
          "showarrow": false,
          "text": "-0.21",
          "x": "num_responses",
          "xref": "x",
          "y": "read_time",
          "yref": "y"
         },
         {
          "font": {
           "color": "#FFFFFF"
          },
          "showarrow": false,
          "text": "-0.63",
          "x": "read_ratio",
          "xref": "x",
          "y": "read_time",
          "yref": "y"
         },
         {
          "font": {
           "color": "#000000"
          },
          "showarrow": false,
          "text": "1.0",
          "x": "read_time",
          "xref": "x",
          "y": "read_time",
          "yref": "y"
         },
         {
          "font": {
           "color": "#FFFFFF"
          },
          "showarrow": false,
          "text": "-0.15",
          "x": "reads",
          "xref": "x",
          "y": "read_time",
          "yref": "y"
         },
         {
          "font": {
           "color": "#FFFFFF"
          },
          "showarrow": false,
          "text": "-0.15",
          "x": "title_word_count",
          "xref": "x",
          "y": "read_time",
          "yref": "y"
         },
         {
          "font": {
           "color": "#FFFFFF"
          },
          "showarrow": false,
          "text": "-0.07",
          "x": "views",
          "xref": "x",
          "y": "read_time",
          "yref": "y"
         },
         {
          "font": {
           "color": "#000000"
          },
          "showarrow": false,
          "text": "0.96",
          "x": "word_count",
          "xref": "x",
          "y": "read_time",
          "yref": "y"
         },
         {
          "font": {
           "color": "#FFFFFF"
          },
          "showarrow": false,
          "text": "-0.24",
          "x": "claps_per_word",
          "xref": "x",
          "y": "read_time",
          "yref": "y"
         },
         {
          "font": {
           "color": "#000000"
          },
          "showarrow": false,
          "text": "0.45",
          "x": "editing_days",
          "xref": "x",
          "y": "read_time",
          "yref": "y"
         },
         {
          "font": {
           "color": "#FFFFFF"
          },
          "showarrow": false,
          "text": "-0.27",
          "x": "<tag>Education",
          "xref": "x",
          "y": "read_time",
          "yref": "y"
         },
         {
          "font": {
           "color": "#FFFFFF"
          },
          "showarrow": false,
          "text": "-0.08",
          "x": "<tag>Data Science",
          "xref": "x",
          "y": "read_time",
          "yref": "y"
         },
         {
          "font": {
           "color": "#FFFFFF"
          },
          "showarrow": false,
          "text": "-0.23",
          "x": "<tag>Towards Data Science",
          "xref": "x",
          "y": "read_time",
          "yref": "y"
         },
         {
          "font": {
           "color": "#000000"
          },
          "showarrow": false,
          "text": "0.21",
          "x": "<tag>Machine Learning",
          "xref": "x",
          "y": "read_time",
          "yref": "y"
         },
         {
          "font": {
           "color": "#FFFFFF"
          },
          "showarrow": false,
          "text": "0.09",
          "x": "<tag>Python",
          "xref": "x",
          "y": "read_time",
          "yref": "y"
         },
         {
          "font": {
           "color": "#FFFFFF"
          },
          "showarrow": false,
          "text": "-0.14",
          "x": "time_started",
          "xref": "x",
          "y": "read_time",
          "yref": "y"
         },
         {
          "font": {
           "color": "#000000"
          },
          "showarrow": false,
          "text": "0.14",
          "x": "time_published",
          "xref": "x",
          "y": "read_time",
          "yref": "y"
         },
         {
          "font": {
           "color": "#000000"
          },
          "showarrow": false,
          "text": "0.76",
          "x": "claps",
          "xref": "x",
          "y": "reads",
          "yref": "y"
         },
         {
          "font": {
           "color": "#000000"
          },
          "showarrow": false,
          "text": "0.14",
          "x": "days_since_publication",
          "xref": "x",
          "y": "reads",
          "yref": "y"
         },
         {
          "font": {
           "color": "#000000"
          },
          "showarrow": false,
          "text": "0.77",
          "x": "fans",
          "xref": "x",
          "y": "reads",
          "yref": "y"
         },
         {
          "font": {
           "color": "#000000"
          },
          "showarrow": false,
          "text": "0.77",
          "x": "num_responses",
          "xref": "x",
          "y": "reads",
          "yref": "y"
         },
         {
          "font": {
           "color": "#FFFFFF"
          },
          "showarrow": false,
          "text": "0.03",
          "x": "read_ratio",
          "xref": "x",
          "y": "reads",
          "yref": "y"
         },
         {
          "font": {
           "color": "#FFFFFF"
          },
          "showarrow": false,
          "text": "-0.15",
          "x": "read_time",
          "xref": "x",
          "y": "reads",
          "yref": "y"
         },
         {
          "font": {
           "color": "#000000"
          },
          "showarrow": false,
          "text": "1.0",
          "x": "reads",
          "xref": "x",
          "y": "reads",
          "yref": "y"
         },
         {
          "font": {
           "color": "#FFFFFF"
          },
          "showarrow": false,
          "text": "0.05",
          "x": "title_word_count",
          "xref": "x",
          "y": "reads",
          "yref": "y"
         },
         {
          "font": {
           "color": "#000000"
          },
          "showarrow": false,
          "text": "0.94",
          "x": "views",
          "xref": "x",
          "y": "reads",
          "yref": "y"
         },
         {
          "font": {
           "color": "#FFFFFF"
          },
          "showarrow": false,
          "text": "-0.17",
          "x": "word_count",
          "xref": "x",
          "y": "reads",
          "yref": "y"
         },
         {
          "font": {
           "color": "#000000"
          },
          "showarrow": false,
          "text": "0.55",
          "x": "claps_per_word",
          "xref": "x",
          "y": "reads",
          "yref": "y"
         },
         {
          "font": {
           "color": "#FFFFFF"
          },
          "showarrow": false,
          "text": "-0.17",
          "x": "editing_days",
          "xref": "x",
          "y": "reads",
          "yref": "y"
         },
         {
          "font": {
           "color": "#FFFFFF"
          },
          "showarrow": false,
          "text": "-0.05",
          "x": "<tag>Education",
          "xref": "x",
          "y": "reads",
          "yref": "y"
         },
         {
          "font": {
           "color": "#000000"
          },
          "showarrow": false,
          "text": "0.33",
          "x": "<tag>Data Science",
          "xref": "x",
          "y": "reads",
          "yref": "y"
         },
         {
          "font": {
           "color": "#000000"
          },
          "showarrow": false,
          "text": "0.36",
          "x": "<tag>Towards Data Science",
          "xref": "x",
          "y": "reads",
          "yref": "y"
         },
         {
          "font": {
           "color": "#000000"
          },
          "showarrow": false,
          "text": "0.2",
          "x": "<tag>Machine Learning",
          "xref": "x",
          "y": "reads",
          "yref": "y"
         },
         {
          "font": {
           "color": "#000000"
          },
          "showarrow": false,
          "text": "0.39",
          "x": "<tag>Python",
          "xref": "x",
          "y": "reads",
          "yref": "y"
         },
         {
          "font": {
           "color": "#FFFFFF"
          },
          "showarrow": false,
          "text": "0.02",
          "x": "time_started",
          "xref": "x",
          "y": "reads",
          "yref": "y"
         },
         {
          "font": {
           "color": "#FFFFFF"
          },
          "showarrow": false,
          "text": "-0.09",
          "x": "time_published",
          "xref": "x",
          "y": "reads",
          "yref": "y"
         },
         {
          "font": {
           "color": "#000000"
          },
          "showarrow": false,
          "text": "0.13",
          "x": "claps",
          "xref": "x",
          "y": "title_word_count",
          "yref": "y"
         },
         {
          "font": {
           "color": "#FFFFFF"
          },
          "showarrow": false,
          "text": "-0.2",
          "x": "days_since_publication",
          "xref": "x",
          "y": "title_word_count",
          "yref": "y"
         },
         {
          "font": {
           "color": "#000000"
          },
          "showarrow": false,
          "text": "0.14",
          "x": "fans",
          "xref": "x",
          "y": "title_word_count",
          "yref": "y"
         },
         {
          "font": {
           "color": "#FFFFFF"
          },
          "showarrow": false,
          "text": "0.07",
          "x": "num_responses",
          "xref": "x",
          "y": "title_word_count",
          "yref": "y"
         },
         {
          "font": {
           "color": "#FFFFFF"
          },
          "showarrow": false,
          "text": "0.04",
          "x": "read_ratio",
          "xref": "x",
          "y": "title_word_count",
          "yref": "y"
         },
         {
          "font": {
           "color": "#FFFFFF"
          },
          "showarrow": false,
          "text": "-0.15",
          "x": "read_time",
          "xref": "x",
          "y": "title_word_count",
          "yref": "y"
         },
         {
          "font": {
           "color": "#FFFFFF"
          },
          "showarrow": false,
          "text": "0.05",
          "x": "reads",
          "xref": "x",
          "y": "title_word_count",
          "yref": "y"
         },
         {
          "font": {
           "color": "#000000"
          },
          "showarrow": false,
          "text": "1.0",
          "x": "title_word_count",
          "xref": "x",
          "y": "title_word_count",
          "yref": "y"
         },
         {
          "font": {
           "color": "#FFFFFF"
          },
          "showarrow": false,
          "text": "0.05",
          "x": "views",
          "xref": "x",
          "y": "title_word_count",
          "yref": "y"
         },
         {
          "font": {
           "color": "#FFFFFF"
          },
          "showarrow": false,
          "text": "-0.16",
          "x": "word_count",
          "xref": "x",
          "y": "title_word_count",
          "yref": "y"
         },
         {
          "font": {
           "color": "#FFFFFF"
          },
          "showarrow": false,
          "text": "0.11",
          "x": "claps_per_word",
          "xref": "x",
          "y": "title_word_count",
          "yref": "y"
         },
         {
          "font": {
           "color": "#FFFFFF"
          },
          "showarrow": false,
          "text": "-0.1",
          "x": "editing_days",
          "xref": "x",
          "y": "title_word_count",
          "yref": "y"
         },
         {
          "font": {
           "color": "#000000"
          },
          "showarrow": false,
          "text": "0.28",
          "x": "<tag>Education",
          "xref": "x",
          "y": "title_word_count",
          "yref": "y"
         },
         {
          "font": {
           "color": "#000000"
          },
          "showarrow": false,
          "text": "0.15",
          "x": "<tag>Data Science",
          "xref": "x",
          "y": "title_word_count",
          "yref": "y"
         },
         {
          "font": {
           "color": "#000000"
          },
          "showarrow": false,
          "text": "0.35",
          "x": "<tag>Towards Data Science",
          "xref": "x",
          "y": "title_word_count",
          "yref": "y"
         },
         {
          "font": {
           "color": "#000000"
          },
          "showarrow": false,
          "text": "0.26",
          "x": "<tag>Machine Learning",
          "xref": "x",
          "y": "title_word_count",
          "yref": "y"
         },
         {
          "font": {
           "color": "#000000"
          },
          "showarrow": false,
          "text": "0.27",
          "x": "<tag>Python",
          "xref": "x",
          "y": "title_word_count",
          "yref": "y"
         },
         {
          "font": {
           "color": "#FFFFFF"
          },
          "showarrow": false,
          "text": "-0.05",
          "x": "time_started",
          "xref": "x",
          "y": "title_word_count",
          "yref": "y"
         },
         {
          "font": {
           "color": "#FFFFFF"
          },
          "showarrow": false,
          "text": "-0.21",
          "x": "time_published",
          "xref": "x",
          "y": "title_word_count",
          "yref": "y"
         },
         {
          "font": {
           "color": "#000000"
          },
          "showarrow": false,
          "text": "0.74",
          "x": "claps",
          "xref": "x",
          "y": "views",
          "yref": "y"
         },
         {
          "font": {
           "color": "#000000"
          },
          "showarrow": false,
          "text": "0.12",
          "x": "days_since_publication",
          "xref": "x",
          "y": "views",
          "yref": "y"
         },
         {
          "font": {
           "color": "#000000"
          },
          "showarrow": false,
          "text": "0.76",
          "x": "fans",
          "xref": "x",
          "y": "views",
          "yref": "y"
         },
         {
          "font": {
           "color": "#000000"
          },
          "showarrow": false,
          "text": "0.71",
          "x": "num_responses",
          "xref": "x",
          "y": "views",
          "yref": "y"
         },
         {
          "font": {
           "color": "#FFFFFF"
          },
          "showarrow": false,
          "text": "-0.13",
          "x": "read_ratio",
          "xref": "x",
          "y": "views",
          "yref": "y"
         },
         {
          "font": {
           "color": "#FFFFFF"
          },
          "showarrow": false,
          "text": "-0.07",
          "x": "read_time",
          "xref": "x",
          "y": "views",
          "yref": "y"
         },
         {
          "font": {
           "color": "#000000"
          },
          "showarrow": false,
          "text": "0.94",
          "x": "reads",
          "xref": "x",
          "y": "views",
          "yref": "y"
         },
         {
          "font": {
           "color": "#FFFFFF"
          },
          "showarrow": false,
          "text": "0.05",
          "x": "title_word_count",
          "xref": "x",
          "y": "views",
          "yref": "y"
         },
         {
          "font": {
           "color": "#000000"
          },
          "showarrow": false,
          "text": "1.0",
          "x": "views",
          "xref": "x",
          "y": "views",
          "yref": "y"
         },
         {
          "font": {
           "color": "#FFFFFF"
          },
          "showarrow": false,
          "text": "-0.1",
          "x": "word_count",
          "xref": "x",
          "y": "views",
          "yref": "y"
         },
         {
          "font": {
           "color": "#000000"
          },
          "showarrow": false,
          "text": "0.38",
          "x": "claps_per_word",
          "xref": "x",
          "y": "views",
          "yref": "y"
         },
         {
          "font": {
           "color": "#FFFFFF"
          },
          "showarrow": false,
          "text": "-0.17",
          "x": "editing_days",
          "xref": "x",
          "y": "views",
          "yref": "y"
         },
         {
          "font": {
           "color": "#FFFFFF"
          },
          "showarrow": false,
          "text": "-0.06",
          "x": "<tag>Education",
          "xref": "x",
          "y": "views",
          "yref": "y"
         },
         {
          "font": {
           "color": "#000000"
          },
          "showarrow": false,
          "text": "0.31",
          "x": "<tag>Data Science",
          "xref": "x",
          "y": "views",
          "yref": "y"
         },
         {
          "font": {
           "color": "#000000"
          },
          "showarrow": false,
          "text": "0.35",
          "x": "<tag>Towards Data Science",
          "xref": "x",
          "y": "views",
          "yref": "y"
         },
         {
          "font": {
           "color": "#000000"
          },
          "showarrow": false,
          "text": "0.28",
          "x": "<tag>Machine Learning",
          "xref": "x",
          "y": "views",
          "yref": "y"
         },
         {
          "font": {
           "color": "#000000"
          },
          "showarrow": false,
          "text": "0.43",
          "x": "<tag>Python",
          "xref": "x",
          "y": "views",
          "yref": "y"
         },
         {
          "font": {
           "color": "#FFFFFF"
          },
          "showarrow": false,
          "text": "0.01",
          "x": "time_started",
          "xref": "x",
          "y": "views",
          "yref": "y"
         },
         {
          "font": {
           "color": "#FFFFFF"
          },
          "showarrow": false,
          "text": "-0.09",
          "x": "time_published",
          "xref": "x",
          "y": "views",
          "yref": "y"
         },
         {
          "font": {
           "color": "#FFFFFF"
          },
          "showarrow": false,
          "text": "-0.18",
          "x": "claps",
          "xref": "x",
          "y": "word_count",
          "yref": "y"
         },
         {
          "font": {
           "color": "#FFFFFF"
          },
          "showarrow": false,
          "text": "0.09",
          "x": "days_since_publication",
          "xref": "x",
          "y": "word_count",
          "yref": "y"
         },
         {
          "font": {
           "color": "#FFFFFF"
          },
          "showarrow": false,
          "text": "-0.18",
          "x": "fans",
          "xref": "x",
          "y": "word_count",
          "yref": "y"
         },
         {
          "font": {
           "color": "#FFFFFF"
          },
          "showarrow": false,
          "text": "-0.21",
          "x": "num_responses",
          "xref": "x",
          "y": "word_count",
          "yref": "y"
         },
         {
          "font": {
           "color": "#FFFFFF"
          },
          "showarrow": false,
          "text": "-0.57",
          "x": "read_ratio",
          "xref": "x",
          "y": "word_count",
          "yref": "y"
         },
         {
          "font": {
           "color": "#000000"
          },
          "showarrow": false,
          "text": "0.96",
          "x": "read_time",
          "xref": "x",
          "y": "word_count",
          "yref": "y"
         },
         {
          "font": {
           "color": "#FFFFFF"
          },
          "showarrow": false,
          "text": "-0.17",
          "x": "reads",
          "xref": "x",
          "y": "word_count",
          "yref": "y"
         },
         {
          "font": {
           "color": "#FFFFFF"
          },
          "showarrow": false,
          "text": "-0.16",
          "x": "title_word_count",
          "xref": "x",
          "y": "word_count",
          "yref": "y"
         },
         {
          "font": {
           "color": "#FFFFFF"
          },
          "showarrow": false,
          "text": "-0.1",
          "x": "views",
          "xref": "x",
          "y": "word_count",
          "yref": "y"
         },
         {
          "font": {
           "color": "#000000"
          },
          "showarrow": false,
          "text": "1.0",
          "x": "word_count",
          "xref": "x",
          "y": "word_count",
          "yref": "y"
         },
         {
          "font": {
           "color": "#FFFFFF"
          },
          "showarrow": false,
          "text": "-0.24",
          "x": "claps_per_word",
          "xref": "x",
          "y": "word_count",
          "yref": "y"
         },
         {
          "font": {
           "color": "#000000"
          },
          "showarrow": false,
          "text": "0.46",
          "x": "editing_days",
          "xref": "x",
          "y": "word_count",
          "yref": "y"
         },
         {
          "font": {
           "color": "#FFFFFF"
          },
          "showarrow": false,
          "text": "-0.22",
          "x": "<tag>Education",
          "xref": "x",
          "y": "word_count",
          "yref": "y"
         },
         {
          "font": {
           "color": "#FFFFFF"
          },
          "showarrow": false,
          "text": "-0.09",
          "x": "<tag>Data Science",
          "xref": "x",
          "y": "word_count",
          "yref": "y"
         },
         {
          "font": {
           "color": "#FFFFFF"
          },
          "showarrow": false,
          "text": "-0.21",
          "x": "<tag>Towards Data Science",
          "xref": "x",
          "y": "word_count",
          "yref": "y"
         },
         {
          "font": {
           "color": "#000000"
          },
          "showarrow": false,
          "text": "0.19",
          "x": "<tag>Machine Learning",
          "xref": "x",
          "y": "word_count",
          "yref": "y"
         },
         {
          "font": {
           "color": "#FFFFFF"
          },
          "showarrow": false,
          "text": "0.03",
          "x": "<tag>Python",
          "xref": "x",
          "y": "word_count",
          "yref": "y"
         },
         {
          "font": {
           "color": "#FFFFFF"
          },
          "showarrow": false,
          "text": "-0.13",
          "x": "time_started",
          "xref": "x",
          "y": "word_count",
          "yref": "y"
         },
         {
          "font": {
           "color": "#000000"
          },
          "showarrow": false,
          "text": "0.12",
          "x": "time_published",
          "xref": "x",
          "y": "word_count",
          "yref": "y"
         },
         {
          "font": {
           "color": "#000000"
          },
          "showarrow": false,
          "text": "0.77",
          "x": "claps",
          "xref": "x",
          "y": "claps_per_word",
          "yref": "y"
         },
         {
          "font": {
           "color": "#FFFFFF"
          },
          "showarrow": false,
          "text": "-0.01",
          "x": "days_since_publication",
          "xref": "x",
          "y": "claps_per_word",
          "yref": "y"
         },
         {
          "font": {
           "color": "#000000"
          },
          "showarrow": false,
          "text": "0.74",
          "x": "fans",
          "xref": "x",
          "y": "claps_per_word",
          "yref": "y"
         },
         {
          "font": {
           "color": "#000000"
          },
          "showarrow": false,
          "text": "0.8",
          "x": "num_responses",
          "xref": "x",
          "y": "claps_per_word",
          "yref": "y"
         },
         {
          "font": {
           "color": "#000000"
          },
          "showarrow": false,
          "text": "0.29",
          "x": "read_ratio",
          "xref": "x",
          "y": "claps_per_word",
          "yref": "y"
         },
         {
          "font": {
           "color": "#FFFFFF"
          },
          "showarrow": false,
          "text": "-0.24",
          "x": "read_time",
          "xref": "x",
          "y": "claps_per_word",
          "yref": "y"
         },
         {
          "font": {
           "color": "#000000"
          },
          "showarrow": false,
          "text": "0.55",
          "x": "reads",
          "xref": "x",
          "y": "claps_per_word",
          "yref": "y"
         },
         {
          "font": {
           "color": "#FFFFFF"
          },
          "showarrow": false,
          "text": "0.11",
          "x": "title_word_count",
          "xref": "x",
          "y": "claps_per_word",
          "yref": "y"
         },
         {
          "font": {
           "color": "#000000"
          },
          "showarrow": false,
          "text": "0.38",
          "x": "views",
          "xref": "x",
          "y": "claps_per_word",
          "yref": "y"
         },
         {
          "font": {
           "color": "#FFFFFF"
          },
          "showarrow": false,
          "text": "-0.24",
          "x": "word_count",
          "xref": "x",
          "y": "claps_per_word",
          "yref": "y"
         },
         {
          "font": {
           "color": "#000000"
          },
          "showarrow": false,
          "text": "1.0",
          "x": "claps_per_word",
          "xref": "x",
          "y": "claps_per_word",
          "yref": "y"
         },
         {
          "font": {
           "color": "#FFFFFF"
          },
          "showarrow": false,
          "text": "-0.12",
          "x": "editing_days",
          "xref": "x",
          "y": "claps_per_word",
          "yref": "y"
         },
         {
          "font": {
           "color": "#000000"
          },
          "showarrow": false,
          "text": "0.2",
          "x": "<tag>Education",
          "xref": "x",
          "y": "claps_per_word",
          "yref": "y"
         },
         {
          "font": {
           "color": "#000000"
          },
          "showarrow": false,
          "text": "0.25",
          "x": "<tag>Data Science",
          "xref": "x",
          "y": "claps_per_word",
          "yref": "y"
         },
         {
          "font": {
           "color": "#000000"
          },
          "showarrow": false,
          "text": "0.37",
          "x": "<tag>Towards Data Science",
          "xref": "x",
          "y": "claps_per_word",
          "yref": "y"
         },
         {
          "font": {
           "color": "#FFFFFF"
          },
          "showarrow": false,
          "text": "-0.03",
          "x": "<tag>Machine Learning",
          "xref": "x",
          "y": "claps_per_word",
          "yref": "y"
         },
         {
          "font": {
           "color": "#000000"
          },
          "showarrow": false,
          "text": "0.21",
          "x": "<tag>Python",
          "xref": "x",
          "y": "claps_per_word",
          "yref": "y"
         },
         {
          "font": {
           "color": "#FFFFFF"
          },
          "showarrow": false,
          "text": "-0.09",
          "x": "time_started",
          "xref": "x",
          "y": "claps_per_word",
          "yref": "y"
         },
         {
          "font": {
           "color": "#FFFFFF"
          },
          "showarrow": false,
          "text": "-0.13",
          "x": "time_published",
          "xref": "x",
          "y": "claps_per_word",
          "yref": "y"
         },
         {
          "font": {
           "color": "#FFFFFF"
          },
          "showarrow": false,
          "text": "-0.17",
          "x": "claps",
          "xref": "x",
          "y": "editing_days",
          "yref": "y"
         },
         {
          "font": {
           "color": "#FFFFFF"
          },
          "showarrow": false,
          "text": "-0.32",
          "x": "days_since_publication",
          "xref": "x",
          "y": "editing_days",
          "yref": "y"
         },
         {
          "font": {
           "color": "#FFFFFF"
          },
          "showarrow": false,
          "text": "-0.17",
          "x": "fans",
          "xref": "x",
          "y": "editing_days",
          "yref": "y"
         },
         {
          "font": {
           "color": "#FFFFFF"
          },
          "showarrow": false,
          "text": "-0.18",
          "x": "num_responses",
          "xref": "x",
          "y": "editing_days",
          "yref": "y"
         },
         {
          "font": {
           "color": "#FFFFFF"
          },
          "showarrow": false,
          "text": "-0.19",
          "x": "read_ratio",
          "xref": "x",
          "y": "editing_days",
          "yref": "y"
         },
         {
          "font": {
           "color": "#000000"
          },
          "showarrow": false,
          "text": "0.45",
          "x": "read_time",
          "xref": "x",
          "y": "editing_days",
          "yref": "y"
         },
         {
          "font": {
           "color": "#FFFFFF"
          },
          "showarrow": false,
          "text": "-0.17",
          "x": "reads",
          "xref": "x",
          "y": "editing_days",
          "yref": "y"
         },
         {
          "font": {
           "color": "#FFFFFF"
          },
          "showarrow": false,
          "text": "-0.1",
          "x": "title_word_count",
          "xref": "x",
          "y": "editing_days",
          "yref": "y"
         },
         {
          "font": {
           "color": "#FFFFFF"
          },
          "showarrow": false,
          "text": "-0.17",
          "x": "views",
          "xref": "x",
          "y": "editing_days",
          "yref": "y"
         },
         {
          "font": {
           "color": "#000000"
          },
          "showarrow": false,
          "text": "0.46",
          "x": "word_count",
          "xref": "x",
          "y": "editing_days",
          "yref": "y"
         },
         {
          "font": {
           "color": "#FFFFFF"
          },
          "showarrow": false,
          "text": "-0.12",
          "x": "claps_per_word",
          "xref": "x",
          "y": "editing_days",
          "yref": "y"
         },
         {
          "font": {
           "color": "#000000"
          },
          "showarrow": false,
          "text": "1.0",
          "x": "editing_days",
          "xref": "x",
          "y": "editing_days",
          "yref": "y"
         },
         {
          "font": {
           "color": "#000000"
          },
          "showarrow": false,
          "text": "0.17",
          "x": "<tag>Education",
          "xref": "x",
          "y": "editing_days",
          "yref": "y"
         },
         {
          "font": {
           "color": "#000000"
          },
          "showarrow": false,
          "text": "0.15",
          "x": "<tag>Data Science",
          "xref": "x",
          "y": "editing_days",
          "yref": "y"
         },
         {
          "font": {
           "color": "#FFFFFF"
          },
          "showarrow": false,
          "text": "-0.19",
          "x": "<tag>Towards Data Science",
          "xref": "x",
          "y": "editing_days",
          "yref": "y"
         },
         {
          "font": {
           "color": "#000000"
          },
          "showarrow": false,
          "text": "0.25",
          "x": "<tag>Machine Learning",
          "xref": "x",
          "y": "editing_days",
          "yref": "y"
         },
         {
          "font": {
           "color": "#FFFFFF"
          },
          "showarrow": false,
          "text": "-0.17",
          "x": "<tag>Python",
          "xref": "x",
          "y": "editing_days",
          "yref": "y"
         },
         {
          "font": {
           "color": "#FFFFFF"
          },
          "showarrow": false,
          "text": "-0.31",
          "x": "time_started",
          "xref": "x",
          "y": "editing_days",
          "yref": "y"
         },
         {
          "font": {
           "color": "#000000"
          },
          "showarrow": false,
          "text": "0.29",
          "x": "time_published",
          "xref": "x",
          "y": "editing_days",
          "yref": "y"
         },
         {
          "font": {
           "color": "#000000"
          },
          "showarrow": false,
          "text": "0.21",
          "x": "claps",
          "xref": "x",
          "y": "<tag>Education",
          "yref": "y"
         },
         {
          "font": {
           "color": "#FFFFFF"
          },
          "showarrow": false,
          "text": "-0.77",
          "x": "days_since_publication",
          "xref": "x",
          "y": "<tag>Education",
          "yref": "y"
         },
         {
          "font": {
           "color": "#000000"
          },
          "showarrow": false,
          "text": "0.21",
          "x": "fans",
          "xref": "x",
          "y": "<tag>Education",
          "yref": "y"
         },
         {
          "font": {
           "color": "#000000"
          },
          "showarrow": false,
          "text": "0.14",
          "x": "num_responses",
          "xref": "x",
          "y": "<tag>Education",
          "yref": "y"
         },
         {
          "font": {
           "color": "#FFFFFF"
          },
          "showarrow": false,
          "text": "0.06",
          "x": "read_ratio",
          "xref": "x",
          "y": "<tag>Education",
          "yref": "y"
         },
         {
          "font": {
           "color": "#FFFFFF"
          },
          "showarrow": false,
          "text": "-0.27",
          "x": "read_time",
          "xref": "x",
          "y": "<tag>Education",
          "yref": "y"
         },
         {
          "font": {
           "color": "#FFFFFF"
          },
          "showarrow": false,
          "text": "-0.05",
          "x": "reads",
          "xref": "x",
          "y": "<tag>Education",
          "yref": "y"
         },
         {
          "font": {
           "color": "#000000"
          },
          "showarrow": false,
          "text": "0.28",
          "x": "title_word_count",
          "xref": "x",
          "y": "<tag>Education",
          "yref": "y"
         },
         {
          "font": {
           "color": "#FFFFFF"
          },
          "showarrow": false,
          "text": "-0.06",
          "x": "views",
          "xref": "x",
          "y": "<tag>Education",
          "yref": "y"
         },
         {
          "font": {
           "color": "#FFFFFF"
          },
          "showarrow": false,
          "text": "-0.22",
          "x": "word_count",
          "xref": "x",
          "y": "<tag>Education",
          "yref": "y"
         },
         {
          "font": {
           "color": "#000000"
          },
          "showarrow": false,
          "text": "0.2",
          "x": "claps_per_word",
          "xref": "x",
          "y": "<tag>Education",
          "yref": "y"
         },
         {
          "font": {
           "color": "#000000"
          },
          "showarrow": false,
          "text": "0.17",
          "x": "editing_days",
          "xref": "x",
          "y": "<tag>Education",
          "yref": "y"
         },
         {
          "font": {
           "color": "#000000"
          },
          "showarrow": false,
          "text": "1.0",
          "x": "<tag>Education",
          "xref": "x",
          "y": "<tag>Education",
          "yref": "y"
         },
         {
          "font": {
           "color": "#000000"
          },
          "showarrow": false,
          "text": "0.32",
          "x": "<tag>Data Science",
          "xref": "x",
          "y": "<tag>Education",
          "yref": "y"
         },
         {
          "font": {
           "color": "#000000"
          },
          "showarrow": false,
          "text": "0.37",
          "x": "<tag>Towards Data Science",
          "xref": "x",
          "y": "<tag>Education",
          "yref": "y"
         },
         {
          "font": {
           "color": "#000000"
          },
          "showarrow": false,
          "text": "0.13",
          "x": "<tag>Machine Learning",
          "xref": "x",
          "y": "<tag>Education",
          "yref": "y"
         },
         {
          "font": {
           "color": "#FFFFFF"
          },
          "showarrow": false,
          "text": "-0.09",
          "x": "<tag>Python",
          "xref": "x",
          "y": "<tag>Education",
          "yref": "y"
         },
         {
          "font": {
           "color": "#FFFFFF"
          },
          "showarrow": false,
          "text": "-0.08",
          "x": "time_started",
          "xref": "x",
          "y": "<tag>Education",
          "yref": "y"
         },
         {
          "font": {
           "color": "#FFFFFF"
          },
          "showarrow": false,
          "text": "-0.13",
          "x": "time_published",
          "xref": "x",
          "y": "<tag>Education",
          "yref": "y"
         },
         {
          "font": {
           "color": "#000000"
          },
          "showarrow": false,
          "text": "0.34",
          "x": "claps",
          "xref": "x",
          "y": "<tag>Data Science",
          "yref": "y"
         },
         {
          "font": {
           "color": "#FFFFFF"
          },
          "showarrow": false,
          "text": "-0.33",
          "x": "days_since_publication",
          "xref": "x",
          "y": "<tag>Data Science",
          "yref": "y"
         },
         {
          "font": {
           "color": "#000000"
          },
          "showarrow": false,
          "text": "0.34",
          "x": "fans",
          "xref": "x",
          "y": "<tag>Data Science",
          "yref": "y"
         },
         {
          "font": {
           "color": "#000000"
          },
          "showarrow": false,
          "text": "0.31",
          "x": "num_responses",
          "xref": "x",
          "y": "<tag>Data Science",
          "yref": "y"
         },
         {
          "font": {
           "color": "#FFFFFF"
          },
          "showarrow": false,
          "text": "-0.04",
          "x": "read_ratio",
          "xref": "x",
          "y": "<tag>Data Science",
          "yref": "y"
         },
         {
          "font": {
           "color": "#FFFFFF"
          },
          "showarrow": false,
          "text": "-0.08",
          "x": "read_time",
          "xref": "x",
          "y": "<tag>Data Science",
          "yref": "y"
         },
         {
          "font": {
           "color": "#000000"
          },
          "showarrow": false,
          "text": "0.33",
          "x": "reads",
          "xref": "x",
          "y": "<tag>Data Science",
          "yref": "y"
         },
         {
          "font": {
           "color": "#000000"
          },
          "showarrow": false,
          "text": "0.15",
          "x": "title_word_count",
          "xref": "x",
          "y": "<tag>Data Science",
          "yref": "y"
         },
         {
          "font": {
           "color": "#000000"
          },
          "showarrow": false,
          "text": "0.31",
          "x": "views",
          "xref": "x",
          "y": "<tag>Data Science",
          "yref": "y"
         },
         {
          "font": {
           "color": "#FFFFFF"
          },
          "showarrow": false,
          "text": "-0.09",
          "x": "word_count",
          "xref": "x",
          "y": "<tag>Data Science",
          "yref": "y"
         },
         {
          "font": {
           "color": "#000000"
          },
          "showarrow": false,
          "text": "0.25",
          "x": "claps_per_word",
          "xref": "x",
          "y": "<tag>Data Science",
          "yref": "y"
         },
         {
          "font": {
           "color": "#000000"
          },
          "showarrow": false,
          "text": "0.15",
          "x": "editing_days",
          "xref": "x",
          "y": "<tag>Data Science",
          "yref": "y"
         },
         {
          "font": {
           "color": "#000000"
          },
          "showarrow": false,
          "text": "0.32",
          "x": "<tag>Education",
          "xref": "x",
          "y": "<tag>Data Science",
          "yref": "y"
         },
         {
          "font": {
           "color": "#000000"
          },
          "showarrow": false,
          "text": "1.0",
          "x": "<tag>Data Science",
          "xref": "x",
          "y": "<tag>Data Science",
          "yref": "y"
         },
         {
          "font": {
           "color": "#000000"
          },
          "showarrow": false,
          "text": "0.33",
          "x": "<tag>Towards Data Science",
          "xref": "x",
          "y": "<tag>Data Science",
          "yref": "y"
         },
         {
          "font": {
           "color": "#000000"
          },
          "showarrow": false,
          "text": "0.33",
          "x": "<tag>Machine Learning",
          "xref": "x",
          "y": "<tag>Data Science",
          "yref": "y"
         },
         {
          "font": {
           "color": "#FFFFFF"
          },
          "showarrow": false,
          "text": "0.07",
          "x": "<tag>Python",
          "xref": "x",
          "y": "<tag>Data Science",
          "yref": "y"
         },
         {
          "font": {
           "color": "#FFFFFF"
          },
          "showarrow": false,
          "text": "0.01",
          "x": "time_started",
          "xref": "x",
          "y": "<tag>Data Science",
          "yref": "y"
         },
         {
          "font": {
           "color": "#FFFFFF"
          },
          "showarrow": false,
          "text": "0.02",
          "x": "time_published",
          "xref": "x",
          "y": "<tag>Data Science",
          "yref": "y"
         },
         {
          "font": {
           "color": "#000000"
          },
          "showarrow": false,
          "text": "0.56",
          "x": "claps",
          "xref": "x",
          "y": "<tag>Towards Data Science",
          "yref": "y"
         },
         {
          "font": {
           "color": "#FFFFFF"
          },
          "showarrow": false,
          "text": "-0.23",
          "x": "days_since_publication",
          "xref": "x",
          "y": "<tag>Towards Data Science",
          "yref": "y"
         },
         {
          "font": {
           "color": "#000000"
          },
          "showarrow": false,
          "text": "0.57",
          "x": "fans",
          "xref": "x",
          "y": "<tag>Towards Data Science",
          "yref": "y"
         },
         {
          "font": {
           "color": "#000000"
          },
          "showarrow": false,
          "text": "0.52",
          "x": "num_responses",
          "xref": "x",
          "y": "<tag>Towards Data Science",
          "yref": "y"
         },
         {
          "font": {
           "color": "#FFFFFF"
          },
          "showarrow": false,
          "text": "-0.05",
          "x": "read_ratio",
          "xref": "x",
          "y": "<tag>Towards Data Science",
          "yref": "y"
         },
         {
          "font": {
           "color": "#FFFFFF"
          },
          "showarrow": false,
          "text": "-0.23",
          "x": "read_time",
          "xref": "x",
          "y": "<tag>Towards Data Science",
          "yref": "y"
         },
         {
          "font": {
           "color": "#000000"
          },
          "showarrow": false,
          "text": "0.36",
          "x": "reads",
          "xref": "x",
          "y": "<tag>Towards Data Science",
          "yref": "y"
         },
         {
          "font": {
           "color": "#000000"
          },
          "showarrow": false,
          "text": "0.35",
          "x": "title_word_count",
          "xref": "x",
          "y": "<tag>Towards Data Science",
          "yref": "y"
         },
         {
          "font": {
           "color": "#000000"
          },
          "showarrow": false,
          "text": "0.35",
          "x": "views",
          "xref": "x",
          "y": "<tag>Towards Data Science",
          "yref": "y"
         },
         {
          "font": {
           "color": "#FFFFFF"
          },
          "showarrow": false,
          "text": "-0.21",
          "x": "word_count",
          "xref": "x",
          "y": "<tag>Towards Data Science",
          "yref": "y"
         },
         {
          "font": {
           "color": "#000000"
          },
          "showarrow": false,
          "text": "0.37",
          "x": "claps_per_word",
          "xref": "x",
          "y": "<tag>Towards Data Science",
          "yref": "y"
         },
         {
          "font": {
           "color": "#FFFFFF"
          },
          "showarrow": false,
          "text": "-0.19",
          "x": "editing_days",
          "xref": "x",
          "y": "<tag>Towards Data Science",
          "yref": "y"
         },
         {
          "font": {
           "color": "#000000"
          },
          "showarrow": false,
          "text": "0.37",
          "x": "<tag>Education",
          "xref": "x",
          "y": "<tag>Towards Data Science",
          "yref": "y"
         },
         {
          "font": {
           "color": "#000000"
          },
          "showarrow": false,
          "text": "0.33",
          "x": "<tag>Data Science",
          "xref": "x",
          "y": "<tag>Towards Data Science",
          "yref": "y"
         },
         {
          "font": {
           "color": "#000000"
          },
          "showarrow": false,
          "text": "1.0",
          "x": "<tag>Towards Data Science",
          "xref": "x",
          "y": "<tag>Towards Data Science",
          "yref": "y"
         },
         {
          "font": {
           "color": "#000000"
          },
          "showarrow": false,
          "text": "0.17",
          "x": "<tag>Machine Learning",
          "xref": "x",
          "y": "<tag>Towards Data Science",
          "yref": "y"
         },
         {
          "font": {
           "color": "#000000"
          },
          "showarrow": false,
          "text": "0.25",
          "x": "<tag>Python",
          "xref": "x",
          "y": "<tag>Towards Data Science",
          "yref": "y"
         },
         {
          "font": {
           "color": "#FFFFFF"
          },
          "showarrow": false,
          "text": "-0.01",
          "x": "time_started",
          "xref": "x",
          "y": "<tag>Towards Data Science",
          "yref": "y"
         },
         {
          "font": {
           "color": "#FFFFFF"
          },
          "showarrow": false,
          "text": "-0.24",
          "x": "time_published",
          "xref": "x",
          "y": "<tag>Towards Data Science",
          "yref": "y"
         },
         {
          "font": {
           "color": "#000000"
          },
          "showarrow": false,
          "text": "0.16",
          "x": "claps",
          "xref": "x",
          "y": "<tag>Machine Learning",
          "yref": "y"
         },
         {
          "font": {
           "color": "#FFFFFF"
          },
          "showarrow": false,
          "text": "-0.12",
          "x": "days_since_publication",
          "xref": "x",
          "y": "<tag>Machine Learning",
          "yref": "y"
         },
         {
          "font": {
           "color": "#000000"
          },
          "showarrow": false,
          "text": "0.18",
          "x": "fans",
          "xref": "x",
          "y": "<tag>Machine Learning",
          "yref": "y"
         },
         {
          "font": {
           "color": "#FFFFFF"
          },
          "showarrow": false,
          "text": "0.08",
          "x": "num_responses",
          "xref": "x",
          "y": "<tag>Machine Learning",
          "yref": "y"
         },
         {
          "font": {
           "color": "#FFFFFF"
          },
          "showarrow": false,
          "text": "-0.32",
          "x": "read_ratio",
          "xref": "x",
          "y": "<tag>Machine Learning",
          "yref": "y"
         },
         {
          "font": {
           "color": "#000000"
          },
          "showarrow": false,
          "text": "0.21",
          "x": "read_time",
          "xref": "x",
          "y": "<tag>Machine Learning",
          "yref": "y"
         },
         {
          "font": {
           "color": "#000000"
          },
          "showarrow": false,
          "text": "0.2",
          "x": "reads",
          "xref": "x",
          "y": "<tag>Machine Learning",
          "yref": "y"
         },
         {
          "font": {
           "color": "#000000"
          },
          "showarrow": false,
          "text": "0.26",
          "x": "title_word_count",
          "xref": "x",
          "y": "<tag>Machine Learning",
          "yref": "y"
         },
         {
          "font": {
           "color": "#000000"
          },
          "showarrow": false,
          "text": "0.28",
          "x": "views",
          "xref": "x",
          "y": "<tag>Machine Learning",
          "yref": "y"
         },
         {
          "font": {
           "color": "#000000"
          },
          "showarrow": false,
          "text": "0.19",
          "x": "word_count",
          "xref": "x",
          "y": "<tag>Machine Learning",
          "yref": "y"
         },
         {
          "font": {
           "color": "#FFFFFF"
          },
          "showarrow": false,
          "text": "-0.03",
          "x": "claps_per_word",
          "xref": "x",
          "y": "<tag>Machine Learning",
          "yref": "y"
         },
         {
          "font": {
           "color": "#000000"
          },
          "showarrow": false,
          "text": "0.25",
          "x": "editing_days",
          "xref": "x",
          "y": "<tag>Machine Learning",
          "yref": "y"
         },
         {
          "font": {
           "color": "#000000"
          },
          "showarrow": false,
          "text": "0.13",
          "x": "<tag>Education",
          "xref": "x",
          "y": "<tag>Machine Learning",
          "yref": "y"
         },
         {
          "font": {
           "color": "#000000"
          },
          "showarrow": false,
          "text": "0.33",
          "x": "<tag>Data Science",
          "xref": "x",
          "y": "<tag>Machine Learning",
          "yref": "y"
         },
         {
          "font": {
           "color": "#000000"
          },
          "showarrow": false,
          "text": "0.17",
          "x": "<tag>Towards Data Science",
          "xref": "x",
          "y": "<tag>Machine Learning",
          "yref": "y"
         },
         {
          "font": {
           "color": "#000000"
          },
          "showarrow": false,
          "text": "1.0",
          "x": "<tag>Machine Learning",
          "xref": "x",
          "y": "<tag>Machine Learning",
          "yref": "y"
         },
         {
          "font": {
           "color": "#000000"
          },
          "showarrow": false,
          "text": "0.26",
          "x": "<tag>Python",
          "xref": "x",
          "y": "<tag>Machine Learning",
          "yref": "y"
         },
         {
          "font": {
           "color": "#FFFFFF"
          },
          "showarrow": false,
          "text": "-0.05",
          "x": "time_started",
          "xref": "x",
          "y": "<tag>Machine Learning",
          "yref": "y"
         },
         {
          "font": {
           "color": "#FFFFFF"
          },
          "showarrow": false,
          "text": "0.02",
          "x": "time_published",
          "xref": "x",
          "y": "<tag>Machine Learning",
          "yref": "y"
         },
         {
          "font": {
           "color": "#000000"
          },
          "showarrow": false,
          "text": "0.29",
          "x": "claps",
          "xref": "x",
          "y": "<tag>Python",
          "yref": "y"
         },
         {
          "font": {
           "color": "#FFFFFF"
          },
          "showarrow": false,
          "text": "0.11",
          "x": "days_since_publication",
          "xref": "x",
          "y": "<tag>Python",
          "yref": "y"
         },
         {
          "font": {
           "color": "#000000"
          },
          "showarrow": false,
          "text": "0.29",
          "x": "fans",
          "xref": "x",
          "y": "<tag>Python",
          "yref": "y"
         },
         {
          "font": {
           "color": "#000000"
          },
          "showarrow": false,
          "text": "0.29",
          "x": "num_responses",
          "xref": "x",
          "y": "<tag>Python",
          "yref": "y"
         },
         {
          "font": {
           "color": "#FFFFFF"
          },
          "showarrow": false,
          "text": "-0.2",
          "x": "read_ratio",
          "xref": "x",
          "y": "<tag>Python",
          "yref": "y"
         },
         {
          "font": {
           "color": "#FFFFFF"
          },
          "showarrow": false,
          "text": "0.09",
          "x": "read_time",
          "xref": "x",
          "y": "<tag>Python",
          "yref": "y"
         },
         {
          "font": {
           "color": "#000000"
          },
          "showarrow": false,
          "text": "0.39",
          "x": "reads",
          "xref": "x",
          "y": "<tag>Python",
          "yref": "y"
         },
         {
          "font": {
           "color": "#000000"
          },
          "showarrow": false,
          "text": "0.27",
          "x": "title_word_count",
          "xref": "x",
          "y": "<tag>Python",
          "yref": "y"
         },
         {
          "font": {
           "color": "#000000"
          },
          "showarrow": false,
          "text": "0.43",
          "x": "views",
          "xref": "x",
          "y": "<tag>Python",
          "yref": "y"
         },
         {
          "font": {
           "color": "#FFFFFF"
          },
          "showarrow": false,
          "text": "0.03",
          "x": "word_count",
          "xref": "x",
          "y": "<tag>Python",
          "yref": "y"
         },
         {
          "font": {
           "color": "#000000"
          },
          "showarrow": false,
          "text": "0.21",
          "x": "claps_per_word",
          "xref": "x",
          "y": "<tag>Python",
          "yref": "y"
         },
         {
          "font": {
           "color": "#FFFFFF"
          },
          "showarrow": false,
          "text": "-0.17",
          "x": "editing_days",
          "xref": "x",
          "y": "<tag>Python",
          "yref": "y"
         },
         {
          "font": {
           "color": "#FFFFFF"
          },
          "showarrow": false,
          "text": "-0.09",
          "x": "<tag>Education",
          "xref": "x",
          "y": "<tag>Python",
          "yref": "y"
         },
         {
          "font": {
           "color": "#FFFFFF"
          },
          "showarrow": false,
          "text": "0.07",
          "x": "<tag>Data Science",
          "xref": "x",
          "y": "<tag>Python",
          "yref": "y"
         },
         {
          "font": {
           "color": "#000000"
          },
          "showarrow": false,
          "text": "0.25",
          "x": "<tag>Towards Data Science",
          "xref": "x",
          "y": "<tag>Python",
          "yref": "y"
         },
         {
          "font": {
           "color": "#000000"
          },
          "showarrow": false,
          "text": "0.26",
          "x": "<tag>Machine Learning",
          "xref": "x",
          "y": "<tag>Python",
          "yref": "y"
         },
         {
          "font": {
           "color": "#000000"
          },
          "showarrow": false,
          "text": "1.0",
          "x": "<tag>Python",
          "xref": "x",
          "y": "<tag>Python",
          "yref": "y"
         },
         {
          "font": {
           "color": "#FFFFFF"
          },
          "showarrow": false,
          "text": "-0.07",
          "x": "time_started",
          "xref": "x",
          "y": "<tag>Python",
          "yref": "y"
         },
         {
          "font": {
           "color": "#FFFFFF"
          },
          "showarrow": false,
          "text": "-0.05",
          "x": "time_published",
          "xref": "x",
          "y": "<tag>Python",
          "yref": "y"
         },
         {
          "font": {
           "color": "#FFFFFF"
          },
          "showarrow": false,
          "text": "-0.04",
          "x": "claps",
          "xref": "x",
          "y": "time_started",
          "yref": "y"
         },
         {
          "font": {
           "color": "#FFFFFF"
          },
          "showarrow": false,
          "text": "0.11",
          "x": "days_since_publication",
          "xref": "x",
          "y": "time_started",
          "yref": "y"
         },
         {
          "font": {
           "color": "#FFFFFF"
          },
          "showarrow": false,
          "text": "-0.04",
          "x": "fans",
          "xref": "x",
          "y": "time_started",
          "yref": "y"
         },
         {
          "font": {
           "color": "#FFFFFF"
          },
          "showarrow": false,
          "text": "-0.02",
          "x": "num_responses",
          "xref": "x",
          "y": "time_started",
          "yref": "y"
         },
         {
          "font": {
           "color": "#FFFFFF"
          },
          "showarrow": false,
          "text": "-0.01",
          "x": "read_ratio",
          "xref": "x",
          "y": "time_started",
          "yref": "y"
         },
         {
          "font": {
           "color": "#FFFFFF"
          },
          "showarrow": false,
          "text": "-0.14",
          "x": "read_time",
          "xref": "x",
          "y": "time_started",
          "yref": "y"
         },
         {
          "font": {
           "color": "#FFFFFF"
          },
          "showarrow": false,
          "text": "0.02",
          "x": "reads",
          "xref": "x",
          "y": "time_started",
          "yref": "y"
         },
         {
          "font": {
           "color": "#FFFFFF"
          },
          "showarrow": false,
          "text": "-0.05",
          "x": "title_word_count",
          "xref": "x",
          "y": "time_started",
          "yref": "y"
         },
         {
          "font": {
           "color": "#FFFFFF"
          },
          "showarrow": false,
          "text": "0.01",
          "x": "views",
          "xref": "x",
          "y": "time_started",
          "yref": "y"
         },
         {
          "font": {
           "color": "#FFFFFF"
          },
          "showarrow": false,
          "text": "-0.13",
          "x": "word_count",
          "xref": "x",
          "y": "time_started",
          "yref": "y"
         },
         {
          "font": {
           "color": "#FFFFFF"
          },
          "showarrow": false,
          "text": "-0.09",
          "x": "claps_per_word",
          "xref": "x",
          "y": "time_started",
          "yref": "y"
         },
         {
          "font": {
           "color": "#FFFFFF"
          },
          "showarrow": false,
          "text": "-0.31",
          "x": "editing_days",
          "xref": "x",
          "y": "time_started",
          "yref": "y"
         },
         {
          "font": {
           "color": "#FFFFFF"
          },
          "showarrow": false,
          "text": "-0.08",
          "x": "<tag>Education",
          "xref": "x",
          "y": "time_started",
          "yref": "y"
         },
         {
          "font": {
           "color": "#FFFFFF"
          },
          "showarrow": false,
          "text": "0.01",
          "x": "<tag>Data Science",
          "xref": "x",
          "y": "time_started",
          "yref": "y"
         },
         {
          "font": {
           "color": "#FFFFFF"
          },
          "showarrow": false,
          "text": "-0.01",
          "x": "<tag>Towards Data Science",
          "xref": "x",
          "y": "time_started",
          "yref": "y"
         },
         {
          "font": {
           "color": "#FFFFFF"
          },
          "showarrow": false,
          "text": "-0.05",
          "x": "<tag>Machine Learning",
          "xref": "x",
          "y": "time_started",
          "yref": "y"
         },
         {
          "font": {
           "color": "#FFFFFF"
          },
          "showarrow": false,
          "text": "-0.07",
          "x": "<tag>Python",
          "xref": "x",
          "y": "time_started",
          "yref": "y"
         },
         {
          "font": {
           "color": "#000000"
          },
          "showarrow": false,
          "text": "1.0",
          "x": "time_started",
          "xref": "x",
          "y": "time_started",
          "yref": "y"
         },
         {
          "font": {
           "color": "#FFFFFF"
          },
          "showarrow": false,
          "text": "0.02",
          "x": "time_published",
          "xref": "x",
          "y": "time_started",
          "yref": "y"
         },
         {
          "font": {
           "color": "#FFFFFF"
          },
          "showarrow": false,
          "text": "-0.2",
          "x": "claps",
          "xref": "x",
          "y": "time_published",
          "yref": "y"
         },
         {
          "font": {
           "color": "#FFFFFF"
          },
          "showarrow": false,
          "text": "-0.01",
          "x": "days_since_publication",
          "xref": "x",
          "y": "time_published",
          "yref": "y"
         },
         {
          "font": {
           "color": "#FFFFFF"
          },
          "showarrow": false,
          "text": "-0.18",
          "x": "fans",
          "xref": "x",
          "y": "time_published",
          "yref": "y"
         },
         {
          "font": {
           "color": "#FFFFFF"
          },
          "showarrow": false,
          "text": "-0.19",
          "x": "num_responses",
          "xref": "x",
          "y": "time_published",
          "yref": "y"
         },
         {
          "font": {
           "color": "#FFFFFF"
          },
          "showarrow": false,
          "text": "0.0",
          "x": "read_ratio",
          "xref": "x",
          "y": "time_published",
          "yref": "y"
         },
         {
          "font": {
           "color": "#000000"
          },
          "showarrow": false,
          "text": "0.14",
          "x": "read_time",
          "xref": "x",
          "y": "time_published",
          "yref": "y"
         },
         {
          "font": {
           "color": "#FFFFFF"
          },
          "showarrow": false,
          "text": "-0.09",
          "x": "reads",
          "xref": "x",
          "y": "time_published",
          "yref": "y"
         },
         {
          "font": {
           "color": "#FFFFFF"
          },
          "showarrow": false,
          "text": "-0.21",
          "x": "title_word_count",
          "xref": "x",
          "y": "time_published",
          "yref": "y"
         },
         {
          "font": {
           "color": "#FFFFFF"
          },
          "showarrow": false,
          "text": "-0.09",
          "x": "views",
          "xref": "x",
          "y": "time_published",
          "yref": "y"
         },
         {
          "font": {
           "color": "#000000"
          },
          "showarrow": false,
          "text": "0.12",
          "x": "word_count",
          "xref": "x",
          "y": "time_published",
          "yref": "y"
         },
         {
          "font": {
           "color": "#FFFFFF"
          },
          "showarrow": false,
          "text": "-0.13",
          "x": "claps_per_word",
          "xref": "x",
          "y": "time_published",
          "yref": "y"
         },
         {
          "font": {
           "color": "#000000"
          },
          "showarrow": false,
          "text": "0.29",
          "x": "editing_days",
          "xref": "x",
          "y": "time_published",
          "yref": "y"
         },
         {
          "font": {
           "color": "#FFFFFF"
          },
          "showarrow": false,
          "text": "-0.13",
          "x": "<tag>Education",
          "xref": "x",
          "y": "time_published",
          "yref": "y"
         },
         {
          "font": {
           "color": "#FFFFFF"
          },
          "showarrow": false,
          "text": "0.02",
          "x": "<tag>Data Science",
          "xref": "x",
          "y": "time_published",
          "yref": "y"
         },
         {
          "font": {
           "color": "#FFFFFF"
          },
          "showarrow": false,
          "text": "-0.24",
          "x": "<tag>Towards Data Science",
          "xref": "x",
          "y": "time_published",
          "yref": "y"
         },
         {
          "font": {
           "color": "#FFFFFF"
          },
          "showarrow": false,
          "text": "0.02",
          "x": "<tag>Machine Learning",
          "xref": "x",
          "y": "time_published",
          "yref": "y"
         },
         {
          "font": {
           "color": "#FFFFFF"
          },
          "showarrow": false,
          "text": "-0.05",
          "x": "<tag>Python",
          "xref": "x",
          "y": "time_published",
          "yref": "y"
         },
         {
          "font": {
           "color": "#FFFFFF"
          },
          "showarrow": false,
          "text": "0.02",
          "x": "time_started",
          "xref": "x",
          "y": "time_published",
          "yref": "y"
         },
         {
          "font": {
           "color": "#000000"
          },
          "showarrow": false,
          "text": "1.0",
          "x": "time_published",
          "xref": "x",
          "y": "time_published",
          "yref": "y"
         }
        ],
        "template": {
         "data": {
          "bar": [
           {
            "error_x": {
             "color": "#2a3f5f"
            },
            "error_y": {
             "color": "#2a3f5f"
            },
            "marker": {
             "line": {
              "color": "#E5ECF6",
              "width": 0.5
             },
             "pattern": {
              "fillmode": "overlay",
              "size": 10,
              "solidity": 0.2
             }
            },
            "type": "bar"
           }
          ],
          "barpolar": [
           {
            "marker": {
             "line": {
              "color": "#E5ECF6",
              "width": 0.5
             },
             "pattern": {
              "fillmode": "overlay",
              "size": 10,
              "solidity": 0.2
             }
            },
            "type": "barpolar"
           }
          ],
          "carpet": [
           {
            "aaxis": {
             "endlinecolor": "#2a3f5f",
             "gridcolor": "white",
             "linecolor": "white",
             "minorgridcolor": "white",
             "startlinecolor": "#2a3f5f"
            },
            "baxis": {
             "endlinecolor": "#2a3f5f",
             "gridcolor": "white",
             "linecolor": "white",
             "minorgridcolor": "white",
             "startlinecolor": "#2a3f5f"
            },
            "type": "carpet"
           }
          ],
          "choropleth": [
           {
            "colorbar": {
             "outlinewidth": 0,
             "ticks": ""
            },
            "type": "choropleth"
           }
          ],
          "contour": [
           {
            "colorbar": {
             "outlinewidth": 0,
             "ticks": ""
            },
            "colorscale": [
             [
              0,
              "#0d0887"
             ],
             [
              0.1111111111111111,
              "#46039f"
             ],
             [
              0.2222222222222222,
              "#7201a8"
             ],
             [
              0.3333333333333333,
              "#9c179e"
             ],
             [
              0.4444444444444444,
              "#bd3786"
             ],
             [
              0.5555555555555556,
              "#d8576b"
             ],
             [
              0.6666666666666666,
              "#ed7953"
             ],
             [
              0.7777777777777778,
              "#fb9f3a"
             ],
             [
              0.8888888888888888,
              "#fdca26"
             ],
             [
              1,
              "#f0f921"
             ]
            ],
            "type": "contour"
           }
          ],
          "contourcarpet": [
           {
            "colorbar": {
             "outlinewidth": 0,
             "ticks": ""
            },
            "type": "contourcarpet"
           }
          ],
          "heatmap": [
           {
            "colorbar": {
             "outlinewidth": 0,
             "ticks": ""
            },
            "colorscale": [
             [
              0,
              "#0d0887"
             ],
             [
              0.1111111111111111,
              "#46039f"
             ],
             [
              0.2222222222222222,
              "#7201a8"
             ],
             [
              0.3333333333333333,
              "#9c179e"
             ],
             [
              0.4444444444444444,
              "#bd3786"
             ],
             [
              0.5555555555555556,
              "#d8576b"
             ],
             [
              0.6666666666666666,
              "#ed7953"
             ],
             [
              0.7777777777777778,
              "#fb9f3a"
             ],
             [
              0.8888888888888888,
              "#fdca26"
             ],
             [
              1,
              "#f0f921"
             ]
            ],
            "type": "heatmap"
           }
          ],
          "heatmapgl": [
           {
            "colorbar": {
             "outlinewidth": 0,
             "ticks": ""
            },
            "colorscale": [
             [
              0,
              "#0d0887"
             ],
             [
              0.1111111111111111,
              "#46039f"
             ],
             [
              0.2222222222222222,
              "#7201a8"
             ],
             [
              0.3333333333333333,
              "#9c179e"
             ],
             [
              0.4444444444444444,
              "#bd3786"
             ],
             [
              0.5555555555555556,
              "#d8576b"
             ],
             [
              0.6666666666666666,
              "#ed7953"
             ],
             [
              0.7777777777777778,
              "#fb9f3a"
             ],
             [
              0.8888888888888888,
              "#fdca26"
             ],
             [
              1,
              "#f0f921"
             ]
            ],
            "type": "heatmapgl"
           }
          ],
          "histogram": [
           {
            "marker": {
             "pattern": {
              "fillmode": "overlay",
              "size": 10,
              "solidity": 0.2
             }
            },
            "type": "histogram"
           }
          ],
          "histogram2d": [
           {
            "colorbar": {
             "outlinewidth": 0,
             "ticks": ""
            },
            "colorscale": [
             [
              0,
              "#0d0887"
             ],
             [
              0.1111111111111111,
              "#46039f"
             ],
             [
              0.2222222222222222,
              "#7201a8"
             ],
             [
              0.3333333333333333,
              "#9c179e"
             ],
             [
              0.4444444444444444,
              "#bd3786"
             ],
             [
              0.5555555555555556,
              "#d8576b"
             ],
             [
              0.6666666666666666,
              "#ed7953"
             ],
             [
              0.7777777777777778,
              "#fb9f3a"
             ],
             [
              0.8888888888888888,
              "#fdca26"
             ],
             [
              1,
              "#f0f921"
             ]
            ],
            "type": "histogram2d"
           }
          ],
          "histogram2dcontour": [
           {
            "colorbar": {
             "outlinewidth": 0,
             "ticks": ""
            },
            "colorscale": [
             [
              0,
              "#0d0887"
             ],
             [
              0.1111111111111111,
              "#46039f"
             ],
             [
              0.2222222222222222,
              "#7201a8"
             ],
             [
              0.3333333333333333,
              "#9c179e"
             ],
             [
              0.4444444444444444,
              "#bd3786"
             ],
             [
              0.5555555555555556,
              "#d8576b"
             ],
             [
              0.6666666666666666,
              "#ed7953"
             ],
             [
              0.7777777777777778,
              "#fb9f3a"
             ],
             [
              0.8888888888888888,
              "#fdca26"
             ],
             [
              1,
              "#f0f921"
             ]
            ],
            "type": "histogram2dcontour"
           }
          ],
          "mesh3d": [
           {
            "colorbar": {
             "outlinewidth": 0,
             "ticks": ""
            },
            "type": "mesh3d"
           }
          ],
          "parcoords": [
           {
            "line": {
             "colorbar": {
              "outlinewidth": 0,
              "ticks": ""
             }
            },
            "type": "parcoords"
           }
          ],
          "pie": [
           {
            "automargin": true,
            "type": "pie"
           }
          ],
          "scatter": [
           {
            "marker": {
             "colorbar": {
              "outlinewidth": 0,
              "ticks": ""
             }
            },
            "type": "scatter"
           }
          ],
          "scatter3d": [
           {
            "line": {
             "colorbar": {
              "outlinewidth": 0,
              "ticks": ""
             }
            },
            "marker": {
             "colorbar": {
              "outlinewidth": 0,
              "ticks": ""
             }
            },
            "type": "scatter3d"
           }
          ],
          "scattercarpet": [
           {
            "marker": {
             "colorbar": {
              "outlinewidth": 0,
              "ticks": ""
             }
            },
            "type": "scattercarpet"
           }
          ],
          "scattergeo": [
           {
            "marker": {
             "colorbar": {
              "outlinewidth": 0,
              "ticks": ""
             }
            },
            "type": "scattergeo"
           }
          ],
          "scattergl": [
           {
            "marker": {
             "colorbar": {
              "outlinewidth": 0,
              "ticks": ""
             }
            },
            "type": "scattergl"
           }
          ],
          "scattermapbox": [
           {
            "marker": {
             "colorbar": {
              "outlinewidth": 0,
              "ticks": ""
             }
            },
            "type": "scattermapbox"
           }
          ],
          "scatterpolar": [
           {
            "marker": {
             "colorbar": {
              "outlinewidth": 0,
              "ticks": ""
             }
            },
            "type": "scatterpolar"
           }
          ],
          "scatterpolargl": [
           {
            "marker": {
             "colorbar": {
              "outlinewidth": 0,
              "ticks": ""
             }
            },
            "type": "scatterpolargl"
           }
          ],
          "scatterternary": [
           {
            "marker": {
             "colorbar": {
              "outlinewidth": 0,
              "ticks": ""
             }
            },
            "type": "scatterternary"
           }
          ],
          "surface": [
           {
            "colorbar": {
             "outlinewidth": 0,
             "ticks": ""
            },
            "colorscale": [
             [
              0,
              "#0d0887"
             ],
             [
              0.1111111111111111,
              "#46039f"
             ],
             [
              0.2222222222222222,
              "#7201a8"
             ],
             [
              0.3333333333333333,
              "#9c179e"
             ],
             [
              0.4444444444444444,
              "#bd3786"
             ],
             [
              0.5555555555555556,
              "#d8576b"
             ],
             [
              0.6666666666666666,
              "#ed7953"
             ],
             [
              0.7777777777777778,
              "#fb9f3a"
             ],
             [
              0.8888888888888888,
              "#fdca26"
             ],
             [
              1,
              "#f0f921"
             ]
            ],
            "type": "surface"
           }
          ],
          "table": [
           {
            "cells": {
             "fill": {
              "color": "#EBF0F8"
             },
             "line": {
              "color": "white"
             }
            },
            "header": {
             "fill": {
              "color": "#C8D4E3"
             },
             "line": {
              "color": "white"
             }
            },
            "type": "table"
           }
          ]
         },
         "layout": {
          "annotationdefaults": {
           "arrowcolor": "#2a3f5f",
           "arrowhead": 0,
           "arrowwidth": 1
          },
          "autotypenumbers": "strict",
          "coloraxis": {
           "colorbar": {
            "outlinewidth": 0,
            "ticks": ""
           }
          },
          "colorscale": {
           "diverging": [
            [
             0,
             "#8e0152"
            ],
            [
             0.1,
             "#c51b7d"
            ],
            [
             0.2,
             "#de77ae"
            ],
            [
             0.3,
             "#f1b6da"
            ],
            [
             0.4,
             "#fde0ef"
            ],
            [
             0.5,
             "#f7f7f7"
            ],
            [
             0.6,
             "#e6f5d0"
            ],
            [
             0.7,
             "#b8e186"
            ],
            [
             0.8,
             "#7fbc41"
            ],
            [
             0.9,
             "#4d9221"
            ],
            [
             1,
             "#276419"
            ]
           ],
           "sequential": [
            [
             0,
             "#0d0887"
            ],
            [
             0.1111111111111111,
             "#46039f"
            ],
            [
             0.2222222222222222,
             "#7201a8"
            ],
            [
             0.3333333333333333,
             "#9c179e"
            ],
            [
             0.4444444444444444,
             "#bd3786"
            ],
            [
             0.5555555555555556,
             "#d8576b"
            ],
            [
             0.6666666666666666,
             "#ed7953"
            ],
            [
             0.7777777777777778,
             "#fb9f3a"
            ],
            [
             0.8888888888888888,
             "#fdca26"
            ],
            [
             1,
             "#f0f921"
            ]
           ],
           "sequentialminus": [
            [
             0,
             "#0d0887"
            ],
            [
             0.1111111111111111,
             "#46039f"
            ],
            [
             0.2222222222222222,
             "#7201a8"
            ],
            [
             0.3333333333333333,
             "#9c179e"
            ],
            [
             0.4444444444444444,
             "#bd3786"
            ],
            [
             0.5555555555555556,
             "#d8576b"
            ],
            [
             0.6666666666666666,
             "#ed7953"
            ],
            [
             0.7777777777777778,
             "#fb9f3a"
            ],
            [
             0.8888888888888888,
             "#fdca26"
            ],
            [
             1,
             "#f0f921"
            ]
           ]
          },
          "colorway": [
           "#636efa",
           "#EF553B",
           "#00cc96",
           "#ab63fa",
           "#FFA15A",
           "#19d3f3",
           "#FF6692",
           "#B6E880",
           "#FF97FF",
           "#FECB52"
          ],
          "font": {
           "color": "#2a3f5f"
          },
          "geo": {
           "bgcolor": "white",
           "lakecolor": "white",
           "landcolor": "#E5ECF6",
           "showlakes": true,
           "showland": true,
           "subunitcolor": "white"
          },
          "hoverlabel": {
           "align": "left"
          },
          "hovermode": "closest",
          "mapbox": {
           "style": "light"
          },
          "paper_bgcolor": "white",
          "plot_bgcolor": "#E5ECF6",
          "polar": {
           "angularaxis": {
            "gridcolor": "white",
            "linecolor": "white",
            "ticks": ""
           },
           "bgcolor": "#E5ECF6",
           "radialaxis": {
            "gridcolor": "white",
            "linecolor": "white",
            "ticks": ""
           }
          },
          "scene": {
           "xaxis": {
            "backgroundcolor": "#E5ECF6",
            "gridcolor": "white",
            "gridwidth": 2,
            "linecolor": "white",
            "showbackground": true,
            "ticks": "",
            "zerolinecolor": "white"
           },
           "yaxis": {
            "backgroundcolor": "#E5ECF6",
            "gridcolor": "white",
            "gridwidth": 2,
            "linecolor": "white",
            "showbackground": true,
            "ticks": "",
            "zerolinecolor": "white"
           },
           "zaxis": {
            "backgroundcolor": "#E5ECF6",
            "gridcolor": "white",
            "gridwidth": 2,
            "linecolor": "white",
            "showbackground": true,
            "ticks": "",
            "zerolinecolor": "white"
           }
          },
          "shapedefaults": {
           "line": {
            "color": "#2a3f5f"
           }
          },
          "ternary": {
           "aaxis": {
            "gridcolor": "white",
            "linecolor": "white",
            "ticks": ""
           },
           "baxis": {
            "gridcolor": "white",
            "linecolor": "white",
            "ticks": ""
           },
           "bgcolor": "#E5ECF6",
           "caxis": {
            "gridcolor": "white",
            "linecolor": "white",
            "ticks": ""
           }
          },
          "title": {
           "x": 0.05
          },
          "xaxis": {
           "automargin": true,
           "gridcolor": "white",
           "linecolor": "white",
           "ticks": "",
           "title": {
            "standoff": 15
           },
           "zerolinecolor": "white",
           "zerolinewidth": 2
          },
          "yaxis": {
           "automargin": true,
           "gridcolor": "white",
           "linecolor": "white",
           "ticks": "",
           "title": {
            "standoff": 15
           },
           "zerolinecolor": "white",
           "zerolinewidth": 2
          }
         }
        },
        "xaxis": {
         "dtick": 1,
         "gridcolor": "rgb(0, 0, 0)",
         "side": "top",
         "ticks": ""
        },
        "yaxis": {
         "dtick": 1,
         "ticks": "",
         "ticksuffix": "  "
        }
       }
      },
      "text/html": [
       "<div>                            <div id=\"d6f557db-ef5b-4af5-a683-3600c501d80c\" class=\"plotly-graph-div\" style=\"height:525px; width:100%;\"></div>            <script type=\"text/javascript\">                require([\"plotly\"], function(Plotly) {                    window.PLOTLYENV=window.PLOTLYENV || {};                                    if (document.getElementById(\"d6f557db-ef5b-4af5-a683-3600c501d80c\")) {                    Plotly.newPlot(                        \"d6f557db-ef5b-4af5-a683-3600c501d80c\",                        [{\"colorscale\":[[0.0,\"#0d0887\"],[0.1111111111111111,\"#46039f\"],[0.2222222222222222,\"#7201a8\"],[0.3333333333333333,\"#9c179e\"],[0.4444444444444444,\"#bd3786\"],[0.5555555555555556,\"#d8576b\"],[0.6666666666666666,\"#ed7953\"],[0.7777777777777778,\"#fb9f3a\"],[0.8888888888888888,\"#fdca26\"],[1.0,\"#f0f921\"]],\"reversescale\":false,\"showscale\":true,\"type\":\"heatmap\",\"x\":[\"claps\",\"days_since_publication\",\"fans\",\"num_responses\",\"read_ratio\",\"read_time\",\"reads\",\"title_word_count\",\"views\",\"word_count\",\"claps_per_word\",\"editing_days\",\"<tag>Education\",\"<tag>Data Science\",\"<tag>Towards Data Science\",\"<tag>Machine Learning\",\"<tag>Python\",\"time_started\",\"time_published\"],\"y\":[\"claps\",\"days_since_publication\",\"fans\",\"num_responses\",\"read_ratio\",\"read_time\",\"reads\",\"title_word_count\",\"views\",\"word_count\",\"claps_per_word\",\"editing_days\",\"<tag>Education\",\"<tag>Data Science\",\"<tag>Towards Data Science\",\"<tag>Machine Learning\",\"<tag>Python\",\"time_started\",\"time_published\"],\"z\":[[1.0,-0.01832353084377772,0.992432537393527,0.8997512060007541,0.002893365516358854,-0.1787548656540889,0.7624671546562749,0.1284950081841725,0.7401473973713971,-0.1781605000086887,0.7698727413500885,-0.17173088709340334,0.21202645476292908,0.3372575532463509,0.5562318721284,0.1588437336672325,0.28597096535613176,-0.042479217021332935,-0.20289786575040292],[-0.01832353084377772,1.0,-0.027674765166862653,0.02174386916143576,0.08822465738832146,0.13513440056818032,0.1352210059418662,-0.1955981523348353,0.12343251070961894,0.0925098188285587,-0.009817768215210116,-0.3188532574940015,-0.7654182718184352,-0.3292440055991661,-0.23305556042000702,-0.11538704504210186,0.10677738166047655,0.1094745016719111,-0.007508997367827203],[0.992432537393527,-0.027674765166862653,1.0,0.8760915056971733,-0.014310423502634714,-0.1794315856870691,0.7747623009900383,0.13792461815197984,0.7608954509334058,-0.17943598177959158,0.7399629273274889,-0.17161128270336204,0.21072647038258696,0.34313122928076856,0.5655058234044338,0.17779348162550576,0.29346867217530237,-0.04149097712124209,-0.17721299223960907],[0.8997512060007541,0.02174386916143576,0.8760915056971733,1.0,0.09952809476375507,-0.20525839954503916,0.7686427992020333,0.07038475719127593,0.7102976911016919,-0.20811780710607478,0.7997410094271279,-0.184661111087614,0.14364204258056962,0.3074463702913578,0.5223830710975409,0.08215798590812969,0.29354346663682723,-0.02210615735407949,-0.19181270329526215],[0.002893365516358854,0.08822465738832146,-0.014310423502634714,0.09952809476375507,1.0,-0.6267814338836203,0.03022956344890229,0.04410797455697079,-0.13271559428420157,-0.5671023035894809,0.28822164133802597,-0.18918419503743633,0.0625136654341583,-0.044663740349978165,-0.053926936158719824,-0.318949796709692,-0.20478382679208737,-0.007142225302041877,0.0018215343135615837],[-0.1787548656540889,0.13513440056818032,-0.1794315856870691,-0.20525839954503916,-0.6267814338836203,1.0,-0.1520205467751048,-0.1498719425003169,-0.06835987177965065,0.9636490099573858,-0.2423252745801214,0.4504873434945466,-0.272005635982485,-0.07694559684292489,-0.22538911505982087,0.20973037452260856,0.09436904196464696,-0.1406427673066332,0.1366547290530644],[0.7624671546562749,0.1352210059418662,0.7747623009900383,0.7686427992020333,0.03022956344890229,-0.1520205467751048,1.0,0.05429000813570461,0.937614792151383,-0.17018963615224209,0.5464489649382667,-0.1744888108287144,-0.05194854873464822,0.33268881475619705,0.3597905026952255,0.19826020662800609,0.39254366553012565,0.024895639206325298,-0.09183619585906753],[0.1284950081841725,-0.1955981523348353,0.13792461815197984,0.07038475719127593,0.04410797455697079,-0.1498719425003169,0.05429000813570461,1.0,0.04925116492799243,-0.15758027059437155,0.11279024395969514,-0.09606614514827308,0.2800634866645081,0.14753196433734128,0.3490906373211262,0.25629827766491614,0.27360962258062227,-0.04609438455032274,-0.21300414247726748],[0.7401473973713971,0.12343251070961894,0.7608954509334058,0.7102976911016919,-0.13271559428420157,-0.06835987177965065,0.937614792151383,0.04925116492799243,1.0,-0.0981705981416308,0.38371288000016973,-0.16834623534896884,-0.06498631383458754,0.3140845509046596,0.3463211400263249,0.2781073143213818,0.431843896906898,0.01439961505695247,-0.09432067754827564],[-0.1781605000086887,0.0925098188285587,-0.17943598177959158,-0.20811780710607478,-0.5671023035894809,0.9636490099573858,-0.17018963615224209,-0.15758027059437155,-0.0981705981416308,1.0,-0.23712601355104923,0.46012583385516614,-0.22415041422203127,-0.08844310294766881,-0.20969334256876077,0.1864444859967605,0.02906874915115937,-0.1295478581381199,0.12096302214454774],[0.7698727413500885,-0.009817768215210116,0.7399629273274889,0.7997410094271279,0.28822164133802597,-0.2423252745801214,0.5464489649382667,0.11279024395969514,0.38371288000016973,-0.23712601355104923,1.0,-0.12407617914070676,0.20134430090033653,0.2501424237919298,0.37239676091891954,-0.03069594656027834,0.20761934616732552,-0.08978893847589892,-0.12801479465863846],[-0.17173088709340334,-0.3188532574940015,-0.17161128270336204,-0.184661111087614,-0.18918419503743633,0.4504873434945466,-0.1744888108287144,-0.09606614514827308,-0.16834623534896884,0.46012583385516614,-0.12407617914070676,1.0,0.16959505517115547,0.1488418233882204,-0.19305412284174353,0.2529901027286986,-0.16917682451459728,-0.3123985330567932,0.2919389091017332],[0.21202645476292908,-0.7654182718184352,0.21072647038258696,0.14364204258056962,0.0625136654341583,-0.272005635982485,-0.05194854873464822,0.2800634866645081,-0.06498631383458754,-0.22415041422203127,0.20134430090033653,0.16959505517115547,1.0,0.3243374865704013,0.37021987683219576,0.12782749814122835,-0.08570745344089296,-0.07726303895217934,-0.13303506233892615],[0.3372575532463509,-0.3292440055991661,0.34313122928076856,0.3074463702913578,-0.044663740349978165,-0.07694559684292489,0.33268881475619705,0.14753196433734128,0.3140845509046596,-0.08844310294766881,0.2501424237919298,0.1488418233882204,0.3243374865704013,1.0,0.32897584747988445,0.3261460957654415,0.06756492368249375,0.008535584870774014,0.023667276991009872],[0.5562318721284,-0.23305556042000702,0.5655058234044338,0.5223830710975409,-0.053926936158719824,-0.22538911505982087,0.3597905026952255,0.3490906373211262,0.3463211400263249,-0.20969334256876077,0.37239676091891954,-0.19305412284174353,0.37021987683219576,0.32897584747988445,1.0,0.16803361008336112,0.2542794886444624,-0.008005096895778916,-0.24376649677862408],[0.1588437336672325,-0.11538704504210186,0.17779348162550576,0.08215798590812969,-0.318949796709692,0.20973037452260856,0.19826020662800609,0.25629827766491614,0.2781073143213818,0.1864444859967605,-0.03069594656027834,0.2529901027286986,0.12782749814122835,0.3261460957654415,0.16803361008336112,1.0,0.255543319981575,-0.04642133015460111,0.023541479288635588],[0.28597096535613176,0.10677738166047655,0.29346867217530237,0.29354346663682723,-0.20478382679208737,0.09436904196464696,0.39254366553012565,0.27360962258062227,0.431843896906898,0.02906874915115937,0.20761934616732552,-0.16917682451459728,-0.08570745344089296,0.06756492368249375,0.2542794886444624,0.255543319981575,1.0,-0.06787946404161557,-0.05401802110625528],[-0.042479217021332935,0.1094745016719111,-0.04149097712124209,-0.02210615735407949,-0.007142225302041877,-0.1406427673066332,0.024895639206325298,-0.04609438455032274,0.01439961505695247,-0.1295478581381199,-0.08978893847589892,-0.3123985330567932,-0.07726303895217934,0.008535584870774014,-0.008005096895778916,-0.04642133015460111,-0.06787946404161557,1.0,0.024148332328394112],[-0.20289786575040292,-0.007508997367827203,-0.17721299223960907,-0.19181270329526215,0.0018215343135615837,0.1366547290530644,-0.09183619585906753,-0.21300414247726748,-0.09432067754827564,0.12096302214454774,-0.12801479465863846,0.2919389091017332,-0.13303506233892615,0.023667276991009872,-0.24376649677862408,0.023541479288635588,-0.05401802110625528,0.024148332328394112,1.0]]}],                        {\"annotations\":[{\"font\":{\"color\":\"#000000\"},\"showarrow\":false,\"text\":\"1.0\",\"x\":\"claps\",\"xref\":\"x\",\"y\":\"claps\",\"yref\":\"y\"},{\"font\":{\"color\":\"#FFFFFF\"},\"showarrow\":false,\"text\":\"-0.02\",\"x\":\"days_since_publication\",\"xref\":\"x\",\"y\":\"claps\",\"yref\":\"y\"},{\"font\":{\"color\":\"#000000\"},\"showarrow\":false,\"text\":\"0.99\",\"x\":\"fans\",\"xref\":\"x\",\"y\":\"claps\",\"yref\":\"y\"},{\"font\":{\"color\":\"#000000\"},\"showarrow\":false,\"text\":\"0.9\",\"x\":\"num_responses\",\"xref\":\"x\",\"y\":\"claps\",\"yref\":\"y\"},{\"font\":{\"color\":\"#FFFFFF\"},\"showarrow\":false,\"text\":\"0.0\",\"x\":\"read_ratio\",\"xref\":\"x\",\"y\":\"claps\",\"yref\":\"y\"},{\"font\":{\"color\":\"#FFFFFF\"},\"showarrow\":false,\"text\":\"-0.18\",\"x\":\"read_time\",\"xref\":\"x\",\"y\":\"claps\",\"yref\":\"y\"},{\"font\":{\"color\":\"#000000\"},\"showarrow\":false,\"text\":\"0.76\",\"x\":\"reads\",\"xref\":\"x\",\"y\":\"claps\",\"yref\":\"y\"},{\"font\":{\"color\":\"#000000\"},\"showarrow\":false,\"text\":\"0.13\",\"x\":\"title_word_count\",\"xref\":\"x\",\"y\":\"claps\",\"yref\":\"y\"},{\"font\":{\"color\":\"#000000\"},\"showarrow\":false,\"text\":\"0.74\",\"x\":\"views\",\"xref\":\"x\",\"y\":\"claps\",\"yref\":\"y\"},{\"font\":{\"color\":\"#FFFFFF\"},\"showarrow\":false,\"text\":\"-0.18\",\"x\":\"word_count\",\"xref\":\"x\",\"y\":\"claps\",\"yref\":\"y\"},{\"font\":{\"color\":\"#000000\"},\"showarrow\":false,\"text\":\"0.77\",\"x\":\"claps_per_word\",\"xref\":\"x\",\"y\":\"claps\",\"yref\":\"y\"},{\"font\":{\"color\":\"#FFFFFF\"},\"showarrow\":false,\"text\":\"-0.17\",\"x\":\"editing_days\",\"xref\":\"x\",\"y\":\"claps\",\"yref\":\"y\"},{\"font\":{\"color\":\"#000000\"},\"showarrow\":false,\"text\":\"0.21\",\"x\":\"<tag>Education\",\"xref\":\"x\",\"y\":\"claps\",\"yref\":\"y\"},{\"font\":{\"color\":\"#000000\"},\"showarrow\":false,\"text\":\"0.34\",\"x\":\"<tag>Data Science\",\"xref\":\"x\",\"y\":\"claps\",\"yref\":\"y\"},{\"font\":{\"color\":\"#000000\"},\"showarrow\":false,\"text\":\"0.56\",\"x\":\"<tag>Towards Data Science\",\"xref\":\"x\",\"y\":\"claps\",\"yref\":\"y\"},{\"font\":{\"color\":\"#000000\"},\"showarrow\":false,\"text\":\"0.16\",\"x\":\"<tag>Machine Learning\",\"xref\":\"x\",\"y\":\"claps\",\"yref\":\"y\"},{\"font\":{\"color\":\"#000000\"},\"showarrow\":false,\"text\":\"0.29\",\"x\":\"<tag>Python\",\"xref\":\"x\",\"y\":\"claps\",\"yref\":\"y\"},{\"font\":{\"color\":\"#FFFFFF\"},\"showarrow\":false,\"text\":\"-0.04\",\"x\":\"time_started\",\"xref\":\"x\",\"y\":\"claps\",\"yref\":\"y\"},{\"font\":{\"color\":\"#FFFFFF\"},\"showarrow\":false,\"text\":\"-0.2\",\"x\":\"time_published\",\"xref\":\"x\",\"y\":\"claps\",\"yref\":\"y\"},{\"font\":{\"color\":\"#FFFFFF\"},\"showarrow\":false,\"text\":\"-0.02\",\"x\":\"claps\",\"xref\":\"x\",\"y\":\"days_since_publication\",\"yref\":\"y\"},{\"font\":{\"color\":\"#000000\"},\"showarrow\":false,\"text\":\"1.0\",\"x\":\"days_since_publication\",\"xref\":\"x\",\"y\":\"days_since_publication\",\"yref\":\"y\"},{\"font\":{\"color\":\"#FFFFFF\"},\"showarrow\":false,\"text\":\"-0.03\",\"x\":\"fans\",\"xref\":\"x\",\"y\":\"days_since_publication\",\"yref\":\"y\"},{\"font\":{\"color\":\"#FFFFFF\"},\"showarrow\":false,\"text\":\"0.02\",\"x\":\"num_responses\",\"xref\":\"x\",\"y\":\"days_since_publication\",\"yref\":\"y\"},{\"font\":{\"color\":\"#FFFFFF\"},\"showarrow\":false,\"text\":\"0.09\",\"x\":\"read_ratio\",\"xref\":\"x\",\"y\":\"days_since_publication\",\"yref\":\"y\"},{\"font\":{\"color\":\"#000000\"},\"showarrow\":false,\"text\":\"0.14\",\"x\":\"read_time\",\"xref\":\"x\",\"y\":\"days_since_publication\",\"yref\":\"y\"},{\"font\":{\"color\":\"#000000\"},\"showarrow\":false,\"text\":\"0.14\",\"x\":\"reads\",\"xref\":\"x\",\"y\":\"days_since_publication\",\"yref\":\"y\"},{\"font\":{\"color\":\"#FFFFFF\"},\"showarrow\":false,\"text\":\"-0.2\",\"x\":\"title_word_count\",\"xref\":\"x\",\"y\":\"days_since_publication\",\"yref\":\"y\"},{\"font\":{\"color\":\"#000000\"},\"showarrow\":false,\"text\":\"0.12\",\"x\":\"views\",\"xref\":\"x\",\"y\":\"days_since_publication\",\"yref\":\"y\"},{\"font\":{\"color\":\"#FFFFFF\"},\"showarrow\":false,\"text\":\"0.09\",\"x\":\"word_count\",\"xref\":\"x\",\"y\":\"days_since_publication\",\"yref\":\"y\"},{\"font\":{\"color\":\"#FFFFFF\"},\"showarrow\":false,\"text\":\"-0.01\",\"x\":\"claps_per_word\",\"xref\":\"x\",\"y\":\"days_since_publication\",\"yref\":\"y\"},{\"font\":{\"color\":\"#FFFFFF\"},\"showarrow\":false,\"text\":\"-0.32\",\"x\":\"editing_days\",\"xref\":\"x\",\"y\":\"days_since_publication\",\"yref\":\"y\"},{\"font\":{\"color\":\"#FFFFFF\"},\"showarrow\":false,\"text\":\"-0.77\",\"x\":\"<tag>Education\",\"xref\":\"x\",\"y\":\"days_since_publication\",\"yref\":\"y\"},{\"font\":{\"color\":\"#FFFFFF\"},\"showarrow\":false,\"text\":\"-0.33\",\"x\":\"<tag>Data Science\",\"xref\":\"x\",\"y\":\"days_since_publication\",\"yref\":\"y\"},{\"font\":{\"color\":\"#FFFFFF\"},\"showarrow\":false,\"text\":\"-0.23\",\"x\":\"<tag>Towards Data Science\",\"xref\":\"x\",\"y\":\"days_since_publication\",\"yref\":\"y\"},{\"font\":{\"color\":\"#FFFFFF\"},\"showarrow\":false,\"text\":\"-0.12\",\"x\":\"<tag>Machine Learning\",\"xref\":\"x\",\"y\":\"days_since_publication\",\"yref\":\"y\"},{\"font\":{\"color\":\"#FFFFFF\"},\"showarrow\":false,\"text\":\"0.11\",\"x\":\"<tag>Python\",\"xref\":\"x\",\"y\":\"days_since_publication\",\"yref\":\"y\"},{\"font\":{\"color\":\"#FFFFFF\"},\"showarrow\":false,\"text\":\"0.11\",\"x\":\"time_started\",\"xref\":\"x\",\"y\":\"days_since_publication\",\"yref\":\"y\"},{\"font\":{\"color\":\"#FFFFFF\"},\"showarrow\":false,\"text\":\"-0.01\",\"x\":\"time_published\",\"xref\":\"x\",\"y\":\"days_since_publication\",\"yref\":\"y\"},{\"font\":{\"color\":\"#000000\"},\"showarrow\":false,\"text\":\"0.99\",\"x\":\"claps\",\"xref\":\"x\",\"y\":\"fans\",\"yref\":\"y\"},{\"font\":{\"color\":\"#FFFFFF\"},\"showarrow\":false,\"text\":\"-0.03\",\"x\":\"days_since_publication\",\"xref\":\"x\",\"y\":\"fans\",\"yref\":\"y\"},{\"font\":{\"color\":\"#000000\"},\"showarrow\":false,\"text\":\"1.0\",\"x\":\"fans\",\"xref\":\"x\",\"y\":\"fans\",\"yref\":\"y\"},{\"font\":{\"color\":\"#000000\"},\"showarrow\":false,\"text\":\"0.88\",\"x\":\"num_responses\",\"xref\":\"x\",\"y\":\"fans\",\"yref\":\"y\"},{\"font\":{\"color\":\"#FFFFFF\"},\"showarrow\":false,\"text\":\"-0.01\",\"x\":\"read_ratio\",\"xref\":\"x\",\"y\":\"fans\",\"yref\":\"y\"},{\"font\":{\"color\":\"#FFFFFF\"},\"showarrow\":false,\"text\":\"-0.18\",\"x\":\"read_time\",\"xref\":\"x\",\"y\":\"fans\",\"yref\":\"y\"},{\"font\":{\"color\":\"#000000\"},\"showarrow\":false,\"text\":\"0.77\",\"x\":\"reads\",\"xref\":\"x\",\"y\":\"fans\",\"yref\":\"y\"},{\"font\":{\"color\":\"#000000\"},\"showarrow\":false,\"text\":\"0.14\",\"x\":\"title_word_count\",\"xref\":\"x\",\"y\":\"fans\",\"yref\":\"y\"},{\"font\":{\"color\":\"#000000\"},\"showarrow\":false,\"text\":\"0.76\",\"x\":\"views\",\"xref\":\"x\",\"y\":\"fans\",\"yref\":\"y\"},{\"font\":{\"color\":\"#FFFFFF\"},\"showarrow\":false,\"text\":\"-0.18\",\"x\":\"word_count\",\"xref\":\"x\",\"y\":\"fans\",\"yref\":\"y\"},{\"font\":{\"color\":\"#000000\"},\"showarrow\":false,\"text\":\"0.74\",\"x\":\"claps_per_word\",\"xref\":\"x\",\"y\":\"fans\",\"yref\":\"y\"},{\"font\":{\"color\":\"#FFFFFF\"},\"showarrow\":false,\"text\":\"-0.17\",\"x\":\"editing_days\",\"xref\":\"x\",\"y\":\"fans\",\"yref\":\"y\"},{\"font\":{\"color\":\"#000000\"},\"showarrow\":false,\"text\":\"0.21\",\"x\":\"<tag>Education\",\"xref\":\"x\",\"y\":\"fans\",\"yref\":\"y\"},{\"font\":{\"color\":\"#000000\"},\"showarrow\":false,\"text\":\"0.34\",\"x\":\"<tag>Data Science\",\"xref\":\"x\",\"y\":\"fans\",\"yref\":\"y\"},{\"font\":{\"color\":\"#000000\"},\"showarrow\":false,\"text\":\"0.57\",\"x\":\"<tag>Towards Data Science\",\"xref\":\"x\",\"y\":\"fans\",\"yref\":\"y\"},{\"font\":{\"color\":\"#000000\"},\"showarrow\":false,\"text\":\"0.18\",\"x\":\"<tag>Machine Learning\",\"xref\":\"x\",\"y\":\"fans\",\"yref\":\"y\"},{\"font\":{\"color\":\"#000000\"},\"showarrow\":false,\"text\":\"0.29\",\"x\":\"<tag>Python\",\"xref\":\"x\",\"y\":\"fans\",\"yref\":\"y\"},{\"font\":{\"color\":\"#FFFFFF\"},\"showarrow\":false,\"text\":\"-0.04\",\"x\":\"time_started\",\"xref\":\"x\",\"y\":\"fans\",\"yref\":\"y\"},{\"font\":{\"color\":\"#FFFFFF\"},\"showarrow\":false,\"text\":\"-0.18\",\"x\":\"time_published\",\"xref\":\"x\",\"y\":\"fans\",\"yref\":\"y\"},{\"font\":{\"color\":\"#000000\"},\"showarrow\":false,\"text\":\"0.9\",\"x\":\"claps\",\"xref\":\"x\",\"y\":\"num_responses\",\"yref\":\"y\"},{\"font\":{\"color\":\"#FFFFFF\"},\"showarrow\":false,\"text\":\"0.02\",\"x\":\"days_since_publication\",\"xref\":\"x\",\"y\":\"num_responses\",\"yref\":\"y\"},{\"font\":{\"color\":\"#000000\"},\"showarrow\":false,\"text\":\"0.88\",\"x\":\"fans\",\"xref\":\"x\",\"y\":\"num_responses\",\"yref\":\"y\"},{\"font\":{\"color\":\"#000000\"},\"showarrow\":false,\"text\":\"1.0\",\"x\":\"num_responses\",\"xref\":\"x\",\"y\":\"num_responses\",\"yref\":\"y\"},{\"font\":{\"color\":\"#FFFFFF\"},\"showarrow\":false,\"text\":\"0.1\",\"x\":\"read_ratio\",\"xref\":\"x\",\"y\":\"num_responses\",\"yref\":\"y\"},{\"font\":{\"color\":\"#FFFFFF\"},\"showarrow\":false,\"text\":\"-0.21\",\"x\":\"read_time\",\"xref\":\"x\",\"y\":\"num_responses\",\"yref\":\"y\"},{\"font\":{\"color\":\"#000000\"},\"showarrow\":false,\"text\":\"0.77\",\"x\":\"reads\",\"xref\":\"x\",\"y\":\"num_responses\",\"yref\":\"y\"},{\"font\":{\"color\":\"#FFFFFF\"},\"showarrow\":false,\"text\":\"0.07\",\"x\":\"title_word_count\",\"xref\":\"x\",\"y\":\"num_responses\",\"yref\":\"y\"},{\"font\":{\"color\":\"#000000\"},\"showarrow\":false,\"text\":\"0.71\",\"x\":\"views\",\"xref\":\"x\",\"y\":\"num_responses\",\"yref\":\"y\"},{\"font\":{\"color\":\"#FFFFFF\"},\"showarrow\":false,\"text\":\"-0.21\",\"x\":\"word_count\",\"xref\":\"x\",\"y\":\"num_responses\",\"yref\":\"y\"},{\"font\":{\"color\":\"#000000\"},\"showarrow\":false,\"text\":\"0.8\",\"x\":\"claps_per_word\",\"xref\":\"x\",\"y\":\"num_responses\",\"yref\":\"y\"},{\"font\":{\"color\":\"#FFFFFF\"},\"showarrow\":false,\"text\":\"-0.18\",\"x\":\"editing_days\",\"xref\":\"x\",\"y\":\"num_responses\",\"yref\":\"y\"},{\"font\":{\"color\":\"#000000\"},\"showarrow\":false,\"text\":\"0.14\",\"x\":\"<tag>Education\",\"xref\":\"x\",\"y\":\"num_responses\",\"yref\":\"y\"},{\"font\":{\"color\":\"#000000\"},\"showarrow\":false,\"text\":\"0.31\",\"x\":\"<tag>Data Science\",\"xref\":\"x\",\"y\":\"num_responses\",\"yref\":\"y\"},{\"font\":{\"color\":\"#000000\"},\"showarrow\":false,\"text\":\"0.52\",\"x\":\"<tag>Towards Data Science\",\"xref\":\"x\",\"y\":\"num_responses\",\"yref\":\"y\"},{\"font\":{\"color\":\"#FFFFFF\"},\"showarrow\":false,\"text\":\"0.08\",\"x\":\"<tag>Machine Learning\",\"xref\":\"x\",\"y\":\"num_responses\",\"yref\":\"y\"},{\"font\":{\"color\":\"#000000\"},\"showarrow\":false,\"text\":\"0.29\",\"x\":\"<tag>Python\",\"xref\":\"x\",\"y\":\"num_responses\",\"yref\":\"y\"},{\"font\":{\"color\":\"#FFFFFF\"},\"showarrow\":false,\"text\":\"-0.02\",\"x\":\"time_started\",\"xref\":\"x\",\"y\":\"num_responses\",\"yref\":\"y\"},{\"font\":{\"color\":\"#FFFFFF\"},\"showarrow\":false,\"text\":\"-0.19\",\"x\":\"time_published\",\"xref\":\"x\",\"y\":\"num_responses\",\"yref\":\"y\"},{\"font\":{\"color\":\"#FFFFFF\"},\"showarrow\":false,\"text\":\"0.0\",\"x\":\"claps\",\"xref\":\"x\",\"y\":\"read_ratio\",\"yref\":\"y\"},{\"font\":{\"color\":\"#FFFFFF\"},\"showarrow\":false,\"text\":\"0.09\",\"x\":\"days_since_publication\",\"xref\":\"x\",\"y\":\"read_ratio\",\"yref\":\"y\"},{\"font\":{\"color\":\"#FFFFFF\"},\"showarrow\":false,\"text\":\"-0.01\",\"x\":\"fans\",\"xref\":\"x\",\"y\":\"read_ratio\",\"yref\":\"y\"},{\"font\":{\"color\":\"#FFFFFF\"},\"showarrow\":false,\"text\":\"0.1\",\"x\":\"num_responses\",\"xref\":\"x\",\"y\":\"read_ratio\",\"yref\":\"y\"},{\"font\":{\"color\":\"#000000\"},\"showarrow\":false,\"text\":\"1.0\",\"x\":\"read_ratio\",\"xref\":\"x\",\"y\":\"read_ratio\",\"yref\":\"y\"},{\"font\":{\"color\":\"#FFFFFF\"},\"showarrow\":false,\"text\":\"-0.63\",\"x\":\"read_time\",\"xref\":\"x\",\"y\":\"read_ratio\",\"yref\":\"y\"},{\"font\":{\"color\":\"#FFFFFF\"},\"showarrow\":false,\"text\":\"0.03\",\"x\":\"reads\",\"xref\":\"x\",\"y\":\"read_ratio\",\"yref\":\"y\"},{\"font\":{\"color\":\"#FFFFFF\"},\"showarrow\":false,\"text\":\"0.04\",\"x\":\"title_word_count\",\"xref\":\"x\",\"y\":\"read_ratio\",\"yref\":\"y\"},{\"font\":{\"color\":\"#FFFFFF\"},\"showarrow\":false,\"text\":\"-0.13\",\"x\":\"views\",\"xref\":\"x\",\"y\":\"read_ratio\",\"yref\":\"y\"},{\"font\":{\"color\":\"#FFFFFF\"},\"showarrow\":false,\"text\":\"-0.57\",\"x\":\"word_count\",\"xref\":\"x\",\"y\":\"read_ratio\",\"yref\":\"y\"},{\"font\":{\"color\":\"#000000\"},\"showarrow\":false,\"text\":\"0.29\",\"x\":\"claps_per_word\",\"xref\":\"x\",\"y\":\"read_ratio\",\"yref\":\"y\"},{\"font\":{\"color\":\"#FFFFFF\"},\"showarrow\":false,\"text\":\"-0.19\",\"x\":\"editing_days\",\"xref\":\"x\",\"y\":\"read_ratio\",\"yref\":\"y\"},{\"font\":{\"color\":\"#FFFFFF\"},\"showarrow\":false,\"text\":\"0.06\",\"x\":\"<tag>Education\",\"xref\":\"x\",\"y\":\"read_ratio\",\"yref\":\"y\"},{\"font\":{\"color\":\"#FFFFFF\"},\"showarrow\":false,\"text\":\"-0.04\",\"x\":\"<tag>Data Science\",\"xref\":\"x\",\"y\":\"read_ratio\",\"yref\":\"y\"},{\"font\":{\"color\":\"#FFFFFF\"},\"showarrow\":false,\"text\":\"-0.05\",\"x\":\"<tag>Towards Data Science\",\"xref\":\"x\",\"y\":\"read_ratio\",\"yref\":\"y\"},{\"font\":{\"color\":\"#FFFFFF\"},\"showarrow\":false,\"text\":\"-0.32\",\"x\":\"<tag>Machine Learning\",\"xref\":\"x\",\"y\":\"read_ratio\",\"yref\":\"y\"},{\"font\":{\"color\":\"#FFFFFF\"},\"showarrow\":false,\"text\":\"-0.2\",\"x\":\"<tag>Python\",\"xref\":\"x\",\"y\":\"read_ratio\",\"yref\":\"y\"},{\"font\":{\"color\":\"#FFFFFF\"},\"showarrow\":false,\"text\":\"-0.01\",\"x\":\"time_started\",\"xref\":\"x\",\"y\":\"read_ratio\",\"yref\":\"y\"},{\"font\":{\"color\":\"#FFFFFF\"},\"showarrow\":false,\"text\":\"0.0\",\"x\":\"time_published\",\"xref\":\"x\",\"y\":\"read_ratio\",\"yref\":\"y\"},{\"font\":{\"color\":\"#FFFFFF\"},\"showarrow\":false,\"text\":\"-0.18\",\"x\":\"claps\",\"xref\":\"x\",\"y\":\"read_time\",\"yref\":\"y\"},{\"font\":{\"color\":\"#000000\"},\"showarrow\":false,\"text\":\"0.14\",\"x\":\"days_since_publication\",\"xref\":\"x\",\"y\":\"read_time\",\"yref\":\"y\"},{\"font\":{\"color\":\"#FFFFFF\"},\"showarrow\":false,\"text\":\"-0.18\",\"x\":\"fans\",\"xref\":\"x\",\"y\":\"read_time\",\"yref\":\"y\"},{\"font\":{\"color\":\"#FFFFFF\"},\"showarrow\":false,\"text\":\"-0.21\",\"x\":\"num_responses\",\"xref\":\"x\",\"y\":\"read_time\",\"yref\":\"y\"},{\"font\":{\"color\":\"#FFFFFF\"},\"showarrow\":false,\"text\":\"-0.63\",\"x\":\"read_ratio\",\"xref\":\"x\",\"y\":\"read_time\",\"yref\":\"y\"},{\"font\":{\"color\":\"#000000\"},\"showarrow\":false,\"text\":\"1.0\",\"x\":\"read_time\",\"xref\":\"x\",\"y\":\"read_time\",\"yref\":\"y\"},{\"font\":{\"color\":\"#FFFFFF\"},\"showarrow\":false,\"text\":\"-0.15\",\"x\":\"reads\",\"xref\":\"x\",\"y\":\"read_time\",\"yref\":\"y\"},{\"font\":{\"color\":\"#FFFFFF\"},\"showarrow\":false,\"text\":\"-0.15\",\"x\":\"title_word_count\",\"xref\":\"x\",\"y\":\"read_time\",\"yref\":\"y\"},{\"font\":{\"color\":\"#FFFFFF\"},\"showarrow\":false,\"text\":\"-0.07\",\"x\":\"views\",\"xref\":\"x\",\"y\":\"read_time\",\"yref\":\"y\"},{\"font\":{\"color\":\"#000000\"},\"showarrow\":false,\"text\":\"0.96\",\"x\":\"word_count\",\"xref\":\"x\",\"y\":\"read_time\",\"yref\":\"y\"},{\"font\":{\"color\":\"#FFFFFF\"},\"showarrow\":false,\"text\":\"-0.24\",\"x\":\"claps_per_word\",\"xref\":\"x\",\"y\":\"read_time\",\"yref\":\"y\"},{\"font\":{\"color\":\"#000000\"},\"showarrow\":false,\"text\":\"0.45\",\"x\":\"editing_days\",\"xref\":\"x\",\"y\":\"read_time\",\"yref\":\"y\"},{\"font\":{\"color\":\"#FFFFFF\"},\"showarrow\":false,\"text\":\"-0.27\",\"x\":\"<tag>Education\",\"xref\":\"x\",\"y\":\"read_time\",\"yref\":\"y\"},{\"font\":{\"color\":\"#FFFFFF\"},\"showarrow\":false,\"text\":\"-0.08\",\"x\":\"<tag>Data Science\",\"xref\":\"x\",\"y\":\"read_time\",\"yref\":\"y\"},{\"font\":{\"color\":\"#FFFFFF\"},\"showarrow\":false,\"text\":\"-0.23\",\"x\":\"<tag>Towards Data Science\",\"xref\":\"x\",\"y\":\"read_time\",\"yref\":\"y\"},{\"font\":{\"color\":\"#000000\"},\"showarrow\":false,\"text\":\"0.21\",\"x\":\"<tag>Machine Learning\",\"xref\":\"x\",\"y\":\"read_time\",\"yref\":\"y\"},{\"font\":{\"color\":\"#FFFFFF\"},\"showarrow\":false,\"text\":\"0.09\",\"x\":\"<tag>Python\",\"xref\":\"x\",\"y\":\"read_time\",\"yref\":\"y\"},{\"font\":{\"color\":\"#FFFFFF\"},\"showarrow\":false,\"text\":\"-0.14\",\"x\":\"time_started\",\"xref\":\"x\",\"y\":\"read_time\",\"yref\":\"y\"},{\"font\":{\"color\":\"#000000\"},\"showarrow\":false,\"text\":\"0.14\",\"x\":\"time_published\",\"xref\":\"x\",\"y\":\"read_time\",\"yref\":\"y\"},{\"font\":{\"color\":\"#000000\"},\"showarrow\":false,\"text\":\"0.76\",\"x\":\"claps\",\"xref\":\"x\",\"y\":\"reads\",\"yref\":\"y\"},{\"font\":{\"color\":\"#000000\"},\"showarrow\":false,\"text\":\"0.14\",\"x\":\"days_since_publication\",\"xref\":\"x\",\"y\":\"reads\",\"yref\":\"y\"},{\"font\":{\"color\":\"#000000\"},\"showarrow\":false,\"text\":\"0.77\",\"x\":\"fans\",\"xref\":\"x\",\"y\":\"reads\",\"yref\":\"y\"},{\"font\":{\"color\":\"#000000\"},\"showarrow\":false,\"text\":\"0.77\",\"x\":\"num_responses\",\"xref\":\"x\",\"y\":\"reads\",\"yref\":\"y\"},{\"font\":{\"color\":\"#FFFFFF\"},\"showarrow\":false,\"text\":\"0.03\",\"x\":\"read_ratio\",\"xref\":\"x\",\"y\":\"reads\",\"yref\":\"y\"},{\"font\":{\"color\":\"#FFFFFF\"},\"showarrow\":false,\"text\":\"-0.15\",\"x\":\"read_time\",\"xref\":\"x\",\"y\":\"reads\",\"yref\":\"y\"},{\"font\":{\"color\":\"#000000\"},\"showarrow\":false,\"text\":\"1.0\",\"x\":\"reads\",\"xref\":\"x\",\"y\":\"reads\",\"yref\":\"y\"},{\"font\":{\"color\":\"#FFFFFF\"},\"showarrow\":false,\"text\":\"0.05\",\"x\":\"title_word_count\",\"xref\":\"x\",\"y\":\"reads\",\"yref\":\"y\"},{\"font\":{\"color\":\"#000000\"},\"showarrow\":false,\"text\":\"0.94\",\"x\":\"views\",\"xref\":\"x\",\"y\":\"reads\",\"yref\":\"y\"},{\"font\":{\"color\":\"#FFFFFF\"},\"showarrow\":false,\"text\":\"-0.17\",\"x\":\"word_count\",\"xref\":\"x\",\"y\":\"reads\",\"yref\":\"y\"},{\"font\":{\"color\":\"#000000\"},\"showarrow\":false,\"text\":\"0.55\",\"x\":\"claps_per_word\",\"xref\":\"x\",\"y\":\"reads\",\"yref\":\"y\"},{\"font\":{\"color\":\"#FFFFFF\"},\"showarrow\":false,\"text\":\"-0.17\",\"x\":\"editing_days\",\"xref\":\"x\",\"y\":\"reads\",\"yref\":\"y\"},{\"font\":{\"color\":\"#FFFFFF\"},\"showarrow\":false,\"text\":\"-0.05\",\"x\":\"<tag>Education\",\"xref\":\"x\",\"y\":\"reads\",\"yref\":\"y\"},{\"font\":{\"color\":\"#000000\"},\"showarrow\":false,\"text\":\"0.33\",\"x\":\"<tag>Data Science\",\"xref\":\"x\",\"y\":\"reads\",\"yref\":\"y\"},{\"font\":{\"color\":\"#000000\"},\"showarrow\":false,\"text\":\"0.36\",\"x\":\"<tag>Towards Data Science\",\"xref\":\"x\",\"y\":\"reads\",\"yref\":\"y\"},{\"font\":{\"color\":\"#000000\"},\"showarrow\":false,\"text\":\"0.2\",\"x\":\"<tag>Machine Learning\",\"xref\":\"x\",\"y\":\"reads\",\"yref\":\"y\"},{\"font\":{\"color\":\"#000000\"},\"showarrow\":false,\"text\":\"0.39\",\"x\":\"<tag>Python\",\"xref\":\"x\",\"y\":\"reads\",\"yref\":\"y\"},{\"font\":{\"color\":\"#FFFFFF\"},\"showarrow\":false,\"text\":\"0.02\",\"x\":\"time_started\",\"xref\":\"x\",\"y\":\"reads\",\"yref\":\"y\"},{\"font\":{\"color\":\"#FFFFFF\"},\"showarrow\":false,\"text\":\"-0.09\",\"x\":\"time_published\",\"xref\":\"x\",\"y\":\"reads\",\"yref\":\"y\"},{\"font\":{\"color\":\"#000000\"},\"showarrow\":false,\"text\":\"0.13\",\"x\":\"claps\",\"xref\":\"x\",\"y\":\"title_word_count\",\"yref\":\"y\"},{\"font\":{\"color\":\"#FFFFFF\"},\"showarrow\":false,\"text\":\"-0.2\",\"x\":\"days_since_publication\",\"xref\":\"x\",\"y\":\"title_word_count\",\"yref\":\"y\"},{\"font\":{\"color\":\"#000000\"},\"showarrow\":false,\"text\":\"0.14\",\"x\":\"fans\",\"xref\":\"x\",\"y\":\"title_word_count\",\"yref\":\"y\"},{\"font\":{\"color\":\"#FFFFFF\"},\"showarrow\":false,\"text\":\"0.07\",\"x\":\"num_responses\",\"xref\":\"x\",\"y\":\"title_word_count\",\"yref\":\"y\"},{\"font\":{\"color\":\"#FFFFFF\"},\"showarrow\":false,\"text\":\"0.04\",\"x\":\"read_ratio\",\"xref\":\"x\",\"y\":\"title_word_count\",\"yref\":\"y\"},{\"font\":{\"color\":\"#FFFFFF\"},\"showarrow\":false,\"text\":\"-0.15\",\"x\":\"read_time\",\"xref\":\"x\",\"y\":\"title_word_count\",\"yref\":\"y\"},{\"font\":{\"color\":\"#FFFFFF\"},\"showarrow\":false,\"text\":\"0.05\",\"x\":\"reads\",\"xref\":\"x\",\"y\":\"title_word_count\",\"yref\":\"y\"},{\"font\":{\"color\":\"#000000\"},\"showarrow\":false,\"text\":\"1.0\",\"x\":\"title_word_count\",\"xref\":\"x\",\"y\":\"title_word_count\",\"yref\":\"y\"},{\"font\":{\"color\":\"#FFFFFF\"},\"showarrow\":false,\"text\":\"0.05\",\"x\":\"views\",\"xref\":\"x\",\"y\":\"title_word_count\",\"yref\":\"y\"},{\"font\":{\"color\":\"#FFFFFF\"},\"showarrow\":false,\"text\":\"-0.16\",\"x\":\"word_count\",\"xref\":\"x\",\"y\":\"title_word_count\",\"yref\":\"y\"},{\"font\":{\"color\":\"#FFFFFF\"},\"showarrow\":false,\"text\":\"0.11\",\"x\":\"claps_per_word\",\"xref\":\"x\",\"y\":\"title_word_count\",\"yref\":\"y\"},{\"font\":{\"color\":\"#FFFFFF\"},\"showarrow\":false,\"text\":\"-0.1\",\"x\":\"editing_days\",\"xref\":\"x\",\"y\":\"title_word_count\",\"yref\":\"y\"},{\"font\":{\"color\":\"#000000\"},\"showarrow\":false,\"text\":\"0.28\",\"x\":\"<tag>Education\",\"xref\":\"x\",\"y\":\"title_word_count\",\"yref\":\"y\"},{\"font\":{\"color\":\"#000000\"},\"showarrow\":false,\"text\":\"0.15\",\"x\":\"<tag>Data Science\",\"xref\":\"x\",\"y\":\"title_word_count\",\"yref\":\"y\"},{\"font\":{\"color\":\"#000000\"},\"showarrow\":false,\"text\":\"0.35\",\"x\":\"<tag>Towards Data Science\",\"xref\":\"x\",\"y\":\"title_word_count\",\"yref\":\"y\"},{\"font\":{\"color\":\"#000000\"},\"showarrow\":false,\"text\":\"0.26\",\"x\":\"<tag>Machine Learning\",\"xref\":\"x\",\"y\":\"title_word_count\",\"yref\":\"y\"},{\"font\":{\"color\":\"#000000\"},\"showarrow\":false,\"text\":\"0.27\",\"x\":\"<tag>Python\",\"xref\":\"x\",\"y\":\"title_word_count\",\"yref\":\"y\"},{\"font\":{\"color\":\"#FFFFFF\"},\"showarrow\":false,\"text\":\"-0.05\",\"x\":\"time_started\",\"xref\":\"x\",\"y\":\"title_word_count\",\"yref\":\"y\"},{\"font\":{\"color\":\"#FFFFFF\"},\"showarrow\":false,\"text\":\"-0.21\",\"x\":\"time_published\",\"xref\":\"x\",\"y\":\"title_word_count\",\"yref\":\"y\"},{\"font\":{\"color\":\"#000000\"},\"showarrow\":false,\"text\":\"0.74\",\"x\":\"claps\",\"xref\":\"x\",\"y\":\"views\",\"yref\":\"y\"},{\"font\":{\"color\":\"#000000\"},\"showarrow\":false,\"text\":\"0.12\",\"x\":\"days_since_publication\",\"xref\":\"x\",\"y\":\"views\",\"yref\":\"y\"},{\"font\":{\"color\":\"#000000\"},\"showarrow\":false,\"text\":\"0.76\",\"x\":\"fans\",\"xref\":\"x\",\"y\":\"views\",\"yref\":\"y\"},{\"font\":{\"color\":\"#000000\"},\"showarrow\":false,\"text\":\"0.71\",\"x\":\"num_responses\",\"xref\":\"x\",\"y\":\"views\",\"yref\":\"y\"},{\"font\":{\"color\":\"#FFFFFF\"},\"showarrow\":false,\"text\":\"-0.13\",\"x\":\"read_ratio\",\"xref\":\"x\",\"y\":\"views\",\"yref\":\"y\"},{\"font\":{\"color\":\"#FFFFFF\"},\"showarrow\":false,\"text\":\"-0.07\",\"x\":\"read_time\",\"xref\":\"x\",\"y\":\"views\",\"yref\":\"y\"},{\"font\":{\"color\":\"#000000\"},\"showarrow\":false,\"text\":\"0.94\",\"x\":\"reads\",\"xref\":\"x\",\"y\":\"views\",\"yref\":\"y\"},{\"font\":{\"color\":\"#FFFFFF\"},\"showarrow\":false,\"text\":\"0.05\",\"x\":\"title_word_count\",\"xref\":\"x\",\"y\":\"views\",\"yref\":\"y\"},{\"font\":{\"color\":\"#000000\"},\"showarrow\":false,\"text\":\"1.0\",\"x\":\"views\",\"xref\":\"x\",\"y\":\"views\",\"yref\":\"y\"},{\"font\":{\"color\":\"#FFFFFF\"},\"showarrow\":false,\"text\":\"-0.1\",\"x\":\"word_count\",\"xref\":\"x\",\"y\":\"views\",\"yref\":\"y\"},{\"font\":{\"color\":\"#000000\"},\"showarrow\":false,\"text\":\"0.38\",\"x\":\"claps_per_word\",\"xref\":\"x\",\"y\":\"views\",\"yref\":\"y\"},{\"font\":{\"color\":\"#FFFFFF\"},\"showarrow\":false,\"text\":\"-0.17\",\"x\":\"editing_days\",\"xref\":\"x\",\"y\":\"views\",\"yref\":\"y\"},{\"font\":{\"color\":\"#FFFFFF\"},\"showarrow\":false,\"text\":\"-0.06\",\"x\":\"<tag>Education\",\"xref\":\"x\",\"y\":\"views\",\"yref\":\"y\"},{\"font\":{\"color\":\"#000000\"},\"showarrow\":false,\"text\":\"0.31\",\"x\":\"<tag>Data Science\",\"xref\":\"x\",\"y\":\"views\",\"yref\":\"y\"},{\"font\":{\"color\":\"#000000\"},\"showarrow\":false,\"text\":\"0.35\",\"x\":\"<tag>Towards Data Science\",\"xref\":\"x\",\"y\":\"views\",\"yref\":\"y\"},{\"font\":{\"color\":\"#000000\"},\"showarrow\":false,\"text\":\"0.28\",\"x\":\"<tag>Machine Learning\",\"xref\":\"x\",\"y\":\"views\",\"yref\":\"y\"},{\"font\":{\"color\":\"#000000\"},\"showarrow\":false,\"text\":\"0.43\",\"x\":\"<tag>Python\",\"xref\":\"x\",\"y\":\"views\",\"yref\":\"y\"},{\"font\":{\"color\":\"#FFFFFF\"},\"showarrow\":false,\"text\":\"0.01\",\"x\":\"time_started\",\"xref\":\"x\",\"y\":\"views\",\"yref\":\"y\"},{\"font\":{\"color\":\"#FFFFFF\"},\"showarrow\":false,\"text\":\"-0.09\",\"x\":\"time_published\",\"xref\":\"x\",\"y\":\"views\",\"yref\":\"y\"},{\"font\":{\"color\":\"#FFFFFF\"},\"showarrow\":false,\"text\":\"-0.18\",\"x\":\"claps\",\"xref\":\"x\",\"y\":\"word_count\",\"yref\":\"y\"},{\"font\":{\"color\":\"#FFFFFF\"},\"showarrow\":false,\"text\":\"0.09\",\"x\":\"days_since_publication\",\"xref\":\"x\",\"y\":\"word_count\",\"yref\":\"y\"},{\"font\":{\"color\":\"#FFFFFF\"},\"showarrow\":false,\"text\":\"-0.18\",\"x\":\"fans\",\"xref\":\"x\",\"y\":\"word_count\",\"yref\":\"y\"},{\"font\":{\"color\":\"#FFFFFF\"},\"showarrow\":false,\"text\":\"-0.21\",\"x\":\"num_responses\",\"xref\":\"x\",\"y\":\"word_count\",\"yref\":\"y\"},{\"font\":{\"color\":\"#FFFFFF\"},\"showarrow\":false,\"text\":\"-0.57\",\"x\":\"read_ratio\",\"xref\":\"x\",\"y\":\"word_count\",\"yref\":\"y\"},{\"font\":{\"color\":\"#000000\"},\"showarrow\":false,\"text\":\"0.96\",\"x\":\"read_time\",\"xref\":\"x\",\"y\":\"word_count\",\"yref\":\"y\"},{\"font\":{\"color\":\"#FFFFFF\"},\"showarrow\":false,\"text\":\"-0.17\",\"x\":\"reads\",\"xref\":\"x\",\"y\":\"word_count\",\"yref\":\"y\"},{\"font\":{\"color\":\"#FFFFFF\"},\"showarrow\":false,\"text\":\"-0.16\",\"x\":\"title_word_count\",\"xref\":\"x\",\"y\":\"word_count\",\"yref\":\"y\"},{\"font\":{\"color\":\"#FFFFFF\"},\"showarrow\":false,\"text\":\"-0.1\",\"x\":\"views\",\"xref\":\"x\",\"y\":\"word_count\",\"yref\":\"y\"},{\"font\":{\"color\":\"#000000\"},\"showarrow\":false,\"text\":\"1.0\",\"x\":\"word_count\",\"xref\":\"x\",\"y\":\"word_count\",\"yref\":\"y\"},{\"font\":{\"color\":\"#FFFFFF\"},\"showarrow\":false,\"text\":\"-0.24\",\"x\":\"claps_per_word\",\"xref\":\"x\",\"y\":\"word_count\",\"yref\":\"y\"},{\"font\":{\"color\":\"#000000\"},\"showarrow\":false,\"text\":\"0.46\",\"x\":\"editing_days\",\"xref\":\"x\",\"y\":\"word_count\",\"yref\":\"y\"},{\"font\":{\"color\":\"#FFFFFF\"},\"showarrow\":false,\"text\":\"-0.22\",\"x\":\"<tag>Education\",\"xref\":\"x\",\"y\":\"word_count\",\"yref\":\"y\"},{\"font\":{\"color\":\"#FFFFFF\"},\"showarrow\":false,\"text\":\"-0.09\",\"x\":\"<tag>Data Science\",\"xref\":\"x\",\"y\":\"word_count\",\"yref\":\"y\"},{\"font\":{\"color\":\"#FFFFFF\"},\"showarrow\":false,\"text\":\"-0.21\",\"x\":\"<tag>Towards Data Science\",\"xref\":\"x\",\"y\":\"word_count\",\"yref\":\"y\"},{\"font\":{\"color\":\"#000000\"},\"showarrow\":false,\"text\":\"0.19\",\"x\":\"<tag>Machine Learning\",\"xref\":\"x\",\"y\":\"word_count\",\"yref\":\"y\"},{\"font\":{\"color\":\"#FFFFFF\"},\"showarrow\":false,\"text\":\"0.03\",\"x\":\"<tag>Python\",\"xref\":\"x\",\"y\":\"word_count\",\"yref\":\"y\"},{\"font\":{\"color\":\"#FFFFFF\"},\"showarrow\":false,\"text\":\"-0.13\",\"x\":\"time_started\",\"xref\":\"x\",\"y\":\"word_count\",\"yref\":\"y\"},{\"font\":{\"color\":\"#000000\"},\"showarrow\":false,\"text\":\"0.12\",\"x\":\"time_published\",\"xref\":\"x\",\"y\":\"word_count\",\"yref\":\"y\"},{\"font\":{\"color\":\"#000000\"},\"showarrow\":false,\"text\":\"0.77\",\"x\":\"claps\",\"xref\":\"x\",\"y\":\"claps_per_word\",\"yref\":\"y\"},{\"font\":{\"color\":\"#FFFFFF\"},\"showarrow\":false,\"text\":\"-0.01\",\"x\":\"days_since_publication\",\"xref\":\"x\",\"y\":\"claps_per_word\",\"yref\":\"y\"},{\"font\":{\"color\":\"#000000\"},\"showarrow\":false,\"text\":\"0.74\",\"x\":\"fans\",\"xref\":\"x\",\"y\":\"claps_per_word\",\"yref\":\"y\"},{\"font\":{\"color\":\"#000000\"},\"showarrow\":false,\"text\":\"0.8\",\"x\":\"num_responses\",\"xref\":\"x\",\"y\":\"claps_per_word\",\"yref\":\"y\"},{\"font\":{\"color\":\"#000000\"},\"showarrow\":false,\"text\":\"0.29\",\"x\":\"read_ratio\",\"xref\":\"x\",\"y\":\"claps_per_word\",\"yref\":\"y\"},{\"font\":{\"color\":\"#FFFFFF\"},\"showarrow\":false,\"text\":\"-0.24\",\"x\":\"read_time\",\"xref\":\"x\",\"y\":\"claps_per_word\",\"yref\":\"y\"},{\"font\":{\"color\":\"#000000\"},\"showarrow\":false,\"text\":\"0.55\",\"x\":\"reads\",\"xref\":\"x\",\"y\":\"claps_per_word\",\"yref\":\"y\"},{\"font\":{\"color\":\"#FFFFFF\"},\"showarrow\":false,\"text\":\"0.11\",\"x\":\"title_word_count\",\"xref\":\"x\",\"y\":\"claps_per_word\",\"yref\":\"y\"},{\"font\":{\"color\":\"#000000\"},\"showarrow\":false,\"text\":\"0.38\",\"x\":\"views\",\"xref\":\"x\",\"y\":\"claps_per_word\",\"yref\":\"y\"},{\"font\":{\"color\":\"#FFFFFF\"},\"showarrow\":false,\"text\":\"-0.24\",\"x\":\"word_count\",\"xref\":\"x\",\"y\":\"claps_per_word\",\"yref\":\"y\"},{\"font\":{\"color\":\"#000000\"},\"showarrow\":false,\"text\":\"1.0\",\"x\":\"claps_per_word\",\"xref\":\"x\",\"y\":\"claps_per_word\",\"yref\":\"y\"},{\"font\":{\"color\":\"#FFFFFF\"},\"showarrow\":false,\"text\":\"-0.12\",\"x\":\"editing_days\",\"xref\":\"x\",\"y\":\"claps_per_word\",\"yref\":\"y\"},{\"font\":{\"color\":\"#000000\"},\"showarrow\":false,\"text\":\"0.2\",\"x\":\"<tag>Education\",\"xref\":\"x\",\"y\":\"claps_per_word\",\"yref\":\"y\"},{\"font\":{\"color\":\"#000000\"},\"showarrow\":false,\"text\":\"0.25\",\"x\":\"<tag>Data Science\",\"xref\":\"x\",\"y\":\"claps_per_word\",\"yref\":\"y\"},{\"font\":{\"color\":\"#000000\"},\"showarrow\":false,\"text\":\"0.37\",\"x\":\"<tag>Towards Data Science\",\"xref\":\"x\",\"y\":\"claps_per_word\",\"yref\":\"y\"},{\"font\":{\"color\":\"#FFFFFF\"},\"showarrow\":false,\"text\":\"-0.03\",\"x\":\"<tag>Machine Learning\",\"xref\":\"x\",\"y\":\"claps_per_word\",\"yref\":\"y\"},{\"font\":{\"color\":\"#000000\"},\"showarrow\":false,\"text\":\"0.21\",\"x\":\"<tag>Python\",\"xref\":\"x\",\"y\":\"claps_per_word\",\"yref\":\"y\"},{\"font\":{\"color\":\"#FFFFFF\"},\"showarrow\":false,\"text\":\"-0.09\",\"x\":\"time_started\",\"xref\":\"x\",\"y\":\"claps_per_word\",\"yref\":\"y\"},{\"font\":{\"color\":\"#FFFFFF\"},\"showarrow\":false,\"text\":\"-0.13\",\"x\":\"time_published\",\"xref\":\"x\",\"y\":\"claps_per_word\",\"yref\":\"y\"},{\"font\":{\"color\":\"#FFFFFF\"},\"showarrow\":false,\"text\":\"-0.17\",\"x\":\"claps\",\"xref\":\"x\",\"y\":\"editing_days\",\"yref\":\"y\"},{\"font\":{\"color\":\"#FFFFFF\"},\"showarrow\":false,\"text\":\"-0.32\",\"x\":\"days_since_publication\",\"xref\":\"x\",\"y\":\"editing_days\",\"yref\":\"y\"},{\"font\":{\"color\":\"#FFFFFF\"},\"showarrow\":false,\"text\":\"-0.17\",\"x\":\"fans\",\"xref\":\"x\",\"y\":\"editing_days\",\"yref\":\"y\"},{\"font\":{\"color\":\"#FFFFFF\"},\"showarrow\":false,\"text\":\"-0.18\",\"x\":\"num_responses\",\"xref\":\"x\",\"y\":\"editing_days\",\"yref\":\"y\"},{\"font\":{\"color\":\"#FFFFFF\"},\"showarrow\":false,\"text\":\"-0.19\",\"x\":\"read_ratio\",\"xref\":\"x\",\"y\":\"editing_days\",\"yref\":\"y\"},{\"font\":{\"color\":\"#000000\"},\"showarrow\":false,\"text\":\"0.45\",\"x\":\"read_time\",\"xref\":\"x\",\"y\":\"editing_days\",\"yref\":\"y\"},{\"font\":{\"color\":\"#FFFFFF\"},\"showarrow\":false,\"text\":\"-0.17\",\"x\":\"reads\",\"xref\":\"x\",\"y\":\"editing_days\",\"yref\":\"y\"},{\"font\":{\"color\":\"#FFFFFF\"},\"showarrow\":false,\"text\":\"-0.1\",\"x\":\"title_word_count\",\"xref\":\"x\",\"y\":\"editing_days\",\"yref\":\"y\"},{\"font\":{\"color\":\"#FFFFFF\"},\"showarrow\":false,\"text\":\"-0.17\",\"x\":\"views\",\"xref\":\"x\",\"y\":\"editing_days\",\"yref\":\"y\"},{\"font\":{\"color\":\"#000000\"},\"showarrow\":false,\"text\":\"0.46\",\"x\":\"word_count\",\"xref\":\"x\",\"y\":\"editing_days\",\"yref\":\"y\"},{\"font\":{\"color\":\"#FFFFFF\"},\"showarrow\":false,\"text\":\"-0.12\",\"x\":\"claps_per_word\",\"xref\":\"x\",\"y\":\"editing_days\",\"yref\":\"y\"},{\"font\":{\"color\":\"#000000\"},\"showarrow\":false,\"text\":\"1.0\",\"x\":\"editing_days\",\"xref\":\"x\",\"y\":\"editing_days\",\"yref\":\"y\"},{\"font\":{\"color\":\"#000000\"},\"showarrow\":false,\"text\":\"0.17\",\"x\":\"<tag>Education\",\"xref\":\"x\",\"y\":\"editing_days\",\"yref\":\"y\"},{\"font\":{\"color\":\"#000000\"},\"showarrow\":false,\"text\":\"0.15\",\"x\":\"<tag>Data Science\",\"xref\":\"x\",\"y\":\"editing_days\",\"yref\":\"y\"},{\"font\":{\"color\":\"#FFFFFF\"},\"showarrow\":false,\"text\":\"-0.19\",\"x\":\"<tag>Towards Data Science\",\"xref\":\"x\",\"y\":\"editing_days\",\"yref\":\"y\"},{\"font\":{\"color\":\"#000000\"},\"showarrow\":false,\"text\":\"0.25\",\"x\":\"<tag>Machine Learning\",\"xref\":\"x\",\"y\":\"editing_days\",\"yref\":\"y\"},{\"font\":{\"color\":\"#FFFFFF\"},\"showarrow\":false,\"text\":\"-0.17\",\"x\":\"<tag>Python\",\"xref\":\"x\",\"y\":\"editing_days\",\"yref\":\"y\"},{\"font\":{\"color\":\"#FFFFFF\"},\"showarrow\":false,\"text\":\"-0.31\",\"x\":\"time_started\",\"xref\":\"x\",\"y\":\"editing_days\",\"yref\":\"y\"},{\"font\":{\"color\":\"#000000\"},\"showarrow\":false,\"text\":\"0.29\",\"x\":\"time_published\",\"xref\":\"x\",\"y\":\"editing_days\",\"yref\":\"y\"},{\"font\":{\"color\":\"#000000\"},\"showarrow\":false,\"text\":\"0.21\",\"x\":\"claps\",\"xref\":\"x\",\"y\":\"<tag>Education\",\"yref\":\"y\"},{\"font\":{\"color\":\"#FFFFFF\"},\"showarrow\":false,\"text\":\"-0.77\",\"x\":\"days_since_publication\",\"xref\":\"x\",\"y\":\"<tag>Education\",\"yref\":\"y\"},{\"font\":{\"color\":\"#000000\"},\"showarrow\":false,\"text\":\"0.21\",\"x\":\"fans\",\"xref\":\"x\",\"y\":\"<tag>Education\",\"yref\":\"y\"},{\"font\":{\"color\":\"#000000\"},\"showarrow\":false,\"text\":\"0.14\",\"x\":\"num_responses\",\"xref\":\"x\",\"y\":\"<tag>Education\",\"yref\":\"y\"},{\"font\":{\"color\":\"#FFFFFF\"},\"showarrow\":false,\"text\":\"0.06\",\"x\":\"read_ratio\",\"xref\":\"x\",\"y\":\"<tag>Education\",\"yref\":\"y\"},{\"font\":{\"color\":\"#FFFFFF\"},\"showarrow\":false,\"text\":\"-0.27\",\"x\":\"read_time\",\"xref\":\"x\",\"y\":\"<tag>Education\",\"yref\":\"y\"},{\"font\":{\"color\":\"#FFFFFF\"},\"showarrow\":false,\"text\":\"-0.05\",\"x\":\"reads\",\"xref\":\"x\",\"y\":\"<tag>Education\",\"yref\":\"y\"},{\"font\":{\"color\":\"#000000\"},\"showarrow\":false,\"text\":\"0.28\",\"x\":\"title_word_count\",\"xref\":\"x\",\"y\":\"<tag>Education\",\"yref\":\"y\"},{\"font\":{\"color\":\"#FFFFFF\"},\"showarrow\":false,\"text\":\"-0.06\",\"x\":\"views\",\"xref\":\"x\",\"y\":\"<tag>Education\",\"yref\":\"y\"},{\"font\":{\"color\":\"#FFFFFF\"},\"showarrow\":false,\"text\":\"-0.22\",\"x\":\"word_count\",\"xref\":\"x\",\"y\":\"<tag>Education\",\"yref\":\"y\"},{\"font\":{\"color\":\"#000000\"},\"showarrow\":false,\"text\":\"0.2\",\"x\":\"claps_per_word\",\"xref\":\"x\",\"y\":\"<tag>Education\",\"yref\":\"y\"},{\"font\":{\"color\":\"#000000\"},\"showarrow\":false,\"text\":\"0.17\",\"x\":\"editing_days\",\"xref\":\"x\",\"y\":\"<tag>Education\",\"yref\":\"y\"},{\"font\":{\"color\":\"#000000\"},\"showarrow\":false,\"text\":\"1.0\",\"x\":\"<tag>Education\",\"xref\":\"x\",\"y\":\"<tag>Education\",\"yref\":\"y\"},{\"font\":{\"color\":\"#000000\"},\"showarrow\":false,\"text\":\"0.32\",\"x\":\"<tag>Data Science\",\"xref\":\"x\",\"y\":\"<tag>Education\",\"yref\":\"y\"},{\"font\":{\"color\":\"#000000\"},\"showarrow\":false,\"text\":\"0.37\",\"x\":\"<tag>Towards Data Science\",\"xref\":\"x\",\"y\":\"<tag>Education\",\"yref\":\"y\"},{\"font\":{\"color\":\"#000000\"},\"showarrow\":false,\"text\":\"0.13\",\"x\":\"<tag>Machine Learning\",\"xref\":\"x\",\"y\":\"<tag>Education\",\"yref\":\"y\"},{\"font\":{\"color\":\"#FFFFFF\"},\"showarrow\":false,\"text\":\"-0.09\",\"x\":\"<tag>Python\",\"xref\":\"x\",\"y\":\"<tag>Education\",\"yref\":\"y\"},{\"font\":{\"color\":\"#FFFFFF\"},\"showarrow\":false,\"text\":\"-0.08\",\"x\":\"time_started\",\"xref\":\"x\",\"y\":\"<tag>Education\",\"yref\":\"y\"},{\"font\":{\"color\":\"#FFFFFF\"},\"showarrow\":false,\"text\":\"-0.13\",\"x\":\"time_published\",\"xref\":\"x\",\"y\":\"<tag>Education\",\"yref\":\"y\"},{\"font\":{\"color\":\"#000000\"},\"showarrow\":false,\"text\":\"0.34\",\"x\":\"claps\",\"xref\":\"x\",\"y\":\"<tag>Data Science\",\"yref\":\"y\"},{\"font\":{\"color\":\"#FFFFFF\"},\"showarrow\":false,\"text\":\"-0.33\",\"x\":\"days_since_publication\",\"xref\":\"x\",\"y\":\"<tag>Data Science\",\"yref\":\"y\"},{\"font\":{\"color\":\"#000000\"},\"showarrow\":false,\"text\":\"0.34\",\"x\":\"fans\",\"xref\":\"x\",\"y\":\"<tag>Data Science\",\"yref\":\"y\"},{\"font\":{\"color\":\"#000000\"},\"showarrow\":false,\"text\":\"0.31\",\"x\":\"num_responses\",\"xref\":\"x\",\"y\":\"<tag>Data Science\",\"yref\":\"y\"},{\"font\":{\"color\":\"#FFFFFF\"},\"showarrow\":false,\"text\":\"-0.04\",\"x\":\"read_ratio\",\"xref\":\"x\",\"y\":\"<tag>Data Science\",\"yref\":\"y\"},{\"font\":{\"color\":\"#FFFFFF\"},\"showarrow\":false,\"text\":\"-0.08\",\"x\":\"read_time\",\"xref\":\"x\",\"y\":\"<tag>Data Science\",\"yref\":\"y\"},{\"font\":{\"color\":\"#000000\"},\"showarrow\":false,\"text\":\"0.33\",\"x\":\"reads\",\"xref\":\"x\",\"y\":\"<tag>Data Science\",\"yref\":\"y\"},{\"font\":{\"color\":\"#000000\"},\"showarrow\":false,\"text\":\"0.15\",\"x\":\"title_word_count\",\"xref\":\"x\",\"y\":\"<tag>Data Science\",\"yref\":\"y\"},{\"font\":{\"color\":\"#000000\"},\"showarrow\":false,\"text\":\"0.31\",\"x\":\"views\",\"xref\":\"x\",\"y\":\"<tag>Data Science\",\"yref\":\"y\"},{\"font\":{\"color\":\"#FFFFFF\"},\"showarrow\":false,\"text\":\"-0.09\",\"x\":\"word_count\",\"xref\":\"x\",\"y\":\"<tag>Data Science\",\"yref\":\"y\"},{\"font\":{\"color\":\"#000000\"},\"showarrow\":false,\"text\":\"0.25\",\"x\":\"claps_per_word\",\"xref\":\"x\",\"y\":\"<tag>Data Science\",\"yref\":\"y\"},{\"font\":{\"color\":\"#000000\"},\"showarrow\":false,\"text\":\"0.15\",\"x\":\"editing_days\",\"xref\":\"x\",\"y\":\"<tag>Data Science\",\"yref\":\"y\"},{\"font\":{\"color\":\"#000000\"},\"showarrow\":false,\"text\":\"0.32\",\"x\":\"<tag>Education\",\"xref\":\"x\",\"y\":\"<tag>Data Science\",\"yref\":\"y\"},{\"font\":{\"color\":\"#000000\"},\"showarrow\":false,\"text\":\"1.0\",\"x\":\"<tag>Data Science\",\"xref\":\"x\",\"y\":\"<tag>Data Science\",\"yref\":\"y\"},{\"font\":{\"color\":\"#000000\"},\"showarrow\":false,\"text\":\"0.33\",\"x\":\"<tag>Towards Data Science\",\"xref\":\"x\",\"y\":\"<tag>Data Science\",\"yref\":\"y\"},{\"font\":{\"color\":\"#000000\"},\"showarrow\":false,\"text\":\"0.33\",\"x\":\"<tag>Machine Learning\",\"xref\":\"x\",\"y\":\"<tag>Data Science\",\"yref\":\"y\"},{\"font\":{\"color\":\"#FFFFFF\"},\"showarrow\":false,\"text\":\"0.07\",\"x\":\"<tag>Python\",\"xref\":\"x\",\"y\":\"<tag>Data Science\",\"yref\":\"y\"},{\"font\":{\"color\":\"#FFFFFF\"},\"showarrow\":false,\"text\":\"0.01\",\"x\":\"time_started\",\"xref\":\"x\",\"y\":\"<tag>Data Science\",\"yref\":\"y\"},{\"font\":{\"color\":\"#FFFFFF\"},\"showarrow\":false,\"text\":\"0.02\",\"x\":\"time_published\",\"xref\":\"x\",\"y\":\"<tag>Data Science\",\"yref\":\"y\"},{\"font\":{\"color\":\"#000000\"},\"showarrow\":false,\"text\":\"0.56\",\"x\":\"claps\",\"xref\":\"x\",\"y\":\"<tag>Towards Data Science\",\"yref\":\"y\"},{\"font\":{\"color\":\"#FFFFFF\"},\"showarrow\":false,\"text\":\"-0.23\",\"x\":\"days_since_publication\",\"xref\":\"x\",\"y\":\"<tag>Towards Data Science\",\"yref\":\"y\"},{\"font\":{\"color\":\"#000000\"},\"showarrow\":false,\"text\":\"0.57\",\"x\":\"fans\",\"xref\":\"x\",\"y\":\"<tag>Towards Data Science\",\"yref\":\"y\"},{\"font\":{\"color\":\"#000000\"},\"showarrow\":false,\"text\":\"0.52\",\"x\":\"num_responses\",\"xref\":\"x\",\"y\":\"<tag>Towards Data Science\",\"yref\":\"y\"},{\"font\":{\"color\":\"#FFFFFF\"},\"showarrow\":false,\"text\":\"-0.05\",\"x\":\"read_ratio\",\"xref\":\"x\",\"y\":\"<tag>Towards Data Science\",\"yref\":\"y\"},{\"font\":{\"color\":\"#FFFFFF\"},\"showarrow\":false,\"text\":\"-0.23\",\"x\":\"read_time\",\"xref\":\"x\",\"y\":\"<tag>Towards Data Science\",\"yref\":\"y\"},{\"font\":{\"color\":\"#000000\"},\"showarrow\":false,\"text\":\"0.36\",\"x\":\"reads\",\"xref\":\"x\",\"y\":\"<tag>Towards Data Science\",\"yref\":\"y\"},{\"font\":{\"color\":\"#000000\"},\"showarrow\":false,\"text\":\"0.35\",\"x\":\"title_word_count\",\"xref\":\"x\",\"y\":\"<tag>Towards Data Science\",\"yref\":\"y\"},{\"font\":{\"color\":\"#000000\"},\"showarrow\":false,\"text\":\"0.35\",\"x\":\"views\",\"xref\":\"x\",\"y\":\"<tag>Towards Data Science\",\"yref\":\"y\"},{\"font\":{\"color\":\"#FFFFFF\"},\"showarrow\":false,\"text\":\"-0.21\",\"x\":\"word_count\",\"xref\":\"x\",\"y\":\"<tag>Towards Data Science\",\"yref\":\"y\"},{\"font\":{\"color\":\"#000000\"},\"showarrow\":false,\"text\":\"0.37\",\"x\":\"claps_per_word\",\"xref\":\"x\",\"y\":\"<tag>Towards Data Science\",\"yref\":\"y\"},{\"font\":{\"color\":\"#FFFFFF\"},\"showarrow\":false,\"text\":\"-0.19\",\"x\":\"editing_days\",\"xref\":\"x\",\"y\":\"<tag>Towards Data Science\",\"yref\":\"y\"},{\"font\":{\"color\":\"#000000\"},\"showarrow\":false,\"text\":\"0.37\",\"x\":\"<tag>Education\",\"xref\":\"x\",\"y\":\"<tag>Towards Data Science\",\"yref\":\"y\"},{\"font\":{\"color\":\"#000000\"},\"showarrow\":false,\"text\":\"0.33\",\"x\":\"<tag>Data Science\",\"xref\":\"x\",\"y\":\"<tag>Towards Data Science\",\"yref\":\"y\"},{\"font\":{\"color\":\"#000000\"},\"showarrow\":false,\"text\":\"1.0\",\"x\":\"<tag>Towards Data Science\",\"xref\":\"x\",\"y\":\"<tag>Towards Data Science\",\"yref\":\"y\"},{\"font\":{\"color\":\"#000000\"},\"showarrow\":false,\"text\":\"0.17\",\"x\":\"<tag>Machine Learning\",\"xref\":\"x\",\"y\":\"<tag>Towards Data Science\",\"yref\":\"y\"},{\"font\":{\"color\":\"#000000\"},\"showarrow\":false,\"text\":\"0.25\",\"x\":\"<tag>Python\",\"xref\":\"x\",\"y\":\"<tag>Towards Data Science\",\"yref\":\"y\"},{\"font\":{\"color\":\"#FFFFFF\"},\"showarrow\":false,\"text\":\"-0.01\",\"x\":\"time_started\",\"xref\":\"x\",\"y\":\"<tag>Towards Data Science\",\"yref\":\"y\"},{\"font\":{\"color\":\"#FFFFFF\"},\"showarrow\":false,\"text\":\"-0.24\",\"x\":\"time_published\",\"xref\":\"x\",\"y\":\"<tag>Towards Data Science\",\"yref\":\"y\"},{\"font\":{\"color\":\"#000000\"},\"showarrow\":false,\"text\":\"0.16\",\"x\":\"claps\",\"xref\":\"x\",\"y\":\"<tag>Machine Learning\",\"yref\":\"y\"},{\"font\":{\"color\":\"#FFFFFF\"},\"showarrow\":false,\"text\":\"-0.12\",\"x\":\"days_since_publication\",\"xref\":\"x\",\"y\":\"<tag>Machine Learning\",\"yref\":\"y\"},{\"font\":{\"color\":\"#000000\"},\"showarrow\":false,\"text\":\"0.18\",\"x\":\"fans\",\"xref\":\"x\",\"y\":\"<tag>Machine Learning\",\"yref\":\"y\"},{\"font\":{\"color\":\"#FFFFFF\"},\"showarrow\":false,\"text\":\"0.08\",\"x\":\"num_responses\",\"xref\":\"x\",\"y\":\"<tag>Machine Learning\",\"yref\":\"y\"},{\"font\":{\"color\":\"#FFFFFF\"},\"showarrow\":false,\"text\":\"-0.32\",\"x\":\"read_ratio\",\"xref\":\"x\",\"y\":\"<tag>Machine Learning\",\"yref\":\"y\"},{\"font\":{\"color\":\"#000000\"},\"showarrow\":false,\"text\":\"0.21\",\"x\":\"read_time\",\"xref\":\"x\",\"y\":\"<tag>Machine Learning\",\"yref\":\"y\"},{\"font\":{\"color\":\"#000000\"},\"showarrow\":false,\"text\":\"0.2\",\"x\":\"reads\",\"xref\":\"x\",\"y\":\"<tag>Machine Learning\",\"yref\":\"y\"},{\"font\":{\"color\":\"#000000\"},\"showarrow\":false,\"text\":\"0.26\",\"x\":\"title_word_count\",\"xref\":\"x\",\"y\":\"<tag>Machine Learning\",\"yref\":\"y\"},{\"font\":{\"color\":\"#000000\"},\"showarrow\":false,\"text\":\"0.28\",\"x\":\"views\",\"xref\":\"x\",\"y\":\"<tag>Machine Learning\",\"yref\":\"y\"},{\"font\":{\"color\":\"#000000\"},\"showarrow\":false,\"text\":\"0.19\",\"x\":\"word_count\",\"xref\":\"x\",\"y\":\"<tag>Machine Learning\",\"yref\":\"y\"},{\"font\":{\"color\":\"#FFFFFF\"},\"showarrow\":false,\"text\":\"-0.03\",\"x\":\"claps_per_word\",\"xref\":\"x\",\"y\":\"<tag>Machine Learning\",\"yref\":\"y\"},{\"font\":{\"color\":\"#000000\"},\"showarrow\":false,\"text\":\"0.25\",\"x\":\"editing_days\",\"xref\":\"x\",\"y\":\"<tag>Machine Learning\",\"yref\":\"y\"},{\"font\":{\"color\":\"#000000\"},\"showarrow\":false,\"text\":\"0.13\",\"x\":\"<tag>Education\",\"xref\":\"x\",\"y\":\"<tag>Machine Learning\",\"yref\":\"y\"},{\"font\":{\"color\":\"#000000\"},\"showarrow\":false,\"text\":\"0.33\",\"x\":\"<tag>Data Science\",\"xref\":\"x\",\"y\":\"<tag>Machine Learning\",\"yref\":\"y\"},{\"font\":{\"color\":\"#000000\"},\"showarrow\":false,\"text\":\"0.17\",\"x\":\"<tag>Towards Data Science\",\"xref\":\"x\",\"y\":\"<tag>Machine Learning\",\"yref\":\"y\"},{\"font\":{\"color\":\"#000000\"},\"showarrow\":false,\"text\":\"1.0\",\"x\":\"<tag>Machine Learning\",\"xref\":\"x\",\"y\":\"<tag>Machine Learning\",\"yref\":\"y\"},{\"font\":{\"color\":\"#000000\"},\"showarrow\":false,\"text\":\"0.26\",\"x\":\"<tag>Python\",\"xref\":\"x\",\"y\":\"<tag>Machine Learning\",\"yref\":\"y\"},{\"font\":{\"color\":\"#FFFFFF\"},\"showarrow\":false,\"text\":\"-0.05\",\"x\":\"time_started\",\"xref\":\"x\",\"y\":\"<tag>Machine Learning\",\"yref\":\"y\"},{\"font\":{\"color\":\"#FFFFFF\"},\"showarrow\":false,\"text\":\"0.02\",\"x\":\"time_published\",\"xref\":\"x\",\"y\":\"<tag>Machine Learning\",\"yref\":\"y\"},{\"font\":{\"color\":\"#000000\"},\"showarrow\":false,\"text\":\"0.29\",\"x\":\"claps\",\"xref\":\"x\",\"y\":\"<tag>Python\",\"yref\":\"y\"},{\"font\":{\"color\":\"#FFFFFF\"},\"showarrow\":false,\"text\":\"0.11\",\"x\":\"days_since_publication\",\"xref\":\"x\",\"y\":\"<tag>Python\",\"yref\":\"y\"},{\"font\":{\"color\":\"#000000\"},\"showarrow\":false,\"text\":\"0.29\",\"x\":\"fans\",\"xref\":\"x\",\"y\":\"<tag>Python\",\"yref\":\"y\"},{\"font\":{\"color\":\"#000000\"},\"showarrow\":false,\"text\":\"0.29\",\"x\":\"num_responses\",\"xref\":\"x\",\"y\":\"<tag>Python\",\"yref\":\"y\"},{\"font\":{\"color\":\"#FFFFFF\"},\"showarrow\":false,\"text\":\"-0.2\",\"x\":\"read_ratio\",\"xref\":\"x\",\"y\":\"<tag>Python\",\"yref\":\"y\"},{\"font\":{\"color\":\"#FFFFFF\"},\"showarrow\":false,\"text\":\"0.09\",\"x\":\"read_time\",\"xref\":\"x\",\"y\":\"<tag>Python\",\"yref\":\"y\"},{\"font\":{\"color\":\"#000000\"},\"showarrow\":false,\"text\":\"0.39\",\"x\":\"reads\",\"xref\":\"x\",\"y\":\"<tag>Python\",\"yref\":\"y\"},{\"font\":{\"color\":\"#000000\"},\"showarrow\":false,\"text\":\"0.27\",\"x\":\"title_word_count\",\"xref\":\"x\",\"y\":\"<tag>Python\",\"yref\":\"y\"},{\"font\":{\"color\":\"#000000\"},\"showarrow\":false,\"text\":\"0.43\",\"x\":\"views\",\"xref\":\"x\",\"y\":\"<tag>Python\",\"yref\":\"y\"},{\"font\":{\"color\":\"#FFFFFF\"},\"showarrow\":false,\"text\":\"0.03\",\"x\":\"word_count\",\"xref\":\"x\",\"y\":\"<tag>Python\",\"yref\":\"y\"},{\"font\":{\"color\":\"#000000\"},\"showarrow\":false,\"text\":\"0.21\",\"x\":\"claps_per_word\",\"xref\":\"x\",\"y\":\"<tag>Python\",\"yref\":\"y\"},{\"font\":{\"color\":\"#FFFFFF\"},\"showarrow\":false,\"text\":\"-0.17\",\"x\":\"editing_days\",\"xref\":\"x\",\"y\":\"<tag>Python\",\"yref\":\"y\"},{\"font\":{\"color\":\"#FFFFFF\"},\"showarrow\":false,\"text\":\"-0.09\",\"x\":\"<tag>Education\",\"xref\":\"x\",\"y\":\"<tag>Python\",\"yref\":\"y\"},{\"font\":{\"color\":\"#FFFFFF\"},\"showarrow\":false,\"text\":\"0.07\",\"x\":\"<tag>Data Science\",\"xref\":\"x\",\"y\":\"<tag>Python\",\"yref\":\"y\"},{\"font\":{\"color\":\"#000000\"},\"showarrow\":false,\"text\":\"0.25\",\"x\":\"<tag>Towards Data Science\",\"xref\":\"x\",\"y\":\"<tag>Python\",\"yref\":\"y\"},{\"font\":{\"color\":\"#000000\"},\"showarrow\":false,\"text\":\"0.26\",\"x\":\"<tag>Machine Learning\",\"xref\":\"x\",\"y\":\"<tag>Python\",\"yref\":\"y\"},{\"font\":{\"color\":\"#000000\"},\"showarrow\":false,\"text\":\"1.0\",\"x\":\"<tag>Python\",\"xref\":\"x\",\"y\":\"<tag>Python\",\"yref\":\"y\"},{\"font\":{\"color\":\"#FFFFFF\"},\"showarrow\":false,\"text\":\"-0.07\",\"x\":\"time_started\",\"xref\":\"x\",\"y\":\"<tag>Python\",\"yref\":\"y\"},{\"font\":{\"color\":\"#FFFFFF\"},\"showarrow\":false,\"text\":\"-0.05\",\"x\":\"time_published\",\"xref\":\"x\",\"y\":\"<tag>Python\",\"yref\":\"y\"},{\"font\":{\"color\":\"#FFFFFF\"},\"showarrow\":false,\"text\":\"-0.04\",\"x\":\"claps\",\"xref\":\"x\",\"y\":\"time_started\",\"yref\":\"y\"},{\"font\":{\"color\":\"#FFFFFF\"},\"showarrow\":false,\"text\":\"0.11\",\"x\":\"days_since_publication\",\"xref\":\"x\",\"y\":\"time_started\",\"yref\":\"y\"},{\"font\":{\"color\":\"#FFFFFF\"},\"showarrow\":false,\"text\":\"-0.04\",\"x\":\"fans\",\"xref\":\"x\",\"y\":\"time_started\",\"yref\":\"y\"},{\"font\":{\"color\":\"#FFFFFF\"},\"showarrow\":false,\"text\":\"-0.02\",\"x\":\"num_responses\",\"xref\":\"x\",\"y\":\"time_started\",\"yref\":\"y\"},{\"font\":{\"color\":\"#FFFFFF\"},\"showarrow\":false,\"text\":\"-0.01\",\"x\":\"read_ratio\",\"xref\":\"x\",\"y\":\"time_started\",\"yref\":\"y\"},{\"font\":{\"color\":\"#FFFFFF\"},\"showarrow\":false,\"text\":\"-0.14\",\"x\":\"read_time\",\"xref\":\"x\",\"y\":\"time_started\",\"yref\":\"y\"},{\"font\":{\"color\":\"#FFFFFF\"},\"showarrow\":false,\"text\":\"0.02\",\"x\":\"reads\",\"xref\":\"x\",\"y\":\"time_started\",\"yref\":\"y\"},{\"font\":{\"color\":\"#FFFFFF\"},\"showarrow\":false,\"text\":\"-0.05\",\"x\":\"title_word_count\",\"xref\":\"x\",\"y\":\"time_started\",\"yref\":\"y\"},{\"font\":{\"color\":\"#FFFFFF\"},\"showarrow\":false,\"text\":\"0.01\",\"x\":\"views\",\"xref\":\"x\",\"y\":\"time_started\",\"yref\":\"y\"},{\"font\":{\"color\":\"#FFFFFF\"},\"showarrow\":false,\"text\":\"-0.13\",\"x\":\"word_count\",\"xref\":\"x\",\"y\":\"time_started\",\"yref\":\"y\"},{\"font\":{\"color\":\"#FFFFFF\"},\"showarrow\":false,\"text\":\"-0.09\",\"x\":\"claps_per_word\",\"xref\":\"x\",\"y\":\"time_started\",\"yref\":\"y\"},{\"font\":{\"color\":\"#FFFFFF\"},\"showarrow\":false,\"text\":\"-0.31\",\"x\":\"editing_days\",\"xref\":\"x\",\"y\":\"time_started\",\"yref\":\"y\"},{\"font\":{\"color\":\"#FFFFFF\"},\"showarrow\":false,\"text\":\"-0.08\",\"x\":\"<tag>Education\",\"xref\":\"x\",\"y\":\"time_started\",\"yref\":\"y\"},{\"font\":{\"color\":\"#FFFFFF\"},\"showarrow\":false,\"text\":\"0.01\",\"x\":\"<tag>Data Science\",\"xref\":\"x\",\"y\":\"time_started\",\"yref\":\"y\"},{\"font\":{\"color\":\"#FFFFFF\"},\"showarrow\":false,\"text\":\"-0.01\",\"x\":\"<tag>Towards Data Science\",\"xref\":\"x\",\"y\":\"time_started\",\"yref\":\"y\"},{\"font\":{\"color\":\"#FFFFFF\"},\"showarrow\":false,\"text\":\"-0.05\",\"x\":\"<tag>Machine Learning\",\"xref\":\"x\",\"y\":\"time_started\",\"yref\":\"y\"},{\"font\":{\"color\":\"#FFFFFF\"},\"showarrow\":false,\"text\":\"-0.07\",\"x\":\"<tag>Python\",\"xref\":\"x\",\"y\":\"time_started\",\"yref\":\"y\"},{\"font\":{\"color\":\"#000000\"},\"showarrow\":false,\"text\":\"1.0\",\"x\":\"time_started\",\"xref\":\"x\",\"y\":\"time_started\",\"yref\":\"y\"},{\"font\":{\"color\":\"#FFFFFF\"},\"showarrow\":false,\"text\":\"0.02\",\"x\":\"time_published\",\"xref\":\"x\",\"y\":\"time_started\",\"yref\":\"y\"},{\"font\":{\"color\":\"#FFFFFF\"},\"showarrow\":false,\"text\":\"-0.2\",\"x\":\"claps\",\"xref\":\"x\",\"y\":\"time_published\",\"yref\":\"y\"},{\"font\":{\"color\":\"#FFFFFF\"},\"showarrow\":false,\"text\":\"-0.01\",\"x\":\"days_since_publication\",\"xref\":\"x\",\"y\":\"time_published\",\"yref\":\"y\"},{\"font\":{\"color\":\"#FFFFFF\"},\"showarrow\":false,\"text\":\"-0.18\",\"x\":\"fans\",\"xref\":\"x\",\"y\":\"time_published\",\"yref\":\"y\"},{\"font\":{\"color\":\"#FFFFFF\"},\"showarrow\":false,\"text\":\"-0.19\",\"x\":\"num_responses\",\"xref\":\"x\",\"y\":\"time_published\",\"yref\":\"y\"},{\"font\":{\"color\":\"#FFFFFF\"},\"showarrow\":false,\"text\":\"0.0\",\"x\":\"read_ratio\",\"xref\":\"x\",\"y\":\"time_published\",\"yref\":\"y\"},{\"font\":{\"color\":\"#000000\"},\"showarrow\":false,\"text\":\"0.14\",\"x\":\"read_time\",\"xref\":\"x\",\"y\":\"time_published\",\"yref\":\"y\"},{\"font\":{\"color\":\"#FFFFFF\"},\"showarrow\":false,\"text\":\"-0.09\",\"x\":\"reads\",\"xref\":\"x\",\"y\":\"time_published\",\"yref\":\"y\"},{\"font\":{\"color\":\"#FFFFFF\"},\"showarrow\":false,\"text\":\"-0.21\",\"x\":\"title_word_count\",\"xref\":\"x\",\"y\":\"time_published\",\"yref\":\"y\"},{\"font\":{\"color\":\"#FFFFFF\"},\"showarrow\":false,\"text\":\"-0.09\",\"x\":\"views\",\"xref\":\"x\",\"y\":\"time_published\",\"yref\":\"y\"},{\"font\":{\"color\":\"#000000\"},\"showarrow\":false,\"text\":\"0.12\",\"x\":\"word_count\",\"xref\":\"x\",\"y\":\"time_published\",\"yref\":\"y\"},{\"font\":{\"color\":\"#FFFFFF\"},\"showarrow\":false,\"text\":\"-0.13\",\"x\":\"claps_per_word\",\"xref\":\"x\",\"y\":\"time_published\",\"yref\":\"y\"},{\"font\":{\"color\":\"#000000\"},\"showarrow\":false,\"text\":\"0.29\",\"x\":\"editing_days\",\"xref\":\"x\",\"y\":\"time_published\",\"yref\":\"y\"},{\"font\":{\"color\":\"#FFFFFF\"},\"showarrow\":false,\"text\":\"-0.13\",\"x\":\"<tag>Education\",\"xref\":\"x\",\"y\":\"time_published\",\"yref\":\"y\"},{\"font\":{\"color\":\"#FFFFFF\"},\"showarrow\":false,\"text\":\"0.02\",\"x\":\"<tag>Data Science\",\"xref\":\"x\",\"y\":\"time_published\",\"yref\":\"y\"},{\"font\":{\"color\":\"#FFFFFF\"},\"showarrow\":false,\"text\":\"-0.24\",\"x\":\"<tag>Towards Data Science\",\"xref\":\"x\",\"y\":\"time_published\",\"yref\":\"y\"},{\"font\":{\"color\":\"#FFFFFF\"},\"showarrow\":false,\"text\":\"0.02\",\"x\":\"<tag>Machine Learning\",\"xref\":\"x\",\"y\":\"time_published\",\"yref\":\"y\"},{\"font\":{\"color\":\"#FFFFFF\"},\"showarrow\":false,\"text\":\"-0.05\",\"x\":\"<tag>Python\",\"xref\":\"x\",\"y\":\"time_published\",\"yref\":\"y\"},{\"font\":{\"color\":\"#FFFFFF\"},\"showarrow\":false,\"text\":\"0.02\",\"x\":\"time_started\",\"xref\":\"x\",\"y\":\"time_published\",\"yref\":\"y\"},{\"font\":{\"color\":\"#000000\"},\"showarrow\":false,\"text\":\"1.0\",\"x\":\"time_published\",\"xref\":\"x\",\"y\":\"time_published\",\"yref\":\"y\"}],\"template\":{\"data\":{\"bar\":[{\"error_x\":{\"color\":\"#2a3f5f\"},\"error_y\":{\"color\":\"#2a3f5f\"},\"marker\":{\"line\":{\"color\":\"#E5ECF6\",\"width\":0.5},\"pattern\":{\"fillmode\":\"overlay\",\"size\":10,\"solidity\":0.2}},\"type\":\"bar\"}],\"barpolar\":[{\"marker\":{\"line\":{\"color\":\"#E5ECF6\",\"width\":0.5},\"pattern\":{\"fillmode\":\"overlay\",\"size\":10,\"solidity\":0.2}},\"type\":\"barpolar\"}],\"carpet\":[{\"aaxis\":{\"endlinecolor\":\"#2a3f5f\",\"gridcolor\":\"white\",\"linecolor\":\"white\",\"minorgridcolor\":\"white\",\"startlinecolor\":\"#2a3f5f\"},\"baxis\":{\"endlinecolor\":\"#2a3f5f\",\"gridcolor\":\"white\",\"linecolor\":\"white\",\"minorgridcolor\":\"white\",\"startlinecolor\":\"#2a3f5f\"},\"type\":\"carpet\"}],\"choropleth\":[{\"colorbar\":{\"outlinewidth\":0,\"ticks\":\"\"},\"type\":\"choropleth\"}],\"contour\":[{\"colorbar\":{\"outlinewidth\":0,\"ticks\":\"\"},\"colorscale\":[[0.0,\"#0d0887\"],[0.1111111111111111,\"#46039f\"],[0.2222222222222222,\"#7201a8\"],[0.3333333333333333,\"#9c179e\"],[0.4444444444444444,\"#bd3786\"],[0.5555555555555556,\"#d8576b\"],[0.6666666666666666,\"#ed7953\"],[0.7777777777777778,\"#fb9f3a\"],[0.8888888888888888,\"#fdca26\"],[1.0,\"#f0f921\"]],\"type\":\"contour\"}],\"contourcarpet\":[{\"colorbar\":{\"outlinewidth\":0,\"ticks\":\"\"},\"type\":\"contourcarpet\"}],\"heatmap\":[{\"colorbar\":{\"outlinewidth\":0,\"ticks\":\"\"},\"colorscale\":[[0.0,\"#0d0887\"],[0.1111111111111111,\"#46039f\"],[0.2222222222222222,\"#7201a8\"],[0.3333333333333333,\"#9c179e\"],[0.4444444444444444,\"#bd3786\"],[0.5555555555555556,\"#d8576b\"],[0.6666666666666666,\"#ed7953\"],[0.7777777777777778,\"#fb9f3a\"],[0.8888888888888888,\"#fdca26\"],[1.0,\"#f0f921\"]],\"type\":\"heatmap\"}],\"heatmapgl\":[{\"colorbar\":{\"outlinewidth\":0,\"ticks\":\"\"},\"colorscale\":[[0.0,\"#0d0887\"],[0.1111111111111111,\"#46039f\"],[0.2222222222222222,\"#7201a8\"],[0.3333333333333333,\"#9c179e\"],[0.4444444444444444,\"#bd3786\"],[0.5555555555555556,\"#d8576b\"],[0.6666666666666666,\"#ed7953\"],[0.7777777777777778,\"#fb9f3a\"],[0.8888888888888888,\"#fdca26\"],[1.0,\"#f0f921\"]],\"type\":\"heatmapgl\"}],\"histogram\":[{\"marker\":{\"pattern\":{\"fillmode\":\"overlay\",\"size\":10,\"solidity\":0.2}},\"type\":\"histogram\"}],\"histogram2d\":[{\"colorbar\":{\"outlinewidth\":0,\"ticks\":\"\"},\"colorscale\":[[0.0,\"#0d0887\"],[0.1111111111111111,\"#46039f\"],[0.2222222222222222,\"#7201a8\"],[0.3333333333333333,\"#9c179e\"],[0.4444444444444444,\"#bd3786\"],[0.5555555555555556,\"#d8576b\"],[0.6666666666666666,\"#ed7953\"],[0.7777777777777778,\"#fb9f3a\"],[0.8888888888888888,\"#fdca26\"],[1.0,\"#f0f921\"]],\"type\":\"histogram2d\"}],\"histogram2dcontour\":[{\"colorbar\":{\"outlinewidth\":0,\"ticks\":\"\"},\"colorscale\":[[0.0,\"#0d0887\"],[0.1111111111111111,\"#46039f\"],[0.2222222222222222,\"#7201a8\"],[0.3333333333333333,\"#9c179e\"],[0.4444444444444444,\"#bd3786\"],[0.5555555555555556,\"#d8576b\"],[0.6666666666666666,\"#ed7953\"],[0.7777777777777778,\"#fb9f3a\"],[0.8888888888888888,\"#fdca26\"],[1.0,\"#f0f921\"]],\"type\":\"histogram2dcontour\"}],\"mesh3d\":[{\"colorbar\":{\"outlinewidth\":0,\"ticks\":\"\"},\"type\":\"mesh3d\"}],\"parcoords\":[{\"line\":{\"colorbar\":{\"outlinewidth\":0,\"ticks\":\"\"}},\"type\":\"parcoords\"}],\"pie\":[{\"automargin\":true,\"type\":\"pie\"}],\"scatter\":[{\"marker\":{\"colorbar\":{\"outlinewidth\":0,\"ticks\":\"\"}},\"type\":\"scatter\"}],\"scatter3d\":[{\"line\":{\"colorbar\":{\"outlinewidth\":0,\"ticks\":\"\"}},\"marker\":{\"colorbar\":{\"outlinewidth\":0,\"ticks\":\"\"}},\"type\":\"scatter3d\"}],\"scattercarpet\":[{\"marker\":{\"colorbar\":{\"outlinewidth\":0,\"ticks\":\"\"}},\"type\":\"scattercarpet\"}],\"scattergeo\":[{\"marker\":{\"colorbar\":{\"outlinewidth\":0,\"ticks\":\"\"}},\"type\":\"scattergeo\"}],\"scattergl\":[{\"marker\":{\"colorbar\":{\"outlinewidth\":0,\"ticks\":\"\"}},\"type\":\"scattergl\"}],\"scattermapbox\":[{\"marker\":{\"colorbar\":{\"outlinewidth\":0,\"ticks\":\"\"}},\"type\":\"scattermapbox\"}],\"scatterpolar\":[{\"marker\":{\"colorbar\":{\"outlinewidth\":0,\"ticks\":\"\"}},\"type\":\"scatterpolar\"}],\"scatterpolargl\":[{\"marker\":{\"colorbar\":{\"outlinewidth\":0,\"ticks\":\"\"}},\"type\":\"scatterpolargl\"}],\"scatterternary\":[{\"marker\":{\"colorbar\":{\"outlinewidth\":0,\"ticks\":\"\"}},\"type\":\"scatterternary\"}],\"surface\":[{\"colorbar\":{\"outlinewidth\":0,\"ticks\":\"\"},\"colorscale\":[[0.0,\"#0d0887\"],[0.1111111111111111,\"#46039f\"],[0.2222222222222222,\"#7201a8\"],[0.3333333333333333,\"#9c179e\"],[0.4444444444444444,\"#bd3786\"],[0.5555555555555556,\"#d8576b\"],[0.6666666666666666,\"#ed7953\"],[0.7777777777777778,\"#fb9f3a\"],[0.8888888888888888,\"#fdca26\"],[1.0,\"#f0f921\"]],\"type\":\"surface\"}],\"table\":[{\"cells\":{\"fill\":{\"color\":\"#EBF0F8\"},\"line\":{\"color\":\"white\"}},\"header\":{\"fill\":{\"color\":\"#C8D4E3\"},\"line\":{\"color\":\"white\"}},\"type\":\"table\"}]},\"layout\":{\"annotationdefaults\":{\"arrowcolor\":\"#2a3f5f\",\"arrowhead\":0,\"arrowwidth\":1},\"autotypenumbers\":\"strict\",\"coloraxis\":{\"colorbar\":{\"outlinewidth\":0,\"ticks\":\"\"}},\"colorscale\":{\"diverging\":[[0,\"#8e0152\"],[0.1,\"#c51b7d\"],[0.2,\"#de77ae\"],[0.3,\"#f1b6da\"],[0.4,\"#fde0ef\"],[0.5,\"#f7f7f7\"],[0.6,\"#e6f5d0\"],[0.7,\"#b8e186\"],[0.8,\"#7fbc41\"],[0.9,\"#4d9221\"],[1,\"#276419\"]],\"sequential\":[[0.0,\"#0d0887\"],[0.1111111111111111,\"#46039f\"],[0.2222222222222222,\"#7201a8\"],[0.3333333333333333,\"#9c179e\"],[0.4444444444444444,\"#bd3786\"],[0.5555555555555556,\"#d8576b\"],[0.6666666666666666,\"#ed7953\"],[0.7777777777777778,\"#fb9f3a\"],[0.8888888888888888,\"#fdca26\"],[1.0,\"#f0f921\"]],\"sequentialminus\":[[0.0,\"#0d0887\"],[0.1111111111111111,\"#46039f\"],[0.2222222222222222,\"#7201a8\"],[0.3333333333333333,\"#9c179e\"],[0.4444444444444444,\"#bd3786\"],[0.5555555555555556,\"#d8576b\"],[0.6666666666666666,\"#ed7953\"],[0.7777777777777778,\"#fb9f3a\"],[0.8888888888888888,\"#fdca26\"],[1.0,\"#f0f921\"]]},\"colorway\":[\"#636efa\",\"#EF553B\",\"#00cc96\",\"#ab63fa\",\"#FFA15A\",\"#19d3f3\",\"#FF6692\",\"#B6E880\",\"#FF97FF\",\"#FECB52\"],\"font\":{\"color\":\"#2a3f5f\"},\"geo\":{\"bgcolor\":\"white\",\"lakecolor\":\"white\",\"landcolor\":\"#E5ECF6\",\"showlakes\":true,\"showland\":true,\"subunitcolor\":\"white\"},\"hoverlabel\":{\"align\":\"left\"},\"hovermode\":\"closest\",\"mapbox\":{\"style\":\"light\"},\"paper_bgcolor\":\"white\",\"plot_bgcolor\":\"#E5ECF6\",\"polar\":{\"angularaxis\":{\"gridcolor\":\"white\",\"linecolor\":\"white\",\"ticks\":\"\"},\"bgcolor\":\"#E5ECF6\",\"radialaxis\":{\"gridcolor\":\"white\",\"linecolor\":\"white\",\"ticks\":\"\"}},\"scene\":{\"xaxis\":{\"backgroundcolor\":\"#E5ECF6\",\"gridcolor\":\"white\",\"gridwidth\":2,\"linecolor\":\"white\",\"showbackground\":true,\"ticks\":\"\",\"zerolinecolor\":\"white\"},\"yaxis\":{\"backgroundcolor\":\"#E5ECF6\",\"gridcolor\":\"white\",\"gridwidth\":2,\"linecolor\":\"white\",\"showbackground\":true,\"ticks\":\"\",\"zerolinecolor\":\"white\"},\"zaxis\":{\"backgroundcolor\":\"#E5ECF6\",\"gridcolor\":\"white\",\"gridwidth\":2,\"linecolor\":\"white\",\"showbackground\":true,\"ticks\":\"\",\"zerolinecolor\":\"white\"}},\"shapedefaults\":{\"line\":{\"color\":\"#2a3f5f\"}},\"ternary\":{\"aaxis\":{\"gridcolor\":\"white\",\"linecolor\":\"white\",\"ticks\":\"\"},\"baxis\":{\"gridcolor\":\"white\",\"linecolor\":\"white\",\"ticks\":\"\"},\"bgcolor\":\"#E5ECF6\",\"caxis\":{\"gridcolor\":\"white\",\"linecolor\":\"white\",\"ticks\":\"\"}},\"title\":{\"x\":0.05},\"xaxis\":{\"automargin\":true,\"gridcolor\":\"white\",\"linecolor\":\"white\",\"ticks\":\"\",\"title\":{\"standoff\":15},\"zerolinecolor\":\"white\",\"zerolinewidth\":2},\"yaxis\":{\"automargin\":true,\"gridcolor\":\"white\",\"linecolor\":\"white\",\"ticks\":\"\",\"title\":{\"standoff\":15},\"zerolinecolor\":\"white\",\"zerolinewidth\":2}}},\"xaxis\":{\"dtick\":1,\"gridcolor\":\"rgb(0, 0, 0)\",\"side\":\"top\",\"ticks\":\"\"},\"yaxis\":{\"dtick\":1,\"ticks\":\"\",\"ticksuffix\":\"  \"}},                        {\"responsive\": true}                    ).then(function(){\n",
       "                            \n",
       "var gd = document.getElementById('d6f557db-ef5b-4af5-a683-3600c501d80c');\n",
       "var x = new MutationObserver(function (mutations, observer) {{\n",
       "        var display = window.getComputedStyle(gd).display;\n",
       "        if (!display || display === 'none') {{\n",
       "            console.log([gd, 'removed!']);\n",
       "            Plotly.purge(gd);\n",
       "            observer.disconnect();\n",
       "        }}\n",
       "}});\n",
       "\n",
       "// Listen for the removal of the full notebook cells\n",
       "var notebookContainer = gd.closest('#notebook-container');\n",
       "if (notebookContainer) {{\n",
       "    x.observe(notebookContainer, {childList: true});\n",
       "}}\n",
       "\n",
       "// Listen for the clearing of the current output cell\n",
       "var outputEl = gd.closest('.output');\n",
       "if (outputEl) {{\n",
       "    x.observe(outputEl, {childList: true});\n",
       "}}\n",
       "\n",
       "                        })                };                });            </script>        </div>"
      ]
     },
     "metadata": {},
     "output_type": "display_data"
    }
   ],
   "source": [
    "#2/ Correlation Heatmap\n",
    "corrs = df.corr()\n",
    "figure = ff.create_annotated_heatmap(\n",
    "    z=corrs.values,\n",
    "    x=list(corrs.columns),\n",
    "    y=list(corrs.index),\n",
    "    annotation_text=corrs.round(2).values,\n",
    "    showscale=True)\n",
    "iplot(figure)"
   ]
  },
  {
   "cell_type": "code",
   "execution_count": null,
   "id": "2b6fbb12",
   "metadata": {},
   "outputs": [],
   "source": []
  }
 ],
 "metadata": {
  "kernelspec": {
   "display_name": "Python 3",
   "language": "python",
   "name": "python3"
  },
  "language_info": {
   "codemirror_mode": {
    "name": "ipython",
    "version": 3
   },
   "file_extension": ".py",
   "mimetype": "text/x-python",
   "name": "python",
   "nbconvert_exporter": "python",
   "pygments_lexer": "ipython3",
   "version": "3.8.8"
  }
 },
 "nbformat": 4,
 "nbformat_minor": 5
}
